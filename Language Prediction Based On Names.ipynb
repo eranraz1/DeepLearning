{
 "cells": [
  {
   "cell_type": "markdown",
   "id": "01646c5b",
   "metadata": {},
   "source": [
    "## Language Prediction Based On Names"
   ]
  },
  {
   "cell_type": "raw",
   "id": "99c2cbda",
   "metadata": {},
   "source": [
    "MulticlassTextClassification_Characters\n",
    "\n",
    "CLASSIFYING NAMES WITH A CHARACTER-LEVEL RNN"
   ]
  },
  {
   "cell_type": "code",
   "execution_count": 90,
   "id": "557c6126",
   "metadata": {},
   "outputs": [
    {
     "name": "stdout",
     "output_type": "stream",
     "text": [
      "['datasets/data/names\\\\Arabic.txt', 'datasets/data/names\\\\Chinese.txt', 'datasets/data/names\\\\Czech.txt', 'datasets/data/names\\\\Dutch.txt', 'datasets/data/names\\\\English.txt', 'datasets/data/names\\\\French.txt', 'datasets/data/names\\\\German.txt', 'datasets/data/names\\\\Greek.txt', 'datasets/data/names\\\\Irish.txt', 'datasets/data/names\\\\Italian.txt', 'datasets/data/names\\\\Japanese.txt', 'datasets/data/names\\\\Korean.txt', 'datasets/data/names\\\\Polish.txt', 'datasets/data/names\\\\Portuguese.txt', 'datasets/data/names\\\\Russian.txt', 'datasets/data/names\\\\Scottish.txt', 'datasets/data/names\\\\Spanish.txt', 'datasets/data/names\\\\Vietnamese.txt']\n"
     ]
    }
   ],
   "source": [
    "from io import open\n",
    "import glob\n",
    "import os\n",
    "print(glob.glob('datasets/data/names/*.txt'))"
   ]
  },
  {
   "cell_type": "code",
   "execution_count": 91,
   "id": "705d690d",
   "metadata": {},
   "outputs": [
    {
     "data": {
      "text/plain": [
       "\"abcdefghijklmnopqrstuvwxyzABCDEFGHIJKLMNOPQRSTUVWXYZ .,;'\""
      ]
     },
     "execution_count": 91,
     "metadata": {},
     "output_type": "execute_result"
    }
   ],
   "source": [
    "import unicodedata\n",
    "import string\n",
    "\n",
    "all_letters = string.ascii_letters + \" .,;'\"\n",
    "n_letters = len(all_letters)\n",
    "\n",
    "all_letters"
   ]
  },
  {
   "cell_type": "code",
   "execution_count": 92,
   "id": "7c8ddd03",
   "metadata": {},
   "outputs": [
    {
     "data": {
      "text/plain": [
       "57"
      ]
     },
     "execution_count": 92,
     "metadata": {},
     "output_type": "execute_result"
    }
   ],
   "source": [
    "n_letters"
   ]
  },
  {
   "cell_type": "code",
   "execution_count": 93,
   "id": "934b14b1",
   "metadata": {},
   "outputs": [],
   "source": [
    " # Build the language_names dictionary, a list of names per language\n",
    "language_names = {}\n",
    "all_languages = []  "
   ]
  },
  {
   "cell_type": "raw",
   "id": "ef653058",
   "metadata": {},
   "source": [
    "Turn a Unicode string to plain ASCII (may alter the meaning of words)\n",
    "https://stackoverflow.com/questions/517923/what-is-the-best-way-to-remove-accents-in-a-python-unicode-string/518232#518232"
   ]
  },
  {
   "cell_type": "code",
   "execution_count": 94,
   "id": "cac57004",
   "metadata": {},
   "outputs": [],
   "source": [
    "def unicodeToAscii(s):\n",
    "    return ''.join(\n",
    "        c for c in unicodedata.normalize('NFD', s)\n",
    "        if unicodedata.category(c) != 'Mn'\n",
    "        and c in all_letters\n",
    "    )"
   ]
  },
  {
   "cell_type": "code",
   "execution_count": 95,
   "id": "6a0074a1",
   "metadata": {},
   "outputs": [
    {
     "name": "stdout",
     "output_type": "stream",
     "text": [
      "Emile\n"
     ]
    }
   ],
   "source": [
    "print(unicodeToAscii('Émile'))"
   ]
  },
  {
   "cell_type": "code",
   "execution_count": 96,
   "id": "6a509708",
   "metadata": {},
   "outputs": [],
   "source": [
    "def findFiles(path): \n",
    "    return glob.glob(path)"
   ]
  },
  {
   "cell_type": "code",
   "execution_count": 97,
   "id": "ed6ec9a7",
   "metadata": {},
   "outputs": [],
   "source": [
    "total_names = 0\n",
    "\n",
    "for filename in findFiles('datasets/data/names/*.txt'):\n",
    "    \n",
    "    language = os.path.splitext(os.path.basename(filename))[0]\n",
    "    \n",
    "    all_languages.append(language)\n",
    "    \n",
    "    read_names = open(filename, encoding='utf-8').read().strip().split('\\n')\n",
    "    \n",
    "    names = [unicodeToAscii(line) for line in read_names]\n",
    "    \n",
    "    language_names[language] = names\n",
    "    \n",
    "    total_names += len(names)"
   ]
  },
  {
   "cell_type": "code",
   "execution_count": 98,
   "id": "37b26045",
   "metadata": {},
   "outputs": [
    {
     "data": {
      "text/plain": [
       "dict_keys(['Arabic', 'Chinese', 'Czech', 'Dutch', 'English', 'French', 'German', 'Greek', 'Irish', 'Italian', 'Japanese', 'Korean', 'Polish', 'Portuguese', 'Russian', 'Scottish', 'Spanish', 'Vietnamese'])"
      ]
     },
     "execution_count": 98,
     "metadata": {},
     "output_type": "execute_result"
    }
   ],
   "source": [
    "language_names.keys()"
   ]
  },
  {
   "cell_type": "code",
   "execution_count": 99,
   "id": "d59edea9",
   "metadata": {},
   "outputs": [
    {
     "data": {
      "text/plain": [
       "['Espinosa', 'Espinoza', 'Estevez', 'Etxebarria', 'Etxeberria']"
      ]
     },
     "execution_count": 99,
     "metadata": {},
     "output_type": "execute_result"
    }
   ],
   "source": [
    "language_names['Spanish'][100:105]"
   ]
  },
  {
   "cell_type": "code",
   "execution_count": 100,
   "id": "89dc3fa6",
   "metadata": {},
   "outputs": [],
   "source": [
    "import torch"
   ]
  },
  {
   "cell_type": "code",
   "execution_count": 101,
   "id": "837a559d",
   "metadata": {},
   "outputs": [],
   "source": [
    "def letterToTensor(letter):\n",
    "    \n",
    "    tensor = torch.zeros(1, n_letters)\n",
    "    tensor[0][all_letters.find(letter)] = 1\n",
    "    \n",
    "    return tensor"
   ]
  },
  {
   "cell_type": "code",
   "execution_count": 102,
   "id": "96d3d920",
   "metadata": {},
   "outputs": [
    {
     "name": "stdout",
     "output_type": "stream",
     "text": [
      "tensor([[0., 0., 0., 0., 1., 0., 0., 0., 0., 0., 0., 0., 0., 0., 0., 0., 0., 0.,\n",
      "         0., 0., 0., 0., 0., 0., 0., 0., 0., 0., 0., 0., 0., 0., 0., 0., 0., 0.,\n",
      "         0., 0., 0., 0., 0., 0., 0., 0., 0., 0., 0., 0., 0., 0., 0., 0., 0., 0.,\n",
      "         0., 0., 0.]])\n"
     ]
    }
   ],
   "source": [
    "print(letterToTensor('e'))"
   ]
  },
  {
   "cell_type": "code",
   "execution_count": 103,
   "id": "616d355b",
   "metadata": {},
   "outputs": [],
   "source": [
    "def nameToTensor(name):\n",
    "    tensor = torch.zeros(len(name), 1, n_letters)\n",
    "    \n",
    "    for li, letter in enumerate(name):\n",
    "        tensor[li][0][all_letters.find(letter)] = 1\n",
    "    \n",
    "    return tensor"
   ]
  },
  {
   "cell_type": "code",
   "execution_count": 104,
   "id": "fb31d6d9",
   "metadata": {},
   "outputs": [
    {
     "data": {
      "text/plain": [
       "tensor([[[0., 0., 0., 0., 0., 0., 0., 0., 0., 0., 0., 0., 0., 0., 0., 0., 0.,\n",
       "          0., 0., 0., 0., 0., 0., 0., 0., 0., 0., 0., 0., 0., 1., 0., 0., 0.,\n",
       "          0., 0., 0., 0., 0., 0., 0., 0., 0., 0., 0., 0., 0., 0., 0., 0., 0.,\n",
       "          0., 0., 0., 0., 0., 0.]],\n",
       "\n",
       "        [[0., 0., 0., 0., 0., 0., 0., 0., 0., 0., 0., 0., 0., 0., 0., 0., 0.,\n",
       "          0., 1., 0., 0., 0., 0., 0., 0., 0., 0., 0., 0., 0., 0., 0., 0., 0.,\n",
       "          0., 0., 0., 0., 0., 0., 0., 0., 0., 0., 0., 0., 0., 0., 0., 0., 0.,\n",
       "          0., 0., 0., 0., 0., 0.]],\n",
       "\n",
       "        [[0., 0., 0., 0., 0., 0., 0., 0., 0., 0., 0., 0., 0., 0., 0., 0., 0.,\n",
       "          0., 0., 1., 0., 0., 0., 0., 0., 0., 0., 0., 0., 0., 0., 0., 0., 0.,\n",
       "          0., 0., 0., 0., 0., 0., 0., 0., 0., 0., 0., 0., 0., 0., 0., 0., 0.,\n",
       "          0., 0., 0., 0., 0., 0.]]])"
      ]
     },
     "execution_count": 104,
     "metadata": {},
     "output_type": "execute_result"
    }
   ],
   "source": [
    "nameToTensor('Est')"
   ]
  },
  {
   "cell_type": "code",
   "execution_count": 105,
   "id": "eac01d0c",
   "metadata": {},
   "outputs": [
    {
     "data": {
      "text/plain": [
       "torch.Size([3, 1, 57])"
      ]
     },
     "execution_count": 105,
     "metadata": {},
     "output_type": "execute_result"
    }
   ],
   "source": [
    "nameToTensor('Est').shape"
   ]
  },
  {
   "cell_type": "code",
   "execution_count": 106,
   "id": "3108f43e",
   "metadata": {},
   "outputs": [
    {
     "data": {
      "text/plain": [
       "torch.Size([3, 1, 57])"
      ]
     },
     "execution_count": 106,
     "metadata": {},
     "output_type": "execute_result"
    }
   ],
   "source": [
    "nameToTensor('Est').size()"
   ]
  },
  {
   "cell_type": "markdown",
   "id": "8e462cda",
   "metadata": {},
   "source": [
    "## Design the network"
   ]
  },
  {
   "cell_type": "code",
   "execution_count": 108,
   "id": "3a989447",
   "metadata": {},
   "outputs": [],
   "source": [
    "import torch.nn as nn\n",
    "\n",
    "class RNN(nn.Module):\n",
    "    \n",
    "    def __init__(self, input_size, hidden_size, output_size):\n",
    "        \n",
    "        super(RNN, self).__init__()\n",
    "\n",
    "        self.hidden_size = hidden_size\n",
    "# input 2 hidden > [current + input previus , hidden\n",
    "        self.i2h = nn.Linear(input_size + hidden_size, hidden_size) \n",
    "# input 2 output > [current + input previus , output]        \n",
    "        self.i2o = nn.Linear(input_size + hidden_size, output_size)\n",
    "        \n",
    "        self.softmax = nn.LogSoftmax(dim=1)\n",
    "\n",
    "    def forward(self, input, hidden):\n",
    "        combined = torch.cat((input, hidden), 1)\n",
    "        \n",
    "        hidden = self.i2h(combined)\n",
    "        \n",
    "        output = self.i2o(combined)\n",
    "        output = self.softmax(output)\n",
    "        \n",
    "        return output, hidden\n",
    "\n",
    "    def initHidden(self):\n",
    "        return torch.zeros(1, self.hidden_size)\n",
    "\n"
   ]
  },
  {
   "cell_type": "code",
   "execution_count": 113,
   "id": "490b59cc",
   "metadata": {},
   "outputs": [],
   "source": [
    "n_hidden = 256\n",
    "n_languages = len(all_languages)\n",
    "rnn = RNN(n_letters, n_hidden, n_languages)"
   ]
  },
  {
   "cell_type": "code",
   "execution_count": 151,
   "id": "faed1033",
   "metadata": {},
   "outputs": [
    {
     "data": {
      "text/plain": [
       "torch.Size([1, 57])"
      ]
     },
     "execution_count": 151,
     "metadata": {},
     "output_type": "execute_result"
    }
   ],
   "source": [
    "#### Manually testing the network\n",
    "\n",
    "inp = letterToTensor('Car')\n",
    "inp.shape"
   ]
  },
  {
   "cell_type": "code",
   "execution_count": 152,
   "id": "b8b46cf1",
   "metadata": {},
   "outputs": [
    {
     "data": {
      "text/plain": [
       "torch.Size([1, 256])"
      ]
     },
     "execution_count": 152,
     "metadata": {},
     "output_type": "execute_result"
    }
   ],
   "source": [
    "hidden = torch.zeros(1, n_hidden)\n",
    "hidden.shape"
   ]
  },
  {
   "cell_type": "code",
   "execution_count": 153,
   "id": "a93f799a",
   "metadata": {},
   "outputs": [],
   "source": [
    "output, next_hidden = rnn(inp, hidden)"
   ]
  },
  {
   "cell_type": "code",
   "execution_count": 154,
   "id": "f94108da",
   "metadata": {},
   "outputs": [
    {
     "data": {
      "text/plain": [
       "tensor([[0., 0., 0., 0., 0., 0., 0., 0., 0., 0., 0., 0., 0., 0., 0., 0., 0., 0., 0., 0., 0., 0., 0., 0.,\n",
       "         0., 0., 0., 0., 0., 0., 0., 0., 0., 0., 0., 0., 0., 0., 0., 0., 0., 0., 0., 0., 0., 0., 0., 0.,\n",
       "         0., 0., 0., 0., 0., 0., 0., 0., 0., 0., 0., 0., 0., 0., 0., 0., 0., 0., 0., 0., 0., 0., 0., 0.,\n",
       "         0., 0., 0., 0., 0., 0., 0., 0., 0., 0., 0., 0., 0., 0., 0., 0., 0., 0., 0., 0., 0., 0., 0., 0.,\n",
       "         0., 0., 0., 0., 0., 0., 0., 0., 0., 0., 0., 0., 0., 0., 0., 0., 0., 0., 0., 0., 0., 0., 0., 0.,\n",
       "         0., 0., 0., 0., 0., 0., 0., 0., 0., 0., 0., 0., 0., 0., 0., 0., 0., 0., 0., 0., 0., 0., 0., 0.,\n",
       "         0., 0., 0., 0., 0., 0., 0., 0., 0., 0., 0., 0., 0., 0., 0., 0., 0., 0., 0., 0., 0., 0., 0., 0.,\n",
       "         0., 0., 0., 0., 0., 0., 0., 0., 0., 0., 0., 0., 0., 0., 0., 0., 0., 0., 0., 0., 0., 0., 0., 0.,\n",
       "         0., 0., 0., 0., 0., 0., 0., 0., 0., 0., 0., 0., 0., 0., 0., 0., 0., 0., 0., 0., 0., 0., 0., 0.,\n",
       "         0., 0., 0., 0., 0., 0., 0., 0., 0., 0., 0., 0., 0., 0., 0., 0., 0., 0., 0., 0., 0., 0., 0., 0.,\n",
       "         0., 0., 0., 0., 0., 0., 0., 0., 0., 0., 0., 0., 0., 0., 0., 0.]])"
      ]
     },
     "execution_count": 154,
     "metadata": {},
     "output_type": "execute_result"
    }
   ],
   "source": [
    "hidden"
   ]
  },
  {
   "cell_type": "code",
   "execution_count": 155,
   "id": "63367063",
   "metadata": {},
   "outputs": [
    {
     "data": {
      "text/plain": [
       "tensor([[-2.8870, -2.9216, -2.9177, -2.8538, -2.8779, -2.9389, -2.8453, -2.8779,\n",
       "         -2.8443, -2.9169, -2.9111, -2.9028, -2.8058, -2.8975, -2.9242, -2.9375,\n",
       "         -2.8423, -2.9376]], grad_fn=<LogSoftmaxBackward>)"
      ]
     },
     "execution_count": 155,
     "metadata": {},
     "output_type": "execute_result"
    }
   ],
   "source": [
    "output"
   ]
  },
  {
   "cell_type": "code",
   "execution_count": 156,
   "id": "4c1b22f7",
   "metadata": {},
   "outputs": [
    {
     "name": "stdout",
     "output_type": "stream",
     "text": [
      "output size = torch.Size([1, 18])\n",
      "next_hidden size = torch.Size([1, 256])\n"
     ]
    }
   ],
   "source": [
    "print('output size =', output.size())\n",
    "print('next_hidden size =', next_hidden.size())"
   ]
  },
  {
   "cell_type": "code",
   "execution_count": 158,
   "id": "c804f4f1",
   "metadata": {},
   "outputs": [
    {
     "data": {
      "text/plain": [
       "tensor([[-2.8870, -2.9216, -2.9177, -2.8538, -2.8779, -2.9389, -2.8453, -2.8779,\n",
       "         -2.8443, -2.9169, -2.9111, -2.9028, -2.8058, -2.8975, -2.9242, -2.9375,\n",
       "         -2.8423, -2.9376]], grad_fn=<LogSoftmaxBackward>)"
      ]
     },
     "execution_count": 158,
     "metadata": {},
     "output_type": "execute_result"
    }
   ],
   "source": [
    "output\n"
   ]
  },
  {
   "cell_type": "code",
   "execution_count": 163,
   "id": "a708205e",
   "metadata": {},
   "outputs": [
    {
     "name": "stdout",
     "output_type": "stream",
     "text": [
      "torch.Size([1, 256])\n"
     ]
    }
   ],
   "source": [
    "print(next_hidden.shape)"
   ]
  },
  {
   "cell_type": "code",
   "execution_count": 165,
   "id": "50bf8944",
   "metadata": {},
   "outputs": [
    {
     "data": {
      "text/plain": [
       "torch.return_types.topk(\n",
       "values=tensor([[-2.8058, -2.8423, -2.8443]], grad_fn=<TopkBackward>),\n",
       "indices=tensor([[12, 16,  8]]))"
      ]
     },
     "execution_count": 165,
     "metadata": {},
     "output_type": "execute_result"
    }
   ],
   "source": [
    "output.topk(3)"
   ]
  },
  {
   "cell_type": "code",
   "execution_count": 167,
   "id": "4a0c0e39",
   "metadata": {},
   "outputs": [],
   "source": [
    "def languageFromOutput(output):\n",
    "    \n",
    "    _, top_i = output.topk(1)\n",
    "    \n",
    "    language_i = top_i[0].item()\n",
    "    \n",
    "    return all_languages[language_i], language_i"
   ]
  },
  {
   "cell_type": "code",
   "execution_count": 169,
   "id": "82feffd9",
   "metadata": {},
   "outputs": [
    {
     "name": "stdout",
     "output_type": "stream",
     "text": [
      "('Polish', 12)\n"
     ]
    }
   ],
   "source": [
    "print(languageFromOutput(output))"
   ]
  },
  {
   "cell_type": "markdown",
   "id": "d12c82cb",
   "metadata": {},
   "source": [
    "### random train "
   ]
  },
  {
   "cell_type": "code",
   "execution_count": 172,
   "id": "181a3510",
   "metadata": {},
   "outputs": [],
   "source": [
    "import random\n",
    "\n",
    "def randomTrainingExample():\n",
    "    \n",
    "    random_language_index = random.randint(0, n_languages - 1)\n",
    "    language = all_languages[random_language_index]\n",
    "    \n",
    "    random_language_names = language_names[language]\n",
    "    \n",
    "    name = random_language_names[random.randint(0, len(random_language_names) - 1)]\n",
    "    \n",
    "    language_tensor = torch.tensor([all_languages.index(language)], dtype=torch.long)\n",
    "    name_tensor = nameToTensor(name)\n",
    "    \n",
    "    return language, name, language_tensor, name_tensor"
   ]
  },
  {
   "cell_type": "code",
   "execution_count": 178,
   "id": "56d6b417",
   "metadata": {},
   "outputs": [
    {
     "name": "stdout",
     "output_type": "stream",
     "text": [
      "language = Scottish , name = Hunter    language_tensor = tensor([15])\n",
      "language = Dutch , name = Houttum    language_tensor = tensor([3])\n",
      "language = German , name = Mendelssohn    language_tensor = tensor([6])\n",
      "language = Italian , name = Fausti    language_tensor = tensor([9])\n",
      "language = Czech , name = Coma    language_tensor = tensor([2])\n",
      "language = Italian , name = Fonda    language_tensor = tensor([9])\n",
      "language = Italian , name = Vescovi    language_tensor = tensor([9])\n",
      "language = Italian , name = Carbone    language_tensor = tensor([9])\n",
      "language = Spanish , name = Gonzalez    language_tensor = tensor([16])\n",
      "language = Italian , name = Laconi    language_tensor = tensor([9])\n"
     ]
    }
   ],
   "source": [
    "for i in range(10):\n",
    "    language, name, language_tensor, name_tensor = randomTrainingExample()\n",
    "    \n",
    "    print('language =', language, ', name =', name, '   language_tensor =', language_tensor)"
   ]
  },
  {
   "cell_type": "markdown",
   "id": "6218b960",
   "metadata": {},
   "source": [
    "#### Training the Network"
   ]
  },
  {
   "cell_type": "code",
   "execution_count": 86,
   "id": "81d36d85",
   "metadata": {},
   "outputs": [],
   "source": [
    "criterion = nn.NLLLoss()\n",
    "learning_rate = 0.005 "
   ]
  },
  {
   "cell_type": "raw",
   "id": "0b54cf87",
   "metadata": {},
   "source": [
    "Each loop of training will:\n",
    "\n",
    "- Create input and target tensors\n",
    "- Create a zeroed initial hidden state\n",
    "- Read each letter in and\n",
    "- Keep hidden state for next letter\n",
    "- Compare final output to target\n",
    "- Back-propagate\n",
    "- Return the output and loss"
   ]
  },
  {
   "cell_type": "code",
   "execution_count": 189,
   "id": "f7be5e23",
   "metadata": {},
   "outputs": [],
   "source": [
    "def train(langauge_tensor, name_tensor):\n",
    "    \n",
    "    hidden = rnn.initHidden()\n",
    "\n",
    "    rnn.zero_grad()\n",
    "\n",
    "    for i in range(name_tensor.size()[0]):\n",
    "        output, hidden = rnn(name_tensor[i], hidden)\n",
    "\n",
    "    loss = criterion(output, langauge_tensor)\n",
    "    loss.backward()\n",
    "\n",
    "# writen optimizer     \n",
    "    for p in rnn.parameters():\n",
    "#         print ('rnn.parameters: ', (rnn.parameters())\n",
    "        p.data.add_(-learning_rate, p.grad.data)\n",
    "\n",
    "    return output, loss.item()"
   ]
  },
  {
   "cell_type": "code",
   "execution_count": 201,
   "id": "e24c568c",
   "metadata": {},
   "outputs": [],
   "source": [
    "n_iters = 20000\n",
    "\n",
    "current_loss = 0\n",
    "all_losses = []"
   ]
  },
  {
   "cell_type": "raw",
   "id": "f90ca2f1",
   "metadata": {},
   "source": [
    "- Get a random training input and target\n",
    "- Print iter number, loss, name and guess\n",
    "- Add current loss avg to list of losses"
   ]
  },
  {
   "cell_type": "code",
   "execution_count": 202,
   "id": "624e3e43",
   "metadata": {},
   "outputs": [
    {
     "name": "stdout",
     "output_type": "stream",
     "text": [
      "100 0% 1.5465 Esteves / Portuguese ✓\n",
      "200 1% 1.5746 Delaney / Irish ✓\n",
      "300 1% 3.5859 Petit / French ✗ (Spanish)\n",
      "400 2% 2.2289 Fuentes / Portuguese ✗ (Spanish)\n",
      "500 2% 1.1333 Alexander / Scottish ✓\n",
      "600 3% 2.9170 Friedrich / Irish ✗ (Czech)\n",
      "700 3% 0.1807 Albuquerque / Portuguese ✓\n",
      "800 4% 0.4635 Mifsud / Arabic ✓\n",
      "900 4% 3.8994 Beer / German ✗ (English)\n",
      "1000 5% 0.8931 Mayer / German ✓\n",
      "1100 5% 0.5899 Rutten / Dutch ✓\n",
      "1200 6% 1.5595 Chung / Korean ✗ (Vietnamese)\n",
      "1300 6% 0.3255 Lemieux / French ✓\n",
      "1400 7% 1.1861 Vennen / German ✗ (Dutch)\n",
      "1500 7% 0.0314 Mcdonald / Scottish ✓\n",
      "1600 8% 1.7866 Karl / German ✗ (Dutch)\n",
      "1700 8% 0.3980 Deulenko / Russian ✓\n",
      "1800 9% 0.2689 Thi / Vietnamese ✓\n",
      "1900 9% 0.2077 Kefalas / Greek ✓\n",
      "2000 10% 0.3241 Nevin / Irish ✓\n",
      "2100 10% 0.1096 Agnelli / Italian ✓\n",
      "2200 11% 2.4972 Seif / Chinese ✗ (Arabic)\n",
      "2300 11% 1.7057 Dounias / Portuguese ✗ (Greek)\n",
      "2400 12% 1.1986 Matsushina / Japanese ✓\n",
      "2500 12% 0.8931 Honjas / Greek ✓\n",
      "2600 13% 0.3418 Gorecki / Polish ✓\n",
      "2700 13% 0.8557 Avana / Spanish ✓\n",
      "2800 14% 3.0047 Neilsen / Dutch ✗ (English)\n",
      "2900 14% 0.5770 Mackenzie / Scottish ✓\n",
      "3000 15% 3.8783 Smit / French ✗ (Dutch)\n",
      "3100 15% 0.3064 Alvarez / Spanish ✓\n",
      "3200 16% 1.2214 Victors / French ✓\n",
      "3300 16% 0.3010 Choe / Korean ✓\n",
      "3400 17% 1.5160 Bruno / Scottish ✗ (Italian)\n",
      "3500 17% 1.7140 Hagias / Arabic ✗ (Greek)\n",
      "3600 18% 2.7849 Gouveia / Spanish ✗ (Portuguese)\n",
      "3700 18% 0.5161 Chung / Korean ✓\n",
      "3800 19% 1.6762 Krol / Korean ✗ (Polish)\n",
      "3900 19% 0.5674 Thi / Vietnamese ✓\n",
      "4000 20% 0.4899 Kolovos / Greek ✓\n",
      "4100 20% 1.7018 Wizner / German ✗ (Czech)\n",
      "4200 21% 2.4541 Abrahams / Greek ✗ (English)\n",
      "4300 21% 1.8677 Dziadik / Russian ✗ (Czech)\n",
      "4400 22% 2.0363 Grant / Vietnamese ✗ (Scottish)\n",
      "4500 22% 0.7366 Duguay / French ✓\n",
      "4600 23% 0.0291 Hazanov / Russian ✓\n",
      "4700 23% 0.0922 Grygarova / Czech ✓\n",
      "4800 24% 0.2595 Santini / Italian ✓\n",
      "4900 24% 1.7976 Sutton / French ✗ (English)\n",
      "5000 25% 0.6251 Torres / Portuguese ✓\n",
      "5100 25% 0.9009 Armati / Italian ✓\n",
      "5200 26% 0.0623 Alexander / Scottish ✓\n",
      "5300 26% 0.6404 Andreu / Spanish ✓\n",
      "5400 27% 1.5003 Cui / Korean ✗ (Chinese)\n",
      "5500 27% 2.9899 Kurian / Arabic ✗ (English)\n",
      "5600 28% 1.7092 Sitz / Chinese ✗ (German)\n",
      "5700 28% 1.4328 Klein / Dutch ✓\n",
      "5800 28% 2.7591 Sarna / Spanish ✗ (Czech)\n",
      "5900 29% 3.2131 Petersen / Dutch ✗ (Czech)\n",
      "6000 30% 0.3411 Drivakis / Greek ✓\n",
      "6100 30% 0.9322 Chan / Chinese ✓\n",
      "6200 31% 0.6842 Maradona / Spanish ✓\n",
      "6300 31% 1.0605 Worthington / Scottish ✗ (English)\n",
      "6400 32% 2.1092 Wolf / Scottish ✗ (German)\n",
      "6500 32% 0.4459 Machado / Portuguese ✓\n",
      "6600 33% 4.5372 Bartosz / German ✗ (Polish)\n",
      "6700 33% 1.1093 Jelinek / Polish ✗ (Czech)\n",
      "6800 34% 0.2037 Nanami / Japanese ✓\n",
      "6900 34% 0.0252 Lawniczak / Polish ✓\n",
      "7000 35% 1.0541 Lau / Vietnamese ✗ (Chinese)\n",
      "7100 35% 1.7944 Michalaras / Spanish ✗ (Greek)\n",
      "7200 36% 1.4337 Mata / Portuguese ✓\n",
      "7300 36% 0.7760 Diep / Vietnamese ✓\n",
      "7400 37% 0.5248 Sciacchitano / Italian ✓\n",
      "7500 37% 1.8482 Nunes / Dutch ✗ (Portuguese)\n",
      "7600 38% 1.8189 Schwarz / Polish ✗ (German)\n",
      "7700 38% 0.7458 Gomes / Portuguese ✓\n",
      "7800 39% 0.2388 Fung / Chinese ✓\n",
      "7900 39% 0.5167 Langer / German ✓\n",
      "8000 40% 1.8208 Navratil / French ✗ (Czech)\n",
      "8100 40% 0.7162 Gaber / Arabic ✓\n",
      "8200 41% 0.6632 Hew / Chinese ✓\n",
      "8300 41% 1.9769 Tremblay / English ✗ (French)\n",
      "8400 42% 3.5572 Rais / Portuguese ✗ (Italian)\n",
      "8500 42% 0.1030 Judanov / Russian ✓\n",
      "8600 43% 2.0913 Jones / Polish ✗ (English)\n",
      "8700 43% 0.4669 Kranz / German ✓\n",
      "8800 44% 1.0275 Bazzi / Arabic ✓\n",
      "8900 44% 3.9558 Marti / Italian ✗ (Spanish)\n",
      "9000 45% 1.4560 Miller / German ✗ (Scottish)\n",
      "9100 45% 1.2095 Shin / Korean ✓\n",
      "9200 46% 1.8120 Cameron / French ✗ (Scottish)\n",
      "9300 46% 1.6726 Germain / Irish ✗ (French)\n",
      "9400 47% 0.1335 Luong / Vietnamese ✓\n",
      "9500 47% 1.4035 Reinder / Portuguese ✗ (Dutch)\n",
      "9600 48% 0.4221 Salvage / French ✓\n",
      "9700 48% 0.8800 Faolan / Irish ✓\n",
      "9800 49% 0.3246 Kruger / German ✓\n",
      "9900 49% 2.1987 Safko / Polish ✗ (Czech)\n",
      "10000 50% 1.8426 Rang / Korean ✗ (Chinese)\n",
      "10100 50% 0.1901 Konstantatos / Greek ✓\n",
      "10200 51% 1.1987 Akechi / Arabic ✗ (Japanese)\n",
      "10300 51% 0.0497 Than / Vietnamese ✓\n",
      "10400 52% 2.2320 Barr / German ✗ (English)\n",
      "10500 52% 0.5217 Poplawski / Polish ✓\n",
      "10600 53% 3.0271 Ross / Greek ✗ (Scottish)\n",
      "10700 53% 2.7552 Klerkse / Greek ✗ (Dutch)\n",
      "10800 54% 0.3866 Coelho / Portuguese ✓\n",
      "10900 54% 1.6920 Tracey / Czech ✗ (Irish)\n",
      "11000 55% 0.8738 Shui / Chinese ✓\n",
      "11100 55% 0.0615 Tsahalis / Greek ✓\n",
      "11200 56% 0.8234 Zogby / Arabic ✓\n",
      "11300 56% 4.0611 Kasimor / Arabic ✗ (Czech)\n",
      "11400 56% 0.0006 Kouropoulos / Greek ✓\n",
      "11500 57% 1.9949 Tsucgimoto / Scottish ✗ (Japanese)\n",
      "11600 57% 0.4103 Mackay / Scottish ✓\n",
      "11700 58% 1.3093 Alfaro / Italian ✗ (Spanish)\n",
      "11800 59% 0.6560 Nussbaum / German ✓\n",
      "11900 59% 0.8476 Watt / Scottish ✓\n",
      "12000 60% 2.1572 Han / Chinese ✗ (Vietnamese)\n",
      "12100 60% 1.8662 Hannam / Arabic ✗ (English)\n",
      "12200 61% 1.9594 Cuoco / Portuguese ✗ (Italian)\n",
      "12300 61% 1.3796 Silveira / Czech ✗ (Portuguese)\n",
      "12400 62% 0.9054 Lawrie / English ✓\n",
      "12500 62% 2.9703 Hout / Korean ✗ (Dutch)\n",
      "12600 63% 0.0769 Kassis / Arabic ✓\n",
      "12700 63% 0.5082 Seok / Korean ✓\n",
      "12800 64% 2.1480 Cham / Vietnamese ✗ (Arabic)\n",
      "12900 64% 0.0997 Iwahara / Japanese ✓\n",
      "13000 65% 0.3951 Savchak / Czech ✓\n",
      "13100 65% 0.3852 Trang / Vietnamese ✓\n",
      "13200 66% 0.5902 Cervenka / Czech ✓\n",
      "13300 66% 0.0832 Huynh / Vietnamese ✓\n",
      "13400 67% 0.3451 Shim / Korean ✓\n",
      "13500 67% 1.0792 Yamaoka / Japanese ✓\n",
      "13600 68% 0.0119 Yakuta / Japanese ✓\n",
      "13700 68% 0.3113 Choi / Korean ✓\n",
      "13800 69% 2.7785 Rafaj / Arabic ✗ (Czech)\n",
      "13900 69% 0.6129 Kelly / Scottish ✓\n",
      "14000 70% 1.9713 Siegel / Czech ✗ (German)\n",
      "14100 70% 0.8674 Smets / Dutch ✓\n",
      "14200 71% 0.5520 Jirik / Czech ✓\n",
      "14300 71% 0.4386 Rodriguez / Spanish ✓\n",
      "14400 72% 4.1878 Comino / Portuguese ✗ (Greek)\n",
      "14500 72% 1.0505 Heintze / German ✓\n",
      "14600 73% 0.6367 Serafim / Portuguese ✓\n",
      "14700 73% 0.1340 Xie / Chinese ✓\n",
      "14800 74% 0.1030 Yasuda / Japanese ✓\n",
      "14900 74% 0.0260 Janowski / Polish ✓\n",
      "15000 75% 3.4488 Daal / Vietnamese ✗ (Dutch)\n",
      "15100 75% 1.8769 Castillo / Italian ✗ (Spanish)\n",
      "15200 76% 0.2700 Finnegan / Irish ✓\n",
      "15300 76% 0.1304 Rudaski / Polish ✓\n",
      "15400 77% 0.2411 Mishima / Japanese ✓\n",
      "15500 77% 0.0383 Wojewodzki / Polish ✓\n",
      "15600 78% 0.4934 Kogara / Japanese ✓\n",
      "15700 78% 0.2022 Macdonald / Scottish ✓\n",
      "15800 79% 0.0767 Poniros / Greek ✓\n",
      "15900 79% 2.0996 Basurto / Portuguese ✗ (Italian)\n",
      "16000 80% 0.2229 Kurzmann / German ✓\n",
      "16100 80% 1.8440 Tang / Vietnamese ✗ (Chinese)\n",
      "16200 81% 0.1594 Trinh / Vietnamese ✓\n",
      "16300 81% 0.5941 Paschalis / Greek ✓\n",
      "16400 82% 0.0857 Dioletis / Greek ✓\n",
      "16500 82% 0.1368 Demetrious / Greek ✓\n",
      "16600 83% 0.4491 Ukiyo / Japanese ✓\n",
      "16700 83% 0.7930 Ho / Vietnamese ✓\n",
      "16800 84% 0.5593 Sook / Korean ✓\n",
      "16900 84% 0.9062 Bobienski / Japanese ✗ (Polish)\n",
      "17000 85% 0.8160 D'cruze / Portuguese ✓\n",
      "17100 85% 1.5433 Oleastro / Portuguese ✗ (Spanish)\n",
      "17200 86% 0.1276 Kouros / Greek ✓\n",
      "17300 86% 1.0577 Otten / Dutch ✓\n",
      "17400 87% 0.0589 Gonzalez / Spanish ✓\n",
      "17500 87% 0.0658 Lindsay / Scottish ✓\n",
      "17600 88% 0.1998 Huynh / Vietnamese ✓\n",
      "17700 88% 1.7222 Frame / French ✗ (English)\n",
      "17800 89% 0.9524 Hoult / English ✓\n",
      "17900 89% 1.9851 Chin / Korean ✗ (Chinese)\n",
      "18000 90% 2.3810 Sai / Chinese ✗ (Vietnamese)\n",
      "18100 90% 0.2998 Kasprzak / Polish ✓\n",
      "18200 91% 2.5964 Favero / Portuguese ✗ (Italian)\n",
      "18300 91% 0.3581 Nicastro / Italian ✓\n",
      "18400 92% 0.4240 Kikui / Japanese ✓\n",
      "18500 92% 0.2995 Lac / Vietnamese ✓\n",
      "18600 93% 0.3979 Knochenmus / German ✓\n",
      "18700 93% 0.3179 Erizawa / Japanese ✓\n",
      "18800 94% 2.9008 Duncan / Irish ✗ (Scottish)\n",
      "18900 94% 0.3950 Monahan / Irish ✓\n",
      "19000 95% 3.1064 Salomon / French ✗ (Polish)\n",
      "19100 95% 1.0411 Kabaev / Arabic ✗ (Russian)\n",
      "19200 96% 1.0895 Gagne / French ✓\n",
      "19300 96% 0.2728 Sciacca / Italian ✓\n",
      "19400 97% 1.6528 Salazar / French ✗ (Spanish)\n",
      "19500 97% 7.6801 Remmer / German ✗ (Russian)\n",
      "19600 98% 0.6248 Salcedo / Spanish ✓\n",
      "19700 98% 1.9029 Kalb / Scottish ✗ (Arabic)\n",
      "19800 99% 0.4935 Camfrlova / Czech ✓\n",
      "19900 99% 0.5684 Lobo / Portuguese ✓\n",
      "20000 100% 0.6325 Seelen / Dutch ✓\n"
     ]
    }
   ],
   "source": [
    "for epoch in range(1, n_iters + 1):\n",
    "    \n",
    "    language, name, language_tensor, name_tensor = randomTrainingExample()\n",
    "    \n",
    "    output, loss = train(language_tensor, name_tensor)\n",
    "    current_loss += loss\n",
    "\n",
    "    if epoch % 100 == 0:\n",
    "        guess, guess_i = languageFromOutput(output)\n",
    "        correct = '✓' if guess == language else '✗ (%s)' % language\n",
    "        \n",
    "        print('%d %d%% %.4f %s / %s %s' % (epoch, \n",
    "                                           epoch / n_iters * 100,\n",
    "                                           loss,\n",
    "                                           name, \n",
    "                                           guess, \n",
    "                                           correct))\n",
    "\n",
    "    if epoch % 1000 == 0:\n",
    "        all_losses.append(current_loss / 1000)\n",
    "        current_loss = 0"
   ]
  },
  {
   "cell_type": "code",
   "execution_count": 203,
   "id": "b261dd54",
   "metadata": {},
   "outputs": [
    {
     "data": {
      "image/png": "[encoded data removed]",
      "text/plain": [
       "<Figure size 720x576 with 1 Axes>"
      ]
     },
     "metadata": {
      "needs_background": "light"
     },
     "output_type": "display_data"
    }
   ],
   "source": [
    "import matplotlib.pyplot as plt\n",
    "\n",
    "plt.figure(figsize=(10, 8))\n",
    "plt.plot(all_losses)\n",
    "plt.show()"
   ]
  },
  {
   "cell_type": "markdown",
   "id": "2279659d",
   "metadata": {},
   "source": [
    "#### Running on User Input"
   ]
  },
  {
   "cell_type": "code",
   "execution_count": 204,
   "id": "aae8167c",
   "metadata": {},
   "outputs": [],
   "source": [
    "n_predictions = 3"
   ]
  },
  {
   "cell_type": "code",
   "execution_count": 237,
   "id": "10def468",
   "metadata": {},
   "outputs": [],
   "source": [
    "input_name = 'ONeill' #Re-run for 'Amaya' and 'Bukoski'"
   ]
  },
  {
   "cell_type": "code",
   "execution_count": 238,
   "id": "591fa5a5",
   "metadata": {},
   "outputs": [
    {
     "name": "stdout",
     "output_type": "stream",
     "text": [
      "(-0.15) Irish\n",
      "(-3.34) English\n",
      "(-3.47) Spanish\n"
     ]
    }
   ],
   "source": [
    "with torch.no_grad():\n",
    "    \n",
    "    name_tensor = nameToTensor(input_name)\n",
    "    \n",
    "    hidden = rnn.initHidden()\n",
    "    for i in range(name_tensor.size()[0]):\n",
    "        output, hidden = rnn(name_tensor[i], hidden)\n",
    "\n",
    "    topv, topi = output.topk(n_predictions, 1, True)\n",
    "\n",
    "    for i in range(n_predictions):\n",
    "        \n",
    "        value = topv[0][i].item()\n",
    "        language_index = topi[0][i].item()\n",
    "        \n",
    "        print('(%.2f) %s' % (value, all_languages[language_index]))"
   ]
  },
  {
   "cell_type": "code",
   "execution_count": null,
   "id": "07326129",
   "metadata": {},
   "outputs": [],
   "source": []
  }
 ],
 "metadata": {
  "kernelspec": {
   "display_name": "Python 3",
   "language": "python",
   "name": "python3"
  },
  "language_info": {
   "codemirror_mode": {
    "name": "ipython",
    "version": 3
   },
   "file_extension": ".py",
   "mimetype": "text/x-python",
   "name": "python",
   "nbconvert_exporter": "python",
   "pygments_lexer": "ipython3",
   "version": "3.8.8"
  },
  "varInspector": {
   "cols": {
    "lenName": 16,
    "lenType": 16,
    "lenVar": 40
   },
   "kernels_config": {
    "python": {
     "delete_cmd_postfix": "",
     "delete_cmd_prefix": "del ",
     "library": "var_list.py",
     "varRefreshCmd": "print(var_dic_list())"
    },
    "r": {
     "delete_cmd_postfix": ") ",
     "delete_cmd_prefix": "rm(",
     "library": "var_list.r",
     "varRefreshCmd": "cat(var_dic_list()) "
    }
   },
   "types_to_exclude": [
    "module",
    "function",
    "builtin_function_or_method",
    "instance",
    "_Feature"
   ],
   "window_display": false
  }
 },
 "nbformat": 4,
 "nbformat_minor": 5
}
