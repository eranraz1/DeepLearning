{
 "cells": [
  {
   "cell_type": "code",
   "execution_count": 1,
   "id": "bf55b341",
   "metadata": {},
   "outputs": [],
   "source": [
    "import pandas as pd\n",
    "\n",
    "from sklearn.model_selection import train_test_split\n",
    "from sklearn.metrics import accuracy_score\n",
    "\n",
    "import  torchtext"
   ]
  },
  {
   "cell_type": "code",
   "execution_count": 2,
   "id": "3b0aae60",
   "metadata": {},
   "outputs": [
    {
     "data": {
      "text/html": [
       "<div>\n",
       "<style scoped>\n",
       "    .dataframe tbody tr th:only-of-type {\n",
       "        vertical-align: middle;\n",
       "    }\n",
       "\n",
       "    .dataframe tbody tr th {\n",
       "        vertical-align: top;\n",
       "    }\n",
       "\n",
       "    .dataframe thead th {\n",
       "        text-align: right;\n",
       "    }\n",
       "</style>\n",
       "<table border=\"1\" class=\"dataframe\">\n",
       "  <thead>\n",
       "    <tr style=\"text-align: right;\">\n",
       "      <th></th>\n",
       "      <th>v1</th>\n",
       "      <th>v2</th>\n",
       "      <th>Unnamed: 2</th>\n",
       "      <th>Unnamed: 3</th>\n",
       "      <th>Unnamed: 4</th>\n",
       "    </tr>\n",
       "  </thead>\n",
       "  <tbody>\n",
       "    <tr>\n",
       "      <th>0</th>\n",
       "      <td>ham</td>\n",
       "      <td>Go until jurong point, crazy.. Available only ...</td>\n",
       "      <td>NaN</td>\n",
       "      <td>NaN</td>\n",
       "      <td>NaN</td>\n",
       "    </tr>\n",
       "    <tr>\n",
       "      <th>1</th>\n",
       "      <td>ham</td>\n",
       "      <td>Ok lar... Joking wif u oni...</td>\n",
       "      <td>NaN</td>\n",
       "      <td>NaN</td>\n",
       "      <td>NaN</td>\n",
       "    </tr>\n",
       "    <tr>\n",
       "      <th>2</th>\n",
       "      <td>spam</td>\n",
       "      <td>Free entry in 2 a wkly comp to win FA Cup fina...</td>\n",
       "      <td>NaN</td>\n",
       "      <td>NaN</td>\n",
       "      <td>NaN</td>\n",
       "    </tr>\n",
       "    <tr>\n",
       "      <th>3</th>\n",
       "      <td>ham</td>\n",
       "      <td>U dun say so early hor... U c already then say...</td>\n",
       "      <td>NaN</td>\n",
       "      <td>NaN</td>\n",
       "      <td>NaN</td>\n",
       "    </tr>\n",
       "    <tr>\n",
       "      <th>4</th>\n",
       "      <td>ham</td>\n",
       "      <td>Nah I don't think he goes to usf, he lives aro...</td>\n",
       "      <td>NaN</td>\n",
       "      <td>NaN</td>\n",
       "      <td>NaN</td>\n",
       "    </tr>\n",
       "  </tbody>\n",
       "</table>\n",
       "</div>"
      ],
      "text/plain": [
       "     v1                                                 v2 Unnamed: 2  \\\n",
       "0   ham  Go until jurong point, crazy.. Available only ...        NaN   \n",
       "1   ham                      Ok lar... Joking wif u oni...        NaN   \n",
       "2  spam  Free entry in 2 a wkly comp to win FA Cup fina...        NaN   \n",
       "3   ham  U dun say so early hor... U c already then say...        NaN   \n",
       "4   ham  Nah I don't think he goes to usf, he lives aro...        NaN   \n",
       "\n",
       "  Unnamed: 3 Unnamed: 4  \n",
       "0        NaN        NaN  \n",
       "1        NaN        NaN  \n",
       "2        NaN        NaN  \n",
       "3        NaN        NaN  \n",
       "4        NaN        NaN  "
      ]
     },
     "execution_count": 2,
     "metadata": {},
     "output_type": "execute_result"
    }
   ],
   "source": [
    "data = pd.read_csv('datasets/ham-spam/spam.csv', encoding='latin-1')\n",
    "data.head()"
   ]
  },
  {
   "cell_type": "code",
   "execution_count": 5,
   "id": "0232d325",
   "metadata": {},
   "outputs": [],
   "source": [
    "data = data.drop(['Unnamed: 2', 'Unnamed: 3', 'Unnamed: 4'], axis = 1)"
   ]
  },
  {
   "cell_type": "code",
   "execution_count": 12,
   "id": "cbb8aca5",
   "metadata": {},
   "outputs": [
    {
     "data": {
      "text/html": [
       "<div>\n",
       "<style scoped>\n",
       "    .dataframe tbody tr th:only-of-type {\n",
       "        vertical-align: middle;\n",
       "    }\n",
       "\n",
       "    .dataframe tbody tr th {\n",
       "        vertical-align: top;\n",
       "    }\n",
       "\n",
       "    .dataframe thead th {\n",
       "        text-align: right;\n",
       "    }\n",
       "</style>\n",
       "<table border=\"1\" class=\"dataframe\">\n",
       "  <thead>\n",
       "    <tr style=\"text-align: right;\">\n",
       "      <th></th>\n",
       "      <th>v1</th>\n",
       "      <th>v2</th>\n",
       "    </tr>\n",
       "  </thead>\n",
       "  <tbody>\n",
       "    <tr>\n",
       "      <th>0</th>\n",
       "      <td>ham</td>\n",
       "      <td>Go until jurong point, crazy.. Available only ...</td>\n",
       "    </tr>\n",
       "    <tr>\n",
       "      <th>1</th>\n",
       "      <td>ham</td>\n",
       "      <td>Ok lar... Joking wif u oni...</td>\n",
       "    </tr>\n",
       "    <tr>\n",
       "      <th>2</th>\n",
       "      <td>spam</td>\n",
       "      <td>Free entry in 2 a wkly comp to win FA Cup fina...</td>\n",
       "    </tr>\n",
       "    <tr>\n",
       "      <th>3</th>\n",
       "      <td>ham</td>\n",
       "      <td>U dun say so early hor... U c already then say...</td>\n",
       "    </tr>\n",
       "  </tbody>\n",
       "</table>\n",
       "</div>"
      ],
      "text/plain": [
       "     v1                                                 v2\n",
       "0   ham  Go until jurong point, crazy.. Available only ...\n",
       "1   ham                      Ok lar... Joking wif u oni...\n",
       "2  spam  Free entry in 2 a wkly comp to win FA Cup fina...\n",
       "3   ham  U dun say so early hor... U c already then say..."
      ]
     },
     "execution_count": 12,
     "metadata": {},
     "output_type": "execute_result"
    }
   ],
   "source": [
    "data.head(4)"
   ]
  },
  {
   "cell_type": "code",
   "execution_count": 8,
   "id": "88603f41",
   "metadata": {},
   "outputs": [],
   "source": [
    "train,test = train_test_split(data,test_size= 0.2, random_state= 42)"
   ]
  },
  {
   "cell_type": "code",
   "execution_count": 18,
   "id": "cc60c206",
   "metadata": {},
   "outputs": [],
   "source": [
    "train.reset_index(drop=True , inplace= True)\n",
    "test.reset_index(drop=True,inplace= True)"
   ]
  },
  {
   "cell_type": "code",
   "execution_count": 20,
   "id": "cf55c218",
   "metadata": {},
   "outputs": [
    {
     "data": {
      "text/html": [
       "<div>\n",
       "<style scoped>\n",
       "    .dataframe tbody tr th:only-of-type {\n",
       "        vertical-align: middle;\n",
       "    }\n",
       "\n",
       "    .dataframe tbody tr th {\n",
       "        vertical-align: top;\n",
       "    }\n",
       "\n",
       "    .dataframe thead th {\n",
       "        text-align: right;\n",
       "    }\n",
       "</style>\n",
       "<table border=\"1\" class=\"dataframe\">\n",
       "  <thead>\n",
       "    <tr style=\"text-align: right;\">\n",
       "      <th></th>\n",
       "      <th>v1</th>\n",
       "      <th>v2</th>\n",
       "    </tr>\n",
       "  </thead>\n",
       "  <tbody>\n",
       "    <tr>\n",
       "      <th>0</th>\n",
       "      <td>ham</td>\n",
       "      <td>Funny fact Nobody teaches volcanoes 2 erupt, t...</td>\n",
       "    </tr>\n",
       "    <tr>\n",
       "      <th>1</th>\n",
       "      <td>ham</td>\n",
       "      <td>I sent my scores to sophas and i had to do sec...</td>\n",
       "    </tr>\n",
       "    <tr>\n",
       "      <th>2</th>\n",
       "      <td>spam</td>\n",
       "      <td>We know someone who you know that fancies you....</td>\n",
       "    </tr>\n",
       "    <tr>\n",
       "      <th>3</th>\n",
       "      <td>ham</td>\n",
       "      <td>Only if you promise your getting out as SOON a...</td>\n",
       "    </tr>\n",
       "    <tr>\n",
       "      <th>4</th>\n",
       "      <td>spam</td>\n",
       "      <td>Congratulations ur awarded either å£500 of CD ...</td>\n",
       "    </tr>\n",
       "    <tr>\n",
       "      <th>...</th>\n",
       "      <td>...</td>\n",
       "      <td>...</td>\n",
       "    </tr>\n",
       "    <tr>\n",
       "      <th>1110</th>\n",
       "      <td>ham</td>\n",
       "      <td>&amp;lt;DECIMAL&amp;gt; m but its not a common car he...</td>\n",
       "    </tr>\n",
       "    <tr>\n",
       "      <th>1111</th>\n",
       "      <td>ham</td>\n",
       "      <td>Rightio. 11.48 it is then. Well arent we all u...</td>\n",
       "    </tr>\n",
       "    <tr>\n",
       "      <th>1112</th>\n",
       "      <td>ham</td>\n",
       "      <td>Yes i have. So that's why u texted. Pshew...mi...</td>\n",
       "    </tr>\n",
       "    <tr>\n",
       "      <th>1113</th>\n",
       "      <td>ham</td>\n",
       "      <td>Get the door, I'm here</td>\n",
       "    </tr>\n",
       "    <tr>\n",
       "      <th>1114</th>\n",
       "      <td>spam</td>\n",
       "      <td>Kit Strip - you have been billed 150p. Netcoll...</td>\n",
       "    </tr>\n",
       "  </tbody>\n",
       "</table>\n",
       "<p>1115 rows × 2 columns</p>\n",
       "</div>"
      ],
      "text/plain": [
       "        v1                                                 v2\n",
       "0      ham  Funny fact Nobody teaches volcanoes 2 erupt, t...\n",
       "1      ham  I sent my scores to sophas and i had to do sec...\n",
       "2     spam  We know someone who you know that fancies you....\n",
       "3      ham  Only if you promise your getting out as SOON a...\n",
       "4     spam  Congratulations ur awarded either å£500 of CD ...\n",
       "...    ...                                                ...\n",
       "1110   ham   &lt;DECIMAL&gt; m but its not a common car he...\n",
       "1111   ham  Rightio. 11.48 it is then. Well arent we all u...\n",
       "1112   ham  Yes i have. So that's why u texted. Pshew...mi...\n",
       "1113   ham                             Get the door, I'm here\n",
       "1114  spam  Kit Strip - you have been billed 150p. Netcoll...\n",
       "\n",
       "[1115 rows x 2 columns]"
      ]
     },
     "execution_count": 20,
     "metadata": {},
     "output_type": "execute_result"
    }
   ],
   "source": [
    "test"
   ]
  },
  {
   "cell_type": "code",
   "execution_count": 21,
   "id": "4836d969",
   "metadata": {},
   "outputs": [
    {
     "data": {
      "text/plain": [
       "((4457, 2), (1115, 2))"
      ]
     },
     "execution_count": 21,
     "metadata": {},
     "output_type": "execute_result"
    }
   ],
   "source": [
    "train.shape, test.shape"
   ]
  },
  {
   "cell_type": "code",
   "execution_count": 50,
   "id": "01f52d12",
   "metadata": {},
   "outputs": [],
   "source": [
    "# Saving Train and test data in csv files\n",
    "train.to_csv('datasets/ham-spam/train.csv', index=False)\n",
    "test.to_csv('datasets/ham-spam/test.csv', index=False)"
   ]
  },
  {
   "cell_type": "code",
   "execution_count": 51,
   "id": "fe0ac0c5",
   "metadata": {},
   "outputs": [
    {
     "name": "stdout",
     "output_type": "stream",
     "text": [
      " Volume in drive C is OSDisk\n",
      " Volume Serial Number is E6C6-5DA6\n",
      "\n",
      " Directory of C:\\Users\\raze\\Documents\\Personal\\OneDrive\\DS\\Deep Learning\\TEST\\datasets\n",
      "\n",
      "09/14/2021  07:54 PM    <DIR>          .\n",
      "09/14/2021  07:54 PM    <DIR>          ..\n",
      "09/11/2021  06:45 PM             6,148 .DS_Store\n",
      "09/08/2021  06:37 PM    <DIR>          cifar10\n",
      "09/14/2021  07:54 PM    <DIR>          data\n",
      "09/14/2021  07:54 PM    <DIR>          ham-spam\n",
      "09/14/2021  07:54 PM    <DIR>          tweets\n",
      "               1 File(s)          6,148 bytes\n",
      "               6 Dir(s)  391,168,126,976 bytes free\n"
     ]
    }
   ],
   "source": [
    "ls datasets"
   ]
  },
  {
   "cell_type": "code",
   "execution_count": 80,
   "id": "3c893823",
   "metadata": {},
   "outputs": [],
   "source": [
    "import numpy as np\n",
    "import torch\n",
    "import torchtext\n",
    "from torchtext.legacy.data import Field,LabelField, BucketIterator, TabularDataset"
   ]
  },
  {
   "cell_type": "code",
   "execution_count": 67,
   "id": "16d6c096",
   "metadata": {},
   "outputs": [
    {
     "name": "stderr",
     "output_type": "stream",
     "text": [
      "[nltk_data] Downloading package punkt to\n",
      "[nltk_data]     C:\\Users\\raze\\AppData\\Roaming\\nltk_data...\n",
      "[nltk_data]   Package punkt is already up-to-date!\n"
     ]
    }
   ],
   "source": [
    "''' NLTK provides a function called word_tokenize() for splitting strings\n",
    "into tokens (nominally words). It splits tokens based on white space and punctuation'''\n",
    "import nltk\n",
    "nltk.download('punkt') # that's the punkt word tokenizer\n",
    "from nltk import word_tokenize"
   ]
  },
  {
   "cell_type": "markdown",
   "id": "08d077d9",
   "metadata": {},
   "source": [
    "##### The parameters of a Field specify how the data should be processed.We use the TEXT field to define how the text should be processed, and the LABEL field to process the labels. in the example its tokenized as individual  words"
   ]
  },
  {
   "cell_type": "code",
   "execution_count": 79,
   "id": "4facbc7f",
   "metadata": {},
   "outputs": [],
   "source": [
    "TEXT  = Field(tokenize= word_tokenize)"
   ]
  },
  {
   "cell_type": "code",
   "execution_count": 81,
   "id": "50c2c7f7",
   "metadata": {},
   "outputs": [],
   "source": [
    "LABEL = LabelField(dtype = torch.float)"
   ]
  },
  {
   "cell_type": "code",
   "execution_count": 82,
   "id": "b9e6f307",
   "metadata": {},
   "outputs": [],
   "source": [
    "datafields = [(\"labels\", LABEL), (\"text\", TEXT)]"
   ]
  },
  {
   "cell_type": "code",
   "execution_count": 92,
   "id": "bb4e5b52",
   "metadata": {},
   "outputs": [],
   "source": [
    "trn, tst = TabularDataset.splits(path='./datasets/ham-spam',\n",
    "                                 train= 'train.csv',\n",
    "                                 test= 'test.csv',\n",
    "                                 format = 'csv',\n",
    "                                 skip_header = True,\n",
    "                                 fields = [(\"labels\", LABEL), (\"text\", TEXT)]\n",
    "                                )"
   ]
  },
  {
   "cell_type": "code",
   "execution_count": 91,
   "id": "b8431417",
   "metadata": {},
   "outputs": [
    {
     "data": {
      "text/plain": [
       "[<torchtext.legacy.data.example.Example at 0x25101b67550>,\n",
       " <torchtext.legacy.data.example.Example at 0x251009278b0>,\n",
       " <torchtext.legacy.data.example.Example at 0x25100927b80>,\n",
       " <torchtext.legacy.data.example.Example at 0x25100927130>]"
      ]
     },
     "execution_count": 91,
     "metadata": {},
     "output_type": "execute_result"
    }
   ],
   "source": [
    "trn[:4]"
   ]
  },
  {
   "cell_type": "code",
   "execution_count": 93,
   "id": "b367800d",
   "metadata": {},
   "outputs": [
    {
     "data": {
      "text/plain": [
       "(4457, 1115)"
      ]
     },
     "execution_count": 93,
     "metadata": {},
     "output_type": "execute_result"
    }
   ],
   "source": [
    "len(trn), len(tst)"
   ]
  },
  {
   "cell_type": "code",
   "execution_count": 100,
   "id": "9c7fbd36",
   "metadata": {},
   "outputs": [
    {
     "data": {
      "text/plain": [
       "dict_keys(['labels', 'text'])"
      ]
     },
     "execution_count": 100,
     "metadata": {},
     "output_type": "execute_result"
    }
   ],
   "source": [
    "trn[5].__dict__.keys()"
   ]
  },
  {
   "cell_type": "code",
   "execution_count": 110,
   "id": "da0df540",
   "metadata": {},
   "outputs": [
    {
     "data": {
      "text/plain": [
       "dict_values(['ham', ['G', 'says', 'you', 'never', 'answer', 'your', 'texts', ',', 'confirm/deny']])"
      ]
     },
     "execution_count": 110,
     "metadata": {},
     "output_type": "execute_result"
    }
   ],
   "source": [
    "trn[5].__dict__.values()"
   ]
  },
  {
   "cell_type": "code",
   "execution_count": 114,
   "id": "662442b6",
   "metadata": {},
   "outputs": [
    {
     "data": {
      "text/plain": [
       "['G', 'says', 'you', 'never', 'answer', 'your', 'texts', ',', 'confirm/deny']"
      ]
     },
     "execution_count": 114,
     "metadata": {},
     "output_type": "execute_result"
    }
   ],
   "source": [
    "trn[5].text"
   ]
  },
  {
   "cell_type": "code",
   "execution_count": 115,
   "id": "da7f4fa7",
   "metadata": {},
   "outputs": [
    {
     "data": {
      "text/plain": [
       "'ham'"
      ]
     },
     "execution_count": 115,
     "metadata": {},
     "output_type": "execute_result"
    }
   ],
   "source": [
    "trn[5].labels"
   ]
  },
  {
   "cell_type": "code",
   "execution_count": 120,
   "id": "bd0b9797",
   "metadata": {},
   "outputs": [
    {
     "name": "stdout",
     "output_type": "stream",
     "text": [
      "{'labels': 'ham', 'text': ['G', 'says', 'you', 'never', 'answer', 'your', 'texts', ',', 'confirm/deny']}\n"
     ]
    }
   ],
   "source": [
    "print(vars(trn[5]))"
   ]
  },
  {
   "cell_type": "markdown",
   "id": "d577b5be",
   "metadata": {},
   "source": [
    "#### build a vocabulary. This is a effectively a look up table where every unique word in your data set has a corresponding index (an integer). Each index is used to construct a one-hot vector for each word."
   ]
  },
  {
   "cell_type": "code",
   "execution_count": 133,
   "id": "0542d9d1",
   "metadata": {},
   "outputs": [],
   "source": [
    "TEXT.build_vocab(trn, max_size = 10000)"
   ]
  },
  {
   "cell_type": "code",
   "execution_count": 134,
   "id": "4c186763",
   "metadata": {},
   "outputs": [],
   "source": [
    "LABEL.build_vocab(trn)"
   ]
  },
  {
   "cell_type": "code",
   "execution_count": 135,
   "id": "ccd9a8c2",
   "metadata": {},
   "outputs": [
    {
     "data": {
      "text/plain": [
       "(10002, 2)"
      ]
     },
     "execution_count": 135,
     "metadata": {},
     "output_type": "execute_result"
    }
   ],
   "source": [
    "len(TEXT.vocab), len(LABEL.vocab)"
   ]
  },
  {
   "cell_type": "code",
   "execution_count": 168,
   "id": "1c99acd8",
   "metadata": {},
   "outputs": [
    {
     "data": {
      "text/plain": [
       "dict_items([('No', 143), ('I', 1574), (\"'m\", 320), ('in', 663), ('the', 946), ('same', 30), ('boat', 3), ('.', 3862), ('Still', 12), ('here', 89), ('at', 301), ('my', 494), ('moms', 3), ('Check', 9), ('me', 600), ('out', 191), ('on', 394), ('yo', 12), ('half', 22), ('naked', 1), ('(', 92), ('Bank', 3), ('of', 471), ('Granite', 2), ('issues', 5), ('Strong-Buy', 2), (')', 393), ('EXPLOSIVE', 2), ('PICK', 4), ('FOR', 12), ('OUR', 2), ('MEMBERS', 2), ('*', 270), ('UP', 20), ('OVER', 3), ('300', 4), ('%', 10), ('Nasdaq', 2), ('Symbol', 2), ('CDGT', 2), ('That', 55), ('is', 647), ('a', 1068), ('$', 21), ('5.00', 2), ('per', 47), ('..', 544), ('They', 27), ('r', 91), ('giving', 5), ('second', 12), ('chance', 22), ('to', 1750), ('rahul', 1), ('dengra', 1), ('O', 11), ('i', 760), ('played', 3), ('smash', 1), ('bros', 1), ('&', 772), ('lt', 267), (';', 641), ('#', 245), ('gt', 267), ('religiously', 1), ('PRIVATE', 10), ('!', 1134), ('Your', 79), ('2003', 8), ('Account', 10), ('Statement', 10), ('for', 527), ('07973788240', 1), ('shows', 26), ('800', 9), ('un-redeemed', 8), ('S.', 8), ('I.', 8), ('M.', 8), ('points', 12), ('Call', 130), ('08715203649', 1), ('Identifier', 10), ('Code', 13), (':', 570), ('40533', 2), ('Expires', 11), ('31/10/04', 2), ('G', 6), ('says', 24), ('you', 1462), ('never', 26), ('answer', 12), ('your', 461), ('texts', 21), (',', 1468), ('confirm/deny', 1), ('88066', 3), ('FROM', 8), ('LOST', 2), ('3POUND', 1), ('HELP', 3), ('Okey', 3), ('dokey', 2), ('i\\x89Û÷ll', 1), ('be', 275), ('over', 46), ('bit', 33), ('just', 192), ('sorting', 2), ('some', 94), ('stuff', 33), ('Why', 20), ('come', 170), ('between', 20), ('people', 41), ('Wah', 4), ('lucky', 12), ('man', 27), ('...', 923), ('Then', 46), ('can', 243), ('save', 7), ('money', 50), ('Hee', 9), ('Much', 3), ('better', 27), ('now', 321), ('thanks', 20), ('lol', 10), ('Madam', 1), ('regret', 3), ('disturbance.might', 1), ('receive', 30), ('reference', 4), ('check', 22), ('from', 212), ('DLF', 1), ('Premarica.kindly', 1), ('informed.Rgds', 1), ('Rakhesh', 3), ('Kerala', 3), ('coming', 41), ('home', 129), ('4', 238), ('dinner', 28), ('Ok', 108), ('Can', 63), ('Ì_', 101), ('all', 184), ('decide', 8), ('faster', 3), ('cos', 41), ('sis', 15), ('going', 129), ('liao', 30), ('Hi', 75), ('mate', 8), ('its', 100), ('RV', 1), ('did', 81), ('u', 636), ('hav', 20), ('nice', 38), ('hol', 1), ('message', 70), ('3', 67), ('say', 69), ('hello', 5), ('coz', 11), ('havenåÕt', 2), ('sent', 49), ('1', 70), ('ages', 2), ('started', 13), ('driving', 20), ('so', 257), ('stay', 18), ('off', 48), ('roads', 3), ('RVx', 1), ('Amazing', 3), ('If', 110), ('rearrange', 1), ('these', 14), ('letters', 4), ('it', 470), ('gives', 4), ('meaning', 6), ('Dormitory', 1), ('=', 11), ('Dirty', 1), ('room', 27), ('Astronomer', 1), ('Moon', 4), ('starer', 1), ('The', 81), ('eyes', 7), ('see', 100), ('Election', 1), ('results', 3), ('Lies', 1), ('lets', 5), ('recount', 1), ('Mother-in-law', 1), ('Woman', 1), ('Hitler', 1), ('Eleven', 1), ('plus', 9), ('two', 26), ('=Twelve', 1), ('one', 123), ('Its', 64), ('-', 176), ('Good', 65), ('Morning', 8), ('plz', 12), ('call', 307), ('sir', 14), ('K', 49), ('actually', 18), ('guys', 24), ('meet', 65), ('sunoco', 1), ('howard', 2), ('?', 1256), ('It', 89), ('should', 64), ('right', 72), ('way', 86), ('New', 22), ('Theory', 2), ('Argument', 2), ('wins', 3), ('d', 70), ('SITUATION', 2), ('but', 231), ('loses', 2), ('PERSON', 2), ('So', 94), ('dont', 80), ('argue', 2), ('with', 267), ('ur', 237), ('friends', 33), ('kick', 5), ('them', 64), ('amp', 71), ('always', 32), ('correct', 7), ('Oh', 58), ('yeah', 19), ('And', 76), ('diet', 2), ('flew', 1), ('window', 1), ('Watching', 12), ('cartoon', 5), ('listening', 4), ('music', 8), ('eve', 12), ('had', 64), ('go', 207), ('temple', 4), ('church', 3), ('What', 101), ('about', 121), ('india', 4), ('win', 30), ('or', 298), ('level', 1), ('series', 4), ('means', 23), ('this', 187), ('record', 3), ('Armand', 1), ('get', 265), ('ass', 13), ('epsilon', 2), ('TELL', 3), ('HER', 2), ('SAID', 1), ('EAT', 1), ('SHIT', 2), ('then', 139), ('phone', 89), ('phoned', 1), ('disconnected', 1), ('Please', 55), ('our', 98), ('customer', 31), ('service', 39), ('representative', 6), ('FREEPHONE', 7), ('0808', 3), ('145', 3), ('4742', 3), ('9am-11pm', 3), ('as', 99), ('have', 395), ('WON', 17), ('guaranteed', 20), ('å£1000', 28), ('cash', 44), ('å£5000', 15), ('prize', 58), ('Hey', 78), ('sweet', 21), ('was', 164), ('wondering', 7), ('when', 196), ('moment', 8), ('if', 185), ('might', 25), ('want', 130), ('send', 125), ('file', 2), ('someone', 32), ('wo', 20), (\"n't\", 281), ('yahoo', 6), ('because', 28), ('their', 8), ('connection', 2), ('sucks', 6), ('remember', 24), ('set', 13), ('up', 226), ('that', 385), ('page', 6), ('and', 673), ('download', 10), ('format', 2), ('disc', 1), ('Could', 4), ('tell', 81), ('how', 107), ('do', 312), ('Or', 32), ('know', 199), ('other', 38), ('big', 25), ('files', 2), ('Because', 2), ('they', 74), ('directly', 5), ('internet', 5), ('Any', 13), ('help', 31), ('would', 48), ('great', 63), ('prey', 2), ('teasing', 5), ('kiss', 28), ('Purity', 3), ('friendship', 9), ('not', 295), ('smiling', 12), ('after', 50), ('reading', 8), ('forwarded', 4), ('by', 120), ('seeing', 12), ('name', 32), ('Gud', 26), ('evng', 4), ('Not', 46), ('heard', 8), ('U4', 1), ('while', 19), ('am', 158), ('night', 81), ('knickers', 1), ('Make', 9), ('beg', 1), ('like', 173), ('U', 300), ('last', 50), ('time', 151), ('01223585236', 1), ('XX', 3), ('Luv', 4), ('Nikiyu4.net', 1), ('You', 232), ('will', 264), ('place', 47), ('Welp', 1), ('apparently', 3), ('he', 129), ('retired', 1), ('haha', 4), ('no', 120), ('leh', 27), ('Later', 6), ('got', 175), ('tuition', 3), ('Haha', 40), ('looking', 18), ('empty', 10), ('slots', 2), ('lessons', 5), ('Aiyar', 2), ('hard', 11), ('2', 390), ('type', 12), ('later', 93), ('free', 91), ('n', 112), ('scold', 2), (\"'ll\", 180), ('close', 10), ('Wat', 23), ('late', 42), ('still', 115), ('early', 26), ('mah', 10), ('we', 209), ('juz', 18), ('lor', 130), ('Aiya', 3), ('dunno', 8), ('Yup', 35), (\"'s\", 384), ('paragon', 1), ('havent', 14), ('decided', 12), ('whether', 3), ('cut', 9), ('yet', 37), ('tv', 20), ('new', 72), ('job', 32), ('2004', 5), ('07742676969', 2), ('786', 2), ('unredeemed', 2), ('Bonus', 12), ('Points', 2), ('To', 64), ('claim', 66), ('08719180248', 2), ('45239', 2), ('Great', 17), ('run', 14), ('ttyl', 1), ('Hello', 26), ('love', 117), ('How', 128), ('goes', 23), ('day', 138), ('wish', 34), ('well', 56), ('fine', 39), ('babe', 43), ('hope', 44), ('find', 50), ('prospects', 1), ('miss', 46), ('boytoy', 15), ('ZOE', 1), ('IT', 10), ('JUST', 7), ('HIT', 2), ('ME', 32), ('IM', 19), ('FUCKING', 2), ('SHITIN', 1), ('MYSELF', 1), ('IL', 3), ('DEFO', 1), ('TRY', 3), ('MY', 21), ('HARDEST', 1), ('CUM', 1), ('2MOROW', 2), ('LUV', 6), ('MILLIONS', 1), ('LEKDOG', 1), ('text', 106), ('cup', 2), ('stop', 56), ('work', 66), ('BUS', 2), ('Congratulations', 13), ('ore', 1), ('mo', 5), ('owo', 1), ('re', 13), ('wa', 1), ('Enjoy', 13), ('many', 43), ('happy', 41), ('moments', 3), ('fro', 1), ('wherever', 5), ('morning', 52), ('im', 27), ('suffering', 1), ('fever', 3), ('dysentry', 1), ('able', 23), ('office', 24), ('today', 89), ('Tell', 21), ('pa.', 4), ('pain', 17), ('de', 18), ('Got', 23), ('Seventeen', 1), ('pounds', 15), ('seven', 3), ('hundred', 1), ('ml', 1), ('\\x89ÛÒ', 9), ('ok', 101), ('complain', 1), ('num', 4), ('only', 140), ('bettr', 1), ('bsnl', 1), ('offc', 1), ('nd', 1), ('apply', 24), ('Kate', 6), ('jackson', 1), ('rec', 2), ('center', 2), ('before', 48), ('7ish', 2), ('k.', 3), ('congratulation', 1), ('Whatsup', 1), ('there', 148), ('Dont', 27), ('sleep', 37), ('å£12', 1), ('Japanese', 2), ('Proverb', 2), ('too', 84), ('none', 6), ('must', 15), ('Indian', 4), ('version', 6), ('LET', 2), ('HIM', 2), ('DO', 9), ('LEAVE', 2), ('finally', 10), ('Stop', 15), ('him', 90), ('doing', 64), ('strike', 2), ('against', 6), ('search', 10), ('happiness', 11), ('main', 2), ('sources', 1), ('unhappiness', 1), ('Accept', 4), ('life', 50), ('comes', 16), ('every', 47), ('live', 26), ('Faith', 1), ('makes', 18), ('things', 37), ('possible', 8), ('Hope', 34), ('Love', 26), ('beautiful', 8), ('May', 16), ('three', 3), ('Christmas', 7), ('Merry', 7), ('C', 54), ('ya', 32), ('class', 43), ('Will', 32), ('holla', 3), ('Buy', 3), ('Space', 1), ('Invaders', 1), ('orig', 1), ('Arcade', 4), ('Game', 1), ('console', 1), ('Press', 8), ('0', 2), ('Games', 2), ('std', 8), ('WAP', 3), ('charge', 16), ('See', 25), ('o2.co.uk/games', 1), ('Terms', 2), ('+', 22), ('settings', 3), ('purchase', 1), ('house', 28), ('water', 6), ('dock', 1), ('rolled', 1), ('newscaster', 1), ('who', 68), ('dabbles', 1), ('jazz', 4), ('flute', 1), ('behind', 1), ('wheel', 1), ('baby', 20), ('any', 88), ('pictures', 3), ('facebook', 5), ('Thx', 1), ('All', 23), ('few', 36), ('months', 9), ('mrng', 9), ('dear', 45), ('Yar', 12), ('wanted', 23), ('yest', 4), ('already', 71), ('where', 56), ('zhong', 1), ('se', 1), ('qing', 1), ('ask', 68), ('b4', 7), ('w', 12), ('N', 4), ('act', 1), ('real', 24), ('Say', 5), ('slowly.', 4), ('GOD', 7), ('LOVE', 21), ('YOU', 44), ('NEED', 6), ('CLEAN', 4), ('HEART', 5), ('WITH', 12), ('YOUR', 10), ('BLOOD.Send', 4), ('Ten', 4), ('special', 33), ('c', 42), ('miracle', 7), ('tomorrow', 75), ('pls', 49), ('Yes', 54), ('princess', 24), ('catch', 7), ('strong', 5), ('hands', 3), ('Wait', 10), ('wesleys', 1), ('town', 21), ('bet', 3), ('she', 76), ('does', 22), ('hella', 4), ('drugs', 10), ('problem', 28), ('renewal', 2), ('I.ll', 15), ('away', 21), ('his', 42), ('details', 20), ('part', 26), ('\\\\do', 1), ('initiate\\\\', 1), (\"''\", 219), ('understand', 8), ('MOON', 1), ('has', 87), ('color', 2), ('dreams', 13), ('STARS', 1), ('make', 69), ('musical', 1), ('SMS', 23), ('give', 71), ('warm', 7), ('Peaceful', 1), ('Sleep', 2), ('Night', 8), ('Where', 37), ('are', 316), ('stand', 6), ('Does', 12), ('heart', 34), ('ache', 3), ('without', 24), ('Do', 108), ('wonder', 9), ('crave', 11), ('URGENT', 31), ('IMPORTANT', 4), ('INFORMATION', 2), ('O2', 4), ('USER', 2), ('TODAY', 8), ('IS', 25), ('LUCKY', 2), ('DAY', 7), ('FIND', 3), ('OUT', 11), ('WHY', 2), ('LOG', 2), ('ONTO', 2), ('HTTP', 1), ('//WWW.URAWINNER.COM', 1), ('THERE', 6), ('A', 78), ('FANTASTIC', 4), ('SURPRISE', 5), ('AWAITING', 3), ('oz', 2), ('guy', 19), ('being', 30), ('kinda', 8), ('flaky', 1), ('friend', 37), ('interested', 6), ('picking', 11), ('worth', 12), ('tonight', 47), ('waiting', 38), ('machan', 2), ('once', 19), ('Honeybee', 2), ('Said', 4), ('Sweetest', 2), ('World', 7), ('God', 12), ('Laughed', 2), ('Havnt', 2), ('Met', 2), ('Person', 4), ('Reading', 3), ('This', 62), ('Msg', 9), ('MORAL', 2), ('Even', 11), ('Crack', 2), ('Jokes', 2), ('GM+GN+GE+GN', 2), ('AM', 6), ('AT', 21), ('THE', 21), ('GAS', 1), ('STATION', 1), ('GO', 13), ('ammae', 1), ('....', 44), ('takes', 15), ('lot', 32), ('turns', 4), ('sit', 5), ('try', 32), ('hold', 13), ('steering', 1), ('Hmm', 11), ('Shall', 8), ('bring', 15), ('bottle', 2), ('wine', 4), ('keep', 45), ('us', 44), ('amused', 1), ('Just', 95), ('joking', 3), ('Red', 3), ('white', 3), ('Sorry', 89), ('missed', 19), ('slept', 5), ('enjoy', 15), ('lesson', 16), ('Thanx', 15), ('Gd', 4), ('nite', 14), ('POLYPHONIC', 3), ('tone', 22), ('mob', 14), ('week', 89), ('txt', 67), ('PT2', 2), ('87575', 3), ('1st', 30), ('Tone', 6), ('FREE', 98), ('txtin', 3), ('150p/tone', 3), ('16', 21), ('reply', 72), ('HL', 4), ('4info', 3), ('Nothing', 11), ('really', 54), ('making', 15), ('sure', 49), ('everybody', 3), ('speed', 3), ('Holding', 1), ('tightly', 1), ('Making', 2), ('important', 15), ('much', 72), ('mean', 16), ('need', 118), ('In', 31), ('Lol', 45), ('mom', 12), ('fit', 1), ('whole', 7), ('family', 15), ('crazy', 9), ('terrible', 3), ('good', 120), ('IåÕm', 1), ('cool', 26), ('ta', 9), ('luv', 21), ('v.tired', 1), ('cause', 10), ('been', 97), ('doin', 4), ('loads', 9), ('planning', 5), ('wk', 15), ('social', 5), ('services', 11), ('inspection', 1), ('nursery', 1), ('Take', 12), ('care', 42), ('spk', 1), ('sn', 1), ('x', 31), ('light', 10), ('turned', 1), ('green', 4), ('meant', 13), ('another', 27), ('may', 26), ('around', 51), ('Que', 1), ('pases', 1), ('un', 1), ('buen', 1), ('tiempo', 1), ('something', 50), ('telugu', 2), ('movie', 16), ('wat', 55), ('abt', 20), ('Mm', 8), ('enough', 23), ('WINNER', 1), ('As', 27), ('valued', 7), ('network', 19), ('selected', 25), ('receivea', 1), ('å£900', 4), ('reward', 5), ('09061701461', 1), ('Claim', 26), ('code', 10), ('KL341', 1), ('Valid', 16), ('12', 7), ('hours', 16), ('Keep', 5), ('raining', 3), ('non', 1), ('wan', 61), ('elsewhere', 3), ('Otherwise', 4), ('na-tuition', 2), ('words', 17), ('But', 102), ('leave', 41), ('dismay', 1), ('times', 22), ('Oooh', 2), ('bed', 16), ('ridden', 1), ('ey', 1), ('thinking', 14), ('oclock', 1), ('mine', 11), ('bash', 1), ('flat', 4), ('plan', 25), ('GSOH', 1), ('SPAM', 1), ('ladies', 4), ('could', 55), ('b', 42), ('male', 1), ('gigolo', 1), ('join', 17), ('uk', 1), ('fastest', 2), ('growing', 2), ('mens', 1), ('club', 7), ('ONCALL', 1), ('mjzgroup', 1), ('08714342399.2stop', 1), ('STOP', 53), ('msg', 62), ('@', 22), ('å£1.50rcvd', 1), ('gram', 3), ('usually', 4), ('runs', 3), ('eighth', 2), ('smarter', 1), ('though', 19), ('gets', 9), ('almost', 10), ('Im', 19), ('One', 12), ('crab', 2), ('running', 4), ('sea', 14), ('shore', 2), ('waves', 1), ('came', 24), ('cleared', 3), ('footprints', 3), ('Crab', 1), ('asked', 19), ('frnd', 7), ('y', 20), ('clearing', 2), ('Waves', 1), ('replied', 4), ('fox', 1), ('following', 6), ('thats', 17), ('frndsship', 1), ('dwn', 1), ('GUD', 2), ('nyt', 8), ('Dunno', 14), ('jus', 12), ('lido', 3), ('Same', 7), ('930', 2), ('Free', 39), ('Gnarls', 1), ('Barkleys', 1), ('\\\\Crazy\\\\', 1), ('ringtone', 15), ('TOTALLY', 1), ('Have', 70), ('saying', 19), ('welp', 2), ('Get', 34), ('official', 6), ('ENGLAND', 5), ('poly', 7), ('colour', 15), ('flag', 4), ('yer', 4), ('mobile', 88), ('tonights', 2), ('game', 15), ('Text', 33), ('TONE', 13), ('FLAG', 4), ('84199', 4), ('Optout', 2), ('ENG', 4), ('Box39822', 4), ('W111WX', 4), ('å£1.50', 18), ('also', 44), ('thk', 32), ('fast', 13), ('Xy', 3), ('suggest', 2), ('dun', 38), ('Going', 13), ('rain', 5), ('gd', 12), ('FRAN', 2), ('DECIDED', 1), ('E', 8), ('WAY', 2), ('COMPLETELY', 1), ('BROKE', 1), ('AN', 2), ('KNACKERED', 1), ('GOT', 7), ('BOUT', 2), ('2MRW', 2), ('JANX', 1), ('P.S', 1), ('THIS', 12), ('DADS', 1), ('FONE', 4), ('-NO', 1), ('CREDIT', 1), ('Welcome', 4), ('improved', 1), ('Sex', 1), ('Dogging', 5), ('unsubscribe', 12), ('msgs', 9), ('150p', 18), ('18', 20), ('No1', 5), ('Nokia', 39), ('NOKIA', 11), ('8077', 1), ('txting', 7), ('mates', 11), ('www.getzed.co.uk', 7), ('POBox', 7), ('36504', 5), ('W45WQ', 5), ('16+', 20), ('norm150p/tone', 5), ('Cool', 8), ('swimming', 3), ('pool', 2), ('jacuzzi', 1), ('Of', 7), ('course', 13), ('guess', 19), ('god', 11), ('getting', 39), ('even', 32), ('Whos', 1), ('Loosu', 1), ('hospital', 7), ('De', 1), ('let', 43), ('careless', 1), ('roommate', 5), ('wants', 18), ('dubsack', 3), ('bringing', 4), ('extra', 10), ('Den', 5), ('shld', 2), ('went', 45), ('Gee', 4), ('nvm', 2), ('la', 7), ('Kaiez', 2), ('mind', 29), ('goin', 16), ('oso', 16), ('Scared', 2), ('hiphop', 1), ('open', 13), ('cant', 49), ('very', 59), ('Woo', 1), ('hoo', 1), ('party', 8), ('dude', 7), ('Allo', 1), ('We', 105), ('braved', 1), ('buses', 1), ('taken', 3), ('trains', 2), ('triumphed', 1), ('we\\x89Û÷re', 1), ('b\\x89Û÷ham', 1), ('jolly', 1), ('rest', 10), ('investigate', 1), ('anywhere', 3), ('Urgent', 15), ('0906346330', 1), ('ABTA', 3), ('complimentary', 12), ('Spanish', 2), ('Holiday', 18), ('å£10,000', 4), ('await', 16), ('collection', 21), ('SAE', 17), ('T', 55), ('Cs', 35), ('BOX', 9), ('47', 1), ('PO19', 1), ('2EZ', 1), ('150ppm', 28), ('18+', 15), ('said', 65), ('Mobile', 25), ('awarded', 28), ('å£2000', 17), ('Caller', 8), ('Prize', 15), ('5/9/03', 1), ('final', 11), ('contact', 49), ('Landline', 7), ('09064019788', 1), ('BOX42WR29C', 1), ('150PPM', 2), ('Miss', 7), ('khelate', 1), ('kintu', 1), ('opponenter', 1), ('dhorte', 1), ('lage', 1), ('Thats', 18), ('rule', 2), ('receiving', 3), ('quality', 7), ('Wife.how', 2), ('knew', 8), ('murder', 5), ('exactly', 4), ('having', 32), ('lunch', 34), ('alone', 13), ('bored', 10), ('True', 4), ('lov', 2), ('wil', 15), ('nevr', 1), ('unrecognized', 1), ('somone', 1), ('often', 3), ('mistakes', 2), ('valuing', 1), ('definitly', 1), ('undrstnd', 1), ('start', 22), ('missing', 16), ('thought', 32), ('were', 38), ('king', 3), ('hill', 3), ('thing', 45), ('urself', 6), ('Cos', 18), ('shopping', 18), ('frens', 7), ('present', 5), ('Studying', 1), ('i.ll', 8), ('next', 52), ('weekend', 27), ('budget', 6), ('Gary', 2), ('freak', 3), ('Genius', 1), ('what', 130), ('brother', 13), ('Pls', 56), ('number', 67), ('skype', 3), ('Want', 14), ('laid', 4), ('locations', 4), ('direct', 8), ('Join', 5), ('UK', 13), ('largest', 3), ('Network', 2), ('bt', 9), ('Txting', 1), ('GRAVEL', 1), ('69888', 1), ('Nt', 3), ('ec2a', 3), ('31p.msg', 1), ('Wishing', 3), ('\\\\X\\\\', 1), ('mas', 1), ('HAPPY', 4), ('NEW', 11), ('Year', 6), ('advance', 1), ('Is', 45), ('fujitsu', 2), ('s', 15), ('lifebook', 1), ('Friendship', 5), ('poem', 2), ('Dear', 49), ('R', 36), ('Near', 3), ('Hear', 2), ('Fear', 2), ('Live', 2), ('With', 11), ('Cheer', 2), ('More', 8), ('Tear', 3), ('Always', 7), ('ni8', 9), ('kind', 9), ('shitload', 2), ('girl', 22), ('Happy', 41), ('difficult', 11), ('girls', 10), ('Companion', 1), ('Lover', 5), ('Chef', 1), ('listener', 1), ('Organizer', 1), ('boyfriend', 1), ('Very', 7), ('clean', 4), ('Sympathetic', 1), ('Athletic', 1), ('Warm', 1), ('Courageous', 1), ('Determined', 1), ('Dependable', 1), ('Intelligent', 1), ('Psychologist', 1), ('Pest', 1), ('exterminator', 1), ('Psychiatrist', 1), ('Healer', 1), ('Stylist', 1), ('Driver', 1), ('Aaniye', 1), ('pudunga', 1), ('venaam', 1), ('Arun', 1), ('transfr', 1), ('amt', 3), ('Prabha', 3), ('soryda', 3), ('realy', 6), ('frm', 14), ('sory', 3), ('checking', 9), ('IQ', 4), ('spl', 1), ('whr', 2), ('ru', 4), ('Yeah', 40), ('quite', 25), ('left', 23), ('swing', 8), ('Looks', 4), ('found', 11), ('than', 26), ('smoke', 8), ('Babe', 14), ('pick', 56), ('bread', 2), ('milk', 2), ('back', 117), ('askd', 9), ('question', 16), ('Todays', 13), ('Voda', 5), ('numbers', 10), ('ending', 8), ('7548', 1), ('350', 2), ('award', 23), ('match', 9), ('please', 52), ('08712300220', 6), ('quoting', 5), ('4041', 1), ('standard', 6), ('rates', 10), ('app', 5), ('There', 19), ('Hrishi', 2), ('BANNEDUK', 1), ('89555', 2), ('cost', 16), ('textoperator', 2), ('g696ga', 2), ('XXX', 8), ('Missing', 8), ('too.pray', 1), ('inshah', 1), ('allah', 3), ('HELLO', 5), ('PEACH', 1), ('CAKE', 1), ('TASTS', 1), ('LUSH', 1), ('Guessin', 1), ('ai', 3), ('gon', 49), ('na', 81), ('9', 20), ('anyways', 1), ('gym', 12), ('whatever', 13), ('smiles', 5), ('Probably', 6), ('landline', 23), ('anna', 2), ('nagar', 2), ('afternoon', 18), ('Dude', 9), ('ive', 3), ('lotta', 2), ('corvettes', 1), ('lately', 2), ('\\\\The', 1), ('world', 18), ('suffers', 1), ('violence', 2), ('bad', 19), ('silence', 1), ('\\\\', 45), ('Dave', 3), ('notice', 6), ('collect', 16), ('Tenerife', 6), ('5000', 4), ('CASH', 13), ('09061743806', 2), ('TCs', 3), ('Box326', 2), ('CW25WX', 4), ('COME', 3), ('BACK', 5), ('TO', 9), ('TAMPA', 1), ('FFFFUUUUUUU', 1), ('both', 16), ('inside', 5), ('outside', 9), ('bedroom', 5), ('pple', 5), ('700', 2), ('900', 3), ('5', 33), ('nights', 4), ('Excellent', 5), ('location', 2), ('wif', 21), ('breakfast', 1), ('hamper', 1), ('Send', 30), ('address', 18), ('take', 79), ('happens', 6), ('2waxsto', 2), ('She', 46), ('ill', 23), ('her', 96), ('medical', 8), ('insurance', 7), ('deliver', 3), ('basic', 4), ('currently', 10), ('til', 15), ('friday', 10), ('major', 3), ('person', 28), ('guide', 3), ('wake', 17), ('rite', 10), ('taking', 16), ('sq825', 1), ('reaching', 8), ('ard', 10), ('7', 22), ('smth', 14), ('8', 15), ('dat', 33), ('e', 49), ('arrival', 1), ('soon', 43), ('Was', 20), ('farm', 2), ('Speaking', 1), ('stressfull', 1), ('Laugh', 1), ('add', 5), ('years', 20), ('Life', 7), ('surely', 4), ('adds', 1), ('more', 78), ('swt', 4), ('Lmao', 5), ('wont', 20), ('needing', 1), ('hair', 17), ('anymore', 8), ('My', 80), ('uncles', 4), ('Atlanta', 3), ('Wish', 13), ('semester', 9), ('Ultimately', 1), ('tor', 1), ('motive', 1), ('tui', 1), ('achieve', 1), ('korli', 1), ('\\\\CAN', 1), ('PLEASE', 2), ('NOW', 43), ('IMIN', 1), ('TOWN.DONTMATTER', 1), ('IF', 10), ('URGOIN', 1), ('OUTL8R', 1), ('Each', 3), ('Moment', 1), ('own', 8), ('value-Morning', 1), ('brings', 9), ('faith', 1), ('Evening', 2), ('today.Good', 1), ('December', 4), ('Had', 19), ('11mths+', 5), ('entitled', 7), ('update', 11), ('latest', 26), ('camera', 19), ('Update', 11), ('Co', 4), ('08002986906', 4), ('emailed', 1), ('yifeng', 1), ('oredi', 14), ('fr', 11), ('objection', 1), ('bf', 4), ('miserable', 1), ('Congrats', 13), ('3G', 3), ('Videophones', 3), ('yours', 13), ('09061744553', 1), ('videochat', 3), ('wid', 14), ('play', 24), ('java', 3), ('games', 8), ('Dload', 3), ('polyH', 1), ('noline', 3), ('rentl', 3), ('bx420', 2), ('ip4', 2), ('5we', 2), ('150pm', 3), ('When', 39), ('born', 3), ('\\\\Oh', 2), ('Another', 3), ('IDIOT\\\\', 1), ('www.t-c.biz', 2), ('150p/min', 4), ('Polo', 2), ('Ltd', 12), ('Suite', 2), ('373', 2), ('London', 5), ('W1J', 2), ('6HL', 2), ('busy', 13), ('Wen', 6), ('lovable', 3), ('bcums', 2), ('angry', 11), ('dnt', 9), ('seriously', 6), ('Coz', 7), ('most', 19), ('childish', 3), ('true', 14), ('showing', 4), ('deep', 8), ('affection', 2), ('kettoda', 2), ('manda', 2), ('da', 117), ('list', 6), ('Joanna', 1), ('feeling', 15), ('anti', 2), (\"'re\", 69), ('christmassy', 1), ('head', 14), ('mins', 24), ('T-Mobile', 2), ('CAMERA', 4), ('PHONE', 4), ('upgrade', 3), ('pay', 26), ('sim', 5), ('card', 10), ('loyalty', 3), ('0845', 2), ('021', 1), ('3680.Offer', 1), ('ends', 10), ('28thFeb.T', 1), ('useless', 1), ('calling', 14), ('sexy', 21), ('buns', 5), ('word', 28), ('YM', 2), ('think', 90), ('Did', 39), ('hear', 24), ('\\\\Divorce', 1), ('Barbie\\\\', 1), ('Ken', 1), ('Thanks', 36), ('appreciate', 5), ('Luck', 3), ('Draw', 3), ('28th', 1), ('Feb', 3), ('06', 1), ('For', 30), ('removal', 2), ('87239', 3), ('08708034412', 2), ('He', 42), ('hi', 30), ('south', 5), ('tampa', 5), ('preferably', 3), ('kegger', 2), ('flowing', 2), ('nevering', 1), ('Cant', 8), ('anyone', 10), ('spare', 1), ('top', 16), ('HOT', 5), ('LIVE', 9), ('FANTASIES', 5), ('08707509020', 6), ('20p', 7), ('min', 36), ('NTT', 10), ('PO', 25), ('Box', 17), ('1327', 7), ('Croydon', 7), ('CR9', 7), ('5WB', 7), ('0870', 8), ('national', 7), ('rate', 18), ('happened', 14), ('date', 9), ('secret', 9), ('admirer', 6), ('REVEAL', 4), ('thinks', 7), ('09065174042', 2), ('opt', 10), ('Reply', 44), ('1.50', 3), ('recd', 3), ('Cust', 2), ('07821230901', 2), ('happen', 14), ('truth', 7), ('tht', 9), ('unknown', 2), ('seen', 8), (\"did't\", 4), ('recognise', 2), ('Face', 1), ('ac', 4), ('JSco', 1), ('Energy', 3), ('high', 4), ('2channel', 1), ('2day', 6), ('leadership', 1), ('skills', 1), ('Psychic', 1), ('ANS', 1), ('w/question', 1), ('End', 2), ('END', 4), ('JSCO', 1), ('somebody', 6), ('named', 1), ('Yo', 19), ('theres', 1), ('tmrw', 1), ('GUARANTEED', 18), ('09061790121', 2), ('land', 15), ('line', 34), ('3030', 6), ('12hrs', 14), ('Be', 8), ('safe', 8), ('payasam', 1), ('rinu', 1), ('Aiyah', 4), ('lar', 31), ('nydc', 2), ('wheellock', 1), ('NOK', 1), ('87021', 2), ('campus', 6), ('Are', 64), ('library', 7), ('showers', 1), ('possessiveness', 1), ('poured', 1), ('loved', 6), ('ones', 7), ('bcoz', 4), ('lies', 1), ('golden', 1), ('gift', 18), ('truly', 5), ('Surly', 1), ('review', 5), ('LORD', 1), ('OF', 12), ('RINGS', 1), ('RETURN', 1), ('KING', 1), ('store', 4), ('REPLY', 2), ('LOTR', 2), ('June', 2), ('Chance', 3), ('WIN', 15), ('soundtrack', 1), ('CDs', 4), ('StdTxtRate', 1), ('end', 22), ('txts', 9), ('comprehensive', 1), ('mail', 18), ('paying', 8), ('current', 4), ('leading', 1), ('bid', 3), ('151', 1), ('pause', 1), ('auction', 9), ('Customer', 12), ('Care', 1), ('08718726270', 1), ('Me', 20), ('waking', 4), ('until', 16), ('sup', 5), ('Let', 12), (\"'ve\", 76), ('carlos', 7), ('contacted', 5), ('Dating', 1), ('Service', 4), ('09064017305', 1), ('PoBox75LDNS7', 1), ('kvb', 1), ('acc', 4), ('Ok.', 8), ('buy', 50), ('calls', 20), ('messages', 16), ('parents', 3), (\"'\", 37), ('gettin', 4), ('news', 11), ('picked', 5), ('downstem', 1), ('Subscriber', 2), ('draw', 33), ('å£100', 17), ('voucher', 10), ('entered', 9), ('receipt', 4), ('ans', 9), ('Elvis', 1), ('Presleys', 1), ('Birthday', 4), ('TXT', 11), ('80062', 4), ('S', 12), ('took', 16), ('tablets', 2), ('Reaction', 1), ('sister', 14), ('placed', 1), ('birla', 2), ('soft', 2), ('weird', 3), ('shit', 26), ('bein', 3), ('\\\\woah\\\\', 1), ('realising', 1), ('reasonable', 2), ('oh\\\\', 1), ('relatives', 1), ('costs', 3), ('risks', 1), ('benefits', 1), ('anything', 44), ('else', 19), ('use', 34), ('foreign', 3), ('stamps', 3), ('country', 6), ('lecture', 4), ('Mom', 1), ('Early', 1), ('bird', 1), ('purchases', 1), ('Bring', 3), ('Okie', 14), ('Hiya', 6), ('spoken', 3), ('since', 20), ('OH', 3), ('YEAH', 3), ('AND', 11), ('HAV', 1), ('GREAT', 2), ('TIME', 16), ('IN', 18), ('NEWQUAY-SEND', 1), ('POSTCARD', 2), ('LOOK', 3), ('AFTER', 2), ('ALL', 9), ('GIRLS', 2), ('WHILE', 1), ('GONE', 1), ('KNOW', 4), ('1IM', 1), ('TALKIN', 1), ('xx', 5), ('Try', 5), ('read', 7), ('exams', 4), ('sense', 6), ('btw', 2), ('batch', 2), ('gas', 12), ('wats', 4), ('talks', 2), ('email', 15), ('shd', 6), ('fun', 23), ('bar', 2), ('sound', 9), ('okay', 12), ('Chasing', 1), ('dream', 5), ('SORRY', 3), ('STIL', 1), ('FUCKED', 1), ('LAST', 3), ('NITE', 1), ('WENT', 2), ('TOBED', 1), ('430', 1), ('WORK', 6), ('630', 2), ('Well', 33), ('available', 12), ('washob', 1), ('nobbing', 1), ('Nickey', 1), ('Platt', 1), ('instead', 5), ('ELLO', 1), ('BABE', 10), ('OK', 6), ('spend', 9), ('lifetime', 2), ('meaningless', 1), ('spent', 7), ('itself', 7), ('don', 6), ('checked', 4), ('saw', 19), ('spaces', 1), ('embassy', 1), ('Doc', 1), ('gave', 9), ('meds', 3), ('everything', 21), ('sleeping', 15), ('spys', 1), ('online', 19), ('replying', 7), ('mails', 2), ('Loan', 2), ('purpose', 2), ('å£500', 15), ('å£75,000', 2), ('Homeowners', 2), ('Tenants', 2), ('welcome', 6), ('previously', 2), ('refused', 2), ('0800', 10), ('1956669', 2), (\"'help\", 3), ('minute', 15), ('lover', 4), ('anthony', 2), ('school', 24), ('fees', 3), ('rent', 8), ('why', 42), ('|', 6), ('hoping', 8), ('due', 5), ('reserves', 1), ('completely', 7), ('gone', 13), ('loan', 6), ('balance', 5), ('till', 21), ('mid', 6), ('march', 6), ('nothing', 15), ('supervisor', 2), ('students', 4), ('aft', 13), ('Goodmorning', 6), ('DECIMAL', 19), ('clearly', 1), ('UR', 24), ('GOING', 3), ('BAHAMAS', 2), ('CallFREEFONE', 2), ('08081560665', 2), ('speak', 13), ('operator', 14), ('either', 18), ('Bahamas', 2), ('cruise', 3), ('ofå£2000', 2), ('18+only', 2), ('X', 9), ('07786200117', 2), ('justbeen', 1), ('overa', 1), ('broke', 4), ('brains', 1), ('mush', 1), ('thnk', 5), ('wrong', 10), ('[', 2), ('\\x89Û_', 9), (']', 2), ('anyway', 14), ('evenings', 1), ('Come', 13), ('pm', 12), ('vikky', 5), ('otside', 2), ('nw', 4), ('il', 4), ('Update_Now', 2), ('Xmas', 17), ('Offer', 12), ('Latest', 9), ('Motorola', 10), ('SonyEricsson', 4), ('Bluetooth', 8), ('Double', 14), ('Mins', 8), ('1000', 4), ('Txt', 63), ('Orange', 22), ('MobileUpd8', 14), ('08000839402', 14), ('call2optout/F4Q=', 1), ('Afternoon', 1), ('onwords', 1), ('mtnl', 1), ('mumbai', 1), ('listen', 9), ('bruce', 2), ('fowler', 1), ('car', 31), ('ca', 38), ('park', 10), ('long', 26), ('story', 16), ('playing', 5), ('gautham', 2), ('food', 21), ('England', 4), ('v', 16), ('Macedonia', 1), ('goals/team', 1), ('team', 4), ('87077', 8), ('eg', 10), ('WALES', 3), ('SCOTLAND', 1), ('4txt/Ì¼1.20', 1), ('POBOXox36504W45WQ', 1), ('evening', 18), ('Ttyl', 3), ('exam', 7), ('improve', 1), ('partnership', 2), ('lead', 3), ('headache', 3), ('hour', 23), ('sick', 9), ('Never', 8), ('weight', 6), ('tear', 4), ('falls', 3), ('through', 11), ('STUPID', 2), ('FRIEND', 3), ('share', 6), ('BSLVYL', 9), ('Raji', 3), ('favour', 4), ('convey', 6), ('wishes', 7), ('Nimya', 6), ('Today', 22), ('birthday', 24), ('I\\x89Û÷m', 3), ('prob', 12), ('\\\\Hi', 3), ('lovely', 7), ('sing', 2), ('xxx\\\\', 2), ('usual', 9), ('iam', 3), ('Nope', 14), ('watching', 17), ('V', 18), ('PS', 1), ('grown', 1), ('incident', 3), ('awake', 6), ('snow', 13), ('She.s', 3), ('she.s', 5), ('coping', 2), ('distance', 3), ('intrepid', 1), ('duo', 1), ('Am', 20), ('gobi', 1), ('arts', 2), ('college', 13), ('credits', 8), ('topped', 1), ('http', 16), ('//www.bubbletext.com', 1), ('Pin', 1), ('tgxxrz', 1), ('put', 20), ('box', 5), ('wnt', 5), ('BMW', 2), ('urgently', 2), ('vry', 3), ('urgent.but', 2), ('hv', 3), ('shortage', 2), ('Lacs.there', 2), ('source', 2), ('arng', 2), ('dis', 21), ('lacs', 2), ('added', 5), ('www.fullonsms.com', 2), ('sms', 15), ('visit', 14), ('fullonsms.com', 5), ('Easy', 3), ('ah', 24), ('sen', 3), ('lacking', 1), ('particular', 1), ('dramastorm', 1), ('worried', 8), ('K.k.how', 1), ('business', 2), ('earlier', 11), ('station', 6), ('meeting', 33), ('<', 5), ('Forwarded', 4), ('21870000', 2), ('>', 23), ('Mailbox', 2), ('Messaging', 2), ('alert', 2), ('40', 2), ('matches', 7), ('09056242159', 2), ('retrieve', 2), ('cc100p/min', 1), ('data', 1), ('analysis', 1), ('starts', 5), ('monday', 6), ('thesis', 1), ('finished', 15), ('entry', 24), ('gr8prizes', 1), ('wkly', 10), ('comp', 11), ('8800', 1), ('PSP', 1), ('å£250', 13), ('wk.TXT', 1), ('80878', 3), ('http//www.gr8prizes.com', 1), ('08715705022', 4), ('you/carlos', 1), ('is/are', 1), ('vibrate', 1), ('acting', 1), ('smoking', 3), ('\\\\wylie', 1), ('smokes', 1), ('much\\\\', 2), ('justify', 1), ('ruining', 2), ('video', 12), ('phone750', 1), ('anytime', 10), ('150', 7), ('five', 5), ('08000776320', 1), ('delivery', 11), ('Sounds', 10), ('K.then', 1), ('11', 7), ('\\\\OH', 1), ('FUCK', 2), ('JUSWOKE', 1), ('BED', 2), ('ON', 16), ('BOATIN', 1), ('DOCKS', 1), ('SLEPT', 1), ('WID', 1), ('25', 5), ('YEAR', 1), ('OLD', 1), ('SPINOUT', 1), ('GIV', 2), ('DA', 7), ('GOSSIP', 1), ('L8R', 1), ('XXX\\\\', 1), ('Knock', 2), ('whose', 2), ('80082', 2), ('enter', 10), ('weekly', 19), ('yr', 11), ('choice', 5), ('www.tkls.com', 1), ('age16', 4), ('stoptxtstopå£1.50/week', 1), ('Tessy', 3), ('favor', 3), ('forget', 16), ('Shijas', 3), ('dice', 1), ('art', 3), ('6', 27), ('thru', 5), ('idea', 7), ('persons', 6), ('totes', 1), ('lil', 2), ('busy.i', 1), ('noon', 8), ('attention', 1), ('full', 15), ('opportunity', 3), ('drive', 15), ('Huh', 10), ('slow', 7), ('tot', 19), ('reach', 26), ('ago', 8), ('days', 29), ('Y', 14), ('short', 6), ('failed', 3), ('sad', 9), ('Shopping', 5), ('Them', 1), ('orchard', 8), ('blame', 3), ('Bad', 4), ('experience', 6), ('Both', 4), ('essential', 3), ('Gods', 2), ('blessings', 2), ('april', 2), ('wait', 40), ('Daddy', 2), ('scream', 5), ('pleasure', 1), ('slap', 1), ('dick', 2), ('reg', 1), ('Ciao', 1), ('2nd', 24), ('tried', 16), ('u.', 12), ('won', 40), ('å£1450', 3), ('09053750005', 1), ('310303', 1), ('Cs/stop', 3), ('08718725756', 1), ('140ppm', 1), ('told', 43), ('Someonone', 1), ('trying', 36), ('via', 9), ('dating', 14), ('09064015307', 1), ('BOX334SK38ch', 1), ('lazy', 6), ('forgot', 24), ('lect', 8), ('pouch', 2), ('Sad', 4), ('Man', 8), ('Last', 13), (\"b'day\", 4), ('Wife', 11), (\"did'nt\", 4), ('Parents', 6), ('Kids', 4), ('Colleagues', 6), ('dearly', 2), ('drop', 14), ('tank', 2), ('Sunshine', 6), ('Hols', 2), ('med', 2), ('holiday', 21), ('stamped', 2), ('self', 7), ('envelope', 6), ('Drinks', 2), ('Us', 2), ('113', 2), ('Bray', 2), ('Wicklow', 2), ('Eire', 2), ('Quiz', 8), ('Starts', 2), ('Saturday', 5), ('Unsub', 4), ('k', 39), ('whats', 13), ('Indeed', 1), ('bye', 4), ('Harish', 1), ('transfred', 1), ('Acnt', 1), ('flights', 5), ('Europe', 1), ('B4', 2), ('10th', 1), ('Sept', 3), ('09050000555', 1), ('BA128NNFWFLY150ppm', 1), ('hide', 1), ('anythiing', 1), ('keeping', 5), ('met', 8), ('stranger', 3), ('choose', 7), ('stands', 1), ('Lets', 8), ('Friends', 8), ('forever', 5), ('nitz', 1), ('UK-mobile-date', 1), ('08719839835', 1), ('Future', 2), ('mgs', 1), ('billed', 2), ('daily', 4), ('cancel', 4), ('\\\\go', 1), ('stop\\\\', 1), ('89123', 1), ('hanks', 1), ('lotsly', 1), ('SiPix', 5), ('Digital', 5), ('Camera', 9), ('09061221061', 2), ('Delivery', 5), ('within', 10), ('28days', 2), ('Box177', 2), ('M221BP', 2), ('2yr', 2), ('warranty', 2), ('p', 2), ('på£3.99', 2), ('wlcome', 1), ('eaten', 3), ('lion', 1), ('awesome', 6), ('click', 2), ('delete', 1), ('wipro', 2), ('gentle', 4), ('Yay', 3), ('Esplanade', 1), ('Hmmm.but', 1), ('texted', 3), ('showered', 1), (\"er'ything\", 1), ('football', 1), ('basketball', 1), ('Anything', 11), ('outdoors', 1), ('6months', 3), ('Available', 3), ('Sony', 7), ('phones', 13), ('call2optout/N9DX', 2), ('roger', 1), ('wahala', 1), ('accidentally', 3), ('brought', 3), ('em', 7), ('Aight', 22), ('again', 48), ('comin', 7), ('tmr', 20), ('maybe', 16), ('yck', 2), ('lip', 2), ('synced', 1), ('shangela', 1), ('needs', 8), ('slowly', 6), ('vomit', 4), ('lotr', 1), ('completed', 1), ('When/where', 1), ('dint', 3), ('switch', 1), ('cell', 7), ('isnt', 4), ('Now', 31), ('\\\\ALRITE', 1), ('HUNNY', 3), ('WOT', 7), ('2NITE', 4), ('DIDNT', 1), ('GOIN', 3), ('DOWN', 3), ('TOWN', 2), ('JUS', 2), ('PUB', 2), ('INSTEAD', 1), ('CHILLIN', 1), ('MO', 2), ('BEDROOM', 1), ('JEN', 1), ('XXX.\\\\', 3), ('Wif', 1), ('booking', 3), ('tour', 4), ('package', 3), ('Darren', 4), ('ge', 4), ('den', 17), ('xy', 6), ('feel', 47), ('awkward', 1), ('sorry', 36), ('ten', 10), ('shower', 10), ('Back', 4), ('brum', 1), ('putting', 4), ('6times', 1), ('Wylie', 1), ('weed', 6), ('dealer', 1), ('freedom', 2), ('lunsford', 1), ('REALY', 1), ('SOZ', 1), ('IMAT', 1), ('MUMS', 1), ('WHAT', 7), ('ABOUT', 3), ('2MORO', 2), ('Ya', 15), ('Awesome', 7), ('restocked', 1), ('Badrith', 1), ('chennai', 12), ('competition', 5), ('Thk', 8), ('boring', 3), ('uniform', 1), ('macho', 2), ('bb', 6), ('bold', 4), ('dollars', 4), ('Anytime', 1), ('Tuesday', 3), ('FreeMsg', 10), ('Buffy', 1), ('satisfy', 2), ('men', 6), ('Home', 2), ('randy', 1), ('PIX', 1), ('QlynnBV', 1), ('Help08700621170150p', 1), ('priest', 1), ('probably', 23), ('joined', 5), ('league', 1), ('touch', 11), ('deal', 6), ('personal', 6), ('week.|', 1), ('Gain', 1), ('rights', 2), ('wife.dont', 1), ('demand', 2), ('it.i', 1), ('husband', 2), ('too.Lets', 1), ('Grumpy', 1), ('old', 15), ('lying', 1), ('jokes', 1), ('Oops', 7), ('done', 34), ('studyn', 1), ('talk', 34), ('called', 22), ('arrested', 4), ('Ha', 7), ('watch', 25), ('haf', 16), ('bomb', 1), ('elaine', 2), ('confirmed', 2), ('K.k', 4), ('kids', 5), ('Nice', 5), ('talking', 7), ('pix', 4), ('Damn', 5), ('poor', 7), ('zac', 1), ('knows', 5), ('questions', 7), ('aathi', 2), ('request', 5), ('Rs.5', 1), ('transfered', 2), ('derek', 5), ('Thank', 16), ('wonderful', 14), ('definitely', 6), ('buying', 8), ('significance', 1), ('weekends', 8), ('09061701939', 1), ('S89', 1), ('opposed', 1), ('drunken', 2), ('unless', 3), ('book', 16), ('joke', 3), ('--', 6), ('thet', 1), ('skinny', 1), ('Something', 3), ('casting', 1), ('look', 24), ('pub', 11), ('Has', 2), ('pattern', 1), ('recently', 6), ('crap', 2), ('Prakesh', 1), ('into', 33), ('``', 8), (\"''OK\", 4), ('sed', 4), ('mood', 6), ('minuts', 4), ('latr', 4), ('cake', 5), ('Bored', 3), ('SPEEDCHAT', 2), ('80155', 1), ('SWAP', 1), ('chatter', 1), ('Chat80155', 1), ('POBox36504W45WQ', 5), ('150p/msg', 8), ('rcd', 1), ('Langport', 1), ('site', 4), ('simulate', 1), ('test', 18), ('tough', 4), ('readiness', 1), ('likely', 2), ('Mittelschmertz', 1), ('Google', 1), ('paracetamol', 1), ('worry', 17), ('lei', 19), ('sch', 17), ('hr', 4), ('oni', 4), ('Ah', 4), ('confuses', 2), ('doesnt', 7), ('Maybe', 9), ('sort', 8), ('invited', 11), ('-tho', 1), ('Nvm', 3), ('wear', 4), ('sport', 2), ('shoes', 1), ('Spending', 1), ('ready', 29), ('spoiled', 2), ('escape', 2), ('theatre', 6), ('KAVALAN', 2), ('minutes', 21), ('consensus', 1), ('kicks', 2), ('Wait.i', 1), ('Ur', 55), ('typical', 1), (\"'doctors\", 1), ('reminds', 1), ('2go.did', 1), ('little', 23), ('lounge', 3), ('liked', 6), ('photos', 4), ('Pity', 1), ('suggestions', 1), (\"'d\", 21), ('easiest', 1), ('barcelona', 1), ('By', 10), ('looks', 3), ('scrumptious', 1), ('daddy', 4), ('eat', 28), ('entertaining', 1), ('hugh', 1), ('laurie', 1), ('stick', 2), ('indeed', 1), ('especially', 3), ('Ill', 8), ('Apart', 1), ('yesterday', 19), ('silent', 4), ('tensed', 1), ('noe', 17), ('wana', 9), ('pei', 1), ('Should', 15), ('round', 7), ('ish', 4), ('apologetic', 1), ('fallen', 1), ('actin', 1), ('spoilt', 1), ('child', 2), ('caught', 2), ('Till', 1), ('badly', 1), ('cheers', 1), ('account', 17), ('1hr', 2), ('delay', 2), ('k.are', 1), ('From', 13), ('month', 26), ('upto', 4), ('50', 4), ('Calls', 4), ('activate', 2), ('9061100010', 1), ('Wire3.net', 1), ('1st4Terms', 1), ('PoBox84', 1), ('M26', 2), ('3UZ', 2), ('Cost', 12), ('MobcudB', 1), ('gim', 1), ('caveboy', 1), ('garage', 3), ('keys', 3), ('bookshelf', 1), ('swhrt', 1), ('dey', 1), ('2day.love', 1), ('miss.take', 1), ('mad', 4), ('diff', 2), ('shop', 12), ('cheese', 2), ('On', 13), ('rip', 1), ('uterus', 1), ('rimac', 1), ('access', 7), ('somewhere', 5), ('beneath', 1), ('pale', 1), ('moon', 2), ('goodnite', 1), ('meh', 7), ('bus', 23), ('ÌÏ', 42), ('ericsson', 2), ('login', 3), ('5226', 1), ('hava', 1), ('1131', 1), ('posh', 1), ('birds', 4), ('chaps', 1), ('user', 7), ('trial', 1), ('prods', 1), ('champneys', 1), ('down', 42), ('dob', 1), ('asap', 1), ('Ta', 1), ('too.Pray', 1), ('me.Remove', 1), ('teeth', 3), ('painful', 2), ('maintaining', 1), ('remb', 1), ('sat', 20), ('infernal', 4), ('affairs', 3), ('darren', 5), ('mayb', 10), ('worrying', 1), ('appt', 3), ('shame', 3), ('quizzes', 1), ('popcorn', 1), ('dad', 15), ('Boo', 2), ('Remember', 4), ('kerala', 2), ('days.so', 1), ('prepared', 1), ('finalise', 1), ('.dont', 1), ('travel', 2), ('during', 6), ('visit.need', 1), ('finish', 28), ('urgent', 6), ('works', 5), ('09066350750', 2), ('Ibiza', 4), ('10,000', 2), ('434', 3), ('SK3', 3), ('8WP', 3), ('ppm', 4), ('Wine', 3), ('slurp', 1), ('Forgot', 4), ('at/your', 1), ('dead', 7), ('Midnight', 1), ('earliest', 1), ('chat', 23), ('Might', 3), ('ax', 1), ('figure', 9), ('trust', 4), ('math', 2), ('promise', 5), ('447801259231', 1), ('U-find', 4), ('reveal', 4), ('special-call', 4), ('09058094597', 1), ('Missed', 1), ('yelling', 2), ('scrappy', 1), ('Ca', 7), ('lonely', 3), ('disturbing', 2), ('listed', 1), ('2mrw', 2), ('ninish', 1), ('icky', 1), ('American', 2), ('freek', 1), ('callin', 2), ('Jen', 1), ('eh', 5), ('Unfortunately', 1), ('airport', 4), ('th', 10), ('Natalja', 2), ('25/F', 2), ('inviting', 6), ('YES-440', 2), ('NO-440', 2), ('www.SMS.ac/u/nat27081980', 2), ('FRND', 6), ('62468', 6), (\"'hex\", 1), ('Explain', 1), ('lifted', 1), ('hopes', 1), ('offer', 13), ('Especially', 2), ('approaches', 1), ('hurts', 5), ('studying', 5), ('Anyways', 2), ('gr8', 11), ('WRKIN', 1), ('somewhat', 1), ('event', 2), ('laden', 1), ('fill', 3), ('Head', 1), ('throat', 3), ('wrecked', 1), ('six', 2), ('tease', 1), ('simply', 3), ('grins', 9), ('posted', 6), ('loving', 11), ('smile', 25), ('devouring', 2), ('year', 31), ('supply', 2), ('Weekly', 2), ('MUSIC', 9), ('87066', 10), ('Ts', 8), ('www.Ldew.com.subs16+1win150ppmx3', 2), ('mu', 12), ('table', 2), ('lambda', 1), ('3650', 2), ('09066382422', 2), ('Ave', 2), ('3mins', 2), ('vary', 5), ('mobiles', 8), ('Close', 2), ('300603', 2), ('post', 14), ('BCM4284', 2), ('Ldn', 3), ('WC1N3XX', 2), ('shall', 16), ('tonite.busy', 1), ('street', 6), ('tonite.things', 1), ('ok.varunnathu', 1), ('edukkukayee', 1), ('raksha', 1), ('ollu.but', 1), ('asleep', 5), ('leads', 1), ('passionate', 4), ('across', 9), ('Play', 4), ('computer', 8), ('tok', 2), ('peace', 2), ('jesus', 3), ('Hav', 3), ('blessed', 2), ('ahead', 6), ('point', 8), ('hangin', 1), ('mr', 5), ('makin', 2), ('radio', 4), ('Show', 1), ('colours', 2), ('Euro', 1), ('2-4-1', 1), ('an', 87), ('Flag', 1), ('3Lions', 1), ('Click', 2), ('info', 11), ('East', 1), ('coast', 2), ('thread', 2), ('wishlist', 1), ('section', 1), ('forums', 1), ('ppl', 3), ('nitro', 1), ('requests', 2), ('Start', 2), ('bottom', 2), ('harri', 1), ('Anyway', 9), ('hit', 8), ('otherwise', 1), ('armand', 3), ('and/or', 1), ('vomiting', 2), ('narcotics', 1), ('situation', 4), ('amazing', 3), ('xxx', 10), ('PICSFREE1', 2), ('vid', 2), ('keyword', 1), ('Sun', 3), ('anythin', 3), ('pilates', 4), ('mrt', 8), ('hor', 2), ('CHAT', 13), ('86688', 15), ('each', 14), ('Only', 21), ('150p/Msg', 4), ('rcvd', 6), ('HG/Suite342/2Lands/Row/W1J6HL', 3), ('LDN', 7), ('Ì©', 3), ('140', 1), ('Ìä', 1), ('180', 1), ('least', 10), ('Which', 11), ('price', 14), ('bedrm', 1), ('flight', 2), ('bishan', 3), ('lavender', 1), ('dinner.msg', 1), ('finishes', 3), ('kidding', 1), ('papa', 1), ('lookin', 4), ('saucy', 3), ('daytime', 1), ('wiv', 7), ('busty', 1), ('married', 5), ('woman', 3), ('Chat', 10), ('09099726429', 1), ('JANINExx', 1), ('Callså£1/minMobsmoreLKPOBOX177HP51FL', 1), ('teacher', 1), ('face', 28), ('longer', 4), ('SO', 10), ('TH', 1), ('GOWER', 1), ('MATE', 3), ('WHICH', 1), ('WHERE', 2), ('HOW', 4), ('MAN', 1), ('GOOD', 7), ('ILL', 2), ('B', 9), ('åÔMORROW', 1), ('WK', 4), ('WHO', 3), ('WAS', 6), ('MSG', 5), ('åÐ', 2), ('RANDOM', 1), ('lousy', 3), ('enjoyed', 2), ('fondly', 1), ('thot', 2), ('Abiola', 7), ('tlk', 2), ('reasons', 4), ('thank', 8), ('solihull', 1), ('Hurry', 2), ('weed-deficient', 1), ('afternon', 1), ('interviews', 1), ('rayan', 1), ('macleran', 1), ('boss', 3), ('fixed', 7), ('cheaper', 4), ('kept', 6), ('telling', 12), ('hoped', 2), ('regretted', 1), ('etc', 11), ('bloody', 2), ('babyjontet', 1), ('expect', 4), ('whenever', 9), ('tomo', 13), ('choices', 1), ('toss', 1), ('coin', 2), ('becoz', 3), ('settle', 3), ('air', 4), ('Gudni8', 1), ('cream', 4), ('shipped', 2), ('transaction', 1), ('Thursday', 1), ('Cheers', 2), ('Everything', 2), ('alright', 9), ('Hows', 7), ('kano', 3), ('treat', 13), ('maga', 3), ('gorgeous', 3), ('those', 19), ('cumming', 1), ('Sometimes', 2), ('Sonetimes', 1), ('rough', 1), ('Ranjith', 3), ('cal', 5), ('drpd', 2), ('Deeraj', 2), ('deepak', 2), ('5min', 3), ('KEEP', 3), ('fantastic', 5), ('N-Gage', 1), ('deck', 1), ('Club', 5), ('www.cnupdates.com/newsletter', 1), ('alerts', 1), ('outta', 4), ('pongal', 4), ('urgnt', 5), ('Wating', 2), ('upping', 1), ('order', 13), ('grams', 1), ('telly', 2), ('Brdget', 1), ('Jones', 1), ('voicemail', 3), ('08719181513', 2), ('\\\\Thinking', 1), ('x\\\\', 2), ('made', 20), ('floppy', 1), ('snappy', 1), ('gay', 6), ('photo', 5), ('upload', 3), ('08718730666', 2), ('10p/min', 8), ('08712460324', 6), ('THING', 1), ('THANX', 2), ('EXAMS', 1), ('MARCH', 1), ('IVE', 4), ('DONE', 4), ('NO', 8), ('REVISION', 1), ('STILL', 1), ('BOYF', 1), ('TA', 2), ('INTERVIW', 1), ('EXETER', 1), ('BIT', 2), ('WORRIED', 1), ('BIG', 1), ('BROTHER', 1), ('ALERT', 1), ('10k', 1), ('09064018838', 1), ('CRO1327', 1), ('BT', 3), ('coulda', 1), ('Valentine', 1), ('NOTHING', 4), ('GENT', 2), ('09064012160', 2), ('K52', 3), ('uncle', 8), ('creep', 1), ('_', 3), ('kallis', 4), ('ground.amla', 1), ('durban', 2), ('Jus', 8), ('Rofl', 1), ('Buzz', 3), ('together', 18), ('training', 5), ('Shola', 1), ('medicine', 3), ('academic', 2), ('department', 2), ('secretary', 1), ('transfer', 2), ('Sagamu', 1), ('lautech', 1), ('vital', 1), ('completes', 1), ('education', 1), ('Nigeria', 3), ('less', 8), ('expensive', 4), ('Unless', 1), ('citizen', 2), ('zealand', 1), ('answering', 3), ('guessing', 1), ('flaked', 2), ('jb', 1), ('Edison', 1), ('rightly', 1), ('\\\\A', 3), ('fool', 3), ('wise', 2), ('answer\\\\', 1), ('speechless', 1), ('ViVa', 1), ('GM', 1), ('Doing', 3), ('project', 13), ('Captain', 2), ('pleased', 4), ('advise', 2), ('recent', 2), ('Mob', 3), ('å£1500', 2), ('09066364589', 1), ('Eerie', 2), ('tones', 15), ('4u', 4), ('rply', 10), ('TITLE', 3), ('8007', 18), ('DRACULA', 2), ('Titles', 3), ('GHOST', 2), ('ADDAMSFA', 2), ('MUNSTERS', 2), ('EXORCIST', 2), ('TWILIGHT', 2), ('thanx', 6), ('vl', 5), ('witin', 1), ('todays', 5), ('Meet', 2), ('others', 8), ('sitting', 7), ('staring', 2), ('juicy', 2), ('pizza', 5), ('These', 3), ('thinkin', 7), ('yijue', 5), ('regarding', 2), ('3230', 1), ('textbook', 1), ('intro', 4), ('algorithms', 1), ('edition', 1), ('selling', 3), ('Sir', 17), ('hey', 4), ('kappa', 1), ('Mmmmm', 1), ('sooooo', 1), ('Mmmm', 3), ('fuck', 14), ('Lion', 1), ('Vijay', 2), ('jaya', 2), ('slave', 7), ('yourself', 17), ('bright', 1), ('Bright', 2), ('Valentines', 5), ('URL', 2), ('Fancy', 6), ('shag', 1), ('do.Interested', 1), ('sextextuk.com', 1), ('XXUK', 1), ('SUZY', 1), ('69876', 1), ('Txts', 3), ('TnCs', 5), ('website', 5), ('SERVICES', 4), ('inclusive', 4), ('goto', 6), ('www.comuk.net', 5), ('login=', 4), ('help:08700469649', 1), ('BOX420', 1), ('IP4', 1), ('5WE', 1), ('Eh', 4), ('din', 7), ('09066612661', 2), ('luxury', 2), ('Canary', 2), ('Islands', 2), ('20M12AQ', 1), ('\\x89ÛÏ', 1), ('House-Maid', 3), ('murderer', 6), ('murdered', 3), ('January', 4), ('public', 3), ('govt.instituitions', 3), ('closed', 5), ('including', 3), ('supports', 1), ('srt', 1), ('ps3', 1), ('usb', 2), ('american', 1), ('voice', 8), ('form', 2), ('clark', 2), ('utter', 2), ('waste', 3), ('perform', 1), ('write', 8), ('paper', 10), ('midnight', 4), ('huh', 9), ('TONEXS', 1), ('subscription', 3), ('renewed', 1), ('charged', 8), ('å£4.50', 4), ('10', 9), ('polys', 5), ('www.clubzed.co.uk', 1), ('BILLING', 1), ('5p', 1), ('alfie', 2), ('Children', 3), ('song', 9), ('m8s', 3), ('charity', 7), ('Nokias', 2), ('Poly', 3), ('zed', 6), ('08701417012', 3), ('profit', 4), ('performed', 1), ('Final', 3), ('å£150', 6), ('discount', 7), ('vouchers', 12), ('YES', 13), ('85023', 5), ('SavaMob', 9), ('member', 6), ('offers', 10), ('POBOX84', 2), ('M263UZ', 2), ('å£3.00', 5), ('Subs', 2), ('TheMob', 3), ('yo-Here', 1), ('selection', 4), ('hot', 11), ('downloads', 3), ('members', 1), ('link', 7), ('fone', 5), ('excuse', 5), ('Smile', 11), ('Pleasure', 3), ('Pain', 3), ('trouble', 5), ('pours', 2), ('Rain', 2), ('sum1', 3), ('Hurts', 2), ('SOMEONE', 3), ('Loves', 5), ('Smiling', 3), ('oh', 20), ('amount', 5), ('small', 8), ('doesn\\x89Û÷t', 1), ('sounds', 4), ('Dun', 7), ('dial', 1), ('browser', 1), ('surf', 1), ('id', 8), ('password', 4), ('bags', 3), ('blanket', 1), ('Ringtone', 8), ('REAL', 3), ('POLY', 6), ('REAL1', 1), ('PushButton', 1), ('DontCha', 1), ('BabyGoodbye', 1), ('GoldDigger', 1), ('WeBeBurnin', 1), ('å£3/wk', 3), ('fyi', 3), ('scared', 3), ('fat', 4), ('flirt', 6), ('DATE', 5), ('UKs', 2), ('Msgs', 3), ('25p', 8), ('optout', 1), ('83021', 1), ('boston', 5), ('statement', 1), ('woulda', 1), ('changed', 6), ('realized', 2), ('nyc', 4), ('computerless', 1), ('Time', 4), ('oreo', 2), ('truffles', 2), ('Discussed', 1), ('mother', 3), ('chikku', 13), ('thts', 3), ('nt', 8), ('å£2,000', 9), ('easy', 19), ('08718726971', 1), ('10p', 11), ('BT-national-rate', 6), ('cheesy', 1), ('songs', 4), ('frosty', 1), ('snowman', 2), ('romantic', 2), ('immediately', 6), ('pop', 2), ('Solve', 3), ('Case', 3), ('Found', 3), ('Murdered', 3), ('AfterNoon', 3), ('His', 7), ('wife', 6), ('Police', 10), ('questioned', 3), ('everyone', 11), ('4.Cook', 3), ('cooking', 4), ('5.Gardener', 3), ('vegetables', 3), ('6.House-Maid', 3), ('7.Children', 3), ('8.Neighbour', 3), ('marriage', 7), ('Immediately', 3), ('Who', 12), ('Reason', 4), ('Brilliant', 3), ('predict', 1), ('0776xxxxxxx', 2), ('XCHAT', 5), ('attempt', 20), ('150p/MsgrcvdHG/Suite342/2Lands/Row/W1J6HL', 4), ('18yrs', 3), ('Tonight', 1), ('ref', 2), ('K718', 1), ('arrive', 5), ('09065069120', 1), ('langport', 1), ('9pm', 2), ('xmas', 3), ('go2sri', 1), ('lanka', 1), ('09061221066', 3), ('fromm', 3), ('28', 4), ('Dad', 8), ('confirm', 7), ('100', 12), ('rental', 9), ('0721072', 1), ('07090201529', 1), ('obviously', 4), ('eggs-pert', 1), ('potato', 1), ('head\\x89Û_', 1), ('Speak', 14), ('ate', 4), ('honey', 2), ('ar', 4), ('500', 17), ('CD', 7), ('125gift', 3), ('www.Ldew.com1win150ppmx3age16', 2), ('FA', 4), ('Cup', 3), ('tkts', 4), ('21st', 3), ('2005', 2), ('87121', 4), ('08452810075over18', 2), ('drinking', 2), ('company', 10), ('Video', 7), ('600', 1), ('400', 1), ('Inclusive', 1), ('delTOMORROW', 1), ('08002888812', 2), ('walmart', 2), ('Idk', 3), ('moved', 2), ('butting', 1), ('heads', 2), ('vs.', 1), ('responsibility', 2), ('tired', 9), ('barely', 4), ('myself', 8), ('Think', 11), ('wot', 12), ('drinkin', 2), ('dancin', 1), ('eatin', 4), ('cinema', 6), ('Up', 2), ('Wot', 4), ('Arngd', 1), ('walkin', 1), ('unfortuntly', 1), ('snake', 3), ('bites', 1), ('dancing', 2), ('frnt', 1), ('sayin', 1), ('Bite', 1), ('bite', 2), ('prefer', 3), ('Tues', 1), ('wed', 2), ('fri', 11), ('workin', 7), ('raping', 1), ('dudes', 1), ('poker', 2), ('Fuck', 9), ('fair', 2), ('weaknesses', 1), ('pushes', 2), ('knee', 1), ('exposes', 1), ('belly', 4), ('pulls', 1), ('wicked', 1), ('blake', 3), ('occurs', 1), ('looked', 4), ('addie', 3), ('Monday', 3), ('Germany', 3), ('pence', 3), ('0844', 2), ('861', 2), ('85', 4), ('prepayment', 2), ('Direct', 2), ('monkeys', 2), ('certainly', 3), ('wud', 3), ('annoyin', 1), ('Went', 4), ('ganesh', 1), ('dress', 3), ('Someone', 7), ('conacted', 1), ('fancy', 4), ('09111030116', 1), ('PoBox12n146tf15', 1), ('mistake', 7), ('shortcode', 1), ('83332.Please', 1), ('08081263000', 1), ('charges', 1), ('refunded.This', 1), ('dr', 1), ('Honey', 3), ('boo', 2), ('view', 1), ('couple', 11), ('gays', 1), ('Give', 6), ('bell', 3), ('ure', 1), ('practical', 2), ('june', 2), ('Kay', 1), ('evaluation', 1), ('konw', 2), ('waht', 2), ('rael', 2), ('FRIENDSHIP', 2), ('gving', 2), ('yuo', 4), ('exmpel', 2), ('Jsut', 2), ('ese', 2), ('tihs', 4), ('Evrey', 2), ('splleing', 2), ('wrnog', 2), ('Bt', 6), ('sitll', 2), ('raed', 2), ('wihtuot', 2), ('ayn', 2), ('mitsake', 2), ('GOODNIGHT', 2), ('HAVE', 8), ('NICE', 8), ('SLEEP', 2), ('SWEET', 3), ('DREAMS', 2), ('Alfie', 1), ('Need', 6), ('CHARITY', 2), ('nokias', 1), ('Juz', 6), ('woke', 8), ('blur', 2), ('cum', 8), ('letter', 2), ('weather', 6), ('funny', 5), ('bluff', 2), ('Izzit', 2), ('impossible', 1), ('battery', 7), ('died', 5), ('ACTION', 1), ('80608', 1), ('www.movietrivia.tv', 1), ('custcare', 7), ('08712405022', 1), ('1x150p/wk', 4), ('LONG', 2), ('FUCKIN', 2), ('SHOWR', 1), ('desperate', 2), ('yrs', 5), ('detail', 1), ('probs', 2), ('hon', 2), ('doinat', 1), ('secure', 1), ('lem', 5), ('chill', 2), ('gei', 1), ('happend', 3), ('tron', 1), ('dl', 1), ('3d', 2), ('fix', 2), ('SUNDAY', 2), ('WILL', 5), ('continued', 1), ('support', 8), ('in2', 2), ('Name', 3), ('US', 2), ('President', 1), ('door', 6), ('useful', 1), ('Kothi', 1), ('print', 1), ('marandratha', 1), ('effect', 2), ('irritation', 1), ('ignore', 4), ('Kallis', 2), ('bat', 3), ('innings', 2), ('Gr8', 5), ('ha', 5), ('-DB-', 1), ('8-hr', 1), ('trip', 17), ('audition', 3), ('wednesday', 4), ('542', 4), ('0578', 2), ('vague', 1), ('inform', 1), ('accounting', 1), ('delayed', 1), ('discuss', 5), ('housing', 1), ('agency', 1), ('renting', 1), ('places', 5), ('usc', 2), ('Mmmmmm', 2), ('Ahmad', 6), ('begin', 3), ('closer', 3), ('side', 9), ('cabin', 4), ('PA', 4), (\"B'day\", 4), ('Boss', 4), ('felt', 11), ('After', 10), ('apartment', 6), ('Kidz', 2), ('screaming', 3), ('sofa', 6), ('.....', 7), ('NAKED', 2), ('plans', 10), ('stone', 1), ('Okay', 8), ('cards', 1), ('pump', 1), ('petrol', 1), ('Like', 7), ('propose', 2), ('Jon', 1), ('Pete', 6), ('Ive', 1), ('bin', 3), ('Spain', 1), ('sum', 1), ('dinero', 1), ('Bill', 2), ('åÔrents', 1), ('12,000pes', 1), ('å£48', 1), ('tb', 3), ('James', 2), ('pass', 6), ('09061209465', 2), ('Suprman', 2), ('Matrix3', 2), ('StarWars3', 2), ('bx420-ip4-5we', 2), ('Fuuuuck', 1), ('sleepin', 2), ('Too', 2), ('train', 7), ('worc', 1), ('foregate', 1), ('shrub', 1), ('tescos', 1), ('winner', 11), ('Guaranteed', 1), ('09071517866', 1), ('150ppmPOBox10183BhamB64XE', 1), ('Storming', 3), ('lift', 4), ('phne', 3), ('\\\\HELLO\\\\', 3), ('knw', 15), ('wt', 3), ('Margaret', 3), ('Hello\\\\', 3), ('girlfrnd', 3), ('f', 3), ('Grahmbell', 3), ('invnted', 3), ('telphone', 3), ('Moral', 5), ('4get', 3), ('dry', 2), ('trade', 2), ('credit', 9), ('tog', 3), ('connections', 1), ('Panasonic', 1), ('BluetoothHdset', 1), ('DoubleMins', 1), ('DoubleTxt', 1), ('contract', 5), ('2optout', 3), ('Aah', 3), ('cuddle', 3), ('lush', 1), ('lots', 12), ('tea', 5), ('soup', 2), ('fumbling', 1), ('reserve', 1), ('ticket', 5), ('saturday', 6), ('thirunelvali', 1), ('tirunelvali', 2), ('sunday', 7), ('net', 8), ('tackle', 1), ('teach', 5), ('ship', 2), ('cars', 5), ('swashbuckling', 1), ('\\\\Si.como', 1), ('listened2the', 1), ('plaid', 1), ('album-quite', 1), ('air1', 1), ('which', 36), ('hilarious-also', 1), ('boughtåÓbraindanceåÓa', 1), ('comp.ofstuff', 1), ('aphexåÕs', 1), ('abel', 1), ('dance', 1), ('river', 2), ('SPJanuary', 1), ('Male', 2), ('Sale', 2), ('Hot', 2), ('Gay', 2), ('08709222922', 2), ('National', 4), ('1.5p/min', 2), ('cheap', 7), ('7.8p/min', 2), ('peak', 2), ('westshore', 1), ('hyde', 1), ('village', 3), ('near', 5), ('rem', 5), ('silver', 2), ('black', 4), ('GONNAMISSU', 1), ('MUCH', 5), ('WOULD', 2), ('SAY', 2), ('SEND', 1), ('BUTTHERES', 1), ('ABOUTAS', 1), ('CHANCE', 4), ('MEREMEMBERIN', 1), ('ASTHERE', 1), ('OFSI', 1), ('NOT', 7), ('BREAKIN', 1), ('HIS', 2), ('CONTRACT', 1), ('Yaxx', 1), ('forced', 1), ('slice', 2), ('hungry', 11), ('tho', 10), ('Mark', 4), ('turn', 3), ('select', 1), ('astrology', 1), ('quick', 7), ('Guess', 11), ('screwd', 1), ('Teach', 1), ('apps', 2), ('hourish', 1), ('Feel', 2), ('kadeem', 2), ('CHEERS', 1), ('LOU', 1), ('GOODNITE', 1), ('SHAME', 1), ('NEVA', 1), ('CAME', 1), ('YA', 2), ('GAILxx', 1), ('REALLY', 4), ('KISS', 1), ('MISS', 3), ('BABY', 4), ('4EVA', 1), ('subscribed', 2), ('best', 28), ('Content', 2), ('å£3', 2), ('83435', 1), ('Helpline', 1), ('08706091795', 1), ('07734396839', 2), ('IBH', 2), ('Loyalty', 3), ('NOKIA6600', 2), ('ONLY', 7), ('å£10', 3), ('TXTAUCTION', 4), ('START', 3), ('No:81151', 2), ('Yours', 2), ('4T', 3), ('Hi.what', 1), ('imma', 7), ('jay', 7), ('Booked', 2), ('Lions', 2), ('lionm', 2), ('mono', 2), ('lionp', 2), ('www.ringtones.co.uk', 4), ('original', 5), ('Tones', 7), ('3GBP', 4), ('Finally', 3), ('Aftr', 2), ('decades', 1), ('BEER', 1), ('PETROL', 1), ('goverment', 1), ('expects', 1), ('\\\\DRINK\\\\', 1), ('DRIVE', 1), ('Thgt', 1), ('fren', 5), ('laptop', 9), ('stock', 5), ('mon', 7), ('muz', 6), ('Glad', 4), ('treated', 2), ('digi', 1), ('cam', 3), ('fab', 2), ('coupla', 1), ('wks', 2), ('wisdom', 3), ('hidden', 1), ('remove', 7), ('Jordan', 4), ('voted', 1), ('Black', 3), ('shirt', 4), ('blue', 10), ('jeans', 2), ('returns', 4), ('09050000878', 1), ('PoBox45W2TG150P', 2), ('message.it', 1), ('leaving', 15), ('shoot', 4), ('settled', 4), ('wishin', 2), ('\\\\Happy', 1), ('valentines', 1), ('day\\\\', 1), ('hundreds', 1), ('handsomes', 1), ('beauties', 1), ('aunties', 1), ('.be', 2), ('thursday', 2), ('Hahaha', 3), ('brain', 3), ('CALL', 21), ('09058091854', 2), ('revealed', 4), ('BOX385', 2), ('M6', 2), ('6WU', 2), ('Opt-out', 4), ('09061213237', 1), ('177', 1), ('M227XY', 1), ('posting', 1), ('working', 18), ('city', 2), ('technical', 3), ('support.providing', 1), ('assistance', 1), ('At', 13), ('apo', 1), ('k.good', 1), ('coffee', 4), ('drove', 1), ('Die', 1), ('toot', 1), ('fringe', 2), ('MAKE', 1), ('SURE', 2), ('ALEX', 2), ('KNOWS', 1), ('BIRTHDAY', 4), ('FIFTEEN', 1), ('MINUTES', 1), ('AS', 4), ('FAR', 2), (\"'RE\", 1), ('CONCERNED', 1), ('jp', 1), ('mofo', 1), ('twenty', 1), ('past', 5), ('durham', 1), ('reserved', 1), ('seat', 3), ('taste', 1), ('relax', 5), ('wkend', 2), ('Years', 3), ('Eve', 1), ('tickets', 7), ('sale', 6), ('10am', 1), ('8pm', 2), ('Thurs', 1), ('Fri', 1), ('Sat', 4), ('booked', 7), ('Including', 3), ('bugis', 6), ('afterwards', 1), ('bank', 7), ('authorise', 1), ('payment', 2), ('didnt', 20), ('transport', 2), ('problematic', 1), ('bday', 3), ('definite', 1), ('nos', 2), ('Stupid.its', 2), ('quitting', 1), ('least5times', 1), ('Nah', 8), ('taunton', 4), ('fact', 5), ('raise', 2), ('adult', 3), ('learn', 6), ('danger', 1), ('peeps', 1), ('using', 7), ('comment', 1), ('Those', 3), ('ducking', 1), ('chinchillas', 1), ('jason', 2), ('Men', 1), ('shorter', 3), ('Gaze', 1), ('adding', 1), ('zeros', 1), ('savings', 1), ('bath', 8), ('Yun', 3), ('ah.now', 1), ('wkg', 2), ('nus', 1), ('sc', 1), ('specialise', 1), ('wad', 1), ('describe', 1), ('02/06/03', 4), ('09066362220', 1), ('ASAP', 7), ('BOX97N7QP', 3), ('dirty', 1), ('fellow', 1), ('530', 4), ('wow', 3), ('Cuz', 1), ('signin', 1), ('poking', 1), ('everyday', 1), ('canada', 1), ('abi', 4), ('Beautiful', 4), ('Expression', 1), ('depression', 1), ('understood', 3), ('Loved', 1), ('Ni8', 1), ('announcement', 5), ('PREMIER', 1), ('Heart', 5), ('Mind', 4), ('Eyes', 2), ('frnds', 9), ('Alwys', 2), ('Touch', 2), ('wtf', 2), ('random', 3), ('Btw', 1), ('break', 8), ('valuable', 3), ('situations', 1), ('First-', 1), ('Before', 1), ('Second-', 1), ('loosing', 1), ('HELLOGORGEOUS', 1), ('HOWS', 2), ('CHARGE', 1), ('LST', 1), ('NITW', 1), ('WEN', 2), ('TEXD', 1), ('HOPEU', 1), ('AD', 1), ('WKEND', 1), ('DID', 5), ('LOOKIN', 1), ('4WARD', 1), ('C-IN', 1), ('JAZ', 1), ('Hai', 3), ('ana', 1), ('tomarrow', 1), ('sathy', 1), ('ll', 4), ('RTO', 1), ('option', 3), ('beta', 1), ('yan', 5), ('jiu', 5), ('gud', 10), ('Headin', 1), ('towards', 6), ('busetop', 1), ('AXIS', 1), ('BANK', 1), ('www.Applausestore.com', 1), ('MonthlySubscription', 1), ('50p/msg', 1), ('max6/month', 1), ('CsC', 1), ('web', 2), ('2stop', 1), ('Single', 2), ('\\\\Miss', 1), ('Best', 4), ('Life\\\\', 1), ('pretty', 13), ('weak', 5), ('Phony', 1), ('å£350', 11), ('XXXX', 1), ('3100', 2), ('THANX4', 1), ('CER', 1), ('CATCH', 1), ('BUT', 7), ('WE', 4), ('AVE', 2), ('MORE', 3), ('OFTEN', 1), ('WELL', 5), ('TAKE', 3), ('CARE', 2), ('SOON.C', 1), ('Rent', 1), ('glad', 5), ('xafter', 1), ('cst', 1), ('ntwk', 4), ('chg', 1), ('Saw', 1), ('Guys', 1), ('Dolls', 1), ('Patrick', 1), ('Swayze', 1), ('K.', 4), ('adventuring', 1), ('Yep', 7), ('jontin', 1), ('computers', 1), ('Sian', 1), ('Aft', 3), ('interview', 3), ('mummy', 2), ('father', 9), ('yes', 9), ('under', 5), ('coccooning', 1), ('belive', 2), ('1/2', 4), ('linerental', 3), ('B/Tooth', 1), ('FREE-Nokia', 1), ('or2optout/HV9D', 1), ('ipod', 3), ('POD', 4), ('80182', 3), ('08452810073', 3), ('Euro2004', 2), ('kickoff', 1), ('informed', 4), ('Unsubscribe', 1), ('GET', 6), ('EURO', 1), ('83222', 2), ('Mmmmmmm', 1), ('snuggles', 1), ('contented', 1), ('sigh', 2), ('whispers', 1), ('fucking', 10), ('ful', 2), ('lyrics', 1), ('Career', 1), ('Tel', 3), ('INDYAROCKS.COM', 1), ('phonebook', 1), ('TAROT', 1), ('TEXTS', 1), ('Find', 4), ('85555', 1), ('manage', 1), ('Many', 4), ('lose', 16), ('An', 2), ('excellent', 3), ('misundrstud', 1), ('hate', 4), ('wen', 7), ('Gn', 2), ('calling.Forgot', 1), ('Onam', 1), ('Sirji.I', 1), ('remembered', 2), ('person.Meet', 1), ('Qatar', 1), ('Insha', 1), ('Allah.Rakhesh', 1), ('ex', 7), ('Tata', 1), ('AIG', 1), ('TISSCO', 2), ('Tayseer', 2), ('Aww', 1), ('first', 40), ('asking', 6), ('posible', 1), ('century', 1), ('cm', 1), ('frwd', 1), ('different', 8), ('sweets', 2), ('grand', 4), ('nature', 2), ('adventure', 2), ('galileo', 2), ('Omg', 6), ('wedding', 3), ('chapel', 1), ('frontierville', 1), ('melody', 1), ('joining', 1), ('formally.Pls', 1), ('praying.will', 1), ('sells', 1), ('4d', 1), ('closes', 2), ('skateboarding', 1), ('despite', 2), ('thrown', 1), ('winds', 1), ('bandages', 1), ('arms', 3), ('Kick', 1), ('season', 3), ('2wks', 2), ('goals', 1), ('VILLA', 1), ('Pathaya', 1), ('enketa', 1), ('maraikara', 1), ('pa', 13), ('engin', 2), ('chuckin', 1), ('red', 6), ('trainners', 1), ('carryin', 1), ('bac', 1), ('adore', 3), ('matter', 6), ('PARTY', 2), ('NICHOLS', 2), ('callon', 1), ('Friday', 3), ('assume', 4), ('Princess', 3), ('kitty', 1), ('shaved', 1), ('natural', 2), ('roles', 1), ('community', 2), ('outreach', 1), ('rock', 9), ('mel', 2), ('å£800', 7), ('09050000460', 1), ('J89', 1), ('po', 1), ('box245c2150pm', 1), ('case', 9), ('lodge', 1), ('parked', 1), ('forgiven', 2), ('=D', 4), ('used', 11), ('agents', 1), ('experiment', 1), ('clear', 2), ('sarcastic', 2), ('fps', 1), ('fried', 1), ('spares', 1), ('idiot', 2), ('roommates', 2), ('looovvve', 1), ('/7', 2), ('Really', 5), ('Nite', 4), ('unable', 5), ('07099833605', 1), ('re-schedule', 2), ('Ref:9280114', 1), ('JD', 1), ('Accounts', 1), ('Executive', 1), ('ingredients', 1), ('corect', 1), ('speling', 1), ('i.e', 1), ('Sarcasm', 1), ('tel', 5), ('starting', 4), ('system', 5), ('Fwiw', 1), ('reason', 6), ('afford', 1), ('tells', 5), ('hun-onbus', 1), ('2go', 2), ('4a', 2), ('meal', 3), ('donyt', 1), ('cuz', 4), ('hes', 2), ('latelyxxx', 1), ('nauseous', 1), ('pissed', 5), ('pig', 4), ('dieting', 1), ('/', 6), ('tonite', 6), ('Painful', 1), ('words-', 1), ('\\\\I', 6), ('toughest', 1), ('Earth', 1), ('you.my', 1), ('di', 3), ('talents', 1), ('Aiyo', 6), ('pai', 1), ('seh', 1), ('die', 7), ('become', 3), ('Mum', 3), ('Hoping', 1), ('meets', 1), ('K.k.this', 1), ('kotees', 1), ('mesages', 1), ('john', 3), ('lennon', 1), ('catching', 2), ('lost', 8), ('doc', 2), ('woot', 2), ('celebrate', 4), ('stuffing', 1), ('pickle', 2), ('Open', 1), ('rebtel', 1), ('firefox', 1), ('sign', 6), ('show', 17), ('lower', 2), ('Once', 9), ('pin', 3), ('display', 2), ('Hmmm', 7), ('Italian', 3), ('boy', 14), ('responding', 3), ('priya', 1), ('doctor', 6), ('bro', 1), ('creative', 1), ('Neva', 3), ('owns', 2), ('private', 1), ('property', 2), ('Package', 1), ('programs', 1), ('Hmmm.still', 1), ('opener', 1), ('velachery', 1), ('Cardiff', 1), ('cold', 5), ('radiator', 1), ('unbelievable', 1), ('faglord', 1), ('k.k', 1), ('I\\x89Û÷ll', 2), ('four', 3), ('Also', 11), ('dobby', 2), ('nan', 1), ('yalrigu', 1), ('heltini', 1), ('Iyo', 1), ('kothi', 1), ('shared', 1), ('wit', 7), ('far', 10), ('body', 5), ('uttered', 1), ('trusting', 1), ('Plz', 6), ('nxt', 7), ('B-', 1), ('26th', 2), ('JULY', 1), ('home.love', 1), ('invite', 3), ('unique', 4), ('ID', 3), ('1172', 1), ('ever', 19), ('alcohol', 3), ('Jay', 5), ('safely', 1), ('Block', 1), ('Breaker', 1), ('deluxe', 1), ('features', 1), ('graphics', 1), ('å£5', 1), ('BBDELUXE', 1), ('challenge', 2), ('requirements', 1), ('VE', 2), ('Costa', 5), ('Del', 5), ('Sol', 5), ('09050090044', 4), ('toClaim', 4), ('TC', 4), ('POBox334', 4), ('Stockport', 4), ('SK38xh', 4), ('Costå£1.50/pm', 4), ('Max10mins', 4), ('jack', 1), ('say/ask', 1), ('helpful', 1), ('pretend', 1), ('response', 1), ('hypotheticalhuagauahahuagahyuhagga', 1), ('ENTER', 3), ('84128', 3), ('www.textcomp.com', 2), ('cust', 1), ('08712405020', 4), ('Alright', 8), ('hooked', 1), ('ride', 3), ('crashing', 1), ('It\\x89Û÷s', 2), ('å£6', 2), ('pdate_Now', 1), ('tariffs', 5), ('call2optout/', 1), ('YHL', 1), ('askin', 6), ('20', 4), ('salon', 1), ('soul', 1), ('fire', 2), ('spark', 1), ('flame', 2), ('rawring', 1), ('XoXo', 1), ('tiring', 1), ('Uni', 1), ('modules', 2), ('concentrating', 1), ('wonders', 4), ('WORLD', 5), ('7th', 4), ('6th', 4), ('style', 7), ('5th', 4), ('4th', 5), ('Personality', 4), ('3rd', 5), ('Nature', 4), ('\\\\Ur', 4), ('Lovely', 4), ('Friendship\\\\', 4), ('answered', 1), ('85233', 1), ('NY', 1), ('2p', 2), ('08448350055', 1), ('PlanetTalkInstant.com', 1), ('Hm', 2), ('Ask', 2), ('g', 10), ('iouri', 3), ('nokia', 5), ('6230', 1), ('digital', 1), ('83383', 1), ('POBOX114/14TCR/W1', 1), ('bill', 6), ('millers', 1), ('massive', 2), ('rather', 6), ('involved', 1), ('Somewhr', 1), ('perfect', 3), ('crushes', 1), ('Howz', 6), ('relieved', 1), ('westonzoyland', 1), ('Sitting', 2), ('suite', 2), ('Sure', 5), (\"'rencontre\", 1), ('Mountains', 1), ('Luckily', 1), ('starring', 1), ('role', 4), ('calicut', 3), ('08718726978', 1), ('soooo', 1), ('problems', 6), ('provider', 1), ('tming', 1), ('pics', 9), ('bigger', 2), ('XMAS', 5), ('draws', 1), ('U.', 9), ('09058094565', 2), ('Old', 1), ('Orchard', 1), ('univ', 1), ('Wendy', 1), ('Theyre', 1), ('hospitals', 1), ('Appt', 1), ('fault', 6), ('twice', 3), ('Mmm', 2), ('yummy', 2), ('jolt', 2), ('suzy', 1), ('treasure', 1), ('08715203694', 1), ('repeat', 2), ('instructions', 2), ('road', 6), ('\\\\Its', 2), ('luck', 6), ('fortune', 1), ('||', 13), ('weeks', 14), ('Ffffffffff', 1), ('sooner', 1), ('oga', 1), ('Left', 2), ('Remind', 1), ('loud', 2), ('careful', 1), ('entrepreneurs', 1), ('submitting', 1), ('habit', 1), ('Nan', 2), ('bari', 1), ('hudgi', 1), ('yorge', 1), ('pataistha', 1), ('ertini', 1), ('rob', 1), ('mack', 1), ('gf', 1), ('theater', 1), ('Tomorrow', 3), ('pages', 4), ('LOL', 4), ('bsn', 1), ('advising', 1), ('reboot', 1), ('ym', 2), ('buzz', 2), ('Xavier', 1), ('bag', 6), ('caring', 1), ('Know', 1), ('treadmill', 1), ('ad', 4), ('Craigslist', 1), ('PLAY', 2), ('83370', 1), ('www.music-trivia.net', 1), ('funk', 2), ('TONES2U', 2), ('Squeeeeeze', 1), ('christmas', 5), ('hug', 4), ('lik', 5), ('frndshp', 1), ('cute', 2), ('luvd', 1), ('None', 2), ('People', 2), ('ARE', 9), ('CHOSEN', 2), ('RECEIVE', 3), ('AWARD', 2), ('09066364311', 2), ('Mah', 1), ('car.so', 1), ('\\\\ER', 1), ('spree', 6), ('SHOP', 2), ('www.txt-2-shop.com', 2), ('gep', 1), ('08715205273', 1), ('bot', 1), ('notes', 1), ('power', 4), ('yoga', 7), ('hip', 4), ('hop', 7), ('kb', 7), ('yogasana', 2), ('california', 2), ('manageable', 1), ('09058095107', 1), ('S3XY', 1), ('paining', 1), ('Yes.i', 1), ('pap', 2), ('sugar', 3), ('32000', 1), ('legitimat', 1), ('efreefone', 1), ('En', 1), ('nange', 1), ('bakra', 1), ('kalstiya', 1), ('tea/coffee', 1), ('Right', 1), ('exe', 1), ('HI', 10), ('DARLIN', 5), ('FINISH', 2), ('OR', 2), ('MEET', 3), ('TEXT', 8), ('NUMBER', 2), ('KATE', 4), ('jabo', 1), ('sundayish', 1), ('Jenny', 1), ('Leanne.what', 1), ('Jamster', 1), ('wallpaper', 2), ('88888', 1), ('Help', 5), ('08701213186', 1), ('Zogtorius', 1), ('IåÕve', 1), ('age', 3), ('deciding', 2), ('clever', 2), ('guesses', 1), ('willing', 5), ('leona', 4), ('attach', 1), ('chillaxin', 1), ('ikea', 1), ('str', 3), ('U\\\\', 2), ('VALUED', 2), ('FRNDS\\\\', 2), ('evn', 2), ('Evr', 2), ('Whats', 2), ('monster', 1), ('Things', 2), ('falling', 2), ('force', 2), ('fall', 6), ('smeone', 2), ('morn', 3), ('Phone', 6), ('750', 11), ('Half', 6), ('Price', 5), ('Line', 1), ('Rental', 1), ('Camcorder', 5), ('08000930705', 9), ('specific', 2), ('regards', 5), ('jaklin', 1), ('idk', 1), ('Carlos', 6), ('usf', 9), ('WHITE', 1), ('FUDGE', 1), ('OREOS', 1), ('STORES', 1), ('-P', 3), ('250', 4), ('British', 2), ('hotels', 2), ('Worth', 1), ('02072069400', 1), ('Bx', 1), ('526', 1), ('SW73SS', 2), ('hint', 1), ('forum', 1), ('ron', 3), ('shuhui', 5), ('...........', 2), ('successful', 2), ('actor', 2), ('Since', 3), ('unemployed', 2), ('ALWAYS', 1), ('rcv', 2), ('svc', 1), ('Hardcore', 1), ('69988', 1), ('Age', 1), ('Verify', 1), ('believe', 18), ('rhythm', 2), ('establish', 1), ('syllabus', 1), ('grandmas', 1), ('Shit', 3), ('hungover', 1), ('\\\\SHIT', 1), ('THASA', 1), ('MESSED', 1), ('UP.YEH', 1), ('Today-sunday', 3), ('pic', 12), ('re-send', 1), ('decorating', 1), ('registered', 5), ('Sinco', 2), ('Payee', 2), ('Log', 3), ('icicibank.com', 2), ('URN', 4), ('Beware', 3), ('frauds', 2), ('disclose', 2), ('presnts', 1), ('bcz', 1), ('mis', 2), ('\\\\jeevithathile', 1), ('irulinae', 1), ('neekunna', 1), ('prakasamanu', 1), ('sneham\\\\', 1), ('prakasam', 1), ('ennal', 1), ('prabha', 2), (\"'That\", 1), ('mns', 1), (\"is'LOVE\", 1), ('resume', 1), ('avatar', 2), ('nigro', 1), ('annie', 1), ('watever', 1), ('reLation', 1), ('built', 1), ('remains', 1), ('atlast', 1), ('iz', 3), ('lonlines', 1), ('lotz', 1), ('memories', 1), ('Meanwhile', 3), ('greet', 1), ('plenty', 6), ('reached', 8), ('gentleman', 3), ('dignity', 3), ('respect', 3), ('0207', 2), ('153', 2), ('9996', 1), ('14thMarch', 1), ('availa', 1), ('walk', 13), ('\\\\julianaland\\\\', 1), ('oblivious', 1), ('constantly', 2), ('ear', 1), ('upset', 2), ('surprised', 3), ('supposed', 8), ('8th', 2), ('atm', 1), ('cartons', 1), ('shelves', 1), ('specify', 1), ('domain', 1), ('nusstu', 1), ('Awww', 1), ('Zaher', 1), ('Yavnt', 1), ('Jane', 1), ('babes', 3), ('wrk', 1), ('lst', 1), ('Foned', 1), ('cover', 4), ('chuck', 1), ('cbe', 4), ('Whens', 1), ('consent', 1), ('forms', 1), ('islands', 1), ('membership', 2), ('å£100,000', 1), ('Jackpot', 1), ('CLAIM', 2), ('81010', 1), ('www.dbuk.net', 1), ('LCCLTD', 1), ('POBOX', 5), ('4403LDNW1A7RW18', 1), ('Oic', 2), ('group', 6), ('HIYA', 2), ('COMIN', 2), ('BRISTOL', 1), ('ST', 1), ('WEEK', 3), ('APRIL', 1), ('LES', 1), ('OFF', 1), ('RUDI', 1), ('YRS', 1), ('EVE', 4), ('SNORING.THEY', 1), ('WERE', 2), ('DRUNK', 1), ('BAK', 2), ('COLLEGE', 1), ('YET', 1), ('SENDS', 1), ('INK', 1), ('BATH', 1), ('Dan', 1), ('reminded', 1), ('haircut', 1), ('breezy', 1), ('temales', 1), ('accessible', 1), ('08709501522', 1), ('139', 1), ('LA3', 1), ('2WU', 1), ('å£1.50/week', 1), ('respond', 5), ('quickly', 3), ('bathe', 9), ('Noice', 1), ('Don', 3), ('senthil', 1), ('hsbc', 1), ('rules', 1), ('happening', 6), ('Yet', 1), ('bend', 1), ('thia', 1), ('argument', 2), ('DOESNT', 1), ('inlude', 1), ('previews', 1), ('several', 2), ('3qxj9', 4), ('08702840625.COMUK', 3), ('220-CM2', 3), ('9AE', 4), ('aids', 1), ('patent', 1), ('Cause', 1), ('freaky', 1), ('cat', 2), ('goigng', 1), ('except', 3), ('perfume', 1), ('pocked', 1), ('hun', 2), ('Been', 4), ('dates', 3), ('walkabout', 1), ('bitch', 5), ('ITS', 8), ('CAN', 7), ('GIVE', 3), ('RING', 4), ('bathing', 2), ('dog', 5), (\"doesn\\\\'t\", 2), ('March', 2), ('08715203652', 1), ('42810', 1), ('29/10/0', 1), ('Haf', 1), ('anybody', 4), ('tactful', 1), ('alex', 2), ('greatest', 2), ('courage', 2), ('earth', 5), ('bear', 2), ('defeat', 2), ('losing', 3), ('gn', 2), ('tc', 4), ('Raviyog', 1), ('Peripherals', 1), ('bhayandar', 1), ('east', 1), ('Kinda', 1), ('First', 6), ('twelve', 2), ('vote', 2), ('guides', 1), ('tall', 1), ('lab', 4), ('hopefully', 3), ('tyler', 4), ('Waiting', 5), ('semiobscure', 1), ('kisses', 4), ('Uncle', 3), ('rewarding', 1), ('Whom', 1), ('waited', 2), ('Go', 13), ('club4mobiles.com', 1), ('content', 9), ('CLUB', 1), ('87070', 1), ('150p/wk', 1), ('Club4', 1), ('Box1146', 1), ('MK45', 1), ('2WT', 1), ('Message', 3), ('Important', 2), ('information', 8), ('log', 8), ('onto', 5), ('//www.urawinner.com', 5), ('surprise', 5), ('awaiting', 4), ('area', 12), ('restaurant', 2), ('MESSAGE', 3), ('claims', 2), ('dept', 1), ('13/4/04', 1), ('08717507382', 1), ('anyplaces', 1), ('grandfather', 1), ('expired', 1), ('basically', 4), ('sub', 1), ('naughty', 4), ('bought', 4), ('clothes', 1), ('Ready', 1), ('Farm', 1), ('9am', 1), ('5pm', 2), ('95/pax', 1), ('deposit', 1), ('Ard', 6), ('tape', 3), ('measure', 2), ('\\\\Are', 1), ('comingdown', 1), ('study', 7), ('natwest', 1), ('return', 5), ('09058094454', 1), ('\\\\HELLO', 1), ('U.CALL', 1), ('WRK.I', 1), ('FANCY', 1), ('MEETIN', 1), ('WIV', 1), ('TONITE', 1), ('BREAK', 1), ('DABOOKS', 1), ('HRS', 1), ('NITE+2', 1), ('WRK', 1), ('favourite', 3), ('block', 1), ('armenia', 1), ('swann', 1), ('terms', 5), ('mids', 1), ('promises', 1), ('gotten', 1), ('weekdays', 1), ('Haiz', 2), ('Cut', 1), ('nails', 1), ('drivin', 4), ('Bbq', 1), ('6ish', 1), ('Bloody', 1), ('hell', 4), ('surname', 1), ('Mr', 2), ('clue', 1), ('spanish', 1), ('begins', 1), ('m', 10), ('tomorrow/today', 1), ('clas', 1), ('wrks', 1), ('j', 1), ('bout', 13), ('jot', 1), ('overtime', 1), ('nigpun', 1), ('tm', 4), ('smart', 3), ('move', 7), ('drink', 12), ('jurong', 1), ('buffet', 2), ('Cine', 1), ('amore', 1), ('ned', 2), ('convince', 1), ('witot', 1), ('hurting', 1), ('various', 3), ('friend-of-a-friend', 1), ('actual', 2), ('\\\\Getting', 1), ('walsall', 1), ('tue', 1), ('bak', 5), ('.Terry\\\\', 1), ('opinion', 6), ('Over', 5), ('Jada', 3), ('Kusruthi', 3), ('Lovable', 3), ('Silent', 3), ('Spl', 3), ('character', 5), ('matured', 3), ('Stylish', 3), ('Simple', 3), ('model', 5), ('Youi', 1), ('cash-balance', 6), ('maximize', 6), ('cash-in', 6), ('CC', 6), ('08718720201', 5), ('HG/Suite342/2Lands', 7), ('Row/W1J6HL', 3), ('Air', 1), ('Force', 1), ('Iraq', 1), ('afghanistan', 1), ('stable', 1), ('honest', 1), ('traveling', 1), ('tat', 6), ('note', 4), ('Co.', 2), ('asks', 4), ('Disconnect', 2), (\"'terrorist\", 2), ('Itz', 2), ('confirmd', 2), ('motorola', 2), ('verified', 2), ('CNN', 2), ('IBN', 2), ('12Mths', 1), ('400mins', 1), ('call2optout=J5Q', 1), ('spoke', 3), ('MANEESHA', 2), ('V.', 3), ('satisfied', 2), ('Toll', 2), ('Wednesday', 1), ('mini', 2), ('cheetos', 1), ('flurries', 1), ('melt', 2), ('ground', 2), ('Eek', 2), ('frying', 3), ('pan', 2), ('it\\x89Û÷s', 1), ('perhaps', 1), ('that\\x89Û÷s', 2), ('silly', 1), ('isn\\x89Û÷t', 1), ('2000', 2), ('Ilol', 1), ('personally', 1), ('wuldnt', 1), ('bother', 7), ('mite', 2), ('ou', 1), ('40GB', 5), ('iPod', 7), ('MP3', 4), ('player', 10), ('COLLECT', 4), ('83355', 3), ('IBHltd', 2), ('LdnW15H', 2), ('150p/Mtmsgrcvd18', 1), ('retard', 1), ('Fine', 3), ('Serious', 1), ('proper', 1), ('tongued', 1), ('Mnths', 2), ('callback', 3), ('records', 4), ('prin', 1), ('Summers', 1), ('singles', 3), ('MATCHED', 1), ('SUMMER', 1), ('OptOut', 2), ('Help08714742804', 1), ('sometext', 1), ('change', 14), ('consider', 1), ('walls', 1), ('bunkers', 1), ('peaceful', 1), ('India', 5), ('Sos', 1), ('rang', 2), ('L', 1), ('09050003091', 1), ('C52', 1), ('kills', 2), ('ree', 1), ('stops', 2), ('\\\\find', 1), ('burgundy', 1), ('captaining', 1), ('stress', 3), ('L8r', 1), ('Annoying', 1), ('birth', 2), ('8lb', 1), ('7oz', 1), ('Mother', 2), ('brilliantly', 1), ('however', 6), ('stays', 2), ('ors', 1), ('stool', 1), ('ring', 11), ('09050005321', 1), ('+123', 2), ('09050002311', 2), ('b4280703', 2), ('08718727868', 2), ('arsenal', 1), ('dartboard', 1), ('condition', 2), ('doubles', 1), ('trebles', 1), ('drunkard', 1), ('Wats', 2), ('referin', 1), ('mei', 2), ('waitin', 2), ('rich', 3), ('onwards', 3), ('engalnd', 1), ('mia', 1), ('elliot', 1), ('kissing', 1), ('Tmorrow.pls', 1), ('accomodate', 1), ('parkin', 1), ('kent', 1), ('vale', 1), ('Er', 4), ('mw', 1), ('filled', 1), ('tuth', 1), ('aight', 4), ('hdd', 1), ('casing', 1), ('mths', 5), ('Camera/Video', 1), ('SAME', 2), ('mins/texts', 1), ('Wherre', 1), ('messages-Text', 1), ('84025', 3), ('Use', 5), ('web2mobile', 1), ('Txt250.com', 1), ('1.50p/wk', 1), ('BOX139', 1), ('LA32WU', 1), ('Remove', 2), ('txtX', 1), ('wikipedia.com', 1), ('lim', 1), ('mp3', 2), ('mirror', 1), ('youre', 2), ('turning', 2), ('step', 3), ('foward', 1), ('ruin', 1), ('inconsiderate', 2), ('nag', 2), ('recession', 2), ('hence', 2), ('HEY', 5), ('HONEY', 1), ('HOLIDAY', 1), ('GIMMI', 1), ('DE', 1), ('GOSS', 1), ('hiding', 1), ('ic', 2), ('doors', 2), ('sometime', 2), ('omw', 6), ('half8th', 1), ('Baaaaaaaabe', 1), ('Wake', 4), ('08702490080', 1), ('09066358152', 2), ('prompts', 2), ('Careful', 2), ('dropped', 5), ('stairs', 1), ('seems', 7), ('phews', 1), ('Wan2', 1), ('Meet+Greet', 1), ('Westlife', 1), ('m8', 1), ('Unbreakable', 1), ('Untamed', 1), ('Unkempt', 1), ('1,2', 1), ('83049', 1), ('50p', 2), ('+std', 1), ('settling', 1), ('happenin', 1), ('ola', 1), ('\\\\NOT', 1), ('ENUFCREDEIT', 1), ('TOCALL.SHALL', 1), ('ILEAVE', 1), ('UNI', 2), ('+GET', 1), ('YOR', 1), ('HOUSE', 2), ('Under', 2), ('lays', 2), ('philosophy', 3), ('board', 1), ('issue', 2), ('overheating', 1), ('reslove', 1), ('software', 1), ('inst', 1), ('pending', 2), ('o', 4), ('clock', 4), ('Vegas', 1), ('vegas', 1), ('DOUBLE', 4), ('2stoptxt', 2), ('bunch', 1), ('lotto', 1), ('Deal', 1), ('chase', 2), ('stated', 1), ('movies', 7), ('grocers', 1), (\"FR'NDSHIP\", 1), ('needle', 1), ('Though', 2), ('Evn', 1), ('itz', 1), ('4few', 1), ('seconds', 2), ('alwys', 1), ('conected', 1), ('9t', 2), ('mum', 10), ('yun', 2), ('depends', 3), ('Handset', 2), ('networks', 2), ('UNLIMITED', 4), ('Living', 2), ('simple', 12), ('Loving', 2), ('Laughing', 2), ('Winning', 2), ('tooo', 2), (\"'SIMPLE\", 2), ('nte', 1), ('EuroDisinc', 2), ('Trav', 2), ('Aco', 2), ('Entry41', 2), ('DIS', 2), ('18+6', 2), ('moreFrmMob', 2), ('ShrAcomOrSglSuplt', 2), ('LS1', 2), ('3AJ', 2), ('MAYBE', 1), ('WOKE', 1), ('BEFORE', 3), (\"N'T\", 2), ('BE', 4), ('PROBLEM', 1), ('styles', 1), ('-/', 1), ('starshine', 1), ('Ache', 1), ('sips', 1), ('cappuccino', 2), ('BY', 1), ('POST', 2), ('accommodation', 1), ('global', 1), ('www.phb1.com', 1), ('ph:08700435505150p', 1), ('Off', 2), ('sheffield', 1), ('tom', 1), ('opinions', 2), ('categories', 1), ('ethnicity', 1), ('census', 1), ('Busy', 3), ('transcribing', 1), (',s', 1), ('taxt', 1), ('massage', 1), ('tie-pos', 1), ('argh', 1), ('Lool', 1), ('pleasant', 1), ('-u', 1), ('statements', 1), ('Thought', 5), ('xuhui', 1), ('Cool-Mob', 1), ('include', 2), ('Crazy', 2), ('Frog-AXEL', 1), ('F', 4), ('Akon-Lonely', 1), ('Eyed-Dont', 1), ('P', 3), ('popped', 2), ('loo', 1), ('hello-ed', 1), ('shade', 1), ('picture', 3), ('hurt', 10), ('violated', 1), ('Holy', 1), ('living', 2), ('christ', 2), ('detailed', 1), ('chocolate', 2), ('FAV', 1), ('TONES', 1), ('vill', 1), ('parco', 1), ('nb', 1), ('cine', 4), ('1030', 2), ('orc', 1), ('Exorcism', 1), ('Emily', 1), ('Rose', 3), ('Hugs', 2), ('snogs', 2), ('RECPT', 1), ('1/3', 1), ('ordered', 4), ('processed', 1), ('Goin', 1), ('workout', 1), ('Muz', 4), ('fats', 1), ('09058094455', 1), ('\\\\Checkmate\\\\', 1), ('chess', 1), ('Persian', 1), ('phrase', 1), ('Shah', 1), ('Maat\\\\', 1), ('okie', 3), ('unlimited', 7), ('cross', 3), ('08001950382', 4), ('Call2OptOut/674', 2), ('chile', 1), ('subletting', 1), ('feb-april', 1), ('sell', 8), ('wifi', 2), ('3g', 2), ('blanked', 1), ('vouchers-Text', 1), ('SavaMob-member', 1), ('08717898035.', 3), ('Sub', 3), ('Fighting', 2), ('fightng', 2), ('some1', 4), ('dificult', 2), ('Linerental', 2), ('call2optout/LF56', 2), ('manky', 1), ('scouse', 1), ('steve', 2), ('travelling', 1), ('home.wot', 1), ('inmind', 1), ('recreation', 1), ('88877', 2), ('wearing', 3), ('Here', 3), ('dresser', 2), ('china', 2), ('wet', 3), ('porn', 1), ('RECD', 1), ('MSGS', 1), ('150P', 1), ('INC', 1), ('VAT', 1), ('CANCEL', 1), ('sura', 3), ('sun', 10), ('Ugh', 10), ('asus', 1), ('randomly', 2), ('reformat', 1), ('Imagine', 2), ('sink', 1), ('paces', 1), ('imagine', 3), ('cage', 1), ('cock', 3), ('surrounded', 1), ('reminding', 1), ('cuck', 1), ('Erm', 3), ('6.45pm', 1), ('Chk', 1), ('belovd', 1), ('ms', 1), ('dict', 1), ('horny', 5), ('local', 5), ('strt', 1), ('Netcollex', 3), ('LtdHelpDesk', 1), ('02085076972', 1), ('inches', 2), ('Gudnite', 2), ('practice', 4), ('Hottest', 1), ('straight', 4), ('Wet', 1), ('Wanting', 1), ('PICS', 1), ('XxX', 2), ('torture', 1), ('england', 1), ('Dom', 1), ('Roger', 3), ('08718723815', 1), ('squeezed', 1), ('bucks', 5), ('.a', 1), ('necklace', 1), ('token', 1), ('you.thats', 1), ('WIFE', 2), ('LIKING.BE', 1), ('THAT', 7), ('SEE', 3), ('ONE', 5), ('that.dont', 1), ('me.i', 2), ('Already', 3), ('squatting', 1), ('walking', 7), ('cry', 3), ('edge', 1), ('underdtand', 1), ('goldviking', 1), ('29/M', 1), ('YES-762', 1), ('NO-762', 1), ('www.SMS.ac/u/goldviking', 1), ('Aaooooright', 1), ('MISSIN', 1), ('HOPE', 5), ('HAVING', 1), ('WHEN', 3), ('HOME', 4), ('JESS', 2), ('police', 1), ('abstract', 1), ('Means', 2), ('Ge', 2), ('friday.hope', 1), ('alternative.hope', 1), ('term', 3), ('fuckin', 1), ('thurs', 3), ('pre', 1), ('cancelled', 1), ('AGAIN', 3), ('sacked', 1), ('fucks', 1), ('sake', 2), ('Leave', 3), ('carry', 1), ('heavy', 5), ('98321561', 1), ('familiar', 1), ('ayo', 1), ('travelled', 1), ('forgotten', 2), ('harder', 1), ('NBME', 1), ('folks', 1), ('NAME', 3), ('AGE', 5), ('150p/SMS', 1), ('didn\\x89Û÷t', 1), ('limping', 1), ('followed', 4), ('aa', 1), ('exhaust', 2), ('hanging', 3), ('Ummmmmaah', 2), ('i\\x89Û÷m', 1), ('splash', 1), ('81303', 2), ('delivered', 2), ('sufficient', 2), ('slp', 1), ('Muah', 1), ('Senthil', 1), ('Apnt', 1), ('REMINDER', 1), ('2.50', 1), ('valid', 1), ('postcode', 3), ('History', 1), (\"'Need\", 1), (\"'Comfort\", 1), (\"'Luxury\", 1), ('Sold', 1), ('Onion-Rs', 1), ('Petrol-Rs', 1), ('Beer-Rs', 1), ('SHESIL', 2), ('Omw', 1), ('west', 2), ('palm', 1), ('Chinese', 2), ('lipo', 1), ('Reckon', 1), ('eightish', 1), ('carpark', 1), ('foot', 2), ('penis', 2), ('å£200', 7), ('09066361921', 1), ('riley', 1), ('\\\\ME', 1), ('FEEL', 2), ('LETS', 1), ('4GET', 1), ('IT+BOTH', 1), ('+CHEER', 1), ('UP+NOT', 1), ('FIT', 1), ('SOO', 1), ('MUCHXXLOVE', 1), ('LOCAXX\\\\', 1), ('Music', 1), ('Gift', 1), ('Vouchers', 1), ('DRAW', 1), ('TsCs', 1), ('www.Idew.com', 1), ('SkillGame', 1), ('1Winaweek', 1), ('150ppermessSubscription', 1), ('Sleeping', 2), ('CLAIRE', 2), ('havin', 2), ('borin', 2), ('2nite', 4), ('09099725823', 1), ('Callså£1/minmoremobsEMSPOBox45PO139WA', 1), ('Dint', 1), ('Short', 2), ('Cute', 2), ('\\\\Be', 2), ('88600', 2), ('å£1million', 1), ('ppt150x3+normal', 1), ('box403', 1), ('w1t1jy', 1), ('adoring', 1), ('CL', 1), ('t', 4), ('ESPECIALLY', 1), ('masters', 3), ('attend', 4), ('rounds', 1), ('83039', 1), ('62735=å£450', 1), ('Break', 3), ('AccommodationVouchers', 1), ('conditions', 4), ('mustprovide', 1), ('15541', 1), ('evo', 1), ('flash', 2), ('Jealous', 1), ('Must', 4), ('Becoz', 1), ('jan', 2), ('whn', 2), ('al', 6), ('ofice', 2), ('cn', 2), ('duffer', 1), ('5.15pm', 1), ('09095350301', 1), ('erotic', 1), ('ecstacy', 1), ('60p/min', 3), ('nat', 1), ('Reverse', 2), ('cheating', 2), ('mathematics', 2), ('Actually', 10), ('Pose', 1), ('comb', 1), ('dryer', 1), ('playng', 1), ('racing', 2), ('nor', 1), ('dependents', 1), ('Finish', 3), ('claire', 1), ('texting', 5), ('LAPTOP', 1), ('boye', 3), ('Guide', 2), ('Plus', 9), ('torrents', 1), ('particularly', 1), ('legal', 3), ('slowing', 1), ('now.i', 2), ('ringtones', 2), ('Chart', 1), ('Heroes', 1), ('Ringtones', 1), ('Pics', 2), ('wap', 4), ('tips', 1), ('xin', 1), ('hostel', 4), ('hurry', 2), ('snatch', 1), ('purse', 2), ('Height', 3), ('throws', 1), ('gal', 6), ('brothers', 1), ('whos', 1), ('vava', 3), ('umma', 4), ('-D', 4), ('taylor', 3), ('assumed', 1), ('worst', 1), ('smoothly', 1), ('bills', 2), ('challenging', 1), ('fb', 5), ('jaykwon', 1), ('thuglyfe', 1), ('falconerf', 1), ('arty', 1), ('collages', 1), ('tryin', 1), ('ne', 3), ('roast', 3), ('moan', 5), ('FreeMSG', 1), ('DIGITAL', 1), ('SNAP', 1), ('quizclub', 1), ('Opt', 1), ('80122300p/wk', 1), ('SP', 6), ('RWM', 1), ('Ph:08704050406', 1), (\"'Melle\", 2), ('Melle', 2), ('Oru', 2), ('Minnaminunginte', 2), ('Nurungu', 2), ('Vettam', 2), ('callertune', 3), ('Callers', 3), ('copy', 6), ('Callertune', 3), ('significant', 1), ('Jason', 1), ('Moby', 2), ('Pub', 2), ('Quiz.Win', 2), ('High', 2), ('Street', 2), ('Duchess', 2), ('Cornwall', 2), ('82277.unsub', 2), ('008704050406', 2), ('along', 4), ('Asking', 2), ('rajini', 1), ('Day', 13), ('Special', 1), ('Win', 9), ('quiz', 2), ('partner', 3), ('83600', 3), ('CustCare:08718720201', 1), ('dollar', 1), ('february', 4), ('DONT', 2), ('space', 3), ('Dnt', 1), ('resolution', 1), ('reply.Be', 1), ('frank', 1), ('SENT', 1), ('proof', 2), ('rupaul', 1), ('TOOL', 1), ('mode', 6), ('recharge', 2), ('blimey', 1), ('exercise', 1), ('hmm', 2), ('Reminder', 1), ('downloaded', 1), ('paid', 4), ('Goto', 1), ('//doit', 1), ('mymoby', 1), ('tv/', 1), ('parking', 2), ('collapsed', 1), ('university', 2), ('Stuff', 1), ('DOES', 1), ('punish', 1), ('handle', 3), ('victoria', 1), ('island', 2), ('traffic', 1), ('album', 2), ('LATE', 2), ('MUM', 2), ('diamonds', 2), ('PUTTIN', 1), ('biola', 1), ('fne', 1), ('valentine', 3), ('answers', 3), ('loves', 2), ('Ques-', 1), ('suits', 1), ('2marrow', 1), ('soc', 1), ('DOIN', 3), ('ANNIE', 1), ('centre', 4), ('22', 1), ('removed', 1), ('tahan', 2), ('anot', 2), ('Networking', 2), ('associate', 1), ('hooch', 1), ('toaday', 1), ('fell', 3), ('Splat', 1), ('Grazed', 1), ('knees', 1), ('stayed', 2), ('hillsborough', 1), ('loans', 1), ('Rats', 1), ('themes', 1), ('Fingers', 2), ('Makes', 1), ('flavour', 1), ('Our', 8), ('brand', 4), ('shortly', 4), ('install', 1), ('browse', 1), ('artists', 1), ('iscoming', 2), ('TnC', 2), ('www.Ldew.com1win150ppmx3age16subscription', 1), ('recieve', 1), ('24hrs', 1), ('Channel', 1), ('Teletext', 1), ('Pg', 1), ('mall', 2), ('Eat', 2), ('handset', 1), ('iZ', 1), ('Yellow', 1), ('rose', 3), ('frndship', 1), ('misscall', 1), ('frndZ', 1), ('6missed', 1), ('marry', 6), ('07753741225', 1), ('08715203677', 1), ('42478', 1), ('24/10/04', 1), ('command', 1), ('neva', 9), ('CERI', 1), ('REBEL', 1), ('DREAMZ', 1), ('LITTLE', 1), ('BUDDY', 1), ('NEEDS', 1), ('BLOKES', 1), ('Iam', 5), ('addicted', 4), ('msging', 3), ('Bcoz', 4), (\"don\\\\'t\", 2), ('drama', 1), ('Pls.i', 1), ('struggling', 1), ('strange', 1), ('place.No', 1), ('ego', 1), (\"'IF\", 1), ('INVITED', 1), ('necessity', 1), ('go.wait', 1), ('serious', 4), ('reppurcussions', 1), ('Truth', 2), ('Gravity', 2), ('Read', 3), ('carefully', 2), ('\\\\Our', 2), ('feels', 5), ('leaves', 6), ('GOODMORNING', 5), ('945+', 1), ('Geeee', 5), ('cuddling', 2), ('ashwini', 1), ('hen', 1), ('standing', 2), ('Sweet', 2), ('4U', 3), ('gauge', 1), ('patty', 2), ('interest', 2), ('figures', 2), ('generally', 2), ('brothas', 3), ('150p/meg', 1), ('HG/Suite342/2lands', 1), ('Row/W1j6HL', 1), ('4goten', 1), ('scammers', 1), ('regular', 2), ('vodafone', 2), ('further', 3), ('prem', 1), ('msg/subscription', 1), ('Other', 4), ('apology', 1), ('bffs', 1), ('carly', 1), ('WRC', 2), ('Rally', 2), ('Oz', 2), ('Lucozade', 2), ('RALLY', 2), ('LE', 2), ('61200', 2), ('packs', 2), ('lucozade.co.uk/wrc', 2), ('itcould', 2), ('lips', 1), ('www.Ldew.com', 1), ('win150ppmx3age16', 1), ('sony', 1), ('ericson', 1), ('der', 1), ('luks', 1), ('modl', 1), ('tap', 2), ('spile', 2), ('st', 6), ('broad', 2), ('canal', 2), ('prone', 1), ('Lucky', 2), ('fetch', 6), ('Talk', 3), ('Yourself', 2), ('Atleast', 1), ('-Shakespeare-', 1), ('va', 1), ('Choose', 6), ('items', 2), ('7cfca1a', 1), ('Po', 1), ('aha', 6), ('08712402779', 1), ('114/14', 3), ('TCR/W1', 3), ('soo', 1), ('donåÕt', 2), ('2morrow', 3), ('grasp', 1), ('booty', 2), ('alter', 1), ('keen', 1), ('Ambrith', 1), ('madurai', 1), ('arun', 1), ('dha', 1), ('marrge', 1), ('remembr', 1), ('charles', 1), ('excited', 1), ('rebooting', 1), ('coughing', 1), ('abroad', 1), ('xxSP', 1), ('visionsms.com', 1), ('stopCost', 1), ('08712400603', 1), ('Shop', 2), ('Drop', 3), ('10K', 2), ('5K', 2), ('Cash', 5), ('Travel', 2), ('09064011000', 2), ('CR01327BT', 2), ('fixedline', 2), ('thought-', 1), ('nobody', 4), ('recognises', 1), ('alone\\\\', 1), ('hugging', 1), ('Seem', 1), ('downs', 1), ('fletcher', 1), ('09058094507', 1), ('shut', 2), ('boys', 3), ('mark', 2), ('changing', 1), ('diapers', 1), ('owed', 1), ('entertain', 1), ('cancer', 4), ('restock', 1), ('thanksgiving', 3), ('luck.2', 1), ('catches', 1), ('get4an18th', 1), ('fetching', 1), ('Arrow', 1), ('Ok.ok', 3), ('Neither', 1), ('sterm', 1), ('resolved', 1), ('hols', 2), ('restrict', 1), ('eating', 5), ('likes', 2), ('Put', 3), ('Dictionary', 3), ('Cover', 3), ('screen', 3), ('hand', 11), ('Gently', 3), ('interesting', 5), ('ma', 3), ('ashley', 1), ('hotel', 4), ('invitation', 1), ('apologise', 2), ('Cali', 1), ('english', 4), ('bloke', 2), ('weddin', 1), ('thanks2', 1), ('vday', 1), ('parachute', 1), ('double', 3), ('coins', 4), ('netflix', 1), ('jog', 1), ('cutest', 1), ('08714712412', 1), ('10am-7pm', 2), ('chief', 1), ('royal', 2), ('VIDEO', 1), ('sending', 9), ('agent', 1), ('goodies', 1), ('MAT', 1), ('Sunday', 1), ('beauty', 1), ('hides', 1), ('thousands', 2), ('secrets', 1), ('n8', 1), ('Facebook', 2), ('Being', 1), ('film', 5), ('wknd', 1), ('darling', 2), ('resuming', 1), ('minimum', 1), ('period', 3), ('reapply', 1), ('uworld', 1), ('qbank', 1), ('assessment', 1), ('J', 3), ('bathroom', 1), ('fifteen', 3), ('Thinkin', 1), ('wun', 6), ('Company', 2), ('good.environment', 2), ('terrific', 2), ('Top', 3), ('-sub', 2), ('ringtone-get', 2), ('free-send', 2), ('SUBPOLY', 3), ('81618-', 2), ('week-stop', 2), ('sms-08718727870', 2), ('program', 2), ('slacking', 1), ('Pound', 2), ('08712101358', 1), ('Bears', 1), ('Pic', 1), ('Nick', 1), ('Tom', 1), ('Dick', 1), ('types', 1), ('Da', 1), ('gals', 2), ('attached', 2), ('Money', 2), ('wining', 1), ('946', 1), ('HARDCORE', 1), ('PORN', 2), ('69200', 1), ('24', 1), ('hrs', 5), ('chrgd', 1), ('2exit', 1), ('07808', 1), ('XXXXXX', 1), ('08719899217', 1), ('41685', 1), ('07/11/04', 1), ('vijay', 2), ('Feels', 1), ('quiet', 1), ('Beth', 1), ('aunts', 1), ('charlie', 1), ('helen', 1), ('famous', 1), ('quote', 4), ('develop', 2), ('ability', 2), (\"'anything\", 1), ('unconditionally', 1), ('temper', 1), ('confidence', 2), ('.........', 2), (\"'MARRIED\", 1), ('wrking', 1), ('uni', 1), ('ice', 5), ('taxi', 2), ('ing', 1), ('tuesday', 3), ('gauti', 1), ('sehwag', 1), ('odi', 2), ('Ball', 1), ('moving', 2), ('lot.will', 1), ('spin', 1), ('ecstasy', 1), ('laready', 1), ('covers', 2), ('energy', 3), ('trends', 1), ('pros', 1), ('cons', 1), ('Brief', 1), ('description', 1), ('nuclear', 1), ('fusion', 1), ('brief', 1), ('history', 2), ('iter', 1), ('jet', 1), ('perumbavoor', 1), ('Convey', 3), ('bare', 1), ('Orh', 1), ('tons', 2), ('paypal', 1), ('Voila', 1), ('pockets', 1), ('behave', 3), ('Moji', 2), ('R836', 1), ('09065069154', 1), ('Ooooooh', 1), ('yoville', 1), ('Mayb', 1), ('shoppin', 2), ('audiitions', 1), ('relocate', 1), ('career', 2), ('flyng', 1), ('HORO', 2), ('star', 1), ('e.', 1), ('g.', 1), ('ARIES', 1), ('dealing', 1), ('TEXTPOD', 2), ('VPOD', 1), ('www.textpod.net', 2), ('SOON', 2), ('popping', 1), ('ibuprofens', 1), ('corporation', 1), ('gap', 4), ('ajith', 1), ('Joy', 6), ('John', 6), ('____', 2), ('ths', 2), ('Tis', 2), ('IAS', 2), ('thangam', 2), ('held', 2), ('prasad', 1), ('engagement', 1), ('fixd', 1), ('shocking', 2), ('njan', 1), ('vilikkam', 1), ('ws', 2), ('sudn', 1), (\"'its\", 1), ('heading', 2), ('normal', 6), ('mylife', 1), ('pull', 2), ('spending', 3), ('management', 1), ('connect', 4), ('X29', 1), ('4.50', 1), ('09065989180', 1), ('Text82228', 1), ('logos', 1), ('www.txt82228.com', 1), ('Questions', 1), ('txt82228.co.uk', 1), ('before.went', 1), ('blankets', 1), ('thx', 1), ('schedule', 1), ('ok.', 6), ('theory', 1), ('21', 2), ('jiayin', 2), ('Misplaced', 1), ('Wondering', 1), ('mcat', 2), ('atlanta', 1), ('We\\x89Û÷re', 1), ('3510i', 3), ('Colour', 1), ('Delivered', 1), ('200', 2), ('camcorder', 3), ('8000930705', 1), ('tallahassee', 1), ('Vote', 1), ('stars', 2), ('Karaoke', 1), ('SING', 1), ('accordingly', 2), ('hopeing', 1), ('wasn\\x89Û÷t', 1), ('sisters', 1), ('darlin', 6), ('helens', 1), ('princes', 1), ('malaria', 3), ('children', 2), ('worse', 4), ('gastroenteritis', 1), ('replace', 1), ('loss', 2), ('temp', 2), ('reduce', 1), ('limiting', 1), ('illness', 1), ('Chinatown', 1), ('porridge', 1), ('claypot', 1), ('rice', 2), ('yam', 1), ('fishhead', 1), ('beehoon', 1), ('Either', 1), ('cafe', 5), ('somethin', 3), ('tau', 1), ('sar', 1), ('piah', 1), ('miles', 2), ('impatient', 1), ('belligerent', 1), ('can.dont', 1), ('eldest', 1), ('unsold', 2), ('players', 6), ('base', 2), ('diwali', 1), ('Bit', 2), ('accident', 1), ('a30', 1), ('divert', 1), ('wadebridge.I', 1), ('brilliant', 2), ('Lots', 2), ('Poor', 1), ('lmao', 1), ('Apps', 1), ('varaya', 1), ('elaya', 1), ('Meeting', 3), ('factory', 1), ('nitros', 1), ('building', 1), ('coat', 2), ('leg', 1), ('Musta', 1), ('overdid', 1), ('kanji', 1), ('UpgrdCentre', 1), ('9153', 1), ('July', 2), ('superior', 2), ('ours', 1), ('waheed', 2), ('fathima', 2), ('conform', 1), ('weirdest', 2), ('auto', 3), ('summer', 5), ('Such', 1), ('magical', 3), ('sight', 7), ('worlds', 2), ('dressed', 2), ('Oooooh', 1), ('elaborating', 1), ('safety', 1), ('aspects', 1), ('Sam', 1), ('-msg', 1), ('thirtyeight', 1), ('easier', 2), ('0825', 2), ('threats', 1), ('sales', 1), ('executive', 1), ('Shifad', 1), ('raised', 1), ('complaint', 1), ('lit', 1), ('journey', 2), ('Wk', 2), ('huge', 1), ('marking', 1), ('lick', 2), ('hppnss', 2), ('sorrow', 2), ('forevr', 2), ('GOODFRIEND', 2), ('belongs', 1), ('Pray', 1), ('fated', 1), ('Shoranur', 1), ('fuelled', 1), ('concern', 1), ('prior', 1), ('grief', 1), ('chain', 2), ('VIOLENCE', 1), ('AGAINST', 1), ('WOMEN', 1), ('cramps', 2), ('specially', 7), ('\\\\3000', 1), ('08712402050', 2), ('lines', 2), ('10ppm', 2), ('AG', 2), ('Promo', 2), ('advice', 3), ('split', 1), ('Ptbo', 2), ('stupid', 3), ('suggestion', 1), ('Lands', 1), ('helps', 1), ('forgt', 1), ('previous', 3), ('favorite', 2), ('oyster', 1), ('sashimi', 1), ('stomach', 3), ('rumbling', 1), ('09058095201', 1), ('cheat', 2), ('Were', 4), ('throw', 3), ('matric', 1), ('railway', 3), ('sonathaya', 1), ('soladha', 1), ('accordin', 1), ('discussed', 1), ('Beerage', 1), ('tacos', 1), ('08712400200', 1), ('worries', 8), ('YO', 3), ('BYATCH', 1), ('WHASSUP', 1), ('Usually', 2), ('progress', 1), ('continue', 2), ('ORANGE', 1), ('0796XXXXXX', 1), (\"'S\", 4), ('PRIZEAWAITING', 1), ('contents', 3), ('eight', 1), ('Would', 5), ('panic', 2), ('someday', 1), ('gek1510', 1), ('lasagna', 1), ('vodka', 1), ('Lindsay', 1), ('sighs', 4), ('Some', 3), ('bars', 1), ('heron', 1), ('waliking', 1), ('allowed', 2), ('Thnx', 1), ('Cbe', 1), ('nowadays', 1), ('showrooms', 1), ('shaping', 1), ('Cps', 1), ('causing', 2), ('outages', 1), ('conserve', 1), ('puppy', 1), ('noise', 1), ('Yunny', 2), ('citylink', 1), ('realise', 1), ('andrews-boy', 1), ('ouch', 1), ('computational', 1), ('science', 1), ('push', 2), ('cooked', 2), ('salmon', 1), ('Big', 1), ('brother\\x89Û÷s', 1), ('scraped', 1), ('barrel', 1), ('misfits', 1), ('9-6', 1), ('idc', 1), ('weaseling', 1), ('row', 4), ('Okors', 1), ('cherish', 1), ('MojiBiola', 1), ('09061790126', 1), ('\\\\Hello-/', 1), ('drivby-:0quit', 1), ('edrunk', 1), ('iff', 1), ('pthis', 1), ('senrd-dnot', 1), ('^', 1), ('dancce', 1), ('drum', 1), ('basq', 1), ('ihave', 1), ('2nhite', 1), ('ros', 1), ('xxxxxxx\\\\', 1), ('09050000928', 1), ('Shoul', 1), ('dub', 1), ('je', 1), ('buff', 2), ('Z', 1), ('rubber', 1), ('bluray', 1), ('Ummma.will', 1), ('in.our', 1), ('qatar', 2), ('pray', 5), ('stops.\\\\', 1), ('mokka', 1), ('jacket', 1), ('multis', 1), ('Mode', 1), ('heater', 2), ('degrees', 1), ('grinder', 1), ('forfeit', 1), ('butt', 3), ('Hang', 1), ('caller', 3), ('Food', 1), ('starving', 1), ('discreet', 2), ('VIP', 2), ('83110', 1), ('absolutly', 2), ('operate', 1), ('buyers', 1), ('2morro', 1), ('passion', 1), ('09099726481', 1), ('DENA', 1), ('å£1/minMobsmoreLKPOBOX177HP51FL', 1), ('rooms', 4), ('befor', 2), ('activities', 2), ('blood', 7), ('tis', 3), ('1-u', 2), ('relation', 2), ('2-u', 2), ('3-u', 2), ('4-some1', 2), ('luvs', 2), ('5+-', 2), ('praying', 2), ('appointment', 4), ('surrender', 1), ('Doctor', 1), ('APPY', 1), ('FIZZ', 1), ('contains', 1), ('Cancer', 1), ('denying', 1), ('planned', 5), ('result', 3), ('future', 4), ('speaking', 1), ('expression', 1), ('1.childish', 1), ('2.naughty', 1), ('3.Sentiment', 1), ('4.rowdy', 1), ('5.ful', 1), ('attitude', 1), ('6.romantic', 1), ('7.shy', 1), ('8.Attractive', 1), ('9.funny', 1), ('.irritating', 1), ('.lovable', 1), ('SOMETHIN', 1), ('TONIGHT', 2), ('CALLED', 1), ('SWAN', 1), ('SOMETHING', 3), ('PARENTS', 1), ('DRINK', 1), ('Every', 6), ('Umma', 2), ('Super', 3), ('nalla', 2), ('timing', 3), ('Gumby', 1), ('Inform', 1), ('Bought', 1), ('costing', 2), ('pound', 2), ('offering', 1), ('italian', 2), ('panties', 1), ('totally', 4), ('disagreeable', 1), ('karnan', 1), ('6pm', 1), ('costume', 1), ('changes', 2), ('report', 4), ('aint', 3), ('complaining', 1), ('Jolly', 1), ('7.30', 2), ('stretch', 1), ('pussy', 5), ('4u.i', 1), ('didnåÕt', 1), ('intend', 1), ('Iwas+marine', 1), ('thatåÕs', 2), ('itried2tell', 1), ('urmom.i', 1), ('careabout', 1), ('remind', 3), ('screamed', 1), ('Hallaq', 2), ('owned', 1), ('possessive', 1), ('imp', 1), ('flies', 2), ('hittng', 1), ('reflex', 1), ('prevent', 1), ('dehydration', 1), ('fluids', 1), ('donno', 1), ('scorable', 1), ('Fyi', 2), ('spiffing', 1), ('workage', 1), ('Drink', 1), ('openings', 1), (\"'til\", 2), ('upcharge', 1), ('predicting', 1), ('inch', 2), ('accumulation', 1), (\"'Maangalyam\", 1), ('Alaipayuthe', 1), ('SplashMobile', 1), ('1000s', 3), ('subscrition', 1), ('300p', 2), ('ENJOY', 1), ('087123002209am-7pm', 1), ('outstanding', 2), ('invoices', 1), ('headstart', 1), ('2.30ish', 1), ('earlier-we', 1), ('rummer', 1), ('grr', 1), ('prescription', 1), ('Pharmacy', 1), ('Thing', 1), ('vewy', 2), ('lubly', 1), ('SIM', 1), ('subscriber', 1), ('EXP', 1), ('30Apr', 1), ('169', 1), ('6031', 1), ('10am-9pm', 1), ('bud', 2), ('piece', 1), ('priscilla', 2), ('bowl', 3), ('watched', 1), ('sux', 1), ('raiden', 1), ('portal', 1), ('explain', 2), ('excuses', 2), ('Set', 1), ('easily', 1), ('forgets', 1), ('Santa', 2), ('Calling', 1), ('09058094583', 1), ('testing', 1), ('sayy', 1), ('dearer', 3), ('dem', 3), ('09111032124', 1), ('PoBox12n146tf150p', 1), ('sao', 1), ('message.pandy', 1), ('mental', 2), ('\\\\BOO', 1), ('ENJOYIN', 1), ('YOURJOB', 1), ('SEEMED', 1), ('GETTIN', 1), ('URE', 2), ('IåÕLLSPEAK', 1), ('2U', 1), ('SOONLOTS', 1), ('LOVEME', 2), ('XXXX.\\\\', 1), ('practicing', 2), ('babies', 2), ('arm', 2), ('shot', 2), ('07808726822', 1), ('02/09/03', 2), ('0871-872-9758', 1), ('BOX95QU', 2), ('comedy', 2), ('laughing', 1), ('desparate', 2), ('learned', 1), ('fake', 1), ('filling', 1), ('forms.don', 1), ('Voucher', 6), ('holder', 1), ('pc', 2), ('dining', 1), ('experiencehttp', 1), ('//www.vouch4me.com/etlp/dining.asp', 1), ('field', 2), ('administrator', 2), ('Hard', 2), ('121', 3), ('09094646899', 2), ('Cheap', 2), ('biggest', 4), ('VU', 2), ('BCM1896WC1N3XX', 2), ('7250i', 4), ('86021', 5), ('Row/W1JHL', 4), ('massages', 1), ('oil', 2), ('fave', 2), ('position', 1), ('surfing', 3), ('Compass', 1), ('Map', 2), ('Soul', 1), ('loose', 1), ('gnun', 1), ('Sent', 6), ('WAY2SMS.COM', 1), ('Starting', 1), ('STORE', 3), ('88039', 2), ('SkilGme', 2), ('TsCs08714740323', 1), ('1Winawk', 1), ('å£1.50perweeksub', 1), ('needa', 1), ('09063458130', 2), ('polyPH', 1), ('AMY', 1), ('BEAUTIFUL', 2), ('INTELLIGENT', 1), ('WOMAN', 1), ('LIKE', 4), ('LOT', 1), ('DONåÕT', 2), ('WORRY', 1), ('surya', 1), ('.after', 1), ('POKKIRI', 1), ('mary', 1), ('jane', 1), ('flirting', 1), ('paperwork', 1), ('nervous', 1), ('knowing', 3), ('fired', 1), ('448712404000', 1), ('08712404000', 1), ('created', 4), ('WWW.ASJESUS.COM', 1), ('wrote', 1), ('1/1', 1), ('effects', 2), ('Kind', 3), ('brighten', 1), ('monkey', 1), ('..........', 1), ('asshole', 1), ('..................', 1), ('Heehee', 1), ('Gopalettan', 1), ('participate', 1), ('admin', 1), ('61610', 1), ('help:08712400602450p', 1), ('Provided', 1), ('tones2you.co.uk', 1), ('don\\x89Û÷t', 3), ('receipts\\x89ÛÓwell', 1), ('What\\x89Û÷s', 1), ('barring', 1), ('sudden', 1), ('influx', 1), ('hustle', 1), ('forth', 1), ('harlem', 1), ('doggy', 1), ('cmon', 1), ('fantasy', 1), ('sticky', 2), ('replies', 1), ('sathya', 2), ('single', 3), ('considering', 2), ('cutting', 1), ('xavier', 1), ('warning', 2), ('samantha', 1), ('guitar', 1), ('impress', 1), ('doug', 1), ('realizes', 1), ('Pa', 2), ('casualty', 1), ('stuff42moro', 1), ('includes', 1), ('sheets', 3), ('Shhhhh', 1), ('0207-083-6089', 1), ('PISS', 1), ('TALKING', 1), ('REALISE', 1), ('POINT', 1), ('READ', 1), ('BACKWARDS', 1), ('hire', 1), ('hitman', 1), ('\\\\GRAN', 1), ('ONLYFOUND', 1), ('AFEW', 1), ('DAYS', 2), ('AGO.CUSOON', 1), ('HONI\\\\', 1), ('sapna', 1), ('aunty', 3), ('manege', 1), (\"y'day\", 1), ('hogidhe', 1), ('chinnu', 1), ('swalpa', 1), ('agidhane', 1), ('sec', 5), ('epi', 1), ('walked', 2), ('doesnåÕt', 1), ('Somebody', 4), ('secretly', 2), ('fancies', 2), ('Wan', 9), ('09065394973', 1), ('DATEBox1282EssexCM61XN', 2), ('09058094599', 2), ('Sweetheart', 2), ('Darling', 1), ('Sexy', 2), ('Sugar', 1), ('plum', 1), ('Loverboy', 1), ('smacks', 1), ('Oi', 1), ('Printer', 1), ('groovy', 1), ('groovying', 1), ('bless.get', 1), ('-PLS', 1), ('bootydelious', 1), ('32/F', 1), ('YES-434', 1), ('NO-434', 1), ('www.SMS.ac/u/bootydelious', 1), ('About', 3), ('banks', 2), ('Better', 3), ('Dhoni', 1), ('title.so', 1), ('hlday', 1), ('horrible', 2), ('camp', 1), ('Amrca', 1), ('Serena', 1), ('Hmph', 1), ('baller', 1), ('Wana', 1), ('sometme', 1), ('Idea', 1), ('converted', 1), ('combine', 2), ('parts', 1), ('DVD', 6), ('call2optout/4QF2', 1), ('lambu', 1), ('ji', 1), ('batchlor', 1), ('ALRITE', 2), ('spreadsheet', 1), ('track', 4), ('determine', 1), ('\\\\smokes', 1), ('entire', 1), ('Al', 2), ('Salam', 2), ('Wahleykkum.sharing', 1), ('news.By', 1), ('grace', 1), ('joined.Hope', 1), ('fine.Inshah', 1), ('Allah', 1), ('sometime.Rakhesh', 1), ('visitor', 1), ('Nationwide', 1), ('Newport', 1), ('lodging', 1), ('mumHas', 1), ('beendropping', 1), ('theplace', 1), ('adress', 1), ('Sup', 1), ('Collect', 2), ('prix', 1), ('missions', 1), ('nigeria', 5), ('Arabian', 1), ('steed', 1), ('Yummy', 1), ('funeral', 2), ('Although', 1), ('baig', 1), ('watches', 1), ('touched', 2), ('Holder', 5), ('PC', 5), ('//www.e-tlp.co.uk/reward', 1), ('completing', 1), ('stoners', 1), ('disturb', 7), ('\\\\URGENT', 1), ('å£1000CALL', 1), ('09071512432', 1), ('300603t', 1), ('csBCM4235WC1N3XX.callcost150ppmmobilesvary', 1), ('maxå£7', 2), ('50\\\\', 1), ('cd', 1), ('understanding', 2), ('Surely', 1), ('HCL', 1), ('requires', 1), ('FRESHERS', 1), ('process.Excellent', 1), ('needed.Salary', 1), ('.Call', 1), ('Ms.Suman', 1), ('Telephonic', 1), ('-via', 1), ('Indyarocks.com', 1), ('joys', 1), ('lifeis', 1), ('daywith', 1), ('thoughts', 1), ('somewhereSomeone', 1), ('cares', 1), ('tosend', 1), ('greeting', 1), ('earn', 1), ('done/want', 1), ('haul', 1), ('billion', 2), ('Blank', 2), ('blank', 1), ('custom', 2), ('officer', 1), ('Almost', 1), ('asa', 1), ('ave', 3), ('inc', 6), ('0871277810710p/min', 1), ('james', 1), ('farting', 1), ('I\\x89Û÷ve', 1), ('salt', 1), ('rub', 1), ('wounds', 1), ('Gim', 2), ('few\\\\', 1), ('AUCTION', 2), ('channel', 1), ('payed', 1), ('Suganya', 1), ('Compliments', 1), ('iPOD', 1), ('Player', 2), ('+å£400', 1), ('proze', 1), ('Norcorp', 1), ('Ltd.å£1,50/Mtmsgrcvd18+', 1), ('Trying', 1), ('forward', 5), ('collected', 2), ('dough', 1), ('control', 2), ('agree', 1), ('ipad', 2), ('Perhaps', 1), ('identification', 1), ('prestige', 1), ('50s', 1), ('alot', 1), ('6.30', 2), ('stability', 1), ('tranquility', 1), ('vibrant', 1), ('colourful', 1), ('tallent', 1), ('wasting', 1), ('VCo', 1), ('rays', 4), ('cloud', 1), ('sacrifice', 1), ('process', 1), ('Audrie', 1), ('autocorrect', 1), ('Multiply', 1), ('independently', 1), ('count', 2), ('decimal', 2), ('division', 2), ('showed', 1), ('released', 2), ('cosign', 1), ('Whatever', 1), ('juliana', 1), ('STU', 1), ('2.IM', 1), ('TRUBLE', 1), ('MOMENT', 1), ('EVONE', 1), ('HATES', 1), ('EVEN', 1), ('HELL', 1), ('AV', 1), ('WONT', 1), ('BCK', 1), ('DAN', 1), ('remain', 4), ('unconvinced', 1), ('elaborate', 1), ('willpower', 1), ('07801543489', 1), ('latests', 1), ('No:83355', 1), ('TC-LLC', 1), ('NY-USA', 1), ('150p/Mt', 1), ('msgrcvd18+', 1), ('takin', 3), ('linear', 1), ('algebra', 1), ('dying', 1), ('vitamin', 1), ('nasty', 1), ('filthyguys', 1), ('rude', 2), ('slo', 1), ('SLO', 1), ('4msgs', 1), ('wtc', 1), ('Weiyi', 1), ('Shanil', 1), ('here.thanks', 1), ('exchanged', 1), ('uncut', 1), ('diamond', 1), ('stuff.leaving', 1), ('Dino', 1), ('Prem', 1), ('virgins', 1), ('4fil', 2), ('sexual', 1), ('theirs', 1), ('CUTE', 1), ('69911', 1), ('å£1.50p', 1), ('puts', 1), ('perspective', 1), ('Hit', 1), ('premium', 2), ('Pink', 2), ('Panther', 1), ('Sugababes', 1), ('Zebra', 1), ('animation', 1), ('badass', 1), ('Hoody', 1), ('wallpaper-all', 1), ('maggi', 1), ('mee', 1), ('textin', 1), ('0871277810810', 1), ('housewives', 2), ('0871750.77.11', 2), ('BT-national', 2), ('landlines', 2), ('pants', 1), ('madam', 1), ('rs', 3), ('shelf', 2), ('egg', 4), ('Quite', 3), ('H', 2), ('M', 2), ('Become', 1), ('slob-', 1), ('cali', 1), ('complexities', 1), ('freely', 1), ('taxes', 1), ('outrageous', 1), ('Auntie', 1), ('huai', 1), ('juan', 2), ('WAN', 3), ('NA', 4), ('4-6', 1), ('Nigh', 1), ('PARK', 1), ('69696', 2), ('Nyt', 1), ('3lp', 2), ('å£1.50/msg', 2), ('hw', 6), ('mising', 1), ('survey', 1), ('80160', 1), ('www.txt43.com', 1), ('1.50p', 1), ('europe', 1), ('scenario', 1), ('86888', 2), ('Subscribe6GBP/mnth', 2), ('3hrs', 2), ('txtStop', 2), ('studies', 1), ('anyones', 1), ('google', 2), ('qet', 1), ('Hanging', 1), ('Yupz', 1), ('RITE', 2), ('BEST', 1), ('PETE', 1), ('WEEK+', 1), ('2GEVA', 1), ('BEEN', 2), ('LONGER', 1), ('THAN', 1), ('whom', 2), ('satanic', 1), ('imposter', 1), ('me.need', 1), ('it.may', 1), ('destiny', 1), ('feb', 3), ('Teresa', 1), ('received', 3), ('dec', 1), (\"you'ld\", 1), ('Bam', 1), ('aid', 1), ('Usmle', 1), ('sickness', 1), ('calculation', 1), ('units', 1), ('accent', 1), ('4years', 1), ('dental', 1), ('nmde', 1), ('Woodland', 1), ('avenue', 1), ('parish', 1), ('magazine', 1), ('telephone', 2), ('managed', 2), ('needed', 3), ('oxygen', 1), ('resort', 1), ('roller', 1), ('bhaji', 1), ('cricketer', 1), ('sachin', 1), ('.very', 1), ('young', 1), ('Moms', 1), ('checkup', 1), ('aka', 1), ('smear', 1), ('WHORE', 1), ('UNBELIEVABLE', 1), ('1,000', 2), ('2,000', 2), ('call09050000327', 2), ('RSTM', 2), ('SW7', 2), ('3SS', 2), ('Shant', 1), ('Jia', 1), ('Detroit', 2), ('orange', 5), ('2find', 2), ('ke', 2), ('qi', 1), ('izzit', 4), ('suddenly', 1), ('Machan', 1), ('goodnight', 1), ('RINGTONE', 3), ('TOP', 1), ('08452810071', 1), ('webadres', 1), ('geting', 1), ('salary', 1), ('slip', 2), ('09061701851', 1), ('K61', 1), ('12hours', 1), ('Yes.mum', 1), ('09066362231', 3), ('07xxxxxxxxx', 2), ('bonus', 2), ('explicit', 2), ('SEX', 2), ('30', 2), ('secs', 2), ('Ring', 2), ('02073162414', 2), ('Costs', 2), ('20p/min', 2), ('barred', 1), ('Q', 4), ('stores', 1), ('twat', 1), ('dungerees', 1), ('decking', 1), ('punch', 1), ('ran', 4), ('the4th', 1), ('october', 1), ('lives', 3), ('stubborn', 1), ('sucker', 1), ('Hospitals', 1), ('suckers', 1), ('Salad', 1), ('desert', 1), ('beers', 1), ('Spoons', 1), ('Macha', 1), ('upset.i', 1), ('mindset.believe', 1), ('us.LET', 1), ('LIFE', 2), ('BEGIN', 2), ('AGAIN.call', 1), ('shorts', 1), ('077xxx', 1), ('09066362206', 1), ('complete', 7), ('gist', 2), ('Bec', 1), ('B-day', 1), ('tomorro', 1), ('ASKED', 1), ('3MOBILE', 1), ('CHATLINES', 1), ('INCLU', 1), ('MINS', 1), ('INDIA', 2), ('CUST', 1), ('SERVs', 1), ('SED', 1), ('L8ER', 1), ('MEGA', 1), ('BILL', 1), ('BAILIFF', 1), ('DUE', 1), ('WANT', 3), ('answerin', 1), ('sleepy', 2), ('creepy', 2), ('Eta', 1), ('12:30', 1), ('okday', 1), ('-xx', 1), ('Muhommad', 1), ('Penny', 1), ('Alex', 1), ('ItåÕs', 1), ('deserve', 1), ('tight', 2), ('lined', 1), ('Full', 1), ('heat', 1), ('applyed', 1), ('SAM', 2), ('EACHOTHER', 1), ('tonght', 1), ('MMM', 2), ('08719181503', 1), ('noncomittal', 1), ('sts', 1), ('timings', 1), ('Xuhui', 1), ('8am', 1), ('hubby', 2), ('89938', 1), ('strings', 1), ('action', 2), ('å£1.50ea', 1), ('OTBox', 1), ('731', 1), ('LA1', 1), ('7WS', 1), ('Playin', 1), ('Hyde', 1), ('opps', 1), ('confused', 2), ('tt', 3), ('Spook', 2), ('Halloween', 3), ('logo', 5), ('eerie', 3), ('CARD', 3), ('SPOOK', 3), ('08701417012150p', 2), ('logo/pic', 2), ('lingo', 1), ('5.IåÕm', 1), ('knackered', 1), ('iåÕm', 2), ('dreading', 1), ('thou', 1), ('denis', 2), ('mina', 1), ('size', 2), ('elephant', 1), ('shove', 1), ('um', 1), ('camera/video', 1), ('Save', 3), ('å£s', 1), ('texts/weekend', 1), ('orno', 1), ('ended', 4), ('sunny', 4), ('bay', 3), ('Jeremiah', 1), ('enuff', 2), ('mb', 2), ('dear.take', 1), ('2MORRO', 1), ('Pie', 1), ('singing', 1), ('09066358361', 1), ('Y87', 1), ('virtual', 1), ('returned', 3), ('Weightloss', 1), ('ebay', 2), ('båÕday', 2), ('Webpage', 1), ('Fffff', 1), ('loverboy', 5), ('sweetie', 2), ('Most', 2), ('fixes', 1), ('spelling', 1), ('sometimes', 2), ('language', 2), ('Polyphonic', 1), ('087018728737', 1), ('Rate', 2), ('toppoly', 1), ('tune', 1), ('81618', 1), ('pole', 1), ('UnSub', 1), ('08718727870', 2), ('Guild', 1), ('Bristol', 1), ('thinked', 1), ('menu', 6), ('clover', 1), ('wylie', 1), ('ryan', 2), ('D', 6), ('STUDENT', 1), ('DISCOUNT', 1), ('BOOKS', 1), ('impressively', 1), ('sensible', 1), ('slightly', 1), ('disastrous', 1), ('fav', 1), ('darlings', 1), ('Coffee', 1), ('wld', 1), ('spell', 1), ('2yrs', 1), ('messenger', 3), ('slippers', 2), ('FREE2DAY', 2), ('St', 4), ('George', 2), ('PIC', 2), ('89080', 2), ('celeb', 2), ('PocketBabe.co.uk', 2), ('0870241182716', 2), ('gained', 1), ('kg', 2), ('Second', 1), ('tests', 2), ('pressure', 1), ('limits', 1), ('reckon', 1), ('arrange', 5), ('07732584351', 1), ('Rodger', 1), ('Burns', 1), ('åÈ10', 1), ('evey', 1), ('mnth', 1), ('electricity', 1), ('fml', 1), ('lady', 3), ('womdarfull', 1), ('inconvenient', 1), ('SIX', 1), ('chances', 1), ('20,000', 1), ('CSH11', 1), ('150p/day', 1), ('6days', 1), ('TsandCs', 1), ('positions', 1), ('kama', 1), ('sutra', 1), ('hme', 1), ('Meds', 1), ('northampton', 1), ('afraid', 3), ('adewale', 1), ('Aka', 1), ('Egbon', 1), ('explicitly', 1), ('nora', 1), ('goodmate', 1), ('THINK', 2), ('SARY', 1), ('ASUSUAL', 1), ('CHEERED', 1), ('FRANYxxxxx', 1), ('B4U', 1), ('w/c', 1), ('27/03', 1), ('MARSMS', 1), ('www.B4Utele.com', 1), ('08717168528', 1), ('plm', 2), ('decision', 3), ('simpler', 2), ('09050001808', 2), ('M95', 2), ('Valid12hrs', 2), ('Shuhui', 1), ('swatch', 2), ('dare', 2), ('approaching', 1), ('Sankranti', 1), ('republic', 1), ('Shivratri', 1), ('Ugadi', 1), ('Fools', 1), ('Independence', 1), ('Father', 1), ('Teachers', 1), ('Childrens', 1), ('Ganesh', 1), ('festival', 1), ('Dasara', 1), ('Diwali', 1), ('Mornings', 1), ('Afternoons', 1), ('Evenings', 1), ('Nights', 1), ('RememberI', 1), ('WISHING', 1), ('THESE', 1), ('Raj', 2), ('presents', 1), ('Loads', 1), ('nicky', 1), ('intention', 1), ('visitors', 1), ('embarassed', 2), ('Waaaat', 1), ('Lololo', 1), ('Blind', 2), ('Date', 3), ('Rodds1', 1), ('21/m', 1), ('Aberdeen', 1), ('United', 1), ('Kingdom', 1), ('Him', 1), ('//img', 1), ('ac/W/icmb3cktz8r7', 1), ('-4', 1), ('Dates', 1), ('HIDE', 1), ('breeze', 1), ('Fresh', 1), ('flower', 2), ('Twittering', 1), ('\\\\GOODMORNING', 1), ('DAY\\\\', 1), ('sha', 4), ('drug', 3), ('cedar', 1), ('key', 2), ('reminder', 1), ('Confidence', 1), ('Aeronautics', 1), ('professors', 1), ('wer', 3), ('calld', 1), ('aeroplane', 1), ('plane', 2), ('Dey', 1), ('hurried', 1), ('\\\\if', 1), ('bawling', 1), ('failure', 1), ('Nobody', 2), ('failing', 1), ('Re', 1), ('80488', 1), ('status', 2), ('frequently', 1), ('guilty', 2), ('Baaaaabe', 1), ('misss', 1), ('youuuuu', 1), ('nap', 3), ('possibility', 1), ('\\\\HEY', 3), ('SPUN-OUT', 1), ('SPK', 2), ('DEAD', 1), ('WRLD', 1), ('SLEEPING', 1), ('SOFA', 1), ('ThatåÕs', 1), ('gota', 1), ('0A', 1), ('NETWORKS', 1), ('allow', 1), ('companies', 1), ('responsible', 1), ('\\\\suppliers\\\\', 1), ('reunion', 1), ('bcum', 1), ('09050000332', 1), ('toshiba', 2), ('portege', 1), ('m100', 1), ('0789xxxxxxx', 1), ('pocay', 1), ('wocay', 1), ('4eva', 1), ('2morrowxxxx', 1), ('brison', 1), ('names', 3), ('NAME1', 2), ('NAME2', 2), ('MOBNO', 2), ('ADAM', 2), ('07123456789', 2), ('Yahoo', 2), ('TxtNO', 2), ('ads', 2), ('cherthala.in', 1), ('cochin', 2), ('bfore', 1), ('start.i', 1), ('accordingly.or', 1), ('coming.tmorow', 1), ('engaged', 1), ('teju', 1), ('recycling', 1), ('twice-', 1), ('earning', 1), ('freezing', 1), ('Hero', 1), ('apt', 1), ('opportunity.pls', 1), ('EMAIL', 1), ('sang', 1), (\"'Uptown\", 1), ('Girl', 1), ('80', 1), ('ANSWER', 1), ('indicate', 2), ('compensation', 1), ('Accident', 2), ('ideas', 1), ('LMAO', 1), ('fish', 2), ('memory', 1), ('spirit', 1), ('ph', 1), ('Ar.Praveesh', 1), ('delicious', 1), ('chechi', 1), ('\\\\Pete', 1), ('meive', 1), ('hardly', 1), ('gotany', 1), ('credit\\\\', 1), ('stayin', 2), ('wed.', 1), ('rugby', 1), ('ham', 2), ('law', 4), ('alive', 2), ('sex', 3), ('sleeps', 1), ('Tickets', 1), ('Blu', 2), ('concert', 2), ('November', 1), ('09061104276', 1), ('TS', 1), ('www.smsco.net', 1), ('costå£3.75max', 1), ('\\\\Im', 1), ('gloucesterroad', 1), ('uup', 1), ('330', 1), ('1120', 1), ('1205', 1), ('Mine', 2), ('44', 1), ('7732584351', 1), ('DeliveredTomorrow', 2), ('thin', 1), ('arguments', 1), ('fed', 1), ('himso', 1), ('thanx.xx', 1), ('Boltblue', 1), ('MONO', 1), ('POLY3', 1), ('Cha', 2), ('Slide', 1), ('Slow', 1), ('Jamz', 1), ('Toxic', 1), ('ideal', 2), ('path', 1), ('appear', 1), ('front', 2), ('\\\\paths', 1), ('Goodnight', 3), ('borderline', 1), ('74355', 1), ('GIRL', 2), ('DEL', 1), ('SUM', 1), ('LUCYxx', 1), ('tp', 1), ('G.W.R', 1), ('correctly', 1), ('affidavit', 1), ('Twiggs', 1), ('courtroom', 1), ('lovers', 2), ('becz', 1), ('undrstndng', 1), ('avoids', 1), ('suffer', 1), ('Erutupalam', 1), ('thandiyachu', 1), ('newest', 1), ('\\x89ÛÏHarry', 1), ('Potter', 1), ('Order', 2), ('Phoenix', 1), ('Book', 3), ('HARRY', 1), ('among', 2), ('readers', 1), ('Dorothy', 1), ('kiefer.com', 1), ('mth', 1), ('goin2bed', 1), ('Only1more', 1), ('maaaan', 1), ('resizing', 1), ('Tired', 1), ('complacent', 1), ('greatness', 1), ('11mths', 4), ('Oranges', 2), ('Upd8', 2), ('freefone', 2), ('2StopTx', 1), ('setting', 1), ('Filling', 1), ('Ding', 1), ('fassyole', 1), ('Blacko', 1), ('londn', 1), ('Poyyarikatur', 1), ('kolathupalayam', 1), ('unjalur', 1), ('erode', 1), ('Theoretically', 1), ('ripped', 1), ('www.clubmoby.com', 1), ('08717509990', 1), ('poly/true/Pix/Ringtones/Games', 1), ('female', 2), ('throwing', 1), ('hiya', 1), ('hows', 3), ('africa', 1), ('avin', 1), ('Infact', 1), ('\\\\Wen', 1), ('iåÕd', 1), ('drinks', 2), ('indian', 1), ('mouse', 1), ('desk', 1), ('aptitude', 1), ('Out', 1), ('Videos', 1), ('sms.shsex.netUN', 1), ('fgkslpoPW', 1), ('fgkslpo', 1), ('dogging', 2), ('09090204448', 1), ('minded', 1), ('Aå£1.50', 1), ('minAPN', 1), ('LS278BB', 1), ('ignoring', 1), ('friendships', 1), ('grow', 1), ('Prepare', 3), ('pleasured', 1), ('\\\\EY', 1), ('CALM', 1), ('DOWNON', 1), ('THEACUSATIONS', 1), ('ITXT', 1), ('COS', 1), ('IWANA', 1), ('WOTU', 1), ('THEW/END', 1), ('HAVENTCN', 1), ('AGES', 1), ('UP4', 2), ('NETHING', 1), ('SAT.LOVE', 1), ('recharged', 1), ('moby', 2), ('w8in', 1), ('4uTxt', 1), ('82242', 3), ('Hlp', 2), ('08712317606', 2), ('Msg150p', 2), ('2rcv', 2), ('12mths', 1), ('1/2price', 1), ('x-net', 1), ('100txt/mth', 1), (\"B'tooth\", 1), ('Mobileupd8', 1), ('2optout/D3WV', 1), ('chasing', 2), ('Sends', 1), ('greetings', 1), ('classes', 2), ('Everyday', 1), ('fatty', 1), ('toa', 2), ('payoh', 3), ('appeal', 1), ('thriller', 1), ('director', 1), ('mac', 2), ('8.30', 2), ('mouth', 2), ('african', 1), ('soil', 1), ('donate', 1), ('å£2.50', 2), ('UNICEF', 1), ('Asian', 1), ('Tsunami', 1), ('disaster', 1), ('fund', 1), ('DONATE', 1), ('864233.', 1), ('weigh', 2), ('breathe', 2), ('Wewa', 1), ('130', 1), ('Iriver', 1), ('255', 1), ('128', 1), ('Amy', 1), ('parties', 1), ('dislikes', 2), ('ho', 3), ('Party', 1), ('contribute', 1), ('greatly', 1), ('appreciated', 2), ('genius', 1), ('chart', 1), ('Vodafone', 2), ('4882', 1), ('09064019014', 1), ('importantly', 1), ('Texting', 1), ('NEFT', 1), ('Transaction', 3), ('Rs', 3), ('credited', 1), ('beneficiary', 1), ('diesel', 1), ('conveying', 1), ('Ese', 1), ('feeling.wavering', 1), ('decisions', 2), ('individual.time', 1), ('heal', 1), ('Don\\x89Û÷t', 1), ('flying', 1), ('incomm', 1), ('error', 2), ('haunt', 1), ('sorted', 2), ('promoting', 1), ('hex', 1), ('.by', 1), ('Joke', 1), ('younger', 1), ('mahal', 1), ('stopped', 5), ('irritating', 2), ('Tomarrow', 1), ('court', 1), ('forwarding', 1), ('http//tms', 1), ('widelive.com/index', 2), ('wml', 2), ('id=820554ad0a1705572711', 1), ('first=trueåÁC', 1), ('RingtoneåÁ', 1), ('Lolnice', 1), ('opposite', 1), ('repairs', 1), ('ovulation', 1), ('followin', 1), ('850', 1), ('Toa', 1), ('650', 1), ('aunt', 2), ('nike', 1), ('coimbatore', 1), ('olave', 1), ('mandara', 1), ('trishul', 1), ('attending', 1), ('financial', 1), ('problem.i', 1), ('Reference', 1), ('T91', 1), ('GBP', 1), ('09057039994', 1), ('holding', 3), ('realize', 3), ('me.\\\\', 1), ('YESTERDAY', 1), ('09061702893', 1), ('Made', 1), ('stuffed', 1), ('bleh', 2), ('writhing', 1), ('2mro', 1), ('8-8:30', 1), ('cld', 2), ('Wld', 1), ('nosh', 1), ('Havent', 4), ('stuck', 3), ('Audrey', 1), ('capital', 2), ('lie', 3), ('responce', 2), ('double-faggot', 1), ('FIRST', 2), ('STRIKE', 1), ('RED', 1), ('BIRD', 1), ('ANTELOPE', 1), ('TOPLAY', 1), ('FIELDOF', 1), ('SELFINDEPENDENCE', 1), ('BELIEVE', 1), ('FLOWER', 3), ('CONTENTION', 1), ('GROW.RANDOM', 1), ('Total', 1), ('disappointment', 1), ('craziest', 1), ('Biola', 1), ('Tee', 1), ('hee', 1), ('cheery', 1), ('handsome', 1), ('finding', 1), ('Working', 1), ('Done', 1), ('queen', 1), ('15:26', 1), ('pub/cafe', 1), ('MOB', 1), ('54', 1), ('resubmit', 1), ('expiry', 1), ('THEMOB', 1), ('X2', 1), ('80488.biz', 1), ('bridgwater', 1), ('banter', 1), ('nannys', 1), ('stereo', 1), ('mi', 1), ('Tmr', 3), ('visa', 1), ('gucci', 1), ('canåÕt', 1), ('cornwall', 1), ('isnåÕt', 1), ('itåÕs', 1), ('shite', 1), ('kip', 1), ('doubt', 1), ('Sleepwell', 1), ('london', 1), ('treatin', 1), ('treacle', 1), ('2006', 1), ('FIFA', 1), ('annoncement', 1), ('07046744435', 1), ('Slowly', 1), ('Becomes', 2), ('Habit', 1), ('Part', 2), ('Follow', 1), ('Unlimited', 1), ('Limited', 1), ('Sez', 1), ('arab', 1), ('evry1', 1), ('eshxxxxxxxxxxx', 1), ('day.', 1), ('misbehaved', 1), ('SLAP', 1), ('URSELF', 1), ('2StopTxt', 1), ('WERETHE', 1), ('MONKEESPEOPLE', 1), ('MONKEYAROUND', 1), ('HOWDY', 1), ('GORGEOUS', 1), ('Realy', 1), ('sorry-i', 1), ('Sary', 1), ('Tim', 1), ('bollox', 1), ('tol', 1), ('morning.take', 1), ('ummifying', 1), ('85222', 1), ('WinnersClub', 1), ('84', 1), ('GBP1.50/week', 1), ('fink', 1), ('09099726553', 1), ('promised', 1), ('CARLIE', 1), ('Callså£1/minMobsmore', 1), ('LKPOBOX177HP51FL', 1), ('repent', 1), ('beads', 1), ('Ever', 3), ('basket', 1), ('//alto18.co.uk/wave/wave.asp', 1), ('o=44345', 1), ('Jos', 1), ('poop', 1), ('gpu', 1), ('weirdy', 1), ('brownies', 1), ('cookies', 2), ('youPhone', 1), ('atHome', 1), ('youwanna', 1), ('chat.\\\\', 1), ('University', 1), ('southern', 1), ('\\\\Hey', 2), ('didntgive', 1), ('bellearlier', 1), ('hunny', 1), ('sporadically', 1), ('bc', 1), ('garments', 1), ('searching', 5), ('days.he', 2), ('potential', 2), ('talent', 2), ('horse', 1), ('chicken', 1), ('breather', 1), ('granted', 1), ('fulfil', 1), ('blessing', 1), ('exhausted', 2), ('timi', 1), ('bec', 1), ('de.am', 1), ('150p/Mtmsgrcvd18+', 1), ('Sender', 2), ('Number', 3), ('Stupid', 2), ('pee', 1), ('burns', 1), ('dats', 1), ('dogg', 1), ('Nimbomsons', 1), ('Obviously', 1), ('1.20', 1), ('plural', 1), ('noun', 1), ('research', 2), ('sweater', 1), ('mango', 1), ('smoked', 1), ('shell', 1), ('unconsciously', 1), ('avoiding', 2), ('unhappy', 1), ('lingerie', 1), ('www.bridal.petticoatdreams.co.uk', 1), ('superb', 1), ('Brought', 1), ('WeddingFriend', 1), ('acknowledgement', 1), ('astoundingly', 1), ('tactless', 1), ('faggy', 2), ('oath', 1), ('fo', 2), ('tues', 1), ('watchin', 1), ('kaila', 1), ('ROMCAPspam', 1), ('Everyone', 1), ('presence', 1), ('outgoing', 1), ('breath', 1), ('sunshine', 2), ('hypertension', 1), ('//www.e-tlp.co.uk/expressoffer', 2), ('apply.2', 1), ('lo', 2), ('urination', 1), ('memorable', 1), ('Slaaaaave', 1), ('summon', 1), ('\\\\Nver', 1), ('somtimes', 1), ('occupy', 2), ('Hearts', 1), ('Ela', 1), ('kano.', 1), ('swimsuit', 1), ('newspapers', 1), ('smashed', 1), ('driver', 1), ('dent', 1), ('Goal', 1), ('Arsenal', 2), ('Henry', 2), ('Liverpool', 2), ('scores', 1), ('yards', 1), ('Bergkamp', 1), ('goal', 1), ('margin', 1), ('78', 1), ('Prof', 2), ('passed', 3), ('papers', 2), ('sem', 2), ('congrats', 1), ('Student', 1), ('Enna', 1), ('kalaachutaarama', 1), ('Joking', 1), ('Evry', 1), ('Emotion', 1), ('ds', 3), ('Words.Evry', 1), ('Prayrs', 1), ('u.Othrwise', 1), ('Stay', 1), ('u.So', 1), ('deduct', 1), ('prometazine', 1), ('syrup', 1), ('5mls', 1), ('feed', 1), ('dhoni', 1), ('rocks', 1), ('FRIENDS', 1), ('CaRE', 1), ('CLoSE', 1), ('UNDERSTaND', 1), ('TRUE', 1), ('STaY', 1), ('beyond', 2), ('mushy', 1), ('embarrassed', 1), ('Wrong', 1), ('yep', 2), ('fireplace', 1), ('icon', 1), ('Sry', 1), ('jst', 5), ('nosy', 1), ('reacting', 1), ('freaked', 1), ('08718738002', 1), ('48922', 1), ('21/11/04', 1), ('wishing', 1), ('snickering', 1), ('chords', 1), ('mention', 1), ('served', 1), ('4the', 1), ('4mths', 3), ('MobilesDirect', 3), ('08000938767', 3), ('or2stoptxt', 3), ('REALITY', 2), ('FANTASY', 2), ('SHOW', 2), ('Geeeee', 2), ('wee', 1), ('cultures', 1), ('module', 2), ('VALENTINE', 1), ('PARIS', 2), ('Flight', 1), ('Hotel', 1), ('69101.', 1), ('www.rtf.sphosting.com', 1), ('asthma', 1), ('attack', 1), ('eggs', 2), ('korean', 1), ('News', 3), ('FREEFONE', 2), ('08006344447', 2), ('Usf', 1), ('//tms', 1), ('id=1b6a5ecef91ff9', 1), ('37819', 1), ('first=true18:0430-JUL-05', 1), ('Finished', 1), ('Mobiles', 2), ('MUST', 2), ('89545', 2), ('å£1', 2), ('www.4-tc.biz', 2), ('087187262701.50gbp/mtmsg18', 2), ('\\\\get', 1), ('Pick', 2), ('7.30ish', 1), ('ex-wife', 1), ('everyso', 1), ('panicks', 1), ('Yeh', 1), ('Indians', 3), ('Tho', 1), ('kane', 1), ('shud', 1), ('Mite', 1), ('laugh', 6), ('spacebucks', 1), ('Honestly', 1), ('promptly', 1), ('burnt', 1), ('fingers', 4), ('Meat', 1), ('supreme', 1), ('\\\\For', 1), ('sparkling', 1), ('breaks', 1), ('45', 1), ('0121', 1), ('2025050', 1), ('www.shortbreaks.org.uk\\\\', 1), ('EURO2004', 2), ('CUP', 2), ('FINAL', 2), ('09058099801', 2), ('b4190604', 2), ('7876150ppm', 2), ('pride', 1), ('kid', 2), ('grownup', 1), ('messy', 1), ('Mandan', 1), ('HMV', 3), ('BONUS', 1), ('SPECIAL', 1), ('genuine', 1), ('www.100percent-real.com', 1), ('bruv', 1), ('ignorant', 1), ('k.wish', 1), ('difference', 2), ('versus', 1), ('soiree', 1), ('unconscious', 1), ('adults', 1), ('abnormally', 1), ('STAR', 1), ('09066364349', 1), ('Box434SK38WP150PPM18+', 1), ('attracts', 1), ('shanghai', 1), ('cya', 1), ('bless', 1), ('DOGBREATH', 1), ('SOUNDING', 1), ('JAN', 1), ('THATåÕS', 1), ('AL', 1), ('reception', 1), ('gently', 1), ('hockey', 1), ('elections', 1), ('shouldn\\x89Û÷t', 1), ('ah.the', 1), ('ubi', 2), ('tomorrow.call', 1), ('67441233', 1), ('irene.ere', 1), ('bus8,22,65,61,66,382', 1), ('Ubi', 1), ('cres', 1), ('tech', 1), ('park.6ph', 1), ('5wkg', 1), ('days.Ì¬n', 1), ('billy', 1), ('jogging', 2), ('Gokila', 1), ('08717895698', 1), ('MobStoreQuiz10ppm', 1), ('emigrated', 1), ('5.30', 2), ('hopeful', 1), ('Long', 1), ('def', 2), ('GIFTS', 1), ('cliff', 1), ('morphine', 2), ('tip', 1), ('unnecessarily', 1), ('hostile', 1), ('unintentionally', 1), ('bhaskar', 1), ('entirely', 1), ('Ho', 1), ('å£400', 3), ('087104711148', 1), ('MINE', 2), ('possession', 2), ('lastest', 1), ('Stereophonics', 1), ('Marley', 1), ('Dizzee', 1), ('Racal', 1), ('Libertines', 1), ('Strokes', 1), ('Nookii', 1), ('Flirt', 1), ('Bookmark', 1), ('82468', 1), ('packing', 1), ('offline', 1), ('anjola', 1), ('unclaimed', 1), ('09066368327', 1), ('closingdate04/09/02', 1), ('claimcode', 1), ('M39M51', 1), ('å£1.50pmmorefrommobile2Bremoved-MobyPOBox734LS27YF', 1), ('ahold', 1), ('King', 3), ('Crying', 1), ('Baby', 3), ('Building', 1), ('Imprtant', 1), ('Wil', 1), ('Reach', 2), ('TOMORW', 1), ('08712402902', 1), ('Gibbs', 1), ('unsold.mike', 1), ('hussey', 1), ('atten', 1), ('inperialmusic', 1), ('listening2the', 1), ('byåÓleafcutter', 1), ('johnåÓ-sounds', 1), ('insects', 1), ('molested', 1), ('plumbing', 1), ('remixed', 1), ('evil', 1), ('acid', 1), ('goggles', 1), ('Horrible', 1), ('mc', 1), ('cud', 1), ('7.30pm', 1), ('Pass', 1), ('contacts', 2), ('Blue', 1), ('Purple', 1), ('lyk', 2), ('Green', 1), ('Yelow', 1), ('bck', 1), ('jealous', 1), ('Brown', 1), ('Nw', 1), ('giv', 1), ('subscribers', 1), ('G.B', 1), ('Wkly', 3), ('Algarve', 2), ('ansr', 3), ('82277.', 3), ('Tyrone', 3), ('length', 1), ('distract', 1), ('deleted', 3), ('Resend', 1), ('Bishan', 1), ('nearer', 1), ('srsly', 1), ('yi', 1), ('yetty', 1), ('Jesus', 1), ('noisy', 1), ('Miles', 1), ('keeps', 2), ('Petey', 1), ('noiåÕm', 1), ('avent', 2), ('time-hope', 1), ('alrite.have', 1), ('nit', 1), ('js', 1), ('am.x', 1), ('Having', 1), ('stitch', 1), ('trouser', 1), ('Putting', 2), ('fires.Are', 1), ('virgin', 1), ('sumfing', 1), ('accidant', 1), ('tookplace', 1), ('ghodbandar', 1), ('rd', 4), ('Traffic', 1), ('moves', 1), ('slovely', 1), ('necessary', 1), ('Frnd', 1), ('wasted', 1), ('applebees', 1), ('Slept', 1), ('thinkThis', 1), ('dangerous', 1), ('Nooooooo', 1), ('death', 2), ('Cable', 1), ('outage', 1), ('honeymoon', 1), ('outfit', 1), ('mountain', 1), ('deer', 1), ('flatter', 1), ('pints', 1), ('carlin', 1), ('dismissial', 1), ('perf', 1), ('wrongly', 1), ('meetin', 2), ('cha', 1), ('beverage', 1), ('l8r', 2), ('v.pist', 1), ('gang', 2), ('jap', 1), ('lou', 1), ('reply-', 1), ('Lancaster', 1), ('Neway', 1), ('couldnåÕt', 1), ('scratching', 1), ('dumb', 1), ('Mystery', 1), ('solved', 2), ('opened', 1), ('apologize', 1), ('admit', 1), ('Nutter', 1), ('Cutter', 1), ('Ctter', 1), ('Cttergg', 1), ('Cttargg', 1), ('Ctargg', 1), ('Ctagg', 1), ('ie', 1), ('burden', 1), ('Lara', 1), ('Chachi', 1), ('Pl', 1), ('tiz', 1), ('Kanagu', 1), ('famamus', 1), ('TEXTBUDDY', 2), ('Search', 2), ('gaytextbuddy.com', 2), ('89693', 2), ('08715500022', 1), ('rpl', 1), ('cnl', 1), ('Registered', 1), ('olympics', 1), ('crashed', 1), ('cuddled', 1), ('ba', 1), ('dao', 1), ('Wow', 2), ('accomodations', 1), ('seemed', 3), ('\\\\the', 1), ('cave\\\\', 1), ('offered', 1), ('embarassing', 1), ('Depends', 3), ('vomitin', 1), ('middle', 2), (\"'An\", 1), ('Quote', 1), ('\\\\Sometimes', 1), ('aust', 1), ('bk', 1), ('TAJ', 1), ('MAHAL', 1), ('symbol', 1), ('lesser', 1), ('known', 1), ('facts', 1), ('Mumtaz', 4), ('Shahjahan', 2), ('wifes', 1), ('killed', 2), ('Question', 1), ('arises', 1), ('Hell', 1), ('-|', 1), ('-The', 1), ('Hari-', 1), ('Yoyyooo', 1), ('permissions', 1), ('sh', 1), ('ready.all', 1), ('cried', 1), ('Uhhhhrmm', 1), ('smokin', 1), ('S.i', 1), ('youåÕre', 1), ('jess', 1), ('chic', 1), ('Common', 1), ('Declare', 1), ('knocking', 1), ('chad', 1), ('gymnastics', 1), ('Christians', 1), ('CAL', 1), ('SIR', 1), ('so.so', 1), ('staff', 1), ('GON', 1), ('staying', 1), ('glo', 1), ('above', 1), ('hitter.anyway', 1), ('Hungry', 1), ('08718730555', 1), ('commercial', 2), ('boost', 2), ('borrow', 2), ('beside', 1), ('ACCEPT', 3), ('Brother', 4), ('Sister', 3), ('Dear1', 3), ('Best1', 3), ('Clos1', 3), ('Lvblefrnd', 3), ('Jstfrnd', 3), ('Cutefrnd', 3), ('Lifpartnr', 3), ('Belovd', 3), ('Swtheart', 3), ('Bstfrnd', 3), ('enemy', 4), ('wasnåÕt', 1), ('spouse', 1), ('pmt', 1), ('sumthin', 1), ('4give', 1), ('shldxxxx', 1), ('09064017295', 1), ('prolly', 1), ('Burger', 2), ('footy', 1), ('stadium', 1), ('Large', 1), ('Coca-Cola', 1), ('were/are', 1), ('adi', 1), ('entey', 1), ('nattil', 1), ('kittum', 1), ('lanre', 1), ('fakeye', 1), ('Eckankar', 1), ('02', 1), ('giggle', 1), ('possibly', 1), ('person2die', 1), ('NVQ', 1), ('flip', 2), ('thangam.it', 1), ('breaking', 1), ('cstore', 1), ('garden', 2), ('bulbs', 2), ('seeds', 2), ('å£33:50', 2), ('Scotsman', 2), ('go2', 2), ('notxt.co.uk', 2), ('refilled', 2), ('successfully', 2), ('INR', 2), ('KeralaCircle', 2), ('prepaid', 2), ('KR', 2), ('å£33.65', 1), ('Matthew', 1), ('09063440451', 1), ('Lux', 2), ('ppm150', 1), ('Box334', 1), ('SK38XH', 1), ('gotto', 1), ('08702840625', 1), ('comuk.220cm2', 1), ('dudette', 1), ('Nottingham', 1), ('63miles', 1), ('40mph', 1), ('Test', 1), ('drastic', 1), ('zoom', 1), ('Fr', 1), ('half-8th', 1), ('87131', 4), ('2814032', 1), ('3xå£150pw', 1), ('eå£nd', 1), ('hep', 1), ('immunisation', 1), ('rhode', 1), ('bong', 1), ('upstairs', 2), ('hectic', 1), ('swoop', 1), ('Aldrine', 1), ('rakhesh', 1), ('RTM', 1), ('here.pls', 1), ('call.urgent', 1), ('Err', 1), ('Cud', 1), ('panren', 1), ('paru', 1), ('Soon', 1), ('abj', 1), ('prediction', 1), ('6hrs', 1), ('surgical', 1), ('emergency', 1), ('unfolds', 1), ('\\\\STOP', 1), ('MIX\\\\', 1), ('my-tone.com/enjoy', 1), ('html', 1), ('GBP4.50/week', 1), ('MFL', 1), ('Ew', 1), ('Abbey', 1), ('bitching', 1), ('acted', 2), ('stalking', 1), ('enjoying', 1), ('Nokia6650', 1), ('81151', 1), ('Ctxt', 1), ('150p/MTmsg', 1), ('Aslamalaikkum', 1), ('insha', 1), ('tohar', 1), ('beeen', 1), ('muht', 1), ('albi', 1), ('mufti', 1), ('mahfuuz', 1), ('09061749602', 1), ('528', 1), ('HP20', 1), ('1YF', 1), ('burger', 1), ('killing', 2), ('Argh', 1), ('spotty', 1), ('province', 1), ('sterling', 1), ('problem-free', 1), ('cts', 1), ('employee', 1), ('Change', 3), ('sentence', 2), ('\\\\Because', 1), ('concentrate', 1), ('educational', 1), ('Remembrs', 1), ('Forgets', 1), ('Remembered', 1), ('Everytime', 1), ('tattoos', 1), ('Icic', 1), ('robs', 1), ('Avenge', 1), ('Requests', 1), ('1stchoice.co.uk', 1), ('Information', 1), ('08707808226', 1), ('resubbing', 1), ('approve', 1), ('panalam', 1), ('posts', 2), ('postponed', 1), ('stocked', 1), ('Mila', 1), ('age23', 1), ('blonde', 1), ('MTALK', 1), ('69866.18', 1), ('30pp/txt', 1), ('5free', 1), ('increments', 1), ('Help08718728876', 1), ('super', 2), ('recorder', 1), ('canname', 1), ('Australia', 1), ('MQUIZ', 1), ('82277', 1), ('Getting', 1), ('S.this', 1), ('increase', 1), ('winning', 1), ('Queen', 1), ('hmmm', 1), ('desparately', 1), ('teaching', 1), ('time.you', 1), ('TELLMISS', 1), ('chastity', 1), ('device', 1), ('beatings', 1), ('watts', 1), ('yor', 1), ('stressed', 1), ('depressed', 1), ('\\\\CHEERS', 2), ('CALLIN', 1), ('BABE.SOZI', 1), ('CULDNT', 1), ('TALKBUT', 1), ('WANNATELL', 1), ('DETAILS', 1), ('LATER', 1), ('WENWECAN', 1), ('PROPERLY', 1), ('X\\\\', 1), ('Marvel', 1), ('Ultimate', 1), ('Spider-man', 1), ('SPIDER', 1), ('83338', 1), ('8Ball', 1), ('Dai', 1), ('naal', 1), ('eruku', 1), ('Maintain', 3), ('cr', 1), ('Trust', 2), ('mt', 1), ('t-shirt', 1), ('NEVER', 1), ('STUDY', 1), ('protect', 1), ('e-threats', 1), ('SIB', 1), ('sensitive', 1), ('Passwords', 1), ('ATM/SMS', 1), ('PIN', 1), ('Gosh', 1), ('Spose', 1), ('polypH', 1), ('eviction', 1), ('Spiral', 1), ('Michael', 1), ('riddance', 1), ('McFly-All', 1), ('Ab', 1), ('Sara', 1), ('Jorge-Shock', 1), ('Smith-Switch', 1), ('follow', 1), ('ploughing', 1), ('pile', 1), ('ironing', 1), ('Staying', 1), ('chinky', 1), ('Started', 1), ('Desires-', 1), ('liver', 1), ('stylish', 1), ('pierre', 1), ('cardin', 1), ('City', 2), ('Summer', 2), ('88039.SkilGme.TsCs087147403231Winawk', 1), ('Age16+å£1.50perWKsub', 1), ('08715203656', 1), ('42049', 1), ('26/10/04', 1), ('handed', 2), ('Two', 2), ('teams', 1), ('jokin', 1), ('Nowadays', 1), ('notixiquating', 1), ('laxinorficated', 1), ('bambling', 1), ('entropication', 1), ('oblisingately', 1), ('opted', 1), ('books', 2), ('masteriastering', 1), ('amplikater', 1), ('fidalfication', 1), ('champlaxigating', 1), ('atrocious', 1), ('Wotz', 1), ('Opinion', 1), ('Junna', 1), ('tirupur', 3), ('sorta', 1), ('blown', 1), ('SMSSERVICES', 1), ('yourinclusive', 1), ('BangBabes', 1), ('SHOULD', 1), ('GoTo', 1), ('bangb', 1), ('internet/service', 1), ('monthly', 2), ('finishing', 1), ('topic', 2), ('shattered', 1), ('REWARD', 1), ('WAITING', 1), ('loyal', 1), ('customers', 1), ('09066380611', 1), ('RCT', 1), ('THNQ', 1), ('Adrian', 1), ('Rgds', 1), ('Vatian', 1), ('INTO', 1), ('TROUBLE', 1), ('IJUST', 1), ('TALKED', 1), ('MORNING', 1), ('HAD', 2), ('NIGHT', 2), ('women', 2), ('Concentrate', 1), ('stuffs', 1), ('Headset', 1), ('\\\\ADP\\\\', 1), ('S.s', 1), ('thinl', 1), ('sachin.just', 1), ('Others', 1), ('seeking', 1), ('uses', 1), ('Sptv', 1), ('Jersey', 1), ('Devils', 1), ('Wings', 1), ('Ice', 1), ('Hockey', 1), ('Correct', 1), ('Incorrect', 1), ('SPTV', 1), ('coco', 1), ('browsin', 1), ('compulsory', 1), ('hunt', 1), ('minor', 1), ('shindig', 1), ('unsubscribed', 1), ('hunks', 1), ('//gotbabes.co.uk', 1), ('subscriptions', 1), ('prince', 2), ('charming', 1), ('07808247860', 1), ('08719899229', 1), ('40411', 1), ('06/11/04', 1), ('08712402972', 1), ('wondar', 1), ('flim', 1), ('Shb', 1), ('sd', 1), ('sore', 3), (\"I'ma\", 1), ('caroline', 2), ('Bless', 1), ('legs', 3), ('chillin', 2), ('torch', 3), ('occasion', 1), ('Celebrated', 1), ('Reflection', 1), ('Values', 1), ('Desires', 1), ('Affections', 1), ('Traditions', 1), ('resent', 1), ('Queries', 1), ('customersqueries', 1), ('netvision.uk.com', 1), ('Incredible', 2), ('blow', 2), ('O2FWD', 2), ('18p/txt', 2), ('THANKS', 1), ('LIFT', 1), ('TOMORROW', 2), ('\\\\CHA', 1), ('QUITEAMUZING', 1), ('THATåÕSCOOL', 1), ('dull', 1), ('Ic', 1), ('childporn', 1), ('owl', 1), ('licks', 1), ('Loooooool', 1), ('\\\\sleep', 1), ('couch\\\\', 1), ('celebration', 2), ('rents', 1), ('andre', 1), ('virgil', 1), ('www.telediscount.co.uk', 1), ('attended', 1), ('10.1mega', 1), ('pixels', 1), ('3optical', 1), ('5digital', 1), ('dooms', 1), ('perpetual', 1), ('DD', 1), (\"Don't4get2text\", 1), ('map', 1), ('semi', 1), ('apart', 1), ('gbp/sms', 1), ('yetunde', 2), ('january', 2), ('Adult', 1), ('Mr.', 2), ('T.', 2), ('Foley', 2), ('exciting', 3), ('prizes', 2), ('eye', 3), ('www.win-82050.co.uk', 2), ('Yeesh', 1), ('involve', 1), ('imposed', 1), ('senthil.hsbc', 1), ('\\\\wow', 1), (\"tm'ing\", 1), ('laughs', 1), ('dehydrated', 1), ('Next', 1), ('Feelin', 1), ('lnly', 1), ('Jst', 1), ('owe', 1), ('Gsex', 1), ('2667', 1), ('WC1N', 1), ('3XX', 1), ('4.49/month', 1), ('bundle', 1), ('deals', 1), ('avble', 1), ('call2optout/J', 1), ('MF', 1), ('pubs', 1), ('Frankie', 1), ('Bennys', 1), ('warner', 1), ('loxahatchee', 2), ('tree', 3), ('burning', 2), ('audrey', 1), ('sorts', 1), ('outbid', 1), ('simonwatson5120', 1), ('Shinco', 1), ('Plyr', 1), ('ac/smsrewards', 1), ('notifications', 1), ('Sh', 2), ('jas', 2), ('TEXTCOMP', 1), ('follows', 1), ('subsequent', 1), ('150p/msg.2', 1), ('Dat', 2), ('painting', 2), ('08707500020', 1), ('prominent', 1), ('cheek', 1), ('weighed', 1), ('Woohoo', 1), ('ft.', 1), ('combination', 1), ('raglan', 1), ('edward', 1), ('Behind', 1), ('cricket', 1), ('closeby', 1), ('unfortunately', 1), ('arent', 1), ('cakes', 1), ('Received', 1), ('upon', 1), ('mail.i', 1), ('mailed', 1), ('varma', 1), ('membership.take', 1), ('care.insha', 1), ('Kindly', 1), ('cleaning', 1), ('annoying', 1), ('tortilla', 2), ('Yummmm', 1), ('\\\\Aww', 1), ('nearly', 2), ('Jez', 1), ('isComing', 1), ('toDo', 1), ('workAnd', 1), ('whillTake', 1), ('Ay', 1), ('Cancel', 1), ('cheyyamo', 1), ('ibm', 1), ('hp', 1), ('avalarr', 1), ('hollalater', 1), ('Tension', 2), ('machi', 1), ('Simply', 2), ('Unni', 1), ('Dial', 1), ('Bx526', 1), ('lobby', 1), ('\\\\YEH', 1), ('DEF', 1), ('SAT', 2), ('Thout', 1), ('EASTENDERS', 2), ('TV', 3), ('DOT', 2), ('compare', 2), ('herself', 2), ('D=', 2), ('VIOLET', 2), ('E=', 2), ('TULIP', 2), ('F=', 2), ('LILY', 2), ('WKENT/150P16+', 2), ('HUN', 1), ('2NITE-TELL', 1), ('EVERY1', 1), ('AVA', 1), ('GOODTIME', 1), ('OLI', 1), ('RANG', 1), ('MELNITE', 1), ('IFINK', 1), ('MITE', 1), ('SORTED', 1), ('EXPLAIN', 1), ('EVERYTHIN', 1), ('MON.L8RS.x', 1), ('Treat', 1), ('pending.i', 1), ('days.will', 1), ('thru.Respect', 1), ('home.check', 1), ('steam', 2), ('stripes', 1), ('skirt', 1), ('Ooh', 1), ('4got', 1), ('moseley', 1), ('weds', 1), ('K.i', 1), ('dentist', 1), ('skye', 1), ('reality', 1), ('peoples', 1), ('shy', 1), ('trips', 1), ('darker', 1), ('styling', 1), ('Waste', 1), ('Innocent', 1), ('5.Terror', 1), ('6.Cruel', 1), ('7.Romantic', 1), ('8.Lovable', 1), ('9.decent', 1), ('.joker', 1), ('rounder', 1), ('required', 1), ('goods', 1), ('revealing', 1), ('Tiwary', 1), ('rcb.battle', 1), ('bang', 1), ('kochi', 1), ('pounded', 1), ('route', 1), ('dippeditinaDEW', 1), ('lovingly', 1), ('itwhichturnedinto', 1), ('gifted', 1), ('tomeandsaid', 1), ('Promotion', 1), ('8714714', 1), ('TsCs087147403231Winawk', 1), ('Age16', 1), ('å£1.50perWKsub', 1), ('Buzzzz', 1), ('chest', 1), ('vibrator', 1), ('shake', 1), ('practising', 1), ('curtsey', 1), ('crossing', 1), ('batt', 1), ('scrounge', 2), ('Hasbro', 1), ('AUGUST', 1), ('jump', 1), ('hoops', 1), ('breadstick', 1), ('08714712379', 1), ('Monthly', 1), ('mobsi.com', 1), ('391784', 1), ('rushing', 1), ('rush', 2), ('pack', 3), ('store.like', 1), ('cereals', 1), ('gari', 1), ('9ja', 1), ('crammed', 1), ('FREEMSG', 1), ('3750', 1), ('BRAND', 1), ('7250', 1), ('Auction', 1), ('skint', 1), ('fancied', 1), ('bevies.waz', 1), ('gona', 2), ('othrs', 1), ('spoon', 1), ('watchng', 1), ('planet', 1), ('comfey', 1), ('Prasanth', 1), ('ettans', 1), ('kfc', 1), ('meals', 1), ('gravy', 1), ('7634', 1), ('7684', 1), ('jelly', 1), ('Looking', 1), ('ARR', 1), ('oscar', 1), ('trauma', 1), ('swear', 1), ('IKEA', 1), ('spelled', 1), ('caps', 1), ('mess', 1), ('bullshit', 1), ('wuld', 1), ('everyboy', 1), ('xxxxxxxx', 1), ('Goodo', 2), ('egg-potato', 1), ('ratio', 1), ('florida', 1), ('seem', 3), ('bike', 1), ('Tb', 1), ('chgs', 1), ('dual', 1), ('AREA', 1), ('www.flirtparty.us', 1), ('REPLYS150', 1), ('flow', 1), ('developed', 1), ('ovarian', 1), ('cysts', 1), ('Bc', 1), ('shrink', 1), ('shining', 1), ('signing', 2), ('neighbors', 1), ('Woke', 1), ('Neshanth', 1), ('Freemsg', 1), ('1-month', 1), ('Activate', 2), ('SmartCall', 1), ('68866', 1), ('Subscriptn3gbp/wk', 1), ('08448714184', 1), ('landlineonly', 1), ('sane', 1), ('fighting', 2), ('helping', 1), ('SUPER', 1), ('SN', 2), ('PoBox202', 1), ('NR31', 1), ('7ZS', 1), ('450pw', 1), ('alrite', 1), ('girlie', 1), ('god.not', 1), ('uploaded', 1), ('Delhi', 2), ('profile', 1), ('bpo', 1), ('Dileep.thank', 1), ('muchand', 1), ('venugopal', 1), ('mentioned.tomorrow', 1), ('there.goodnight', 1), ('buzy', 1), ('esplanade', 1), ('nose', 1), ('essay', 1), ('Her', 1), ('moneY', 1), ('honesty', 1), ('pass.They', 1), ('silently', 1), ('nt.swt', 1), ('drms', 1), ('Shesil', 1), ('stage', 1), ('\\\\song', 2), ('dedicated', 2), ('dedicate', 2), ('wildlife', 1), ('want2come', 1), ('that2worzels', 1), ('wizzle', 1), ('NIC', 1), ('CHECKIN', 1), ('NUMBER-SO', 1), ('T.B', 1), (\"'VE\", 1), ('Won', 1), ('Winner', 1), ('August', 2), ('09066660100', 1), ('2309', 1), ('firmware', 1), ('destination', 1), ('normally', 2), ('maths', 1), ('chapter', 1), ('photoshop', 1), ('Caught', 1), ('broken', 2), ('JADE', 1), ('PAUL', 1), ('DIDNåÕT', 1), ('REMEMBER', 1), ('BARMED', 1), ('TALK', 1), ('musthu', 1), ('Thts', 2), ('Wright', 1), ('fly', 1), ('ceiling', 1), ('dawns', 1), ('refreshed', 1), ('09058097189', 1), ('LS15HB', 1), ('bad-', 1), ('rejected', 1), ('meatballs', 1), ('CHIT-CHAT', 1), ('Logon', 1), ('8883', 1), ('CM', 1), ('4217', 1), ('W1A', 1), ('6ZF', 1), ('118p/msg', 1), ('merry', 1), (\"x'mas\", 1), ('Mallika', 1), ('Sherawat', 1), ('fridge', 1), ('Married', 1), ('instantly', 2), ('MATCH', 1), ('69969', 1), ('BCMSFWC1N3XX', 1), ('lib', 1), ('wamma', 1), ('doggin', 1), ('dogs', 1), ('wall', 1), ('dust', 1), ('infra', 1), ('returning', 1), ('doke', 1), ('laying', 1), ('cashto', 1), ('08000407165', 1), ('getstop', 1), ('88222', 1), ('PHP', 1), ('sun0819', 1), ('\\\\You', 1), ('general', 1), ('/oz', 1), ('if/when/how', 1), ('defer', 1), ('admission', 1), ('09061743811', 1), ('326', 2), ('tool', 1), ('mys', 1), ('mapquest', 1), ('\\\\usf', 1), ('dogwood', 1), ('drive\\\\', 1), ('\\\\MIX\\\\', 1), ('85069', 1), ('verify', 1), ('Usher', 1), ('Britney', 1), ('FML', 1), ('Babes', 1), ('brolly', 1), ('English', 1), ('Franxx', 1), ('Romantic', 1), ('Paris', 1), ('å£79', 1), ('08704439680Ts', 1), ('build', 1), ('angels', 1), ('snowball', 1), ('fights', 1), ('literally', 2), ('recorded', 1), ('Jerry', 2), ('Irritates', 2), ('Vry', 2), ('Fails', 2), ('Express', 2), ('brah', 1), ('jobs', 2), ('timin', 1), ('//www.wtlp.co.uk/text', 1), ('Jokin', 1), ('sip', 1), ('films', 3), ('vijaykanth', 1), ('captain', 1), ('lovly', 1), ('success', 1), ('Pansy', 1), ('jungle', 1), ('blackberry', 3), ('buyer', 1), ('yeovil', 1), ('motor', 1), ('max', 1), ('occupied', 1), ('value', 1), ('brisk', 1), ('walks', 1), ('lasting', 1), ('sections', 1), ('clearer', 1), ('breathing', 1), ('neck', 2), ('bothering', 1), ('printed', 1), ('sculpture', 1), ('09061743810', 1), ('damn', 1), ('hunting', 1), ('Ditto', 1), ('ANYTHING', 1), ('Peace', 1), ('09066368470', 1), ('url', 1), ('+449071512431', 1), ('å£1250', 1), ('09071512433', 1), ('050703', 1), ('CsBCM4235WC1N3XX', 1), ('callcost', 1), ('mobilesvary', 1), ('msn', 1), ('hook', 3), ('Predicte', 1), ('Natalie', 1), ('20/F', 1), ('YES-165', 1), ('NO-165', 1), ('www.SMS.ac/u/natalie2k9', 1), ('Yalru', 1), ('lyfu', 2), ('astne', 1), ('innu', 1), ('mundhe', 1), ('lyf', 2), ('ali', 2), ('halla', 1), ('bilo', 1), ('edhae', 1), ('ovr', 1), ('vargu', 1), ('meow', 2), ('IT.', 1), ('Watch', 2), ('easter', 1), ('4.30', 1), ('number.pls', 1), ('id.convey', 1), ('achan', 1), ('amma.Rakhesh.Qatar', 1), ('kindly', 1), ('documents', 1), ('submitted', 1), ('STAPATI', 1), ('Yesterday', 1), ('maturity', 1), ('EVENING', 1), ('-call', 1), ('09066649731from', 1), ('scenery', 1), ('Lem', 1), ('Chikku', 1), ('\\\\Petey', 1), ('whereare', 1), ('friendsare', 1), ('theKingshead', 1), ('canlove', 1), ('Nic\\\\', 1), ('08002986030', 1), ('Hack', 1), ('backdoor', 1), ('fraction', 1), ('NEO69', 1), ('09050280520', 1), ('subscribe', 1), ('DPS', 1), ('Bcm', 1), ('8027', 1), ('wc1n3xx', 1), ('necessarily', 1), ('headin', 1), ('Hhahhaahahah', 1), ('rofl', 1), ('nig', 1), ('leonardo', 1), ('cozy', 1), ('night.nobody', 1), ('blogging', 1), ('magicalsongs.blogspot.com', 1), ('wenever', 1), ('notified', 1), ('marketing', 1), ('84122', 1), ('08450542832', 1), ('smsing', 1), ('lakhs', 1), ('selflessness', 1), ('08708800282', 1), ('Com', 1), ('arrived', 1), ('okmail', 1), ('printing', 1), ('handing', 1), ('approx', 1), ('Per', 1), ('07090298926', 1), ('Ref:9307622', 1), ('å£125', 1), ('Freeentry', 1), ('xt', 1), ('www.ldew.com1win150ppmx3age16', 1), ('Wun', 1), ('Staff', 1), ('placement', 1), ('Amrita', 1), ('Hurt', 1), ('Tease', 1), ('grave', 1), ('730', 1), ('lag', 2), ('dentists', 1), ('08718726970', 1), ('sry', 1), ('siva', 1), ('tats', 1), ('dang', 1), ('score', 1), ('motivating', 1), ('sharing', 1), ('andros', 2), ('steal', 1), ('sliding', 1), ('thus', 1), ('Si', 1), ('si', 1), ('soon.xxx', 1), ('Beauty', 1), ('pimples', 1), ('outsider', 1), ('dorm', 2), ('humans', 1), ('beer', 1), ('windows', 2), ('logoff', 1), ('only.don', 1), ('Squishy', 1), ('Mwahs', 1), ('coveragd', 1), ('vasai', 1), ('swollen', 1), ('glands', 1), ('ammo', 1), ('ak', 1), ('reache', 1), ('k.i', 1), ('wi', 1), ('nz', 1), ('Ron', 1), ('ding', 1), ('tai', 1), ('feng', 1), ('reservations', 1), ('nordstrom', 1), ('figuring', 1), ('press', 2), ('conference', 1), ('everyones', 1), ('babysitting', 1), ('steak', 1), ('ben', 2), ('senor', 1), ('cutie', 1), ('hills', 1), ('balloon', 1), ('tops', 1), ('passport', 1), ('sales/pee', 1), ('sth', 1), ('specs', 1), ('PX3748', 1), ('Ola', 1), ('ve', 1), ('bids', 1), ('shipping', 3), ('Invest', 1), ('Wud', 1), ('reliant', 1), ('\\\\What', 2), ('Got\\\\', 2), ('gooD', 1), ('performance', 1), ('calculated', 1), ('month.not', 1), ('\\\\Keep', 1), ('Refused', 1), ('Secured', 1), ('Unsecured', 1), ('195', 1), ('6669', 1), ('cme', 2), ('hos', 1), ('2morow', 1), ('89105', 1), ('Extra', 1), ('08700621170150p', 2), ('humanities', 1), ('heåÕs', 1), ('MR', 1), ('Thinks', 1), ('2GETHA', 1), ('kalainar', 1), ('office.thenampet', 1), ('cThen', 1), ('conclusion', 1), ('pg', 3), ('references', 1), ('Mostly', 1), ('sports', 3), ('footbl', 1), ('crckt', 1), ('constant', 2), ('Exactly', 1), ('jide', 1), ('visiting', 1), ('Okies', 1), ('skip', 2), ('blah', 3), ('lovin', 1), ('Bits', 1), ('pieces', 1), ('on-edge', 1), ('seing', 1), ('funky', 1), ('...............', 1), ('asssssholeeee', 1), ('................', 1), ('shock', 1), ('reaction', 1), ('Wa', 1), ('openin', 1), ('formal', 1), ('puttin', 1), ('80086', 2), ('www.txttowin.co.uk', 2), ('collecting', 2), ('configure', 1), ('dodgey', 1), ('Expecting', 1), ('recovery', 1), ('Mathews', 1), ('tait', 1), ('edwards', 1), ('anderson', 1), ('arnt', 1), ('xxxxxxxxxxxxxX', 1), ('prices', 1), ('inner', 1), ('tigress', 1), ('Rock', 1), ('chik', 1), ('filthy', 1), ('FILTH', 1), ('69669', 1), ('Saristar', 1), ('E14', 1), ('9YT', 1), ('08701752560', 1), ('450p', 1), ('Stop2', 1), ('Superb', 1), ('Thought-', 1), ('grateful', 1), ('happier', 1), ('today.\\\\', 1), ('Ta-Daaaaa', 1), ('miiiiiiissssssssss', 1), (\"'Wnevr\", 1), ('fal', 1), ('vth', 2), ('fals', 1), ('Yen', 1), ('madodu', 1), ('nav', 1), ('pretsorginta', 1), ('nammanna', 1), ('pretsovru', 1), ('alwa', 1), ('eveB-', 1), ('cudnt', 1), ('call.drove', 1), ('ctla', 1), ('home.left', 1), ('ente', 1), ('ishtamayoo', 1), ('bakrid', 1), ('mobs', 1), ('2u', 2), ('BREATHE1', 1), ('CRAZYIN', 1), ('SLEEPINGWITH', 1), ('FINEST', 1), ('YMCA', 1), ('getzed.co.uk', 1), ('POBox365O4W45WQ', 1), ('docs', 2), ('appointments', 1), ('shoving', 1), ('necesity', 1), ('witout', 1), ('colleg', 1), ('wth', 1), ('functions', 1), ('events', 1), ('espe', 1), ('cared', 2), ('irritated', 1), ('4wrd', 1), ('dear-loving', 1), ('wthout', 1), ('Takecare', 1), ('7pm', 1), ('......', 1), ('Singles', 1), ('GENDER', 2), ('wither', 1), ('E.G.23F', 1), ('G.', 1), ('e.g.23G', 1), ('youdoing', 1), ('Sar', 1), ('Shiny', 1), ('warming', 1), ('btwn', 1), ('gaps', 2), ('Sppok', 1), ('Hello.How', 1), ('lamp', 1), ('Boy', 2), ('propsd', 1), ('gv', 1), ('lv', 1), ('lttrs', 1), ('threw', 1), ('thm', 2), ('Again', 1), ('aproach', 1), ('dt', 1), ('truck', 1), ('speeding', 1), ('Wn', 1), ('saved', 3), (\"'hw\", 1), ('\\\\Boost', 1), ('energy\\\\', 2), ('shouted', 1), ('Thy', 1), ('lived', 1), ('happily', 1), ('2gthr', 1), ('evrydy', 1), ('ni8.swt', 1), ('drms.take', 1), ('Brainless', 1), ('Doll', 1), ('vehicle', 1), ('sariyag', 1), ('madoke', 1), ('barolla', 1), ('Tick', 2), ('tick', 4), ('fundamentals', 1), ('\\\\Walk', 1), ('TEX', 1), ('MECAUSE', 1), ('WEREBORED', 1), ('OKDEN', 1), ('UIN', 1), ('SOUNDåÕS', 1), ('LIKEYOUR', 1), ('HAVIN', 1), ('GR8FUN', 1), ('UPDAT', 1), ('COUNTINLOTS', 1), ('XXXXX.\\\\', 1), ('08718738034', 1), ('dose', 1), ('tablet', 1), ('total', 1), ('quarter', 1), ('Noooooooo', 1), ('haven', 1), ('bao', 1), ('sugardad', 1), ('gee', 1), ('fan', 2), ('ambitious', 1), ('0871277810910p/min', 1), ('formatting', 1), ('Cashbin.co.uk', 1), ('www.cashbin.co.uk', 1), ('EVER', 2), ('Alaikkum.Pride', 1), ('Tea', 1), ('Shop.We', 1), ('Qatar.Rakhesh', 1), ('Indian.Pls', 1), ('Number.Respectful', 1), ('Regards', 1), ('Vikky', 1), ('Ujhhhhhhh', 1), ('sandiago', 1), ('parantella', 1), ('lane', 2), ('Wtf', 1), ('Poop', 1), ('Simpsons', 1), ('Movie', 1), ('2007', 1), ('band', 1), ('A-Green', 1), ('B-Blue', 1), ('C-Red', 1), ('relaxing', 1), ('7am', 1), ('5ish', 1), ('castor', 2), ('Dip', 1), ('str8', 1), ('Classic', 1), ('Polys', 1), ('Nokia/150p', 1), ('Poly/200p', 1), ('Greetings', 1), ('Consider', 1), ('excused', 1), ('62220Cncl', 1), ('STOPCS', 1), ('08717890890å£1.50', 1), ('MOST', 2), ('SEEN', 1), ('COMMON', 1), ('ROOM', 1), ('classmates', 1), ('Raining', 1), ('expecting', 2), ('hont', 1), ('\\\\AH', 1), ('POOR', 1), ('URFEELING', 1), ('BETTERSN', 1), ('PROBTHAT', 1), ('OVERDOSE', 1), ('CAREFUL', 1), ('LOTS', 1), ('LOVEJEN', 1), ('amk', 1), ('SEXYCHAT', 1), ('chatting', 1), ('signal', 1), ('neither', 1), ('unusual', 1), ('grandma', 1), ('parade', 1), ('miwa', 1), ('karaoke', 1), ('wanting', 2), ('allday', 1), ('piss', 1), ('0871-872-9755', 1), ('Abeg', 1), ('sponsors', 1), ('buttons', 1), ('judgemental', 1), ('fridays', 1), ('randomlly', 1), ('opening', 1), ('esaplanade', 1), ('everywhere', 1), ('dirt', 1), ('floor', 1), ('chores', 1), ('joy', 1), ('exist', 1), ('hail', 1), ('mist', 1), ('WITHOUT', 1), ('l', 1), ('Goodnoon', 1), ('0089', 1), ('digits', 1), ('09063442151', 1), ('i\\x89Ûªm', 1), ('isn\\x89Ûªt', 1), ('pure', 1), ('hearted', 1), ('his/her', 1), ('enemies', 1), ('SMILEY', 1), ('Uh', 1), ('THEN', 1), ('MISSY', 1), ('ccna', 1), ('arranging', 1), ('lightly', 1), ('checkboxes', 1), ('hardcore', 1), ('pocy', 1), ('Nothin', 1), ('hanger', 1), ('30th', 1), ('www.areyouunique.co.uk', 1), ('Gal', 1), ('gal-can', 1), ('boy-y', 1), ('gal-no', 1), ('heaven', 1), ('GN', 1), ('XCLUSIVE', 1), ('CLUBSAISAI', 1), ('28/5', 1), ('SOIREE', 1), ('SPECIALE', 1), ('ZOUK', 1), ('PARIS.FREE', 1), ('ROSES', 1), ('LADIES', 1), ('07946746291/07880867867', 1), ('scary', 1), ('Def', 1), ('crash', 1), ('e.g', 1), ('24M', 1), ('suppose', 1), ('process.networking', 1), ('Dr', 1), ('salesman', 1), ('amigos', 1), ('burn', 1), ('Small', 1), ('punj', 1), ('tiwary', 1), ('lock', 1), ('keypad', 1), ('canteen', 1), ('pisces', 1), ('aquarius', 1), ('Minimum', 1), ('3miles', 1), ('Filthy', 1), ('stories', 1), ('spiritual', 1), ('www.gamb.tv', 1), ('offense', 1), ('coincidence', 1), ('shouting', 1), ('Sort', 1), ('nachos', 1), ('eta', 1), ('cocksuckers', 1), ('ipads', 1), ('worthless', 1), ('garbage', 1), ('novelty', 1), ('toilet', 1), ('stolen', 1), ('cops', 1), ('envy', 1), ('TBS/PERSOLVO', 1), ('forå£38', 1), ('Kath', 1), ('Manchester', 1), ('flood', 1), ('Toledo', 1), ('fishrman', 1), ('dark', 2), ('sack', 1), ('stones', 2), ('strtd', 1), ('throwin', 1), ('Atlast', 1), ('1stone', 1), ('\\\\Dont', 1), ('\\\\NONE', 1), ('NOWHERE', 1), ('IKNO', 1), ('DOESDISCOUNT', 1), ('SHITINNIT\\\\', 1), ('cousin', 1), ('hairdressers', 1), ('beforehand', 1), ('GMW', 1), ('Ltd.', 1), ('connected', 1), ('pookie', 1), ('pie', 1), ('Ups', 1), ('3days', 1), ('usps', 1), ('bribe', 1), ('nipost', 1), ('function', 1), ('spontaneously', 1), ('GOODEVENING', 1), ('GAME', 1), ('Rayman', 1), ('Golf', 1), ('activ8', 1), ('Termsapply', 1), ('Dizzamn', 1), ('suitemates', 1), ('stash', 1), ('sitter', 1), ('kaitlyn', 1), ('\\\\Hurt', 1), ('LIKELY', 1), ('le', 1), ('.Please', 1), ('fiting', 1), ('load', 1), ('mj', 1), ('cashed', 1), ('announced', 1), ('blog', 1), ('2nights', 1), ('Uve', 1), ('Uks', 1), ('wildest', 1), ('bold2', 1), ('\\\\POWER', 1), ('FRNDSHIP\\\\', 1), ('LUTON', 1), ('0125698789', 1), ('AROUND', 1), ('tiime', 1), ('tears', 1), ('low', 2), ('BBD', 1), ('dvg', 1), ('vinobanagar', 1), ('becausethey', 1), ('09058098002', 1), ('PoBox1', 1), ('W14RG', 1), ('faded', 1), ('glory', 1), ('ralphs', 1), ('replacement', 1), ('murali', 1), ('finn', 1), ('dusk', 1), ('solve', 1), ('puzzles', 1), ('Randy', 1), ('antha', 1), ('corrct', 1), ('dane', 1), ('88800', 1), ('89034', 1), ('08718711108', 1), ('Props', 1), ('arithmetic', 1), ('percentages', 1), ('Science', 1), ('sunlight', 2), ('BCoz', 1), ('plate', 1), ('leftovers', 1), ('Carry', 1), ('hamster', 1), ('1pm', 1), ('CAT', 1), (\"'xam\", 1), ('5+3+2=', 1), ('9+2+4=', 1), ('8+6+3=', 1), ('7+2+5=', 1), ('1thing.i', 1), ('answr', 1), ('10/06/03', 1), ('09066368753', 1), ('97N7QP', 1), ('fills', 1), ('curious', 1), ('Match', 1), ('started.india', 1), ('Mandy', 1), ('Sullivan', 1), ('HOTMIX', 1), ('FM', 1), ('chosen', 1), ('å£5000.00', 1), ('Easter', 1), ('09041940223', 1), ('29/03/05', 1), ('transferred', 1), ('Took', 1), ('Centre', 1), ('replacing', 1), ('exact', 1), ('ovulate.when', 1), ('3wks', 1), ('fret', 1), ('\\x89Û_Thanks', 1), ('specialisation', 1), ('labor', 1), ('shakara', 1), ('beggar', 1), ('reassuring', 1), ('Id', 1), ('onluy', 1), ('matters', 1), ('offcampus', 1), ('087147123779am-7pm', 1), ('french', 1), ('fooled', 1), ('twins', 1), ('disappeared', 1), ('infront', 2), ('payments', 1), ('fedex', 1), ('Ee', 1), ('poortiyagi', 1), ('odalebeku', 1), ('Hanumanji', 1), ('1-Hanuman', 1), ('2-Bajarangabali', 1), ('3-Maruti', 1), ('4-Pavanaputra', 1), ('5-Sankatmochan', 1), ('6-Ramaduth', 1), ('7-Mahaveer', 1), ('ee', 1), ('janarige', 1), ('ivatte', 1), ('kalisidare', 1), ('olage', 1), ('ondu', 1), ('keluviri', 1), ('Maretare', 1), ('inde', 1), ('dodda', 1), ('problum', 1), ('nalli', 1), ('siguviri', 1), ('idu', 1), ('matra', 1), ('neglet', 1), ('Mon', 1), ('western', 1), ('chinese', 1), ('Sen', 1), ('finance', 1), ('Guai', 1), ('passes', 1), ('08704439680', 1), ('god.You', 1), ('immed', 1), ('Rajitha', 1), ('Ranju', 1), ('needy', 1), ('pouts', 3), ('stomps', 3), ('feet', 3), ('jamster', 1), ('videosound', 1), ('gold', 1), ('videosounds+2', 1), ('logos+musicnews', 1), ('jamster.co.uk', 1), ('16+only', 1), ('09701213186', 1), ('unmits', 1), ('mostly', 1), ('Miserable', 1), ('gut', 1), ('wrenching', 1), ('shirts', 1), ('nudist', 1), ('themed', 1), ('EH74RR', 1), ('\\\\POLYS\\\\', 1), ('0870737910216yrs', 1), ('å£1.50/wk', 1), ('BETTER', 1), ('CAUSE', 1), ('USED', 1), ('OTHERWISE', 1), ('Messages', 1), ('www.07781482378.com', 1), ('praps', 1), ('Helloooo', 1), ('\\\\Sweet\\\\', 1), ('morning\\\\', 1), ('welcomes\\\\', 1), ('You\\\\', 1), ('Enjoy\\\\', 1), ('Day\\\\', 1), ('joy\\\\', 1), ('MRNG\\\\', 1), ('accept', 1), ('begging', 1), ('jetton', 1), ('Fills', 1), ('calm', 1), ('reassurance', 1), ('U\\x89Ûªve', 1), ('Bin', 1), ('Awarded', 1), ('å£50', 1), ('Instant', 1), ('08715203028', 1), ('EVERY', 1), ('9th', 1), ('Wins', 1), ('Min', 1), ('å£50-å£500', 1), ('Sday', 1), ('joined.so', 1), ('deus', 1), ('officially', 1), ('philosophical', 1), ('hole', 1), ('nuerologist', 1), ('pain.it', 1), ('today.do', 1), ('ystrday.ice', 1), ('fans', 1), ('PLUS', 1), ('SPORT', 1), ('0870141701216+', 1), ('norm', 1), ('4txt/120p', 1), ('Pilates', 1), ('rumour', 1), ('teenager', 1), ('dessert', 1), ('suntec', 1), ('airtel', 1), ('lyricalladie', 1), ('21/F', 1), ('YES-910', 1), ('NO-910', 1), ('www.SMS.ac/u/hmmross', 1), ('Hype', 1), ('plaza', 1), ('studio', 1), ('bedrm-', 1), ('roomate', 1), ('graduated', 1), ('kickboxing', 1), ('Anyone', 1), ('satsgettin', 1), ('4.47per', 1), ('finishd', 1), ('sized', 1), ('taught', 1), ('Becaus', 1), ('verifying', 1), ('Prabu', 1), ('\\\\Response\\\\', 1), ('powerful', 1), ('weapon', 1), (\"'HEART\", 1), ('exposed', 1), ('Dvd', 1), ('copies', 1), ('weirdo', 1), ('\\\\SYMPTOMS\\\\', 1), ('1.U', 1), ('2.U', 1), ('beloved', 1), ('3.U', 1), ('escalator', 1), ('related', 1), ('Arul', 1), ('Host-based', 1), ('IDPS', 1), ('linux', 1), ('systems', 1), ('Bloomberg', 1), ('-Message', 1), ('+447797706009', 1), ('Apply', 1), ('//careers', 1), ('bloomberg.com', 1), ('09065394514', 1), ('Until', 1), ('545', 1), ('2years', 1), ('strain', 1), ('dime', 2), ('grab', 1), ('tagged', 1), ('å£5/month', 1), ('Triple', 1), ('Echo', 1), ('trash', 1), ('maps', 1), ('Ofcourse', 1), ('Yetunde', 1), ('moji', 1), ('forgive', 1), ('innocent', 1), ('08712103738', 1), ('affair', 1), ('PLEASSSSSSSEEEEEE', 1), ('TEL', 1), ('AVENT', 1), ('SPORTSx', 1), ('Saeed', 1), ('Fantasy', 1), ('Football', 1), ('Sky', 2), ('Gamestar', 1), ('Active', 1), ('å£250k', 1), ('Dream', 1), ('Team', 1), ('Scoring', 1), ('register', 1), ('SKY', 1), ('OPT', 1), ('88088', 1), ('blastin', 1), ('Tsunamis', 1), ('occur', 1), ('Rajnikant', 1), ('Ocean', 1), ('mega', 1), ('asda', 1), ('counts', 1), ('uncomfortable', 1), ('sabarish', 1), ('SERIOUSLY', 1), ('THOSE', 1), ('EXACT', 1), ('WORDS', 1), ('RIGHT', 1), ('wesley', 1), ('mag', 1), ('avo', 1), ('1225', 1), ('å£50award', 1), ('boggy', 1), ('biatch', 1), ('now.onion', 1), ('someplace', 1), ('heart-', 1), ('pears', 1), ('09061743386', 1), ('116', 1), ('somerset', 1), ('Gettin', 1), ('rdy', 1), ('loneliness', 1), ('.so', 1), ('money.i', 1), ('Says', 1), ('swiss', 2), ('directors', 1), ('lac', 1), ('crore\\\\', 1), ('deposited', 1), (\"'taxless\", 1), ('crore', 1), ('Forever', 1), ('suply', 1), ('projects', 1), ('/-', 1), ('IMF', 1), ('blocked', 1), ('politicians', 2), ('corrupt', 1), ('Itna', 1), ('karo', 1), ('ki', 1), ('pura', 1), ('padhe.g.m.\\\\', 1), ('DUMB', 1), ('dramatic', 1), ('Schools', 1), ('Apparently', 1), ('Cramps', 1), ('weåÕve', 1), ('2geva', 1), ('mint', 1), ('xxxx', 1), ('plumbers', 1), ('wrench', 1), ('wiskey', 1), ('Brandy', 1), ('Rum', 1), ('Gin', 1), ('Beer', 1), ('Vodka', 1), ('Scotch', 1), ('Shampain', 1), ('\\\\KUDI\\\\', 1), ('yarasu', 1), ('dhina', 1), ('vaazhthukkal', 1), ('Garbage', 1), ('jam', 1), ('hannaford', 1), ('wheat', 1), ('chex', 1), ('slippery', 1), ('staff.science.nus.edu.sg/~phyhcmk/teaching/pc1323', 1)])"
      ]
     },
     "execution_count": 168,
     "metadata": {},
     "output_type": "execute_result"
    }
   ],
   "source": [
    "TEXT.vocab.freqs.items()"
   ]
  },
  {
   "cell_type": "code",
   "execution_count": 154,
   "id": "c2a1c08c",
   "metadata": {},
   "outputs": [
    {
     "data": {
      "text/plain": [
       "[('.', 3862),\n",
       " ('to', 1750),\n",
       " ('I', 1574),\n",
       " (',', 1468),\n",
       " ('you', 1462),\n",
       " ('?', 1256),\n",
       " ('!', 1134),\n",
       " ('a', 1068),\n",
       " ('the', 946),\n",
       " ('...', 923)]"
      ]
     },
     "execution_count": 154,
     "metadata": {},
     "output_type": "execute_result"
    }
   ],
   "source": [
    "TEXT.vocab.freqs.most_common(10)\n",
    "# the no. is the unique ID of the word\n",
    "# compact presentaton of the one hot incoding\n"
   ]
  },
  {
   "cell_type": "code",
   "execution_count": 153,
   "id": "fd4e338c",
   "metadata": {},
   "outputs": [
    {
     "data": {
      "text/plain": [
       "['<unk>', '<pad>', '.', 'to', 'I', ',', 'you', '?', '!', 'a']"
      ]
     },
     "execution_count": 153,
     "metadata": {},
     "output_type": "execute_result"
    }
   ],
   "source": [
    "# show text by position\n",
    "TEXT.vocab.itos[:10] "
   ]
  },
  {
   "cell_type": "code",
   "execution_count": 160,
   "id": "6474c273",
   "metadata": {
    "scrolled": true
   },
   "outputs": [
    {
     "data": {
      "text/plain": [
       "3"
      ]
     },
     "execution_count": 160,
     "metadata": {},
     "output_type": "execute_result"
    }
   ],
   "source": [
    "# show position by text\n",
    "TEXT.vocab.stoi['to']"
   ]
  },
  {
   "cell_type": "markdown",
   "id": "b99e547c",
   "metadata": {},
   "source": [
    "Now, we will create iterators that will iterate over these in the training/evaluation loop, and they return a batch of examples (indexed and converted into tensors) at each iteration.\n",
    "#### We'll use a BucketIterator which is a special type of iterator that will return a batch of examples where each example is of a similar length, minimizing the amount of padding per example."
   ]
  },
  {
   "cell_type": "code",
   "execution_count": 180,
   "id": "ed3cca12",
   "metadata": {},
   "outputs": [],
   "source": [
    "batch_size = 64\n",
    "\n",
    "train_iterator, test_iterator = BucketIterator.splits((trn,tst),\n",
    "                                                     batch_size = batch_size,\n",
    "                                                     sort_key = lambda x: len(x.text),\n",
    "                                                     sort_within_batch = False)\n"
   ]
  },
  {
   "cell_type": "code",
   "execution_count": null,
   "id": "cd45d46e",
   "metadata": {},
   "outputs": [],
   "source": []
  },
  {
   "cell_type": "code",
   "execution_count": 170,
   "id": "1dee591e",
   "metadata": {},
   "outputs": [
    {
     "ename": "TypeError",
     "evalue": "'TabularDataset' object is not callable",
     "output_type": "error",
     "traceback": [
      "\u001b[1;31m---------------------------------------------------------------------------\u001b[0m",
      "\u001b[1;31mTypeError\u001b[0m                                 Traceback (most recent call last)",
      "\u001b[1;32m<ipython-input-170-ba77bb0ea762>\u001b[0m in \u001b[0;36m<module>\u001b[1;34m\u001b[0m\n\u001b[1;32m----> 1\u001b[1;33m \u001b[0mtrn\u001b[0m\u001b[1;33m(\u001b[0m\u001b[1;33m)\u001b[0m\u001b[1;33m\u001b[0m\u001b[1;33m\u001b[0m\u001b[0m\n\u001b[0m",
      "\u001b[1;31mTypeError\u001b[0m: 'TabularDataset' object is not callable"
     ]
    }
   ],
   "source": []
  },
  {
   "cell_type": "code",
   "execution_count": 173,
   "id": "cc325000",
   "metadata": {},
   "outputs": [
    {
     "data": {
      "text/plain": [
       "9"
      ]
     },
     "execution_count": 173,
     "metadata": {},
     "output_type": "execute_result"
    }
   ],
   "source": [
    "len(trn[5].text)"
   ]
  },
  {
   "cell_type": "code",
   "execution_count": 181,
   "id": "483dcd84",
   "metadata": {},
   "outputs": [],
   "source": [
    "import torch.nn as nn"
   ]
  },
  {
   "cell_type": "code",
   "execution_count": 182,
   "id": "d82747bd",
   "metadata": {},
   "outputs": [],
   "source": [
    "class RNN(nn.Module):\n",
    "    def __init__ (self, input_dim, embedding_dim, hidden_dim , output_dim):\n",
    "        super().__init__()\n",
    "        self.embedding = nn.Embedding(input_dim,embedding_dim) # encode into a dense format \n",
    "        self.rnn = nn.RNN(embedding_dim, hidden_dim) # the basic recurrent neural network> current WORD EMBEDDING + previous HIDDEN_STATE \n",
    "        self.fc = nn.Linear(hidden_dim,output_dim) # last FC layer that gives prediction\n",
    "    def forward(self, text):   # text : [sentence_lenght , batch_size]\n",
    "        embedded = self.embedding(text) # convert to dense vector > embedded: [sentence_lenght, batch_size, embedding_dim] \n",
    "        output, hidden = self.rnn(embedded) # output_shape: [sentence_lengh, batch_size, hidden_dim]- after concatenation. hidden_shape = [1, batch_ size , hidden_dim] > one hidden output for each sentence ] that will go to the linear stage \n",
    "        hidden_1D = hidden.squeeze(0) # when finish loopin the assert will be true\n",
    "        assert torch.equal(output[-1,:,:], hidden_1D)\n",
    "        return self.fc(hidden_1D)"
   ]
  },
  {
   "cell_type": "code",
   "execution_count": 184,
   "id": "cebc9845",
   "metadata": {},
   "outputs": [],
   "source": [
    "input_dim = len(TEXT.vocab) # no. feature input is as the size of the vocabulary\n",
    "embedding_dim = 100\n",
    "hidden_dim = 256\n",
    "output_dim = 1 # 0/1 - spam "
   ]
  },
  {
   "cell_type": "code",
   "execution_count": 185,
   "id": "c2311655",
   "metadata": {},
   "outputs": [],
   "source": [
    "model = RNN(input_dim, embedding_dim, hidden_dim, output_dim)"
   ]
  },
  {
   "cell_type": "code",
   "execution_count": 186,
   "id": "abab6491",
   "metadata": {},
   "outputs": [],
   "source": [
    "import torch.optim as optim\n",
    "optimizer = optim.Adam(model.parameters(), lr= 0.000006)"
   ]
  },
  {
   "cell_type": "markdown",
   "id": "6e855f12",
   "metadata": {},
   "source": [
    "#### we will use BCEWithLogitsLoss loss as our loss function - Creates a criterion that measures the Binary Cross Entropy between the target and the output\n",
    "This loss combines a Sigmoid layer and the BCELoss in one single class."
   ]
  },
  {
   "cell_type": "code",
   "execution_count": 188,
   "id": "faa4d1c1",
   "metadata": {},
   "outputs": [],
   "source": [
    "criterion = nn.BCEWithLogitsLoss()  # good for binary"
   ]
  },
  {
   "cell_type": "code",
   "execution_count": null,
   "id": "bc52a543",
   "metadata": {},
   "outputs": [],
   "source": []
  },
  {
   "cell_type": "code",
   "execution_count": 189,
   "id": "4ec7b892",
   "metadata": {},
   "outputs": [],
   "source": [
    "# helper function for training \n",
    "def train(model, iterator, optimizer, criterion):\n",
    "    \n",
    "    epoch_loss = 0\n",
    "    epoch_acc = 0\n",
    "     \n",
    "    model.train()\n",
    "    \n",
    "    for batch in iterator:\n",
    "        \n",
    "        optimizer.zero_grad()\n",
    "                \n",
    "        predictions = model(batch.text).squeeze(1)\n",
    "        \n",
    "        loss = criterion(predictions, batch.labels)\n",
    "        \n",
    "        rounded_preds = torch.round(torch.sigmoid(predictions)) # round to get 0 / 1\n",
    "        correct = (rounded_preds == batch.labels).float() \n",
    "        \n",
    "        acc = correct.sum() / len(correct)\n",
    "        \n",
    "        loss.backward()\n",
    "        \n",
    "        optimizer.step()\n",
    "        \n",
    "        epoch_loss += loss.item()\n",
    "        epoch_acc += acc.item()\n",
    "        \n",
    "    return epoch_loss / len(iterator), epoch_acc / len(iterator)"
   ]
  },
  {
   "cell_type": "code",
   "execution_count": 191,
   "id": "1e21e419",
   "metadata": {},
   "outputs": [
    {
     "name": "stdout",
     "output_type": "stream",
     "text": [
      "| Epoch: 01 | Train Loss: 0.404 | Train Acc: 86.03% \n",
      "| Epoch: 02 | Train Loss: 0.402 | Train Acc: 86.28% \n",
      "| Epoch: 03 | Train Loss: 0.401 | Train Acc: 86.39% \n",
      "| Epoch: 04 | Train Loss: 0.401 | Train Acc: 86.26% \n",
      "| Epoch: 05 | Train Loss: 0.400 | Train Acc: 86.37% \n",
      "| Epoch: 06 | Train Loss: 0.402 | Train Acc: 86.29% \n",
      "| Epoch: 07 | Train Loss: 0.400 | Train Acc: 86.46% \n"
     ]
    }
   ],
   "source": [
    "num_epochs = 7\n",
    "\n",
    "for epoch in range(num_epochs):\n",
    "\n",
    "    train_loss, train_acc = train(model, train_iterator, optimizer, criterion)\n",
    "    \n",
    "    print(f'| Epoch: {epoch+1:02} | Train Loss: {train_loss:.3f} | Train Acc: {train_acc*100:.2f}% ')"
   ]
  },
  {
   "cell_type": "markdown",
   "id": "37e14e06",
   "metadata": {},
   "source": [
    "## \n",
    "## Testing"
   ]
  },
  {
   "cell_type": "code",
   "execution_count": 194,
   "id": "d02b7223",
   "metadata": {},
   "outputs": [
    {
     "data": {
      "text/plain": [
       "RNN(\n",
       "  (embedding): Embedding(10002, 100)\n",
       "  (rnn): RNN(100, 256)\n",
       "  (fc): Linear(in_features=256, out_features=1, bias=True)\n",
       ")"
      ]
     },
     "execution_count": 194,
     "metadata": {},
     "output_type": "execute_result"
    }
   ],
   "source": [
    "model.eval()"
   ]
  },
  {
   "cell_type": "code",
   "execution_count": 222,
   "id": "42d0277f",
   "metadata": {},
   "outputs": [
    {
     "name": "stdout",
     "output_type": "stream",
     "text": [
      "correct.sum(): 58.0\n",
      "len(correct): 64\n",
      "accur: 0.90625\n",
      "correct.sum(): 62.0\n",
      "len(correct): 64\n",
      "accur: 0.96875\n",
      "correct.sum(): 47.0\n",
      "len(correct): 64\n",
      "accur: 0.734375\n",
      "correct.sum(): 51.0\n",
      "len(correct): 64\n",
      "accur: 0.796875\n",
      "correct.sum(): 53.0\n",
      "len(correct): 64\n",
      "accur: 0.828125\n",
      "correct.sum(): 58.0\n",
      "len(correct): 64\n",
      "accur: 0.90625\n",
      "correct.sum(): 59.0\n",
      "len(correct): 64\n",
      "accur: 0.921875\n",
      "correct.sum(): 62.0\n",
      "len(correct): 64\n",
      "accur: 0.96875\n",
      "correct.sum(): 57.0\n",
      "len(correct): 64\n",
      "accur: 0.890625\n",
      "correct.sum(): 58.0\n",
      "len(correct): 64\n",
      "accur: 0.90625\n",
      "correct.sum(): 54.0\n",
      "len(correct): 64\n",
      "accur: 0.84375\n",
      "correct.sum(): 52.0\n",
      "len(correct): 64\n",
      "accur: 0.8125\n",
      "correct.sum(): 46.0\n",
      "len(correct): 64\n",
      "accur: 0.71875\n",
      "correct.sum(): 33.0\n",
      "len(correct): 64\n",
      "accur: 0.515625\n",
      "correct.sum(): 37.0\n",
      "len(correct): 64\n",
      "accur: 0.578125\n",
      "correct.sum(): 37.0\n",
      "len(correct): 64\n",
      "accur: 0.578125\n",
      "correct.sum(): 52.0\n",
      "len(correct): 64\n",
      "accur: 0.8125\n",
      "correct.sum(): 27.0\n",
      "len(correct): 27\n",
      "accur: 1.0\n",
      "len(test_iterator): 18\n",
      "| Test Loss: 0.542 | Test Acc: 81.60% |\n"
     ]
    }
   ],
   "source": [
    "epoch_loss = 0\n",
    "epoch_acc = 0\n",
    "\n",
    "with torch.no_grad():\n",
    "    for b in test_iterator:\n",
    "        predict = model(b.text).squeeze(1)\n",
    "                \n",
    "        loss = criterion(predict,b.labels)\n",
    "#         print ('loss:')\n",
    "#         print(loss)\n",
    "        \n",
    "        rounded_preds = torch.round(torch.sigmoid(predict))\n",
    "#         print ('rounded_preds:')\n",
    "#         print(rounded_preds)\n",
    "        \n",
    "#         print(f'rounded_preds: {rounded_preds}')\n",
    "              \n",
    "        correct = (rounded_preds == b.labels).float()\n",
    "        print(f'correct.sum(): {correct.sum()}')\n",
    "        print(f'len(correct): {len(correct)}')\n",
    "        accur = (correct.sum()/ len(correct))\n",
    "        print(f'accur: {accur}')\n",
    "        \n",
    "        epoch_loss += loss.item()\n",
    "        epoch_acc += accur.item()\n",
    "        \n",
    "test_loss = epoch_loss / len(test_iterator)\n",
    "test_acc  = epoch_acc / len(test_iterator)\n",
    "\n",
    "print(f'len(test_iterator): {len(test_iterator)}') \n",
    "print(f'| Test Loss: {test_loss:.3f} | Test Acc: {test_acc*100:.2f}% |')"
   ]
  },
  {
   "cell_type": "markdown",
   "id": "544de6c9",
   "metadata": {},
   "source": [
    "## LSTM"
   ]
  },
  {
   "cell_type": "code",
   "execution_count": 230,
   "id": "b96a1357",
   "metadata": {},
   "outputs": [],
   "source": [
    "# change the network stracture !\n",
    "\n",
    "class RNN(nn.Module):\n",
    "    def __init__ (self, input_dim, embedding_dim, hidden_dim , output_dim):\n",
    "        super().__init__()\n",
    "        self.embedding = nn.Embedding(input_dim,embedding_dim) # encode into a dense format \n",
    "            # LSTM - change !\n",
    "        self.rnn = nn.LSTM(embedding_dim, hidden_dim) # the basic recurrent neural network> current WORD EMBEDDING + previous HIDDEN_STATE \n",
    "        self.fc = nn.Linear(hidden_dim,output_dim) # last FC layer that gives prediction\n",
    "    def forward(self, text):   # text : [sentence_lenght , batch_size]\n",
    "        embedded = self.embedding(text) # convert to dense vector > embedded: [sentence_lenght, batch_size, embedding_dim] \n",
    "            # implement DropOut \n",
    "        embedded_dropout = self.dropout(embedded,0.2)\n",
    "            # LSTM - change !  ['hidden' : 'hidden, _']  > in final output we get the last cell state of LSTM cell\n",
    "        output, hidden = self.rnn(embedded) # output_shape: [sentence_lengh, batch_size, hidden_dim]- after concatenation. hidden_shape = [1, batch_ size , hidden_dim] > one hidden output for each sentence ] that will go to the linear stage \n",
    "        hidden_1D = hidden.squeeze(0) # when finish loopin the assert will be true\n",
    "        assert torch.equal(output[-1,:,:], hidden_1D)\n",
    "        return self.fc(hidden_1D)"
   ]
  },
  {
   "cell_type": "code",
   "execution_count": 231,
   "id": "9fea2ba4",
   "metadata": {},
   "outputs": [
    {
     "name": "stdout",
     "output_type": "stream",
     "text": [
      "| Epoch: 01 | Train Loss: 0.399 | Train Acc: 86.47% \n",
      "| Epoch: 02 | Train Loss: 0.399 | Train Acc: 86.53% \n",
      "| Epoch: 03 | Train Loss: 0.402 | Train Acc: 86.42% \n",
      "| Epoch: 04 | Train Loss: 0.400 | Train Acc: 86.46% \n",
      "| Epoch: 05 | Train Loss: 0.398 | Train Acc: 86.52% \n",
      "| Epoch: 06 | Train Loss: 0.399 | Train Acc: 86.57% \n",
      "| Epoch: 07 | Train Loss: 0.400 | Train Acc: 86.51% \n"
     ]
    }
   ],
   "source": [
    "num_epochs = 7\n",
    "\n",
    "for epoch in range(num_epochs):\n",
    "\n",
    "    train_loss, train_acc = train(model, train_iterator, optimizer, criterion)\n",
    "    \n",
    "    print(f'| Epoch: {epoch+1:02} | Train Loss: {train_loss:.3f} | Train Acc: {train_acc*100:.2f}% ')\n"
   ]
  },
  {
   "cell_type": "code",
   "execution_count": 232,
   "id": "37bc7bf2",
   "metadata": {},
   "outputs": [
    {
     "data": {
      "text/plain": [
       "RNN(\n",
       "  (embedding): Embedding(10002, 100)\n",
       "  (rnn): RNN(100, 256)\n",
       "  (fc): Linear(in_features=256, out_features=1, bias=True)\n",
       ")"
      ]
     },
     "execution_count": 232,
     "metadata": {},
     "output_type": "execute_result"
    }
   ],
   "source": [
    "model.eval()"
   ]
  },
  {
   "cell_type": "code",
   "execution_count": 233,
   "id": "b93eb71f",
   "metadata": {},
   "outputs": [
    {
     "name": "stdout",
     "output_type": "stream",
     "text": [
      "len(test_iterator): 18\n",
      "| Test Loss: 0.518 | Test Acc: 84.46% |\n"
     ]
    }
   ],
   "source": [
    "epoch_loss = 0\n",
    "epoch_acc = 0\n",
    "\n",
    "with torch.no_grad():\n",
    "    for b in test_iterator:\n",
    "        predict = model(b.text).squeeze(1)\n",
    "                \n",
    "        loss = criterion(predict,b.labels)\n",
    "\n",
    "        \n",
    "        rounded_preds = torch.round(torch.sigmoid(predict))\n",
    "\n",
    "              \n",
    "        correct = (rounded_preds == b.labels).float()\n",
    "#         print(f'correct.sum(): {correct.sum()}')\n",
    "#         print(f'len(correct): {len(correct)}')\n",
    "        accur = (correct.sum()/ len(correct))\n",
    "#         print(f'accur: {accur}')\n",
    "        \n",
    "        epoch_loss += loss.item()\n",
    "        epoch_acc += accur.item()\n",
    "        \n",
    "test_loss = epoch_loss / len(test_iterator)\n",
    "test_acc  = epoch_acc / len(test_iterator)\n",
    "\n",
    "print(f'len(test_iterator): {len(test_iterator)}') \n",
    "print(f'| Test Loss: {test_loss:.3f} | Test Acc: {test_acc*100:.2f}% |')"
   ]
  },
  {
   "cell_type": "code",
   "execution_count": null,
   "id": "bf37e93f",
   "metadata": {},
   "outputs": [],
   "source": []
  },
  {
   "cell_type": "code",
   "execution_count": null,
   "id": "6c7150f5",
   "metadata": {},
   "outputs": [],
   "source": []
  }
 ],
 "metadata": {
  "kernelspec": {
   "display_name": "Python 3",
   "language": "python",
   "name": "python3"
  },
  "language_info": {
   "codemirror_mode": {
    "name": "ipython",
    "version": 3
   },
   "file_extension": ".py",
   "mimetype": "text/x-python",
   "name": "python",
   "nbconvert_exporter": "python",
   "pygments_lexer": "ipython3",
   "version": "3.8.8"
  },
  "varInspector": {
   "cols": {
    "lenName": 16,
    "lenType": 16,
    "lenVar": 40
   },
   "kernels_config": {
    "python": {
     "delete_cmd_postfix": "",
     "delete_cmd_prefix": "del ",
     "library": "var_list.py",
     "varRefreshCmd": "print(var_dic_list())"
    },
    "r": {
     "delete_cmd_postfix": ") ",
     "delete_cmd_prefix": "rm(",
     "library": "var_list.r",
     "varRefreshCmd": "cat(var_dic_list()) "
    }
   },
   "types_to_exclude": [
    "module",
    "function",
    "builtin_function_or_method",
    "instance",
    "_Feature"
   ],
   "window_display": false
  }
 },
 "nbformat": 4,
 "nbformat_minor": 5
}
