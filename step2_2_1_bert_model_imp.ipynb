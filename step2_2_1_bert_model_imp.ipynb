{
  "nbformat": 4,
  "nbformat_minor": 0,
  "metadata": {
    "kernelspec": {
      "language": "python",
      "display_name": "Python 3",
      "name": "python3"
    },
    "language_info": {
      "name": "python",
      "version": "3.7.10",
      "mimetype": "text/x-python",
      "codemirror_mode": {
        "name": "ipython",
        "version": 3
      },
      "pygments_lexer": "ipython3",
      "nbconvert_exporter": "python",
      "file_extension": ".py"
    },
    "colab": {
      "name": "step2-2.1-bert-model-imp.ipynb",
      "provenance": [],
      "collapsed_sections": [
        "Ihq7-TlcAz6n",
        "NDgDnVtMAz60",
        "fE-eg3ydAz64",
        "blJqF3B_Az65",
        "NeLvA-6_Az7E"
      ],
      "include_colab_link": true
    }
  },
  "cells": [
    {
      "cell_type": "markdown",
      "metadata": {
        "id": "view-in-github",
        "colab_type": "text"
      },
      "source": [
        "<a href=\"https://colab.research.google.com/github/eranraz1/DeepLearning/blob/main/step2_2_1_bert_model_imp.ipynb\" target=\"_parent\"><img src=\"https://colab.research.google.com/assets/colab-badge.svg\" alt=\"Open In Colab\"/></a>"
      ]
    },
    {
      "cell_type": "code",
      "metadata": {
        "_cell_guid": "b1076dfc-b9ad-4769-8c92-a6c4dae69d19",
        "_uuid": "8f2839f25d086af736a60e9eeb907d3b93b6e0e5",
        "execution": {
          "iopub.status.busy": "2021-10-07T21:20:41.846665Z",
          "iopub.execute_input": "2021-10-07T21:20:41.847170Z",
          "iopub.status.idle": "2021-10-07T21:20:41.858624Z",
          "shell.execute_reply.started": "2021-10-07T21:20:41.847110Z",
          "shell.execute_reply": "2021-10-07T21:20:41.857112Z"
        },
        "trusted": true,
        "id": "HTipMWAsAz43",
        "outputId": "b4a45188-5fd2-4c9f-9bfb-fd3a2c309388"
      },
      "source": [
        "# This Python 3 environment comes with many helpful analytics libraries installed\n",
        "# It is defined by the kaggle/python Docker image: https://github.com/kaggle/docker-python\n",
        "# For example, here's several helpful packages to load\n",
        "\n",
        "import numpy as np # linear algebra\n",
        "import pandas as pd # data processing, CSV file I/O (e.g. pd.read_csv)\n",
        "\n",
        "# Input data files are available in the read-only \"../input/\" directory\n",
        "# For example, running this (by clicking run or pressing Shift+Enter) will list all files under the input directory\n",
        "\n",
        "import os\n",
        "for dirname, _, filenames in os.walk('/kaggle/input'):\n",
        "    for filename in filenames:\n",
        "        print(os.path.join(dirname, filename))\n",
        "\n",
        "# You can write up to 20GB to the current directory (/kaggle/working/) that gets preserved as output when you create a version using \"Save & Run All\" \n",
        "# You can also write temporary files to /kaggle/temp/, but they won't be saved outside of the current session"
      ],
      "execution_count": null,
      "outputs": [
        {
          "name": "stdout",
          "text": "/kaggle/input/mcdonalds-clf-multilabel-dsproject/df_tagB.refine1.csv\n/kaggle/input/mcdonalds-clf-multilabel-dsproject/df_tag.csv\n/kaggle/input/mcdonalds-clf-multilabel-dsproject/df_tagB.csv\n/kaggle/input/mcdonalds-clf-multilabel-dsproject/df_tag_vertical.csv\n",
          "output_type": "stream"
        }
      ]
    },
    {
      "cell_type": "code",
      "metadata": {
        "execution": {
          "iopub.status.busy": "2021-10-07T21:20:42.091232Z",
          "iopub.execute_input": "2021-10-07T21:20:42.091895Z",
          "iopub.status.idle": "2021-10-07T21:20:42.097877Z",
          "shell.execute_reply.started": "2021-10-07T21:20:42.091860Z",
          "shell.execute_reply": "2021-10-07T21:20:42.096815Z"
        },
        "trusted": true,
        "id": "TBLfpKdJAz5N",
        "outputId": "9b03a6ee-f807-43e0-c320-6e70e2b6d52a"
      },
      "source": [
        "os.getcwd()"
      ],
      "execution_count": null,
      "outputs": [
        {
          "execution_count": 23,
          "output_type": "execute_result",
          "data": {
            "text/plain": "'/kaggle/working'"
          },
          "metadata": {}
        }
      ]
    },
    {
      "cell_type": "code",
      "metadata": {
        "execution": {
          "iopub.status.busy": "2021-10-07T21:20:42.553855Z",
          "iopub.execute_input": "2021-10-07T21:20:42.554225Z",
          "iopub.status.idle": "2021-10-07T21:20:42.559002Z",
          "shell.execute_reply.started": "2021-10-07T21:20:42.554180Z",
          "shell.execute_reply": "2021-10-07T21:20:42.558051Z"
        },
        "trusted": true,
        "id": "AfLupGgqAz5R"
      },
      "source": [
        "os.environ[\"TOKENIZERS_PARALLELISM\"] = \"false\""
      ],
      "execution_count": null,
      "outputs": []
    },
    {
      "cell_type": "code",
      "metadata": {
        "execution": {
          "iopub.status.busy": "2021-10-07T21:20:43.125301Z",
          "iopub.execute_input": "2021-10-07T21:20:43.126100Z",
          "iopub.status.idle": "2021-10-07T21:20:43.148424Z",
          "shell.execute_reply.started": "2021-10-07T21:20:43.126053Z",
          "shell.execute_reply": "2021-10-07T21:20:43.147361Z"
        },
        "trusted": true,
        "id": "ifmS_9ijAz5T"
      },
      "source": [
        "#data_raw = pd.read_csv('/kaggle/input/mcdonalds-clf-multilabel-dsproject/df_tagB.csv')\n",
        "\n",
        "#########            on refined version \n",
        "#data_raw = pd.read_csv('/kaggle/input/mcdonalds-clf-multilabel-dsproject/df_tagB.refine1.csv')\n",
        "data_raw = pd.read_csv('https://raw.githubusercontent.com/eranraz1/DeepLearning/main/testing/data/df_tagB.refine1.csv')"
      ],
      "execution_count": null,
      "outputs": []
    },
    {
      "cell_type": "code",
      "metadata": {
        "execution": {
          "iopub.status.busy": "2021-10-07T21:20:43.709230Z",
          "iopub.execute_input": "2021-10-07T21:20:43.709536Z",
          "iopub.status.idle": "2021-10-07T21:20:43.736653Z",
          "shell.execute_reply.started": "2021-10-07T21:20:43.709509Z",
          "shell.execute_reply": "2021-10-07T21:20:43.735766Z"
        },
        "trusted": true,
        "id": "5JnWInDtAz5V",
        "outputId": "3a9e392e-ba86-430a-e733-505ec4fcf886"
      },
      "source": [
        "print(\"Number of rows in data =\",data_raw.shape[0])\n",
        "print(\"Number of columns in data =\",data_raw.shape[1])\n",
        "print(\"\\n\")\n",
        "print(\"**Sample data:**\")\n",
        "data_raw.head()"
      ],
      "execution_count": null,
      "outputs": [
        {
          "name": "stdout",
          "text": "Number of rows in data = 1636\nNumber of columns in data = 10\n\n\n**Sample data:**\n",
          "output_type": "stream"
        },
        {
          "execution_count": 26,
          "output_type": "execute_result",
          "data": {
            "text/plain": "   Unnamed: 0                                        tag       city  \\\n0           0  ['SlowService', 'RudeService', 'BadFood']   New York   \n1           1                              ['ScaryMcDs']  Las Vegas   \n2           2                                     ['na']   New York   \n3           3                                     ['na']    Houston   \n4           4                                ['BadFood']   0Unknown   \n\n                                              review  Filthy  BadFood  \\\n0  mcdonalds on bowery has an \"oriental\" design. ...     0.0      1.0   \n1  this place is quite sub par, even for a mcdona...     0.0      0.0   \n2  i stopped by here in a hurry to get a quick bi...     0.0      0.0   \n3  there are good and bad fast food restaurants a...     0.0      0.0   \n4  i live very close, stop this morning at 5:50 a...     0.0      1.0   \n\n   ScaryMcDs  Cost  Service  Order_issue  \n0        0.0   0.0      1.0          0.0  \n1        1.0   0.0      0.0          0.0  \n2        0.0   0.0      0.0          0.0  \n3        0.0   0.0      0.0          0.0  \n4        0.0   0.0      0.0          0.0  ",
            "text/html": "<div>\n<style scoped>\n    .dataframe tbody tr th:only-of-type {\n        vertical-align: middle;\n    }\n\n    .dataframe tbody tr th {\n        vertical-align: top;\n    }\n\n    .dataframe thead th {\n        text-align: right;\n    }\n</style>\n<table border=\"1\" class=\"dataframe\">\n  <thead>\n    <tr style=\"text-align: right;\">\n      <th></th>\n      <th>Unnamed: 0</th>\n      <th>tag</th>\n      <th>city</th>\n      <th>review</th>\n      <th>Filthy</th>\n      <th>BadFood</th>\n      <th>ScaryMcDs</th>\n      <th>Cost</th>\n      <th>Service</th>\n      <th>Order_issue</th>\n    </tr>\n  </thead>\n  <tbody>\n    <tr>\n      <th>0</th>\n      <td>0</td>\n      <td>['SlowService', 'RudeService', 'BadFood']</td>\n      <td>New York</td>\n      <td>mcdonalds on bowery has an \"oriental\" design. ...</td>\n      <td>0.0</td>\n      <td>1.0</td>\n      <td>0.0</td>\n      <td>0.0</td>\n      <td>1.0</td>\n      <td>0.0</td>\n    </tr>\n    <tr>\n      <th>1</th>\n      <td>1</td>\n      <td>['ScaryMcDs']</td>\n      <td>Las Vegas</td>\n      <td>this place is quite sub par, even for a mcdona...</td>\n      <td>0.0</td>\n      <td>0.0</td>\n      <td>1.0</td>\n      <td>0.0</td>\n      <td>0.0</td>\n      <td>0.0</td>\n    </tr>\n    <tr>\n      <th>2</th>\n      <td>2</td>\n      <td>['na']</td>\n      <td>New York</td>\n      <td>i stopped by here in a hurry to get a quick bi...</td>\n      <td>0.0</td>\n      <td>0.0</td>\n      <td>0.0</td>\n      <td>0.0</td>\n      <td>0.0</td>\n      <td>0.0</td>\n    </tr>\n    <tr>\n      <th>3</th>\n      <td>3</td>\n      <td>['na']</td>\n      <td>Houston</td>\n      <td>there are good and bad fast food restaurants a...</td>\n      <td>0.0</td>\n      <td>0.0</td>\n      <td>0.0</td>\n      <td>0.0</td>\n      <td>0.0</td>\n      <td>0.0</td>\n    </tr>\n    <tr>\n      <th>4</th>\n      <td>4</td>\n      <td>['BadFood']</td>\n      <td>0Unknown</td>\n      <td>i live very close, stop this morning at 5:50 a...</td>\n      <td>0.0</td>\n      <td>1.0</td>\n      <td>0.0</td>\n      <td>0.0</td>\n      <td>0.0</td>\n      <td>0.0</td>\n    </tr>\n  </tbody>\n</table>\n</div>"
          },
          "metadata": {}
        }
      ]
    },
    {
      "cell_type": "code",
      "metadata": {
        "execution": {
          "iopub.status.busy": "2021-10-07T21:20:44.208005Z",
          "iopub.execute_input": "2021-10-07T21:20:44.208620Z",
          "iopub.status.idle": "2021-10-07T21:20:44.227855Z",
          "shell.execute_reply.started": "2021-10-07T21:20:44.208552Z",
          "shell.execute_reply": "2021-10-07T21:20:44.226721Z"
        },
        "trusted": true,
        "id": "KMCzNChxAz5X",
        "outputId": "51a9d785-b069-44b1-bb0b-61d21af091fe"
      },
      "source": [
        "## before refined\n",
        "#data_raw = data_raw.iloc[:, 4:-5]\n",
        "data_raw = data_raw.iloc[:, 3:]\n",
        "data_raw.shape\n",
        "data_raw.head()"
      ],
      "execution_count": null,
      "outputs": [
        {
          "execution_count": 27,
          "output_type": "execute_result",
          "data": {
            "text/plain": "                                              review  Filthy  BadFood  \\\n0  mcdonalds on bowery has an \"oriental\" design. ...     0.0      1.0   \n1  this place is quite sub par, even for a mcdona...     0.0      0.0   \n2  i stopped by here in a hurry to get a quick bi...     0.0      0.0   \n3  there are good and bad fast food restaurants a...     0.0      0.0   \n4  i live very close, stop this morning at 5:50 a...     0.0      1.0   \n\n   ScaryMcDs  Cost  Service  Order_issue  \n0        0.0   0.0      1.0          0.0  \n1        1.0   0.0      0.0          0.0  \n2        0.0   0.0      0.0          0.0  \n3        0.0   0.0      0.0          0.0  \n4        0.0   0.0      0.0          0.0  ",
            "text/html": "<div>\n<style scoped>\n    .dataframe tbody tr th:only-of-type {\n        vertical-align: middle;\n    }\n\n    .dataframe tbody tr th {\n        vertical-align: top;\n    }\n\n    .dataframe thead th {\n        text-align: right;\n    }\n</style>\n<table border=\"1\" class=\"dataframe\">\n  <thead>\n    <tr style=\"text-align: right;\">\n      <th></th>\n      <th>review</th>\n      <th>Filthy</th>\n      <th>BadFood</th>\n      <th>ScaryMcDs</th>\n      <th>Cost</th>\n      <th>Service</th>\n      <th>Order_issue</th>\n    </tr>\n  </thead>\n  <tbody>\n    <tr>\n      <th>0</th>\n      <td>mcdonalds on bowery has an \"oriental\" design. ...</td>\n      <td>0.0</td>\n      <td>1.0</td>\n      <td>0.0</td>\n      <td>0.0</td>\n      <td>1.0</td>\n      <td>0.0</td>\n    </tr>\n    <tr>\n      <th>1</th>\n      <td>this place is quite sub par, even for a mcdona...</td>\n      <td>0.0</td>\n      <td>0.0</td>\n      <td>1.0</td>\n      <td>0.0</td>\n      <td>0.0</td>\n      <td>0.0</td>\n    </tr>\n    <tr>\n      <th>2</th>\n      <td>i stopped by here in a hurry to get a quick bi...</td>\n      <td>0.0</td>\n      <td>0.0</td>\n      <td>0.0</td>\n      <td>0.0</td>\n      <td>0.0</td>\n      <td>0.0</td>\n    </tr>\n    <tr>\n      <th>3</th>\n      <td>there are good and bad fast food restaurants a...</td>\n      <td>0.0</td>\n      <td>0.0</td>\n      <td>0.0</td>\n      <td>0.0</td>\n      <td>0.0</td>\n      <td>0.0</td>\n    </tr>\n    <tr>\n      <th>4</th>\n      <td>i live very close, stop this morning at 5:50 a...</td>\n      <td>0.0</td>\n      <td>1.0</td>\n      <td>0.0</td>\n      <td>0.0</td>\n      <td>0.0</td>\n      <td>0.0</td>\n    </tr>\n  </tbody>\n</table>\n</div>"
          },
          "metadata": {}
        }
      ]
    },
    {
      "cell_type": "code",
      "metadata": {
        "execution": {
          "iopub.status.busy": "2021-10-07T21:20:45.399180Z",
          "iopub.execute_input": "2021-10-07T21:20:45.399497Z",
          "iopub.status.idle": "2021-10-07T21:20:45.404070Z",
          "shell.execute_reply.started": "2021-10-07T21:20:45.399469Z",
          "shell.execute_reply": "2021-10-07T21:20:45.402979Z"
        },
        "trusted": true,
        "id": "PSva4fp3Az5b"
      },
      "source": [
        "data = data_raw"
      ],
      "execution_count": null,
      "outputs": []
    },
    {
      "cell_type": "code",
      "metadata": {
        "execution": {
          "iopub.status.busy": "2021-10-07T21:20:47.098496Z",
          "iopub.execute_input": "2021-10-07T21:20:47.099543Z",
          "iopub.status.idle": "2021-10-07T21:20:47.111294Z",
          "shell.execute_reply.started": "2021-10-07T21:20:47.099498Z",
          "shell.execute_reply": "2021-10-07T21:20:47.110198Z"
        },
        "trusted": true,
        "id": "b42q29LSAz5e",
        "outputId": "5656f895-0e65-4176-df1c-87cfaaeacc56"
      },
      "source": [
        "data_raw.columns"
      ],
      "execution_count": null,
      "outputs": [
        {
          "execution_count": 29,
          "output_type": "execute_result",
          "data": {
            "text/plain": "Index(['review', 'Filthy', 'BadFood', 'ScaryMcDs', 'Cost', 'Service',\n       'Order_issue'],\n      dtype='object')"
          },
          "metadata": {}
        }
      ]
    },
    {
      "cell_type": "code",
      "metadata": {
        "execution": {
          "iopub.status.busy": "2021-10-07T21:20:48.328486Z",
          "iopub.execute_input": "2021-10-07T21:20:48.329302Z",
          "iopub.status.idle": "2021-10-07T21:20:48.359291Z",
          "shell.execute_reply.started": "2021-10-07T21:20:48.329267Z",
          "shell.execute_reply": "2021-10-07T21:20:48.358301Z"
        },
        "trusted": true,
        "id": "B71rFvvMAz5j",
        "outputId": "775140ac-5eae-41de-a49e-de34764844dc"
      },
      "source": [
        "data[data.Cost == 1].iloc[5,0]"
      ],
      "execution_count": null,
      "outputs": [
        {
          "execution_count": 30,
          "output_type": "execute_result",
          "data": {
            "text/plain": "'i feel like my father right now. ξ\"i am not mad... i am just disappointed.\" ξi can not believe i paid for an iced carmel mocha. it was gross and tasted like super sweet burned coffee. it was not served with the typical cone lid and whipped cream and fancy looking swirl of chocolate and carmel on top either. i even double checked when i received it and the clerk assured me in her best english accent that it was in-fact an \"iced mocha.\" ξwrong. i have been ordering these for awhile and this was not up to par. i believe they charged me the higher price and just gave me an iced coffee. i guess i should expect this from mcdonald is. especially when their staff is still trying to master the english language. i can not expect them to understand me and successfully complete my order. can i?! ξkeep looking for another morning caffeine kick or pony up an extra couple of bucks for starbucks across the street.'"
          },
          "metadata": {}
        }
      ]
    },
    {
      "cell_type": "code",
      "metadata": {
        "execution": {
          "iopub.status.busy": "2021-10-07T21:20:59.066209Z",
          "iopub.execute_input": "2021-10-07T21:20:59.066482Z",
          "iopub.status.idle": "2021-10-07T21:20:59.072029Z",
          "shell.execute_reply.started": "2021-10-07T21:20:59.066455Z",
          "shell.execute_reply": "2021-10-07T21:20:59.070725Z"
        },
        "trusted": true,
        "id": "bjZZlpGcAz5n"
      },
      "source": [
        "# import nltk\n",
        "# from nltk.corpus import stopwords\n",
        "# from nltk.stem.snowball import SnowballStemmer\n",
        "# import re\n",
        "# import sys\n",
        "# import warnings\n",
        "\n",
        "# if not sys.warnoptions:\n",
        "#     warnings.simplefilter(\"ignore\")\n",
        "# def cleanHtml(sentence):\n",
        "#     cleanr = re.compile('<.*?>')\n",
        "#     cleantext = re.sub(cleanr, ' ', str(sentence))\n",
        "#     return cleantext\n",
        "# def cleanPunc(sentence): #function to clean the word of any punctuation or special characters\n",
        "#     cleaned = re.sub(r'[?|!|\\'|\"|#]',r'',sentence)\n",
        "#     cleaned = re.sub(r'[.|,|)|(|\\|/]',r' ',cleaned)\n",
        "#     cleaned = cleaned.strip()\n",
        "#     cleaned = cleaned.replace(\"\\n\",\" \")\n",
        "#     return cleaned\n",
        "# def keepAlpha(sentence):\n",
        "#     alpha_sent = \"\"\n",
        "#     for word in sentence.split():\n",
        "#         alpha_word = re.sub('[^a-z A-Z]+', ' ', word)\n",
        "#         alpha_sent += alpha_word\n",
        "#         alpha_sent += \" \"\n",
        "#     alpha_sent = alpha_sent.strip()\n",
        "#     return alpha_sent\n",
        "# data['review'] = data['review'].str.lower()\n",
        "# data['review'] = data['review'].apply(cleanHtml)\n",
        "# data['review'] = data['review'].apply(cleanPunc)\n",
        "# data['review'] = data['review'].apply(keepAlpha)"
      ],
      "execution_count": null,
      "outputs": []
    },
    {
      "cell_type": "code",
      "metadata": {
        "execution": {
          "iopub.status.busy": "2021-10-07T21:21:02.551029Z",
          "iopub.execute_input": "2021-10-07T21:21:02.551326Z",
          "iopub.status.idle": "2021-10-07T21:21:02.556220Z",
          "shell.execute_reply.started": "2021-10-07T21:21:02.551297Z",
          "shell.execute_reply": "2021-10-07T21:21:02.555129Z"
        },
        "trusted": true,
        "id": "R326ItU2Az5q"
      },
      "source": [
        "# stemmer = SnowballStemmer(\"english\")\n",
        "# def stemming(sentence):\n",
        "#     stemSentence = \"\"\n",
        "#     for word in sentence.split():\n",
        "#         stem = stemmer.stem(word)\n",
        "#         stemSentence += stem\n",
        "#         stemSentence += \" \"\n",
        "#     stemSentence = stemSentence.strip()\n",
        "#     return stemSentence\n",
        "# data['review'] = data['review'].apply(stemming)"
      ],
      "execution_count": null,
      "outputs": []
    },
    {
      "cell_type": "code",
      "metadata": {
        "execution": {
          "iopub.status.busy": "2021-10-07T21:21:06.967524Z",
          "iopub.execute_input": "2021-10-07T21:21:06.967935Z",
          "iopub.status.idle": "2021-10-07T21:21:06.978014Z",
          "shell.execute_reply.started": "2021-10-07T21:21:06.967888Z",
          "shell.execute_reply": "2021-10-07T21:21:06.976947Z"
        },
        "trusted": true,
        "id": "C-aoX04_Az5s"
      },
      "source": [
        "# data.head(5)"
      ],
      "execution_count": null,
      "outputs": []
    },
    {
      "cell_type": "code",
      "metadata": {
        "execution": {
          "iopub.status.busy": "2021-10-07T21:21:07.192704Z",
          "iopub.execute_input": "2021-10-07T21:21:07.192996Z",
          "iopub.status.idle": "2021-10-07T21:21:07.201550Z",
          "shell.execute_reply.started": "2021-10-07T21:21:07.192962Z",
          "shell.execute_reply": "2021-10-07T21:21:07.200723Z"
        },
        "trusted": true,
        "id": "Sv28L8maAz5t",
        "outputId": "81df3211-5a7e-4379-bbd1-b7ddb7f4dc42"
      },
      "source": [
        "\n",
        "data.review[1]"
      ],
      "execution_count": null,
      "outputs": [
        {
          "execution_count": 34,
          "output_type": "execute_result",
          "data": {
            "text/plain": "'this place is quite sub par, even for a mcdonald is. ξthis place is really ghetto, and there is always a bunch of annoying kids loitering and taking up the available tables. ξi guess it is ok if you want to grab a soda on a hot day or a snack to munch on while walking around, but again, it is not very good... for your health or for taste. ξi say, exert some self-discipline, buy something worthwhile in walmart is grocery section, then go home and prepare something worth eating.'"
          },
          "metadata": {}
        }
      ]
    },
    {
      "cell_type": "code",
      "metadata": {
        "execution": {
          "iopub.status.busy": "2021-10-07T21:21:07.387925Z",
          "iopub.execute_input": "2021-10-07T21:21:07.388204Z",
          "iopub.status.idle": "2021-10-07T21:21:07.393019Z",
          "shell.execute_reply.started": "2021-10-07T21:21:07.388178Z",
          "shell.execute_reply": "2021-10-07T21:21:07.391599Z"
        },
        "trusted": true,
        "id": "VNHcKlv1Az5w"
      },
      "source": [
        "######################################################################"
      ],
      "execution_count": null,
      "outputs": []
    },
    {
      "cell_type": "code",
      "metadata": {
        "execution": {
          "iopub.status.busy": "2021-10-07T21:21:07.604587Z",
          "iopub.execute_input": "2021-10-07T21:21:07.605408Z",
          "iopub.status.idle": "2021-10-07T21:21:07.609606Z",
          "shell.execute_reply.started": "2021-10-07T21:21:07.605376Z",
          "shell.execute_reply": "2021-10-07T21:21:07.608525Z"
        },
        "trusted": true,
        "id": "rTRG34pGAz5y"
      },
      "source": [
        "#! conda install -c conda-forge pytorch-lightning"
      ],
      "execution_count": null,
      "outputs": []
    },
    {
      "cell_type": "code",
      "metadata": {
        "execution": {
          "iopub.status.busy": "2021-10-07T21:21:07.814952Z",
          "iopub.execute_input": "2021-10-07T21:21:07.815590Z",
          "iopub.status.idle": "2021-10-07T21:21:20.598896Z",
          "shell.execute_reply.started": "2021-10-07T21:21:07.815561Z",
          "shell.execute_reply": "2021-10-07T21:21:20.597922Z"
        },
        "trusted": true,
        "id": "UVoi7xhaAz5z",
        "outputId": "fd4f94b3-3541-486d-b883-708cb134efe2"
      },
      "source": [
        "from tqdm.auto import tqdm\n",
        "import torch\n",
        "import torch.nn as nn\n",
        "from torch.utils.data import Dataset, DataLoader\n",
        "from transformers import BertTokenizerFast as BertTokenizer, BertModel, AdamW, get_linear_schedule_with_warmup\n",
        "import pytorch_lightning as pl\n",
        "from pytorch_lightning.metrics.functional import accuracy, f1, auroc\n",
        "from pytorch_lightning.callbacks import ModelCheckpoint, EarlyStopping\n",
        "from pytorch_lightning.loggers import TensorBoardLogger\n",
        "from sklearn.model_selection import train_test_split\n",
        "from sklearn.metrics import classification_report, multilabel_confusion_matrix\n",
        "import seaborn as sns\n",
        "from pylab import rcParams\n",
        "import matplotlib.pyplot as plt\n",
        "from matplotlib import rc\n",
        "%matplotlib inline\n",
        "%config InlineBackend.figure_format='retina'\n",
        "RANDOM_SEED = 123\n",
        "sns.set(style='whitegrid', palette='muted', font_scale=1.2)\n",
        "HAPPY_COLORS_PALETTE = [\"#01BEFE\", \"#FFDD00\", \"#FF7D00\", \"#FF006D\", \"#ADFF02\", \"#8F00FF\"]\n",
        "sns.set_palette(sns.color_palette(HAPPY_COLORS_PALETTE))\n",
        "rcParams['figure.figsize'] = 12, 8\n",
        "pl.seed_everything(RANDOM_SEED)"
      ],
      "execution_count": null,
      "outputs": [
        {
          "name": "stderr",
          "text": "2021-10-07 21:21:13.226030: I tensorflow/stream_executor/platform/default/dso_loader.cc:49] Successfully opened dynamic library libcudart.so.11.0\n",
          "output_type": "stream"
        },
        {
          "execution_count": 37,
          "output_type": "execute_result",
          "data": {
            "text/plain": "123"
          },
          "metadata": {}
        }
      ]
    },
    {
      "cell_type": "code",
      "metadata": {
        "execution": {
          "iopub.status.busy": "2021-10-07T21:21:20.601577Z",
          "iopub.execute_input": "2021-10-07T21:21:20.601910Z",
          "iopub.status.idle": "2021-10-07T21:21:20.610154Z",
          "shell.execute_reply.started": "2021-10-07T21:21:20.601867Z",
          "shell.execute_reply": "2021-10-07T21:21:20.608698Z"
        },
        "trusted": true,
        "id": "56DjS2NPAz53",
        "outputId": "888f52e9-b60b-420d-87aa-83f96acbfab4"
      },
      "source": [
        "data.shape"
      ],
      "execution_count": null,
      "outputs": [
        {
          "execution_count": 38,
          "output_type": "execute_result",
          "data": {
            "text/plain": "(1636, 7)"
          },
          "metadata": {}
        }
      ]
    },
    {
      "cell_type": "code",
      "metadata": {
        "execution": {
          "iopub.status.busy": "2021-10-07T21:21:20.612082Z",
          "iopub.execute_input": "2021-10-07T21:21:20.612515Z",
          "iopub.status.idle": "2021-10-07T21:21:20.620721Z",
          "shell.execute_reply.started": "2021-10-07T21:21:20.612436Z",
          "shell.execute_reply": "2021-10-07T21:21:20.619453Z"
        },
        "trusted": true,
        "id": "dvfI9qevAz56"
      },
      "source": [
        "df = data.copy()"
      ],
      "execution_count": null,
      "outputs": []
    },
    {
      "cell_type": "code",
      "metadata": {
        "execution": {
          "iopub.status.busy": "2021-10-07T21:21:44.213334Z",
          "iopub.execute_input": "2021-10-07T21:21:44.213605Z",
          "iopub.status.idle": "2021-10-07T21:21:44.245566Z",
          "shell.execute_reply.started": "2021-10-07T21:21:44.213576Z",
          "shell.execute_reply": "2021-10-07T21:21:44.243940Z"
        },
        "trusted": true,
        "id": "m7VciUN1Az57",
        "outputId": "55353274-140f-4307-ae06-587ae535107e"
      },
      "source": [
        "df[df.iloc[:,2:8].sum(axis=1) > 0]"
      ],
      "execution_count": null,
      "outputs": [
        {
          "execution_count": 41,
          "output_type": "execute_result",
          "data": {
            "text/plain": "                                                 review  Filthy  BadFood  \\\n0     mcdonalds on bowery has an \"oriental\" design. ...     0.0      1.0   \n1     this place is quite sub par, even for a mcdona...     0.0      0.0   \n4     i live very close, stop this morning at 5:50 a...     0.0      1.0   \n5     like all other mcdonald is, the service qualit...     0.0      0.0   \n8     with the amount of time it takes to get your o...     1.0      0.0   \n...                                                 ...     ...      ...   \n1628  the drive thru line is always so long. they on...     0.0      0.0   \n1629  hands down worst mcdonald is we have ever visi...     0.0      1.0   \n1630  this mcdonald is has pretty poor customer serv...     0.0      0.0   \n1631  this has to be the worst mcdonalds within a 3,...     0.0      0.0   \n1634  i wanted to grab breakfast one morning before ...     0.0      0.0   \n\n      ScaryMcDs  Cost  Service  Order_issue  \n0           0.0   0.0      1.0          0.0  \n1           1.0   0.0      0.0          0.0  \n4           0.0   0.0      0.0          0.0  \n5           0.0   0.0      1.0          0.0  \n8           0.0   0.0      1.0          0.0  \n...         ...   ...      ...          ...  \n1628        0.0   0.0      1.0          0.0  \n1629        0.0   0.0      1.0          0.0  \n1630        0.0   0.0      1.0          0.0  \n1631        0.0   0.0      1.0          0.0  \n1634        1.0   0.0      1.0          0.0  \n\n[1298 rows x 7 columns]",
            "text/html": "<div>\n<style scoped>\n    .dataframe tbody tr th:only-of-type {\n        vertical-align: middle;\n    }\n\n    .dataframe tbody tr th {\n        vertical-align: top;\n    }\n\n    .dataframe thead th {\n        text-align: right;\n    }\n</style>\n<table border=\"1\" class=\"dataframe\">\n  <thead>\n    <tr style=\"text-align: right;\">\n      <th></th>\n      <th>review</th>\n      <th>Filthy</th>\n      <th>BadFood</th>\n      <th>ScaryMcDs</th>\n      <th>Cost</th>\n      <th>Service</th>\n      <th>Order_issue</th>\n    </tr>\n  </thead>\n  <tbody>\n    <tr>\n      <th>0</th>\n      <td>mcdonalds on bowery has an \"oriental\" design. ...</td>\n      <td>0.0</td>\n      <td>1.0</td>\n      <td>0.0</td>\n      <td>0.0</td>\n      <td>1.0</td>\n      <td>0.0</td>\n    </tr>\n    <tr>\n      <th>1</th>\n      <td>this place is quite sub par, even for a mcdona...</td>\n      <td>0.0</td>\n      <td>0.0</td>\n      <td>1.0</td>\n      <td>0.0</td>\n      <td>0.0</td>\n      <td>0.0</td>\n    </tr>\n    <tr>\n      <th>4</th>\n      <td>i live very close, stop this morning at 5:50 a...</td>\n      <td>0.0</td>\n      <td>1.0</td>\n      <td>0.0</td>\n      <td>0.0</td>\n      <td>0.0</td>\n      <td>0.0</td>\n    </tr>\n    <tr>\n      <th>5</th>\n      <td>like all other mcdonald is, the service qualit...</td>\n      <td>0.0</td>\n      <td>0.0</td>\n      <td>0.0</td>\n      <td>0.0</td>\n      <td>1.0</td>\n      <td>0.0</td>\n    </tr>\n    <tr>\n      <th>8</th>\n      <td>with the amount of time it takes to get your o...</td>\n      <td>1.0</td>\n      <td>0.0</td>\n      <td>0.0</td>\n      <td>0.0</td>\n      <td>1.0</td>\n      <td>0.0</td>\n    </tr>\n    <tr>\n      <th>...</th>\n      <td>...</td>\n      <td>...</td>\n      <td>...</td>\n      <td>...</td>\n      <td>...</td>\n      <td>...</td>\n      <td>...</td>\n    </tr>\n    <tr>\n      <th>1628</th>\n      <td>the drive thru line is always so long. they on...</td>\n      <td>0.0</td>\n      <td>0.0</td>\n      <td>0.0</td>\n      <td>0.0</td>\n      <td>1.0</td>\n      <td>0.0</td>\n    </tr>\n    <tr>\n      <th>1629</th>\n      <td>hands down worst mcdonald is we have ever visi...</td>\n      <td>0.0</td>\n      <td>1.0</td>\n      <td>0.0</td>\n      <td>0.0</td>\n      <td>1.0</td>\n      <td>0.0</td>\n    </tr>\n    <tr>\n      <th>1630</th>\n      <td>this mcdonald is has pretty poor customer serv...</td>\n      <td>0.0</td>\n      <td>0.0</td>\n      <td>0.0</td>\n      <td>0.0</td>\n      <td>1.0</td>\n      <td>0.0</td>\n    </tr>\n    <tr>\n      <th>1631</th>\n      <td>this has to be the worst mcdonalds within a 3,...</td>\n      <td>0.0</td>\n      <td>0.0</td>\n      <td>0.0</td>\n      <td>0.0</td>\n      <td>1.0</td>\n      <td>0.0</td>\n    </tr>\n    <tr>\n      <th>1634</th>\n      <td>i wanted to grab breakfast one morning before ...</td>\n      <td>0.0</td>\n      <td>0.0</td>\n      <td>1.0</td>\n      <td>0.0</td>\n      <td>1.0</td>\n      <td>0.0</td>\n    </tr>\n  </tbody>\n</table>\n<p>1298 rows × 7 columns</p>\n</div>"
          },
          "metadata": {}
        }
      ]
    },
    {
      "cell_type": "code",
      "metadata": {
        "execution": {
          "iopub.status.busy": "2021-10-07T21:21:45.012893Z",
          "iopub.execute_input": "2021-10-07T21:21:45.013208Z",
          "iopub.status.idle": "2021-10-07T21:21:45.021013Z",
          "shell.execute_reply.started": "2021-10-07T21:21:45.013178Z",
          "shell.execute_reply": "2021-10-07T21:21:45.019858Z"
        },
        "trusted": true,
        "id": "eKgRMHICAz59",
        "outputId": "c95118b5-8844-4089-d937-682cda19e4c3"
      },
      "source": [
        "df.shape"
      ],
      "execution_count": null,
      "outputs": [
        {
          "execution_count": 42,
          "output_type": "execute_result",
          "data": {
            "text/plain": "(1636, 7)"
          },
          "metadata": {}
        }
      ]
    },
    {
      "cell_type": "code",
      "metadata": {
        "execution": {
          "iopub.status.busy": "2021-10-07T21:21:47.476018Z",
          "iopub.execute_input": "2021-10-07T21:21:47.478674Z",
          "iopub.status.idle": "2021-10-07T21:21:47.800397Z",
          "shell.execute_reply.started": "2021-10-07T21:21:47.478641Z",
          "shell.execute_reply": "2021-10-07T21:21:47.799343Z"
        },
        "trusted": true,
        "id": "YUma4L3WAz5_",
        "outputId": "1316696a-cbc5-4e04-9713-45625ac734ce"
      },
      "source": [
        "import gc\n",
        "del data,data_raw \n",
        "gc.collect()"
      ],
      "execution_count": null,
      "outputs": [
        {
          "execution_count": 43,
          "output_type": "execute_result",
          "data": {
            "text/plain": "137"
          },
          "metadata": {}
        }
      ]
    },
    {
      "cell_type": "code",
      "metadata": {
        "execution": {
          "iopub.status.busy": "2021-10-07T21:21:48.839066Z",
          "iopub.execute_input": "2021-10-07T21:21:48.839447Z",
          "iopub.status.idle": "2021-10-07T21:21:48.852810Z",
          "shell.execute_reply.started": "2021-10-07T21:21:48.839403Z",
          "shell.execute_reply": "2021-10-07T21:21:48.851594Z"
        },
        "trusted": true,
        "id": "Qq36BWD3Az6A",
        "outputId": "bc6dc188-ec47-4a34-a996-7282fc5ce6f4"
      },
      "source": [
        "train_df, test_df = train_test_split(df, test_size=0.2,shuffle = True)\n",
        "train_df.shape, test_df.shape"
      ],
      "execution_count": null,
      "outputs": [
        {
          "execution_count": 44,
          "output_type": "execute_result",
          "data": {
            "text/plain": "((1308, 7), (328, 7))"
          },
          "metadata": {}
        }
      ]
    },
    {
      "cell_type": "code",
      "metadata": {
        "execution": {
          "iopub.status.busy": "2021-10-07T21:21:50.662283Z",
          "iopub.execute_input": "2021-10-07T21:21:50.662642Z",
          "iopub.status.idle": "2021-10-07T21:21:51.675849Z",
          "shell.execute_reply.started": "2021-10-07T21:21:50.662602Z",
          "shell.execute_reply": "2021-10-07T21:21:51.674946Z"
        },
        "trusted": true,
        "id": "LS0UrpKAAz6B",
        "outputId": "5083cc2d-69e5-4a00-a089-0c5c240ba691"
      },
      "source": [
        "LABEL_COLUMNS = df.columns.tolist()[1:]\n",
        "df[LABEL_COLUMNS].sum().sort_values().plot(kind=\"barh\");"
      ],
      "execution_count": null,
      "outputs": [
        {
          "output_type": "display_data",
          "data": {
            "text/plain": "<Figure size 864x576 with 1 Axes>",
            "image/png": "[encoded data removed]"
          },
          "metadata": {
            "image/png": {
              "width": 771,
              "height": 471
            }
          }
        }
      ]
    },
    {
      "cell_type": "code",
      "metadata": {
        "execution": {
          "iopub.status.busy": "2021-10-07T21:21:53.397213Z",
          "iopub.execute_input": "2021-10-07T21:21:53.397968Z",
          "iopub.status.idle": "2021-10-07T21:21:53.823687Z",
          "shell.execute_reply.started": "2021-10-07T21:21:53.397883Z",
          "shell.execute_reply": "2021-10-07T21:21:53.822775Z"
        },
        "trusted": true,
        "id": "EXETYJExAz6D",
        "outputId": "55fbc420-5d37-4a7c-eb7c-5a1bd050e73b"
      },
      "source": [
        "train_negative = train_df[train_df[LABEL_COLUMNS].sum(axis=1) > 0]\n",
        "train_positive = train_df[train_df[LABEL_COLUMNS].sum(axis=1) == 0]\n",
        "pd.DataFrame(dict(\n",
        "  negative=[len(train_negative)],\n",
        "  natural=[len(train_positive)]\n",
        ")).plot(kind='barh');"
      ],
      "execution_count": null,
      "outputs": [
        {
          "output_type": "display_data",
          "data": {
            "text/plain": "<Figure size 864x576 with 1 Axes>",
            "image/png": "[encoded data removed]"
          },
          "metadata": {
            "image/png": {
              "width": 701,
              "height": 471
            }
          }
        }
      ]
    },
    {
      "cell_type": "code",
      "metadata": {
        "execution": {
          "iopub.status.busy": "2021-10-07T21:21:55.480629Z",
          "iopub.execute_input": "2021-10-07T21:21:55.481420Z",
          "iopub.status.idle": "2021-10-07T21:21:55.507401Z",
          "shell.execute_reply.started": "2021-10-07T21:21:55.481388Z",
          "shell.execute_reply": "2021-10-07T21:21:55.506338Z"
        },
        "trusted": true,
        "id": "EWZv9rkKAz6E",
        "outputId": "69655498-f6b7-45bd-8de9-266e697fc8ad"
      },
      "source": [
        "train_df"
      ],
      "execution_count": null,
      "outputs": [
        {
          "execution_count": 47,
          "output_type": "execute_result",
          "data": {
            "text/plain": "                                                 review  Filthy  BadFood  \\\n838   i have had my order messed up at this location...     0.0      0.0   \n535   just went thru the drive-thru paid for a mediu...     0.0      0.0   \n116   dishonest employees. they are currently runnin...     0.0      0.0   \n1292  sooo i was in a rush and stopped here before w...     0.0      1.0   \n1198  this is the only mcdonald is near my work and ...     0.0      0.0   \n...                                                 ...     ...      ...   \n1122  great people,great atmosphere , and the cashie...     0.0      0.0   \n1346  went through the drive-thru today at about 11:...     0.0      1.0   \n1406  this place is terrible. we went through the dr...     0.0      0.0   \n1389           it is mcdonald is what else can you say.     0.0      0.0   \n1534  i came here to order a big mac, (had not had o...     0.0      1.0   \n\n      ScaryMcDs  Cost  Service  Order_issue  \n838         0.0   0.0      0.0          1.0  \n535         0.0   0.0      0.0          1.0  \n116         0.0   0.0      1.0          1.0  \n1292        0.0   0.0      0.0          0.0  \n1198        0.0   1.0      0.0          1.0  \n...         ...   ...      ...          ...  \n1122        0.0   0.0      0.0          0.0  \n1346        0.0   0.0      0.0          1.0  \n1406        0.0   0.0      0.0          1.0  \n1389        0.0   0.0      0.0          0.0  \n1534        0.0   0.0      0.0          0.0  \n\n[1308 rows x 7 columns]",
            "text/html": "<div>\n<style scoped>\n    .dataframe tbody tr th:only-of-type {\n        vertical-align: middle;\n    }\n\n    .dataframe tbody tr th {\n        vertical-align: top;\n    }\n\n    .dataframe thead th {\n        text-align: right;\n    }\n</style>\n<table border=\"1\" class=\"dataframe\">\n  <thead>\n    <tr style=\"text-align: right;\">\n      <th></th>\n      <th>review</th>\n      <th>Filthy</th>\n      <th>BadFood</th>\n      <th>ScaryMcDs</th>\n      <th>Cost</th>\n      <th>Service</th>\n      <th>Order_issue</th>\n    </tr>\n  </thead>\n  <tbody>\n    <tr>\n      <th>838</th>\n      <td>i have had my order messed up at this location...</td>\n      <td>0.0</td>\n      <td>0.0</td>\n      <td>0.0</td>\n      <td>0.0</td>\n      <td>0.0</td>\n      <td>1.0</td>\n    </tr>\n    <tr>\n      <th>535</th>\n      <td>just went thru the drive-thru paid for a mediu...</td>\n      <td>0.0</td>\n      <td>0.0</td>\n      <td>0.0</td>\n      <td>0.0</td>\n      <td>0.0</td>\n      <td>1.0</td>\n    </tr>\n    <tr>\n      <th>116</th>\n      <td>dishonest employees. they are currently runnin...</td>\n      <td>0.0</td>\n      <td>0.0</td>\n      <td>0.0</td>\n      <td>0.0</td>\n      <td>1.0</td>\n      <td>1.0</td>\n    </tr>\n    <tr>\n      <th>1292</th>\n      <td>sooo i was in a rush and stopped here before w...</td>\n      <td>0.0</td>\n      <td>1.0</td>\n      <td>0.0</td>\n      <td>0.0</td>\n      <td>0.0</td>\n      <td>0.0</td>\n    </tr>\n    <tr>\n      <th>1198</th>\n      <td>this is the only mcdonald is near my work and ...</td>\n      <td>0.0</td>\n      <td>0.0</td>\n      <td>0.0</td>\n      <td>1.0</td>\n      <td>0.0</td>\n      <td>1.0</td>\n    </tr>\n    <tr>\n      <th>...</th>\n      <td>...</td>\n      <td>...</td>\n      <td>...</td>\n      <td>...</td>\n      <td>...</td>\n      <td>...</td>\n      <td>...</td>\n    </tr>\n    <tr>\n      <th>1122</th>\n      <td>great people,great atmosphere , and the cashie...</td>\n      <td>0.0</td>\n      <td>0.0</td>\n      <td>0.0</td>\n      <td>0.0</td>\n      <td>0.0</td>\n      <td>0.0</td>\n    </tr>\n    <tr>\n      <th>1346</th>\n      <td>went through the drive-thru today at about 11:...</td>\n      <td>0.0</td>\n      <td>1.0</td>\n      <td>0.0</td>\n      <td>0.0</td>\n      <td>0.0</td>\n      <td>1.0</td>\n    </tr>\n    <tr>\n      <th>1406</th>\n      <td>this place is terrible. we went through the dr...</td>\n      <td>0.0</td>\n      <td>0.0</td>\n      <td>0.0</td>\n      <td>0.0</td>\n      <td>0.0</td>\n      <td>1.0</td>\n    </tr>\n    <tr>\n      <th>1389</th>\n      <td>it is mcdonald is what else can you say.</td>\n      <td>0.0</td>\n      <td>0.0</td>\n      <td>0.0</td>\n      <td>0.0</td>\n      <td>0.0</td>\n      <td>0.0</td>\n    </tr>\n    <tr>\n      <th>1534</th>\n      <td>i came here to order a big mac, (had not had o...</td>\n      <td>0.0</td>\n      <td>1.0</td>\n      <td>0.0</td>\n      <td>0.0</td>\n      <td>0.0</td>\n      <td>0.0</td>\n    </tr>\n  </tbody>\n</table>\n<p>1308 rows × 7 columns</p>\n</div>"
          },
          "metadata": {}
        }
      ]
    },
    {
      "cell_type": "code",
      "metadata": {
        "execution": {
          "iopub.status.busy": "2021-10-07T21:21:58.100637Z",
          "iopub.execute_input": "2021-10-07T21:21:58.101516Z",
          "iopub.status.idle": "2021-10-07T21:22:02.461494Z",
          "shell.execute_reply.started": "2021-10-07T21:21:58.101469Z",
          "shell.execute_reply": "2021-10-07T21:22:02.460489Z"
        },
        "trusted": true,
        "colab": {
          "referenced_widgets": [
            "9d30edf162ee477b95ba3063f5a8028c",
            "534522b19cb2410eafc898c0c5a984bf",
            "011415ba22a6458fa851ad8fc6655c94"
          ]
        },
        "id": "3pThe6shAz6F",
        "outputId": "74c00cb0-7598-4906-b674-3687921f1eb4"
      },
      "source": [
        "BERT_MODEL_NAME = 'bert-base-cased'\n",
        "tokenizer = BertTokenizer.from_pretrained(BERT_MODEL_NAME)"
      ],
      "execution_count": null,
      "outputs": [
        {
          "output_type": "display_data",
          "data": {
            "text/plain": "Downloading:   0%|          | 0.00/213k [00:00<?, ?B/s]",
            "application/vnd.jupyter.widget-view+json": {
              "version_major": 2,
              "version_minor": 0,
              "model_id": "9d30edf162ee477b95ba3063f5a8028c"
            }
          },
          "metadata": {}
        },
        {
          "output_type": "display_data",
          "data": {
            "text/plain": "Downloading:   0%|          | 0.00/436k [00:00<?, ?B/s]",
            "application/vnd.jupyter.widget-view+json": {
              "version_major": 2,
              "version_minor": 0,
              "model_id": "534522b19cb2410eafc898c0c5a984bf"
            }
          },
          "metadata": {}
        },
        {
          "output_type": "display_data",
          "data": {
            "text/plain": "Downloading:   0%|          | 0.00/29.0 [00:00<?, ?B/s]",
            "application/vnd.jupyter.widget-view+json": {
              "version_major": 2,
              "version_minor": 0,
              "model_id": "011415ba22a6458fa851ad8fc6655c94"
            }
          },
          "metadata": {}
        }
      ]
    },
    {
      "cell_type": "code",
      "metadata": {
        "execution": {
          "iopub.status.busy": "2021-10-07T21:22:26.598741Z",
          "iopub.execute_input": "2021-10-07T21:22:26.599058Z",
          "iopub.status.idle": "2021-10-07T21:22:26.608479Z",
          "shell.execute_reply.started": "2021-10-07T21:22:26.599029Z",
          "shell.execute_reply": "2021-10-07T21:22:26.606960Z"
        },
        "trusted": true,
        "id": "9XqA0ruuAz6G",
        "outputId": "0823f5c1-ed5f-4241-f442-f79edc149d1a"
      },
      "source": [
        "sample_row = df.iloc[7]\n",
        "sample_comment = sample_row.review\n",
        "sample_labels = sample_row[LABEL_COLUMNS]\n",
        "print(sample_comment)\n",
        "print()\n",
        "print(sample_labels.to_dict())"
      ],
      "execution_count": null,
      "outputs": [
        {
          "name": "stdout",
          "text": "i do not understand why people have qualms with this mcdonald is. it is a mcdonald is. it is standard. their business model is standardization. ξit is \"a-ok\" just a plain old mcdonald is. never had anything crazy occur to me here!\n\n{'Filthy': 0.0, 'BadFood': 0.0, 'ScaryMcDs': 0.0, 'Cost': 0.0, 'Service': 0.0, 'Order_issue': 0.0}\n",
          "output_type": "stream"
        }
      ]
    },
    {
      "cell_type": "code",
      "metadata": {
        "execution": {
          "iopub.status.busy": "2021-10-07T21:22:34.438744Z",
          "iopub.execute_input": "2021-10-07T21:22:34.439387Z",
          "iopub.status.idle": "2021-10-07T21:22:34.462534Z",
          "shell.execute_reply.started": "2021-10-07T21:22:34.439356Z",
          "shell.execute_reply": "2021-10-07T21:22:34.460149Z"
        },
        "trusted": true,
        "id": "yzxazFAwAz6H",
        "outputId": "c63506b9-f5e7-4225-c710-9e076d09a93e"
      },
      "source": [
        "encoding = tokenizer.encode_plus(\n",
        "  sample_comment,\n",
        "  add_special_tokens=True,\n",
        "  max_length=512,\n",
        "  return_token_type_ids=False,\n",
        "  padding=\"max_length\",\n",
        "  return_attention_mask=True,\n",
        "  return_tensors='pt',\n",
        ")\n",
        "encoding.keys()"
      ],
      "execution_count": null,
      "outputs": [
        {
          "execution_count": 50,
          "output_type": "execute_result",
          "data": {
            "text/plain": "dict_keys(['input_ids', 'attention_mask'])"
          },
          "metadata": {}
        }
      ]
    },
    {
      "cell_type": "code",
      "metadata": {
        "execution": {
          "iopub.status.busy": "2021-10-07T21:22:36.501413Z",
          "iopub.execute_input": "2021-10-07T21:22:36.501735Z",
          "iopub.status.idle": "2021-10-07T21:22:36.508394Z",
          "shell.execute_reply.started": "2021-10-07T21:22:36.501690Z",
          "shell.execute_reply": "2021-10-07T21:22:36.507210Z"
        },
        "trusted": true,
        "id": "VHGQMc5bAz6I",
        "outputId": "87e606dc-8e78-4f2a-d3dd-065d6794de94"
      },
      "source": [
        "encoding[\"input_ids\"].shape, encoding[\"attention_mask\"].shape"
      ],
      "execution_count": null,
      "outputs": [
        {
          "execution_count": 51,
          "output_type": "execute_result",
          "data": {
            "text/plain": "(torch.Size([1, 512]), torch.Size([1, 512]))"
          },
          "metadata": {}
        }
      ]
    },
    {
      "cell_type": "code",
      "metadata": {
        "execution": {
          "iopub.status.busy": "2021-10-07T21:22:37.395950Z",
          "iopub.execute_input": "2021-10-07T21:22:37.396544Z",
          "iopub.status.idle": "2021-10-07T21:22:37.428959Z",
          "shell.execute_reply.started": "2021-10-07T21:22:37.396484Z",
          "shell.execute_reply": "2021-10-07T21:22:37.427898Z"
        },
        "trusted": true,
        "id": "y8Y91rHSAz6J",
        "outputId": "a9532140-674b-4e2d-af3f-b027fa1dac8c"
      },
      "source": [
        "encoding[\"input_ids\"][0][0:250]"
      ],
      "execution_count": null,
      "outputs": [
        {
          "execution_count": 52,
          "output_type": "execute_result",
          "data": {
            "text/plain": "tensor([  101,   178,  1202,  1136,  2437,  1725,  1234,  1138,   186,  4746,\n         4206,  1114,  1142,   182,  1665,  3842, 18728,  1110,   119,  1122,\n         1110,   170,   182,  1665,  3842, 18728,  1110,   119,  1122,  1110,\n         2530,   119,  1147,  1671,  2235,  1110,  2530,  2734,   119,   431,\n         2875,  1110,   107,   170,   118, 21534,   107,  1198,   170,  6188,\n         1385,   182,  1665,  3842, 18728,  1110,   119,  1309,  1125,  1625,\n         4523,  4467,  1106,  1143,  1303,   106,   102,     0,     0,     0,\n            0,     0,     0,     0,     0,     0,     0,     0,     0,     0,\n            0,     0,     0,     0,     0,     0,     0,     0,     0,     0,\n            0,     0,     0,     0,     0,     0,     0,     0,     0,     0,\n            0,     0,     0,     0,     0,     0,     0,     0,     0,     0,\n            0,     0,     0,     0,     0,     0,     0,     0,     0,     0,\n            0,     0,     0,     0,     0,     0,     0,     0,     0,     0,\n            0,     0,     0,     0,     0,     0,     0,     0,     0,     0,\n            0,     0,     0,     0,     0,     0,     0,     0,     0,     0,\n            0,     0,     0,     0,     0,     0,     0,     0,     0,     0,\n            0,     0,     0,     0,     0,     0,     0,     0,     0,     0,\n            0,     0,     0,     0,     0,     0,     0,     0,     0,     0,\n            0,     0,     0,     0,     0,     0,     0,     0,     0,     0,\n            0,     0,     0,     0,     0,     0,     0,     0,     0,     0,\n            0,     0,     0,     0,     0,     0,     0,     0,     0,     0,\n            0,     0,     0,     0,     0,     0,     0,     0,     0,     0,\n            0,     0,     0,     0,     0,     0,     0,     0,     0,     0,\n            0,     0,     0,     0,     0,     0,     0,     0,     0,     0,\n            0,     0,     0,     0,     0,     0,     0,     0,     0,     0])"
          },
          "metadata": {}
        }
      ]
    },
    {
      "cell_type": "code",
      "metadata": {
        "execution": {
          "iopub.status.busy": "2021-10-07T21:22:43.396726Z",
          "iopub.execute_input": "2021-10-07T21:22:43.397808Z",
          "iopub.status.idle": "2021-10-07T21:22:43.409887Z",
          "shell.execute_reply.started": "2021-10-07T21:22:43.397756Z",
          "shell.execute_reply": "2021-10-07T21:22:43.408590Z"
        },
        "trusted": true,
        "id": "chu5mOOJAz6K",
        "outputId": "868cfc73-f216-40cd-b612-6a31de704edf"
      },
      "source": [
        "encoding[\"attention_mask\"][0][0:250]"
      ],
      "execution_count": null,
      "outputs": [
        {
          "execution_count": 53,
          "output_type": "execute_result",
          "data": {
            "text/plain": "tensor([1, 1, 1, 1, 1, 1, 1, 1, 1, 1, 1, 1, 1, 1, 1, 1, 1, 1, 1, 1, 1, 1, 1, 1,\n        1, 1, 1, 1, 1, 1, 1, 1, 1, 1, 1, 1, 1, 1, 1, 1, 1, 1, 1, 1, 1, 1, 1, 1,\n        1, 1, 1, 1, 1, 1, 1, 1, 1, 1, 1, 1, 1, 1, 1, 1, 1, 1, 1, 0, 0, 0, 0, 0,\n        0, 0, 0, 0, 0, 0, 0, 0, 0, 0, 0, 0, 0, 0, 0, 0, 0, 0, 0, 0, 0, 0, 0, 0,\n        0, 0, 0, 0, 0, 0, 0, 0, 0, 0, 0, 0, 0, 0, 0, 0, 0, 0, 0, 0, 0, 0, 0, 0,\n        0, 0, 0, 0, 0, 0, 0, 0, 0, 0, 0, 0, 0, 0, 0, 0, 0, 0, 0, 0, 0, 0, 0, 0,\n        0, 0, 0, 0, 0, 0, 0, 0, 0, 0, 0, 0, 0, 0, 0, 0, 0, 0, 0, 0, 0, 0, 0, 0,\n        0, 0, 0, 0, 0, 0, 0, 0, 0, 0, 0, 0, 0, 0, 0, 0, 0, 0, 0, 0, 0, 0, 0, 0,\n        0, 0, 0, 0, 0, 0, 0, 0, 0, 0, 0, 0, 0, 0, 0, 0, 0, 0, 0, 0, 0, 0, 0, 0,\n        0, 0, 0, 0, 0, 0, 0, 0, 0, 0, 0, 0, 0, 0, 0, 0, 0, 0, 0, 0, 0, 0, 0, 0,\n        0, 0, 0, 0, 0, 0, 0, 0, 0, 0])"
          },
          "metadata": {}
        }
      ]
    },
    {
      "cell_type": "code",
      "metadata": {
        "execution": {
          "iopub.status.busy": "2021-10-07T21:22:47.828788Z",
          "iopub.execute_input": "2021-10-07T21:22:47.829111Z",
          "iopub.status.idle": "2021-10-07T21:22:47.844076Z",
          "shell.execute_reply.started": "2021-10-07T21:22:47.829084Z",
          "shell.execute_reply": "2021-10-07T21:22:47.842790Z"
        },
        "trusted": true,
        "id": "V5B9KPDrAz6L",
        "outputId": "39f896d2-f303-42b6-9995-0e61175bb7c2"
      },
      "source": [
        "#inverse the tokenization and get back (kinda) the words from the token id\n",
        "\n",
        "print(tokenizer.convert_ids_to_tokens(encoding[\"input_ids\"].squeeze())[:250])"
      ],
      "execution_count": null,
      "outputs": [
        {
          "name": "stdout",
          "text": "['[CLS]', 'i', 'do', 'not', 'understand', 'why', 'people', 'have', 'q', '##ual', '##ms', 'with', 'this', 'm', '##c', '##don', '##ald', 'is', '.', 'it', 'is', 'a', 'm', '##c', '##don', '##ald', 'is', '.', 'it', 'is', 'standard', '.', 'their', 'business', 'model', 'is', 'standard', '##ization', '.', 'ξ', '##it', 'is', '\"', 'a', '-', 'ok', '\"', 'just', 'a', 'plain', 'old', 'm', '##c', '##don', '##ald', 'is', '.', 'never', 'had', 'anything', 'crazy', 'occur', 'to', 'me', 'here', '!', '[SEP]', '[PAD]', '[PAD]', '[PAD]', '[PAD]', '[PAD]', '[PAD]', '[PAD]', '[PAD]', '[PAD]', '[PAD]', '[PAD]', '[PAD]', '[PAD]', '[PAD]', '[PAD]', '[PAD]', '[PAD]', '[PAD]', '[PAD]', '[PAD]', '[PAD]', '[PAD]', '[PAD]', '[PAD]', '[PAD]', '[PAD]', '[PAD]', '[PAD]', '[PAD]', '[PAD]', '[PAD]', '[PAD]', '[PAD]', '[PAD]', '[PAD]', '[PAD]', '[PAD]', '[PAD]', '[PAD]', '[PAD]', '[PAD]', '[PAD]', '[PAD]', '[PAD]', '[PAD]', '[PAD]', '[PAD]', '[PAD]', '[PAD]', '[PAD]', '[PAD]', '[PAD]', '[PAD]', '[PAD]', '[PAD]', '[PAD]', '[PAD]', '[PAD]', '[PAD]', '[PAD]', '[PAD]', '[PAD]', '[PAD]', '[PAD]', '[PAD]', '[PAD]', '[PAD]', '[PAD]', '[PAD]', '[PAD]', '[PAD]', '[PAD]', '[PAD]', '[PAD]', '[PAD]', '[PAD]', '[PAD]', '[PAD]', '[PAD]', '[PAD]', '[PAD]', '[PAD]', '[PAD]', '[PAD]', '[PAD]', '[PAD]', '[PAD]', '[PAD]', '[PAD]', '[PAD]', '[PAD]', '[PAD]', '[PAD]', '[PAD]', '[PAD]', '[PAD]', '[PAD]', '[PAD]', '[PAD]', '[PAD]', '[PAD]', '[PAD]', '[PAD]', '[PAD]', '[PAD]', '[PAD]', '[PAD]', '[PAD]', '[PAD]', '[PAD]', '[PAD]', '[PAD]', '[PAD]', '[PAD]', '[PAD]', '[PAD]', '[PAD]', '[PAD]', '[PAD]', '[PAD]', '[PAD]', '[PAD]', '[PAD]', '[PAD]', '[PAD]', '[PAD]', '[PAD]', '[PAD]', '[PAD]', '[PAD]', '[PAD]', '[PAD]', '[PAD]', '[PAD]', '[PAD]', '[PAD]', '[PAD]', '[PAD]', '[PAD]', '[PAD]', '[PAD]', '[PAD]', '[PAD]', '[PAD]', '[PAD]', '[PAD]', '[PAD]', '[PAD]', '[PAD]', '[PAD]', '[PAD]', '[PAD]', '[PAD]', '[PAD]', '[PAD]', '[PAD]', '[PAD]', '[PAD]', '[PAD]', '[PAD]', '[PAD]', '[PAD]', '[PAD]', '[PAD]', '[PAD]', '[PAD]', '[PAD]', '[PAD]', '[PAD]', '[PAD]', '[PAD]', '[PAD]', '[PAD]', '[PAD]', '[PAD]', '[PAD]', '[PAD]', '[PAD]', '[PAD]', '[PAD]', '[PAD]', '[PAD]', '[PAD]']\n",
          "output_type": "stream"
        }
      ]
    },
    {
      "cell_type": "code",
      "metadata": {
        "id": "eyWUMmG3Az6M"
      },
      "source": [
        ""
      ],
      "execution_count": null,
      "outputs": []
    },
    {
      "cell_type": "code",
      "metadata": {
        "execution": {
          "iopub.status.busy": "2021-10-07T21:22:49.620684Z",
          "iopub.execute_input": "2021-10-07T21:22:49.621483Z",
          "iopub.status.idle": "2021-10-07T21:22:50.959970Z",
          "shell.execute_reply.started": "2021-10-07T21:22:49.621451Z",
          "shell.execute_reply": "2021-10-07T21:22:50.959071Z"
        },
        "trusted": true,
        "id": "I6veJpHjAz6N",
        "outputId": "94a3bc5c-389d-4ca2-e059-c9ef6bc4c6de"
      },
      "source": [
        "#  specify the maximum number of tokens when encoding (512 is the maximum we can do)\n",
        "\n",
        "token_counts = []\n",
        "for _, row in train_df.iterrows():\n",
        "  token_count = len(tokenizer.encode(\n",
        "    row[\"review\"],\n",
        "    max_length= 512,\n",
        "    truncation=True\n",
        "  ))\n",
        "  token_counts.append(token_count)\n",
        "    \n",
        "sns.histplot(token_counts)\n",
        "plt.xlim([0, 512]);"
      ],
      "execution_count": null,
      "outputs": [
        {
          "output_type": "display_data",
          "data": {
            "text/plain": "<Figure size 864x576 with 1 Axes>",
            "image/png": "[encoded data removed]"
          },
          "metadata": {
            "image/png": {
              "width": 736,
              "height": 471
            }
          }
        }
      ]
    },
    {
      "cell_type": "code",
      "metadata": {
        "execution": {
          "iopub.status.busy": "2021-10-07T21:22:50.961724Z",
          "iopub.execute_input": "2021-10-07T21:22:50.961972Z",
          "iopub.status.idle": "2021-10-07T21:22:51.268239Z",
          "shell.execute_reply.started": "2021-10-07T21:22:50.961945Z",
          "shell.execute_reply": "2021-10-07T21:22:51.267043Z"
        },
        "trusted": true,
        "id": "BjHBg776Az6O",
        "outputId": "1729bac3-078b-413f-fd5c-d96faccd74e9"
      },
      "source": [
        "del token_counts, encoding\n",
        "gc.collect()"
      ],
      "execution_count": null,
      "outputs": [
        {
          "execution_count": 56,
          "output_type": "execute_result",
          "data": {
            "text/plain": "11110"
          },
          "metadata": {}
        }
      ]
    },
    {
      "cell_type": "code",
      "metadata": {
        "execution": {
          "iopub.status.busy": "2021-10-07T21:22:52.838144Z",
          "iopub.execute_input": "2021-10-07T21:22:52.838929Z",
          "iopub.status.idle": "2021-10-07T21:22:52.846215Z",
          "shell.execute_reply.started": "2021-10-07T21:22:52.838888Z",
          "shell.execute_reply": "2021-10-07T21:22:52.845205Z"
        },
        "trusted": true,
        "id": "sopd3O4SAz6P"
      },
      "source": [
        "# I'll stick with 300 \n",
        "\n",
        "MAX_TOKEN_COUNT = 512 #512"
      ],
      "execution_count": null,
      "outputs": []
    },
    {
      "cell_type": "code",
      "metadata": {
        "execution": {
          "iopub.status.busy": "2021-10-02T09:56:40.130367Z",
          "iopub.execute_input": "2021-10-02T09:56:40.13105Z",
          "iopub.status.idle": "2021-10-02T09:56:40.138952Z",
          "shell.execute_reply.started": "2021-10-02T09:56:40.131013Z",
          "shell.execute_reply": "2021-10-02T09:56:40.138154Z"
        },
        "trusted": true,
        "id": "0WpeTYWnAz6Q"
      },
      "source": [
        "# We’ll wrap the tokenization process in a PyTorch Dataset, along with converting the labels to tensors:\n",
        "\n",
        "class ReviewsDataset(Dataset):\n",
        "  def __init__(self,data: pd.DataFrame,tokenizer: BertTokenizer,max_token_len: int = 128):\n",
        "    self.tokenizer = tokenizer\n",
        "    self.data = data\n",
        "    self.max_token_len = max_token_len\n",
        "  def __len__(self):\n",
        "    return len(self.data)\n",
        "  def __getitem__(self, index: int):\n",
        "    data_row = self.data.iloc[index]\n",
        "    review = data_row.review\n",
        "    labels = data_row[LABEL_COLUMNS]\n",
        "    encoding = self.tokenizer.encode_plus(\n",
        "      review,\n",
        "      add_special_tokens=True,\n",
        "      max_length=self.max_token_len,\n",
        "      return_token_type_ids=False,\n",
        "      padding=\"max_length\",\n",
        "      truncation=True,\n",
        "      return_attention_mask=True,\n",
        "      return_tensors='pt',\n",
        "    )\n",
        "    return dict(\n",
        "      review=review,\n",
        "      input_ids=encoding[\"input_ids\"].flatten(),\n",
        "      attention_mask=encoding[\"attention_mask\"].flatten(),\n",
        "      labels=torch.FloatTensor(labels)\n",
        "    )"
      ],
      "execution_count": null,
      "outputs": []
    },
    {
      "cell_type": "code",
      "metadata": {
        "execution": {
          "iopub.status.busy": "2021-10-02T09:57:26.165615Z",
          "iopub.execute_input": "2021-10-02T09:57:26.165878Z",
          "iopub.status.idle": "2021-10-02T09:57:26.180534Z",
          "shell.execute_reply.started": "2021-10-02T09:57:26.165851Z",
          "shell.execute_reply": "2021-10-02T09:57:26.179774Z"
        },
        "trusted": true,
        "id": "hKvNeijgAz6S"
      },
      "source": [
        "# Let’s have a look at a sample item from the dataset:\n",
        "train_dataset = ReviewsDataset(\n",
        "  train_df,\n",
        "  tokenizer,\n",
        "  max_token_len=MAX_TOKEN_COUNT\n",
        ")\n",
        "sample_item = train_dataset[0]\n",
        "sample_item.keys()\n"
      ],
      "execution_count": null,
      "outputs": []
    },
    {
      "cell_type": "code",
      "metadata": {
        "execution": {
          "iopub.status.busy": "2021-10-02T09:58:32.208294Z",
          "iopub.execute_input": "2021-10-02T09:58:32.209081Z",
          "iopub.status.idle": "2021-10-02T09:58:32.214203Z",
          "shell.execute_reply.started": "2021-10-02T09:58:32.20904Z",
          "shell.execute_reply": "2021-10-02T09:58:32.21357Z"
        },
        "trusted": true,
        "id": "w2RAxun0Az6T"
      },
      "source": [
        "sample_item[\"review\"]"
      ],
      "execution_count": null,
      "outputs": []
    },
    {
      "cell_type": "code",
      "metadata": {
        "execution": {
          "iopub.status.busy": "2021-10-02T09:59:00.118848Z",
          "iopub.execute_input": "2021-10-02T09:59:00.119438Z",
          "iopub.status.idle": "2021-10-02T09:59:00.128233Z",
          "shell.execute_reply.started": "2021-10-02T09:59:00.119394Z",
          "shell.execute_reply": "2021-10-02T09:59:00.127575Z"
        },
        "trusted": true,
        "id": "d14DnNYdAz6U"
      },
      "source": [
        "sample_item[\"labels\"]"
      ],
      "execution_count": null,
      "outputs": []
    },
    {
      "cell_type": "code",
      "metadata": {
        "execution": {
          "iopub.status.busy": "2021-10-02T09:59:16.383943Z",
          "iopub.execute_input": "2021-10-02T09:59:16.384192Z",
          "iopub.status.idle": "2021-10-02T09:59:16.389232Z",
          "shell.execute_reply.started": "2021-10-02T09:59:16.384166Z",
          "shell.execute_reply": "2021-10-02T09:59:16.388535Z"
        },
        "trusted": true,
        "id": "xPo-8XgFAz6U"
      },
      "source": [
        "sample_item[\"input_ids\"].shape"
      ],
      "execution_count": null,
      "outputs": []
    },
    {
      "cell_type": "code",
      "metadata": {
        "execution": {
          "iopub.status.busy": "2021-10-02T10:00:52.649806Z",
          "iopub.execute_input": "2021-10-02T10:00:52.650055Z",
          "iopub.status.idle": "2021-10-02T10:00:52.667561Z",
          "shell.execute_reply.started": "2021-10-02T10:00:52.650028Z",
          "shell.execute_reply": "2021-10-02T10:00:52.666617Z"
        },
        "trusted": true,
        "id": "PXuaE13MAz6V"
      },
      "source": [
        "train_dataset.data.head(5)"
      ],
      "execution_count": null,
      "outputs": []
    },
    {
      "cell_type": "code",
      "metadata": {
        "execution": {
          "iopub.status.busy": "2021-10-02T10:02:44.016282Z",
          "iopub.execute_input": "2021-10-02T10:02:44.016978Z",
          "iopub.status.idle": "2021-10-02T10:03:15.732116Z",
          "shell.execute_reply.started": "2021-10-02T10:02:44.016942Z",
          "shell.execute_reply": "2021-10-02T10:03:15.73145Z"
        },
        "trusted": true,
        "id": "t029ZNeOAz6W"
      },
      "source": [
        "# Let’s load the BERT model and pass a sample of batch data through\n",
        "\n",
        "bert_model = BertModel.from_pretrained(BERT_MODEL_NAME, return_dict=True)\n",
        "sample_batch = next(iter(DataLoader(train_dataset, batch_size=8, num_workers=4, pin_memory= True)))\n",
        "sample_batch[\"input_ids\"].shape, sample_batch[\"attention_mask\"].shape"
      ],
      "execution_count": null,
      "outputs": []
    },
    {
      "cell_type": "code",
      "metadata": {
        "execution": {
          "iopub.status.busy": "2021-10-02T10:05:25.500896Z",
          "iopub.execute_input": "2021-10-02T10:05:25.501565Z",
          "iopub.status.idle": "2021-10-02T10:05:30.863324Z",
          "shell.execute_reply.started": "2021-10-02T10:05:25.501525Z",
          "shell.execute_reply": "2021-10-02T10:05:30.862544Z"
        },
        "trusted": true,
        "id": "FnOXFJiwAz6i"
      },
      "source": [
        "output = bert_model(sample_batch[\"input_ids\"], sample_batch[\"attention_mask\"])"
      ],
      "execution_count": null,
      "outputs": []
    },
    {
      "cell_type": "code",
      "metadata": {
        "execution": {
          "iopub.status.busy": "2021-10-02T10:06:04.879016Z",
          "iopub.execute_input": "2021-10-02T10:06:04.879267Z",
          "iopub.status.idle": "2021-10-02T10:06:04.885405Z",
          "shell.execute_reply.started": "2021-10-02T10:06:04.879239Z",
          "shell.execute_reply": "2021-10-02T10:06:04.88448Z"
        },
        "trusted": true,
        "id": "niNWo_3OAz6j"
      },
      "source": [
        "output.last_hidden_state.shape, output.pooler_output.shape"
      ],
      "execution_count": null,
      "outputs": []
    },
    {
      "cell_type": "code",
      "metadata": {
        "execution": {
          "iopub.status.busy": "2021-10-02T10:07:24.116082Z",
          "iopub.execute_input": "2021-10-02T10:07:24.116337Z",
          "iopub.status.idle": "2021-10-02T10:07:24.122243Z",
          "shell.execute_reply.started": "2021-10-02T10:07:24.116308Z",
          "shell.execute_reply": "2021-10-02T10:07:24.121524Z"
        },
        "trusted": true,
        "id": "FhXANKFHAz6j"
      },
      "source": [
        "# Note! - The 768 dimension comes from the BERT hidden size\n",
        "bert_model.config.hidden_size"
      ],
      "execution_count": null,
      "outputs": []
    },
    {
      "cell_type": "code",
      "metadata": {
        "id": "2t5fxum3Az6k"
      },
      "source": [
        "gc.collect()"
      ],
      "execution_count": null,
      "outputs": []
    },
    {
      "cell_type": "code",
      "metadata": {
        "execution": {
          "iopub.status.busy": "2021-10-02T10:13:51.470772Z",
          "iopub.execute_input": "2021-10-02T10:13:51.471298Z",
          "iopub.status.idle": "2021-10-02T10:13:51.480121Z",
          "shell.execute_reply.started": "2021-10-02T10:13:51.471259Z",
          "shell.execute_reply": "2021-10-02T10:13:51.479418Z"
        },
        "trusted": true,
        "id": "4GnKmxERAz6k"
      },
      "source": [
        "# Wrap the custom dataset into a LightningDataModule\n",
        "# The ReviewsDataModule - will encapsulates all data loading logic and returns the necessary data loaders\n",
        "\n",
        "class ReviewsDataModule(pl.LightningDataModule):\n",
        "  def __init__(self, train_df, test_df, tokenizer, batch_size=8, max_token_len=128):\n",
        "    super().__init__()\n",
        "    self.batch_size = batch_size\n",
        "    self.train_df = train_df\n",
        "    self.test_df = test_df\n",
        "    self.tokenizer = tokenizer\n",
        "    self.max_token_len = max_token_len\n",
        "  def setup(self, stage=None):\n",
        "    self.train_dataset = ReviewsDataset(\n",
        "      self.train_df,\n",
        "      self.tokenizer,\n",
        "      self.max_token_len\n",
        "    )\n",
        "    self.test_dataset = ReviewsDataset(\n",
        "      self.test_df,\n",
        "      self.tokenizer,\n",
        "      self.max_token_len\n",
        "    )\n",
        "  def train_dataloader(self):\n",
        "    return DataLoader(\n",
        "      self.train_dataset,\n",
        "      batch_size=self.batch_size,\n",
        "      shuffle=True,\n",
        "      num_workers=4, pin_memory= True\n",
        "    )\n",
        "  def val_dataloader(self):\n",
        "    return DataLoader(\n",
        "      self.test_dataset,\n",
        "      batch_size=self.batch_size,\n",
        "      num_workers=4 ,pin_memory= True\n",
        "    )\n",
        "  def test_dataloader(self):\n",
        "    return DataLoader(\n",
        "      self.test_dataset,\n",
        "      batch_size=self.batch_size,\n",
        "      num_workers=4 , pin_memory= True\n",
        "    )\n"
      ],
      "execution_count": null,
      "outputs": []
    },
    {
      "cell_type": "code",
      "metadata": {
        "execution": {
          "iopub.status.busy": "2021-10-02T10:14:41.771807Z",
          "iopub.execute_input": "2021-10-02T10:14:41.772069Z",
          "iopub.status.idle": "2021-10-02T10:14:41.778525Z",
          "shell.execute_reply.started": "2021-10-02T10:14:41.772041Z",
          "shell.execute_reply": "2021-10-02T10:14:41.77646Z"
        },
        "trusted": true,
        "id": "0RvQjP9pAz6l"
      },
      "source": [
        "# create an instance of our data module\n",
        "\n",
        "N_EPOCHS = 6\n",
        "BATCH_SIZE = 10\n",
        "data_module = ReviewsDataModule(\n",
        "  train_df,\n",
        "  test_df,\n",
        "  tokenizer,\n",
        "  batch_size=BATCH_SIZE,\n",
        "  max_token_len=MAX_TOKEN_COUNT\n",
        ")\n"
      ],
      "execution_count": null,
      "outputs": []
    },
    {
      "cell_type": "code",
      "metadata": {
        "trusted": true,
        "id": "U3dfq6YLAz6m"
      },
      "source": [
        ""
      ],
      "execution_count": null,
      "outputs": []
    },
    {
      "cell_type": "markdown",
      "metadata": {
        "id": "Ihq7-TlcAz6n"
      },
      "source": [
        "## Model\n",
        "**model** will use a pre-trained BertModel and a linear layer to convert the BERT representation to a classification task.\n",
        "We’ll pack everything in a LightningModule\n",
        "\n",
        "**points of interest** - optimizers configuretion and calculating ROC"
      ]
    },
    {
      "cell_type": "code",
      "metadata": {
        "execution": {
          "iopub.status.busy": "2021-10-02T10:23:29.728443Z",
          "iopub.execute_input": "2021-10-02T10:23:29.728844Z",
          "iopub.status.idle": "2021-10-02T10:23:29.747281Z",
          "shell.execute_reply.started": "2021-10-02T10:23:29.728812Z",
          "shell.execute_reply": "2021-10-02T10:23:29.746484Z"
        },
        "trusted": true,
        "id": "Tn79HfAIAz6r"
      },
      "source": [
        "class ReviewsTagger(pl.LightningModule):\n",
        "  def __init__(self, n_classes: int, n_training_steps=None, n_warmup_steps=None):\n",
        "    super().__init__()\n",
        "    self.bert = BertModel.from_pretrained(BERT_MODEL_NAME, return_dict=True)\n",
        "    self.classifier = nn.Linear(self.bert.config.hidden_size, n_classes)\n",
        "    self.n_training_steps = n_training_steps\n",
        "    self.n_warmup_steps = n_warmup_steps\n",
        "    self.criterion = nn.BCELoss()\n",
        "  def forward(self, input_ids, attention_mask, labels=None):\n",
        "    output = self.bert(input_ids, attention_mask=attention_mask)\n",
        "    output = self.classifier(output.pooler_output)\n",
        "    output = torch.sigmoid(output)\n",
        "    loss = 0\n",
        "    if labels is not None:\n",
        "        loss = self.criterion(output, labels)\n",
        "    return loss, output\n",
        "  def training_step(self, batch, batch_idx):\n",
        "    input_ids = batch[\"input_ids\"]\n",
        "    attention_mask = batch[\"attention_mask\"]\n",
        "    labels = batch[\"labels\"]\n",
        "    loss, outputs = self(input_ids, attention_mask, labels)\n",
        "    self.log(\"train_loss\", loss, prog_bar=True, logger=True)\n",
        "    return {\"loss\": loss, \"predictions\": outputs, \"labels\": labels}\n",
        "  def validation_step(self, batch, batch_idx):\n",
        "    input_ids = batch[\"input_ids\"]\n",
        "    attention_mask = batch[\"attention_mask\"]\n",
        "    labels = batch[\"labels\"]\n",
        "    loss, outputs = self(input_ids, attention_mask, labels)\n",
        "    self.log(\"val_loss\", loss, prog_bar=True, logger=True)\n",
        "    return loss\n",
        "  def test_step(self, batch, batch_idx):\n",
        "    input_ids = batch[\"input_ids\"]\n",
        "    attention_mask = batch[\"attention_mask\"]\n",
        "    labels = batch[\"labels\"]\n",
        "    loss, outputs = self(input_ids, attention_mask, labels)\n",
        "    self.log(\"test_loss\", loss, prog_bar=True, logger=True)\n",
        "    return loss\n",
        "  def training_epoch_end(self, outputs):\n",
        "    labels = []\n",
        "    predictions = []\n",
        "    for output in outputs:\n",
        "      for out_labels in output[\"labels\"].detach().cpu():\n",
        "        labels.append(out_labels)\n",
        "      for out_predictions in output[\"predictions\"].detach().cpu():\n",
        "        predictions.append(out_predictions)\n",
        "    labels = torch.stack(labels).int()\n",
        "    predictions = torch.stack(predictions)\n",
        "    for i, name in enumerate(LABEL_COLUMNS):\n",
        "      class_roc_auc = auroc(predictions[:, i], labels[:, i])\n",
        "      self.logger.experiment.add_scalar(f\"{name}_roc_auc/Train\", class_roc_auc, self.current_epoch)\n",
        "  def configure_optimizers(self):\n",
        "    optimizer = AdamW(self.parameters(), lr=0.0001)\n",
        "    scheduler = get_linear_schedule_with_warmup(\n",
        "      optimizer,\n",
        "      num_warmup_steps=self.n_warmup_steps,\n",
        "      num_training_steps=self.n_training_steps\n",
        "    )\n",
        "    return dict(\n",
        "      optimizer=optimizer,\n",
        "      lr_scheduler=dict(\n",
        "        scheduler=scheduler,\n",
        "        interval='step'\n",
        "      )\n",
        "    )"
      ],
      "execution_count": null,
      "outputs": []
    },
    {
      "cell_type": "markdown",
      "metadata": {
        "id": "FuydteDNAz6u"
      },
      "source": [
        "**Optimizer schedule**r - Change the learning rate of the optimizer during training. This might lead to better performance of our model. We’ll use the get_linear_schedule_with_warmup."
      ]
    },
    {
      "cell_type": "code",
      "metadata": {
        "execution": {
          "iopub.status.busy": "2021-10-02T10:24:04.323493Z",
          "iopub.execute_input": "2021-10-02T10:24:04.324257Z",
          "iopub.status.idle": "2021-10-02T10:24:04.827142Z",
          "shell.execute_reply.started": "2021-10-02T10:24:04.324221Z",
          "shell.execute_reply": "2021-10-02T10:24:04.826336Z"
        },
        "trusted": true,
        "id": "FH6Ro0ymAz6v"
      },
      "source": [
        "#  simple example to make things clearer\n",
        "\n",
        "dummy_model = nn.Linear(2, 1)\n",
        "optimizer = AdamW(params=dummy_model.parameters(), lr=0.001)\n",
        "warmup_steps = 20\n",
        "total_training_steps = 100\n",
        "scheduler = get_linear_schedule_with_warmup(\n",
        "  optimizer,\n",
        "  num_warmup_steps=warmup_steps,\n",
        "  num_training_steps=total_training_steps\n",
        ")\n",
        "learning_rate_history = []\n",
        "for step in range(total_training_steps):\n",
        "  optimizer.step()\n",
        "  scheduler.step()\n",
        "  learning_rate_history.append(optimizer.param_groups[0]['lr'])\n",
        "plt.plot(learning_rate_history, label=\"learning rate\")\n",
        "plt.axvline(x=warmup_steps, color=\"red\", linestyle=(0, (5, 10)), label=\"warmup end\")\n",
        "plt.legend()\n",
        "plt.xlabel(\"Step\")\n",
        "plt.ylabel(\"Learning rate\")\n",
        "plt.tight_layout();\n",
        "\n",
        "print('Linear learning rate scheduling over training steps')"
      ],
      "execution_count": null,
      "outputs": []
    },
    {
      "cell_type": "markdown",
      "metadata": {
        "id": "30qSqNwEAz6x"
      },
      "source": [
        "To use the scheduler, we need to calculate the number of training and warm-up steps. The number of training steps per epoch is equal to number of training examples / batch size. The number of total training steps is training steps per epoch * number of epochs\n",
        "\n",
        "We’ll use a םמק tenth of the training steps for a warm-up:"
      ]
    },
    {
      "cell_type": "code",
      "metadata": {
        "execution": {
          "iopub.status.busy": "2021-10-02T10:27:00.913765Z",
          "iopub.execute_input": "2021-10-02T10:27:00.914322Z",
          "iopub.status.idle": "2021-10-02T10:27:00.920403Z",
          "shell.execute_reply.started": "2021-10-02T10:27:00.914284Z",
          "shell.execute_reply": "2021-10-02T10:27:00.919406Z"
        },
        "trusted": true,
        "id": "2gWiF-ttAz6y"
      },
      "source": [
        "steps_per_epoch=len(train_df) // BATCH_SIZE\n",
        "total_training_steps = steps_per_epoch * N_EPOCHS\n",
        "\n",
        "warmup_steps = total_training_steps //10\n",
        "warmup_steps, total_training_steps"
      ],
      "execution_count": null,
      "outputs": []
    },
    {
      "cell_type": "code",
      "metadata": {
        "execution": {
          "iopub.status.busy": "2021-10-02T10:27:47.534354Z",
          "iopub.execute_input": "2021-10-02T10:27:47.534644Z",
          "iopub.status.idle": "2021-10-02T10:27:50.652338Z",
          "shell.execute_reply.started": "2021-10-02T10:27:47.534616Z",
          "shell.execute_reply": "2021-10-02T10:27:50.651547Z"
        },
        "trusted": true,
        "id": "Z9ftiBroAz6z"
      },
      "source": [
        "# create an instance of the model\n",
        "model = ReviewsTagger(\n",
        "  n_classes=len(LABEL_COLUMNS),\n",
        "  n_warmup_steps=warmup_steps,\n",
        "  n_training_steps=total_training_steps\n",
        ")\n"
      ],
      "execution_count": null,
      "outputs": []
    },
    {
      "cell_type": "markdown",
      "metadata": {
        "id": "NDgDnVtMAz60"
      },
      "source": [
        "### Evaluation\n",
        "using **Binary Cross Entropy** to measure the error for each label. PyTorch has **BCELoss**, over a sigmoid function "
      ]
    },
    {
      "cell_type": "code",
      "metadata": {
        "execution": {
          "iopub.status.busy": "2021-10-02T10:45:49.894968Z",
          "iopub.execute_input": "2021-10-02T10:45:49.895219Z",
          "iopub.status.idle": "2021-10-02T10:45:49.904068Z",
          "shell.execute_reply.started": "2021-10-02T10:45:49.895193Z",
          "shell.execute_reply": "2021-10-02T10:45:49.903221Z"
        },
        "trusted": true,
        "id": "VMHsPiBHAz61"
      },
      "source": [
        "# example - Loss Calc\n",
        "\n",
        "criterion = nn.BCELoss()\n",
        "prediction = torch.FloatTensor([10.95873564, 1.07321467, 1.58524066, 0.03839076, 15.72987556, 1.09513213])\n",
        "\n",
        "labels = torch.FloatTensor([1., 0., 0., 0., 1., 0.])\n",
        "\n",
        "print(torch.sigmoid(prediction))\n",
        "print(criterion(torch.sigmoid(prediction), labels))"
      ],
      "execution_count": null,
      "outputs": []
    },
    {
      "cell_type": "code",
      "metadata": {
        "execution": {
          "iopub.status.busy": "2021-10-02T10:46:16.14933Z",
          "iopub.execute_input": "2021-10-02T10:46:16.149889Z",
          "iopub.status.idle": "2021-10-02T10:46:21.457069Z",
          "shell.execute_reply.started": "2021-10-02T10:46:16.149852Z",
          "shell.execute_reply": "2021-10-02T10:46:21.456241Z"
        },
        "trusted": true,
        "id": "dmVd1vb6Az62"
      },
      "source": [
        "# calculate the loss of the prediction\n",
        "\n",
        "_, predictions = model(sample_batch[\"input_ids\"], sample_batch[\"attention_mask\"])\n",
        "predictions"
      ],
      "execution_count": null,
      "outputs": []
    },
    {
      "cell_type": "code",
      "metadata": {
        "execution": {
          "iopub.status.busy": "2021-10-02T10:46:37.612433Z",
          "iopub.execute_input": "2021-10-02T10:46:37.612864Z",
          "iopub.status.idle": "2021-10-02T10:46:37.622807Z",
          "shell.execute_reply.started": "2021-10-02T10:46:37.612828Z",
          "shell.execute_reply": "2021-10-02T10:46:37.621773Z"
        },
        "trusted": true,
        "id": "Tw0Eui5MAz63"
      },
      "source": [
        "criterion(predictions, sample_batch[\"labels\"])"
      ],
      "execution_count": null,
      "outputs": []
    },
    {
      "cell_type": "code",
      "metadata": {
        "execution": {
          "iopub.status.busy": "2021-10-02T10:46:55.079081Z",
          "iopub.execute_input": "2021-10-02T10:46:55.079335Z",
          "iopub.status.idle": "2021-10-02T10:46:55.305697Z",
          "shell.execute_reply.started": "2021-10-02T10:46:55.079309Z",
          "shell.execute_reply": "2021-10-02T10:46:55.304799Z"
        },
        "trusted": true,
        "id": "jM4izQlbAz63"
      },
      "source": [
        "gc.collect()"
      ],
      "execution_count": null,
      "outputs": []
    },
    {
      "cell_type": "markdown",
      "metadata": {
        "id": "fE-eg3ydAz64"
      },
      "source": [
        "### ROC Curve\n",
        "The area under the Receiver operating characteristic (ROC) for each tag. ROC is created by plotting the True Positive Rate (TPR) vs False Positive Rate (FPR)\n",
        "\n",
        "![image.png](attachment:2bd8a67f-1611-4932-8b67-af1438a334c8.png)"
      ]
    },
    {
      "cell_type": "code",
      "metadata": {
        "execution": {
          "iopub.status.busy": "2021-10-02T10:47:37.124722Z",
          "iopub.execute_input": "2021-10-02T10:47:37.124996Z",
          "iopub.status.idle": "2021-10-02T10:47:37.445221Z",
          "shell.execute_reply.started": "2021-10-02T10:47:37.124968Z",
          "shell.execute_reply": "2021-10-02T10:47:37.44454Z"
        },
        "trusted": true,
        "id": "f8uWKcNbAz65"
      },
      "source": [
        "from sklearn import metrics\n",
        "fpr = [0.        , 0.        , 0.        , 0.02857143, 0.02857143,\n",
        "       0.11428571, 0.11428571, 0.2       , 0.4       , 1.        ]\n",
        "tpr = [0.        , 0.01265823, 0.67202532, 0.76202532, 0.91468354,\n",
        "       0.97468354, 0.98734177, 0.98734177, 1.        , 1.        ]\n",
        "_, ax = plt.subplots()\n",
        "ax.plot(fpr, tpr, label=\"ROC\")\n",
        "#ax.plot([0.05, 0.95], [0.05, 0.95], transform=ax.transAxes, label=\"Random classifier\", color=\"red\")\n",
        "ax.legend(loc=4)\n",
        "ax.set_xlabel(\"False positive rate\")\n",
        "ax.set_ylabel(\"True positive rate\")\n",
        "ax.set_title(\"Example ROC curve\")\n",
        "plt.show();\n",
        "\n",
        "print('Example ROC value of a trained classifier vs random classifier')"
      ],
      "execution_count": null,
      "outputs": []
    },
    {
      "cell_type": "markdown",
      "metadata": {
        "id": "blJqF3B_Az65"
      },
      "source": [
        "### Training\n",
        "we'll use at least 3 components - **Checkpointing** that saves the best model (based on validation loss):"
      ]
    },
    {
      "cell_type": "code",
      "metadata": {
        "execution": {
          "iopub.status.busy": "2021-10-02T10:55:23.679492Z",
          "iopub.execute_input": "2021-10-02T10:55:23.680188Z",
          "iopub.status.idle": "2021-10-02T10:55:23.684672Z",
          "shell.execute_reply.started": "2021-10-02T10:55:23.680151Z",
          "shell.execute_reply": "2021-10-02T10:55:23.684016Z"
        },
        "trusted": true,
        "id": "f7lTbkCbAz66"
      },
      "source": [
        "checkpoint_callback = ModelCheckpoint(\n",
        "    dirpath=\"checkpoints\",\n",
        "    filename=\"best-checkpoint\",\n",
        "    save_top_k=1,\n",
        "    verbose=True,\n",
        "    monitor=\"val_loss\",\n",
        "    mode=\"min\")"
      ],
      "execution_count": null,
      "outputs": []
    },
    {
      "cell_type": "code",
      "metadata": {
        "execution": {
          "iopub.status.busy": "2021-10-02T10:55:25.131589Z",
          "iopub.execute_input": "2021-10-02T10:55:25.132294Z",
          "iopub.status.idle": "2021-10-02T10:55:25.137763Z",
          "shell.execute_reply.started": "2021-10-02T10:55:25.132252Z",
          "shell.execute_reply": "2021-10-02T10:55:25.135517Z"
        },
        "trusted": true,
        "id": "i_MdtCndAz67"
      },
      "source": [
        "# Log the progress in TensorBoard:\n",
        "\n",
        "logger = TensorBoardLogger(\"lightning_logs\", name=\"reviews\")"
      ],
      "execution_count": null,
      "outputs": []
    },
    {
      "cell_type": "code",
      "metadata": {
        "execution": {
          "iopub.status.busy": "2021-10-02T10:55:26.159172Z",
          "iopub.execute_input": "2021-10-02T10:55:26.159504Z",
          "iopub.status.idle": "2021-10-02T10:55:26.165249Z",
          "shell.execute_reply.started": "2021-10-02T10:55:26.159471Z",
          "shell.execute_reply": "2021-10-02T10:55:26.164481Z"
        },
        "trusted": true,
        "id": "MnDos4QlAz67"
      },
      "source": [
        "# And early stopping triggers when the loss hasn’t improved for the last 2 epochs \n",
        "\n",
        "early_stopping_callback = EarlyStopping(monitor='val_loss', patience=2)"
      ],
      "execution_count": null,
      "outputs": []
    },
    {
      "cell_type": "code",
      "metadata": {
        "execution": {
          "iopub.status.busy": "2021-10-02T10:55:29.072788Z",
          "iopub.execute_input": "2021-10-02T10:55:29.073212Z",
          "iopub.status.idle": "2021-10-02T10:55:29.092924Z",
          "shell.execute_reply.started": "2021-10-02T10:55:29.073162Z",
          "shell.execute_reply": "2021-10-02T10:55:29.092092Z"
        },
        "trusted": true,
        "id": "NT88yaS7Az68"
      },
      "source": [
        "# start the training process:\n",
        "\n",
        "trainer = pl.Trainer(\n",
        "    logger=logger,\n",
        "    callbacks=[checkpoint_callback, early_stopping_callback],\n",
        "    max_epochs= N_EPOCHS,\n",
        "    gpus=1,\n",
        "    progress_bar_refresh_rate=30)"
      ],
      "execution_count": null,
      "outputs": []
    },
    {
      "cell_type": "code",
      "metadata": {
        "execution": {
          "iopub.status.busy": "2021-10-02T10:55:40.745715Z",
          "iopub.execute_input": "2021-10-02T10:55:40.746289Z",
          "iopub.status.idle": "2021-10-02T10:55:40.753155Z",
          "shell.execute_reply.started": "2021-10-02T10:55:40.746245Z",
          "shell.execute_reply": "2021-10-02T10:55:40.752311Z"
        },
        "trusted": true,
        "id": "eF772Mr1Az68"
      },
      "source": [
        "alldfs = [var for var in dir() if isinstance(eval(var), pd.core.frame.DataFrame)]\n",
        "\n",
        "print(alldfs) "
      ],
      "execution_count": null,
      "outputs": []
    },
    {
      "cell_type": "code",
      "metadata": {
        "execution": {
          "iopub.status.busy": "2021-10-02T10:55:51.901813Z",
          "iopub.execute_input": "2021-10-02T10:55:51.902459Z",
          "iopub.status.idle": "2021-10-02T10:55:52.132035Z",
          "shell.execute_reply.started": "2021-10-02T10:55:51.902416Z",
          "shell.execute_reply": "2021-10-02T10:55:52.131299Z"
        },
        "trusted": true,
        "id": "iRzPPgwgAz69"
      },
      "source": [
        "#del alldfs\n",
        "gc.collect()"
      ],
      "execution_count": null,
      "outputs": []
    },
    {
      "cell_type": "code",
      "metadata": {
        "execution": {
          "iopub.status.busy": "2021-10-01T18:43:44.325679Z",
          "iopub.execute_input": "2021-10-01T18:43:44.326024Z",
          "iopub.status.idle": "2021-10-01T18:43:44.334524Z",
          "shell.execute_reply.started": "2021-10-01T18:43:44.325989Z",
          "shell.execute_reply": "2021-10-01T18:43:44.333741Z"
        },
        "trusted": true,
        "id": "Xk3J2qNmAz69"
      },
      "source": [
        "alldTS = [var for var in dir() if isinstance(eval(var), torch.Tensor)]\n",
        "\n",
        "print(alldTS) "
      ],
      "execution_count": null,
      "outputs": []
    },
    {
      "cell_type": "code",
      "metadata": {
        "execution": {
          "iopub.status.busy": "2021-10-02T10:56:17.942605Z",
          "iopub.execute_input": "2021-10-02T10:56:17.943258Z",
          "iopub.status.idle": "2021-10-02T10:56:17.947065Z",
          "shell.execute_reply.started": "2021-10-02T10:56:17.943217Z",
          "shell.execute_reply": "2021-10-02T10:56:17.946255Z"
        },
        "trusted": true,
        "id": "v8AKl7jmAz6-"
      },
      "source": [
        "# del _33, _34, _35, _43,_56, _57\n",
        "# gc.collect()"
      ],
      "execution_count": null,
      "outputs": []
    },
    {
      "cell_type": "code",
      "metadata": {
        "execution": {
          "iopub.status.busy": "2021-10-02T10:56:30.297436Z",
          "iopub.execute_input": "2021-10-02T10:56:30.298183Z",
          "iopub.status.idle": "2021-10-02T11:00:27.486199Z",
          "shell.execute_reply.started": "2021-10-02T10:56:30.298145Z",
          "shell.execute_reply": "2021-10-02T11:00:27.485412Z"
        },
        "trusted": true,
        "id": "KxZTIncJAz6_"
      },
      "source": [
        "trainer.fit(model, data_module)"
      ],
      "execution_count": null,
      "outputs": []
    },
    {
      "cell_type": "code",
      "metadata": {
        "execution": {
          "iopub.status.busy": "2021-10-02T11:11:19.65146Z",
          "iopub.execute_input": "2021-10-02T11:11:19.652277Z",
          "iopub.status.idle": "2021-10-02T11:11:26.291625Z",
          "shell.execute_reply.started": "2021-10-02T11:11:19.652238Z",
          "shell.execute_reply": "2021-10-02T11:11:26.290748Z"
        },
        "trusted": true,
        "id": "oVBy3jpnAz6_"
      },
      "source": [
        "trainer.test()\n",
        "gc.collect()"
      ],
      "execution_count": null,
      "outputs": []
    },
    {
      "cell_type": "markdown",
      "metadata": {
        "id": "AiivccFXAz7A"
      },
      "source": [
        "**Predictions**\n",
        "mall sample of predictions after the training is complete. This builds intuition about the quality of the predictions (qualitative evaluation).\n",
        "\n",
        "Loading the best version (according to the validation loss) of our model:"
      ]
    },
    {
      "cell_type": "code",
      "metadata": {
        "execution": {
          "iopub.status.busy": "2021-10-02T11:12:09.95523Z",
          "iopub.execute_input": "2021-10-02T11:12:09.955908Z",
          "iopub.status.idle": "2021-10-02T11:12:15.840093Z",
          "shell.execute_reply.started": "2021-10-02T11:12:09.95587Z",
          "shell.execute_reply": "2021-10-02T11:12:15.839306Z"
        },
        "trusted": true,
        "id": "IVLcNEj3Az7B"
      },
      "source": [
        "trained_model = ReviewsTagger.load_from_checkpoint(\n",
        "  trainer.checkpoint_callback.best_model_path,\n",
        "  n_classes=len(LABEL_COLUMNS)\n",
        ")\n",
        "trained_model.eval()\n",
        "trained_model.freeze()"
      ],
      "execution_count": null,
      "outputs": []
    },
    {
      "cell_type": "code",
      "metadata": {
        "execution": {
          "iopub.status.busy": "2021-10-02T11:16:38.641462Z",
          "iopub.execute_input": "2021-10-02T11:16:38.642249Z",
          "iopub.status.idle": "2021-10-02T11:16:39.931269Z",
          "shell.execute_reply.started": "2021-10-02T11:16:38.642211Z",
          "shell.execute_reply": "2021-10-02T11:16:39.930537Z"
        },
        "trusted": true,
        "id": "u_EYix5iAz7B"
      },
      "source": [
        "test_comment = \"drive thru mckdonalds the place was very dirty. not clean \\\n",
        "                very filthy very dirty garbage all over\"\n",
        "encoding = tokenizer.encode_plus(\n",
        "  test_comment,\n",
        "  add_special_tokens=True,\n",
        "  max_length=512,\n",
        "  return_token_type_ids=False,\n",
        "  padding=\"max_length\",\n",
        "  return_attention_mask=True,\n",
        "  return_tensors='pt',\n",
        ")\n",
        "_, test_prediction = trained_model(encoding[\"input_ids\"], encoding[\"attention_mask\"])\n",
        "test_prediction = test_prediction.flatten().numpy()\n",
        "for label, prediction in zip(LABEL_COLUMNS, test_prediction):\n",
        "  print(f\"{label}: {prediction}\")"
      ],
      "execution_count": null,
      "outputs": []
    },
    {
      "cell_type": "markdown",
      "metadata": {
        "id": "eBhosu3sAz7C"
      },
      "source": [
        "![image.png](attachment:9a2047f9-f854-4738-84d3-ca269fbe0bc7.png)"
      ]
    },
    {
      "cell_type": "code",
      "metadata": {
        "execution": {
          "iopub.status.busy": "2021-10-02T11:38:02.162274Z",
          "iopub.execute_input": "2021-10-02T11:38:02.163063Z",
          "iopub.status.idle": "2021-10-02T11:38:03.120858Z",
          "shell.execute_reply.started": "2021-10-02T11:38:02.163021Z",
          "shell.execute_reply": "2021-10-02T11:38:03.120076Z"
        },
        "trusted": true,
        "id": "-uzLjFxtAz7D"
      },
      "source": [
        "THRESHOLD = 0.5\n",
        "test_comment = \"drive thru McDonalds waited too much time to order no one available \\\n",
        "                very laid back relaxed. took the time \"\n",
        "encoding = tokenizer.encode_plus(\n",
        "  test_comment,\n",
        "  add_special_tokens=True,\n",
        "  max_length=512,\n",
        "  return_token_type_ids=False,\n",
        "  padding=\"max_length\",\n",
        "  return_attention_mask=True,\n",
        "  return_tensors='pt',\n",
        ")\n",
        "_, test_prediction = trained_model(encoding[\"input_ids\"], encoding[\"attention_mask\"])\n",
        "test_prediction = test_prediction.flatten().numpy()\n",
        "for label, prediction in zip(LABEL_COLUMNS, test_prediction):\n",
        "  if prediction < THRESHOLD:\n",
        "    continue\n",
        "  print(f\"{label}: {prediction}\")"
      ],
      "execution_count": null,
      "outputs": []
    },
    {
      "cell_type": "code",
      "metadata": {
        "execution": {
          "iopub.status.busy": "2021-10-02T11:48:23.371444Z",
          "iopub.execute_input": "2021-10-02T11:48:23.371955Z",
          "iopub.status.idle": "2021-10-02T11:48:24.309988Z",
          "shell.execute_reply.started": "2021-10-02T11:48:23.371918Z",
          "shell.execute_reply": "2021-10-02T11:48:24.309021Z"
        },
        "trusted": true,
        "id": "fj6r5VKaAz7E"
      },
      "source": [
        "THRESHOLD = 0.1\n",
        "test_comment = \"100 USD for burger !!! too expensive  over taxed, cost too much, pay a lot of money . high Cost \\\n",
        "                High value \"\n",
        "encoding = tokenizer.encode_plus(\n",
        "  test_comment,\n",
        "  add_special_tokens=True,\n",
        "  max_length=512,\n",
        "  return_token_type_ids=False,\n",
        "  padding=\"max_length\",\n",
        "  return_attention_mask=True,\n",
        "  return_tensors='pt',\n",
        ")\n",
        "_, test_prediction = trained_model(encoding[\"input_ids\"], encoding[\"attention_mask\"])\n",
        "test_prediction = test_prediction.flatten().numpy()\n",
        "for label, prediction in zip(LABEL_COLUMNS, test_prediction):\n",
        "  if prediction < THRESHOLD:\n",
        "    continue\n",
        "  print(f\"{label}: {prediction}\")"
      ],
      "execution_count": null,
      "outputs": []
    },
    {
      "cell_type": "markdown",
      "metadata": {
        "id": "NeLvA-6_Az7E"
      },
      "source": [
        "## Testing / Evaluation"
      ]
    },
    {
      "cell_type": "code",
      "metadata": {
        "execution": {
          "iopub.status.busy": "2021-10-02T11:48:52.271178Z",
          "iopub.execute_input": "2021-10-02T11:48:52.27146Z",
          "iopub.status.idle": "2021-10-02T11:48:56.469032Z",
          "shell.execute_reply.started": "2021-10-02T11:48:52.271429Z",
          "shell.execute_reply": "2021-10-02T11:48:56.468405Z"
        },
        "trusted": true,
        "id": "0TwowMYjAz7F"
      },
      "source": [
        "device = torch.device('cuda' if torch.cuda.is_available() else 'cpu')\n",
        "trained_model = trained_model.to(device)\n",
        "val_dataset = ReviewsDataset(\n",
        "  test_df,\n",
        "  tokenizer,\n",
        "  max_token_len=MAX_TOKEN_COUNT\n",
        ")\n",
        "predictions = []\n",
        "labels = []\n",
        "for item in tqdm(val_dataset):\n",
        "  _, prediction = trained_model(\n",
        "    item[\"input_ids\"].unsqueeze(dim=0).to(device),\n",
        "    item[\"attention_mask\"].unsqueeze(dim=0).to(device)\n",
        "  )\n",
        "  predictions.append(prediction.flatten())\n",
        "  labels.append(item[\"labels\"].int())\n",
        "predictions = torch.stack(predictions).detach().cpu()\n",
        "labels = torch.stack(labels).detach().cpu()"
      ],
      "execution_count": null,
      "outputs": []
    },
    {
      "cell_type": "code",
      "metadata": {
        "execution": {
          "iopub.status.busy": "2021-10-02T11:49:39.620794Z",
          "iopub.execute_input": "2021-10-02T11:49:39.621052Z",
          "iopub.status.idle": "2021-10-02T11:49:39.651732Z",
          "shell.execute_reply.started": "2021-10-02T11:49:39.621025Z",
          "shell.execute_reply": "2021-10-02T11:49:39.650924Z"
        },
        "trusted": true,
        "id": "CI1umZjTAz7G"
      },
      "source": [
        "THRESHOLD = 0.5\n",
        "accuracy(predictions, labels, threshold=THRESHOLD)"
      ],
      "execution_count": null,
      "outputs": []
    },
    {
      "cell_type": "markdown",
      "metadata": {
        "id": "WPCkNcywAz7G"
      },
      "source": [
        "check the **ROC** for each tag\n",
        "\n"
      ]
    },
    {
      "cell_type": "code",
      "metadata": {
        "execution": {
          "iopub.status.busy": "2021-10-02T11:51:12.426551Z",
          "iopub.execute_input": "2021-10-02T11:51:12.427313Z",
          "iopub.status.idle": "2021-10-02T11:51:12.444916Z",
          "shell.execute_reply.started": "2021-10-02T11:51:12.427273Z",
          "shell.execute_reply": "2021-10-02T11:51:12.444282Z"
        },
        "trusted": true,
        "id": "sNHvVRlkAz7H"
      },
      "source": [
        "print(\"AUROC per tag\")\n",
        "for i, name in enumerate(LABEL_COLUMNS):\n",
        "  tag_auroc = auroc(predictions[:, i], labels[:, i], pos_label=1)\n",
        "  print(f\"{name}: {tag_auroc}\")"
      ],
      "execution_count": null,
      "outputs": []
    },
    {
      "cell_type": "markdown",
      "metadata": {
        "id": "xfYbuPtEAz7I"
      },
      "source": [
        "Check the **classification report** for each class. To make this work, we must apply thresholding to the predictions"
      ]
    },
    {
      "cell_type": "code",
      "metadata": {
        "execution": {
          "iopub.status.busy": "2021-10-02T11:53:09.394712Z",
          "iopub.execute_input": "2021-10-02T11:53:09.395301Z",
          "iopub.status.idle": "2021-10-02T11:53:09.643804Z",
          "shell.execute_reply.started": "2021-10-02T11:53:09.395264Z",
          "shell.execute_reply": "2021-10-02T11:53:09.643082Z"
        },
        "trusted": true,
        "id": "p5-e_JBUAz7I"
      },
      "source": [
        "gc.collect()\n",
        "\n",
        "y_pred = predictions.numpy()\n",
        "y_true = labels.numpy()\n",
        "upper, lower = 1, 0\n",
        "y_pred = np.where(y_pred > THRESHOLD, upper, lower)\n",
        "print(classification_report(\n",
        "  y_true,\n",
        "  y_pred,\n",
        "  target_names=LABEL_COLUMNS,\n",
        "  zero_division=0\n",
        "))"
      ],
      "execution_count": null,
      "outputs": []
    },
    {
      "cell_type": "markdown",
      "metadata": {
        "id": "UN7LkIk9Az7J"
      },
      "source": [
        ""
      ]
    },
    {
      "cell_type": "markdown",
      "metadata": {
        "id": "atAK-ugyAz7J"
      },
      "source": [
        "![image.png](attachment:11fbcf9a-34cb-41fa-abca-e489bf49334f.png)"
      ]
    },
    {
      "cell_type": "code",
      "metadata": {
        "execution": {
          "iopub.status.busy": "2021-10-02T11:56:08.569218Z",
          "iopub.execute_input": "2021-10-02T11:56:08.569942Z",
          "iopub.status.idle": "2021-10-02T11:56:08.574187Z",
          "shell.execute_reply.started": "2021-10-02T11:56:08.569903Z",
          "shell.execute_reply": "2021-10-02T11:56:08.573171Z"
        },
        "trusted": true,
        "id": "YXv5gn_dAz7K"
      },
      "source": [
        "print('finish')"
      ],
      "execution_count": null,
      "outputs": []
    },
    {
      "cell_type": "code",
      "metadata": {
        "id": "N7g_tKpEAz7K"
      },
      "source": [
        ""
      ],
      "execution_count": null,
      "outputs": []
    }
  ]
}