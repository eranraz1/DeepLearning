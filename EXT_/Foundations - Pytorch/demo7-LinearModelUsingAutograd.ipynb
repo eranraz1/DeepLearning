{
 "cells": [
  {
   "cell_type": "code",
   "execution_count": 67,
   "metadata": {},
   "outputs": [],
   "source": [
    "import numpy as np \n",
    "import matplotlib.pyplot as plt"
   ]
  },
  {
   "cell_type": "markdown",
   "metadata": {},
   "source": [
    "#### Creating Dataset\n",
    "A simple dataset using numpy arrays"
   ]
  },
  {
   "cell_type": "code",
   "execution_count": 68,
   "metadata": {},
   "outputs": [],
   "source": [
    "x_train = np.array ([[4.7], [2.4], [7.5], [7.1], [4.3], [7.816], \n",
    "                     [8.9], [5.2], [8.59], [2.1], [8] , \n",
    "                     [10], [4.5], [6], [4]],\n",
    "                    dtype = np.float32)\n",
    "\n",
    "y_train = np.array ([[2.6], [1.6], [3.09], [2.4], [2.4], [3.357], \n",
    "                     [2.6], [1.96], [3.53], [1.76], [3.2] , \n",
    "                     [3.5], [1.6], [2.5], [2.2]], \n",
    "                    dtype = np.float32)"
   ]
  },
  {
   "cell_type": "code",
   "execution_count": 69,
   "metadata": {},
   "outputs": [
    {
     "data": {
      "text/plain": [
       "((15, 1), (15, 1))"
      ]
     },
     "execution_count": 69,
     "metadata": {},
     "output_type": "execute_result"
    }
   ],
   "source": [
    "x_train.shape, y_train.shape"
   ]
  },
  {
   "cell_type": "markdown",
   "metadata": {},
   "source": [
    "#### View the data\n",
    "There seems to be some relationship which can be plotted between x_train and y_train. A regression line can be drawn to represent the relationship"
   ]
  },
  {
   "cell_type": "code",
   "execution_count": 70,
   "metadata": {},
   "outputs": [
    {
     "data": {
      "image/png": "[encoded data removed]",
      "text/plain": [
       "<Figure size 576x288 with 1 Axes>"
      ]
     },
     "metadata": {
      "needs_background": "light"
     },
     "output_type": "display_data"
    }
   ],
   "source": [
    "plt.figure(figsize=(8, 4))\n",
    "plt.scatter(x_train, y_train, label='Original data', s=100, c='g')\n",
    "plt.legend()\n",
    "plt.show()"
   ]
  },
  {
   "cell_type": "code",
   "execution_count": 71,
   "metadata": {},
   "outputs": [],
   "source": [
    "import torch "
   ]
  },
  {
   "cell_type": "markdown",
   "metadata": {},
   "source": [
    "#### Converting data to pytorch tensors\n",
    "By defualt requires_grad = False"
   ]
  },
  {
   "cell_type": "code",
   "execution_count": 72,
   "metadata": {
    "scrolled": true
   },
   "outputs": [
    {
     "name": "stdout",
     "output_type": "stream",
     "text": [
      "requires_grad for X_train:  False\n",
      "requires_grad for Y_train:  False\n"
     ]
    }
   ],
   "source": [
    "X_train = torch.from_numpy(x_train) \n",
    "Y_train = torch.from_numpy(y_train)\n",
    "\n",
    "print('requires_grad for X_train: ', X_train.requires_grad)\n",
    "print('requires_grad for Y_train: ', Y_train.requires_grad)"
   ]
  },
  {
   "cell_type": "markdown",
   "metadata": {},
   "source": [
    "#### Set the details for our neural network\n",
    "Input, output and hidden layer sizes plus the learning rate"
   ]
  },
  {
   "cell_type": "code",
   "execution_count": 73,
   "metadata": {},
   "outputs": [],
   "source": [
    "input_size = 1 \n",
    "hidden_size = 1\n",
    "output_size = 1"
   ]
  },
  {
   "cell_type": "markdown",
   "metadata": {},
   "source": [
    "#### Create random Tensors for weights.<br>\n",
    "Setting requires_grad=True indicates that we want to compute gradients with respect to these Tensors during the backward pass"
   ]
  },
  {
   "cell_type": "code",
   "execution_count": 74,
   "metadata": {},
   "outputs": [
    {
     "data": {
      "text/plain": [
       "torch.Size([1, 1])"
      ]
     },
     "execution_count": 74,
     "metadata": {},
     "output_type": "execute_result"
    }
   ],
   "source": [
    "w1 = torch.rand(input_size, \n",
    "                hidden_size, \n",
    "                requires_grad=True)\n",
    "w1.shape"
   ]
  },
  {
   "cell_type": "code",
   "execution_count": 76,
   "metadata": {},
   "outputs": [
    {
     "name": "stdout",
     "output_type": "stream",
     "text": [
      "None\n"
     ]
    }
   ],
   "source": [
    "print(w1.grad_fn)"
   ]
  },
  {
   "cell_type": "code",
   "execution_count": 84,
   "metadata": {},
   "outputs": [
    {
     "name": "stdout",
     "output_type": "stream",
     "text": [
      "tensor([[0.0149]], requires_grad=True)\n"
     ]
    }
   ],
   "source": [
    "print(w1)"
   ]
  },
  {
   "cell_type": "code",
   "execution_count": 85,
   "metadata": {},
   "outputs": [
    {
     "data": {
      "text/plain": [
       "torch.Size([1, 1])"
      ]
     },
     "execution_count": 85,
     "metadata": {},
     "output_type": "execute_result"
    }
   ],
   "source": [
    "w2 = torch.rand(hidden_size, \n",
    "                output_size, \n",
    "                requires_grad=True)\n",
    "w2.shape"
   ]
  },
  {
   "cell_type": "code",
   "execution_count": 86,
   "metadata": {},
   "outputs": [
    {
     "name": "stdout",
     "output_type": "stream",
     "text": [
      "None\n"
     ]
    }
   ],
   "source": [
    "print(w2.grad_fn)"
   ]
  },
  {
   "cell_type": "markdown",
   "metadata": {},
   "source": [
    "## Training\n",
    "\n",
    "#### Foward Pass:\n",
    "* Predicting Y with input data X\n",
    "* finding (matrix X matrix) using .mm function, finding product of X_train and w1 and activation function is identity function\n",
    "* again doing mat product data with second weight w2\n",
    "\n",
    "#### Finding Loss:\n",
    "* Finding difference between Y_train and Y_pred by squaring the difference and then summing out, similar to nn.MSELoss \n",
    "\n",
    "\n",
    "#### For the loss_backward() function call:\n",
    "* backward pass will compute the gradient of loss with respect to all Tensors with requires_grad=True. \n",
    "* After this call w1.grad and w2.grad will be Tensors holding the gradient of the loss with respect to w1 and w2 respectively.\n",
    "\n",
    "#### Manually updating the weights\n",
    "* weights have requires_grad=True, but we don't need to track this in autograd. So will wrap it in torch.no_grad\n",
    "* reducing weight with multiple of learning rate and gradient\n",
    "* manually zero the weight gradients after updating weights"
   ]
  },
  {
   "cell_type": "code",
   "execution_count": 25,
   "metadata": {},
   "outputs": [
    {
     "name": "stdout",
     "output_type": "stream",
     "text": [
      "0.000001\n"
     ]
    }
   ],
   "source": [
    "learning_rate = 1e-6\n",
    "print(format(learning_rate, 'f'))"
   ]
  },
  {
   "cell_type": "code",
   "execution_count": 112,
   "metadata": {},
   "outputs": [
    {
     "name": "stdout",
     "output_type": "stream",
     "text": [
      "1e-06\n"
     ]
    }
   ],
   "source": [
    "learning_rate = 0.000001\n",
    "print(learning_rate)"
   ]
  },
  {
   "cell_type": "code",
   "execution_count": 88,
   "metadata": {},
   "outputs": [
    {
     "data": {
      "text/plain": [
       "array([[2.6  ],\n",
       "       [1.6  ],\n",
       "       [3.09 ],\n",
       "       [2.4  ],\n",
       "       [2.4  ],\n",
       "       [3.357],\n",
       "       [2.6  ],\n",
       "       [1.96 ],\n",
       "       [3.53 ],\n",
       "       [1.76 ],\n",
       "       [3.2  ],\n",
       "       [3.5  ],\n",
       "       [1.6  ],\n",
       "       [2.5  ],\n",
       "       [2.2  ]], dtype=float32)"
      ]
     },
     "execution_count": 88,
     "metadata": {},
     "output_type": "execute_result"
    }
   ],
   "source": [
    "y_train"
   ]
  },
  {
   "cell_type": "code",
   "execution_count": 89,
   "metadata": {},
   "outputs": [],
   "source": [
    "# Start at 10. Change this to 100, 1000 and 3000 and run the code all the way to the plot at the bottom\n",
    "for iter in range(1, 10):\n",
    "    \n",
    "    y_pred = X_train.mm(w1).mm(w2)\n",
    "    loss = (y_pred - Y_train).pow(2).sum()\n",
    "    \n",
    "    if iter % 50 ==0:\n",
    "        print(iter, loss.item())\n",
    "        \n",
    "    loss.backward()\n",
    "    \n",
    "    with torch.no_grad():\n",
    "        w1 -= learning_rate * w1.grad\n",
    "        w2 -= learning_rate * w2.grad\n",
    "        w1.grad.zero_()\n",
    "        w2.grad.zero_()"
   ]
  },
  {
   "cell_type": "code",
   "execution_count": 113,
   "metadata": {},
   "outputs": [
    {
     "name": "stdout",
     "output_type": "stream",
     "text": [
      "4.089357376098633\n",
      "tensor([[-0.0003]])\n",
      "tensor([[-0.0002]])\n",
      "4.089357376098633\n",
      "tensor([[-0.0003]])\n",
      "tensor([[-0.0002]])\n",
      "4.089357376098633\n",
      "tensor([[-0.0003]])\n",
      "tensor([[-0.0002]])\n",
      "4.089357376098633\n",
      "tensor([[-0.0003]])\n",
      "tensor([[-0.0002]])\n",
      "4.089357376098633\n",
      "tensor([[-0.0003]])\n",
      "tensor([[-0.0002]])\n",
      "4.089357376098633\n",
      "tensor([[-0.0003]])\n",
      "tensor([[-0.0002]])\n",
      "4.089357376098633\n",
      "tensor([[-0.0003]])\n",
      "tensor([[-0.0002]])\n",
      "4.089357376098633\n",
      "tensor([[-0.0003]])\n",
      "tensor([[-0.0002]])\n",
      "4.089357376098633\n",
      "tensor([[-0.0003]])\n",
      "tensor([[-0.0002]])\n",
      "4.089357376098633\n",
      "tensor([[-0.0003]])\n",
      "tensor([[-0.0002]])\n",
      "4.089357376098633\n",
      "tensor([[-0.0003]])\n",
      "tensor([[-0.0002]])\n",
      "4.089357376098633\n",
      "tensor([[-0.0003]])\n",
      "tensor([[-0.0002]])\n",
      "4.089357376098633\n",
      "tensor([[-0.0003]])\n",
      "tensor([[-0.0002]])\n",
      "4.089357376098633\n",
      "tensor([[-0.0003]])\n",
      "tensor([[-0.0002]])\n",
      "4.089357376098633\n",
      "tensor([[-0.0003]])\n",
      "tensor([[-0.0002]])\n",
      "4.089357376098633\n",
      "tensor([[-0.0003]])\n",
      "tensor([[-0.0002]])\n",
      "4.089357376098633\n",
      "tensor([[-0.0003]])\n",
      "tensor([[-0.0002]])\n",
      "4.089357376098633\n",
      "tensor([[-0.0003]])\n",
      "tensor([[-0.0002]])\n",
      "4.089357376098633\n",
      "tensor([[-0.0003]])\n",
      "tensor([[-0.0002]])\n",
      "4.089357376098633\n",
      "tensor([[-0.0003]])\n",
      "tensor([[-0.0002]])\n",
      "4.089357376098633\n",
      "tensor([[-0.0003]])\n",
      "tensor([[-0.0002]])\n",
      "4.089357376098633\n",
      "tensor([[-0.0003]])\n",
      "tensor([[-0.0002]])\n",
      "4.089357376098633\n",
      "tensor([[-0.0003]])\n",
      "tensor([[-0.0002]])\n",
      "4.089357376098633\n",
      "tensor([[-0.0003]])\n",
      "tensor([[-0.0002]])\n",
      "4.089357376098633\n",
      "tensor([[-0.0003]])\n",
      "tensor([[-0.0002]])\n",
      "4.089357376098633\n",
      "tensor([[-0.0003]])\n",
      "tensor([[-0.0002]])\n",
      "4.089357376098633\n",
      "tensor([[-0.0003]])\n",
      "tensor([[-0.0002]])\n",
      "4.089357376098633\n",
      "tensor([[-0.0003]])\n",
      "tensor([[-0.0002]])\n",
      "4.089357376098633\n",
      "tensor([[-0.0003]])\n",
      "tensor([[-0.0002]])\n",
      "4.089357376098633\n",
      "tensor([[-0.0003]])\n",
      "tensor([[-0.0002]])\n",
      "4.089357376098633\n",
      "tensor([[-0.0003]])\n",
      "tensor([[-0.0002]])\n",
      "4.089357376098633\n",
      "tensor([[-0.0003]])\n",
      "tensor([[-0.0002]])\n",
      "4.089357376098633\n",
      "tensor([[-0.0003]])\n",
      "tensor([[-0.0002]])\n",
      "4.089357376098633\n",
      "tensor([[-0.0003]])\n",
      "tensor([[-0.0002]])\n",
      "4.089357376098633\n",
      "tensor([[-0.0003]])\n",
      "tensor([[-0.0002]])\n",
      "4.089357376098633\n",
      "tensor([[-0.0003]])\n",
      "tensor([[-0.0002]])\n",
      "4.089357376098633\n",
      "tensor([[-0.0003]])\n",
      "tensor([[-0.0002]])\n",
      "4.089357376098633\n",
      "tensor([[-0.0003]])\n",
      "tensor([[-0.0002]])\n",
      "4.089357376098633\n",
      "tensor([[-0.0003]])\n",
      "tensor([[-0.0002]])\n",
      "4.089357376098633\n",
      "tensor([[-0.0003]])\n",
      "tensor([[-0.0002]])\n",
      "4.089357376098633\n",
      "tensor([[-0.0003]])\n",
      "tensor([[-0.0002]])\n",
      "4.089357376098633\n",
      "tensor([[-0.0003]])\n",
      "tensor([[-0.0002]])\n",
      "4.089357376098633\n",
      "tensor([[-0.0003]])\n",
      "tensor([[-0.0002]])\n",
      "4.089357376098633\n",
      "tensor([[-0.0003]])\n",
      "tensor([[-0.0002]])\n",
      "4.089357376098633\n",
      "tensor([[-0.0003]])\n",
      "tensor([[-0.0002]])\n",
      "4.089357376098633\n",
      "tensor([[-0.0003]])\n",
      "tensor([[-0.0002]])\n",
      "4.089357376098633\n",
      "tensor([[-0.0003]])\n",
      "tensor([[-0.0002]])\n",
      "4.089357376098633\n",
      "tensor([[-0.0003]])\n",
      "tensor([[-0.0002]])\n",
      "4.089357376098633\n",
      "tensor([[-0.0003]])\n",
      "tensor([[-0.0002]])\n",
      "4.089357376098633\n",
      "tensor([[-0.0003]])\n",
      "tensor([[-0.0002]])\n",
      "4.089357376098633\n",
      "tensor([[-0.0003]])\n",
      "tensor([[-0.0002]])\n",
      "4.089357376098633\n",
      "tensor([[-0.0003]])\n",
      "tensor([[-0.0002]])\n",
      "4.089357376098633\n",
      "tensor([[-0.0003]])\n",
      "tensor([[-0.0002]])\n",
      "4.089357376098633\n",
      "tensor([[-0.0003]])\n",
      "tensor([[-0.0002]])\n",
      "4.089357376098633\n",
      "tensor([[-0.0003]])\n",
      "tensor([[-0.0002]])\n",
      "4.089357376098633\n",
      "tensor([[-0.0003]])\n",
      "tensor([[-0.0002]])\n",
      "4.089357376098633\n",
      "tensor([[-0.0003]])\n",
      "tensor([[-0.0002]])\n",
      "4.089357376098633\n",
      "tensor([[-0.0003]])\n",
      "tensor([[-0.0002]])\n",
      "4.089357376098633\n",
      "tensor([[-0.0003]])\n",
      "tensor([[-0.0002]])\n",
      "4.089357376098633\n",
      "tensor([[-0.0003]])\n",
      "tensor([[-0.0002]])\n",
      "4.089357376098633\n",
      "tensor([[-0.0003]])\n",
      "tensor([[-0.0002]])\n",
      "4.089357376098633\n",
      "tensor([[-0.0003]])\n",
      "tensor([[-0.0002]])\n",
      "4.089357376098633\n",
      "tensor([[-0.0003]])\n",
      "tensor([[-0.0002]])\n",
      "4.089357376098633\n",
      "tensor([[-0.0003]])\n",
      "tensor([[-0.0002]])\n",
      "4.089357376098633\n",
      "tensor([[-0.0003]])\n",
      "tensor([[-0.0002]])\n",
      "4.089357376098633\n",
      "tensor([[-0.0003]])\n",
      "tensor([[-0.0002]])\n",
      "4.089357376098633\n",
      "tensor([[-0.0003]])\n",
      "tensor([[-0.0002]])\n",
      "4.089357376098633\n",
      "tensor([[-0.0003]])\n",
      "tensor([[-0.0002]])\n",
      "4.089357376098633\n",
      "tensor([[-0.0003]])\n",
      "tensor([[-0.0002]])\n",
      "4.089357376098633\n",
      "tensor([[-0.0003]])\n",
      "tensor([[-0.0002]])\n",
      "4.089357376098633\n",
      "tensor([[-0.0003]])\n",
      "tensor([[-0.0002]])\n",
      "4.089357376098633\n",
      "tensor([[-0.0003]])\n",
      "tensor([[-0.0002]])\n",
      "4.089357376098633\n",
      "tensor([[-0.0003]])\n",
      "tensor([[-0.0002]])\n",
      "4.089357376098633\n",
      "tensor([[-0.0003]])\n",
      "tensor([[-0.0002]])\n",
      "4.089357376098633\n",
      "tensor([[-0.0003]])\n",
      "tensor([[-0.0002]])\n",
      "4.089357376098633\n",
      "tensor([[-0.0003]])\n",
      "tensor([[-0.0002]])\n",
      "4.089357376098633\n",
      "tensor([[-0.0003]])\n",
      "tensor([[-0.0002]])\n",
      "4.089357376098633\n",
      "tensor([[-0.0003]])\n",
      "tensor([[-0.0002]])\n",
      "4.089357376098633\n",
      "tensor([[-0.0003]])\n",
      "tensor([[-0.0002]])\n",
      "4.089357376098633\n",
      "tensor([[-0.0003]])\n",
      "tensor([[-0.0002]])\n",
      "4.089357376098633\n",
      "tensor([[-0.0003]])\n",
      "tensor([[-0.0002]])\n",
      "4.089357376098633\n",
      "tensor([[-0.0003]])\n",
      "tensor([[-0.0002]])\n",
      "4.089357376098633\n",
      "tensor([[-0.0003]])\n",
      "tensor([[-0.0002]])\n",
      "4.089357376098633\n",
      "tensor([[-0.0003]])\n",
      "tensor([[-0.0002]])\n",
      "4.089357376098633\n",
      "tensor([[-0.0003]])\n",
      "tensor([[-0.0002]])\n",
      "4.089357376098633\n",
      "tensor([[-0.0003]])\n",
      "tensor([[-0.0002]])\n",
      "4.089357376098633\n",
      "tensor([[-0.0003]])\n",
      "tensor([[-0.0002]])\n",
      "4.089357376098633\n",
      "tensor([[-0.0003]])\n",
      "tensor([[-0.0002]])\n",
      "4.089357376098633\n",
      "tensor([[-0.0003]])\n",
      "tensor([[-0.0002]])\n",
      "4.089357376098633\n",
      "tensor([[-0.0003]])\n",
      "tensor([[-0.0002]])\n",
      "4.089357376098633\n",
      "tensor([[-0.0003]])\n",
      "tensor([[-0.0002]])\n",
      "4.089357376098633\n",
      "tensor([[-0.0003]])\n",
      "tensor([[-0.0002]])\n",
      "4.089357376098633\n",
      "tensor([[-0.0003]])\n",
      "tensor([[-0.0002]])\n",
      "4.089357376098633\n",
      "tensor([[-0.0003]])\n",
      "tensor([[-0.0002]])\n",
      "4.089357376098633\n",
      "tensor([[-0.0003]])\n",
      "tensor([[-0.0002]])\n",
      "4.089357376098633\n",
      "tensor([[-0.0003]])\n",
      "tensor([[-0.0002]])\n",
      "4.089357376098633\n",
      "tensor([[-0.0003]])\n",
      "tensor([[-0.0002]])\n",
      "4.089357376098633\n",
      "tensor([[-0.0003]])\n",
      "tensor([[-0.0002]])\n",
      "4.089357376098633\n",
      "tensor([[-0.0003]])\n",
      "tensor([[-0.0002]])\n"
     ]
    }
   ],
   "source": [
    "for i in range(1, 100):\n",
    "    y_pred = X_train.mm(w1).mm(w2)\n",
    "    \n",
    "    loss = (y_pred - Y_train).pow(2).sum()\n",
    "    print(loss.item())\n",
    "    \n",
    "    loss.backward()\n",
    "    print(w1.grad)\n",
    "    print(w2.grad)\n",
    "    with torch.no_grad():\n",
    "        w1 -= learning_rate * w1.grad\n",
    "        w2 -= learning_rate * w2.grad\n",
    "        w1.grad.zero_()\n",
    "        w2.grad.zero_()"
   ]
  },
  {
   "cell_type": "code",
   "execution_count": 91,
   "metadata": {},
   "outputs": [
    {
     "data": {
      "text/plain": [
       "tensor([[1.0904],\n",
       "        [0.5568],\n",
       "        [1.7400],\n",
       "        [1.6472],\n",
       "        [0.9976],\n",
       "        [1.8133],\n",
       "        [2.0648],\n",
       "        [1.2064],\n",
       "        [1.9929],\n",
       "        [0.4872],\n",
       "        [1.8560],\n",
       "        [2.3200],\n",
       "        [1.0440],\n",
       "        [1.3920],\n",
       "        [0.9280]], grad_fn=<MmBackward>)"
      ]
     },
     "execution_count": 91,
     "metadata": {},
     "output_type": "execute_result"
    }
   ],
   "source": [
    "y_pred"
   ]
  },
  {
   "cell_type": "code",
   "execution_count": 114,
   "metadata": {},
   "outputs": [
    {
     "name": "stdout",
     "output_type": "stream",
     "text": [
      "w1:  tensor([[0.5287]], requires_grad=True)\n",
      "w2:  tensor([[0.7503]], requires_grad=True)\n"
     ]
    }
   ],
   "source": [
    "print ('w1: ', w1)\n",
    "print ('w2: ', w2)"
   ]
  },
  {
   "cell_type": "code",
   "execution_count": 95,
   "metadata": {},
   "outputs": [
    {
     "data": {
      "text/plain": [
       "numpy.ndarray"
      ]
     },
     "execution_count": 95,
     "metadata": {},
     "output_type": "execute_result"
    }
   ],
   "source": [
    "type(x_train)"
   ]
  },
  {
   "cell_type": "markdown",
   "metadata": {},
   "source": [
    "#### Checking the output"
   ]
  },
  {
   "cell_type": "markdown",
   "metadata": {},
   "source": [
    "Converting data into a tensor"
   ]
  },
  {
   "cell_type": "code",
   "execution_count": 115,
   "metadata": {},
   "outputs": [
    {
     "data": {
      "text/plain": [
       "tensor([[ 4.7000],\n",
       "        [ 2.4000],\n",
       "        [ 7.5000],\n",
       "        [ 7.1000],\n",
       "        [ 4.3000],\n",
       "        [ 7.8160],\n",
       "        [ 8.9000],\n",
       "        [ 5.2000],\n",
       "        [ 8.5900],\n",
       "        [ 2.1000],\n",
       "        [ 8.0000],\n",
       "        [10.0000],\n",
       "        [ 4.5000],\n",
       "        [ 6.0000],\n",
       "        [ 4.0000]])"
      ]
     },
     "execution_count": 115,
     "metadata": {},
     "output_type": "execute_result"
    }
   ],
   "source": [
    "x_train_tensor = torch.from_numpy(x_train)\n",
    "x_train_tensor"
   ]
  },
  {
   "cell_type": "markdown",
   "metadata": {},
   "source": [
    "#### Get the predicted values using the weights \n",
    "Using final weights calculated from our training in order to get the predicted values"
   ]
  },
  {
   "cell_type": "code",
   "execution_count": 116,
   "metadata": {},
   "outputs": [
    {
     "data": {
      "text/plain": [
       "tensor([[1.8642],\n",
       "        [0.9519],\n",
       "        [2.9748],\n",
       "        [2.8162],\n",
       "        [1.7056],\n",
       "        [3.1002],\n",
       "        [3.5301],\n",
       "        [2.0625],\n",
       "        [3.4072],\n",
       "        [0.8329],\n",
       "        [3.1731],\n",
       "        [3.9664],\n",
       "        [1.7849],\n",
       "        [2.3799],\n",
       "        [1.5866]], grad_fn=<MmBackward>)"
      ]
     },
     "execution_count": 116,
     "metadata": {},
     "output_type": "execute_result"
    }
   ],
   "source": [
    "pred_tensor = X_train.mm(w1).mm(w2)\n",
    "pred_tensor"
   ]
  },
  {
   "cell_type": "code",
   "execution_count": 109,
   "metadata": {},
   "outputs": [
    {
     "ename": "NameError",
     "evalue": "name 'x_train_tensor' is not defined",
     "output_type": "error",
     "traceback": [
      "\u001b[1;31m---------------------------------------------------------------------------\u001b[0m",
      "\u001b[1;31mNameError\u001b[0m                                 Traceback (most recent call last)",
      "\u001b[1;32m<ipython-input-109-c1d557375be3>\u001b[0m in \u001b[0;36m<module>\u001b[1;34m\u001b[0m\n\u001b[1;32m----> 1\u001b[1;33m \u001b[0mpredicted_in_tensor\u001b[0m \u001b[1;33m=\u001b[0m \u001b[0mx_train_tensor\u001b[0m\u001b[1;33m.\u001b[0m\u001b[0mmm\u001b[0m\u001b[1;33m(\u001b[0m\u001b[0mw1\u001b[0m\u001b[1;33m)\u001b[0m\u001b[1;33m.\u001b[0m\u001b[0mmm\u001b[0m\u001b[1;33m(\u001b[0m\u001b[0mw2\u001b[0m\u001b[1;33m)\u001b[0m\u001b[1;33m\u001b[0m\u001b[1;33m\u001b[0m\u001b[0m\n\u001b[0m\u001b[0;32m      2\u001b[0m \u001b[0mpredicted_in_tensor\u001b[0m\u001b[1;33m\u001b[0m\u001b[1;33m\u001b[0m\u001b[0m\n",
      "\u001b[1;31mNameError\u001b[0m: name 'x_train_tensor' is not defined"
     ]
    }
   ],
   "source": [
    "predicted_in_tensor = x_train_tensor.mm(w1).mm(w2)\n",
    "predicted_in_tensor"
   ]
  },
  {
   "cell_type": "markdown",
   "metadata": {},
   "source": [
    "#### Convert the prediction to a numpy array\n",
    "This will be used to plot the regression line in a plot"
   ]
  },
  {
   "cell_type": "code",
   "execution_count": 117,
   "metadata": {},
   "outputs": [
    {
     "data": {
      "text/plain": [
       "array([[1.8642192],\n",
       "       [0.9519418],\n",
       "       [2.974818 ],\n",
       "       [2.816161 ],\n",
       "       [1.7055625],\n",
       "       [3.100157 ],\n",
       "       [3.5301173],\n",
       "       [2.0625405],\n",
       "       [3.4071584],\n",
       "       [0.832949 ],\n",
       "       [3.1731393],\n",
       "       [3.9664242],\n",
       "       [1.7848909],\n",
       "       [2.3798544],\n",
       "       [1.5865697]], dtype=float32)"
      ]
     },
     "execution_count": 117,
     "metadata": {},
     "output_type": "execute_result"
    }
   ],
   "source": [
    "pred_np = pred_tensor.detach().numpy()\n",
    "type(pred_np)\n",
    "pred_np"
   ]
  },
  {
   "cell_type": "code",
   "execution_count": 82,
   "metadata": {},
   "outputs": [
    {
     "data": {
      "text/plain": [
       "array([[0.58360565],\n",
       "       [0.29801142],\n",
       "       [0.9312856 ],\n",
       "       [0.88161707],\n",
       "       [0.5339371 ],\n",
       "       [0.97052383],\n",
       "       [1.1051255 ],\n",
       "       [0.64569134],\n",
       "       [1.0666325 ],\n",
       "       [0.26075998],\n",
       "       [0.99337137],\n",
       "       [1.2417141 ],\n",
       "       [0.5587714 ],\n",
       "       [0.74502856],\n",
       "       [0.49668568]], dtype=float32)"
      ]
     },
     "execution_count": 82,
     "metadata": {},
     "output_type": "execute_result"
    }
   ],
   "source": [
    "predicted = predicted_in_tensor.detach().numpy()\n",
    "predicted"
   ]
  },
  {
   "cell_type": "markdown",
   "metadata": {},
   "source": [
    "#### Plotting\n",
    "Our training has produced a rather accurate regression line"
   ]
  },
  {
   "cell_type": "code",
   "execution_count": 119,
   "metadata": {},
   "outputs": [
    {
     "data": {
      "image/png": "[encoded data removed]",
      "text/plain": [
       "<Figure size 720x432 with 1 Axes>"
      ]
     },
     "metadata": {
      "needs_background": "light"
     },
     "output_type": "display_data"
    }
   ],
   "source": [
    "plt.figure(figsize=(10, 6))\n",
    "\n",
    "plt.scatter(x_train, y_train, label = 'Original data', s=100, c='g') \n",
    "plt.plot(x_train,pred_np, label = 'Fitted Line' )\n",
    "# plt.plot(x_train, predicted, label = 'Fitted line ')\n",
    "\n",
    "plt.legend() \n",
    "\n",
    "plt.show()"
   ]
  },
  {
   "cell_type": "code",
   "execution_count": null,
   "metadata": {
    "collapsed": true
   },
   "outputs": [],
   "source": []
  },
  {
   "cell_type": "code",
   "execution_count": null,
   "metadata": {
    "collapsed": true
   },
   "outputs": [],
   "source": []
  }
 ],
 "metadata": {
  "kernelspec": {
   "display_name": "Python 3",
   "language": "python",
   "name": "python3"
  },
  "language_info": {
   "codemirror_mode": {
    "name": "ipython",
    "version": 3
   },
   "file_extension": ".py",
   "mimetype": "text/x-python",
   "name": "python",
   "nbconvert_exporter": "python",
   "pygments_lexer": "ipython3",
   "version": "3.8.8"
  }
 },
 "nbformat": 4,
 "nbformat_minor": 2
}
