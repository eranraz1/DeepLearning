{
 "cells": [
  {
   "cell_type": "code",
   "execution_count": 32,
   "metadata": {},
   "outputs": [],
   "source": [
    "import numpy as np \n",
    "import torch\n",
    "import torch.nn as nn"
   ]
  },
  {
   "cell_type": "code",
   "execution_count": 33,
   "metadata": {},
   "outputs": [],
   "source": [
    "W = torch.randn(6)\n",
    "\n",
    "x = torch.tensor([10.0, 10.0, 10.0, 10.0, 10.0, 10.0])\n",
    "\n",
    "b = torch.tensor(3)"
   ]
  },
  {
   "cell_type": "code",
   "execution_count": 34,
   "metadata": {},
   "outputs": [
    {
     "data": {
      "text/plain": [
       "tensor(3)"
      ]
     },
     "execution_count": 34,
     "metadata": {},
     "output_type": "execute_result"
    }
   ],
   "source": [
    "b"
   ]
  },
  {
   "cell_type": "code",
   "execution_count": 35,
   "metadata": {},
   "outputs": [
    {
     "data": {
      "text/plain": [
       "tensor([ 1.5468,  0.5393, -1.5426,  0.0642,  0.3982, -1.3170])"
      ]
     },
     "execution_count": 35,
     "metadata": {},
     "output_type": "execute_result"
    }
   ],
   "source": [
    "W"
   ]
  },
  {
   "cell_type": "code",
   "execution_count": 36,
   "metadata": {},
   "outputs": [],
   "source": [
    "y = W*x + b"
   ]
  },
  {
   "cell_type": "code",
   "execution_count": 37,
   "metadata": {},
   "outputs": [
    {
     "data": {
      "text/plain": [
       "tensor([ 18.4684,   8.3925, -12.4261,   3.6417,   6.9820, -10.1702])"
      ]
     },
     "execution_count": 37,
     "metadata": {},
     "output_type": "execute_result"
    }
   ],
   "source": [
    "y"
   ]
  },
  {
   "cell_type": "markdown",
   "metadata": {},
   "source": [
    "#### Working Dynamically"
   ]
  },
  {
   "cell_type": "code",
   "execution_count": 38,
   "metadata": {},
   "outputs": [
    {
     "data": {
      "text/plain": [
       "tensor([ 15.4684,   5.3925, -15.4261,   0.6417,   3.9820, -13.1702])"
      ]
     },
     "execution_count": 38,
     "metadata": {},
     "output_type": "execute_result"
    }
   ],
   "source": [
    "W*x"
   ]
  },
  {
   "cell_type": "code",
   "execution_count": 39,
   "metadata": {},
   "outputs": [
    {
     "data": {
      "text/plain": [
       "tensor(3)"
      ]
     },
     "execution_count": 39,
     "metadata": {},
     "output_type": "execute_result"
    }
   ],
   "source": [
    "b"
   ]
  },
  {
   "cell_type": "code",
   "execution_count": 40,
   "metadata": {},
   "outputs": [],
   "source": [
    "W1 = torch.tensor(6)\n",
    "W2 = torch.tensor(6)\n",
    "W3 = torch.tensor(6)\n",
    "\n",
    "x1 = torch.tensor([2, 2, 2])\n",
    "x2 = torch.tensor([3, 3, 3])\n",
    "x3 = torch.tensor([4, 4, 4])\n",
    "\n",
    "b = torch.tensor(10)"
   ]
  },
  {
   "cell_type": "code",
   "execution_count": 41,
   "metadata": {},
   "outputs": [
    {
     "data": {
      "text/plain": [
       "(tensor(6), tensor(6), tensor(6))"
      ]
     },
     "execution_count": 41,
     "metadata": {},
     "output_type": "execute_result"
    }
   ],
   "source": [
    "W1, W2, W3"
   ]
  },
  {
   "cell_type": "code",
   "execution_count": 42,
   "metadata": {},
   "outputs": [
    {
     "data": {
      "text/plain": [
       "tensor([30, 30, 30])"
      ]
     },
     "execution_count": 42,
     "metadata": {},
     "output_type": "execute_result"
    }
   ],
   "source": [
    "intermediate_value = W1 * x1 + W2 * x2\n",
    "\n",
    "intermediate_value"
   ]
  },
  {
   "cell_type": "code",
   "execution_count": 43,
   "metadata": {},
   "outputs": [
    {
     "name": "stdout",
     "output_type": "stream",
     "text": [
      "tensor([30, 30, 30])\n"
     ]
    }
   ],
   "source": [
    "print(intermediate_value)"
   ]
  },
  {
   "cell_type": "code",
   "execution_count": 44,
   "metadata": {},
   "outputs": [
    {
     "data": {
      "text/plain": [
       "tensor([64, 64, 64])"
      ]
     },
     "execution_count": 44,
     "metadata": {},
     "output_type": "execute_result"
    }
   ],
   "source": [
    "final_value = (W1 * x1) + (W2 * x2) + (W3 * x3) + b\n",
    "\n",
    "final_value"
   ]
  },
  {
   "cell_type": "markdown",
   "metadata": {},
   "source": [
    "### Viewing PyTorch computation graphs\n",
    "\n",
    "https://github.com/waleedka/hiddenlayer"
   ]
  },
  {
   "cell_type": "markdown",
   "metadata": {},
   "source": [
    "#### Computation Graph"
   ]
  },
  {
   "cell_type": "code",
   "execution_count": 45,
   "metadata": {},
   "outputs": [],
   "source": [
    "import hiddenlayer as hl"
   ]
  },
  {
   "cell_type": "code",
   "execution_count": 46,
   "metadata": {},
   "outputs": [],
   "source": [
    "x_train = np.array ([[1.7], [2.5], [5.5], [7.9], [8.8],\n",
    "                     [2.4],[2.4], [8.89], [5], [4.4]],\n",
    "                    dtype = np.float32)\n",
    "\n",
    "y_train = np.array ([[1.9], [2.68], [4.22], [8.19], [9.69],\n",
    "                     [3.4],[2.6], [8.8], [5.6], [4.7]],\n",
    "                    dtype = np.float32)"
   ]
  },
  {
   "cell_type": "code",
   "execution_count": 47,
   "metadata": {},
   "outputs": [
    {
     "data": {
      "text/plain": [
       "torch.Size([10, 1])"
      ]
     },
     "execution_count": 47,
     "metadata": {},
     "output_type": "execute_result"
    }
   ],
   "source": [
    "X_train = torch.tensor(x_train)\n",
    "Y_train = torch.tensor(y_train)\n",
    "\n",
    "Y_train.shape"
   ]
  },
  {
   "cell_type": "code",
   "execution_count": 48,
   "metadata": {},
   "outputs": [],
   "source": [
    "inp = 1\n",
    "out = 1\n",
    "\n",
    "hid = 100"
   ]
  },
  {
   "cell_type": "code",
   "execution_count": 50,
   "metadata": {},
   "outputs": [],
   "source": [
    "model1 = torch.nn.Sequential(torch.nn.Linear(inp, hid),\n",
    "                             torch.nn.Linear(hid, out))"
   ]
  },
  {
   "cell_type": "code",
   "execution_count": 51,
   "metadata": {},
   "outputs": [
    {
     "name": "stderr",
     "output_type": "stream",
     "text": [
      "\r\n",
      "(dot.exe:508): Pango-WARNING **: couldn't load font \"Times Not-Rotated 10\", falling back to \"Sans Not-Rotated 10\", expect ugly output.\r\n"
     ]
    },
    {
     "data": {
      "image/svg+xml": [
       "<?xml version=\"1.0\" encoding=\"UTF-8\" standalone=\"no\"?>\r\n",
       "<!DOCTYPE svg PUBLIC \"-//W3C//DTD SVG 1.1//EN\"\r\n",
       " \"http://www.w3.org/Graphics/SVG/1.1/DTD/svg11.dtd\">\r\n",
       "<!-- Generated by graphviz version 2.38.0 (20140413.2041)\r\n",
       " -->\r\n",
       "<!-- Title: %3 Pages: 1 -->\r\n",
       "<svg width=\"198pt\" height=\"116pt\"\r\n",
       " viewBox=\"0.00 0.00 198.00 116.00\" xmlns=\"http://www.w3.org/2000/svg\" xmlns:xlink=\"http://www.w3.org/1999/xlink\">\r\n",
       "<g id=\"graph0\" class=\"graph\" transform=\"scale(1 1) rotate(0) translate(72 80)\">\r\n",
       "<title>%3</title>\r\n",
       "<polygon fill=\"#ffffff\" stroke=\"none\" points=\"-72,36 -72,-80 126,-80 126,36 -72,36\"/>\r\n",
       "<!-- 2547221357707524740 -->\r\n",
       "<g id=\"node1\" class=\"node\"><title>2547221357707524740</title>\r\n",
       "<polygon fill=\"#e8e8e8\" stroke=\"#000000\" points=\"54,-44 0,-44 0,-0 54,-0 54,-44\"/>\r\n",
       "<text text-anchor=\"start\" x=\"14\" y=\"-28\" font-family=\"Times\" font-size=\"10.00\" fill=\"#000000\">Linear</text>\r\n",
       "<text text-anchor=\"start\" x=\"35\" y=\"-7\" font-family=\"Times\" font-size=\"10.00\" fill=\"#000000\">x2</text>\r\n",
       "</g>\r\n",
       "</g>\r\n",
       "</svg>\r\n"
      ],
      "text/plain": [
       "<hiddenlayer.graph.Graph at 0x253ec3526d0>"
      ]
     },
     "execution_count": 51,
     "metadata": {},
     "output_type": "execute_result"
    }
   ],
   "source": [
    "hl.build_graph(model1, torch.zeros([10, 1]))"
   ]
  },
  {
   "cell_type": "code",
   "execution_count": 52,
   "metadata": {},
   "outputs": [
    {
     "name": "stderr",
     "output_type": "stream",
     "text": [
      "\r\n",
      "(dot.exe:6700): Pango-WARNING **: couldn't load font \"Times Not-Rotated 10\", falling back to \"Sans Not-Rotated 10\", expect ugly output.\r\n"
     ]
    },
    {
     "data": {
      "image/svg+xml": [
       "<?xml version=\"1.0\" encoding=\"UTF-8\" standalone=\"no\"?>\r\n",
       "<!DOCTYPE svg PUBLIC \"-//W3C//DTD SVG 1.1//EN\"\r\n",
       " \"http://www.w3.org/Graphics/SVG/1.1/DTD/svg11.dtd\">\r\n",
       "<!-- Generated by graphviz version 2.38.0 (20140413.2041)\r\n",
       " -->\r\n",
       "<!-- Title: %3 Pages: 1 -->\r\n",
       "<svg width=\"574pt\" height=\"162pt\"\r\n",
       " viewBox=\"0.00 0.00 574.00 162.00\" xmlns=\"http://www.w3.org/2000/svg\" xmlns:xlink=\"http://www.w3.org/1999/xlink\">\r\n",
       "<g id=\"graph0\" class=\"graph\" transform=\"scale(1 1) rotate(0) translate(72 126)\">\r\n",
       "<title>%3</title>\r\n",
       "<polygon fill=\"#ffffff\" stroke=\"none\" points=\"-72,36 -72,-126 502,-126 502,36 -72,36\"/>\r\n",
       "<!-- /outputs/5 -->\r\n",
       "<g id=\"node1\" class=\"node\"><title>/outputs/5</title>\r\n",
       "<polygon fill=\"#e8e8e8\" stroke=\"#000000\" points=\"62,-90 0,-90 0,-54 62,-54 62,-90\"/>\r\n",
       "<text text-anchor=\"start\" x=\"8\" y=\"-69\" font-family=\"Times\" font-size=\"10.00\" fill=\"#000000\">Transpose</text>\r\n",
       "</g>\r\n",
       "<!-- /outputs/6 -->\r\n",
       "<g id=\"node2\" class=\"node\"><title>/outputs/6</title>\r\n",
       "<polygon fill=\"#e8e8e8\" stroke=\"#000000\" points=\"152,-90 98,-90 98,-54 152,-54 152,-90\"/>\r\n",
       "<text text-anchor=\"start\" x=\"110\" y=\"-69\" font-family=\"Times\" font-size=\"10.00\" fill=\"#000000\">MatMul</text>\r\n",
       "</g>\r\n",
       "<!-- /outputs/5&#45;&gt;/outputs/6 -->\r\n",
       "<g id=\"edge1\" class=\"edge\"><title>/outputs/5&#45;&gt;/outputs/6</title>\r\n",
       "<path fill=\"none\" stroke=\"#000000\" d=\"M62.1242,-72C70.3206,-72 79.2835,-72 87.7797,-72\"/>\r\n",
       "<polygon fill=\"#000000\" stroke=\"#000000\" points=\"87.8288,-75.5001 97.8288,-72 87.8288,-68.5001 87.8288,-75.5001\"/>\r\n",
       "</g>\r\n",
       "<!-- /outputs/7 -->\r\n",
       "<g id=\"node3\" class=\"node\"><title>/outputs/7</title>\r\n",
       "<polygon fill=\"#e8e8e8\" stroke=\"#000000\" points=\"246,-90 192,-90 192,-54 246,-54 246,-90\"/>\r\n",
       "<text text-anchor=\"start\" x=\"211\" y=\"-69\" font-family=\"Times\" font-size=\"10.00\" fill=\"#000000\">Add</text>\r\n",
       "</g>\r\n",
       "<!-- /outputs/6&#45;&gt;/outputs/7 -->\r\n",
       "<g id=\"edge2\" class=\"edge\"><title>/outputs/6&#45;&gt;/outputs/7</title>\r\n",
       "<path fill=\"none\" stroke=\"#000000\" d=\"M152.117,-72C161.343,-72 171.891,-72 181.802,-72\"/>\r\n",
       "<polygon fill=\"#000000\" stroke=\"#000000\" points=\"181.817,-75.5001 191.817,-72 181.817,-68.5001 181.817,-75.5001\"/>\r\n",
       "</g>\r\n",
       "<!-- /outputs/9 -->\r\n",
       "<g id=\"node5\" class=\"node\"><title>/outputs/9</title>\r\n",
       "<polygon fill=\"#e8e8e8\" stroke=\"#000000\" points=\"340,-63 286,-63 286,-27 340,-27 340,-63\"/>\r\n",
       "<text text-anchor=\"start\" x=\"298\" y=\"-42\" font-family=\"Times\" font-size=\"10.00\" fill=\"#000000\">MatMul</text>\r\n",
       "</g>\r\n",
       "<!-- /outputs/7&#45;&gt;/outputs/9 -->\r\n",
       "<g id=\"edge3\" class=\"edge\"><title>/outputs/7&#45;&gt;/outputs/9</title>\r\n",
       "<path fill=\"none\" stroke=\"#000000\" d=\"M246.117,-64.3351C255.441,-61.599 266.113,-58.4668 276.114,-55.5316\"/>\r\n",
       "<polygon fill=\"#000000\" stroke=\"#000000\" points=\"277.208,-58.8585 285.817,-52.6841 275.236,-52.1418 277.208,-58.8585\"/>\r\n",
       "</g>\r\n",
       "<!-- /outputs/8 -->\r\n",
       "<g id=\"node4\" class=\"node\"><title>/outputs/8</title>\r\n",
       "<polygon fill=\"#e8e8e8\" stroke=\"#000000\" points=\"250,-36 188,-36 188,-0 250,-0 250,-36\"/>\r\n",
       "<text text-anchor=\"start\" x=\"196\" y=\"-15\" font-family=\"Times\" font-size=\"10.00\" fill=\"#000000\">Transpose</text>\r\n",
       "</g>\r\n",
       "<!-- /outputs/8&#45;&gt;/outputs/9 -->\r\n",
       "<g id=\"edge4\" class=\"edge\"><title>/outputs/8&#45;&gt;/outputs/9</title>\r\n",
       "<path fill=\"none\" stroke=\"#000000\" d=\"M250.124,-26.8408C258.411,-29.2727 267.481,-31.9345 276.06,-34.4523\"/>\r\n",
       "<polygon fill=\"#000000\" stroke=\"#000000\" points=\"275.248,-37.8616 285.829,-37.3193 277.219,-31.1449 275.248,-37.8616\"/>\r\n",
       "</g>\r\n",
       "<!-- /outputs/10 -->\r\n",
       "<g id=\"node6\" class=\"node\"><title>/outputs/10</title>\r\n",
       "<polygon fill=\"#e8e8e8\" stroke=\"#000000\" points=\"430,-63 376,-63 376,-27 430,-27 430,-63\"/>\r\n",
       "<text text-anchor=\"start\" x=\"395\" y=\"-42\" font-family=\"Times\" font-size=\"10.00\" fill=\"#000000\">Add</text>\r\n",
       "</g>\r\n",
       "<!-- /outputs/9&#45;&gt;/outputs/10 -->\r\n",
       "<g id=\"edge5\" class=\"edge\"><title>/outputs/9&#45;&gt;/outputs/10</title>\r\n",
       "<path fill=\"none\" stroke=\"#000000\" d=\"M340.403,-45C348.393,-45 357.311,-45 365.824,-45\"/>\r\n",
       "<polygon fill=\"#000000\" stroke=\"#000000\" points=\"365.919,-48.5001 375.919,-45 365.919,-41.5001 365.919,-48.5001\"/>\r\n",
       "</g>\r\n",
       "</g>\r\n",
       "</svg>\r\n"
      ],
      "text/plain": [
       "<hiddenlayer.graph.Graph at 0x253ec3588b0>"
      ]
     },
     "execution_count": 52,
     "metadata": {},
     "output_type": "execute_result"
    }
   ],
   "source": [
    "hl.build_graph(model1, torch.zeros([1]))"
   ]
  },
  {
   "cell_type": "code",
   "execution_count": 54,
   "metadata": {},
   "outputs": [],
   "source": [
    "model2 = torch.nn.Sequential(torch.nn.Linear(inp, hid),\n",
    "                             torch.nn.Linear(hid, hid),\n",
    "                             torch.nn.Sigmoid(),\n",
    "                             torch.nn.Linear(hid, out))"
   ]
  },
  {
   "cell_type": "code",
   "execution_count": 55,
   "metadata": {},
   "outputs": [
    {
     "name": "stderr",
     "output_type": "stream",
     "text": [
      "\r\n",
      "(dot.exe:22396): Pango-WARNING **: couldn't load font \"Times Not-Rotated 10\", falling back to \"Sans Not-Rotated 10\", expect ugly output.\r\n"
     ]
    },
    {
     "data": {
      "image/svg+xml": [
       "<?xml version=\"1.0\" encoding=\"UTF-8\" standalone=\"no\"?>\r\n",
       "<!DOCTYPE svg PUBLIC \"-//W3C//DTD SVG 1.1//EN\"\r\n",
       " \"http://www.w3.org/Graphics/SVG/1.1/DTD/svg11.dtd\">\r\n",
       "<!-- Generated by graphviz version 2.38.0 (20140413.2041)\r\n",
       " -->\r\n",
       "<!-- Title: %3 Pages: 1 -->\r\n",
       "<svg width=\"378pt\" height=\"116pt\"\r\n",
       " viewBox=\"0.00 0.00 378.00 116.00\" xmlns=\"http://www.w3.org/2000/svg\" xmlns:xlink=\"http://www.w3.org/1999/xlink\">\r\n",
       "<g id=\"graph0\" class=\"graph\" transform=\"scale(1 1) rotate(0) translate(72 80)\">\r\n",
       "<title>%3</title>\r\n",
       "<polygon fill=\"#ffffff\" stroke=\"none\" points=\"-72,36 -72,-80 306,-80 306,36 -72,36\"/>\r\n",
       "<!-- /outputs/9 -->\r\n",
       "<g id=\"node1\" class=\"node\"><title>/outputs/9</title>\r\n",
       "<polygon fill=\"#e8e8e8\" stroke=\"#000000\" points=\"144,-40 90,-40 90,-4 144,-4 144,-40\"/>\r\n",
       "<text text-anchor=\"start\" x=\"100\" y=\"-19\" font-family=\"Times\" font-size=\"10.00\" fill=\"#000000\">Sigmoid</text>\r\n",
       "</g>\r\n",
       "<!-- /outputs/10 -->\r\n",
       "<g id=\"node2\" class=\"node\"><title>/outputs/10</title>\r\n",
       "<polygon fill=\"#e8e8e8\" stroke=\"#000000\" points=\"234,-40 180,-40 180,-4 234,-4 234,-40\"/>\r\n",
       "<text text-anchor=\"start\" x=\"194\" y=\"-19\" font-family=\"Times\" font-size=\"10.00\" fill=\"#000000\">Linear</text>\r\n",
       "</g>\r\n",
       "<!-- /outputs/9&#45;&gt;/outputs/10 -->\r\n",
       "<g id=\"edge1\" class=\"edge\"><title>/outputs/9&#45;&gt;/outputs/10</title>\r\n",
       "<path fill=\"none\" stroke=\"#000000\" d=\"M144.403,-22C152.393,-22 161.311,-22 169.824,-22\"/>\r\n",
       "<polygon fill=\"#000000\" stroke=\"#000000\" points=\"169.919,-25.5001 179.919,-22 169.919,-18.5001 169.919,-25.5001\"/>\r\n",
       "</g>\r\n",
       "<!-- 7824754766960087518 -->\r\n",
       "<g id=\"node3\" class=\"node\"><title>7824754766960087518</title>\r\n",
       "<polygon fill=\"#e8e8e8\" stroke=\"#000000\" points=\"54,-44 0,-44 0,-0 54,-0 54,-44\"/>\r\n",
       "<text text-anchor=\"start\" x=\"14\" y=\"-28\" font-family=\"Times\" font-size=\"10.00\" fill=\"#000000\">Linear</text>\r\n",
       "<text text-anchor=\"start\" x=\"35\" y=\"-7\" font-family=\"Times\" font-size=\"10.00\" fill=\"#000000\">x2</text>\r\n",
       "</g>\r\n",
       "<!-- 7824754766960087518&#45;&gt;/outputs/9 -->\r\n",
       "<g id=\"edge2\" class=\"edge\"><title>7824754766960087518&#45;&gt;/outputs/9</title>\r\n",
       "<path fill=\"none\" stroke=\"#000000\" d=\"M54.4029,-22C62.3932,-22 71.3106,-22 79.8241,-22\"/>\r\n",
       "<polygon fill=\"#000000\" stroke=\"#000000\" points=\"79.919,-25.5001 89.919,-22 79.919,-18.5001 79.919,-25.5001\"/>\r\n",
       "</g>\r\n",
       "</g>\r\n",
       "</svg>\r\n"
      ],
      "text/plain": [
       "<hiddenlayer.graph.Graph at 0x253ec2755b0>"
      ]
     },
     "execution_count": 55,
     "metadata": {},
     "output_type": "execute_result"
    }
   ],
   "source": [
    "hl.build_graph(model2, torch.zeros([10, 1]))"
   ]
  },
  {
   "cell_type": "code",
   "execution_count": 56,
   "metadata": {},
   "outputs": [
    {
     "name": "stderr",
     "output_type": "stream",
     "text": [
      "\r\n",
      "(dot.exe:21540): Pango-WARNING **: couldn't load font \"Times Not-Rotated 10\", falling back to \"Sans Not-Rotated 10\", expect ugly output.\r\n"
     ]
    },
    {
     "data": {
      "image/svg+xml": [
       "<?xml version=\"1.0\" encoding=\"UTF-8\" standalone=\"no\"?>\r\n",
       "<!DOCTYPE svg PUBLIC \"-//W3C//DTD SVG 1.1//EN\"\r\n",
       " \"http://www.w3.org/Graphics/SVG/1.1/DTD/svg11.dtd\">\r\n",
       "<!-- Generated by graphviz version 2.38.0 (20140413.2041)\r\n",
       " -->\r\n",
       "<!-- Title: %3 Pages: 1 -->\r\n",
       "<svg width=\"852pt\" height=\"189pt\"\r\n",
       " viewBox=\"0.00 0.00 852.00 189.00\" xmlns=\"http://www.w3.org/2000/svg\" xmlns:xlink=\"http://www.w3.org/1999/xlink\">\r\n",
       "<g id=\"graph0\" class=\"graph\" transform=\"scale(1 1) rotate(0) translate(72 153)\">\r\n",
       "<title>%3</title>\r\n",
       "<polygon fill=\"#ffffff\" stroke=\"none\" points=\"-72,36 -72,-153 780,-153 780,36 -72,36\"/>\r\n",
       "<!-- /outputs/7 -->\r\n",
       "<g id=\"node1\" class=\"node\"><title>/outputs/7</title>\r\n",
       "<polygon fill=\"#e8e8e8\" stroke=\"#000000\" points=\"62,-117 0,-117 0,-81 62,-81 62,-117\"/>\r\n",
       "<text text-anchor=\"start\" x=\"8\" y=\"-96\" font-family=\"Times\" font-size=\"10.00\" fill=\"#000000\">Transpose</text>\r\n",
       "</g>\r\n",
       "<!-- /outputs/8 -->\r\n",
       "<g id=\"node2\" class=\"node\"><title>/outputs/8</title>\r\n",
       "<polygon fill=\"#e8e8e8\" stroke=\"#000000\" points=\"152,-117 98,-117 98,-81 152,-81 152,-117\"/>\r\n",
       "<text text-anchor=\"start\" x=\"110\" y=\"-96\" font-family=\"Times\" font-size=\"10.00\" fill=\"#000000\">MatMul</text>\r\n",
       "</g>\r\n",
       "<!-- /outputs/7&#45;&gt;/outputs/8 -->\r\n",
       "<g id=\"edge1\" class=\"edge\"><title>/outputs/7&#45;&gt;/outputs/8</title>\r\n",
       "<path fill=\"none\" stroke=\"#000000\" d=\"M62.1242,-99C70.3206,-99 79.2835,-99 87.7797,-99\"/>\r\n",
       "<polygon fill=\"#000000\" stroke=\"#000000\" points=\"87.8288,-102.5 97.8288,-99 87.8288,-95.5001 87.8288,-102.5\"/>\r\n",
       "</g>\r\n",
       "<!-- /outputs/9 -->\r\n",
       "<g id=\"node3\" class=\"node\"><title>/outputs/9</title>\r\n",
       "<polygon fill=\"#e8e8e8\" stroke=\"#000000\" points=\"246,-117 192,-117 192,-81 246,-81 246,-117\"/>\r\n",
       "<text text-anchor=\"start\" x=\"211\" y=\"-96\" font-family=\"Times\" font-size=\"10.00\" fill=\"#000000\">Add</text>\r\n",
       "</g>\r\n",
       "<!-- /outputs/8&#45;&gt;/outputs/9 -->\r\n",
       "<g id=\"edge2\" class=\"edge\"><title>/outputs/8&#45;&gt;/outputs/9</title>\r\n",
       "<path fill=\"none\" stroke=\"#000000\" d=\"M152.117,-99C161.343,-99 171.891,-99 181.802,-99\"/>\r\n",
       "<polygon fill=\"#000000\" stroke=\"#000000\" points=\"181.817,-102.5 191.817,-99 181.817,-95.5001 181.817,-102.5\"/>\r\n",
       "</g>\r\n",
       "<!-- /outputs/11 -->\r\n",
       "<g id=\"node5\" class=\"node\"><title>/outputs/11</title>\r\n",
       "<polygon fill=\"#e8e8e8\" stroke=\"#000000\" points=\"340,-90 286,-90 286,-54 340,-54 340,-90\"/>\r\n",
       "<text text-anchor=\"start\" x=\"298\" y=\"-69\" font-family=\"Times\" font-size=\"10.00\" fill=\"#000000\">MatMul</text>\r\n",
       "</g>\r\n",
       "<!-- /outputs/9&#45;&gt;/outputs/11 -->\r\n",
       "<g id=\"edge3\" class=\"edge\"><title>/outputs/9&#45;&gt;/outputs/11</title>\r\n",
       "<path fill=\"none\" stroke=\"#000000\" d=\"M246.117,-91.3351C255.441,-88.599 266.113,-85.4668 276.114,-82.5316\"/>\r\n",
       "<polygon fill=\"#000000\" stroke=\"#000000\" points=\"277.208,-85.8585 285.817,-79.6841 275.236,-79.1418 277.208,-85.8585\"/>\r\n",
       "</g>\r\n",
       "<!-- /outputs/10 -->\r\n",
       "<g id=\"node4\" class=\"node\"><title>/outputs/10</title>\r\n",
       "<polygon fill=\"#e8e8e8\" stroke=\"#000000\" points=\"250,-63 188,-63 188,-27 250,-27 250,-63\"/>\r\n",
       "<text text-anchor=\"start\" x=\"196\" y=\"-42\" font-family=\"Times\" font-size=\"10.00\" fill=\"#000000\">Transpose</text>\r\n",
       "</g>\r\n",
       "<!-- /outputs/10&#45;&gt;/outputs/11 -->\r\n",
       "<g id=\"edge4\" class=\"edge\"><title>/outputs/10&#45;&gt;/outputs/11</title>\r\n",
       "<path fill=\"none\" stroke=\"#000000\" d=\"M250.124,-53.8408C258.411,-56.2727 267.481,-58.9345 276.06,-61.4523\"/>\r\n",
       "<polygon fill=\"#000000\" stroke=\"#000000\" points=\"275.248,-64.8616 285.829,-64.3193 277.219,-58.1449 275.248,-64.8616\"/>\r\n",
       "</g>\r\n",
       "<!-- /outputs/12 -->\r\n",
       "<g id=\"node6\" class=\"node\"><title>/outputs/12</title>\r\n",
       "<polygon fill=\"#e8e8e8\" stroke=\"#000000\" points=\"430,-90 376,-90 376,-54 430,-54 430,-90\"/>\r\n",
       "<text text-anchor=\"start\" x=\"395\" y=\"-69\" font-family=\"Times\" font-size=\"10.00\" fill=\"#000000\">Add</text>\r\n",
       "</g>\r\n",
       "<!-- /outputs/11&#45;&gt;/outputs/12 -->\r\n",
       "<g id=\"edge5\" class=\"edge\"><title>/outputs/11&#45;&gt;/outputs/12</title>\r\n",
       "<path fill=\"none\" stroke=\"#000000\" d=\"M340.403,-72C348.393,-72 357.311,-72 365.824,-72\"/>\r\n",
       "<polygon fill=\"#000000\" stroke=\"#000000\" points=\"365.919,-75.5001 375.919,-72 365.919,-68.5001 365.919,-75.5001\"/>\r\n",
       "</g>\r\n",
       "<!-- /outputs/13 -->\r\n",
       "<g id=\"node7\" class=\"node\"><title>/outputs/13</title>\r\n",
       "<polygon fill=\"#e8e8e8\" stroke=\"#000000\" points=\"524,-90 470,-90 470,-54 524,-54 524,-90\"/>\r\n",
       "<text text-anchor=\"start\" x=\"480\" y=\"-69\" font-family=\"Times\" font-size=\"10.00\" fill=\"#000000\">Sigmoid</text>\r\n",
       "</g>\r\n",
       "<!-- /outputs/12&#45;&gt;/outputs/13 -->\r\n",
       "<g id=\"edge6\" class=\"edge\"><title>/outputs/12&#45;&gt;/outputs/13</title>\r\n",
       "<path fill=\"none\" stroke=\"#000000\" d=\"M430.117,-72C439.343,-72 449.891,-72 459.802,-72\"/>\r\n",
       "<polygon fill=\"#000000\" stroke=\"#000000\" points=\"459.817,-75.5001 469.817,-72 459.817,-68.5001 459.817,-75.5001\"/>\r\n",
       "</g>\r\n",
       "<!-- /outputs/15 -->\r\n",
       "<g id=\"node9\" class=\"node\"><title>/outputs/15</title>\r\n",
       "<polygon fill=\"#e8e8e8\" stroke=\"#000000\" points=\"618,-63 564,-63 564,-27 618,-27 618,-63\"/>\r\n",
       "<text text-anchor=\"start\" x=\"576\" y=\"-42\" font-family=\"Times\" font-size=\"10.00\" fill=\"#000000\">MatMul</text>\r\n",
       "</g>\r\n",
       "<!-- /outputs/13&#45;&gt;/outputs/15 -->\r\n",
       "<g id=\"edge7\" class=\"edge\"><title>/outputs/13&#45;&gt;/outputs/15</title>\r\n",
       "<path fill=\"none\" stroke=\"#000000\" d=\"M524.117,-64.3351C533.441,-61.599 544.113,-58.4668 554.114,-55.5316\"/>\r\n",
       "<polygon fill=\"#000000\" stroke=\"#000000\" points=\"555.208,-58.8585 563.817,-52.6841 553.236,-52.1418 555.208,-58.8585\"/>\r\n",
       "</g>\r\n",
       "<!-- /outputs/14 -->\r\n",
       "<g id=\"node8\" class=\"node\"><title>/outputs/14</title>\r\n",
       "<polygon fill=\"#e8e8e8\" stroke=\"#000000\" points=\"528,-36 466,-36 466,-0 528,-0 528,-36\"/>\r\n",
       "<text text-anchor=\"start\" x=\"474\" y=\"-15\" font-family=\"Times\" font-size=\"10.00\" fill=\"#000000\">Transpose</text>\r\n",
       "</g>\r\n",
       "<!-- /outputs/14&#45;&gt;/outputs/15 -->\r\n",
       "<g id=\"edge8\" class=\"edge\"><title>/outputs/14&#45;&gt;/outputs/15</title>\r\n",
       "<path fill=\"none\" stroke=\"#000000\" d=\"M528.124,-26.8408C536.411,-29.2727 545.481,-31.9345 554.06,-34.4523\"/>\r\n",
       "<polygon fill=\"#000000\" stroke=\"#000000\" points=\"553.248,-37.8616 563.829,-37.3193 555.219,-31.1449 553.248,-37.8616\"/>\r\n",
       "</g>\r\n",
       "<!-- /outputs/16 -->\r\n",
       "<g id=\"node10\" class=\"node\"><title>/outputs/16</title>\r\n",
       "<polygon fill=\"#e8e8e8\" stroke=\"#000000\" points=\"708,-63 654,-63 654,-27 708,-27 708,-63\"/>\r\n",
       "<text text-anchor=\"start\" x=\"673\" y=\"-42\" font-family=\"Times\" font-size=\"10.00\" fill=\"#000000\">Add</text>\r\n",
       "</g>\r\n",
       "<!-- /outputs/15&#45;&gt;/outputs/16 -->\r\n",
       "<g id=\"edge9\" class=\"edge\"><title>/outputs/15&#45;&gt;/outputs/16</title>\r\n",
       "<path fill=\"none\" stroke=\"#000000\" d=\"M618.403,-45C626.393,-45 635.311,-45 643.824,-45\"/>\r\n",
       "<polygon fill=\"#000000\" stroke=\"#000000\" points=\"643.919,-48.5001 653.919,-45 643.919,-41.5001 643.919,-48.5001\"/>\r\n",
       "</g>\r\n",
       "</g>\r\n",
       "</svg>\r\n"
      ],
      "text/plain": [
       "<hiddenlayer.graph.Graph at 0x253ec35dcd0>"
      ]
     },
     "execution_count": 56,
     "metadata": {},
     "output_type": "execute_result"
    }
   ],
   "source": [
    "hl.build_graph(model2, torch.zeros([1]))"
   ]
  },
  {
   "cell_type": "code",
   "execution_count": 57,
   "metadata": {},
   "outputs": [],
   "source": [
    "inp = 2\n",
    "out = 1\n",
    "\n",
    "hid = 100"
   ]
  },
  {
   "cell_type": "code",
   "execution_count": 58,
   "metadata": {},
   "outputs": [],
   "source": [
    "model3 = torch.nn.Sequential(torch.nn.Linear(inp, hid),\n",
    "                             torch.nn.Linear(hid, hid),\n",
    "                             torch.nn.Sigmoid(),\n",
    "                             torch.nn.Linear(hid, out))"
   ]
  },
  {
   "cell_type": "code",
   "execution_count": 59,
   "metadata": {},
   "outputs": [
    {
     "name": "stderr",
     "output_type": "stream",
     "text": [
      "\r\n",
      "(dot.exe:15252): Pango-WARNING **: couldn't load font \"Times Not-Rotated 10\", falling back to \"Sans Not-Rotated 10\", expect ugly output.\r\n"
     ]
    },
    {
     "data": {
      "image/svg+xml": [
       "<?xml version=\"1.0\" encoding=\"UTF-8\" standalone=\"no\"?>\r\n",
       "<!DOCTYPE svg PUBLIC \"-//W3C//DTD SVG 1.1//EN\"\r\n",
       " \"http://www.w3.org/Graphics/SVG/1.1/DTD/svg11.dtd\">\r\n",
       "<!-- Generated by graphviz version 2.38.0 (20140413.2041)\r\n",
       " -->\r\n",
       "<!-- Title: %3 Pages: 1 -->\r\n",
       "<svg width=\"378pt\" height=\"116pt\"\r\n",
       " viewBox=\"0.00 0.00 378.00 116.00\" xmlns=\"http://www.w3.org/2000/svg\" xmlns:xlink=\"http://www.w3.org/1999/xlink\">\r\n",
       "<g id=\"graph0\" class=\"graph\" transform=\"scale(1 1) rotate(0) translate(72 80)\">\r\n",
       "<title>%3</title>\r\n",
       "<polygon fill=\"#ffffff\" stroke=\"none\" points=\"-72,36 -72,-80 306,-80 306,36 -72,36\"/>\r\n",
       "<!-- /outputs/9 -->\r\n",
       "<g id=\"node1\" class=\"node\"><title>/outputs/9</title>\r\n",
       "<polygon fill=\"#e8e8e8\" stroke=\"#000000\" points=\"144,-40 90,-40 90,-4 144,-4 144,-40\"/>\r\n",
       "<text text-anchor=\"start\" x=\"100\" y=\"-19\" font-family=\"Times\" font-size=\"10.00\" fill=\"#000000\">Sigmoid</text>\r\n",
       "</g>\r\n",
       "<!-- /outputs/10 -->\r\n",
       "<g id=\"node2\" class=\"node\"><title>/outputs/10</title>\r\n",
       "<polygon fill=\"#e8e8e8\" stroke=\"#000000\" points=\"234,-40 180,-40 180,-4 234,-4 234,-40\"/>\r\n",
       "<text text-anchor=\"start\" x=\"194\" y=\"-19\" font-family=\"Times\" font-size=\"10.00\" fill=\"#000000\">Linear</text>\r\n",
       "</g>\r\n",
       "<!-- /outputs/9&#45;&gt;/outputs/10 -->\r\n",
       "<g id=\"edge1\" class=\"edge\"><title>/outputs/9&#45;&gt;/outputs/10</title>\r\n",
       "<path fill=\"none\" stroke=\"#000000\" d=\"M144.403,-22C152.393,-22 161.311,-22 169.824,-22\"/>\r\n",
       "<polygon fill=\"#000000\" stroke=\"#000000\" points=\"169.919,-25.5001 179.919,-22 169.919,-18.5001 169.919,-25.5001\"/>\r\n",
       "</g>\r\n",
       "<!-- 14779762716665095619 -->\r\n",
       "<g id=\"node3\" class=\"node\"><title>14779762716665095619</title>\r\n",
       "<polygon fill=\"#e8e8e8\" stroke=\"#000000\" points=\"54,-44 0,-44 0,-0 54,-0 54,-44\"/>\r\n",
       "<text text-anchor=\"start\" x=\"14\" y=\"-28\" font-family=\"Times\" font-size=\"10.00\" fill=\"#000000\">Linear</text>\r\n",
       "<text text-anchor=\"start\" x=\"35\" y=\"-7\" font-family=\"Times\" font-size=\"10.00\" fill=\"#000000\">x2</text>\r\n",
       "</g>\r\n",
       "<!-- 14779762716665095619&#45;&gt;/outputs/9 -->\r\n",
       "<g id=\"edge2\" class=\"edge\"><title>14779762716665095619&#45;&gt;/outputs/9</title>\r\n",
       "<path fill=\"none\" stroke=\"#000000\" d=\"M54.4029,-22C62.3932,-22 71.3106,-22 79.8241,-22\"/>\r\n",
       "<polygon fill=\"#000000\" stroke=\"#000000\" points=\"79.919,-25.5001 89.919,-22 79.919,-18.5001 79.919,-25.5001\"/>\r\n",
       "</g>\r\n",
       "</g>\r\n",
       "</svg>\r\n"
      ],
      "text/plain": [
       "<hiddenlayer.graph.Graph at 0x253ec365790>"
      ]
     },
     "execution_count": 59,
     "metadata": {},
     "output_type": "execute_result"
    }
   ],
   "source": [
    "hl.build_graph(model3, torch.zeros([10, 2]))"
   ]
  },
  {
   "cell_type": "code",
   "execution_count": 60,
   "metadata": {},
   "outputs": [
    {
     "name": "stderr",
     "output_type": "stream",
     "text": [
      "\r\n",
      "(dot.exe:10884): Pango-WARNING **: couldn't load font \"Times Not-Rotated 10\", falling back to \"Sans Not-Rotated 10\", expect ugly output.\r\n"
     ]
    },
    {
     "data": {
      "image/svg+xml": [
       "<?xml version=\"1.0\" encoding=\"UTF-8\" standalone=\"no\"?>\r\n",
       "<!DOCTYPE svg PUBLIC \"-//W3C//DTD SVG 1.1//EN\"\r\n",
       " \"http://www.w3.org/Graphics/SVG/1.1/DTD/svg11.dtd\">\r\n",
       "<!-- Generated by graphviz version 2.38.0 (20140413.2041)\r\n",
       " -->\r\n",
       "<!-- Title: %3 Pages: 1 -->\r\n",
       "<svg width=\"852pt\" height=\"189pt\"\r\n",
       " viewBox=\"0.00 0.00 852.00 189.00\" xmlns=\"http://www.w3.org/2000/svg\" xmlns:xlink=\"http://www.w3.org/1999/xlink\">\r\n",
       "<g id=\"graph0\" class=\"graph\" transform=\"scale(1 1) rotate(0) translate(72 153)\">\r\n",
       "<title>%3</title>\r\n",
       "<polygon fill=\"#ffffff\" stroke=\"none\" points=\"-72,36 -72,-153 780,-153 780,36 -72,36\"/>\r\n",
       "<!-- /outputs/7 -->\r\n",
       "<g id=\"node1\" class=\"node\"><title>/outputs/7</title>\r\n",
       "<polygon fill=\"#e8e8e8\" stroke=\"#000000\" points=\"62,-117 0,-117 0,-81 62,-81 62,-117\"/>\r\n",
       "<text text-anchor=\"start\" x=\"8\" y=\"-96\" font-family=\"Times\" font-size=\"10.00\" fill=\"#000000\">Transpose</text>\r\n",
       "</g>\r\n",
       "<!-- /outputs/8 -->\r\n",
       "<g id=\"node2\" class=\"node\"><title>/outputs/8</title>\r\n",
       "<polygon fill=\"#e8e8e8\" stroke=\"#000000\" points=\"152,-117 98,-117 98,-81 152,-81 152,-117\"/>\r\n",
       "<text text-anchor=\"start\" x=\"110\" y=\"-96\" font-family=\"Times\" font-size=\"10.00\" fill=\"#000000\">MatMul</text>\r\n",
       "</g>\r\n",
       "<!-- /outputs/7&#45;&gt;/outputs/8 -->\r\n",
       "<g id=\"edge1\" class=\"edge\"><title>/outputs/7&#45;&gt;/outputs/8</title>\r\n",
       "<path fill=\"none\" stroke=\"#000000\" d=\"M62.1242,-99C70.3206,-99 79.2835,-99 87.7797,-99\"/>\r\n",
       "<polygon fill=\"#000000\" stroke=\"#000000\" points=\"87.8288,-102.5 97.8288,-99 87.8288,-95.5001 87.8288,-102.5\"/>\r\n",
       "</g>\r\n",
       "<!-- /outputs/9 -->\r\n",
       "<g id=\"node3\" class=\"node\"><title>/outputs/9</title>\r\n",
       "<polygon fill=\"#e8e8e8\" stroke=\"#000000\" points=\"246,-117 192,-117 192,-81 246,-81 246,-117\"/>\r\n",
       "<text text-anchor=\"start\" x=\"211\" y=\"-96\" font-family=\"Times\" font-size=\"10.00\" fill=\"#000000\">Add</text>\r\n",
       "</g>\r\n",
       "<!-- /outputs/8&#45;&gt;/outputs/9 -->\r\n",
       "<g id=\"edge2\" class=\"edge\"><title>/outputs/8&#45;&gt;/outputs/9</title>\r\n",
       "<path fill=\"none\" stroke=\"#000000\" d=\"M152.117,-99C161.343,-99 171.891,-99 181.802,-99\"/>\r\n",
       "<polygon fill=\"#000000\" stroke=\"#000000\" points=\"181.817,-102.5 191.817,-99 181.817,-95.5001 181.817,-102.5\"/>\r\n",
       "</g>\r\n",
       "<!-- /outputs/11 -->\r\n",
       "<g id=\"node5\" class=\"node\"><title>/outputs/11</title>\r\n",
       "<polygon fill=\"#e8e8e8\" stroke=\"#000000\" points=\"340,-90 286,-90 286,-54 340,-54 340,-90\"/>\r\n",
       "<text text-anchor=\"start\" x=\"298\" y=\"-69\" font-family=\"Times\" font-size=\"10.00\" fill=\"#000000\">MatMul</text>\r\n",
       "</g>\r\n",
       "<!-- /outputs/9&#45;&gt;/outputs/11 -->\r\n",
       "<g id=\"edge3\" class=\"edge\"><title>/outputs/9&#45;&gt;/outputs/11</title>\r\n",
       "<path fill=\"none\" stroke=\"#000000\" d=\"M246.117,-91.3351C255.441,-88.599 266.113,-85.4668 276.114,-82.5316\"/>\r\n",
       "<polygon fill=\"#000000\" stroke=\"#000000\" points=\"277.208,-85.8585 285.817,-79.6841 275.236,-79.1418 277.208,-85.8585\"/>\r\n",
       "</g>\r\n",
       "<!-- /outputs/10 -->\r\n",
       "<g id=\"node4\" class=\"node\"><title>/outputs/10</title>\r\n",
       "<polygon fill=\"#e8e8e8\" stroke=\"#000000\" points=\"250,-63 188,-63 188,-27 250,-27 250,-63\"/>\r\n",
       "<text text-anchor=\"start\" x=\"196\" y=\"-42\" font-family=\"Times\" font-size=\"10.00\" fill=\"#000000\">Transpose</text>\r\n",
       "</g>\r\n",
       "<!-- /outputs/10&#45;&gt;/outputs/11 -->\r\n",
       "<g id=\"edge4\" class=\"edge\"><title>/outputs/10&#45;&gt;/outputs/11</title>\r\n",
       "<path fill=\"none\" stroke=\"#000000\" d=\"M250.124,-53.8408C258.411,-56.2727 267.481,-58.9345 276.06,-61.4523\"/>\r\n",
       "<polygon fill=\"#000000\" stroke=\"#000000\" points=\"275.248,-64.8616 285.829,-64.3193 277.219,-58.1449 275.248,-64.8616\"/>\r\n",
       "</g>\r\n",
       "<!-- /outputs/12 -->\r\n",
       "<g id=\"node6\" class=\"node\"><title>/outputs/12</title>\r\n",
       "<polygon fill=\"#e8e8e8\" stroke=\"#000000\" points=\"430,-90 376,-90 376,-54 430,-54 430,-90\"/>\r\n",
       "<text text-anchor=\"start\" x=\"395\" y=\"-69\" font-family=\"Times\" font-size=\"10.00\" fill=\"#000000\">Add</text>\r\n",
       "</g>\r\n",
       "<!-- /outputs/11&#45;&gt;/outputs/12 -->\r\n",
       "<g id=\"edge5\" class=\"edge\"><title>/outputs/11&#45;&gt;/outputs/12</title>\r\n",
       "<path fill=\"none\" stroke=\"#000000\" d=\"M340.403,-72C348.393,-72 357.311,-72 365.824,-72\"/>\r\n",
       "<polygon fill=\"#000000\" stroke=\"#000000\" points=\"365.919,-75.5001 375.919,-72 365.919,-68.5001 365.919,-75.5001\"/>\r\n",
       "</g>\r\n",
       "<!-- /outputs/13 -->\r\n",
       "<g id=\"node7\" class=\"node\"><title>/outputs/13</title>\r\n",
       "<polygon fill=\"#e8e8e8\" stroke=\"#000000\" points=\"524,-90 470,-90 470,-54 524,-54 524,-90\"/>\r\n",
       "<text text-anchor=\"start\" x=\"480\" y=\"-69\" font-family=\"Times\" font-size=\"10.00\" fill=\"#000000\">Sigmoid</text>\r\n",
       "</g>\r\n",
       "<!-- /outputs/12&#45;&gt;/outputs/13 -->\r\n",
       "<g id=\"edge6\" class=\"edge\"><title>/outputs/12&#45;&gt;/outputs/13</title>\r\n",
       "<path fill=\"none\" stroke=\"#000000\" d=\"M430.117,-72C439.343,-72 449.891,-72 459.802,-72\"/>\r\n",
       "<polygon fill=\"#000000\" stroke=\"#000000\" points=\"459.817,-75.5001 469.817,-72 459.817,-68.5001 459.817,-75.5001\"/>\r\n",
       "</g>\r\n",
       "<!-- /outputs/15 -->\r\n",
       "<g id=\"node9\" class=\"node\"><title>/outputs/15</title>\r\n",
       "<polygon fill=\"#e8e8e8\" stroke=\"#000000\" points=\"618,-63 564,-63 564,-27 618,-27 618,-63\"/>\r\n",
       "<text text-anchor=\"start\" x=\"576\" y=\"-42\" font-family=\"Times\" font-size=\"10.00\" fill=\"#000000\">MatMul</text>\r\n",
       "</g>\r\n",
       "<!-- /outputs/13&#45;&gt;/outputs/15 -->\r\n",
       "<g id=\"edge7\" class=\"edge\"><title>/outputs/13&#45;&gt;/outputs/15</title>\r\n",
       "<path fill=\"none\" stroke=\"#000000\" d=\"M524.117,-64.3351C533.441,-61.599 544.113,-58.4668 554.114,-55.5316\"/>\r\n",
       "<polygon fill=\"#000000\" stroke=\"#000000\" points=\"555.208,-58.8585 563.817,-52.6841 553.236,-52.1418 555.208,-58.8585\"/>\r\n",
       "</g>\r\n",
       "<!-- /outputs/14 -->\r\n",
       "<g id=\"node8\" class=\"node\"><title>/outputs/14</title>\r\n",
       "<polygon fill=\"#e8e8e8\" stroke=\"#000000\" points=\"528,-36 466,-36 466,-0 528,-0 528,-36\"/>\r\n",
       "<text text-anchor=\"start\" x=\"474\" y=\"-15\" font-family=\"Times\" font-size=\"10.00\" fill=\"#000000\">Transpose</text>\r\n",
       "</g>\r\n",
       "<!-- /outputs/14&#45;&gt;/outputs/15 -->\r\n",
       "<g id=\"edge8\" class=\"edge\"><title>/outputs/14&#45;&gt;/outputs/15</title>\r\n",
       "<path fill=\"none\" stroke=\"#000000\" d=\"M528.124,-26.8408C536.411,-29.2727 545.481,-31.9345 554.06,-34.4523\"/>\r\n",
       "<polygon fill=\"#000000\" stroke=\"#000000\" points=\"553.248,-37.8616 563.829,-37.3193 555.219,-31.1449 553.248,-37.8616\"/>\r\n",
       "</g>\r\n",
       "<!-- /outputs/16 -->\r\n",
       "<g id=\"node10\" class=\"node\"><title>/outputs/16</title>\r\n",
       "<polygon fill=\"#e8e8e8\" stroke=\"#000000\" points=\"708,-63 654,-63 654,-27 708,-27 708,-63\"/>\r\n",
       "<text text-anchor=\"start\" x=\"673\" y=\"-42\" font-family=\"Times\" font-size=\"10.00\" fill=\"#000000\">Add</text>\r\n",
       "</g>\r\n",
       "<!-- /outputs/15&#45;&gt;/outputs/16 -->\r\n",
       "<g id=\"edge9\" class=\"edge\"><title>/outputs/15&#45;&gt;/outputs/16</title>\r\n",
       "<path fill=\"none\" stroke=\"#000000\" d=\"M618.403,-45C626.393,-45 635.311,-45 643.824,-45\"/>\r\n",
       "<polygon fill=\"#000000\" stroke=\"#000000\" points=\"643.919,-48.5001 653.919,-45 643.919,-41.5001 643.919,-48.5001\"/>\r\n",
       "</g>\r\n",
       "</g>\r\n",
       "</svg>\r\n"
      ],
      "text/plain": [
       "<hiddenlayer.graph.Graph at 0x253ec365f70>"
      ]
     },
     "execution_count": 60,
     "metadata": {},
     "output_type": "execute_result"
    }
   ],
   "source": [
    "hl.build_graph(model3, torch.zeros([2]))"
   ]
  },
  {
   "cell_type": "code",
   "execution_count": null,
   "metadata": {},
   "outputs": [],
   "source": []
  },
  {
   "cell_type": "code",
   "execution_count": null,
   "metadata": {},
   "outputs": [],
   "source": []
  },
  {
   "cell_type": "code",
   "execution_count": null,
   "metadata": {},
   "outputs": [],
   "source": []
  },
  {
   "cell_type": "code",
   "execution_count": null,
   "metadata": {},
   "outputs": [],
   "source": []
  },
  {
   "cell_type": "code",
   "execution_count": null,
   "metadata": {},
   "outputs": [],
   "source": []
  },
  {
   "cell_type": "code",
   "execution_count": null,
   "metadata": {},
   "outputs": [],
   "source": []
  },
  {
   "cell_type": "code",
   "execution_count": null,
   "metadata": {},
   "outputs": [],
   "source": []
  },
  {
   "cell_type": "code",
   "execution_count": null,
   "metadata": {},
   "outputs": [],
   "source": []
  },
  {
   "cell_type": "code",
   "execution_count": null,
   "metadata": {},
   "outputs": [],
   "source": []
  },
  {
   "cell_type": "code",
   "execution_count": null,
   "metadata": {},
   "outputs": [],
   "source": []
  },
  {
   "cell_type": "code",
   "execution_count": null,
   "metadata": {},
   "outputs": [],
   "source": []
  },
  {
   "cell_type": "code",
   "execution_count": null,
   "metadata": {},
   "outputs": [],
   "source": []
  },
  {
   "cell_type": "code",
   "execution_count": null,
   "metadata": {},
   "outputs": [],
   "source": []
  }
 ],
 "metadata": {
  "kernelspec": {
   "display_name": "Python 3",
   "language": "python",
   "name": "python3"
  },
  "language_info": {
   "codemirror_mode": {
    "name": "ipython",
    "version": 3
   },
   "file_extension": ".py",
   "mimetype": "text/x-python",
   "name": "python",
   "nbconvert_exporter": "python",
   "pygments_lexer": "ipython3",
   "version": "3.8.8"
  }
 },
 "nbformat": 4,
 "nbformat_minor": 2
}
