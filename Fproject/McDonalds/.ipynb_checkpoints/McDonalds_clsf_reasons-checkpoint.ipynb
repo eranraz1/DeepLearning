{
 "cells": [
  {
   "cell_type": "raw",
   "id": "7ef40ec8",
   "metadata": {},
   "source": [
    "Note : Ctrl + Shift + A = run all above "
   ]
  },
  {
   "cell_type": "code",
   "execution_count": 103,
   "id": "03a7aa9a",
   "metadata": {},
   "outputs": [
    {
     "data": {
      "text/plain": [
       "' McDonald’s review sentiment Design a model that will classify reasons for low reviews. Data: https://www.dropbox.com/s/mtepmmtg1lhwe8o/ae3421.csv?dl=0'"
      ]
     },
     "execution_count": 103,
     "metadata": {},
     "output_type": "execute_result"
    }
   ],
   "source": [
    "' McDonald’s review sentiment \\\n",
    "Design a model that will classify reasons for low reviews. \\\n",
    "Data: https://www.dropbox.com/s/mtepmmtg1lhwe8o/ae3421.csv?dl=0'"
   ]
  },
  {
   "cell_type": "code",
   "execution_count": 104,
   "id": "cf518d2c",
   "metadata": {},
   "outputs": [],
   "source": [
    "import pandas as pd\n",
    "import numpy as np\n",
    "import matplotlib.pyplot as plt\n",
    "import seaborn as sns\n",
    "#%matplotlib inline"
   ]
  },
  {
   "cell_type": "code",
   "execution_count": 105,
   "id": "0580a101",
   "metadata": {},
   "outputs": [],
   "source": [
    "df = pd.read_csv('.//data//ae3421.csv')"
   ]
  },
  {
   "cell_type": "code",
   "execution_count": 106,
   "id": "3cc46b07",
   "metadata": {},
   "outputs": [],
   "source": [
    "# Verify no duplicates\n",
    "df.drop_duplicates('_unit_id',inplace= True)\n"
   ]
  },
  {
   "cell_type": "code",
   "execution_count": 107,
   "id": "cea3579a",
   "metadata": {},
   "outputs": [
    {
     "name": "stdout",
     "output_type": "stream",
     "text": [
      "2/21/15 0:06 2/21/15 2:30\n"
     ]
    },
    {
     "data": {
      "text/html": [
       "<div>\n",
       "<style scoped>\n",
       "    .dataframe tbody tr th:only-of-type {\n",
       "        vertical-align: middle;\n",
       "    }\n",
       "\n",
       "    .dataframe tbody tr th {\n",
       "        vertical-align: top;\n",
       "    }\n",
       "\n",
       "    .dataframe thead th {\n",
       "        text-align: right;\n",
       "    }\n",
       "</style>\n",
       "<table border=\"1\" class=\"dataframe\">\n",
       "  <thead>\n",
       "    <tr style=\"text-align: right;\">\n",
       "      <th></th>\n",
       "      <th>_unit_id</th>\n",
       "      <th>_golden</th>\n",
       "      <th>_unit_state</th>\n",
       "      <th>_trusted_judgments</th>\n",
       "      <th>_last_judgment_at</th>\n",
       "      <th>policies_violated</th>\n",
       "      <th>policies_violated:confidence</th>\n",
       "      <th>city</th>\n",
       "      <th>policies_violated_gold</th>\n",
       "      <th>review</th>\n",
       "    </tr>\n",
       "  </thead>\n",
       "  <tbody>\n",
       "    <tr>\n",
       "      <th>406</th>\n",
       "      <td>679456065</td>\n",
       "      <td>False</td>\n",
       "      <td>finalized</td>\n",
       "      <td>3</td>\n",
       "      <td>2/21/15 0:06</td>\n",
       "      <td>BadFood\\rRudeService\\rOrderProblem</td>\n",
       "      <td>1.0\\r0.6746\\r0.6746</td>\n",
       "      <td>Las Vegas</td>\n",
       "      <td>NaN</td>\n",
       "      <td>If only this had a zero stars option. This was...</td>\n",
       "    </tr>\n",
       "    <tr>\n",
       "      <th>399</th>\n",
       "      <td>679456058</td>\n",
       "      <td>False</td>\n",
       "      <td>finalized</td>\n",
       "      <td>3</td>\n",
       "      <td>2/21/15 0:06</td>\n",
       "      <td>RudeService</td>\n",
       "      <td>1</td>\n",
       "      <td>Las Vegas</td>\n",
       "      <td>NaN</td>\n",
       "      <td>I went to this location a couple of weeks ago....</td>\n",
       "    </tr>\n",
       "    <tr>\n",
       "      <th>951</th>\n",
       "      <td>679456622</td>\n",
       "      <td>False</td>\n",
       "      <td>finalized</td>\n",
       "      <td>3</td>\n",
       "      <td>2/21/15 0:06</td>\n",
       "      <td>RudeService\\rOrderProblem</td>\n",
       "      <td>0.7049\\r0.6746</td>\n",
       "      <td>Cleveland</td>\n",
       "      <td>NaN</td>\n",
       "      <td>This location is run by the worst management e...</td>\n",
       "    </tr>\n",
       "    <tr>\n",
       "      <th>324</th>\n",
       "      <td>679455982</td>\n",
       "      <td>False</td>\n",
       "      <td>finalized</td>\n",
       "      <td>3</td>\n",
       "      <td>2/21/15 0:06</td>\n",
       "      <td>RudeService</td>\n",
       "      <td>0.6206</td>\n",
       "      <td>Las Vegas</td>\n",
       "      <td>NaN</td>\n",
       "      <td>We went to McDonalds on our way to Circus Circ...</td>\n",
       "    </tr>\n",
       "    <tr>\n",
       "      <th>1106</th>\n",
       "      <td>679456781</td>\n",
       "      <td>False</td>\n",
       "      <td>finalized</td>\n",
       "      <td>3</td>\n",
       "      <td>2/21/15 0:06</td>\n",
       "      <td>RudeService</td>\n",
       "      <td>1</td>\n",
       "      <td>Los Angeles</td>\n",
       "      <td>NaN</td>\n",
       "      <td>This is the worst McDonald's i have ever been ...</td>\n",
       "    </tr>\n",
       "  </tbody>\n",
       "</table>\n",
       "</div>"
      ],
      "text/plain": [
       "       _unit_id  _golden _unit_state  _trusted_judgments _last_judgment_at  \\\n",
       "406   679456065    False   finalized                   3      2/21/15 0:06   \n",
       "399   679456058    False   finalized                   3      2/21/15 0:06   \n",
       "951   679456622    False   finalized                   3      2/21/15 0:06   \n",
       "324   679455982    False   finalized                   3      2/21/15 0:06   \n",
       "1106  679456781    False   finalized                   3      2/21/15 0:06   \n",
       "\n",
       "                       policies_violated policies_violated:confidence  \\\n",
       "406   BadFood\\rRudeService\\rOrderProblem          1.0\\r0.6746\\r0.6746   \n",
       "399                          RudeService                            1   \n",
       "951            RudeService\\rOrderProblem               0.7049\\r0.6746   \n",
       "324                          RudeService                       0.6206   \n",
       "1106                         RudeService                            1   \n",
       "\n",
       "             city  policies_violated_gold  \\\n",
       "406     Las Vegas                     NaN   \n",
       "399     Las Vegas                     NaN   \n",
       "951     Cleveland                     NaN   \n",
       "324     Las Vegas                     NaN   \n",
       "1106  Los Angeles                     NaN   \n",
       "\n",
       "                                                 review  \n",
       "406   If only this had a zero stars option. This was...  \n",
       "399   I went to this location a couple of weeks ago....  \n",
       "951   This location is run by the worst management e...  \n",
       "324   We went to McDonalds on our way to Circus Circ...  \n",
       "1106  This is the worst McDonald's i have ever been ...  "
      ]
     },
     "execution_count": 107,
     "metadata": {},
     "output_type": "execute_result"
    }
   ],
   "source": [
    "# Field \"_last_judgment_at\" - doesn't have any meaning, will drop \n",
    "print(df['_last_judgment_at'].min() , df['_last_judgment_at'].max())\n",
    "df.sort_values(by = '_last_judgment_at' ).head(5)"
   ]
  },
  {
   "cell_type": "code",
   "execution_count": 108,
   "id": "83a5bbe9",
   "metadata": {},
   "outputs": [
    {
     "name": "stdout",
     "output_type": "stream",
     "text": [
      "{False} {'finalized'} {3}\n"
     ]
    }
   ],
   "source": [
    "\n",
    "# Fields: \"_golden\",'_unit_state','_trusted_judgments - doesn't have any meaning, will drop \n",
    "print(set(df['_golden']) , set(df['_unit_state']), set(df['_trusted_judgments']))\n"
   ]
  },
  {
   "cell_type": "code",
   "execution_count": 109,
   "id": "c2dfc5e0",
   "metadata": {},
   "outputs": [],
   "source": [
    "df.drop(['_last_judgment_at','_golden','_unit_state','_trusted_judgments','policies_violated_gold','_unit_id'],\\\n",
    "        inplace= True, axis =1)"
   ]
  },
  {
   "cell_type": "code",
   "execution_count": 110,
   "id": "367714a7",
   "metadata": {},
   "outputs": [
    {
     "data": {
      "text/html": [
       "<div>\n",
       "<style scoped>\n",
       "    .dataframe tbody tr th:only-of-type {\n",
       "        vertical-align: middle;\n",
       "    }\n",
       "\n",
       "    .dataframe tbody tr th {\n",
       "        vertical-align: top;\n",
       "    }\n",
       "\n",
       "    .dataframe thead th {\n",
       "        text-align: right;\n",
       "    }\n",
       "</style>\n",
       "<table border=\"1\" class=\"dataframe\">\n",
       "  <thead>\n",
       "    <tr style=\"text-align: right;\">\n",
       "      <th></th>\n",
       "      <th>policies_violated</th>\n",
       "      <th>policies_violated:confidence</th>\n",
       "      <th>city</th>\n",
       "      <th>review</th>\n",
       "    </tr>\n",
       "  </thead>\n",
       "  <tbody>\n",
       "    <tr>\n",
       "      <th>0</th>\n",
       "      <td>RudeService\\rOrderProblem\\rFilthy</td>\n",
       "      <td>1.0\\r0.6667\\r0.6667</td>\n",
       "      <td>Atlanta</td>\n",
       "      <td>I'm not a huge mcds lover, but I've been to be...</td>\n",
       "    </tr>\n",
       "    <tr>\n",
       "      <th>1</th>\n",
       "      <td>RudeService</td>\n",
       "      <td>1</td>\n",
       "      <td>Atlanta</td>\n",
       "      <td>Terrible customer service. ξI came in at 9:30p...</td>\n",
       "    </tr>\n",
       "    <tr>\n",
       "      <th>2</th>\n",
       "      <td>SlowService\\rOrderProblem</td>\n",
       "      <td>1.0\\r1.0</td>\n",
       "      <td>Atlanta</td>\n",
       "      <td>First they \"lost\" my order, actually they gave...</td>\n",
       "    </tr>\n",
       "    <tr>\n",
       "      <th>3</th>\n",
       "      <td>na</td>\n",
       "      <td>0.6667</td>\n",
       "      <td>Atlanta</td>\n",
       "      <td>I see I'm not the only one giving 1 star. Only...</td>\n",
       "    </tr>\n",
       "    <tr>\n",
       "      <th>4</th>\n",
       "      <td>RudeService</td>\n",
       "      <td>1</td>\n",
       "      <td>Atlanta</td>\n",
       "      <td>Well, it's McDonald's, so you know what the fo...</td>\n",
       "    </tr>\n",
       "  </tbody>\n",
       "</table>\n",
       "</div>"
      ],
      "text/plain": [
       "                   policies_violated policies_violated:confidence     city  \\\n",
       "0  RudeService\\rOrderProblem\\rFilthy          1.0\\r0.6667\\r0.6667  Atlanta   \n",
       "1                        RudeService                            1  Atlanta   \n",
       "2          SlowService\\rOrderProblem                     1.0\\r1.0  Atlanta   \n",
       "3                                 na                       0.6667  Atlanta   \n",
       "4                        RudeService                            1  Atlanta   \n",
       "\n",
       "                                              review  \n",
       "0  I'm not a huge mcds lover, but I've been to be...  \n",
       "1  Terrible customer service. ξI came in at 9:30p...  \n",
       "2  First they \"lost\" my order, actually they gave...  \n",
       "3  I see I'm not the only one giving 1 star. Only...  \n",
       "4  Well, it's McDonald's, so you know what the fo...  "
      ]
     },
     "execution_count": 110,
     "metadata": {},
     "output_type": "execute_result"
    }
   ],
   "source": [
    "df.head(5)"
   ]
  },
  {
   "cell_type": "code",
   "execution_count": 111,
   "id": "d8f69a44",
   "metadata": {},
   "outputs": [
    {
     "name": "stdout",
     "output_type": "stream",
     "text": [
      "Fields :'policies_violated' with NA:  54\n",
      "Fields :'city' with NA:  87\n",
      "Fields :'city' with NA:  0  -After fix\n"
     ]
    }
   ],
   "source": [
    "# some missing cities - keeping the field + reset values to 'Unknown'\n",
    "print('Fields :\\'policies_violated\\' with NA: ',df.policies_violated.isna().sum())\n",
    "print('Fields :\\'city\\' with NA: ',df.city.isna().sum())\n",
    "df['city'].fillna('0Unknown', inplace= True)\n",
    "print('Fields :\\'city\\' with NA: ',df.city.isna().sum(),' -After fix' )"
   ]
  },
  {
   "cell_type": "code",
   "execution_count": 112,
   "id": "7c0d5132",
   "metadata": {},
   "outputs": [
    {
     "data": {
      "text/html": [
       "<div>\n",
       "<style scoped>\n",
       "    .dataframe tbody tr th:only-of-type {\n",
       "        vertical-align: middle;\n",
       "    }\n",
       "\n",
       "    .dataframe tbody tr th {\n",
       "        vertical-align: top;\n",
       "    }\n",
       "\n",
       "    .dataframe thead th {\n",
       "        text-align: right;\n",
       "    }\n",
       "</style>\n",
       "<table border=\"1\" class=\"dataframe\">\n",
       "  <thead>\n",
       "    <tr style=\"text-align: right;\">\n",
       "      <th></th>\n",
       "      <th>tag</th>\n",
       "      <th>tag_conf</th>\n",
       "      <th>city</th>\n",
       "      <th>review</th>\n",
       "    </tr>\n",
       "  </thead>\n",
       "  <tbody>\n",
       "    <tr>\n",
       "      <th>0</th>\n",
       "      <td>RudeService\\rOrderProblem\\rFilthy</td>\n",
       "      <td>1.0\\r0.6667\\r0.6667</td>\n",
       "      <td>Atlanta</td>\n",
       "      <td>I'm not a huge mcds lover, but I've been to be...</td>\n",
       "    </tr>\n",
       "    <tr>\n",
       "      <th>1</th>\n",
       "      <td>RudeService</td>\n",
       "      <td>1</td>\n",
       "      <td>Atlanta</td>\n",
       "      <td>Terrible customer service. ξI came in at 9:30p...</td>\n",
       "    </tr>\n",
       "    <tr>\n",
       "      <th>2</th>\n",
       "      <td>SlowService\\rOrderProblem</td>\n",
       "      <td>1.0\\r1.0</td>\n",
       "      <td>Atlanta</td>\n",
       "      <td>First they \"lost\" my order, actually they gave...</td>\n",
       "    </tr>\n",
       "  </tbody>\n",
       "</table>\n",
       "</div>"
      ],
      "text/plain": [
       "                                 tag             tag_conf     city  \\\n",
       "0  RudeService\\rOrderProblem\\rFilthy  1.0\\r0.6667\\r0.6667  Atlanta   \n",
       "1                        RudeService                    1  Atlanta   \n",
       "2          SlowService\\rOrderProblem             1.0\\r1.0  Atlanta   \n",
       "\n",
       "                                              review  \n",
       "0  I'm not a huge mcds lover, but I've been to be...  \n",
       "1  Terrible customer service. ξI came in at 9:30p...  \n",
       "2  First they \"lost\" my order, actually they gave...  "
      ]
     },
     "execution_count": 112,
     "metadata": {},
     "output_type": "execute_result"
    }
   ],
   "source": [
    "# convert col 'policies_violated' to 'tag' & 'policies_violated:confidence' to 'tag_conf'\n",
    "\n",
    "df.rename(columns= {'policies_violated':'tag', 'policies_violated:confidence': 'tag_conf'}, inplace= True)\n",
    "df.head(3)"
   ]
  },
  {
   "cell_type": "markdown",
   "id": "fd033123",
   "metadata": {},
   "source": [
    "### Taking out unlabeled date - for later predictions\n",
    "#####  df_ntag & df_tag  (note! - 'na' as text)"
   ]
  },
  {
   "cell_type": "code",
   "execution_count": 113,
   "id": "d11d6b14",
   "metadata": {},
   "outputs": [
    {
     "name": "stdout",
     "output_type": "stream",
     "text": [
      "(1176, 4)  |  (349, 4)\n"
     ]
    }
   ],
   "source": [
    "df_ntag = df[(df.tag.isna()) | (df.tag == 'na')].reset_index(drop=True)\n",
    "df_tag = df[~((df.tag.isna()) | (df.tag == 'na'))].reset_index(drop=True)\n",
    "print(df_tag.shape,' | ',df_ntag.shape)\n",
    "\n",
    "# df[(df.tag.isna()) | (df.tag == 'na')]\n",
    "# df[~((df.tag.isna()) | (df.tag == 'na'))]"
   ]
  },
  {
   "cell_type": "code",
   "execution_count": 114,
   "id": "4c0e8b49",
   "metadata": {},
   "outputs": [
    {
     "data": {
      "text/plain": [
       "True"
      ]
     },
     "execution_count": 114,
     "metadata": {},
     "output_type": "execute_result"
    }
   ],
   "source": [
    "df.shape[0] == (df_ntag.shape[0] + df_tag.shape[0])"
   ]
  },
  {
   "cell_type": "code",
   "execution_count": 115,
   "id": "3269f6d1",
   "metadata": {},
   "outputs": [
    {
     "data": {
      "text/html": [
       "<div>\n",
       "<style scoped>\n",
       "    .dataframe tbody tr th:only-of-type {\n",
       "        vertical-align: middle;\n",
       "    }\n",
       "\n",
       "    .dataframe tbody tr th {\n",
       "        vertical-align: top;\n",
       "    }\n",
       "\n",
       "    .dataframe thead th {\n",
       "        text-align: right;\n",
       "    }\n",
       "</style>\n",
       "<table border=\"1\" class=\"dataframe\">\n",
       "  <thead>\n",
       "    <tr style=\"text-align: right;\">\n",
       "      <th></th>\n",
       "      <th>tag</th>\n",
       "      <th>tag_conf</th>\n",
       "      <th>city</th>\n",
       "      <th>review</th>\n",
       "    </tr>\n",
       "  </thead>\n",
       "  <tbody>\n",
       "    <tr>\n",
       "      <th>0</th>\n",
       "      <td>RudeService\\rOrderProblem\\rFilthy</td>\n",
       "      <td>1.0\\r0.6667\\r0.6667</td>\n",
       "      <td>Atlanta</td>\n",
       "      <td>I'm not a huge mcds lover, but I've been to be...</td>\n",
       "    </tr>\n",
       "    <tr>\n",
       "      <th>1</th>\n",
       "      <td>RudeService</td>\n",
       "      <td>1</td>\n",
       "      <td>Atlanta</td>\n",
       "      <td>Terrible customer service. ξI came in at 9:30p...</td>\n",
       "    </tr>\n",
       "    <tr>\n",
       "      <th>2</th>\n",
       "      <td>SlowService\\rOrderProblem</td>\n",
       "      <td>1.0\\r1.0</td>\n",
       "      <td>Atlanta</td>\n",
       "      <td>First they \"lost\" my order, actually they gave...</td>\n",
       "    </tr>\n",
       "    <tr>\n",
       "      <th>3</th>\n",
       "      <td>RudeService</td>\n",
       "      <td>1</td>\n",
       "      <td>Atlanta</td>\n",
       "      <td>Well, it's McDonald's, so you know what the fo...</td>\n",
       "    </tr>\n",
       "    <tr>\n",
       "      <th>4</th>\n",
       "      <td>BadFood\\rSlowService</td>\n",
       "      <td>0.7111\\r0.6444</td>\n",
       "      <td>Atlanta</td>\n",
       "      <td>This has to be one of the worst and slowest Mc...</td>\n",
       "    </tr>\n",
       "  </tbody>\n",
       "</table>\n",
       "</div>"
      ],
      "text/plain": [
       "                                 tag             tag_conf     city  \\\n",
       "0  RudeService\\rOrderProblem\\rFilthy  1.0\\r0.6667\\r0.6667  Atlanta   \n",
       "1                        RudeService                    1  Atlanta   \n",
       "2          SlowService\\rOrderProblem             1.0\\r1.0  Atlanta   \n",
       "3                        RudeService                    1  Atlanta   \n",
       "4               BadFood\\rSlowService       0.7111\\r0.6444  Atlanta   \n",
       "\n",
       "                                              review  \n",
       "0  I'm not a huge mcds lover, but I've been to be...  \n",
       "1  Terrible customer service. ξI came in at 9:30p...  \n",
       "2  First they \"lost\" my order, actually they gave...  \n",
       "3  Well, it's McDonald's, so you know what the fo...  \n",
       "4  This has to be one of the worst and slowest Mc...  "
      ]
     },
     "execution_count": 115,
     "metadata": {},
     "output_type": "execute_result"
    }
   ],
   "source": [
    "df_tag.head(5)"
   ]
  },
  {
   "cell_type": "code",
   "execution_count": 116,
   "id": "7d6c72b2",
   "metadata": {},
   "outputs": [
    {
     "name": "stderr",
     "output_type": "stream",
     "text": [
      "C:\\Users\\raze\\Anaconda3\\lib\\site-packages\\pandas\\core\\frame.py:4524: SettingWithCopyWarning: \n",
      "A value is trying to be set on a copy of a slice from a DataFrame\n",
      "\n",
      "See the caveats in the documentation: https://pandas.pydata.org/pandas-docs/stable/user_guide/indexing.html#returning-a-view-versus-a-copy\n",
      "  return super().replace(\n"
     ]
    }
   ],
   "source": [
    "# lose the '\\r' in ['tag','tag_conf']\n",
    "\n",
    "df_tag.iloc[:,0:2].replace(r'\\r',' ', regex= True, inplace = True)"
   ]
  },
  {
   "cell_type": "code",
   "execution_count": 117,
   "id": "9ac4d733",
   "metadata": {},
   "outputs": [
    {
     "data": {
      "text/plain": [
       "(0, 0)"
      ]
     },
     "execution_count": 117,
     "metadata": {},
     "output_type": "execute_result"
    }
   ],
   "source": [
    "sum(df_tag.tag_conf == 'na'),sum(df_tag.tag == 'na')"
   ]
  },
  {
   "cell_type": "code",
   "execution_count": 118,
   "id": "e4a27cb7",
   "metadata": {},
   "outputs": [],
   "source": [
    "#check\n",
    "\n",
    "# for i in range(500):\n",
    "#     df_tag.loc[0,'tag'] , df_tag.loc[0,'tag_conf']\n",
    "#     t = dict(zip(df_tag.loc[i,'tag'] , df_tag.loc[i,'tag_conf']))\n",
    "#     print(t, ' - ', i)\n"
   ]
  },
  {
   "cell_type": "code",
   "execution_count": 119,
   "id": "e25ea8fc",
   "metadata": {},
   "outputs": [],
   "source": [
    "# split internals into list\n",
    "\n",
    "df_tag['tag'] = df_tag['tag'].apply(lambda x: x.split())\n",
    "df_tag['tag_conf'] = df_tag['tag_conf'].apply(lambda x: x.split())"
   ]
  },
  {
   "cell_type": "code",
   "execution_count": 120,
   "id": "344bd212",
   "metadata": {},
   "outputs": [
    {
     "data": {
      "text/plain": [
       "tag         0\n",
       "tag_conf    0\n",
       "city        0\n",
       "review      0\n",
       "dtype: int64"
      ]
     },
     "execution_count": 120,
     "metadata": {},
     "output_type": "execute_result"
    }
   ],
   "source": [
    "df_tag.eq('na').sum()\n",
    "#df_tag[df_tag.iloc[:,0].apply(len)<2]\n"
   ]
  },
  {
   "cell_type": "code",
   "execution_count": 121,
   "id": "b9433b7d",
   "metadata": {},
   "outputs": [],
   "source": [
    "# Split the list to cols\n",
    "\n",
    "for i in range(0,len(df_tag)):\n",
    "    \n",
    "    policy=df_tag.loc[i,'tag']\n",
    "    confidence=df_tag.loc[i,'tag_conf']\n",
    "    dictionary=dict(zip(policy,confidence))\n",
    "    for key in dictionary.keys():\n",
    "        df_tag.loc[i,key]=dictionary[key]\n",
    " "
   ]
  },
  {
   "cell_type": "code",
   "execution_count": 122,
   "id": "b16f0de2",
   "metadata": {},
   "outputs": [
    {
     "data": {
      "text/html": [
       "<div>\n",
       "<style scoped>\n",
       "    .dataframe tbody tr th:only-of-type {\n",
       "        vertical-align: middle;\n",
       "    }\n",
       "\n",
       "    .dataframe tbody tr th {\n",
       "        vertical-align: top;\n",
       "    }\n",
       "\n",
       "    .dataframe thead th {\n",
       "        text-align: right;\n",
       "    }\n",
       "</style>\n",
       "<table border=\"1\" class=\"dataframe\">\n",
       "  <thead>\n",
       "    <tr style=\"text-align: right;\">\n",
       "      <th></th>\n",
       "      <th>RudeService</th>\n",
       "      <th>OrderProblem</th>\n",
       "      <th>Filthy</th>\n",
       "      <th>SlowService</th>\n",
       "      <th>BadFood</th>\n",
       "      <th>ScaryMcDs</th>\n",
       "      <th>MissingFood</th>\n",
       "      <th>Cost</th>\n",
       "      <th>na</th>\n",
       "    </tr>\n",
       "  </thead>\n",
       "  <tbody>\n",
       "    <tr>\n",
       "      <th>0</th>\n",
       "      <td>1.0</td>\n",
       "      <td>0.6667</td>\n",
       "      <td>0.6667</td>\n",
       "      <td>0</td>\n",
       "      <td>0</td>\n",
       "      <td>0</td>\n",
       "      <td>0</td>\n",
       "      <td>0</td>\n",
       "      <td>0</td>\n",
       "    </tr>\n",
       "    <tr>\n",
       "      <th>1</th>\n",
       "      <td>1</td>\n",
       "      <td>0</td>\n",
       "      <td>0</td>\n",
       "      <td>0</td>\n",
       "      <td>0</td>\n",
       "      <td>0</td>\n",
       "      <td>0</td>\n",
       "      <td>0</td>\n",
       "      <td>0</td>\n",
       "    </tr>\n",
       "    <tr>\n",
       "      <th>2</th>\n",
       "      <td>0</td>\n",
       "      <td>1.0</td>\n",
       "      <td>0</td>\n",
       "      <td>1.0</td>\n",
       "      <td>0</td>\n",
       "      <td>0</td>\n",
       "      <td>0</td>\n",
       "      <td>0</td>\n",
       "      <td>0</td>\n",
       "    </tr>\n",
       "  </tbody>\n",
       "</table>\n",
       "</div>"
      ],
      "text/plain": [
       "  RudeService OrderProblem  Filthy SlowService BadFood ScaryMcDs MissingFood  \\\n",
       "0         1.0       0.6667  0.6667           0       0         0           0   \n",
       "1           1            0       0           0       0         0           0   \n",
       "2           0          1.0       0         1.0       0         0           0   \n",
       "\n",
       "  Cost na  \n",
       "0    0  0  \n",
       "1    0  0  \n",
       "2    0  0  "
      ]
     },
     "execution_count": 122,
     "metadata": {},
     "output_type": "execute_result"
    }
   ],
   "source": [
    "# zero the nan\n",
    "df_tag.iloc[:,4:].fillna(0,inplace=False).head(3)"
   ]
  },
  {
   "cell_type": "code",
   "execution_count": 123,
   "id": "93a0ad5f",
   "metadata": {},
   "outputs": [],
   "source": [
    "#! df - multiclass with ratio\n",
    "\n",
    "df_tag = pd.concat((df_tag.iloc[:,:4],df_tag.iloc[:,4:].fillna(0,inplace=False).astype(float)),axis= 1)"
   ]
  },
  {
   "cell_type": "code",
   "execution_count": 349,
   "id": "93981d7f",
   "metadata": {},
   "outputs": [
    {
     "name": "stdout",
     "output_type": "stream",
     "text": [
      "########## note ##########\n",
      "13  - raws with NA as value\n"
     ]
    }
   ],
   "source": [
    "# Note! - lines taged with 'na' as 100% in hight rate , will be removed !\n",
    "print('########## note ##########')\n",
    "print(len(df_tag[df_tag['na'] != 0].sort_values(by = 'na')), ' - raws with NA as value')"
   ]
  },
  {
   "cell_type": "code",
   "execution_count": 350,
   "id": "4983971e",
   "metadata": {},
   "outputs": [],
   "source": [
    "# high value of na - dropping\n",
    "df_tag.drop(519, inplace= True)"
   ]
  },
  {
   "attachments": {
    "image-2.png": {
     "image/png": "[encoded data removed]"
    }
   },
   "cell_type": "markdown",
   "id": "12e04ecc",
   "metadata": {},
   "source": [
    "<div>\n",
    "pic: issues   <br> \n",
    "<img src=\"attachment:image-2.png\" width=\"500\" align=\"left\" />\n",
    "</div>\n"
   ]
  },
  {
   "cell_type": "code",
   "execution_count": 367,
   "id": "ccee431a",
   "metadata": {},
   "outputs": [],
   "source": [
    "#! df - boolean multiclass (OHE)\n",
    "\n",
    "df_tagB = pd.concat((df_tag.iloc[:,:4],df_tag.iloc[:,4:].apply(np.ceil)),axis= 1)"
   ]
  },
  {
   "cell_type": "code",
   "execution_count": 375,
   "id": "4514c22f",
   "metadata": {},
   "outputs": [
    {
     "data": {
      "text/html": [
       "<div>\n",
       "<style scoped>\n",
       "    .dataframe tbody tr th:only-of-type {\n",
       "        vertical-align: middle;\n",
       "    }\n",
       "\n",
       "    .dataframe tbody tr th {\n",
       "        vertical-align: top;\n",
       "    }\n",
       "\n",
       "    .dataframe thead th {\n",
       "        text-align: right;\n",
       "    }\n",
       "</style>\n",
       "<table border=\"1\" class=\"dataframe\">\n",
       "  <thead>\n",
       "    <tr style=\"text-align: right;\">\n",
       "      <th></th>\n",
       "      <th>tag</th>\n",
       "      <th>tag_conf</th>\n",
       "      <th>city</th>\n",
       "      <th>review</th>\n",
       "      <th>RudeService</th>\n",
       "      <th>OrderProblem</th>\n",
       "      <th>Filthy</th>\n",
       "      <th>SlowService</th>\n",
       "      <th>BadFood</th>\n",
       "      <th>ScaryMcDs</th>\n",
       "      <th>MissingFood</th>\n",
       "      <th>Cost</th>\n",
       "      <th>na</th>\n",
       "      <th>no.</th>\n",
       "    </tr>\n",
       "  </thead>\n",
       "  <tbody>\n",
       "    <tr>\n",
       "      <th>44</th>\n",
       "      <td>[Filthy, na, SlowService, ScaryMcDs, RudeServi...</td>\n",
       "      <td>[1.0, 0.6717, 0.6717, 0.6717, 0.6717, 0.6717, ...</td>\n",
       "      <td>Atlanta</td>\n",
       "      <td>The worst McDonalds franchise I've visited. ξI...</td>\n",
       "      <td>1.0</td>\n",
       "      <td>1.0</td>\n",
       "      <td>1.0</td>\n",
       "      <td>1.0</td>\n",
       "      <td>1.0</td>\n",
       "      <td>1.0</td>\n",
       "      <td>1.0</td>\n",
       "      <td>1.0</td>\n",
       "      <td>1.0</td>\n",
       "      <td>44.0</td>\n",
       "    </tr>\n",
       "  </tbody>\n",
       "</table>\n",
       "</div>"
      ],
      "text/plain": [
       "                                                  tag  \\\n",
       "44  [Filthy, na, SlowService, ScaryMcDs, RudeServi...   \n",
       "\n",
       "                                             tag_conf     city  \\\n",
       "44  [1.0, 0.6717, 0.6717, 0.6717, 0.6717, 0.6717, ...  Atlanta   \n",
       "\n",
       "                                               review  RudeService  \\\n",
       "44  The worst McDonalds franchise I've visited. ξI...          1.0   \n",
       "\n",
       "    OrderProblem  Filthy  SlowService  BadFood  ScaryMcDs  MissingFood  Cost  \\\n",
       "44           1.0     1.0          1.0      1.0        1.0          1.0   1.0   \n",
       "\n",
       "     na   no.  \n",
       "44  1.0  44.0  "
      ]
     },
     "execution_count": 375,
     "metadata": {},
     "output_type": "execute_result"
    }
   ],
   "source": [
    "df_tagB[df_tagB.index == 44]"
   ]
  },
  {
   "cell_type": "code",
   "execution_count": null,
   "id": "266f7b6f",
   "metadata": {},
   "outputs": [],
   "source": []
  },
  {
   "cell_type": "markdown",
   "id": "e8827337",
   "metadata": {},
   "source": [
    "#### Split values verticlly"
   ]
  },
  {
   "cell_type": "code",
   "execution_count": 376,
   "id": "2b212e8f",
   "metadata": {},
   "outputs": [],
   "source": [
    "temp = df_tag[['no.','tag', 'tag_conf', 'city', 'review','RudeService', 'OrderProblem','Filthy',\n",
    "                'SlowService', 'BadFood', 'ScaryMcDs', 'MissingFood', 'Cost']]"
   ]
  },
  {
   "cell_type": "code",
   "execution_count": 377,
   "id": "951af932",
   "metadata": {},
   "outputs": [],
   "source": [
    "t = temp.melt(id_vars=['no.','tag', 'tag_conf', 'city', 'review'], var_name='tag_split', value_name='filter_')"
   ]
  },
  {
   "cell_type": "code",
   "execution_count": 378,
   "id": "50990399",
   "metadata": {},
   "outputs": [
    {
     "data": {
      "text/plain": [
       "(9400, 7)"
      ]
     },
     "execution_count": 378,
     "metadata": {},
     "output_type": "execute_result"
    }
   ],
   "source": [
    "t.shape"
   ]
  },
  {
   "cell_type": "code",
   "execution_count": 379,
   "id": "000da90f",
   "metadata": {},
   "outputs": [
    {
     "data": {
      "text/plain": [
       "filter_\n",
       "0.0000    7570\n",
       "1.0000    1024\n",
       "0.6667      50\n",
       "0.6717      27\n",
       "0.6562      26\n",
       "          ... \n",
       "0.6567       1\n",
       "0.6536       1\n",
       "0.6525       1\n",
       "0.6509       1\n",
       "0.6700       1\n",
       "Length: 194, dtype: int64"
      ]
     },
     "execution_count": 379,
     "metadata": {},
     "output_type": "execute_result"
    }
   ],
   "source": [
    "t.sort_values(by = 'filter_', inplace= True)\n",
    "t.value_counts('filter_')"
   ]
  },
  {
   "cell_type": "code",
   "execution_count": 380,
   "id": "e114937a",
   "metadata": {},
   "outputs": [],
   "source": [
    "df_tag_vertical = t[t['filter_']!= 0].sort_values(by = 'no.')"
   ]
  },
  {
   "cell_type": "code",
   "execution_count": 385,
   "id": "07f33a4d",
   "metadata": {},
   "outputs": [
    {
     "data": {
      "text/html": [
       "<div>\n",
       "<style scoped>\n",
       "    .dataframe tbody tr th:only-of-type {\n",
       "        vertical-align: middle;\n",
       "    }\n",
       "\n",
       "    .dataframe tbody tr th {\n",
       "        vertical-align: top;\n",
       "    }\n",
       "\n",
       "    .dataframe thead th {\n",
       "        text-align: right;\n",
       "    }\n",
       "</style>\n",
       "<table border=\"1\" class=\"dataframe\">\n",
       "  <thead>\n",
       "    <tr style=\"text-align: right;\">\n",
       "      <th></th>\n",
       "      <th>no.</th>\n",
       "      <th>tag</th>\n",
       "      <th>tag_conf</th>\n",
       "      <th>city</th>\n",
       "      <th>review</th>\n",
       "      <th>tag_split</th>\n",
       "      <th>filter_</th>\n",
       "    </tr>\n",
       "  </thead>\n",
       "  <tbody>\n",
       "    <tr>\n",
       "      <th>50</th>\n",
       "      <td>30</td>\n",
       "      <td>[RudeService, OrderProblem, BadFood, Filthy]</td>\n",
       "      <td>[1.0, 1.0, 1.0, 0.6667]</td>\n",
       "      <td>Atlanta</td>\n",
       "      <td>THIS MCDONALDS IS HORRIBLE! They are also down...</td>\n",
       "      <td>RudeService</td>\n",
       "      <td>1.0000</td>\n",
       "    </tr>\n",
       "    <tr>\n",
       "      <th>51</th>\n",
       "      <td>31</td>\n",
       "      <td>[RudeService, OrderProblem, BadFood]</td>\n",
       "      <td>[0.6585, 0.6585, 0.6585]</td>\n",
       "      <td>Atlanta</td>\n",
       "      <td>Nuts and bolts: Stopped by on my way into work...</td>\n",
       "      <td>RudeService</td>\n",
       "      <td>0.6585</td>\n",
       "    </tr>\n",
       "    <tr>\n",
       "      <th>52</th>\n",
       "      <td>31</td>\n",
       "      <td>[RudeService, OrderProblem, BadFood]</td>\n",
       "      <td>[0.6585, 0.6585, 0.6585]</td>\n",
       "      <td>Atlanta</td>\n",
       "      <td>Nuts and bolts: Stopped by on my way into work...</td>\n",
       "      <td>BadFood</td>\n",
       "      <td>0.6585</td>\n",
       "    </tr>\n",
       "    <tr>\n",
       "      <th>53</th>\n",
       "      <td>31</td>\n",
       "      <td>[RudeService, OrderProblem, BadFood]</td>\n",
       "      <td>[0.6585, 0.6585, 0.6585]</td>\n",
       "      <td>Atlanta</td>\n",
       "      <td>Nuts and bolts: Stopped by on my way into work...</td>\n",
       "      <td>OrderProblem</td>\n",
       "      <td>0.6585</td>\n",
       "    </tr>\n",
       "    <tr>\n",
       "      <th>54</th>\n",
       "      <td>32</td>\n",
       "      <td>[MissingFood]</td>\n",
       "      <td>[0.7084]</td>\n",
       "      <td>Atlanta</td>\n",
       "      <td>The ice cream machine is always \"down\" after 1...</td>\n",
       "      <td>MissingFood</td>\n",
       "      <td>0.7084</td>\n",
       "    </tr>\n",
       "    <tr>\n",
       "      <th>55</th>\n",
       "      <td>33</td>\n",
       "      <td>[RudeService, BadFood, Filthy, SlowService]</td>\n",
       "      <td>[1.0, 1.0, 0.7084, 0.6289]</td>\n",
       "      <td>Atlanta</td>\n",
       "      <td>TOXIC DUMP! In food quality and employee human...</td>\n",
       "      <td>RudeService</td>\n",
       "      <td>1.0000</td>\n",
       "    </tr>\n",
       "    <tr>\n",
       "      <th>56</th>\n",
       "      <td>33</td>\n",
       "      <td>[RudeService, BadFood, Filthy, SlowService]</td>\n",
       "      <td>[1.0, 1.0, 0.7084, 0.6289]</td>\n",
       "      <td>Atlanta</td>\n",
       "      <td>TOXIC DUMP! In food quality and employee human...</td>\n",
       "      <td>BadFood</td>\n",
       "      <td>1.0000</td>\n",
       "    </tr>\n",
       "    <tr>\n",
       "      <th>57</th>\n",
       "      <td>33</td>\n",
       "      <td>[RudeService, BadFood, Filthy, SlowService]</td>\n",
       "      <td>[1.0, 1.0, 0.7084, 0.6289]</td>\n",
       "      <td>Atlanta</td>\n",
       "      <td>TOXIC DUMP! In food quality and employee human...</td>\n",
       "      <td>SlowService</td>\n",
       "      <td>0.6289</td>\n",
       "    </tr>\n",
       "    <tr>\n",
       "      <th>58</th>\n",
       "      <td>33</td>\n",
       "      <td>[RudeService, BadFood, Filthy, SlowService]</td>\n",
       "      <td>[1.0, 1.0, 0.7084, 0.6289]</td>\n",
       "      <td>Atlanta</td>\n",
       "      <td>TOXIC DUMP! In food quality and employee human...</td>\n",
       "      <td>Filthy</td>\n",
       "      <td>0.7084</td>\n",
       "    </tr>\n",
       "    <tr>\n",
       "      <th>59</th>\n",
       "      <td>34</td>\n",
       "      <td>[BadFood]</td>\n",
       "      <td>[1]</td>\n",
       "      <td>Atlanta</td>\n",
       "      <td>I know i shouldn't need to ask but experience ...</td>\n",
       "      <td>BadFood</td>\n",
       "      <td>1.0000</td>\n",
       "    </tr>\n",
       "  </tbody>\n",
       "</table>\n",
       "</div>"
      ],
      "text/plain": [
       "    no.                                           tag  \\\n",
       "50   30  [RudeService, OrderProblem, BadFood, Filthy]   \n",
       "51   31          [RudeService, OrderProblem, BadFood]   \n",
       "52   31          [RudeService, OrderProblem, BadFood]   \n",
       "53   31          [RudeService, OrderProblem, BadFood]   \n",
       "54   32                                 [MissingFood]   \n",
       "55   33   [RudeService, BadFood, Filthy, SlowService]   \n",
       "56   33   [RudeService, BadFood, Filthy, SlowService]   \n",
       "57   33   [RudeService, BadFood, Filthy, SlowService]   \n",
       "58   33   [RudeService, BadFood, Filthy, SlowService]   \n",
       "59   34                                     [BadFood]   \n",
       "\n",
       "                      tag_conf     city  \\\n",
       "50     [1.0, 1.0, 1.0, 0.6667]  Atlanta   \n",
       "51    [0.6585, 0.6585, 0.6585]  Atlanta   \n",
       "52    [0.6585, 0.6585, 0.6585]  Atlanta   \n",
       "53    [0.6585, 0.6585, 0.6585]  Atlanta   \n",
       "54                    [0.7084]  Atlanta   \n",
       "55  [1.0, 1.0, 0.7084, 0.6289]  Atlanta   \n",
       "56  [1.0, 1.0, 0.7084, 0.6289]  Atlanta   \n",
       "57  [1.0, 1.0, 0.7084, 0.6289]  Atlanta   \n",
       "58  [1.0, 1.0, 0.7084, 0.6289]  Atlanta   \n",
       "59                         [1]  Atlanta   \n",
       "\n",
       "                                               review     tag_split  filter_  \n",
       "50  THIS MCDONALDS IS HORRIBLE! They are also down...   RudeService   1.0000  \n",
       "51  Nuts and bolts: Stopped by on my way into work...   RudeService   0.6585  \n",
       "52  Nuts and bolts: Stopped by on my way into work...       BadFood   0.6585  \n",
       "53  Nuts and bolts: Stopped by on my way into work...  OrderProblem   0.6585  \n",
       "54  The ice cream machine is always \"down\" after 1...   MissingFood   0.7084  \n",
       "55  TOXIC DUMP! In food quality and employee human...   RudeService   1.0000  \n",
       "56  TOXIC DUMP! In food quality and employee human...       BadFood   1.0000  \n",
       "57  TOXIC DUMP! In food quality and employee human...   SlowService   0.6289  \n",
       "58  TOXIC DUMP! In food quality and employee human...        Filthy   0.7084  \n",
       "59  I know i shouldn't need to ask but experience ...       BadFood   1.0000  "
      ]
     },
     "execution_count": 385,
     "metadata": {},
     "output_type": "execute_result"
    }
   ],
   "source": [
    "df_tag_vertical.reset_index(drop = True)[50:60]"
   ]
  },
  {
   "cell_type": "code",
   "execution_count": 43,
   "id": "f41586df",
   "metadata": {},
   "outputs": [],
   "source": [
    "############################################"
   ]
  },
  {
   "cell_type": "markdown",
   "id": "9e7c9423",
   "metadata": {},
   "source": [
    "## Visualize"
   ]
  },
  {
   "cell_type": "code",
   "execution_count": 44,
   "id": "ce5adffc",
   "metadata": {},
   "outputs": [
    {
     "data": {
      "text/plain": [
       "<AxesSubplot:title={'center':'Events by City '}, xlabel='City'>"
      ]
     },
     "execution_count": 44,
     "metadata": {},
     "output_type": "execute_result"
    },
    {
     "data": {
      "image/png": "[encoded data removed]",
      "text/plain": [
       "<Figure size 576x432 with 1 Axes>"
      ]
     },
     "metadata": {
      "needs_background": "light"
     },
     "output_type": "display_data"
    }
   ],
   "source": [
    "\n",
    "df_tag.city.value_counts().plot(kind = 'bar',xlabel='City', figsize = [8,6], title = 'Events by City ')\n"
   ]
  },
  {
   "cell_type": "code",
   "execution_count": 389,
   "id": "086f1e9a",
   "metadata": {},
   "outputs": [
    {
     "data": {
      "text/plain": [
       "<AxesSubplot:title={'center':'Tagged'}, xlabel='Desc'>"
      ]
     },
     "execution_count": 389,
     "metadata": {},
     "output_type": "execute_result"
    },
    {
     "data": {
      "image/png": "[encoded data removed]",
      "text/plain": [
       "<Figure size 576x288 with 1 Axes>"
      ]
     },
     "metadata": {
      "needs_background": "light"
     },
     "output_type": "display_data"
    }
   ],
   "source": [
    "tag_tot = df_tag.iloc[:,4:12].astype(bool).sum(axis=0)\n",
    "tag_tot.plot(kind = 'bar',xlabel='Desc', figsize = [8,4], title = 'Tagged')"
   ]
  },
  {
   "cell_type": "code",
   "execution_count": 393,
   "id": "ff120415",
   "metadata": {},
   "outputs": [
    {
     "data": {
      "text/html": [
       "<div>\n",
       "<style scoped>\n",
       "    .dataframe tbody tr th:only-of-type {\n",
       "        vertical-align: middle;\n",
       "    }\n",
       "\n",
       "    .dataframe tbody tr th {\n",
       "        vertical-align: top;\n",
       "    }\n",
       "\n",
       "    .dataframe thead th {\n",
       "        text-align: right;\n",
       "    }\n",
       "</style>\n",
       "<table border=\"1\" class=\"dataframe\">\n",
       "  <thead>\n",
       "    <tr style=\"text-align: right;\">\n",
       "      <th></th>\n",
       "      <th>RudeService</th>\n",
       "      <th>OrderProblem</th>\n",
       "      <th>Filthy</th>\n",
       "      <th>SlowService</th>\n",
       "      <th>BadFood</th>\n",
       "      <th>ScaryMcDs</th>\n",
       "      <th>MissingFood</th>\n",
       "      <th>Cost</th>\n",
       "    </tr>\n",
       "  </thead>\n",
       "  <tbody>\n",
       "    <tr>\n",
       "      <th>0</th>\n",
       "      <td>1.0</td>\n",
       "      <td>0.6667</td>\n",
       "      <td>0.6667</td>\n",
       "      <td>0.0000</td>\n",
       "      <td>0.0000</td>\n",
       "      <td>0.0000</td>\n",
       "      <td>0.0</td>\n",
       "      <td>0.0</td>\n",
       "    </tr>\n",
       "    <tr>\n",
       "      <th>1</th>\n",
       "      <td>1.0</td>\n",
       "      <td>0.0000</td>\n",
       "      <td>0.0000</td>\n",
       "      <td>0.0000</td>\n",
       "      <td>0.0000</td>\n",
       "      <td>0.0000</td>\n",
       "      <td>0.0</td>\n",
       "      <td>0.0</td>\n",
       "    </tr>\n",
       "    <tr>\n",
       "      <th>2</th>\n",
       "      <td>0.0</td>\n",
       "      <td>1.0000</td>\n",
       "      <td>0.0000</td>\n",
       "      <td>1.0000</td>\n",
       "      <td>0.0000</td>\n",
       "      <td>0.0000</td>\n",
       "      <td>0.0</td>\n",
       "      <td>0.0</td>\n",
       "    </tr>\n",
       "    <tr>\n",
       "      <th>3</th>\n",
       "      <td>1.0</td>\n",
       "      <td>0.0000</td>\n",
       "      <td>0.0000</td>\n",
       "      <td>0.0000</td>\n",
       "      <td>0.0000</td>\n",
       "      <td>0.0000</td>\n",
       "      <td>0.0</td>\n",
       "      <td>0.0</td>\n",
       "    </tr>\n",
       "    <tr>\n",
       "      <th>4</th>\n",
       "      <td>0.0</td>\n",
       "      <td>0.0000</td>\n",
       "      <td>0.0000</td>\n",
       "      <td>0.6444</td>\n",
       "      <td>0.7111</td>\n",
       "      <td>0.0000</td>\n",
       "      <td>0.0</td>\n",
       "      <td>0.0</td>\n",
       "    </tr>\n",
       "    <tr>\n",
       "      <th>...</th>\n",
       "      <td>...</td>\n",
       "      <td>...</td>\n",
       "      <td>...</td>\n",
       "      <td>...</td>\n",
       "      <td>...</td>\n",
       "      <td>...</td>\n",
       "      <td>...</td>\n",
       "      <td>...</td>\n",
       "    </tr>\n",
       "    <tr>\n",
       "      <th>1171</th>\n",
       "      <td>0.0</td>\n",
       "      <td>0.6754</td>\n",
       "      <td>0.0000</td>\n",
       "      <td>0.0000</td>\n",
       "      <td>0.0000</td>\n",
       "      <td>0.0000</td>\n",
       "      <td>0.0</td>\n",
       "      <td>0.0</td>\n",
       "    </tr>\n",
       "    <tr>\n",
       "      <th>1172</th>\n",
       "      <td>0.0</td>\n",
       "      <td>0.0000</td>\n",
       "      <td>1.0000</td>\n",
       "      <td>1.0000</td>\n",
       "      <td>1.0000</td>\n",
       "      <td>0.0000</td>\n",
       "      <td>0.0</td>\n",
       "      <td>0.0</td>\n",
       "    </tr>\n",
       "    <tr>\n",
       "      <th>1173</th>\n",
       "      <td>0.0</td>\n",
       "      <td>0.0000</td>\n",
       "      <td>0.0000</td>\n",
       "      <td>0.0000</td>\n",
       "      <td>0.0000</td>\n",
       "      <td>0.6458</td>\n",
       "      <td>0.0</td>\n",
       "      <td>0.0</td>\n",
       "    </tr>\n",
       "    <tr>\n",
       "      <th>1174</th>\n",
       "      <td>0.0</td>\n",
       "      <td>0.0000</td>\n",
       "      <td>0.0000</td>\n",
       "      <td>0.0000</td>\n",
       "      <td>0.0000</td>\n",
       "      <td>0.6407</td>\n",
       "      <td>0.0</td>\n",
       "      <td>0.0</td>\n",
       "    </tr>\n",
       "    <tr>\n",
       "      <th>1175</th>\n",
       "      <td>0.0</td>\n",
       "      <td>0.0000</td>\n",
       "      <td>0.0000</td>\n",
       "      <td>0.6667</td>\n",
       "      <td>0.0000</td>\n",
       "      <td>1.0000</td>\n",
       "      <td>0.0</td>\n",
       "      <td>0.0</td>\n",
       "    </tr>\n",
       "  </tbody>\n",
       "</table>\n",
       "<p>1175 rows × 8 columns</p>\n",
       "</div>"
      ],
      "text/plain": [
       "      RudeService  OrderProblem  Filthy  SlowService  BadFood  ScaryMcDs  \\\n",
       "0             1.0        0.6667  0.6667       0.0000   0.0000     0.0000   \n",
       "1             1.0        0.0000  0.0000       0.0000   0.0000     0.0000   \n",
       "2             0.0        1.0000  0.0000       1.0000   0.0000     0.0000   \n",
       "3             1.0        0.0000  0.0000       0.0000   0.0000     0.0000   \n",
       "4             0.0        0.0000  0.0000       0.6444   0.7111     0.0000   \n",
       "...           ...           ...     ...          ...      ...        ...   \n",
       "1171          0.0        0.6754  0.0000       0.0000   0.0000     0.0000   \n",
       "1172          0.0        0.0000  1.0000       1.0000   1.0000     0.0000   \n",
       "1173          0.0        0.0000  0.0000       0.0000   0.0000     0.6458   \n",
       "1174          0.0        0.0000  0.0000       0.0000   0.0000     0.6407   \n",
       "1175          0.0        0.0000  0.0000       0.6667   0.0000     1.0000   \n",
       "\n",
       "      MissingFood  Cost  \n",
       "0             0.0   0.0  \n",
       "1             0.0   0.0  \n",
       "2             0.0   0.0  \n",
       "3             0.0   0.0  \n",
       "4             0.0   0.0  \n",
       "...           ...   ...  \n",
       "1171          0.0   0.0  \n",
       "1172          0.0   0.0  \n",
       "1173          0.0   0.0  \n",
       "1174          0.0   0.0  \n",
       "1175          0.0   0.0  \n",
       "\n",
       "[1175 rows x 8 columns]"
      ]
     },
     "execution_count": 393,
     "metadata": {},
     "output_type": "execute_result"
    }
   ],
   "source": [
    "df_tag.iloc[:,4:12]#.astype(bool).sum(axis=0)"
   ]
  },
  {
   "cell_type": "code",
   "execution_count": 397,
   "id": "3df1580b",
   "metadata": {},
   "outputs": [
    {
     "data": {
      "text/plain": [
       "<AxesSubplot:>"
      ]
     },
     "execution_count": 397,
     "metadata": {},
     "output_type": "execute_result"
    },
    {
     "data": {
      "image/png": "[encoded data removed]",
      "text/plain": [
       "<Figure size 720x432 with 1 Axes>"
      ]
     },
     "metadata": {
      "needs_background": "light"
     },
     "output_type": "display_data"
    }
   ],
   "source": [
    "df_tag.iloc[:,4:12].boxplot( figsize=(10,6), rot=45, fontsize=10)"
   ]
  },
  {
   "attachments": {
    "image.png": {
     "image/png": "[encoded data removed]"
    }
   },
   "cell_type": "markdown",
   "id": "d12eb7c6",
   "metadata": {},
   "source": [
    "\n",
    "<div>\n",
    "pic: focuse on the certainty   <br> \n",
    "<img src=\"attachment:image.png\" width=\"500\" align=\"left\" />\n",
    "</div>"
   ]
  },
  {
   "cell_type": "code",
   "execution_count": 456,
   "id": "223d15f7",
   "metadata": {},
   "outputs": [
    {
     "name": "stderr",
     "output_type": "stream",
     "text": [
      "posx and posy should be finite values\n",
      "posx and posy should be finite values\n"
     ]
    },
    {
     "data": {
      "image/png": "[encoded data removed]",
      "text/plain": [
       "<Figure size 1008x432 with 1 Axes>"
      ]
     },
     "metadata": {},
     "output_type": "display_data"
    }
   ],
   "source": [
    "# ! change the look\n",
    "\n",
    "import seaborn as sns\n",
    "\n",
    "# sns.set_theme(style=\"whitegrid\", palette=\"deep\")\n",
    "# sns.set_style( {\"grid.color\": \".6\", \"grid.linestyle\": \":\"})\n",
    "# sns.set_context(\"paper\")\n",
    "\n",
    "\n",
    "plt.figure(figsize=(14,6))\n",
    "ax = sns.countplot(x='city', hue='tag_split', data=df_tag_vertical, order = df_tag_vertical['city'].value_counts().index);\n",
    "ax.legend(fontsize = 12,bbox_to_anchor= (1.01, 1),title=\"tag\", title_fontsize = 12);\n",
    "for rect in ax.patches:\n",
    "    ax.text (rect.get_x() + rect.get_width(),rect.get_height()+ 2,rect.get_height()+2,horizontalalignment='center', fontsize = 9)"
   ]
  },
  {
   "cell_type": "code",
   "execution_count": 454,
   "id": "7d650355",
   "metadata": {},
   "outputs": [
    {
     "data": {
      "image/png": "[encoded data removed]",
      "text/plain": [
       "<Figure size 720x720 with 1 Axes>"
      ]
     },
     "metadata": {},
     "output_type": "display_data"
    }
   ],
   "source": [
    "from wordcloud import WordCloud\n",
    "import matplotlib.pyplot as plt\n",
    "\n",
    "def show_wordcloud(data, title = None):\n",
    "    wordcloud = WordCloud(\n",
    "        background_color = 'Gray',\n",
    "        max_words = 30,\n",
    "        max_font_size = 30, \n",
    "        scale = 2,\n",
    "        random_state = 1\n",
    "    ).generate(str(data))\n",
    "\n",
    "    fig = plt.figure(1, figsize = (10, 10))\n",
    "    plt.axis('off')\n",
    "    if title: \n",
    "        fig.suptitle(title, fontsize = 10)\n",
    "        fig.subplots_adjust(top = 2.3)\n",
    "\n",
    "    plt.imshow(wordcloud)\n",
    "    plt.show()\n",
    "\n",
    "# print wordcloud\n",
    "show_wordcloud(df_tag[\"review\"])"
   ]
  },
  {
   "cell_type": "markdown",
   "id": "aec5fe50",
   "metadata": {},
   "source": [
    "## _Preprocessing_\n",
    "*** \n",
    "<br>"
   ]
  },
  {
   "cell_type": "code",
   "execution_count": 455,
   "id": "ce829252",
   "metadata": {},
   "outputs": [
    {
     "data": {
      "text/html": [
       "<div>\n",
       "<style scoped>\n",
       "    .dataframe tbody tr th:only-of-type {\n",
       "        vertical-align: middle;\n",
       "    }\n",
       "\n",
       "    .dataframe tbody tr th {\n",
       "        vertical-align: top;\n",
       "    }\n",
       "\n",
       "    .dataframe thead th {\n",
       "        text-align: right;\n",
       "    }\n",
       "</style>\n",
       "<table border=\"1\" class=\"dataframe\">\n",
       "  <thead>\n",
       "    <tr style=\"text-align: right;\">\n",
       "      <th></th>\n",
       "      <th>no.</th>\n",
       "      <th>tag</th>\n",
       "      <th>tag_conf</th>\n",
       "      <th>city</th>\n",
       "      <th>review</th>\n",
       "      <th>tag_split</th>\n",
       "      <th>filter_</th>\n",
       "    </tr>\n",
       "  </thead>\n",
       "  <tbody>\n",
       "    <tr>\n",
       "      <th>0</th>\n",
       "      <td>0</td>\n",
       "      <td>[RudeService, OrderProblem, Filthy]</td>\n",
       "      <td>[1.0, 0.6667, 0.6667]</td>\n",
       "      <td>Atlanta</td>\n",
       "      <td>I'm not a huge mcds lover, but I've been to be...</td>\n",
       "      <td>RudeService</td>\n",
       "      <td>1.0000</td>\n",
       "    </tr>\n",
       "    <tr>\n",
       "      <th>1175</th>\n",
       "      <td>0</td>\n",
       "      <td>[RudeService, OrderProblem, Filthy]</td>\n",
       "      <td>[1.0, 0.6667, 0.6667]</td>\n",
       "      <td>Atlanta</td>\n",
       "      <td>I'm not a huge mcds lover, but I've been to be...</td>\n",
       "      <td>OrderProblem</td>\n",
       "      <td>0.6667</td>\n",
       "    </tr>\n",
       "    <tr>\n",
       "      <th>2350</th>\n",
       "      <td>0</td>\n",
       "      <td>[RudeService, OrderProblem, Filthy]</td>\n",
       "      <td>[1.0, 0.6667, 0.6667]</td>\n",
       "      <td>Atlanta</td>\n",
       "      <td>I'm not a huge mcds lover, but I've been to be...</td>\n",
       "      <td>Filthy</td>\n",
       "      <td>0.6667</td>\n",
       "    </tr>\n",
       "    <tr>\n",
       "      <th>1</th>\n",
       "      <td>1</td>\n",
       "      <td>[RudeService]</td>\n",
       "      <td>[1]</td>\n",
       "      <td>Atlanta</td>\n",
       "      <td>Terrible customer service. ξI came in at 9:30p...</td>\n",
       "      <td>RudeService</td>\n",
       "      <td>1.0000</td>\n",
       "    </tr>\n",
       "    <tr>\n",
       "      <th>3527</th>\n",
       "      <td>2</td>\n",
       "      <td>[SlowService, OrderProblem]</td>\n",
       "      <td>[1.0, 1.0]</td>\n",
       "      <td>Atlanta</td>\n",
       "      <td>First they \"lost\" my order, actually they gave...</td>\n",
       "      <td>SlowService</td>\n",
       "      <td>1.0000</td>\n",
       "    </tr>\n",
       "    <tr>\n",
       "      <th>...</th>\n",
       "      <td>...</td>\n",
       "      <td>...</td>\n",
       "      <td>...</td>\n",
       "      <td>...</td>\n",
       "      <td>...</td>\n",
       "      <td>...</td>\n",
       "      <td>...</td>\n",
       "    </tr>\n",
       "    <tr>\n",
       "      <th>3521</th>\n",
       "      <td>1172</td>\n",
       "      <td>[SlowService, Filthy, BadFood]</td>\n",
       "      <td>[1.0, 1.0, 1.0]</td>\n",
       "      <td>Houston</td>\n",
       "      <td>Worst McDonalds I've been in in a long time! D...</td>\n",
       "      <td>Filthy</td>\n",
       "      <td>1.0000</td>\n",
       "    </tr>\n",
       "    <tr>\n",
       "      <th>7047</th>\n",
       "      <td>1173</td>\n",
       "      <td>[ScaryMcDs]</td>\n",
       "      <td>[0.6458]</td>\n",
       "      <td>New York</td>\n",
       "      <td>When I am really craving for McDonald's, this ...</td>\n",
       "      <td>ScaryMcDs</td>\n",
       "      <td>0.6458</td>\n",
       "    </tr>\n",
       "    <tr>\n",
       "      <th>7048</th>\n",
       "      <td>1174</td>\n",
       "      <td>[ScaryMcDs]</td>\n",
       "      <td>[0.6407]</td>\n",
       "      <td>Chicago</td>\n",
       "      <td>Two points right out of the gate: 1. Thuggery ...</td>\n",
       "      <td>ScaryMcDs</td>\n",
       "      <td>0.6407</td>\n",
       "    </tr>\n",
       "    <tr>\n",
       "      <th>4699</th>\n",
       "      <td>1175</td>\n",
       "      <td>[ScaryMcDs, SlowService]</td>\n",
       "      <td>[1.0, 0.6667]</td>\n",
       "      <td>Los Angeles</td>\n",
       "      <td>I wanted to grab breakfast one morning before ...</td>\n",
       "      <td>SlowService</td>\n",
       "      <td>0.6667</td>\n",
       "    </tr>\n",
       "    <tr>\n",
       "      <th>7049</th>\n",
       "      <td>1175</td>\n",
       "      <td>[ScaryMcDs, SlowService]</td>\n",
       "      <td>[1.0, 0.6667]</td>\n",
       "      <td>Los Angeles</td>\n",
       "      <td>I wanted to grab breakfast one morning before ...</td>\n",
       "      <td>ScaryMcDs</td>\n",
       "      <td>1.0000</td>\n",
       "    </tr>\n",
       "  </tbody>\n",
       "</table>\n",
       "<p>1830 rows × 7 columns</p>\n",
       "</div>"
      ],
      "text/plain": [
       "       no.                                  tag               tag_conf  \\\n",
       "0        0  [RudeService, OrderProblem, Filthy]  [1.0, 0.6667, 0.6667]   \n",
       "1175     0  [RudeService, OrderProblem, Filthy]  [1.0, 0.6667, 0.6667]   \n",
       "2350     0  [RudeService, OrderProblem, Filthy]  [1.0, 0.6667, 0.6667]   \n",
       "1        1                        [RudeService]                    [1]   \n",
       "3527     2          [SlowService, OrderProblem]             [1.0, 1.0]   \n",
       "...    ...                                  ...                    ...   \n",
       "3521  1172       [SlowService, Filthy, BadFood]        [1.0, 1.0, 1.0]   \n",
       "7047  1173                          [ScaryMcDs]               [0.6458]   \n",
       "7048  1174                          [ScaryMcDs]               [0.6407]   \n",
       "4699  1175             [ScaryMcDs, SlowService]          [1.0, 0.6667]   \n",
       "7049  1175             [ScaryMcDs, SlowService]          [1.0, 0.6667]   \n",
       "\n",
       "             city                                             review  \\\n",
       "0         Atlanta  I'm not a huge mcds lover, but I've been to be...   \n",
       "1175      Atlanta  I'm not a huge mcds lover, but I've been to be...   \n",
       "2350      Atlanta  I'm not a huge mcds lover, but I've been to be...   \n",
       "1         Atlanta  Terrible customer service. ξI came in at 9:30p...   \n",
       "3527      Atlanta  First they \"lost\" my order, actually they gave...   \n",
       "...           ...                                                ...   \n",
       "3521      Houston  Worst McDonalds I've been in in a long time! D...   \n",
       "7047     New York  When I am really craving for McDonald's, this ...   \n",
       "7048      Chicago  Two points right out of the gate: 1. Thuggery ...   \n",
       "4699  Los Angeles  I wanted to grab breakfast one morning before ...   \n",
       "7049  Los Angeles  I wanted to grab breakfast one morning before ...   \n",
       "\n",
       "         tag_split  filter_  \n",
       "0      RudeService   1.0000  \n",
       "1175  OrderProblem   0.6667  \n",
       "2350        Filthy   0.6667  \n",
       "1      RudeService   1.0000  \n",
       "3527   SlowService   1.0000  \n",
       "...            ...      ...  \n",
       "3521        Filthy   1.0000  \n",
       "7047     ScaryMcDs   0.6458  \n",
       "7048     ScaryMcDs   0.6407  \n",
       "4699   SlowService   0.6667  \n",
       "7049     ScaryMcDs   1.0000  \n",
       "\n",
       "[1830 rows x 7 columns]"
      ]
     },
     "execution_count": 455,
     "metadata": {},
     "output_type": "execute_result"
    }
   ],
   "source": [
    "df_tag_vertical"
   ]
  },
  {
   "cell_type": "markdown",
   "id": "9241b643",
   "metadata": {},
   "source": [
    "### Multiclass text classification \n",
    "***\n",
    "ref : https://pytorch.org/tutorials/intermediate/char_rnn_classification_tutorial.html#creating-the-network"
   ]
  },
  {
   "cell_type": "code",
   "execution_count": 573,
   "id": "11d6684e",
   "metadata": {},
   "outputs": [
    {
     "data": {
      "text/plain": [
       "Index(['no.', 'tag', 'tag_conf', 'city', 'review', 'tag_split', 'filter_'], dtype='object')"
      ]
     },
     "execution_count": 573,
     "metadata": {},
     "output_type": "execute_result"
    }
   ],
   "source": [
    "df_tag_vertical.columns"
   ]
  },
  {
   "cell_type": "code",
   "execution_count": 596,
   "id": "ae61c5a5",
   "metadata": {},
   "outputs": [],
   "source": [
    "data = df_tag_vertical[['review','tag_split']]"
   ]
  },
  {
   "cell_type": "code",
   "execution_count": 575,
   "id": "820f6396",
   "metadata": {},
   "outputs": [
    {
     "data": {
      "text/plain": [
       "\"abcdefghijklmnopqrstuvwxyzABCDEFGHIJKLMNOPQRSTUVWXYZ .,;'\""
      ]
     },
     "execution_count": 575,
     "metadata": {},
     "output_type": "execute_result"
    }
   ],
   "source": [
    "import unicodedata\n",
    "import string\n",
    "all_letters = string.ascii_letters + \" .,;'\"\n",
    "n_letters = len(all_letters)\n",
    "\n",
    "all_letters"
   ]
  },
  {
   "cell_type": "code",
   "execution_count": 655,
   "id": "d75a887f",
   "metadata": {},
   "outputs": [],
   "source": [
    "#Turn a Unicode string to plain ASCII (may alter the meaning of words)\n",
    "def unicodeToAscii(s):\n",
    "    return ''.join(\n",
    "        c for c in unicodedata.normalize('NFD', s)\n",
    "        if unicodedata.category(c) != 'Mn'\n",
    "        and c in all_letters\n",
    "    )"
   ]
  },
  {
   "cell_type": "code",
   "execution_count": 656,
   "id": "9750c235",
   "metadata": {},
   "outputs": [
    {
     "name": "stdout",
     "output_type": "stream",
     "text": [
      "Emile\n"
     ]
    }
   ],
   "source": [
    "print(unicodeToAscii('Émile'))"
   ]
  },
  {
   "cell_type": "code",
   "execution_count": 657,
   "id": "7eb2171e",
   "metadata": {},
   "outputs": [],
   "source": [
    "#### Build the review dictionary, a list of tags per review"
   ]
  },
  {
   "cell_type": "code",
   "execution_count": 658,
   "id": "1b699b09",
   "metadata": {},
   "outputs": [],
   "source": [
    "language_names = {}"
   ]
  },
  {
   "cell_type": "code",
   "execution_count": 659,
   "id": "7006eafc",
   "metadata": {},
   "outputs": [
    {
     "data": {
      "text/plain": [
       "8"
      ]
     },
     "execution_count": 659,
     "metadata": {},
     "output_type": "execute_result"
    }
   ],
   "source": [
    "n_languages = len(set(data.tag_split))\n",
    "n_languages"
   ]
  },
  {
   "cell_type": "code",
   "execution_count": 660,
   "id": "1c2f166f",
   "metadata": {},
   "outputs": [
    {
     "data": {
      "text/plain": [
       "{'BadFood',\n",
       " 'Cost',\n",
       " 'Filthy',\n",
       " 'MissingFood',\n",
       " 'OrderProblem',\n",
       " 'RudeService',\n",
       " 'ScaryMcDs',\n",
       " 'SlowService'}"
      ]
     },
     "execution_count": 660,
     "metadata": {},
     "output_type": "execute_result"
    }
   ],
   "source": [
    "language_names = set(set(data.tag_split))\n",
    "language_names"
   ]
  },
  {
   "cell_type": "code",
   "execution_count": 775,
   "id": "ed5fb154",
   "metadata": {},
   "outputs": [
    {
     "data": {
      "text/plain": [
       "['BadFood',\n",
       " 'Cost',\n",
       " 'Filthy',\n",
       " 'MissingFood',\n",
       " 'OrderProblem',\n",
       " 'RudeService',\n",
       " 'ScaryMcDs',\n",
       " 'SlowService']"
      ]
     },
     "execution_count": 775,
     "metadata": {},
     "output_type": "execute_result"
    }
   ],
   "source": [
    "all_languages = []\n",
    "for i in language_names:\n",
    "    all_languages.append(i)\n",
    "all_languages"
   ]
  },
  {
   "cell_type": "code",
   "execution_count": 684,
   "id": "2974f63e",
   "metadata": {},
   "outputs": [
    {
     "data": {
      "text/plain": [
       "\"The worst service ever. And I'm not a rude person, at all. I said please and thank you. And I absolutely was not greeted whatsoever. Whoever that dumbass lady was, that was working needs to take that stick out of her. Don't be mad at me 'cause you hate YOUR job, bitch. Let's not forget that everyone is REPLACEABLE, including your miserable self. It took every bit of me not to cuss her out. I'd write a letter to corporate but she did not give me a receipt. Go figure right. I'm not one to talk down on people that works fast food because it's not in my character to knock someone's hustle. But she really needs to get it together. And for that, I will NOT ever return to this McDonald's ever again. Some bullshit. Oh. And. Not only did I not get a receipt... I didn't get a straw. And instead of  piece chicken nuggets, I got . What in the fucking fuck..... Fuck that McDonalds.\""
      ]
     },
     "execution_count": 684,
     "metadata": {},
     "output_type": "execute_result"
    }
   ],
   "source": [
    "# run unicodeToAscii on review\n",
    "\n",
    "data.loc[:,'review']\n",
    "a= data['review'].apply(unicodeToAscii)\n",
    "b = pd.concat([a.to_frame(), data.loc[:,'tag_split']], axis = 1)\n",
    "#a['tag'] = data.loc[:,'tag_split']\n",
    "data = b.sort_values(by = 'tag_split')\n",
    "\n",
    "\n",
    "#language_names = data.to_dict()\n",
    "language_names = data.set_index('tag_split')['review'].to_dict()\n",
    "language_names['RudeService'][:]\n",
    "\n"
   ]
  },
  {
   "cell_type": "code",
   "execution_count": 663,
   "id": "11472277",
   "metadata": {},
   "outputs": [
    {
     "data": {
      "text/html": [
       "<div>\n",
       "<style scoped>\n",
       "    .dataframe tbody tr th:only-of-type {\n",
       "        vertical-align: middle;\n",
       "    }\n",
       "\n",
       "    .dataframe tbody tr th {\n",
       "        vertical-align: top;\n",
       "    }\n",
       "\n",
       "    .dataframe thead th {\n",
       "        text-align: right;\n",
       "    }\n",
       "</style>\n",
       "<table border=\"1\" class=\"dataframe\">\n",
       "  <thead>\n",
       "    <tr style=\"text-align: right;\">\n",
       "      <th></th>\n",
       "      <th>review</th>\n",
       "      <th>tag_split</th>\n",
       "    </tr>\n",
       "  </thead>\n",
       "  <tbody>\n",
       "    <tr>\n",
       "      <th>0</th>\n",
       "      <td>I'm not a huge mcds lover, but I've been to be...</td>\n",
       "      <td>RudeService</td>\n",
       "    </tr>\n",
       "    <tr>\n",
       "      <th>1175</th>\n",
       "      <td>I'm not a huge mcds lover, but I've been to be...</td>\n",
       "      <td>OrderProblem</td>\n",
       "    </tr>\n",
       "    <tr>\n",
       "      <th>2350</th>\n",
       "      <td>I'm not a huge mcds lover, but I've been to be...</td>\n",
       "      <td>Filthy</td>\n",
       "    </tr>\n",
       "    <tr>\n",
       "      <th>1</th>\n",
       "      <td>Terrible customer service. I came in at pm and...</td>\n",
       "      <td>RudeService</td>\n",
       "    </tr>\n",
       "    <tr>\n",
       "      <th>3527</th>\n",
       "      <td>First they lost my order, actually they gave i...</td>\n",
       "      <td>SlowService</td>\n",
       "    </tr>\n",
       "    <tr>\n",
       "      <th>...</th>\n",
       "      <td>...</td>\n",
       "      <td>...</td>\n",
       "    </tr>\n",
       "    <tr>\n",
       "      <th>3521</th>\n",
       "      <td>Worst McDonalds I've been in in a long time Di...</td>\n",
       "      <td>Filthy</td>\n",
       "    </tr>\n",
       "    <tr>\n",
       "      <th>7047</th>\n",
       "      <td>When I am really craving for McDonald's, this ...</td>\n",
       "      <td>ScaryMcDs</td>\n",
       "    </tr>\n",
       "    <tr>\n",
       "      <th>7048</th>\n",
       "      <td>Two points right out of the gate . Thuggery kn...</td>\n",
       "      <td>ScaryMcDs</td>\n",
       "    </tr>\n",
       "    <tr>\n",
       "      <th>4699</th>\n",
       "      <td>I wanted to grab breakfast one morning before ...</td>\n",
       "      <td>SlowService</td>\n",
       "    </tr>\n",
       "    <tr>\n",
       "      <th>7049</th>\n",
       "      <td>I wanted to grab breakfast one morning before ...</td>\n",
       "      <td>ScaryMcDs</td>\n",
       "    </tr>\n",
       "  </tbody>\n",
       "</table>\n",
       "<p>1830 rows × 2 columns</p>\n",
       "</div>"
      ],
      "text/plain": [
       "                                                 review     tag_split\n",
       "0     I'm not a huge mcds lover, but I've been to be...   RudeService\n",
       "1175  I'm not a huge mcds lover, but I've been to be...  OrderProblem\n",
       "2350  I'm not a huge mcds lover, but I've been to be...        Filthy\n",
       "1     Terrible customer service. I came in at pm and...   RudeService\n",
       "3527  First they lost my order, actually they gave i...   SlowService\n",
       "...                                                 ...           ...\n",
       "3521  Worst McDonalds I've been in in a long time Di...        Filthy\n",
       "7047  When I am really craving for McDonald's, this ...     ScaryMcDs\n",
       "7048  Two points right out of the gate . Thuggery kn...     ScaryMcDs\n",
       "4699  I wanted to grab breakfast one morning before ...   SlowService\n",
       "7049  I wanted to grab breakfast one morning before ...     ScaryMcDs\n",
       "\n",
       "[1830 rows x 2 columns]"
      ]
     },
     "execution_count": 663,
     "metadata": {},
     "output_type": "execute_result"
    }
   ],
   "source": [
    "data"
   ]
  },
  {
   "cell_type": "code",
   "execution_count": 664,
   "id": "69290e87",
   "metadata": {},
   "outputs": [],
   "source": [
    "import torch\n",
    "\n",
    "def letterToTensor(letter):\n",
    "    \n",
    "    tensor = torch.zeros(1, n_letters)\n",
    "    tensor[0][all_letters.find(letter)] = 1\n",
    "    \n",
    "    return tensor"
   ]
  },
  {
   "cell_type": "code",
   "execution_count": 665,
   "id": "b6dbc1d8",
   "metadata": {},
   "outputs": [],
   "source": [
    "def nameToTensor(name):\n",
    "    tensor = torch.zeros(len(name), 1, n_letters)\n",
    "    \n",
    "    for li, letter in enumerate(name):\n",
    "        tensor[li][0][all_letters.find(letter)] = 1\n",
    "    \n",
    "    return tensor"
   ]
  },
  {
   "cell_type": "code",
   "execution_count": 666,
   "id": "653cda79",
   "metadata": {},
   "outputs": [],
   "source": [
    "import torch.nn as nn\n",
    "\n",
    "class RNN(nn.Module):\n",
    "    \n",
    "    def __init__(self, input_size, hidden_size, output_size):\n",
    "        \n",
    "        super(RNN, self).__init__()\n",
    "\n",
    "        self.hidden_size = hidden_size\n",
    "\n",
    "        self.i2h = nn.Linear(input_size + hidden_size, hidden_size)\n",
    "        \n",
    "        self.i2o = nn.Linear(input_size + hidden_size, output_size)\n",
    "        \n",
    "        self.softmax = nn.LogSoftmax(dim=1)\n",
    "\n",
    "    def forward(self, input, hidden):\n",
    "        combined = torch.cat((input, hidden), 1)\n",
    "        \n",
    "        hidden = self.i2h(combined)\n",
    "        \n",
    "        output = self.i2o(combined)\n",
    "        output = self.softmax(output)\n",
    "        \n",
    "        return output, hidden\n",
    "\n",
    "    def initHidden(self):\n",
    "        return torch.zeros(1, self.hidden_size)"
   ]
  },
  {
   "cell_type": "code",
   "execution_count": 667,
   "id": "473e9f97",
   "metadata": {},
   "outputs": [],
   "source": [
    "n_hidden = 256\n",
    "\n",
    "rnn = RNN(n_letters, n_hidden, n_languages)"
   ]
  },
  {
   "cell_type": "markdown",
   "id": "e8a68a57",
   "metadata": {},
   "source": [
    "##### Manually testing the network"
   ]
  },
  {
   "cell_type": "code",
   "execution_count": 668,
   "id": "7213c0a2",
   "metadata": {},
   "outputs": [
    {
     "name": "stdout",
     "output_type": "stream",
     "text": [
      "output size = torch.Size([1, 8])\n",
      "next_hidden size = torch.Size([1, 256])\n"
     ]
    }
   ],
   "source": [
    "inp = letterToTensor('C')\n",
    "\n",
    "hidden = torch.zeros(1, n_hidden)\n",
    "\n",
    "output, next_hidden = rnn(inp, hidden)\n",
    "\n",
    "print('output size =', output.size())\n",
    "print('next_hidden size =', next_hidden.size())"
   ]
  },
  {
   "cell_type": "code",
   "execution_count": 669,
   "id": "90ae7fdb",
   "metadata": {},
   "outputs": [
    {
     "name": "stdout",
     "output_type": "stream",
     "text": [
      "tensor([[-2.0382, -2.0379, -2.1462, -2.0872, -2.0694, -2.1143, -2.1392, -2.0118]],\n",
      "       grad_fn=<LogSoftmaxBackward>)\n",
      "\n",
      "--- next_hidden ---\n",
      "tensor([[-4.8299e-03,  3.8728e-02,  3.4472e-02, -8.9662e-02, -1.1864e-02,\n",
      "         -1.7731e-02, -1.6035e-02,  5.1604e-02, -4.1644e-03, -2.8943e-02,\n",
      "          9.0828e-02,  1.8771e-02, -4.7495e-02,  3.0918e-02, -3.1048e-02,\n",
      "          1.6877e-02,  2.4660e-02,  7.5654e-02, -7.6901e-02, -3.4608e-02,\n",
      "         -8.9736e-03, -4.7176e-03,  5.0332e-02, -2.7482e-02, -7.0176e-02,\n",
      "         -7.3175e-02, -3.8498e-02, -6.9699e-02,  7.9512e-02, -5.3419e-02,\n",
      "          5.9593e-02, -6.2045e-02,  4.1661e-02,  5.6514e-02, -6.0886e-04,\n",
      "         -5.4843e-02, -3.9702e-02,  2.2190e-02, -1.2401e-02,  2.1037e-02,\n",
      "         -6.4612e-02,  6.6727e-02,  1.2127e-02,  3.4223e-03,  3.2390e-02,\n",
      "         -3.2085e-02, -5.2973e-03, -9.6483e-03,  4.3091e-02, -6.1582e-02,\n",
      "         -1.0760e-02, -1.2132e-02,  1.0088e-01,  3.3562e-02,  2.3480e-02,\n",
      "          2.9572e-02,  4.9331e-03, -7.6031e-02,  5.6503e-02, -4.6873e-05,\n",
      "          3.2366e-02,  3.8465e-02,  6.2684e-02, -1.9460e-02, -7.7337e-02,\n",
      "         -4.7678e-02,  7.7764e-02, -6.6563e-02,  2.9501e-02, -3.1821e-02,\n",
      "         -6.4914e-02,  8.3240e-03,  1.1730e-03,  3.6094e-02, -5.4400e-02,\n",
      "         -1.9205e-03, -5.6407e-03, -6.7248e-03,  1.1991e-02,  2.6188e-02,\n",
      "         -2.5731e-02,  7.3942e-03,  1.9214e-02,  8.3417e-02, -5.9135e-02,\n",
      "         -1.9330e-02,  2.4527e-02,  1.1396e-02, -1.5953e-02, -1.8400e-02,\n",
      "          2.6869e-02,  1.9103e-02, -4.8095e-02,  3.2342e-02,  3.8939e-02,\n",
      "         -2.9718e-02, -2.2229e-03, -2.5373e-02,  1.5180e-02, -4.6424e-02,\n",
      "          3.4893e-02,  2.0419e-02,  6.7241e-02,  3.3358e-02,  3.8129e-02,\n",
      "          2.4169e-02,  5.0316e-02,  8.5595e-03, -3.4138e-02, -9.0243e-02,\n",
      "         -2.6771e-02, -4.6409e-02, -1.1112e-02, -3.8491e-02, -2.2095e-02,\n",
      "          2.1785e-02,  2.5918e-02,  1.4346e-02,  2.8672e-02, -2.5072e-02,\n",
      "          8.3060e-02,  7.6994e-03, -2.0552e-02,  7.2923e-02, -4.5211e-02,\n",
      "         -1.0475e-01,  4.0937e-02, -5.6665e-02,  3.6000e-02, -4.7693e-03,\n",
      "          2.9846e-02, -2.1716e-02, -5.4242e-02,  1.1595e-02,  6.8332e-02,\n",
      "         -1.5726e-02, -4.0512e-02, -4.6626e-02, -2.6478e-02, -4.8687e-02,\n",
      "          3.1660e-02, -2.6452e-02,  9.1506e-02,  6.7645e-02,  8.1506e-02,\n",
      "         -4.7969e-02, -3.6829e-02,  4.9216e-02, -8.1059e-02,  7.0756e-02,\n",
      "         -3.3195e-02,  2.9787e-02, -2.9057e-02,  5.1197e-03, -3.3101e-02,\n",
      "         -1.0004e-02,  2.1084e-02, -7.4698e-02, -6.0441e-02,  5.0694e-02,\n",
      "          4.7119e-02,  4.8314e-02,  1.4992e-02,  2.0847e-02,  5.7170e-02,\n",
      "         -1.1159e-02, -9.2741e-03, -5.8646e-02, -5.9236e-02, -8.8805e-02,\n",
      "          1.0581e-02,  5.2993e-02, -4.3795e-03, -1.2388e-02, -3.3644e-02,\n",
      "         -3.8559e-02,  4.9785e-02,  2.8020e-02, -8.7302e-03, -2.4329e-02,\n",
      "         -1.3589e-02, -3.5068e-02, -6.9526e-02, -4.5007e-02,  6.0916e-02,\n",
      "          5.2270e-02, -2.3326e-02,  1.5747e-02,  7.7912e-02, -1.0423e-01,\n",
      "          1.5728e-02, -2.6215e-02,  4.5278e-03,  1.3776e-02,  9.0789e-02,\n",
      "         -5.0752e-02, -9.3514e-02, -2.6771e-02,  3.8234e-03,  1.1149e-02,\n",
      "          9.3410e-02, -1.0269e-01, -1.0883e-02,  1.8929e-02, -3.5851e-02,\n",
      "         -1.1022e-02,  9.6116e-03,  7.6272e-02, -3.1905e-02, -9.9164e-03,\n",
      "         -1.2673e-02, -2.2328e-02,  2.1909e-03, -4.9466e-02, -6.9164e-03,\n",
      "          2.5584e-03,  2.0313e-02,  2.3445e-02, -6.0761e-03, -6.3406e-02,\n",
      "          2.9068e-02, -3.9212e-02, -4.7077e-02, -4.4040e-02, -5.6297e-02,\n",
      "         -3.2892e-02, -6.1181e-03,  1.7319e-02, -7.5426e-02, -2.6979e-02,\n",
      "          1.8105e-03,  5.2171e-02,  7.0898e-02, -1.5168e-02, -2.8239e-02,\n",
      "          6.7664e-02, -6.0981e-02,  6.6310e-02,  9.3911e-02, -5.5963e-04,\n",
      "          2.3097e-02,  2.9173e-02, -4.6503e-02,  2.3727e-02, -6.3727e-02,\n",
      "         -3.2136e-02, -5.4815e-02, -2.7778e-02,  7.2316e-02,  6.2265e-03,\n",
      "          9.9984e-03,  1.1733e-03, -3.8245e-02,  2.1123e-02,  2.0930e-03,\n",
      "          3.3853e-02]], grad_fn=<AddmmBackward>)\n"
     ]
    }
   ],
   "source": [
    "inp = nameToTensor('bla bla test text')\n",
    "hidden = torch.zeros(1, n_hidden)\n",
    "output, next_hidden = rnn(inp[0], hidden)\n",
    "print(output)\n",
    "print('\\n--- next_hidden ---')\n",
    "print(next_hidden)"
   ]
  },
  {
   "cell_type": "markdown",
   "id": "c5a95ef7",
   "metadata": {},
   "source": [
    "##### Preparing for Training"
   ]
  },
  {
   "cell_type": "raw",
   "id": "e734eb43",
   "metadata": {},
   "source": [
    "helper functions - the first one is to interpret the output of the network, which we know to be a likelihood of each language. We can use Tensor.topk to get the index of the greatest value"
   ]
  },
  {
   "cell_type": "code",
   "execution_count": 670,
   "id": "53c1fad3",
   "metadata": {},
   "outputs": [],
   "source": [
    "def languageFromOutput(output):\n",
    "    _, top_i = output.topk(1)   \n",
    "    language_i = top_i[0].item()\n",
    "    return all_languages[language_i], language_i"
   ]
  },
  {
   "cell_type": "code",
   "execution_count": 671,
   "id": "c2f56b35",
   "metadata": {},
   "outputs": [
    {
     "name": "stdout",
     "output_type": "stream",
     "text": [
      "('MissingFood', 7)\n"
     ]
    }
   ],
   "source": [
    "print(languageFromOutput(output))"
   ]
  },
  {
   "cell_type": "raw",
   "id": "b195063f",
   "metadata": {},
   "source": [
    "We will also want a quick way to get a training example (a name and its language)"
   ]
  },
  {
   "cell_type": "code",
   "execution_count": 781,
   "id": "5479aef4",
   "metadata": {},
   "outputs": [
    {
     "data": {
      "text/plain": [
       "735    Wow... absolutely the worst, most shameful McD...\n",
       "712    Bar none.. Worst McDonalds. If you frequent th...\n",
       "895    Drove through very late. Asked for a moment an...\n",
       "715    Easily the worst McDonalds I've seen in a long...\n",
       "736    A bit of history  this McDonalds is located on...\n",
       "                             ...                        \n",
       "112    Management is very rude here, I bring my son e...\n",
       "123    By far the worst drive thru experience in the ...\n",
       "106    Worst McDonald's ever bad costumer service col...\n",
       "125    What do you expect It's a McDonalds. You go he...\n",
       "109    The worst service ever. And I'm not a rude per...\n",
       "Name: review, Length: 502, dtype: object"
      ]
     },
     "execution_count": 781,
     "metadata": {},
     "output_type": "execute_result"
    }
   ],
   "source": [
    "# Index(['review', 'tag_split'], dtype='object')\n",
    "data.tag_split[1], data.review[1], n_languages\n",
    "data.tag_split[1]\n",
    "data['tag_split']\n",
    "q= data.iloc[1,1] # i for first\n",
    "q\n",
    "#data['tag_split'] ==q\n",
    "#data.loc[tag_split == 'BadFood','review']\n",
    "data['tag_split'] == 'BadFood'\n",
    "data.review[data['tag_split'] == language]"
   ]
  },
  {
   "cell_type": "code",
   "execution_count": 784,
   "id": "bc27cdb4",
   "metadata": {},
   "outputs": [
    {
     "data": {
      "text/plain": [
       "'RudeService'"
      ]
     },
     "execution_count": 784,
     "metadata": {},
     "output_type": "execute_result"
    }
   ],
   "source": [
    "random_language_index = random.randint(0, n_languages - 1)\n",
    "language = data.tag_split[random_language_index]\n",
    "language #  RudeService\n",
    "random_language_names = data.review[data['tag_split'] == language]\n",
    "random_language_names\n",
    "name = random_language_names[random.randint(0, len(random_language_names) - 1)]\n",
    "name\n",
    "language\n",
    "\n",
    "#language_tensor = torch.tensor([all_languages.index(language)], dtype=torch.long)"
   ]
  },
  {
   "cell_type": "code",
   "execution_count": 785,
   "id": "e68e2994",
   "metadata": {},
   "outputs": [
    {
     "data": {
      "text/plain": [
       "['BadFood',\n",
       " 'Cost',\n",
       " 'Filthy',\n",
       " 'MissingFood',\n",
       " 'OrderProblem',\n",
       " 'RudeService',\n",
       " 'ScaryMcDs',\n",
       " 'SlowService']"
      ]
     },
     "execution_count": 785,
     "metadata": {},
     "output_type": "execute_result"
    }
   ],
   "source": [
    "all_languages = []\n",
    "for i in language_names:\n",
    "    all_languages.append(i)\n",
    "all_languages"
   ]
  },
  {
   "cell_type": "code",
   "execution_count": 791,
   "id": "ccbdf42e",
   "metadata": {},
   "outputs": [
    {
     "data": {
      "text/plain": [
       "tensor([5])"
      ]
     },
     "execution_count": 791,
     "metadata": {},
     "output_type": "execute_result"
    }
   ],
   "source": [
    "torch.tensor([all_languages.index(language)], dtype=torch.long)"
   ]
  },
  {
   "cell_type": "code",
   "execution_count": 818,
   "id": "ee78434a",
   "metadata": {},
   "outputs": [
    {
     "data": {
      "text/plain": [
       "tensor([[[0., 0., 0.,  ..., 0., 0., 0.]],\n",
       "\n",
       "        [[0., 0., 1.,  ..., 0., 0., 0.]],\n",
       "\n",
       "        [[0., 0., 0.,  ..., 0., 0., 0.]],\n",
       "\n",
       "        ...,\n",
       "\n",
       "        [[0., 0., 0.,  ..., 0., 0., 0.]],\n",
       "\n",
       "        [[0., 0., 0.,  ..., 0., 0., 0.]],\n",
       "\n",
       "        [[0., 0., 0.,  ..., 0., 0., 0.]]])"
      ]
     },
     "execution_count": 818,
     "metadata": {},
     "output_type": "execute_result"
    }
   ],
   "source": [
    "nameToTensor(name)"
   ]
  },
  {
   "cell_type": "code",
   "execution_count": 823,
   "id": "fb606465",
   "metadata": {},
   "outputs": [
    {
     "data": {
      "text/plain": [
       "tensor([[[0., 0., 0.,  ..., 0., 0., 0.]],\n",
       "\n",
       "        [[0., 0., 1.,  ..., 0., 0., 0.]],\n",
       "\n",
       "        [[0., 0., 0.,  ..., 0., 0., 0.]],\n",
       "\n",
       "        ...,\n",
       "\n",
       "        [[0., 0., 0.,  ..., 0., 0., 0.]],\n",
       "\n",
       "        [[0., 0., 0.,  ..., 0., 0., 0.]],\n",
       "\n",
       "        [[0., 0., 0.,  ..., 0., 0., 0.]]])"
      ]
     },
     "execution_count": 823,
     "metadata": {},
     "output_type": "execute_result"
    }
   ],
   "source": [
    "name_tensor = nameToTensor(name)\n",
    "name_tensor"
   ]
  },
  {
   "cell_type": "code",
   "execution_count": 1026,
   "id": "e353e91c",
   "metadata": {},
   "outputs": [],
   "source": [
    "import random\n",
    "\n",
    "def randomTrainingExample():\n",
    "    \n",
    "    random_language_index = random.randint(0, n_languages - 1)\n",
    "    language = data.tag_split.to_list()[random_language_index]\n",
    "    \n",
    "    \n",
    "    random_language_names = data.review[data['tag_split'] == language].to_list()\n",
    "    \n",
    "    name = random_language_names[random.randint(0, len(random_language_names) - 1)]\n",
    "    \n",
    "    language_tensor = torch.tensor([all_languages.index(language)], dtype=torch.long)\n",
    "    \n",
    "    name_tensor = nameToTensor(name)\n",
    "    \n",
    "    return language, name, language_tensor, name_tensor"
   ]
  },
  {
   "cell_type": "code",
   "execution_count": 1025,
   "id": "555e994d",
   "metadata": {},
   "outputs": [
    {
     "name": "stdout",
     "output_type": "stream",
     "text": [
      "BadFood This Mcdonald I rarely go to. Food is dry, service is slow. I got the oatmeal and sausage buscuit and they both were not good and dry This the type of place you forget to ask for jelly, butter or ketup because you're trying to hurry and get out of there. Its too crowded too many people hang in there like peddlers, drunks and crack heads. Dont ever lose anything like a wallet or phone bc its long gone in a matter of seconds. tensor([0]) tensor([[[0., 0., 0.,  ..., 0., 0., 0.]],\n",
      "\n",
      "        [[0., 0., 0.,  ..., 0., 0., 0.]],\n",
      "\n",
      "        [[0., 0., 0.,  ..., 0., 0., 0.]],\n",
      "\n",
      "        ...,\n",
      "\n",
      "        [[0., 0., 0.,  ..., 0., 0., 0.]],\n",
      "\n",
      "        [[0., 0., 0.,  ..., 0., 0., 0.]],\n",
      "\n",
      "        [[0., 0., 0.,  ..., 0., 0., 0.]]])\n"
     ]
    }
   ],
   "source": [
    "random_language_index = random.randint(0, n_languages - 1)\n",
    "language = data.tag_split.to_list()[random_language_index]\n",
    "\n",
    "\n",
    "random_language_names = data.review[data['tag_split'] == language].to_list()\n",
    "\n",
    "name = random_language_names[random.randint(0, len(random_language_names) - 1)]\n",
    "\n",
    "language_tensor = torch.tensor([all_languages.index(language)], dtype=torch.long)\n",
    "\n",
    "name_tensor = nameToTensor(name)\n",
    "\n",
    "print(language, name, language_tensor, name_tensor)"
   ]
  },
  {
   "cell_type": "code",
   "execution_count": 1009,
   "id": "bd4b78bb",
   "metadata": {},
   "outputs": [
    {
     "data": {
      "text/plain": [
       "'OrderProblem'"
      ]
     },
     "execution_count": 1009,
     "metadata": {},
     "output_type": "execute_result"
    }
   ],
   "source": [
    "#data.tag_split[random_language_index]\n",
    "data.tag_split.to_list()[500]"
   ]
  },
  {
   "cell_type": "code",
   "execution_count": 962,
   "id": "01ac2228",
   "metadata": {},
   "outputs": [
    {
     "data": {
      "text/plain": [
       "\"Went through the drivethrough for what I was hoping would be a quick coffee this morning. When they gave it to me, it was an iced coffee, even though I asked for it hot. They took it back and had be park to the side to wait for my coffee to be ready. When they brought it out, I drove away, only to discover that the supposedly hot coffee was actually lukewarm at best I drove back and went inside to get a new one, only to find that it was packed and I had difficulty getting to the front to request a new coffee. The entire experience took about  minutes. I'm not hating on the employees here or anything, but it was still a disappointing experience overall. This was probably just a fluke, but I recommend double checking your order before driving away, as well as avoiding this McDonalds on Sunday mornings in general.\""
      ]
     },
     "execution_count": 962,
     "metadata": {},
     "output_type": "execute_result"
    }
   ],
   "source": [
    "random_language_names[9]"
   ]
  },
  {
   "cell_type": "code",
   "execution_count": 965,
   "id": "6786925e",
   "metadata": {},
   "outputs": [
    {
     "name": "stdout",
     "output_type": "stream",
     "text": [
      "267\n"
     ]
    },
    {
     "data": {
      "text/plain": [
       "'Why do I keep falling into this hellhole times, yes, , the most I chances I have given a place...either theya Are out of whatever you want.b Have bad attitudes.c Give you cold food.d Give you melted down frozen strawberry lemonade that looks like puke, I should have taken a picture so that you would know I am not making it up.I am going to yell now, ready STAY AWAY FROM THIS PLACE'"
      ]
     },
     "execution_count": 965,
     "metadata": {},
     "output_type": "execute_result"
    }
   ],
   "source": [
    "print(random.randint(0, len(random_language_names) - 1))\n",
    "random_language_names[random.randint(0, len(random_language_names) - 1)]"
   ]
  },
  {
   "cell_type": "code",
   "execution_count": 966,
   "id": "5d6905f8",
   "metadata": {},
   "outputs": [
    {
     "ename": "AttributeError",
     "evalue": "'list' object has no attribute 'to_list'",
     "output_type": "error",
     "traceback": [
      "\u001b[1;31m---------------------------------------------------------------------------\u001b[0m",
      "\u001b[1;31mAttributeError\u001b[0m                            Traceback (most recent call last)",
      "\u001b[1;32m<ipython-input-966-3b6959bc3551>\u001b[0m in \u001b[0;36m<module>\u001b[1;34m\u001b[0m\n\u001b[1;32m----> 1\u001b[1;33m \u001b[0mrandom_language_names\u001b[0m \u001b[1;33m=\u001b[0m \u001b[0mrandom_language_names\u001b[0m\u001b[1;33m.\u001b[0m\u001b[0mto_list\u001b[0m\u001b[1;33m(\u001b[0m\u001b[1;33m)\u001b[0m\u001b[1;33m\u001b[0m\u001b[1;33m\u001b[0m\u001b[0m\n\u001b[0m",
      "\u001b[1;31mAttributeError\u001b[0m: 'list' object has no attribute 'to_list'"
     ]
    }
   ],
   "source": [
    "random_language_names = random_language_names.to_list()"
   ]
  },
  {
   "cell_type": "code",
   "execution_count": 967,
   "id": "72c20eeb",
   "metadata": {},
   "outputs": [
    {
     "name": "stdout",
     "output_type": "stream",
     "text": [
      "1 [\"The worst service ever. And I'm not a rude person, at all. I said please and thank you. And I absolutely was not greeted whatsoever. Whoever that dumbass lady was, that was working needs to take that stick out of her. Don't be mad at me 'cause you hate YOUR job, bitch. Let's not forget that everyone is REPLACEABLE, including your miserable self. It took every bit of me not to cuss her out. I'd write a letter to corporate but she did not give me a receipt. Go figure right. I'm not one to talk down on people that works fast food because it's not in my character to knock someone's hustle. But she really needs to get it together. And for that, I will NOT ever return to this McDonald's ever again. Some bullshit. Oh. And. Not only did I not get a receipt... I didn't get a straw. And instead of  piece chicken nuggets, I got . What in the fucking fuck..... Fuck that McDonalds.\"]\n",
      "2 The worst service ever. And I'm not a rude person, at all. I said please and thank you. And I absolutely was not greeted whatsoever. Whoever that dumbass lady was, that was working needs to take that stick out of her. Don't be mad at me 'cause you hate YOUR job, bitch. Let's not forget that everyone is REPLACEABLE, including your miserable self. It took every bit of me not to cuss her out. I'd write a letter to corporate but she did not give me a receipt. Go figure right. I'm not one to talk down on people that works fast food because it's not in my character to knock someone's hustle. But she really needs to get it together. And for that, I will NOT ever return to this McDonald's ever again. Some bullshit. Oh. And. Not only did I not get a receipt... I didn't get a straw. And instead of  piece chicken nuggets, I got . What in the fucking fuck..... Fuck that McDonalds.\n"
     ]
    }
   ],
   "source": [
    "len(random_language_names)\n",
    "print('1' , random_language_names[501:502])\n",
    "print('2', random_language_names[501])"
   ]
  },
  {
   "cell_type": "code",
   "execution_count": 970,
   "id": "b9b343cc",
   "metadata": {},
   "outputs": [
    {
     "data": {
      "text/plain": [
       "list"
      ]
     },
     "execution_count": 970,
     "metadata": {},
     "output_type": "execute_result"
    }
   ],
   "source": [
    "type(random_language_names)"
   ]
  },
  {
   "cell_type": "code",
   "execution_count": 969,
   "id": "e7c2a03c",
   "metadata": {},
   "outputs": [
    {
     "data": {
      "text/plain": [
       "(['BadFood',\n",
       "  'Cost',\n",
       "  'Filthy',\n",
       "  'MissingFood',\n",
       "  'OrderProblem',\n",
       "  'RudeService',\n",
       "  'ScaryMcDs',\n",
       "  'SlowService'],\n",
       " 5)"
      ]
     },
     "execution_count": 969,
     "metadata": {},
     "output_type": "execute_result"
    }
   ],
   "source": [
    "all_languages, all_languages.index(language)"
   ]
  },
  {
   "cell_type": "code",
   "execution_count": 971,
   "id": "816cca47",
   "metadata": {},
   "outputs": [],
   "source": [
    "language_tensor = torch.tensor([all_languages.index(language)], dtype=torch.long)"
   ]
  },
  {
   "cell_type": "code",
   "execution_count": 972,
   "id": "156ece34",
   "metadata": {},
   "outputs": [
    {
     "data": {
      "text/plain": [
       "tensor([5])"
      ]
     },
     "execution_count": 972,
     "metadata": {},
     "output_type": "execute_result"
    }
   ],
   "source": [
    "language_tensor"
   ]
  },
  {
   "cell_type": "code",
   "execution_count": 973,
   "id": "dd3ab978",
   "metadata": {},
   "outputs": [],
   "source": [
    "language = data.tag_split[random_language_index]"
   ]
  },
  {
   "cell_type": "code",
   "execution_count": 974,
   "id": "b9339d83",
   "metadata": {},
   "outputs": [
    {
     "data": {
      "text/plain": [
       "'RudeService'"
      ]
     },
     "execution_count": 974,
     "metadata": {},
     "output_type": "execute_result"
    }
   ],
   "source": [
    "language"
   ]
  },
  {
   "cell_type": "markdown",
   "id": "d1ca04c0",
   "metadata": {},
   "source": [
    "#### Training the Network"
   ]
  },
  {
   "cell_type": "code",
   "execution_count": 892,
   "id": "842bb84f",
   "metadata": {},
   "outputs": [],
   "source": [
    "criterion = nn.NLLLoss()\n",
    "learning_rate = 0.005 "
   ]
  },
  {
   "cell_type": "raw",
   "id": "8239c79a",
   "metadata": {},
   "source": [
    "Each loop of training will:\n",
    "\n",
    "- Create input and target tensors\n",
    "- Create a zeroed initial hidden state\n",
    "- Read each letter in and\n",
    "- Keep hidden state for next letter\n",
    "- Compare final output to target\n",
    "- Back-propagate\n",
    "- Return the output and loss"
   ]
  },
  {
   "cell_type": "code",
   "execution_count": 893,
   "id": "1338efb8",
   "metadata": {},
   "outputs": [],
   "source": [
    "def train(langauge_tensor, name_tensor):\n",
    "    \n",
    "    hidden = rnn.initHidden()\n",
    "\n",
    "    rnn.zero_grad()\n",
    "\n",
    "    for i in range(name_tensor.size()[0]):\n",
    "        output, hidden = rnn(name_tensor[i], hidden)\n",
    "\n",
    "    loss = criterion(output, langauge_tensor)\n",
    "    loss.backward()\n",
    "\n",
    "    for p in rnn.parameters():\n",
    "        p.data.add_(-learning_rate, p.grad.data)\n",
    "\n",
    "    return output, loss.item()"
   ]
  },
  {
   "cell_type": "code",
   "execution_count": 894,
   "id": "618a76a4",
   "metadata": {},
   "outputs": [],
   "source": [
    "n_iters = 200000\n",
    "\n",
    "current_loss = 0\n",
    "all_losses = []"
   ]
  },
  {
   "cell_type": "raw",
   "id": "ba2f4be2",
   "metadata": {},
   "source": [
    "- Get a random training input and target\n",
    "- Print iter number, loss, name and guess\n",
    "- Add current loss avg to list of losses"
   ]
  },
  {
   "cell_type": "code",
   "execution_count": 1028,
   "id": "317a4427",
   "metadata": {},
   "outputs": [
    {
     "data": {
      "text/plain": [
       "('BadFood',\n",
       " 'Upon my last visit ewww all I can say is ewwwwThese people at this location oh lord baby honey child they just give you cold fries. And old stale chicken nuggets they was hard like little rocks. The soda was missing soda or something it was sour. I wont ever go back to this location.. it smells funny and they looked all shocked when I asked for my money back. The outside of the bag was all wet and sticky ewwww Thank goodness I carry hand sanitizer.',\n",
       " tensor([0]),\n",
       " tensor([[[0., 0., 0.,  ..., 0., 0., 0.]],\n",
       " \n",
       "         [[0., 0., 0.,  ..., 0., 0., 0.]],\n",
       " \n",
       "         [[0., 0., 0.,  ..., 0., 0., 0.]],\n",
       " \n",
       "         ...,\n",
       " \n",
       "         [[0., 0., 0.,  ..., 0., 0., 0.]],\n",
       " \n",
       "         [[0., 0., 0.,  ..., 0., 0., 0.]],\n",
       " \n",
       "         [[0., 0., 0.,  ..., 0., 0., 0.]]]))"
      ]
     },
     "execution_count": 1028,
     "metadata": {},
     "output_type": "execute_result"
    }
   ],
   "source": [
    "randomTrainingExample()"
   ]
  },
  {
   "cell_type": "code",
   "execution_count": 1030,
   "id": "219f88d5",
   "metadata": {},
   "outputs": [
    {
     "name": "stdout",
     "output_type": "stream",
     "text": [
      "0 0% 0.0001 I don't go to McDonald's looking for anything great. I mean, it's McDonald's... howevee I am very picky about condiments so I always order my burgers plain. This McDonald's is so ridiculous. They mess up my order every time. One time they gave me coffee with creamer and sugar when I ordered black, they actually put more effort into messing up my order than making it correctly. Another time they put my fries in my bag upside down. They forgot two burgers and a large fry one time when I was picking up supper on my way home. They almost always fail to make my burger plain even though the receipt clearly says plain. They remake your food if they messed up but they aren't nice about it and they never offer you anything like a coupon or something free to make up for their mistake. And they're coffee in the morning is always burnt. It's terrible The only thing they do right is the frappes and I've only ever ordered one / BadFood ✓\n",
      "500 0% 0.0000 Management is rude and disrespectful as well as argumentative, to the customers. McDonald's Corp. should be embarrassed. I had just experience just recently with cold and old food, and I even dared to return the sandwich, and boy did I catch hell from the Manager Lady. After these reviews here and on yahoo, I may be contacting the headquarters, after all, they are the closest one to my house. I should have to contend with that no matter what. / BadFood ✓\n",
      "1000 0% 0.0000 Went in her about a month ago and order a breakfast taco and a chicken biscuit for breakfast. The breakfast taco was good, but the ckn biscuit literally looked days old. I contacted mcdonalds corporate via email to let them know. The kindly responded in email and with a call as well as send me a certificate for a free breakfast on the. I think cool they responded super fast and reasonably. So I take my coupon down to the same Mcdonalds and the guy at the register who could barely speak English proceeded to tell me I could not use it unless I ordered and paid for  breakfast meal as well. Not being able to convince him of what the coupon clearly said, I just left. I emailed corporate twice again, but no response. / BadFood ✓\n",
      "1500 0% 0.0000 This is the worst McDonald's I've ever had. I've gone twice since moving to the area and the fries were always soggy the first time they were borderline uncooked and the burgers were always poorly made and greasy. Please avoid this McDonnalds. It blows. / BadFood ✓\n",
      "2000 1% 0.0000 This is the worst McDonald's I have ever been to, and I LOVE McDonald's and all its cheap, badforyou food glory.I am a graduate student at nearby Loyola University, so I come here often to grab lunch to go as quickly as possible before scurrying out the door and seeking refuge in my classrooms to devour my goods.The first time I ordered from here, my hamburger bun was HARD. Completely stale. Assuming this was just a fluke, I continued to frequent this fine dining establishment.The next few times weren't so bad, but the fries are consistently lackluster and are flavorless, hard, and taste old; the antithesis of the coveted McDonald's french fryLast time I ordered a hamburger this was last week, the bun had marks on it that literally looked like black tire tracks running across the length of the bun. I'm not sure how this could have possibly happened, but then again, I really am not that curious. This is an okay place if you're looking for a cheap lunch in the city, but be careful to avoid the questionable individuals loitering inside and out / BadFood ✓\n",
      "2500 1% 0.0000 It had been a while since I had stopped at this particular one. They have done a total remodel and it looks fairly fresh. Stopped by about pm and went through drive thru. I thought I'd try a new McWrap. Got a fry and a spicy chick along with that.  I was asked to pull up after sitting at the window for a few minutes and they would bring me my order. That is fine, except about  minutes later I'm still waiting. So I go to check what is going on and end up waiting another  minutes.  It appeared I wasn't the only one that had a long wait in drive thru as well.  McWrap  I was disappointed. Looked like a wrap that had grilled chicken sprinkle with some mixed greens, then had sweet and sour sauce dumped in it. / BadFood ✓\n",
      "3000 1% 0.0000 Always busy, food usually cold. Sigh. / BadFood ✓\n",
      "3500 1% 0.0000 Employees look like they hate their job. Milkshake was like drinking milk. Food was cold and not warm at all. / BadFood ✓\n",
      "4000 2% 0.0000 The worst McDonalds franchise I've visited. I fired off complaints to McDonalds Corp. thinking they might want something for their file to rid themselves of this lazy franchisee  all I got was a lame apology months later w a coupon for more food It was well after the dinner rush, every table was dirty, floors so sticky I almost walked outta my shoes, surly staff, just plain dirty. / BadFood ✓\n",
      "4500 2% 0.0000 Heading into the Galleria to shoe shop with the wife, she figured it would be beneficial to get me a snack before the doldrums of shoe shopping. Thought the dollar menu should be an inexpensive snack before we went home for a full dinner.It was an easy transaction to get a soda, burger and fries, they're order fulfillment time was about the highlight of the visit.Our food was ready, so we sat down and tore into the bag. The burger was your typical McD's burger, nothing special, tastes like a very cheap, almost beef patty. The fries however, looked and tasted like they had been dropped into the fryer a couple times. Finally, the soda... there was a slightly off taste to it, could be the mix, or the syrup was on its way out, either way, it wasn't the greatest tasting soda I have had.After eating, I went to get my drink refilled, as they normally give one refill per cup at this location. Not this time. Now, if you would like a refill, it is .. I was really tempted to break out the credit card to pay for a refill, just out of spite. Laziness prevailed and I walked away. I can understand not having unlimited refills at a mall, where mallrats could abuse the refill policy. That is why it was perfectly understandable to have only one refill per cup. / BadFood ✓\n",
      "5000 2% 0.0000 FOR THE LOVE OF GOD PLEASE SALT YOUR FRIES LIKE THE OTHER MCDONALDS DO Bland bland bland. Can someone throw me a bone here I feel like having a little salt on your fries isn't asking too much. / BadFood ✓\n",
      "5500 2% 0.0000 Terrible McDonald's. Their food is always undercooked and cold. My co worker and I have gone there more than once, the burger was cold, so were the fries. We gave them the benefit of the doubt, and went again and ordered nuggets and voila. Cold again Don't come here unless you want your food cold and tasteless. / BadFood ✓\n",
      "6000 3% 0.0000 This McDonald's is located right next to the building which houses Studio Movie Grill. It's super convenient to stop by and grab a quick bite before watching a movie if you don't want to spend a lot of money for food at the theater. But that's pretty much where the pros of this location stop.I've been to this McDonald's several times, but I've been a bit disappointed on several occasions. Most recently, I went through the drivethru and got a simple order  a McChicken sandwich and small fries. I drove to the Studio Movie Grill parking lot to eat before a movie and noticed that my fries were cold. UGHHHHH... Cold McDonald's fries are the worst. LameThe employees seem to be pretty friendly, and the restaurant looks decent inside. Unfortunately, they lack power outlets I saw one, but maybe there's a one or two more scattered throughout the restaurant. This makes it inconvenient for people who like to stop by McDonald's to use their laptops, which I do quite often.Overall, this McDonald's deserves about . stars because it's right in between meh and AOK. I know some may say it's just a McDonald's, but hey  I've been to numerous other locations where their food is pretty consistent don't serve COLD fries and there are numerous power outlets for customers' use. I'll probably be back just because it's right next to Studio Movie Grill, but I'm hoping they'll start improving the quality of their fast food  at least to the McDonald's standard.Review  of  / BadFood ✓\n"
     ]
    },
    {
     "name": "stdout",
     "output_type": "stream",
     "text": [
      "6500 3% 0.0000 Nuts and bolts Stopped by on my way into work to grab breakfast after getting some Sam's Club gas.Pros Convenient location for me, right off I. Fast service.Cons The sausage biscuit I had was subpar. The biscuit was overcooked and hard. The sausage was not cooked enough. Only gave me one jelly packet. Most places give me at least two. Forgot to give me a straw for my sweet tea. Sweet tea was not sweet enough. Gave me no napkins. Neutral When I was in line paying, a woman pulled up next to me to complain to the cashier that something was wrong with her order. So she jumped in front of me to get her order fixed. Neutral about this since I don't have details.Take home I will try them one more time. If they fail again, I will just pass. / BadFood ✓\n",
      "7000 3% 0.0000 No, just no. I understand that the food I order will never ever come out like it looks in the picture, but gadaam, don't mean you gotta give me burnt buns on both my mcdoubles. Women, I told you no pickles.. and what did I get Probably the largest slices in the bunch. Now I get it's morning... your tired.. well I'm tired too When I say good morning at the window I expect some kinda of acknowledgement. / BadFood ✓\n",
      "7500 3% 0.0000 I've been to this McDonald's several times since it's near work. I tend to think only people who have had bad experiences will take the time to write a review, which I don't think reflects very well. For how many people they serve at lunch from Lane Tech students to nearby workers to families, I think they've done a pretty consistent job at being quick and having the food taste good for McDonald's standards.On the downside, drivethrough ordering has a bit of an awkward setup especially if you want to head left after you leave. They also tend not to accept a lot of promotional coupons. The quality of the food dips a bit after lunch. / BadFood ✓\n",
      "8000 4% 0.0000 The sweet tea and fries are always good but everything else on this menu at this location is meh the burgers are arguably the worst I had at any McDonald's sadly / BadFood ✓\n",
      "8500 4% 0.0000 I don't really eat fast food, let alone Yelp about it. I haven't eaten at McDonald's in years. I should've known that agreeing to indulge in a friend's Quarter Pounder craving would end badly. But visions of Chicken McNuggets and that elusive Shamrock Shake started dancing in my head, and I relented.On our way there, we keep hearing ads for the new Chipotle BBQ Angus burger, and since that almost sounds kinda good, I decided to give it a shot. My friend gets the Quarter Pounder. We decide to share a little thing of McNuggets. All's well when we place our order.Then we pull up to the drivethru, and they're doing something to the awning. Like tearing it off, which involves  people, a ladder, and complete blockage of access to the drivethru window. So now the ladderassist woman is our intermediary for the drive through window. Weird, but it worked, I guess. A quick check of the bag reveals that they didn't outright forget to put anything in our bag.Back at the abode, I'm ready to dive into my burger. I open the box. Hmm...looks a little thin for a burger. I open the bun. Oh, that's why. They didn't put the burger on my burger Just the cheese, pickles, bacon, onions and BBQ sauce. Are you frickin' kidding me No excuses, McDonald's. No excuses.And the fries were undercooked and soggy. And they didn't have the Shamrock Shake. If I ever find myself back at this McDonald's it will be against my will. / BadFood ✓\n",
      "9000 4% 0.0000 I stopped at this McDonald's because I had about two minutes to grab lunch. The ONLY reason I ever eat at a Mickey D's is because it's a fast, b cheap and c predictable. You know the food won't be awesome, but it will be reasonably eatable. Man, was I disappointed on points b and c.First, the medium Quarter Pounder meal was more than six bucks. Jeez, that's hardly a deal.What made the sticker shock worse was the poor quality of the food. This had to be the worst Quarter Pounder I've ever half eaten. Maybe even the worst fast food burger I've ever had. It looked like it had been sitting out on Uncle Zeke's radiator all morning. The burger patties were gray and curled up at the edges. The bun was dry and crusty. It's like the damn thing was somehow mummified. Just nasty. Too bad I didn't have time to take it back.This will probably be the very last time I ever eat at a McDonald's. It was that bad. / BadFood ✓\n",
      "9500 4% 0.0000 I've enjoyed a couple eggwhite delights here, but not much else. I usually really like McDonald's salads as a quick, relatively healthy option on a tight budget, but the salads I've had at this particular restaurant has been just kind of gross. / BadFood ✓\n",
      "10000 5% 0.0000 Worst McDonald's in existence, burn the fucker down.Last  only time I was here I got in an argument with a bum about whether or not he lost his spot in line when he went to take a shit.I hope he washed his hands, because I know the employees don't. And they are worse off than the derelict patrons that frequent this crap hole.Isn't MickyD's known for creating flavors that are consistent from location to location around the globe My burger tasted like lukewarm butt grease  burnt hair. / BadFood ✓\n"
     ]
    },
    {
     "ename": "KeyboardInterrupt",
     "evalue": "",
     "output_type": "error",
     "traceback": [
      "\u001b[1;31m---------------------------------------------------------------------------\u001b[0m",
      "\u001b[1;31mKeyboardInterrupt\u001b[0m                         Traceback (most recent call last)",
      "\u001b[1;32m<ipython-input-1030-01ee1cda58c7>\u001b[0m in \u001b[0;36m<module>\u001b[1;34m\u001b[0m\n\u001b[0;32m      3\u001b[0m     \u001b[0mlanguage\u001b[0m\u001b[1;33m,\u001b[0m \u001b[0mname\u001b[0m\u001b[1;33m,\u001b[0m \u001b[0mlanguage_tensor\u001b[0m\u001b[1;33m,\u001b[0m \u001b[0mname_tensor\u001b[0m \u001b[1;33m=\u001b[0m \u001b[0mrandomTrainingExample\u001b[0m\u001b[1;33m(\u001b[0m\u001b[1;33m)\u001b[0m\u001b[1;33m\u001b[0m\u001b[1;33m\u001b[0m\u001b[0m\n\u001b[0;32m      4\u001b[0m \u001b[1;33m\u001b[0m\u001b[0m\n\u001b[1;32m----> 5\u001b[1;33m     \u001b[0moutput\u001b[0m\u001b[1;33m,\u001b[0m \u001b[0mloss\u001b[0m \u001b[1;33m=\u001b[0m \u001b[0mtrain\u001b[0m\u001b[1;33m(\u001b[0m\u001b[0mlanguage_tensor\u001b[0m\u001b[1;33m,\u001b[0m \u001b[0mname_tensor\u001b[0m\u001b[1;33m)\u001b[0m\u001b[1;33m\u001b[0m\u001b[1;33m\u001b[0m\u001b[0m\n\u001b[0m\u001b[0;32m      6\u001b[0m     \u001b[0mcurrent_loss\u001b[0m \u001b[1;33m+=\u001b[0m \u001b[0mloss\u001b[0m\u001b[1;33m\u001b[0m\u001b[1;33m\u001b[0m\u001b[0m\n\u001b[0;32m      7\u001b[0m \u001b[1;33m\u001b[0m\u001b[0m\n",
      "\u001b[1;32m<ipython-input-893-c8bc00d31a53>\u001b[0m in \u001b[0;36mtrain\u001b[1;34m(langauge_tensor, name_tensor)\u001b[0m\n\u001b[0;32m      9\u001b[0m \u001b[1;33m\u001b[0m\u001b[0m\n\u001b[0;32m     10\u001b[0m     \u001b[0mloss\u001b[0m \u001b[1;33m=\u001b[0m \u001b[0mcriterion\u001b[0m\u001b[1;33m(\u001b[0m\u001b[0moutput\u001b[0m\u001b[1;33m,\u001b[0m \u001b[0mlangauge_tensor\u001b[0m\u001b[1;33m)\u001b[0m\u001b[1;33m\u001b[0m\u001b[1;33m\u001b[0m\u001b[0m\n\u001b[1;32m---> 11\u001b[1;33m     \u001b[0mloss\u001b[0m\u001b[1;33m.\u001b[0m\u001b[0mbackward\u001b[0m\u001b[1;33m(\u001b[0m\u001b[1;33m)\u001b[0m\u001b[1;33m\u001b[0m\u001b[1;33m\u001b[0m\u001b[0m\n\u001b[0m\u001b[0;32m     12\u001b[0m \u001b[1;33m\u001b[0m\u001b[0m\n\u001b[0;32m     13\u001b[0m     \u001b[1;32mfor\u001b[0m \u001b[0mp\u001b[0m \u001b[1;32min\u001b[0m \u001b[0mrnn\u001b[0m\u001b[1;33m.\u001b[0m\u001b[0mparameters\u001b[0m\u001b[1;33m(\u001b[0m\u001b[1;33m)\u001b[0m\u001b[1;33m:\u001b[0m\u001b[1;33m\u001b[0m\u001b[1;33m\u001b[0m\u001b[0m\n",
      "\u001b[1;32m~\\Anaconda3\\lib\\site-packages\\torch\\_tensor.py\u001b[0m in \u001b[0;36mbackward\u001b[1;34m(self, gradient, retain_graph, create_graph, inputs)\u001b[0m\n\u001b[0;32m    253\u001b[0m                 \u001b[0mcreate_graph\u001b[0m\u001b[1;33m=\u001b[0m\u001b[0mcreate_graph\u001b[0m\u001b[1;33m,\u001b[0m\u001b[1;33m\u001b[0m\u001b[1;33m\u001b[0m\u001b[0m\n\u001b[0;32m    254\u001b[0m                 inputs=inputs)\n\u001b[1;32m--> 255\u001b[1;33m         \u001b[0mtorch\u001b[0m\u001b[1;33m.\u001b[0m\u001b[0mautograd\u001b[0m\u001b[1;33m.\u001b[0m\u001b[0mbackward\u001b[0m\u001b[1;33m(\u001b[0m\u001b[0mself\u001b[0m\u001b[1;33m,\u001b[0m \u001b[0mgradient\u001b[0m\u001b[1;33m,\u001b[0m \u001b[0mretain_graph\u001b[0m\u001b[1;33m,\u001b[0m \u001b[0mcreate_graph\u001b[0m\u001b[1;33m,\u001b[0m \u001b[0minputs\u001b[0m\u001b[1;33m=\u001b[0m\u001b[0minputs\u001b[0m\u001b[1;33m)\u001b[0m\u001b[1;33m\u001b[0m\u001b[1;33m\u001b[0m\u001b[0m\n\u001b[0m\u001b[0;32m    256\u001b[0m \u001b[1;33m\u001b[0m\u001b[0m\n\u001b[0;32m    257\u001b[0m     \u001b[1;32mdef\u001b[0m \u001b[0mregister_hook\u001b[0m\u001b[1;33m(\u001b[0m\u001b[0mself\u001b[0m\u001b[1;33m,\u001b[0m \u001b[0mhook\u001b[0m\u001b[1;33m)\u001b[0m\u001b[1;33m:\u001b[0m\u001b[1;33m\u001b[0m\u001b[1;33m\u001b[0m\u001b[0m\n",
      "\u001b[1;32m~\\Anaconda3\\lib\\site-packages\\torch\\autograd\\__init__.py\u001b[0m in \u001b[0;36mbackward\u001b[1;34m(tensors, grad_tensors, retain_graph, create_graph, grad_variables, inputs)\u001b[0m\n\u001b[0;32m    145\u001b[0m         \u001b[0mretain_graph\u001b[0m \u001b[1;33m=\u001b[0m \u001b[0mcreate_graph\u001b[0m\u001b[1;33m\u001b[0m\u001b[1;33m\u001b[0m\u001b[0m\n\u001b[0;32m    146\u001b[0m \u001b[1;33m\u001b[0m\u001b[0m\n\u001b[1;32m--> 147\u001b[1;33m     Variable._execution_engine.run_backward(\n\u001b[0m\u001b[0;32m    148\u001b[0m         \u001b[0mtensors\u001b[0m\u001b[1;33m,\u001b[0m \u001b[0mgrad_tensors_\u001b[0m\u001b[1;33m,\u001b[0m \u001b[0mretain_graph\u001b[0m\u001b[1;33m,\u001b[0m \u001b[0mcreate_graph\u001b[0m\u001b[1;33m,\u001b[0m \u001b[0minputs\u001b[0m\u001b[1;33m,\u001b[0m\u001b[1;33m\u001b[0m\u001b[1;33m\u001b[0m\u001b[0m\n\u001b[0;32m    149\u001b[0m         allow_unreachable=True, accumulate_grad=True)  # allow_unreachable flag\n",
      "\u001b[1;31mKeyboardInterrupt\u001b[0m: "
     ]
    }
   ],
   "source": [
    "for epoch in range(n_iters + 1): # n_iters + 1\n",
    "    \n",
    "    language, name, language_tensor, name_tensor = randomTrainingExample()\n",
    "    \n",
    "    output, loss = train(language_tensor, name_tensor)\n",
    "    current_loss += loss\n",
    "\n",
    "    if epoch % 500 == 0:\n",
    "        guess, guess_i = languageFromOutput(output)\n",
    "        correct = '✓' if guess == language else '✗ (%s)' % language\n",
    "        \n",
    "        print('%d %d%% %.4f %s / %s %s' % (epoch, \n",
    "                                           epoch / n_iters * 100,\n",
    "                                           loss,\n",
    "                                           name, \n",
    "                                           guess, \n",
    "                                           correct))\n",
    "\n",
    "    if epoch % 1000 == 0:\n",
    "        all_losses.append(current_loss / 1000)\n",
    "        current_loss = 0"
   ]
  },
  {
   "cell_type": "code",
   "execution_count": 1031,
   "id": "668e545a",
   "metadata": {},
   "outputs": [
    {
     "data": {
      "text/plain": [
       "'BadFood'"
      ]
     },
     "execution_count": 1031,
     "metadata": {},
     "output_type": "execute_result"
    }
   ],
   "source": [
    "language"
   ]
  },
  {
   "cell_type": "code",
   "execution_count": 1032,
   "id": "c9934b3e",
   "metadata": {},
   "outputs": [
    {
     "data": {
      "image/png": "[encoded data removed]",
      "text/plain": [
       "<Figure size 720x576 with 1 Axes>"
      ]
     },
     "metadata": {},
     "output_type": "display_data"
    }
   ],
   "source": [
    "import matplotlib.pyplot as plt\n",
    "\n",
    "plt.figure(figsize=(10, 8))\n",
    "plt.plot(all_losses)\n",
    "plt.show()"
   ]
  },
  {
   "cell_type": "code",
   "execution_count": 1036,
   "id": "54b8af62",
   "metadata": {},
   "outputs": [],
   "source": [
    "n_predictions = 4"
   ]
  },
  {
   "cell_type": "code",
   "execution_count": 1037,
   "id": "867d40f5",
   "metadata": {},
   "outputs": [],
   "source": [
    "input_name = 'Batsakis bad food walla '"
   ]
  },
  {
   "cell_type": "code",
   "execution_count": 1038,
   "id": "a7d1bf88",
   "metadata": {},
   "outputs": [
    {
     "name": "stdout",
     "output_type": "stream",
     "text": [
      "(-0.00) BadFood\n",
      "(-10.10) RudeService\n",
      "(-11.74) OrderProblem\n",
      "(-11.81) MissingFood\n"
     ]
    }
   ],
   "source": [
    "with torch.no_grad():\n",
    "    \n",
    "    name_tensor = nameToTensor(input_name)\n",
    "    \n",
    "    hidden = rnn.initHidden()\n",
    "    for i in range(name_tensor.size()[0]):\n",
    "        output, hidden = rnn(name_tensor[i], hidden)\n",
    "\n",
    "    topv, topi = output.topk(n_predictions, 1, True)\n",
    "\n",
    "    for i in range(n_predictions):\n",
    "        \n",
    "        value = topv[0][i].item()\n",
    "        language_index = topi[0][i].item()\n",
    "        \n",
    "        print('(%.2f) %s' % (value, all_languages[language_index]))"
   ]
  },
  {
   "cell_type": "markdown",
   "id": "2c87b53f",
   "metadata": {},
   "source": [
    "### Multiclass text clasification \n",
    "***"
   ]
  },
  {
   "cell_type": "code",
   "execution_count": 753,
   "id": "039e6752",
   "metadata": {},
   "outputs": [
    {
     "data": {
      "text/plain": [
       "Index(['tag', 'tag_conf', 'city', 'review', 'RudeService', 'OrderProblem',\n",
       "       'Filthy', 'SlowService', 'BadFood', 'ScaryMcDs', 'MissingFood', 'Cost',\n",
       "       'na'],\n",
       "      dtype='object')"
      ]
     },
     "execution_count": 753,
     "metadata": {},
     "output_type": "execute_result"
    }
   ],
   "source": [
    "df_tag.columns"
   ]
  },
  {
   "cell_type": "code",
   "execution_count": 793,
   "id": "1ffb22f5",
   "metadata": {
    "scrolled": true
   },
   "outputs": [
    {
     "data": {
      "text/plain": [
       "0          1.0\n",
       "1            1\n",
       "3            1\n",
       "6       0.6801\n",
       "7          1.0\n",
       "         ...  \n",
       "1161    0.6909\n",
       "1163       1.0\n",
       "1164    0.6377\n",
       "1168    0.6786\n",
       "1170         1\n",
       "Name: RudeService, Length: 502, dtype: object"
      ]
     },
     "execution_count": 793,
     "metadata": {},
     "output_type": "execute_result"
    }
   ],
   "source": []
  },
  {
   "cell_type": "code",
   "execution_count": 784,
   "id": "d14c8e7f",
   "metadata": {},
   "outputs": [
    {
     "name": "stdout",
     "output_type": "stream",
     "text": [
      "\n"
     ]
    }
   ],
   "source": [
    "df_tag.iloc[10:45,5:7]\n",
    "print()"
   ]
  },
  {
   "cell_type": "code",
   "execution_count": 764,
   "id": "f5c83929",
   "metadata": {},
   "outputs": [
    {
     "data": {
      "text/plain": [
       "pandas.core.frame.DataFrame"
      ]
     },
     "execution_count": 764,
     "metadata": {},
     "output_type": "execute_result"
    }
   ],
   "source": [
    "df_tag"
   ]
  },
  {
   "cell_type": "code",
   "execution_count": 766,
   "id": "333a3979",
   "metadata": {},
   "outputs": [
    {
     "data": {
      "text/html": [
       "<div>\n",
       "<style scoped>\n",
       "    .dataframe tbody tr th:only-of-type {\n",
       "        vertical-align: middle;\n",
       "    }\n",
       "\n",
       "    .dataframe tbody tr th {\n",
       "        vertical-align: top;\n",
       "    }\n",
       "\n",
       "    .dataframe thead th {\n",
       "        text-align: right;\n",
       "    }\n",
       "</style>\n",
       "<table border=\"1\" class=\"dataframe\">\n",
       "  <thead>\n",
       "    <tr style=\"text-align: right;\">\n",
       "      <th></th>\n",
       "      <th>tag_conf</th>\n",
       "      <th>city</th>\n",
       "      <th>review</th>\n",
       "    </tr>\n",
       "  </thead>\n",
       "  <tbody>\n",
       "    <tr>\n",
       "      <th>0</th>\n",
       "      <td>[1.0, 0.6667, 0.6667]</td>\n",
       "      <td>Atlanta</td>\n",
       "      <td>I'm not a huge mcds lover, but I've been to be...</td>\n",
       "    </tr>\n",
       "    <tr>\n",
       "      <th>1</th>\n",
       "      <td>[1]</td>\n",
       "      <td>Atlanta</td>\n",
       "      <td>Terrible customer service. ξI came in at 9:30p...</td>\n",
       "    </tr>\n",
       "    <tr>\n",
       "      <th>2</th>\n",
       "      <td>[1.0, 1.0]</td>\n",
       "      <td>Atlanta</td>\n",
       "      <td>First they \"lost\" my order, actually they gave...</td>\n",
       "    </tr>\n",
       "    <tr>\n",
       "      <th>3</th>\n",
       "      <td>[1]</td>\n",
       "      <td>Atlanta</td>\n",
       "      <td>Well, it's McDonald's, so you know what the fo...</td>\n",
       "    </tr>\n",
       "    <tr>\n",
       "      <th>4</th>\n",
       "      <td>[0.7111, 0.6444]</td>\n",
       "      <td>Atlanta</td>\n",
       "      <td>This has to be one of the worst and slowest Mc...</td>\n",
       "    </tr>\n",
       "    <tr>\n",
       "      <th>...</th>\n",
       "      <td>...</td>\n",
       "      <td>...</td>\n",
       "      <td>...</td>\n",
       "    </tr>\n",
       "    <tr>\n",
       "      <th>1171</th>\n",
       "      <td>[0.6754]</td>\n",
       "      <td>Portland</td>\n",
       "      <td>I enjoyed the part where I repeatedly asked if...</td>\n",
       "    </tr>\n",
       "    <tr>\n",
       "      <th>1172</th>\n",
       "      <td>[1.0, 1.0, 1.0]</td>\n",
       "      <td>Houston</td>\n",
       "      <td>Worst McDonalds I've been in in a long time! D...</td>\n",
       "    </tr>\n",
       "    <tr>\n",
       "      <th>1173</th>\n",
       "      <td>[0.6458]</td>\n",
       "      <td>New York</td>\n",
       "      <td>When I am really craving for McDonald's, this ...</td>\n",
       "    </tr>\n",
       "    <tr>\n",
       "      <th>1174</th>\n",
       "      <td>[0.6407]</td>\n",
       "      <td>Chicago</td>\n",
       "      <td>Two points right out of the gate: 1. Thuggery ...</td>\n",
       "    </tr>\n",
       "    <tr>\n",
       "      <th>1175</th>\n",
       "      <td>[1.0, 0.6667]</td>\n",
       "      <td>Los Angeles</td>\n",
       "      <td>I wanted to grab breakfast one morning before ...</td>\n",
       "    </tr>\n",
       "  </tbody>\n",
       "</table>\n",
       "<p>1175 rows × 3 columns</p>\n",
       "</div>"
      ],
      "text/plain": [
       "                   tag_conf         city  \\\n",
       "0     [1.0, 0.6667, 0.6667]      Atlanta   \n",
       "1                       [1]      Atlanta   \n",
       "2                [1.0, 1.0]      Atlanta   \n",
       "3                       [1]      Atlanta   \n",
       "4          [0.7111, 0.6444]      Atlanta   \n",
       "...                     ...          ...   \n",
       "1171               [0.6754]     Portland   \n",
       "1172        [1.0, 1.0, 1.0]      Houston   \n",
       "1173               [0.6458]     New York   \n",
       "1174               [0.6407]      Chicago   \n",
       "1175          [1.0, 0.6667]  Los Angeles   \n",
       "\n",
       "                                                 review  \n",
       "0     I'm not a huge mcds lover, but I've been to be...  \n",
       "1     Terrible customer service. ξI came in at 9:30p...  \n",
       "2     First they \"lost\" my order, actually they gave...  \n",
       "3     Well, it's McDonald's, so you know what the fo...  \n",
       "4     This has to be one of the worst and slowest Mc...  \n",
       "...                                                 ...  \n",
       "1171  I enjoyed the part where I repeatedly asked if...  \n",
       "1172  Worst McDonalds I've been in in a long time! D...  \n",
       "1173  When I am really craving for McDonald's, this ...  \n",
       "1174  Two points right out of the gate: 1. Thuggery ...  \n",
       "1175  I wanted to grab breakfast one morning before ...  \n",
       "\n",
       "[1175 rows x 3 columns]"
      ]
     },
     "execution_count": 766,
     "metadata": {},
     "output_type": "execute_result"
    }
   ],
   "source": []
  },
  {
   "cell_type": "markdown",
   "id": "560483c2",
   "metadata": {},
   "source": [
    "# STOP SCRIPT "
   ]
  },
  {
   "cell_type": "markdown",
   "id": "74f88033",
   "metadata": {},
   "source": [
    "#### Turn a Unicode string to plain ASCII"
   ]
  },
  {
   "cell_type": "code",
   "execution_count": 354,
   "id": "e3c3b68a",
   "metadata": {},
   "outputs": [],
   "source": [
    "import unicodedata\n",
    "import string\n",
    "\n",
    "all_letters = string.ascii_letters + \" .,;'\"\n",
    "n_letters = len(all_letters)\n",
    "\n",
    "all_letters\n",
    "\n",
    "def unicodeToAscii(s):\n",
    "    return ''.join(\n",
    "        c for c in unicodedata.normalize('NFD', s)\n",
    "        if unicodedata.category(c) != 'Mn'\n",
    "        and c in all_letters\n",
    "    )"
   ]
  },
  {
   "cell_type": "code",
   "execution_count": 361,
   "id": "5d802073",
   "metadata": {},
   "outputs": [
    {
     "name": "stdout",
     "output_type": "stream",
     "text": [
      "juju\n"
     ]
    }
   ],
   "source": [
    "#test\n",
    "print(unicodeToAscii('ju^ju'))"
   ]
  },
  {
   "cell_type": "code",
   "execution_count": 398,
   "id": "58cacb6d",
   "metadata": {},
   "outputs": [
    {
     "name": "stdout",
     "output_type": "stream",
     "text": [
      "['RudeService', 'OrderProblem', 'Filthy', 'SlowService', 'BadFood', 'ScaryMcDs', 'MissingFood', 'Cost']\n"
     ]
    }
   ],
   "source": [
    "# all_tags as a list\n",
    "\n",
    "all_tags = []\n",
    "all_tags = [i for i in df_tag.iloc[:,4:].columns]\n",
    "all_tags.remove('na')\n",
    "print(all_tags)"
   ]
  },
  {
   "cell_type": "code",
   "execution_count": 405,
   "id": "71b307c8",
   "metadata": {},
   "outputs": [],
   "source": [
    "# amount of tags\n",
    "\n",
    "df_tag['n_of_tags'] = df_tag.tag_conf.apply(len)"
   ]
  },
  {
   "cell_type": "code",
   "execution_count": 481,
   "id": "496fb290",
   "metadata": {},
   "outputs": [
    {
     "data": {
      "text/html": [
       "<div>\n",
       "<style scoped>\n",
       "    .dataframe tbody tr th:only-of-type {\n",
       "        vertical-align: middle;\n",
       "    }\n",
       "\n",
       "    .dataframe tbody tr th {\n",
       "        vertical-align: top;\n",
       "    }\n",
       "\n",
       "    .dataframe thead th {\n",
       "        text-align: right;\n",
       "    }\n",
       "</style>\n",
       "<table border=\"1\" class=\"dataframe\">\n",
       "  <thead>\n",
       "    <tr style=\"text-align: right;\">\n",
       "      <th></th>\n",
       "      <th>RudeService</th>\n",
       "      <th>OrderProblem</th>\n",
       "      <th>Filthy</th>\n",
       "      <th>SlowService</th>\n",
       "      <th>BadFood</th>\n",
       "      <th>ScaryMcDs</th>\n",
       "      <th>MissingFood</th>\n",
       "      <th>Cost</th>\n",
       "      <th>na</th>\n",
       "      <th>n_of_tags</th>\n",
       "      <th>tag_arr</th>\n",
       "    </tr>\n",
       "  </thead>\n",
       "  <tbody>\n",
       "    <tr>\n",
       "      <th>0</th>\n",
       "      <td>1.0</td>\n",
       "      <td>0.6667</td>\n",
       "      <td>0.6667</td>\n",
       "      <td>0</td>\n",
       "      <td>0</td>\n",
       "      <td>0</td>\n",
       "      <td>0</td>\n",
       "      <td>0</td>\n",
       "      <td>0</td>\n",
       "      <td>3</td>\n",
       "      <td>[1.0, 0.6667, 0.6667, 0, 0, 0, 0, 0]</td>\n",
       "    </tr>\n",
       "    <tr>\n",
       "      <th>1</th>\n",
       "      <td>1</td>\n",
       "      <td>0</td>\n",
       "      <td>0</td>\n",
       "      <td>0</td>\n",
       "      <td>0</td>\n",
       "      <td>0</td>\n",
       "      <td>0</td>\n",
       "      <td>0</td>\n",
       "      <td>0</td>\n",
       "      <td>1</td>\n",
       "      <td>[1, 0, 0, 0, 0, 0, 0, 0]</td>\n",
       "    </tr>\n",
       "    <tr>\n",
       "      <th>2</th>\n",
       "      <td>0</td>\n",
       "      <td>1.0</td>\n",
       "      <td>0</td>\n",
       "      <td>1.0</td>\n",
       "      <td>0</td>\n",
       "      <td>0</td>\n",
       "      <td>0</td>\n",
       "      <td>0</td>\n",
       "      <td>0</td>\n",
       "      <td>2</td>\n",
       "      <td>[0, 1.0, 0, 1.0, 0, 0, 0, 0]</td>\n",
       "    </tr>\n",
       "    <tr>\n",
       "      <th>3</th>\n",
       "      <td>1</td>\n",
       "      <td>0</td>\n",
       "      <td>0</td>\n",
       "      <td>0</td>\n",
       "      <td>0</td>\n",
       "      <td>0</td>\n",
       "      <td>0</td>\n",
       "      <td>0</td>\n",
       "      <td>0</td>\n",
       "      <td>1</td>\n",
       "      <td>[1, 0, 0, 0, 0, 0, 0, 0]</td>\n",
       "    </tr>\n",
       "    <tr>\n",
       "      <th>4</th>\n",
       "      <td>0</td>\n",
       "      <td>0</td>\n",
       "      <td>0</td>\n",
       "      <td>0.6444</td>\n",
       "      <td>0.7111</td>\n",
       "      <td>0</td>\n",
       "      <td>0</td>\n",
       "      <td>0</td>\n",
       "      <td>0</td>\n",
       "      <td>2</td>\n",
       "      <td>[0, 0, 0, 0.6444, 0.7111, 0, 0, 0]</td>\n",
       "    </tr>\n",
       "    <tr>\n",
       "      <th>5</th>\n",
       "      <td>0</td>\n",
       "      <td>0</td>\n",
       "      <td>0</td>\n",
       "      <td>0.6562</td>\n",
       "      <td>0</td>\n",
       "      <td>0.6562</td>\n",
       "      <td>0</td>\n",
       "      <td>0</td>\n",
       "      <td>0</td>\n",
       "      <td>2</td>\n",
       "      <td>[0, 0, 0, 0.6562, 0, 0.6562, 0, 0]</td>\n",
       "    </tr>\n",
       "    <tr>\n",
       "      <th>6</th>\n",
       "      <td>0.6801</td>\n",
       "      <td>0</td>\n",
       "      <td>0</td>\n",
       "      <td>0</td>\n",
       "      <td>0</td>\n",
       "      <td>0</td>\n",
       "      <td>0</td>\n",
       "      <td>0</td>\n",
       "      <td>0</td>\n",
       "      <td>1</td>\n",
       "      <td>[0.6801, 0, 0, 0, 0, 0, 0, 0]</td>\n",
       "    </tr>\n",
       "    <tr>\n",
       "      <th>7</th>\n",
       "      <td>1.0</td>\n",
       "      <td>0</td>\n",
       "      <td>0</td>\n",
       "      <td>1.0</td>\n",
       "      <td>0</td>\n",
       "      <td>0</td>\n",
       "      <td>0.6667</td>\n",
       "      <td>0</td>\n",
       "      <td>0</td>\n",
       "      <td>3</td>\n",
       "      <td>[1.0, 0, 0, 1.0, 0, 0, 0.6667, 0]</td>\n",
       "    </tr>\n",
       "    <tr>\n",
       "      <th>8</th>\n",
       "      <td>0</td>\n",
       "      <td>0</td>\n",
       "      <td>0</td>\n",
       "      <td>1</td>\n",
       "      <td>0</td>\n",
       "      <td>0</td>\n",
       "      <td>0</td>\n",
       "      <td>0</td>\n",
       "      <td>0</td>\n",
       "      <td>1</td>\n",
       "      <td>[0, 0, 0, 1, 0, 0, 0, 0]</td>\n",
       "    </tr>\n",
       "    <tr>\n",
       "      <th>9</th>\n",
       "      <td>1</td>\n",
       "      <td>0</td>\n",
       "      <td>0</td>\n",
       "      <td>0</td>\n",
       "      <td>0</td>\n",
       "      <td>0</td>\n",
       "      <td>0</td>\n",
       "      <td>0</td>\n",
       "      <td>0</td>\n",
       "      <td>1</td>\n",
       "      <td>[1, 0, 0, 0, 0, 0, 0, 0]</td>\n",
       "    </tr>\n",
       "  </tbody>\n",
       "</table>\n",
       "</div>"
      ],
      "text/plain": [
       "  RudeService OrderProblem  Filthy SlowService BadFood ScaryMcDs MissingFood  \\\n",
       "0         1.0       0.6667  0.6667           0       0         0           0   \n",
       "1           1            0       0           0       0         0           0   \n",
       "2           0          1.0       0         1.0       0         0           0   \n",
       "3           1            0       0           0       0         0           0   \n",
       "4           0            0       0      0.6444  0.7111         0           0   \n",
       "5           0            0       0      0.6562       0    0.6562           0   \n",
       "6      0.6801            0       0           0       0         0           0   \n",
       "7         1.0            0       0         1.0       0         0      0.6667   \n",
       "8           0            0       0           1       0         0           0   \n",
       "9           1            0       0           0       0         0           0   \n",
       "\n",
       "  Cost na  n_of_tags                               tag_arr  \n",
       "0    0  0          3  [1.0, 0.6667, 0.6667, 0, 0, 0, 0, 0]  \n",
       "1    0  0          1              [1, 0, 0, 0, 0, 0, 0, 0]  \n",
       "2    0  0          2          [0, 1.0, 0, 1.0, 0, 0, 0, 0]  \n",
       "3    0  0          1              [1, 0, 0, 0, 0, 0, 0, 0]  \n",
       "4    0  0          2    [0, 0, 0, 0.6444, 0.7111, 0, 0, 0]  \n",
       "5    0  0          2    [0, 0, 0, 0.6562, 0, 0.6562, 0, 0]  \n",
       "6    0  0          1         [0.6801, 0, 0, 0, 0, 0, 0, 0]  \n",
       "7    0  0          3     [1.0, 0, 0, 1.0, 0, 0, 0.6667, 0]  \n",
       "8    0  0          1              [0, 0, 0, 1, 0, 0, 0, 0]  \n",
       "9    0  0          1              [1, 0, 0, 0, 0, 0, 0, 0]  "
      ]
     },
     "execution_count": 481,
     "metadata": {},
     "output_type": "execute_result"
    }
   ],
   "source": [
    "# tags as Array/ Tensor\n",
    "\n",
    "df_tag['tag_arr'] = df_tag[all_tags].values.tolist()\n",
    "df_tag.iloc[:,4:].head(10)"
   ]
  },
  {
   "cell_type": "code",
   "execution_count": 406,
   "id": "aac511a3",
   "metadata": {},
   "outputs": [
    {
     "data": {
      "text/html": [
       "<div>\n",
       "<style scoped>\n",
       "    .dataframe tbody tr th:only-of-type {\n",
       "        vertical-align: middle;\n",
       "    }\n",
       "\n",
       "    .dataframe tbody tr th {\n",
       "        vertical-align: top;\n",
       "    }\n",
       "\n",
       "    .dataframe thead th {\n",
       "        text-align: right;\n",
       "    }\n",
       "</style>\n",
       "<table border=\"1\" class=\"dataframe\">\n",
       "  <thead>\n",
       "    <tr style=\"text-align: right;\">\n",
       "      <th></th>\n",
       "      <th>tag</th>\n",
       "      <th>tag_conf</th>\n",
       "      <th>city</th>\n",
       "      <th>review</th>\n",
       "      <th>RudeService</th>\n",
       "      <th>OrderProblem</th>\n",
       "      <th>Filthy</th>\n",
       "      <th>SlowService</th>\n",
       "      <th>BadFood</th>\n",
       "      <th>ScaryMcDs</th>\n",
       "      <th>MissingFood</th>\n",
       "      <th>Cost</th>\n",
       "      <th>na</th>\n",
       "      <th>n_of_tags</th>\n",
       "    </tr>\n",
       "  </thead>\n",
       "  <tbody>\n",
       "    <tr>\n",
       "      <th>0</th>\n",
       "      <td>[RudeService, OrderProblem, Filthy]</td>\n",
       "      <td>[1.0, 0.6667, 0.6667]</td>\n",
       "      <td>Atlanta</td>\n",
       "      <td>I'm not a huge mcds lover, but I've been to be...</td>\n",
       "      <td>1.0</td>\n",
       "      <td>0.6667</td>\n",
       "      <td>0.6667</td>\n",
       "      <td>0</td>\n",
       "      <td>0</td>\n",
       "      <td>0</td>\n",
       "      <td>0</td>\n",
       "      <td>0</td>\n",
       "      <td>0</td>\n",
       "      <td>3</td>\n",
       "    </tr>\n",
       "    <tr>\n",
       "      <th>1</th>\n",
       "      <td>[RudeService]</td>\n",
       "      <td>[1]</td>\n",
       "      <td>Atlanta</td>\n",
       "      <td>Terrible customer service. ξI came in at 9:30p...</td>\n",
       "      <td>1</td>\n",
       "      <td>0</td>\n",
       "      <td>0</td>\n",
       "      <td>0</td>\n",
       "      <td>0</td>\n",
       "      <td>0</td>\n",
       "      <td>0</td>\n",
       "      <td>0</td>\n",
       "      <td>0</td>\n",
       "      <td>1</td>\n",
       "    </tr>\n",
       "    <tr>\n",
       "      <th>2</th>\n",
       "      <td>[SlowService, OrderProblem]</td>\n",
       "      <td>[1.0, 1.0]</td>\n",
       "      <td>Atlanta</td>\n",
       "      <td>First they \"lost\" my order, actually they gave...</td>\n",
       "      <td>0</td>\n",
       "      <td>1.0</td>\n",
       "      <td>0</td>\n",
       "      <td>1.0</td>\n",
       "      <td>0</td>\n",
       "      <td>0</td>\n",
       "      <td>0</td>\n",
       "      <td>0</td>\n",
       "      <td>0</td>\n",
       "      <td>2</td>\n",
       "    </tr>\n",
       "    <tr>\n",
       "      <th>3</th>\n",
       "      <td>[RudeService]</td>\n",
       "      <td>[1]</td>\n",
       "      <td>Atlanta</td>\n",
       "      <td>Well, it's McDonald's, so you know what the fo...</td>\n",
       "      <td>1</td>\n",
       "      <td>0</td>\n",
       "      <td>0</td>\n",
       "      <td>0</td>\n",
       "      <td>0</td>\n",
       "      <td>0</td>\n",
       "      <td>0</td>\n",
       "      <td>0</td>\n",
       "      <td>0</td>\n",
       "      <td>1</td>\n",
       "    </tr>\n",
       "    <tr>\n",
       "      <th>4</th>\n",
       "      <td>[BadFood, SlowService]</td>\n",
       "      <td>[0.7111, 0.6444]</td>\n",
       "      <td>Atlanta</td>\n",
       "      <td>This has to be one of the worst and slowest Mc...</td>\n",
       "      <td>0</td>\n",
       "      <td>0</td>\n",
       "      <td>0</td>\n",
       "      <td>0.6444</td>\n",
       "      <td>0.7111</td>\n",
       "      <td>0</td>\n",
       "      <td>0</td>\n",
       "      <td>0</td>\n",
       "      <td>0</td>\n",
       "      <td>2</td>\n",
       "    </tr>\n",
       "  </tbody>\n",
       "</table>\n",
       "</div>"
      ],
      "text/plain": [
       "                                   tag               tag_conf     city  \\\n",
       "0  [RudeService, OrderProblem, Filthy]  [1.0, 0.6667, 0.6667]  Atlanta   \n",
       "1                        [RudeService]                    [1]  Atlanta   \n",
       "2          [SlowService, OrderProblem]             [1.0, 1.0]  Atlanta   \n",
       "3                        [RudeService]                    [1]  Atlanta   \n",
       "4               [BadFood, SlowService]       [0.7111, 0.6444]  Atlanta   \n",
       "\n",
       "                                              review RudeService OrderProblem  \\\n",
       "0  I'm not a huge mcds lover, but I've been to be...         1.0       0.6667   \n",
       "1  Terrible customer service. ξI came in at 9:30p...           1            0   \n",
       "2  First they \"lost\" my order, actually they gave...           0          1.0   \n",
       "3  Well, it's McDonald's, so you know what the fo...           1            0   \n",
       "4  This has to be one of the worst and slowest Mc...           0            0   \n",
       "\n",
       "   Filthy SlowService BadFood ScaryMcDs MissingFood Cost na  n_of_tags  \n",
       "0  0.6667           0       0         0           0    0  0          3  \n",
       "1       0           0       0         0           0    0  0          1  \n",
       "2       0         1.0       0         0           0    0  0          2  \n",
       "3       0           0       0         0           0    0  0          1  \n",
       "4       0      0.6444  0.7111         0           0    0  0          2  "
      ]
     },
     "execution_count": 406,
     "metadata": {},
     "output_type": "execute_result"
    }
   ],
   "source": [
    "df_tag.head()"
   ]
  },
  {
   "cell_type": "markdown",
   "id": "e1924dc5",
   "metadata": {},
   "source": [
    "### Tokenize text into words and sentences"
   ]
  },
  {
   "cell_type": "code",
   "execution_count": 390,
   "id": "24279578",
   "metadata": {},
   "outputs": [],
   "source": [
    "import nltk\n",
    "from nltk.tokenize import word_tokenize\n",
    "from nltk.tokenize import sent_tokenize"
   ]
  },
  {
   "cell_type": "code",
   "execution_count": 392,
   "id": "70288b28",
   "metadata": {},
   "outputs": [],
   "source": [
    "sentence = ' $ ,^^ tokenizer work? he Curies worked together investigating radioactivity, building on the work of the German physicist Roentgen and the French physicist Becquerel.\\\n",
    "In July 1898, the Curies announced the discovery of a new chemical element, polonium.\\\n",
    "At the end of the year, the'"
   ]
  },
  {
   "cell_type": "code",
   "execution_count": 393,
   "id": "71aff2d3",
   "metadata": {},
   "outputs": [
    {
     "name": "stdout",
     "output_type": "stream",
     "text": [
      "['  , tokenizer work he Curies worked together investigating radioactivity, building on the work of the German physicist Roentgen and the French physicist Becquerel.In July , the Curies announced the discovery of a new chemical element, polonium.At the end of the year, the']\n",
      "[',', 'tokenizer', 'work', 'he', 'Curies', 'worked', 'together', 'investigating', 'radioactivity', ',', 'building', 'on', 'the', 'work', 'of', 'the', 'German', 'physicist', 'Roentgen', 'and', 'the', 'French', 'physicist', 'Becquerel.In', 'July', ',', 'the', 'Curies', 'announced', 'the', 'discovery', 'of', 'a', 'new', 'chemical', 'element', ',', 'polonium.At', 'the', 'end', 'of', 'the', 'year', ',', 'the']\n"
     ]
    }
   ],
   "source": [
    "sentence = unicodeToAscii(sentence)\n",
    "sent_tokens = sent_tokenize(sentence)\n",
    "word_tokens = word_tokenize(sentence)\n",
    "print(sent_tokens)\n",
    "print(word_tokens)"
   ]
  },
  {
   "cell_type": "code",
   "execution_count": 394,
   "id": "bb9b922a",
   "metadata": {},
   "outputs": [
    {
     "name": "stdout",
     "output_type": "stream",
     "text": [
      "[',', 'tokenizer', 'work', 'he', 'Curies', 'worked', 'together', 'investigating', 'radioactivity,', 'building', 'on', 'the', 'work', 'of', 'the', 'German', 'physicist', 'Roentgen', 'and', 'the', 'French', 'physicist', 'Becquerel.In', 'July', ',', 'the', 'Curies', 'announced', 'the', 'discovery', 'of', 'a', 'new', 'chemical', 'element,', 'polonium.At', 'the', 'end', 'of', 'the', 'year,', 'the']\n"
     ]
    }
   ],
   "source": [
    "from nltk.tokenize import WhitespaceTokenizer\n",
    "wt = WhitespaceTokenizer()\n",
    "word_tokens = wt.tokenize(sentence)\n",
    "\n",
    "print(word_tokens)"
   ]
  },
  {
   "cell_type": "markdown",
   "id": "98182681",
   "metadata": {},
   "source": [
    "### Frequency distributions"
   ]
  },
  {
   "cell_type": "code",
   "execution_count": 483,
   "id": "eb6b6aee",
   "metadata": {},
   "outputs": [
    {
     "name": "stdout",
     "output_type": "stream",
     "text": [
      "<FreqDist with 29 samples and 42 outcomes>\n"
     ]
    },
    {
     "data": {
      "text/plain": [
       "[('the', 8),\n",
       " ('of', 3),\n",
       " (',', 2),\n",
       " ('work', 2),\n",
       " ('Curies', 2),\n",
       " ('physicist', 2),\n",
       " ('tokenizer', 1),\n",
       " ('he', 1),\n",
       " ('worked', 1),\n",
       " ('together', 1)]"
      ]
     },
     "execution_count": 483,
     "metadata": {},
     "output_type": "execute_result"
    }
   ],
   "source": [
    "from nltk.probability import FreqDist\n",
    "freq_dist = FreqDist(word_tokens)\n",
    "\n",
    "print(freq_dist)\n",
    "freq_dist.most_common(10)"
   ]
  },
  {
   "cell_type": "code",
   "execution_count": 484,
   "id": "7a6454a6",
   "metadata": {},
   "outputs": [
    {
     "data": {
      "text/plain": [
       "'\\nReferance for info:\\n\\nhttps://towardsdatascience.com/building-a-multi-label-text-classifier-using-bert-and-tensorflow-f188e0ecdc5d\\n\\nhttps://www.depends-on-the-definition.com/guide-to-multi-label-classification-with-neural-networks/  ### sigmoid for multi\\n\\n\\n_______________________________________\\nhttps://www.kaggle.com/cheeponglee/toxic-comment-classification # BERT on pytorch\\n'"
      ]
     },
     "execution_count": 484,
     "metadata": {},
     "output_type": "execute_result"
    }
   ],
   "source": [
    "'''\n",
    "Referance for info: BERT (Bidirectional Encoder Representation with Transformers)\n",
    "\n",
    "https://towardsdatascience.com/building-a-multi-label-text-classifier-using-bert-and-tensorflow-f188e0ecdc5d\n",
    "\n",
    "https://www.depends-on-the-definition.com/guide-to-multi-label-classification-with-neural-networks/  ### sigmoid for multi\n",
    "\n",
    "https://stackabuse.com/python-for-nlp-multi-label-text-classification-with-keras/\n",
    "_______________________________________\n",
    "https://www.kaggle.com/cheeponglee/toxic-comment-classification # BERT on pytorch\n",
    "https://www.kaggle.com/cheeponglee/toxic-comment-multilabel-tinybert \n",
    "'''"
   ]
  },
  {
   "cell_type": "code",
   "execution_count": 486,
   "id": "390f34cc",
   "metadata": {},
   "outputs": [
    {
     "ename": "ModuleNotFoundError",
     "evalue": "No module named 'transformers'",
     "output_type": "error",
     "traceback": [
      "\u001b[1;31m---------------------------------------------------------------------------\u001b[0m",
      "\u001b[1;31mModuleNotFoundError\u001b[0m                       Traceback (most recent call last)",
      "\u001b[1;32m<ipython-input-486-47776a0bc7e0>\u001b[0m in \u001b[0;36m<module>\u001b[1;34m\u001b[0m\n\u001b[0;32m      1\u001b[0m \u001b[1;31m# instantiate model using \"google/mobilebert-uncased\"\u001b[0m\u001b[1;33m\u001b[0m\u001b[1;33m\u001b[0m\u001b[1;33m\u001b[0m\u001b[0m\n\u001b[0;32m      2\u001b[0m \u001b[1;33m\u001b[0m\u001b[0m\n\u001b[1;32m----> 3\u001b[1;33m \u001b[1;32mfrom\u001b[0m \u001b[0mtransformers\u001b[0m \u001b[1;32mimport\u001b[0m \u001b[0mAutoModelForSequenceClassification\u001b[0m\u001b[1;33m\u001b[0m\u001b[1;33m\u001b[0m\u001b[0m\n\u001b[0m\u001b[0;32m      4\u001b[0m \u001b[1;33m\u001b[0m\u001b[0m\n\u001b[0;32m      5\u001b[0m \u001b[1;33m\u001b[0m\u001b[0m\n",
      "\u001b[1;31mModuleNotFoundError\u001b[0m: No module named 'transformers'"
     ]
    }
   ],
   "source": [
    "# instantiate model using \"google/mobilebert-uncased\"\n",
    "\n",
    "from transformers import AutoModelForSequenceClassification\n",
    "\n",
    "\n",
    "checkpoint = \"huawei-noah/TinyBERT_General_4L_312D\"\n",
    "PATH = \"./toxic_tinyBERT_multilabel\"\n",
    "model = AutoModelForSequenceClassification.from_pretrained(checkpoint, num_labels = 6)\n",
    "model.load_state_dict(torch.load(PATH, map_location=torch.device('cpu')))"
   ]
  },
  {
   "cell_type": "markdown",
   "id": "6243709f",
   "metadata": {},
   "source": [
    "# Testing BERT\n",
    "### (Bidirectional Encoder Representation with Transformers)\n",
    "\n",
    "https://neptune.ai/blog/how-to-code-bert-using-pytorch-tutorial"
   ]
  },
  {
   "cell_type": "code",
   "execution_count": 491,
   "id": "0da304d5",
   "metadata": {},
   "outputs": [],
   "source": [
    "text = df_tag['review'][1]"
   ]
  },
  {
   "cell_type": "code",
   "execution_count": 492,
   "id": "4566c538",
   "metadata": {},
   "outputs": [
    {
     "data": {
      "text/plain": [
       "'Terrible customer service. ξI came in at 9:30pm and stood in front of the register and no one bothered to say anything or help me for 5 minutes. ξThere was no one else waiting for their food inside either, just outside at the window. ξ I left and went to Chickfila next door and was greeted before I was all the way inside. This McDonalds is also dirty, the floor was covered with dropped food. Obviously filled with surly and unhappy workers.'"
      ]
     },
     "execution_count": 492,
     "metadata": {},
     "output_type": "execute_result"
    }
   ],
   "source": [
    "text"
   ]
  },
  {
   "cell_type": "raw",
   "id": "6e157435",
   "metadata": {},
   "source": [
    "Then we will clean the data by:\n",
    "\n",
    "Making the sentences into lower case.\n",
    "Creating vocabulary. Vocabulary is a list of unique words in the document. "
   ]
  },
  {
   "cell_type": "code",
   "execution_count": 497,
   "id": "d4e65ecb",
   "metadata": {},
   "outputs": [],
   "source": [
    "import re\n",
    "sentences = re.sub(\"[.,!?\\\\-]\", '', text.lower()).split('\\n')  # filter '.', ',', '?', '!'\n",
    "word_list = list(set(\" \".join(sentences).split()))"
   ]
  },
  {
   "cell_type": "code",
   "execution_count": 502,
   "id": "1639f701",
   "metadata": {},
   "outputs": [
    {
     "name": "stdout",
     "output_type": "stream",
     "text": [
      "['terrible', 'and', 'outside', 'surly', 'the', 'with', 'ξ', 'help', 'one', 'anything']\n"
     ]
    }
   ],
   "source": [
    "print(word_list[0:10])"
   ]
  },
  {
   "cell_type": "code",
   "execution_count": 525,
   "id": "10531ddc",
   "metadata": {},
   "outputs": [],
   "source": [
    "# each word assigned with several tokens , and unique index\n",
    "\n",
    "word_dict = {'[PAD]': 0, '[CLS]': 1, '[SEP]': 2, '[MASK]': 3}\n",
    "for i, w in enumerate(word_list):\n",
    "   word_dict[w] = i + 4\n",
    "   number_dict = {i: w for i, w in enumerate(word_dict)}\n",
    "   vocab_size = len(word_dict)"
   ]
  },
  {
   "cell_type": "code",
   "execution_count": 528,
   "id": "eb4d6ca9",
   "metadata": {},
   "outputs": [
    {
     "data": {
      "text/plain": [
       "66"
      ]
     },
     "execution_count": 528,
     "metadata": {},
     "output_type": "execute_result"
    }
   ],
   "source": [
    "vocab_size"
   ]
  },
  {
   "cell_type": "raw",
   "id": "d9ece635",
   "metadata": {},
   "source": [
    "reate a function that formats the input sequences for three types of embeddings:\n",
    "token embedding, segment embedding, and position embedding."
   ]
  },
  {
   "cell_type": "code",
   "execution_count": 543,
   "id": "cbe2ec32",
   "metadata": {},
   "outputs": [
    {
     "data": {
      "application/vnd.jupyter.widget-view+json": {
       "model_id": "1e68156b94f14c228fd203eba6bf37a2",
       "version_major": 2,
       "version_minor": 0
      },
      "text/plain": [
       "Downloading:   0%|          | 0.00/571 [00:00<?, ?B/s]"
      ]
     },
     "metadata": {},
     "output_type": "display_data"
    },
    {
     "data": {
      "application/vnd.jupyter.widget-view+json": {
       "model_id": "eeb776df4c374335857302048ff1b29a",
       "version_major": 2,
       "version_minor": 0
      },
      "text/plain": [
       "Downloading:   0%|          | 0.00/1.34G [00:00<?, ?B/s]"
      ]
     },
     "metadata": {},
     "output_type": "display_data"
    },
    {
     "name": "stderr",
     "output_type": "stream",
     "text": [
      "Some weights of the model checkpoint at bert-large-uncased were not used when initializing BertForMaskedLM: ['cls.seq_relationship.bias', 'cls.seq_relationship.weight']\n",
      "- This IS expected if you are initializing BertForMaskedLM from the checkpoint of a model trained on another task or with another architecture (e.g. initializing a BertForSequenceClassification model from a BertForPreTraining model).\n",
      "- This IS NOT expected if you are initializing BertForMaskedLM from the checkpoint of a model that you expect to be exactly identical (initializing a BertForSequenceClassification model from a BertForSequenceClassification model).\n"
     ]
    },
    {
     "data": {
      "application/vnd.jupyter.widget-view+json": {
       "model_id": "4219856414c84769ac52b22849184421",
       "version_major": 2,
       "version_minor": 0
      },
      "text/plain": [
       "Downloading:   0%|          | 0.00/28.0 [00:00<?, ?B/s]"
      ]
     },
     "metadata": {},
     "output_type": "display_data"
    },
    {
     "data": {
      "application/vnd.jupyter.widget-view+json": {
       "model_id": "9f721f0891d94d6db5b0ad5b6f422c14",
       "version_major": 2,
       "version_minor": 0
      },
      "text/plain": [
       "Downloading:   0%|          | 0.00/232k [00:00<?, ?B/s]"
      ]
     },
     "metadata": {},
     "output_type": "display_data"
    },
    {
     "data": {
      "application/vnd.jupyter.widget-view+json": {
       "model_id": "2bd3cfee3fd141eab725b6e3a03aca40",
       "version_major": 2,
       "version_minor": 0
      },
      "text/plain": [
       "Downloading:   0%|          | 0.00/466k [00:00<?, ?B/s]"
      ]
     },
     "metadata": {},
     "output_type": "display_data"
    },
    {
     "data": {
      "text/plain": [
       "[{'sequence': \"hello i'm a fashion model.\",\n",
       "  'score': 0.18869146704673767,\n",
       "  'token': 4827,\n",
       "  'token_str': 'fashion'},\n",
       " {'sequence': \"hello i'm a professional model.\",\n",
       "  'score': 0.07157482206821442,\n",
       "  'token': 2658,\n",
       "  'token_str': 'professional'},\n",
       " {'sequence': \"hello i'm a male model.\",\n",
       "  'score': 0.04053470119833946,\n",
       "  'token': 3287,\n",
       "  'token_str': 'male'},\n",
       " {'sequence': \"hello i'm a role model.\",\n",
       "  'score': 0.03891470283269882,\n",
       "  'token': 2535,\n",
       "  'token_str': 'role'},\n",
       " {'sequence': \"hello i'm a fitness model.\",\n",
       "  'score': 0.03038121573626995,\n",
       "  'token': 10516,\n",
       "  'token_str': 'fitness'}]"
      ]
     },
     "execution_count": 543,
     "metadata": {},
     "output_type": "execute_result"
    }
   ],
   "source": [
    "from transformers import pipeline\n",
    "unmasker = pipeline('fill-mask', model='bert-large-uncased')\n",
    "unmasker(\"Hello I'm a [MASK] model.\")"
   ]
  },
  {
   "cell_type": "code",
   "execution_count": 544,
   "id": "0abdc0ba",
   "metadata": {},
   "outputs": [
    {
     "name": "stderr",
     "output_type": "stream",
     "text": [
      "Some weights of the model checkpoint at bert-large-uncased were not used when initializing BertModel: ['cls.predictions.decoder.weight', 'cls.predictions.transform.dense.bias', 'cls.predictions.transform.LayerNorm.bias', 'cls.predictions.transform.dense.weight', 'cls.predictions.bias', 'cls.seq_relationship.weight', 'cls.seq_relationship.bias', 'cls.predictions.transform.LayerNorm.weight']\n",
      "- This IS expected if you are initializing BertModel from the checkpoint of a model trained on another task or with another architecture (e.g. initializing a BertForSequenceClassification model from a BertForPreTraining model).\n",
      "- This IS NOT expected if you are initializing BertModel from the checkpoint of a model that you expect to be exactly identical (initializing a BertForSequenceClassification model from a BertForSequenceClassification model).\n"
     ]
    }
   ],
   "source": [
    "from transformers import BertTokenizer, BertModel\n",
    "tokenizer = BertTokenizer.from_pretrained('bert-large-uncased')\n",
    "model = BertModel.from_pretrained(\"bert-large-uncased\")\n",
    "text = \"Replace me by any text you'd like.\"\n",
    "encoded_input = tokenizer(text, return_tensors='pt')\n",
    "output = model(**encoded_input)"
   ]
  },
  {
   "cell_type": "code",
   "execution_count": 546,
   "id": "d7232e07",
   "metadata": {},
   "outputs": [
    {
     "name": "stderr",
     "output_type": "stream",
     "text": [
      "Some weights of the model checkpoint at bert-large-uncased were not used when initializing BertForMaskedLM: ['cls.seq_relationship.bias', 'cls.seq_relationship.weight']\n",
      "- This IS expected if you are initializing BertForMaskedLM from the checkpoint of a model trained on another task or with another architecture (e.g. initializing a BertForSequenceClassification model from a BertForPreTraining model).\n",
      "- This IS NOT expected if you are initializing BertForMaskedLM from the checkpoint of a model that you expect to be exactly identical (initializing a BertForSequenceClassification model from a BertForSequenceClassification model).\n"
     ]
    },
    {
     "data": {
      "text/plain": [
       "[{'sequence': 'the man worked as a bartender.',\n",
       "  'score': 0.10426568239927292,\n",
       "  'token': 15812,\n",
       "  'token_str': 'bartender'},\n",
       " {'sequence': 'the man worked as a waiter.',\n",
       "  'score': 0.10232771933078766,\n",
       "  'token': 15610,\n",
       "  'token_str': 'waiter'},\n",
       " {'sequence': 'the man worked as a mechanic.',\n",
       "  'score': 0.06281788647174835,\n",
       "  'token': 15893,\n",
       "  'token_str': 'mechanic'},\n",
       " {'sequence': 'the man worked as a lawyer.',\n",
       "  'score': 0.05093613639473915,\n",
       "  'token': 5160,\n",
       "  'token_str': 'lawyer'},\n",
       " {'sequence': 'the man worked as a carpenter.',\n",
       "  'score': 0.041034210473299026,\n",
       "  'token': 10533,\n",
       "  'token_str': 'carpenter'}]"
      ]
     },
     "execution_count": 546,
     "metadata": {},
     "output_type": "execute_result"
    }
   ],
   "source": [
    "from transformers import pipeline\n",
    "unmasker = pipeline('fill-mask', model='bert-large-uncased')\n",
    "unmasker(\"The man worked as a [MASK].\")"
   ]
  },
  {
   "cell_type": "code",
   "execution_count": 547,
   "id": "9fe153bf",
   "metadata": {},
   "outputs": [
    {
     "data": {
      "text/plain": [
       "[{'sequence': 'the woman worked as a waitress.',\n",
       "  'score': 0.2847365438938141,\n",
       "  'token': 13877,\n",
       "  'token_str': 'waitress'},\n",
       " {'sequence': 'the woman worked as a nurse.',\n",
       "  'score': 0.1133652999997139,\n",
       "  'token': 6821,\n",
       "  'token_str': 'nurse'},\n",
       " {'sequence': 'the woman worked as a bartender.',\n",
       "  'score': 0.09574323892593384,\n",
       "  'token': 15812,\n",
       "  'token_str': 'bartender'},\n",
       " {'sequence': 'the woman worked as a maid.',\n",
       "  'score': 0.06351089477539062,\n",
       "  'token': 10850,\n",
       "  'token_str': 'maid'},\n",
       " {'sequence': 'the woman worked as a secretary.',\n",
       "  'score': 0.048970822244882584,\n",
       "  'token': 3187,\n",
       "  'token_str': 'secretary'}]"
      ]
     },
     "execution_count": 547,
     "metadata": {},
     "output_type": "execute_result"
    }
   ],
   "source": [
    "unmasker(\"The woman worked as a [MASK].\")"
   ]
  },
  {
   "cell_type": "code",
   "execution_count": 548,
   "id": "277b7f46",
   "metadata": {},
   "outputs": [
    {
     "ename": "SyntaxError",
     "evalue": "invalid syntax (<ipython-input-548-45af88c0e4d7>, line 1)",
     "output_type": "error",
     "traceback": [
      "\u001b[1;36m  File \u001b[1;32m\"<ipython-input-548-45af88c0e4d7>\"\u001b[1;36m, line \u001b[1;32m1\u001b[0m\n\u001b[1;33m    [CLS] Sentence A [SEP] Sentence B [SEP]\u001b[0m\n\u001b[1;37m          ^\u001b[0m\n\u001b[1;31mSyntaxError\u001b[0m\u001b[1;31m:\u001b[0m invalid syntax\n"
     ]
    }
   ],
   "source": [
    "[CLS] Sentence A [SEP] Sentence B [SEP]"
   ]
  },
  {
   "cell_type": "code",
   "execution_count": null,
   "id": "fa909059",
   "metadata": {},
   "outputs": [],
   "source": []
  }
 ],
 "metadata": {
  "interpreter": {
   "hash": "ec416e178d408086291cef0d2e659258e11b5d2ec21a813aa7baae91bbf2fcc7"
  },
  "kernelspec": {
   "display_name": "Python 3",
   "language": "python",
   "name": "python3"
  },
  "language_info": {
   "codemirror_mode": {
    "name": "ipython",
    "version": 3
   },
   "file_extension": ".py",
   "mimetype": "text/x-python",
   "name": "python",
   "nbconvert_exporter": "python",
   "pygments_lexer": "ipython3",
   "version": "3.8.8"
  },
  "varInspector": {
   "cols": {
    "lenName": 16,
    "lenType": 16,
    "lenVar": 40
   },
   "kernels_config": {
    "python": {
     "delete_cmd_postfix": "",
     "delete_cmd_prefix": "del ",
     "library": "var_list.py",
     "varRefreshCmd": "print(var_dic_list())"
    },
    "r": {
     "delete_cmd_postfix": ") ",
     "delete_cmd_prefix": "rm(",
     "library": "var_list.r",
     "varRefreshCmd": "cat(var_dic_list()) "
    }
   },
   "types_to_exclude": [
    "module",
    "function",
    "builtin_function_or_method",
    "instance",
    "_Feature"
   ],
   "window_display": false
  }
 },
 "nbformat": 4,
 "nbformat_minor": 5
}
