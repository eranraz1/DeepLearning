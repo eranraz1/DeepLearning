{
 "cells": [
  {
   "cell_type": "raw",
   "id": "7ef40ec8",
   "metadata": {},
   "source": [
    "Note : Ctrl + Shift + A = run all above "
   ]
  },
  {
   "cell_type": "code",
   "execution_count": 183,
   "id": "03a7aa9a",
   "metadata": {},
   "outputs": [
    {
     "data": {
      "text/plain": [
       "' McDonald’s review sentiment Design a model that will classify reasons for low reviews. Data: https://www.dropbox.com/s/mtepmmtg1lhwe8o/ae3421.csv?dl=0'"
      ]
     },
     "execution_count": 183,
     "metadata": {},
     "output_type": "execute_result"
    }
   ],
   "source": [
    "' McDonald’s review sentiment \\\n",
    "Design a model that will classify reasons for low reviews. \\\n",
    "Data: https://www.dropbox.com/s/mtepmmtg1lhwe8o/ae3421.csv?dl=0'"
   ]
  },
  {
   "cell_type": "code",
   "execution_count": 184,
   "id": "cf518d2c",
   "metadata": {},
   "outputs": [],
   "source": [
    "import pandas as pd\n",
    "import numpy as np\n",
    "import matplotlib.pyplot as plt\n",
    "import seaborn as sns\n",
    "#%matplotlib inline"
   ]
  },
  {
   "cell_type": "code",
   "execution_count": 185,
   "id": "0580a101",
   "metadata": {},
   "outputs": [],
   "source": [
    "df = pd.read_csv('.//data//ae3421.csv')"
   ]
  },
  {
   "cell_type": "code",
   "execution_count": 186,
   "id": "3cc46b07",
   "metadata": {},
   "outputs": [],
   "source": [
    "# Verify no duplicates\n",
    "df.drop_duplicates('_unit_id',inplace= True)\n"
   ]
  },
  {
   "cell_type": "code",
   "execution_count": 187,
   "id": "cea3579a",
   "metadata": {},
   "outputs": [
    {
     "name": "stdout",
     "output_type": "stream",
     "text": [
      "2/21/15 0:06 2/21/15 2:30\n"
     ]
    },
    {
     "data": {
      "text/html": [
       "<div>\n",
       "<style scoped>\n",
       "    .dataframe tbody tr th:only-of-type {\n",
       "        vertical-align: middle;\n",
       "    }\n",
       "\n",
       "    .dataframe tbody tr th {\n",
       "        vertical-align: top;\n",
       "    }\n",
       "\n",
       "    .dataframe thead th {\n",
       "        text-align: right;\n",
       "    }\n",
       "</style>\n",
       "<table border=\"1\" class=\"dataframe\">\n",
       "  <thead>\n",
       "    <tr style=\"text-align: right;\">\n",
       "      <th></th>\n",
       "      <th>_unit_id</th>\n",
       "      <th>_golden</th>\n",
       "      <th>_unit_state</th>\n",
       "      <th>_trusted_judgments</th>\n",
       "      <th>_last_judgment_at</th>\n",
       "      <th>policies_violated</th>\n",
       "      <th>policies_violated:confidence</th>\n",
       "      <th>city</th>\n",
       "      <th>policies_violated_gold</th>\n",
       "      <th>review</th>\n",
       "    </tr>\n",
       "  </thead>\n",
       "  <tbody>\n",
       "    <tr>\n",
       "      <th>406</th>\n",
       "      <td>679456065</td>\n",
       "      <td>False</td>\n",
       "      <td>finalized</td>\n",
       "      <td>3</td>\n",
       "      <td>2/21/15 0:06</td>\n",
       "      <td>BadFood\\rRudeService\\rOrderProblem</td>\n",
       "      <td>1.0\\r0.6746\\r0.6746</td>\n",
       "      <td>Las Vegas</td>\n",
       "      <td>NaN</td>\n",
       "      <td>If only this had a zero stars option. This was...</td>\n",
       "    </tr>\n",
       "    <tr>\n",
       "      <th>399</th>\n",
       "      <td>679456058</td>\n",
       "      <td>False</td>\n",
       "      <td>finalized</td>\n",
       "      <td>3</td>\n",
       "      <td>2/21/15 0:06</td>\n",
       "      <td>RudeService</td>\n",
       "      <td>1</td>\n",
       "      <td>Las Vegas</td>\n",
       "      <td>NaN</td>\n",
       "      <td>I went to this location a couple of weeks ago....</td>\n",
       "    </tr>\n",
       "    <tr>\n",
       "      <th>951</th>\n",
       "      <td>679456622</td>\n",
       "      <td>False</td>\n",
       "      <td>finalized</td>\n",
       "      <td>3</td>\n",
       "      <td>2/21/15 0:06</td>\n",
       "      <td>RudeService\\rOrderProblem</td>\n",
       "      <td>0.7049\\r0.6746</td>\n",
       "      <td>Cleveland</td>\n",
       "      <td>NaN</td>\n",
       "      <td>This location is run by the worst management e...</td>\n",
       "    </tr>\n",
       "    <tr>\n",
       "      <th>324</th>\n",
       "      <td>679455982</td>\n",
       "      <td>False</td>\n",
       "      <td>finalized</td>\n",
       "      <td>3</td>\n",
       "      <td>2/21/15 0:06</td>\n",
       "      <td>RudeService</td>\n",
       "      <td>0.6206</td>\n",
       "      <td>Las Vegas</td>\n",
       "      <td>NaN</td>\n",
       "      <td>We went to McDonalds on our way to Circus Circ...</td>\n",
       "    </tr>\n",
       "    <tr>\n",
       "      <th>1106</th>\n",
       "      <td>679456781</td>\n",
       "      <td>False</td>\n",
       "      <td>finalized</td>\n",
       "      <td>3</td>\n",
       "      <td>2/21/15 0:06</td>\n",
       "      <td>RudeService</td>\n",
       "      <td>1</td>\n",
       "      <td>Los Angeles</td>\n",
       "      <td>NaN</td>\n",
       "      <td>This is the worst McDonald's i have ever been ...</td>\n",
       "    </tr>\n",
       "  </tbody>\n",
       "</table>\n",
       "</div>"
      ],
      "text/plain": [
       "       _unit_id  _golden _unit_state  _trusted_judgments _last_judgment_at  \\\n",
       "406   679456065    False   finalized                   3      2/21/15 0:06   \n",
       "399   679456058    False   finalized                   3      2/21/15 0:06   \n",
       "951   679456622    False   finalized                   3      2/21/15 0:06   \n",
       "324   679455982    False   finalized                   3      2/21/15 0:06   \n",
       "1106  679456781    False   finalized                   3      2/21/15 0:06   \n",
       "\n",
       "                       policies_violated policies_violated:confidence  \\\n",
       "406   BadFood\\rRudeService\\rOrderProblem          1.0\\r0.6746\\r0.6746   \n",
       "399                          RudeService                            1   \n",
       "951            RudeService\\rOrderProblem               0.7049\\r0.6746   \n",
       "324                          RudeService                       0.6206   \n",
       "1106                         RudeService                            1   \n",
       "\n",
       "             city  policies_violated_gold  \\\n",
       "406     Las Vegas                     NaN   \n",
       "399     Las Vegas                     NaN   \n",
       "951     Cleveland                     NaN   \n",
       "324     Las Vegas                     NaN   \n",
       "1106  Los Angeles                     NaN   \n",
       "\n",
       "                                                 review  \n",
       "406   If only this had a zero stars option. This was...  \n",
       "399   I went to this location a couple of weeks ago....  \n",
       "951   This location is run by the worst management e...  \n",
       "324   We went to McDonalds on our way to Circus Circ...  \n",
       "1106  This is the worst McDonald's i have ever been ...  "
      ]
     },
     "execution_count": 187,
     "metadata": {},
     "output_type": "execute_result"
    }
   ],
   "source": [
    "# Field \"_last_judgment_at\" - doesn't have any meaning, will drop \n",
    "print(df['_last_judgment_at'].min() , df['_last_judgment_at'].max())\n",
    "df.sort_values(by = '_last_judgment_at' ).head(5)"
   ]
  },
  {
   "cell_type": "code",
   "execution_count": 188,
   "id": "83a5bbe9",
   "metadata": {},
   "outputs": [
    {
     "name": "stdout",
     "output_type": "stream",
     "text": [
      "{False} {'finalized'} {3}\n"
     ]
    }
   ],
   "source": [
    "\n",
    "# Fields: \"_golden\",'_unit_state','_trusted_judgments - doesn't have any meaning, will drop \n",
    "print(set(df['_golden']) , set(df['_unit_state']), set(df['_trusted_judgments']))\n"
   ]
  },
  {
   "cell_type": "code",
   "execution_count": 189,
   "id": "c2dfc5e0",
   "metadata": {},
   "outputs": [],
   "source": [
    "df.drop(['_last_judgment_at','_golden','_unit_state','_trusted_judgments','policies_violated_gold','_unit_id'],\\\n",
    "        inplace= True, axis =1)"
   ]
  },
  {
   "cell_type": "code",
   "execution_count": 190,
   "id": "367714a7",
   "metadata": {},
   "outputs": [
    {
     "data": {
      "text/html": [
       "<div>\n",
       "<style scoped>\n",
       "    .dataframe tbody tr th:only-of-type {\n",
       "        vertical-align: middle;\n",
       "    }\n",
       "\n",
       "    .dataframe tbody tr th {\n",
       "        vertical-align: top;\n",
       "    }\n",
       "\n",
       "    .dataframe thead th {\n",
       "        text-align: right;\n",
       "    }\n",
       "</style>\n",
       "<table border=\"1\" class=\"dataframe\">\n",
       "  <thead>\n",
       "    <tr style=\"text-align: right;\">\n",
       "      <th></th>\n",
       "      <th>policies_violated</th>\n",
       "      <th>policies_violated:confidence</th>\n",
       "      <th>city</th>\n",
       "      <th>review</th>\n",
       "    </tr>\n",
       "  </thead>\n",
       "  <tbody>\n",
       "    <tr>\n",
       "      <th>0</th>\n",
       "      <td>RudeService\\rOrderProblem\\rFilthy</td>\n",
       "      <td>1.0\\r0.6667\\r0.6667</td>\n",
       "      <td>Atlanta</td>\n",
       "      <td>I'm not a huge mcds lover, but I've been to be...</td>\n",
       "    </tr>\n",
       "    <tr>\n",
       "      <th>1</th>\n",
       "      <td>RudeService</td>\n",
       "      <td>1</td>\n",
       "      <td>Atlanta</td>\n",
       "      <td>Terrible customer service. ξI came in at 9:30p...</td>\n",
       "    </tr>\n",
       "    <tr>\n",
       "      <th>2</th>\n",
       "      <td>SlowService\\rOrderProblem</td>\n",
       "      <td>1.0\\r1.0</td>\n",
       "      <td>Atlanta</td>\n",
       "      <td>First they \"lost\" my order, actually they gave...</td>\n",
       "    </tr>\n",
       "    <tr>\n",
       "      <th>3</th>\n",
       "      <td>na</td>\n",
       "      <td>0.6667</td>\n",
       "      <td>Atlanta</td>\n",
       "      <td>I see I'm not the only one giving 1 star. Only...</td>\n",
       "    </tr>\n",
       "    <tr>\n",
       "      <th>4</th>\n",
       "      <td>RudeService</td>\n",
       "      <td>1</td>\n",
       "      <td>Atlanta</td>\n",
       "      <td>Well, it's McDonald's, so you know what the fo...</td>\n",
       "    </tr>\n",
       "  </tbody>\n",
       "</table>\n",
       "</div>"
      ],
      "text/plain": [
       "                   policies_violated policies_violated:confidence     city  \\\n",
       "0  RudeService\\rOrderProblem\\rFilthy          1.0\\r0.6667\\r0.6667  Atlanta   \n",
       "1                        RudeService                            1  Atlanta   \n",
       "2          SlowService\\rOrderProblem                     1.0\\r1.0  Atlanta   \n",
       "3                                 na                       0.6667  Atlanta   \n",
       "4                        RudeService                            1  Atlanta   \n",
       "\n",
       "                                              review  \n",
       "0  I'm not a huge mcds lover, but I've been to be...  \n",
       "1  Terrible customer service. ξI came in at 9:30p...  \n",
       "2  First they \"lost\" my order, actually they gave...  \n",
       "3  I see I'm not the only one giving 1 star. Only...  \n",
       "4  Well, it's McDonald's, so you know what the fo...  "
      ]
     },
     "execution_count": 190,
     "metadata": {},
     "output_type": "execute_result"
    }
   ],
   "source": [
    "df.head(5)"
   ]
  },
  {
   "cell_type": "code",
   "execution_count": 191,
   "id": "d8f69a44",
   "metadata": {},
   "outputs": [
    {
     "name": "stdout",
     "output_type": "stream",
     "text": [
      "Fields :'policies_violated' with NA:  54\n",
      "Fields :'city' with NA:  87\n",
      "Fields :'city' with NA:  0  -After fix\n"
     ]
    }
   ],
   "source": [
    "# some missing cities - keeping the field + reset values to 'Unknown'\n",
    "print('Fields :\\'policies_violated\\' with NA: ',df.policies_violated.isna().sum())\n",
    "print('Fields :\\'city\\' with NA: ',df.city.isna().sum())\n",
    "df['city'].fillna('0Unknown', inplace= True)\n",
    "print('Fields :\\'city\\' with NA: ',df.city.isna().sum(),' -After fix' )"
   ]
  },
  {
   "cell_type": "code",
   "execution_count": 192,
   "id": "7c0d5132",
   "metadata": {},
   "outputs": [
    {
     "data": {
      "text/html": [
       "<div>\n",
       "<style scoped>\n",
       "    .dataframe tbody tr th:only-of-type {\n",
       "        vertical-align: middle;\n",
       "    }\n",
       "\n",
       "    .dataframe tbody tr th {\n",
       "        vertical-align: top;\n",
       "    }\n",
       "\n",
       "    .dataframe thead th {\n",
       "        text-align: right;\n",
       "    }\n",
       "</style>\n",
       "<table border=\"1\" class=\"dataframe\">\n",
       "  <thead>\n",
       "    <tr style=\"text-align: right;\">\n",
       "      <th></th>\n",
       "      <th>tag</th>\n",
       "      <th>tag_conf</th>\n",
       "      <th>city</th>\n",
       "      <th>review</th>\n",
       "    </tr>\n",
       "  </thead>\n",
       "  <tbody>\n",
       "    <tr>\n",
       "      <th>0</th>\n",
       "      <td>RudeService\\rOrderProblem\\rFilthy</td>\n",
       "      <td>1.0\\r0.6667\\r0.6667</td>\n",
       "      <td>Atlanta</td>\n",
       "      <td>I'm not a huge mcds lover, but I've been to be...</td>\n",
       "    </tr>\n",
       "    <tr>\n",
       "      <th>1</th>\n",
       "      <td>RudeService</td>\n",
       "      <td>1</td>\n",
       "      <td>Atlanta</td>\n",
       "      <td>Terrible customer service. ξI came in at 9:30p...</td>\n",
       "    </tr>\n",
       "    <tr>\n",
       "      <th>2</th>\n",
       "      <td>SlowService\\rOrderProblem</td>\n",
       "      <td>1.0\\r1.0</td>\n",
       "      <td>Atlanta</td>\n",
       "      <td>First they \"lost\" my order, actually they gave...</td>\n",
       "    </tr>\n",
       "  </tbody>\n",
       "</table>\n",
       "</div>"
      ],
      "text/plain": [
       "                                 tag             tag_conf     city  \\\n",
       "0  RudeService\\rOrderProblem\\rFilthy  1.0\\r0.6667\\r0.6667  Atlanta   \n",
       "1                        RudeService                    1  Atlanta   \n",
       "2          SlowService\\rOrderProblem             1.0\\r1.0  Atlanta   \n",
       "\n",
       "                                              review  \n",
       "0  I'm not a huge mcds lover, but I've been to be...  \n",
       "1  Terrible customer service. ξI came in at 9:30p...  \n",
       "2  First they \"lost\" my order, actually they gave...  "
      ]
     },
     "execution_count": 192,
     "metadata": {},
     "output_type": "execute_result"
    }
   ],
   "source": [
    "# convert col 'policies_violated' to 'tag' & 'policies_violated:confidence' to 'tag_conf'\n",
    "\n",
    "df.rename(columns= {'policies_violated':'tag', 'policies_violated:confidence': 'tag_conf'}, inplace= True)\n",
    "df.head(3)"
   ]
  },
  {
   "cell_type": "markdown",
   "id": "fd033123",
   "metadata": {},
   "source": [
    "### Taking out unlabeled date - for later predictions\n",
    "#####  df_ntag & df_tag  (note! - 'na' as text)"
   ]
  },
  {
   "cell_type": "code",
   "execution_count": 193,
   "id": "d11d6b14",
   "metadata": {},
   "outputs": [
    {
     "name": "stdout",
     "output_type": "stream",
     "text": [
      "(1176, 4)  |  (349, 4)\n"
     ]
    }
   ],
   "source": [
    "df_ntag = df[(df.tag.isna()) | (df.tag == 'na')].reset_index(drop=True)\n",
    "df_tag = df[~((df.tag.isna()) | (df.tag == 'na'))].reset_index(drop=True)\n",
    "print(df_tag.shape,' | ',df_ntag.shape)\n",
    "\n",
    "# df[(df.tag.isna()) | (df.tag == 'na')]\n",
    "# df[~((df.tag.isna()) | (df.tag == 'na'))]"
   ]
  },
  {
   "cell_type": "code",
   "execution_count": 194,
   "id": "4c0e8b49",
   "metadata": {},
   "outputs": [
    {
     "data": {
      "text/plain": [
       "True"
      ]
     },
     "execution_count": 194,
     "metadata": {},
     "output_type": "execute_result"
    }
   ],
   "source": [
    "df.shape[0] == (df_ntag.shape[0] + df_tag.shape[0])"
   ]
  },
  {
   "cell_type": "code",
   "execution_count": 195,
   "id": "3269f6d1",
   "metadata": {},
   "outputs": [
    {
     "data": {
      "text/html": [
       "<div>\n",
       "<style scoped>\n",
       "    .dataframe tbody tr th:only-of-type {\n",
       "        vertical-align: middle;\n",
       "    }\n",
       "\n",
       "    .dataframe tbody tr th {\n",
       "        vertical-align: top;\n",
       "    }\n",
       "\n",
       "    .dataframe thead th {\n",
       "        text-align: right;\n",
       "    }\n",
       "</style>\n",
       "<table border=\"1\" class=\"dataframe\">\n",
       "  <thead>\n",
       "    <tr style=\"text-align: right;\">\n",
       "      <th></th>\n",
       "      <th>tag</th>\n",
       "      <th>tag_conf</th>\n",
       "      <th>city</th>\n",
       "      <th>review</th>\n",
       "    </tr>\n",
       "  </thead>\n",
       "  <tbody>\n",
       "    <tr>\n",
       "      <th>0</th>\n",
       "      <td>RudeService\\rOrderProblem\\rFilthy</td>\n",
       "      <td>1.0\\r0.6667\\r0.6667</td>\n",
       "      <td>Atlanta</td>\n",
       "      <td>I'm not a huge mcds lover, but I've been to be...</td>\n",
       "    </tr>\n",
       "    <tr>\n",
       "      <th>1</th>\n",
       "      <td>RudeService</td>\n",
       "      <td>1</td>\n",
       "      <td>Atlanta</td>\n",
       "      <td>Terrible customer service. ξI came in at 9:30p...</td>\n",
       "    </tr>\n",
       "    <tr>\n",
       "      <th>2</th>\n",
       "      <td>SlowService\\rOrderProblem</td>\n",
       "      <td>1.0\\r1.0</td>\n",
       "      <td>Atlanta</td>\n",
       "      <td>First they \"lost\" my order, actually they gave...</td>\n",
       "    </tr>\n",
       "    <tr>\n",
       "      <th>3</th>\n",
       "      <td>RudeService</td>\n",
       "      <td>1</td>\n",
       "      <td>Atlanta</td>\n",
       "      <td>Well, it's McDonald's, so you know what the fo...</td>\n",
       "    </tr>\n",
       "    <tr>\n",
       "      <th>4</th>\n",
       "      <td>BadFood\\rSlowService</td>\n",
       "      <td>0.7111\\r0.6444</td>\n",
       "      <td>Atlanta</td>\n",
       "      <td>This has to be one of the worst and slowest Mc...</td>\n",
       "    </tr>\n",
       "  </tbody>\n",
       "</table>\n",
       "</div>"
      ],
      "text/plain": [
       "                                 tag             tag_conf     city  \\\n",
       "0  RudeService\\rOrderProblem\\rFilthy  1.0\\r0.6667\\r0.6667  Atlanta   \n",
       "1                        RudeService                    1  Atlanta   \n",
       "2          SlowService\\rOrderProblem             1.0\\r1.0  Atlanta   \n",
       "3                        RudeService                    1  Atlanta   \n",
       "4               BadFood\\rSlowService       0.7111\\r0.6444  Atlanta   \n",
       "\n",
       "                                              review  \n",
       "0  I'm not a huge mcds lover, but I've been to be...  \n",
       "1  Terrible customer service. ξI came in at 9:30p...  \n",
       "2  First they \"lost\" my order, actually they gave...  \n",
       "3  Well, it's McDonald's, so you know what the fo...  \n",
       "4  This has to be one of the worst and slowest Mc...  "
      ]
     },
     "execution_count": 195,
     "metadata": {},
     "output_type": "execute_result"
    }
   ],
   "source": [
    "df_tag.head(5)"
   ]
  },
  {
   "cell_type": "code",
   "execution_count": 196,
   "id": "7d6c72b2",
   "metadata": {},
   "outputs": [
    {
     "name": "stderr",
     "output_type": "stream",
     "text": [
      "C:\\Users\\raze\\Anaconda3\\lib\\site-packages\\pandas\\core\\frame.py:4524: SettingWithCopyWarning: \n",
      "A value is trying to be set on a copy of a slice from a DataFrame\n",
      "\n",
      "See the caveats in the documentation: https://pandas.pydata.org/pandas-docs/stable/user_guide/indexing.html#returning-a-view-versus-a-copy\n",
      "  return super().replace(\n"
     ]
    }
   ],
   "source": [
    "# lose the '\\r' in ['tag','tag_conf']\n",
    "\n",
    "df_tag.iloc[:,0:2].replace(r'\\r',' ', regex= True, inplace = True)"
   ]
  },
  {
   "cell_type": "code",
   "execution_count": 197,
   "id": "9ac4d733",
   "metadata": {},
   "outputs": [
    {
     "data": {
      "text/plain": [
       "(0, 0)"
      ]
     },
     "execution_count": 197,
     "metadata": {},
     "output_type": "execute_result"
    }
   ],
   "source": [
    "sum(df_tag.tag_conf == 'na'),sum(df_tag.tag == 'na')"
   ]
  },
  {
   "cell_type": "code",
   "execution_count": 198,
   "id": "e4a27cb7",
   "metadata": {},
   "outputs": [],
   "source": [
    "#check\n",
    "\n",
    "# for i in range(500):\n",
    "#     df_tag.loc[0,'tag'] , df_tag.loc[0,'tag_conf']\n",
    "#     t = dict(zip(df_tag.loc[i,'tag'] , df_tag.loc[i,'tag_conf']))\n",
    "#     print(t, ' - ', i)\n"
   ]
  },
  {
   "cell_type": "code",
   "execution_count": 199,
   "id": "e25ea8fc",
   "metadata": {},
   "outputs": [],
   "source": [
    "# split internals into list\n",
    "\n",
    "df_tag['tag'] = df_tag['tag'].apply(lambda x: x.split())\n",
    "df_tag['tag_conf'] = df_tag['tag_conf'].apply(lambda x: x.split())"
   ]
  },
  {
   "cell_type": "code",
   "execution_count": 200,
   "id": "344bd212",
   "metadata": {},
   "outputs": [
    {
     "data": {
      "text/plain": [
       "tag         0\n",
       "tag_conf    0\n",
       "city        0\n",
       "review      0\n",
       "dtype: int64"
      ]
     },
     "execution_count": 200,
     "metadata": {},
     "output_type": "execute_result"
    }
   ],
   "source": [
    "df_tag.eq('na').sum()\n",
    "#df_tag[df_tag.iloc[:,0].apply(len)<2]\n"
   ]
  },
  {
   "cell_type": "code",
   "execution_count": 201,
   "id": "b9433b7d",
   "metadata": {},
   "outputs": [],
   "source": [
    "# Split the list to cols\n",
    "\n",
    "for i in range(0,len(df_tag)):\n",
    "    \n",
    "    policy=df_tag.loc[i,'tag']\n",
    "    confidence=df_tag.loc[i,'tag_conf']\n",
    "    dictionary=dict(zip(policy,confidence))\n",
    "    for key in dictionary.keys():\n",
    "        df_tag.loc[i,key]=dictionary[key]\n",
    " "
   ]
  },
  {
   "cell_type": "code",
   "execution_count": 202,
   "id": "b16f0de2",
   "metadata": {},
   "outputs": [
    {
     "data": {
      "text/html": [
       "<div>\n",
       "<style scoped>\n",
       "    .dataframe tbody tr th:only-of-type {\n",
       "        vertical-align: middle;\n",
       "    }\n",
       "\n",
       "    .dataframe tbody tr th {\n",
       "        vertical-align: top;\n",
       "    }\n",
       "\n",
       "    .dataframe thead th {\n",
       "        text-align: right;\n",
       "    }\n",
       "</style>\n",
       "<table border=\"1\" class=\"dataframe\">\n",
       "  <thead>\n",
       "    <tr style=\"text-align: right;\">\n",
       "      <th></th>\n",
       "      <th>RudeService</th>\n",
       "      <th>OrderProblem</th>\n",
       "      <th>Filthy</th>\n",
       "      <th>SlowService</th>\n",
       "      <th>BadFood</th>\n",
       "      <th>ScaryMcDs</th>\n",
       "      <th>MissingFood</th>\n",
       "      <th>Cost</th>\n",
       "      <th>na</th>\n",
       "    </tr>\n",
       "  </thead>\n",
       "  <tbody>\n",
       "    <tr>\n",
       "      <th>0</th>\n",
       "      <td>1.0</td>\n",
       "      <td>0.6667</td>\n",
       "      <td>0.6667</td>\n",
       "      <td>0</td>\n",
       "      <td>0</td>\n",
       "      <td>0</td>\n",
       "      <td>0</td>\n",
       "      <td>0</td>\n",
       "      <td>0</td>\n",
       "    </tr>\n",
       "    <tr>\n",
       "      <th>1</th>\n",
       "      <td>1</td>\n",
       "      <td>0</td>\n",
       "      <td>0</td>\n",
       "      <td>0</td>\n",
       "      <td>0</td>\n",
       "      <td>0</td>\n",
       "      <td>0</td>\n",
       "      <td>0</td>\n",
       "      <td>0</td>\n",
       "    </tr>\n",
       "    <tr>\n",
       "      <th>2</th>\n",
       "      <td>0</td>\n",
       "      <td>1.0</td>\n",
       "      <td>0</td>\n",
       "      <td>1.0</td>\n",
       "      <td>0</td>\n",
       "      <td>0</td>\n",
       "      <td>0</td>\n",
       "      <td>0</td>\n",
       "      <td>0</td>\n",
       "    </tr>\n",
       "  </tbody>\n",
       "</table>\n",
       "</div>"
      ],
      "text/plain": [
       "  RudeService OrderProblem  Filthy SlowService BadFood ScaryMcDs MissingFood  \\\n",
       "0         1.0       0.6667  0.6667           0       0         0           0   \n",
       "1           1            0       0           0       0         0           0   \n",
       "2           0          1.0       0         1.0       0         0           0   \n",
       "\n",
       "  Cost na  \n",
       "0    0  0  \n",
       "1    0  0  \n",
       "2    0  0  "
      ]
     },
     "execution_count": 202,
     "metadata": {},
     "output_type": "execute_result"
    }
   ],
   "source": [
    "# zero the nan\n",
    "df_tag.iloc[:,4:].fillna(0,inplace=False).head(3)"
   ]
  },
  {
   "cell_type": "code",
   "execution_count": 203,
   "id": "93a0ad5f",
   "metadata": {},
   "outputs": [],
   "source": [
    "#! df - multiclass with ratio\n",
    "\n",
    "df_tag = pd.concat((df_tag.iloc[:,:4],df_tag.iloc[:,4:].fillna(0,inplace=False).astype(float)),axis= 1)"
   ]
  },
  {
   "cell_type": "code",
   "execution_count": 204,
   "id": "93981d7f",
   "metadata": {},
   "outputs": [
    {
     "name": "stdout",
     "output_type": "stream",
     "text": [
      "########## note ##########\n",
      "13  - raws with NA as value\n"
     ]
    }
   ],
   "source": [
    "# Note! - lines taged with 'na' as 100% in hight rate , will be removed !\n",
    "print('########## note ##########')\n",
    "print(len(df_tag[df_tag['na'] != 0].sort_values(by = 'na')), ' - raws with NA as value')"
   ]
  },
  {
   "cell_type": "code",
   "execution_count": 205,
   "id": "4983971e",
   "metadata": {},
   "outputs": [],
   "source": [
    "# high value of na - dropping\n",
    "df_tag.drop(519, inplace= True)"
   ]
  },
  {
   "attachments": {
    "image-2.png": {
     "image/png": "[encoded data removed]"
    }
   },
   "cell_type": "markdown",
   "id": "12e04ecc",
   "metadata": {},
   "source": [
    "<div>\n",
    "pic: issues   <br> \n",
    "<img src=\"attachment:image-2.png\" width=\"500\" align=\"left\" />\n",
    "</div>\n"
   ]
  },
  {
   "cell_type": "code",
   "execution_count": 206,
   "id": "aa855945",
   "metadata": {},
   "outputs": [],
   "source": [
    "#! df - boolean multiclass (OHE)\n",
    "\n",
    "df_tagB = pd.concat((df_tag.iloc[:,:4],df_tag.iloc[:,4:].apply(np.ceil)),axis= 1)"
   ]
  },
  {
   "cell_type": "code",
   "execution_count": 207,
   "id": "031e9f07",
   "metadata": {},
   "outputs": [
    {
     "data": {
      "text/html": [
       "<div>\n",
       "<style scoped>\n",
       "    .dataframe tbody tr th:only-of-type {\n",
       "        vertical-align: middle;\n",
       "    }\n",
       "\n",
       "    .dataframe tbody tr th {\n",
       "        vertical-align: top;\n",
       "    }\n",
       "\n",
       "    .dataframe thead th {\n",
       "        text-align: right;\n",
       "    }\n",
       "</style>\n",
       "<table border=\"1\" class=\"dataframe\">\n",
       "  <thead>\n",
       "    <tr style=\"text-align: right;\">\n",
       "      <th></th>\n",
       "      <th>tag</th>\n",
       "      <th>tag_conf</th>\n",
       "      <th>city</th>\n",
       "      <th>review</th>\n",
       "      <th>RudeService</th>\n",
       "      <th>OrderProblem</th>\n",
       "      <th>Filthy</th>\n",
       "      <th>SlowService</th>\n",
       "      <th>BadFood</th>\n",
       "      <th>ScaryMcDs</th>\n",
       "      <th>MissingFood</th>\n",
       "      <th>Cost</th>\n",
       "      <th>na</th>\n",
       "    </tr>\n",
       "  </thead>\n",
       "  <tbody>\n",
       "    <tr>\n",
       "      <th>44</th>\n",
       "      <td>[Filthy, na, SlowService, ScaryMcDs, RudeServi...</td>\n",
       "      <td>[1.0, 0.6717, 0.6717, 0.6717, 0.6717, 0.6717, ...</td>\n",
       "      <td>Atlanta</td>\n",
       "      <td>The worst McDonalds franchise I've visited. ξI...</td>\n",
       "      <td>1.0</td>\n",
       "      <td>1.0</td>\n",
       "      <td>1.0</td>\n",
       "      <td>1.0</td>\n",
       "      <td>1.0</td>\n",
       "      <td>1.0</td>\n",
       "      <td>1.0</td>\n",
       "      <td>1.0</td>\n",
       "      <td>1.0</td>\n",
       "    </tr>\n",
       "  </tbody>\n",
       "</table>\n",
       "</div>"
      ],
      "text/plain": [
       "                                                  tag  \\\n",
       "44  [Filthy, na, SlowService, ScaryMcDs, RudeServi...   \n",
       "\n",
       "                                             tag_conf     city  \\\n",
       "44  [1.0, 0.6717, 0.6717, 0.6717, 0.6717, 0.6717, ...  Atlanta   \n",
       "\n",
       "                                               review  RudeService  \\\n",
       "44  The worst McDonalds franchise I've visited. ξI...          1.0   \n",
       "\n",
       "    OrderProblem  Filthy  SlowService  BadFood  ScaryMcDs  MissingFood  Cost  \\\n",
       "44           1.0     1.0          1.0      1.0        1.0          1.0   1.0   \n",
       "\n",
       "     na  \n",
       "44  1.0  "
      ]
     },
     "execution_count": 207,
     "metadata": {},
     "output_type": "execute_result"
    }
   ],
   "source": [
    "df_tagB[df_tagB.index == 44]"
   ]
  },
  {
   "cell_type": "code",
   "execution_count": null,
   "id": "8a5720b1",
   "metadata": {},
   "outputs": [],
   "source": []
  },
  {
   "cell_type": "markdown",
   "id": "b76cdff8",
   "metadata": {},
   "source": [
    "#### Split values verticlly"
   ]
  },
  {
   "cell_type": "code",
   "execution_count": 208,
   "id": "f2b7ea94",
   "metadata": {},
   "outputs": [],
   "source": [
    "df_tag['no.'] = df_tag.index"
   ]
  },
  {
   "cell_type": "code",
   "execution_count": 209,
   "id": "a81c96b8",
   "metadata": {},
   "outputs": [],
   "source": [
    "temp = df_tag[['no.','tag', 'tag_conf', 'city', 'review','RudeService', 'OrderProblem','Filthy',\n",
    "                'SlowService', 'BadFood', 'ScaryMcDs', 'MissingFood', 'Cost']]"
   ]
  },
  {
   "cell_type": "code",
   "execution_count": 210,
   "id": "d278a60c",
   "metadata": {},
   "outputs": [],
   "source": [
    "t = temp.melt(id_vars=['no.','tag', 'tag_conf', 'city', 'review'], var_name='tag_split', value_name='filter_')"
   ]
  },
  {
   "cell_type": "code",
   "execution_count": 211,
   "id": "aa688156",
   "metadata": {},
   "outputs": [
    {
     "data": {
      "text/plain": [
       "(9400, 7)"
      ]
     },
     "execution_count": 211,
     "metadata": {},
     "output_type": "execute_result"
    }
   ],
   "source": [
    "t.shape"
   ]
  },
  {
   "cell_type": "code",
   "execution_count": 212,
   "id": "0460ea69",
   "metadata": {},
   "outputs": [
    {
     "data": {
      "text/plain": [
       "filter_\n",
       "0.0000    7570\n",
       "1.0000    1024\n",
       "0.6667      50\n",
       "0.6717      27\n",
       "0.6562      26\n",
       "          ... \n",
       "0.6567       1\n",
       "0.6536       1\n",
       "0.6525       1\n",
       "0.6509       1\n",
       "0.6700       1\n",
       "Length: 194, dtype: int64"
      ]
     },
     "execution_count": 212,
     "metadata": {},
     "output_type": "execute_result"
    }
   ],
   "source": [
    "t.sort_values(by = 'filter_', inplace= True)\n",
    "t.value_counts('filter_')"
   ]
  },
  {
   "cell_type": "code",
   "execution_count": 213,
   "id": "8786600b",
   "metadata": {},
   "outputs": [],
   "source": [
    "df_tag_vertical = t[t['filter_']!= 0].sort_values(by = 'no.')"
   ]
  },
  {
   "cell_type": "code",
   "execution_count": 214,
   "id": "79a9a1a9",
   "metadata": {},
   "outputs": [
    {
     "data": {
      "text/html": [
       "<div>\n",
       "<style scoped>\n",
       "    .dataframe tbody tr th:only-of-type {\n",
       "        vertical-align: middle;\n",
       "    }\n",
       "\n",
       "    .dataframe tbody tr th {\n",
       "        vertical-align: top;\n",
       "    }\n",
       "\n",
       "    .dataframe thead th {\n",
       "        text-align: right;\n",
       "    }\n",
       "</style>\n",
       "<table border=\"1\" class=\"dataframe\">\n",
       "  <thead>\n",
       "    <tr style=\"text-align: right;\">\n",
       "      <th></th>\n",
       "      <th>no.</th>\n",
       "      <th>tag</th>\n",
       "      <th>tag_conf</th>\n",
       "      <th>city</th>\n",
       "      <th>review</th>\n",
       "      <th>tag_split</th>\n",
       "      <th>filter_</th>\n",
       "    </tr>\n",
       "  </thead>\n",
       "  <tbody>\n",
       "    <tr>\n",
       "      <th>50</th>\n",
       "      <td>30</td>\n",
       "      <td>[RudeService, OrderProblem, BadFood, Filthy]</td>\n",
       "      <td>[1.0, 1.0, 1.0, 0.6667]</td>\n",
       "      <td>Atlanta</td>\n",
       "      <td>THIS MCDONALDS IS HORRIBLE! They are also down...</td>\n",
       "      <td>RudeService</td>\n",
       "      <td>1.0000</td>\n",
       "    </tr>\n",
       "    <tr>\n",
       "      <th>51</th>\n",
       "      <td>31</td>\n",
       "      <td>[RudeService, OrderProblem, BadFood]</td>\n",
       "      <td>[0.6585, 0.6585, 0.6585]</td>\n",
       "      <td>Atlanta</td>\n",
       "      <td>Nuts and bolts: Stopped by on my way into work...</td>\n",
       "      <td>RudeService</td>\n",
       "      <td>0.6585</td>\n",
       "    </tr>\n",
       "    <tr>\n",
       "      <th>52</th>\n",
       "      <td>31</td>\n",
       "      <td>[RudeService, OrderProblem, BadFood]</td>\n",
       "      <td>[0.6585, 0.6585, 0.6585]</td>\n",
       "      <td>Atlanta</td>\n",
       "      <td>Nuts and bolts: Stopped by on my way into work...</td>\n",
       "      <td>BadFood</td>\n",
       "      <td>0.6585</td>\n",
       "    </tr>\n",
       "    <tr>\n",
       "      <th>53</th>\n",
       "      <td>31</td>\n",
       "      <td>[RudeService, OrderProblem, BadFood]</td>\n",
       "      <td>[0.6585, 0.6585, 0.6585]</td>\n",
       "      <td>Atlanta</td>\n",
       "      <td>Nuts and bolts: Stopped by on my way into work...</td>\n",
       "      <td>OrderProblem</td>\n",
       "      <td>0.6585</td>\n",
       "    </tr>\n",
       "    <tr>\n",
       "      <th>54</th>\n",
       "      <td>32</td>\n",
       "      <td>[MissingFood]</td>\n",
       "      <td>[0.7084]</td>\n",
       "      <td>Atlanta</td>\n",
       "      <td>The ice cream machine is always \"down\" after 1...</td>\n",
       "      <td>MissingFood</td>\n",
       "      <td>0.7084</td>\n",
       "    </tr>\n",
       "    <tr>\n",
       "      <th>55</th>\n",
       "      <td>33</td>\n",
       "      <td>[RudeService, BadFood, Filthy, SlowService]</td>\n",
       "      <td>[1.0, 1.0, 0.7084, 0.6289]</td>\n",
       "      <td>Atlanta</td>\n",
       "      <td>TOXIC DUMP! In food quality and employee human...</td>\n",
       "      <td>RudeService</td>\n",
       "      <td>1.0000</td>\n",
       "    </tr>\n",
       "    <tr>\n",
       "      <th>56</th>\n",
       "      <td>33</td>\n",
       "      <td>[RudeService, BadFood, Filthy, SlowService]</td>\n",
       "      <td>[1.0, 1.0, 0.7084, 0.6289]</td>\n",
       "      <td>Atlanta</td>\n",
       "      <td>TOXIC DUMP! In food quality and employee human...</td>\n",
       "      <td>BadFood</td>\n",
       "      <td>1.0000</td>\n",
       "    </tr>\n",
       "    <tr>\n",
       "      <th>57</th>\n",
       "      <td>33</td>\n",
       "      <td>[RudeService, BadFood, Filthy, SlowService]</td>\n",
       "      <td>[1.0, 1.0, 0.7084, 0.6289]</td>\n",
       "      <td>Atlanta</td>\n",
       "      <td>TOXIC DUMP! In food quality and employee human...</td>\n",
       "      <td>SlowService</td>\n",
       "      <td>0.6289</td>\n",
       "    </tr>\n",
       "    <tr>\n",
       "      <th>58</th>\n",
       "      <td>33</td>\n",
       "      <td>[RudeService, BadFood, Filthy, SlowService]</td>\n",
       "      <td>[1.0, 1.0, 0.7084, 0.6289]</td>\n",
       "      <td>Atlanta</td>\n",
       "      <td>TOXIC DUMP! In food quality and employee human...</td>\n",
       "      <td>Filthy</td>\n",
       "      <td>0.7084</td>\n",
       "    </tr>\n",
       "    <tr>\n",
       "      <th>59</th>\n",
       "      <td>34</td>\n",
       "      <td>[BadFood]</td>\n",
       "      <td>[1]</td>\n",
       "      <td>Atlanta</td>\n",
       "      <td>I know i shouldn't need to ask but experience ...</td>\n",
       "      <td>BadFood</td>\n",
       "      <td>1.0000</td>\n",
       "    </tr>\n",
       "  </tbody>\n",
       "</table>\n",
       "</div>"
      ],
      "text/plain": [
       "    no.                                           tag  \\\n",
       "50   30  [RudeService, OrderProblem, BadFood, Filthy]   \n",
       "51   31          [RudeService, OrderProblem, BadFood]   \n",
       "52   31          [RudeService, OrderProblem, BadFood]   \n",
       "53   31          [RudeService, OrderProblem, BadFood]   \n",
       "54   32                                 [MissingFood]   \n",
       "55   33   [RudeService, BadFood, Filthy, SlowService]   \n",
       "56   33   [RudeService, BadFood, Filthy, SlowService]   \n",
       "57   33   [RudeService, BadFood, Filthy, SlowService]   \n",
       "58   33   [RudeService, BadFood, Filthy, SlowService]   \n",
       "59   34                                     [BadFood]   \n",
       "\n",
       "                      tag_conf     city  \\\n",
       "50     [1.0, 1.0, 1.0, 0.6667]  Atlanta   \n",
       "51    [0.6585, 0.6585, 0.6585]  Atlanta   \n",
       "52    [0.6585, 0.6585, 0.6585]  Atlanta   \n",
       "53    [0.6585, 0.6585, 0.6585]  Atlanta   \n",
       "54                    [0.7084]  Atlanta   \n",
       "55  [1.0, 1.0, 0.7084, 0.6289]  Atlanta   \n",
       "56  [1.0, 1.0, 0.7084, 0.6289]  Atlanta   \n",
       "57  [1.0, 1.0, 0.7084, 0.6289]  Atlanta   \n",
       "58  [1.0, 1.0, 0.7084, 0.6289]  Atlanta   \n",
       "59                         [1]  Atlanta   \n",
       "\n",
       "                                               review     tag_split  filter_  \n",
       "50  THIS MCDONALDS IS HORRIBLE! They are also down...   RudeService   1.0000  \n",
       "51  Nuts and bolts: Stopped by on my way into work...   RudeService   0.6585  \n",
       "52  Nuts and bolts: Stopped by on my way into work...       BadFood   0.6585  \n",
       "53  Nuts and bolts: Stopped by on my way into work...  OrderProblem   0.6585  \n",
       "54  The ice cream machine is always \"down\" after 1...   MissingFood   0.7084  \n",
       "55  TOXIC DUMP! In food quality and employee human...   RudeService   1.0000  \n",
       "56  TOXIC DUMP! In food quality and employee human...       BadFood   1.0000  \n",
       "57  TOXIC DUMP! In food quality and employee human...   SlowService   0.6289  \n",
       "58  TOXIC DUMP! In food quality and employee human...        Filthy   0.7084  \n",
       "59  I know i shouldn't need to ask but experience ...       BadFood   1.0000  "
      ]
     },
     "execution_count": 214,
     "metadata": {},
     "output_type": "execute_result"
    }
   ],
   "source": [
    "df_tag_vertical.reset_index(drop = True)[50:60]"
   ]
  },
  {
   "cell_type": "code",
   "execution_count": 215,
   "id": "f41586df",
   "metadata": {},
   "outputs": [],
   "source": [
    "############################################"
   ]
  },
  {
   "cell_type": "markdown",
   "id": "9e7c9423",
   "metadata": {},
   "source": [
    "## Visualize"
   ]
  },
  {
   "cell_type": "code",
   "execution_count": 216,
   "id": "ce5adffc",
   "metadata": {},
   "outputs": [
    {
     "data": {
      "text/plain": [
       "<AxesSubplot:title={'center':'Events by City '}, xlabel='City'>"
      ]
     },
     "execution_count": 216,
     "metadata": {},
     "output_type": "execute_result"
    },
    {
     "data": {
      "image/png": "[encoded data removed]",
      "text/plain": [
       "<Figure size 576x432 with 1 Axes>"
      ]
     },
     "metadata": {
      "needs_background": "light"
     },
     "output_type": "display_data"
    }
   ],
   "source": [
    "\n",
    "df_tag.city.value_counts().plot(kind = 'bar',xlabel='City', figsize = [8,6], title = 'Events by City ')\n"
   ]
  },
  {
   "cell_type": "code",
   "execution_count": 217,
   "id": "086f1e9a",
   "metadata": {},
   "outputs": [
    {
     "data": {
      "text/plain": [
       "<AxesSubplot:title={'center':'Tagged'}, xlabel='Desc'>"
      ]
     },
     "execution_count": 217,
     "metadata": {},
     "output_type": "execute_result"
    },
    {
     "data": {
      "image/png": "[encoded data removed]",
      "text/plain": [
       "<Figure size 576x288 with 1 Axes>"
      ]
     },
     "metadata": {
      "needs_background": "light"
     },
     "output_type": "display_data"
    }
   ],
   "source": [
    "tag_tot = df_tag.iloc[:,4:12].astype(bool).sum(axis=0)\n",
    "tag_tot.plot(kind = 'bar',xlabel='Desc', figsize = [8,4], title = 'Tagged')"
   ]
  },
  {
   "cell_type": "code",
   "execution_count": 218,
   "id": "a4552696",
   "metadata": {},
   "outputs": [
    {
     "data": {
      "text/html": [
       "<div>\n",
       "<style scoped>\n",
       "    .dataframe tbody tr th:only-of-type {\n",
       "        vertical-align: middle;\n",
       "    }\n",
       "\n",
       "    .dataframe tbody tr th {\n",
       "        vertical-align: top;\n",
       "    }\n",
       "\n",
       "    .dataframe thead th {\n",
       "        text-align: right;\n",
       "    }\n",
       "</style>\n",
       "<table border=\"1\" class=\"dataframe\">\n",
       "  <thead>\n",
       "    <tr style=\"text-align: right;\">\n",
       "      <th></th>\n",
       "      <th>RudeService</th>\n",
       "      <th>OrderProblem</th>\n",
       "      <th>Filthy</th>\n",
       "      <th>SlowService</th>\n",
       "      <th>BadFood</th>\n",
       "      <th>ScaryMcDs</th>\n",
       "      <th>MissingFood</th>\n",
       "      <th>Cost</th>\n",
       "    </tr>\n",
       "  </thead>\n",
       "  <tbody>\n",
       "    <tr>\n",
       "      <th>0</th>\n",
       "      <td>1.0</td>\n",
       "      <td>0.6667</td>\n",
       "      <td>0.6667</td>\n",
       "      <td>0.0000</td>\n",
       "      <td>0.0000</td>\n",
       "      <td>0.0000</td>\n",
       "      <td>0.0</td>\n",
       "      <td>0.0</td>\n",
       "    </tr>\n",
       "    <tr>\n",
       "      <th>1</th>\n",
       "      <td>1.0</td>\n",
       "      <td>0.0000</td>\n",
       "      <td>0.0000</td>\n",
       "      <td>0.0000</td>\n",
       "      <td>0.0000</td>\n",
       "      <td>0.0000</td>\n",
       "      <td>0.0</td>\n",
       "      <td>0.0</td>\n",
       "    </tr>\n",
       "    <tr>\n",
       "      <th>2</th>\n",
       "      <td>0.0</td>\n",
       "      <td>1.0000</td>\n",
       "      <td>0.0000</td>\n",
       "      <td>1.0000</td>\n",
       "      <td>0.0000</td>\n",
       "      <td>0.0000</td>\n",
       "      <td>0.0</td>\n",
       "      <td>0.0</td>\n",
       "    </tr>\n",
       "    <tr>\n",
       "      <th>3</th>\n",
       "      <td>1.0</td>\n",
       "      <td>0.0000</td>\n",
       "      <td>0.0000</td>\n",
       "      <td>0.0000</td>\n",
       "      <td>0.0000</td>\n",
       "      <td>0.0000</td>\n",
       "      <td>0.0</td>\n",
       "      <td>0.0</td>\n",
       "    </tr>\n",
       "    <tr>\n",
       "      <th>4</th>\n",
       "      <td>0.0</td>\n",
       "      <td>0.0000</td>\n",
       "      <td>0.0000</td>\n",
       "      <td>0.6444</td>\n",
       "      <td>0.7111</td>\n",
       "      <td>0.0000</td>\n",
       "      <td>0.0</td>\n",
       "      <td>0.0</td>\n",
       "    </tr>\n",
       "    <tr>\n",
       "      <th>...</th>\n",
       "      <td>...</td>\n",
       "      <td>...</td>\n",
       "      <td>...</td>\n",
       "      <td>...</td>\n",
       "      <td>...</td>\n",
       "      <td>...</td>\n",
       "      <td>...</td>\n",
       "      <td>...</td>\n",
       "    </tr>\n",
       "    <tr>\n",
       "      <th>1171</th>\n",
       "      <td>0.0</td>\n",
       "      <td>0.6754</td>\n",
       "      <td>0.0000</td>\n",
       "      <td>0.0000</td>\n",
       "      <td>0.0000</td>\n",
       "      <td>0.0000</td>\n",
       "      <td>0.0</td>\n",
       "      <td>0.0</td>\n",
       "    </tr>\n",
       "    <tr>\n",
       "      <th>1172</th>\n",
       "      <td>0.0</td>\n",
       "      <td>0.0000</td>\n",
       "      <td>1.0000</td>\n",
       "      <td>1.0000</td>\n",
       "      <td>1.0000</td>\n",
       "      <td>0.0000</td>\n",
       "      <td>0.0</td>\n",
       "      <td>0.0</td>\n",
       "    </tr>\n",
       "    <tr>\n",
       "      <th>1173</th>\n",
       "      <td>0.0</td>\n",
       "      <td>0.0000</td>\n",
       "      <td>0.0000</td>\n",
       "      <td>0.0000</td>\n",
       "      <td>0.0000</td>\n",
       "      <td>0.6458</td>\n",
       "      <td>0.0</td>\n",
       "      <td>0.0</td>\n",
       "    </tr>\n",
       "    <tr>\n",
       "      <th>1174</th>\n",
       "      <td>0.0</td>\n",
       "      <td>0.0000</td>\n",
       "      <td>0.0000</td>\n",
       "      <td>0.0000</td>\n",
       "      <td>0.0000</td>\n",
       "      <td>0.6407</td>\n",
       "      <td>0.0</td>\n",
       "      <td>0.0</td>\n",
       "    </tr>\n",
       "    <tr>\n",
       "      <th>1175</th>\n",
       "      <td>0.0</td>\n",
       "      <td>0.0000</td>\n",
       "      <td>0.0000</td>\n",
       "      <td>0.6667</td>\n",
       "      <td>0.0000</td>\n",
       "      <td>1.0000</td>\n",
       "      <td>0.0</td>\n",
       "      <td>0.0</td>\n",
       "    </tr>\n",
       "  </tbody>\n",
       "</table>\n",
       "<p>1175 rows × 8 columns</p>\n",
       "</div>"
      ],
      "text/plain": [
       "      RudeService  OrderProblem  Filthy  SlowService  BadFood  ScaryMcDs  \\\n",
       "0             1.0        0.6667  0.6667       0.0000   0.0000     0.0000   \n",
       "1             1.0        0.0000  0.0000       0.0000   0.0000     0.0000   \n",
       "2             0.0        1.0000  0.0000       1.0000   0.0000     0.0000   \n",
       "3             1.0        0.0000  0.0000       0.0000   0.0000     0.0000   \n",
       "4             0.0        0.0000  0.0000       0.6444   0.7111     0.0000   \n",
       "...           ...           ...     ...          ...      ...        ...   \n",
       "1171          0.0        0.6754  0.0000       0.0000   0.0000     0.0000   \n",
       "1172          0.0        0.0000  1.0000       1.0000   1.0000     0.0000   \n",
       "1173          0.0        0.0000  0.0000       0.0000   0.0000     0.6458   \n",
       "1174          0.0        0.0000  0.0000       0.0000   0.0000     0.6407   \n",
       "1175          0.0        0.0000  0.0000       0.6667   0.0000     1.0000   \n",
       "\n",
       "      MissingFood  Cost  \n",
       "0             0.0   0.0  \n",
       "1             0.0   0.0  \n",
       "2             0.0   0.0  \n",
       "3             0.0   0.0  \n",
       "4             0.0   0.0  \n",
       "...           ...   ...  \n",
       "1171          0.0   0.0  \n",
       "1172          0.0   0.0  \n",
       "1173          0.0   0.0  \n",
       "1174          0.0   0.0  \n",
       "1175          0.0   0.0  \n",
       "\n",
       "[1175 rows x 8 columns]"
      ]
     },
     "execution_count": 218,
     "metadata": {},
     "output_type": "execute_result"
    }
   ],
   "source": [
    "df_tag.iloc[:,4:12]#.astype(bool).sum(axis=0)"
   ]
  },
  {
   "cell_type": "code",
   "execution_count": 219,
   "id": "d01da14d",
   "metadata": {},
   "outputs": [
    {
     "data": {
      "text/plain": [
       "<AxesSubplot:>"
      ]
     },
     "execution_count": 219,
     "metadata": {},
     "output_type": "execute_result"
    },
    {
     "data": {
      "image/png": "[encoded data removed]",
      "text/plain": [
       "<Figure size 720x432 with 1 Axes>"
      ]
     },
     "metadata": {
      "needs_background": "light"
     },
     "output_type": "display_data"
    }
   ],
   "source": [
    "df_tag.iloc[:,4:12].boxplot( figsize=(10,6), rot=45, fontsize=10)"
   ]
  },
  {
   "attachments": {
    "image.png": {
     "image/png": "[encoded data removed]"
    }
   },
   "cell_type": "markdown",
   "id": "70b03187",
   "metadata": {},
   "source": [
    "\n",
    "<div>\n",
    "pic: focuse on the certainty   <br> \n",
    "<img src=\"attachment:image.png\" width=\"500\" align=\"left\" />\n",
    "</div>"
   ]
  },
  {
   "cell_type": "code",
   "execution_count": 220,
   "id": "e8fce55a",
   "metadata": {},
   "outputs": [
    {
     "name": "stderr",
     "output_type": "stream",
     "text": [
      "posx and posy should be finite values\n",
      "posx and posy should be finite values\n"
     ]
    },
    {
     "data": {
      "image/png": "[encoded data removed]",
      "text/plain": [
       "<Figure size 1008x432 with 1 Axes>"
      ]
     },
     "metadata": {
      "needs_background": "light"
     },
     "output_type": "display_data"
    }
   ],
   "source": [
    "# ! change the look\n",
    "\n",
    "import seaborn as sns\n",
    "\n",
    "# sns.set_theme(style=\"whitegrid\", palette=\"deep\")\n",
    "# sns.set_style( {\"grid.color\": \".6\", \"grid.linestyle\": \":\"})\n",
    "# sns.set_context(\"paper\")\n",
    "\n",
    "\n",
    "plt.figure(figsize=(14,6))\n",
    "ax = sns.countplot(x='city', hue='tag_split', data=df_tag_vertical, order = df_tag_vertical['city'].value_counts().index);\n",
    "ax.legend(fontsize = 12,bbox_to_anchor= (1.01, 1),title=\"tag\", title_fontsize = 12);\n",
    "for rect in ax.patches:\n",
    "    ax.text (rect.get_x() + rect.get_width(),rect.get_height()+ 2,rect.get_height()+2,horizontalalignment='center', fontsize = 9)"
   ]
  },
  {
   "cell_type": "code",
   "execution_count": 221,
   "id": "16c28fa2",
   "metadata": {},
   "outputs": [
    {
     "data": {
      "image/png": "[encoded data removed]",
      "text/plain": [
       "<Figure size 720x720 with 1 Axes>"
      ]
     },
     "metadata": {
      "needs_background": "light"
     },
     "output_type": "display_data"
    }
   ],
   "source": [
    "from wordcloud import WordCloud\n",
    "import matplotlib.pyplot as plt\n",
    "\n",
    "def show_wordcloud(data, title = None):\n",
    "    wordcloud = WordCloud(\n",
    "        background_color = 'Gray',\n",
    "        max_words = 30,\n",
    "        max_font_size = 30, \n",
    "        scale = 2,\n",
    "        random_state = 1\n",
    "    ).generate(str(data))\n",
    "\n",
    "    fig = plt.figure(1, figsize = (10, 10))\n",
    "    plt.axis('off')\n",
    "    if title: \n",
    "        fig.suptitle(title, fontsize = 10)\n",
    "        fig.subplots_adjust(top = 2.3)\n",
    "\n",
    "    plt.imshow(wordcloud)\n",
    "    plt.show()\n",
    "\n",
    "# print wordcloud\n",
    "show_wordcloud(df_tag[\"review\"])"
   ]
  },
  {
   "cell_type": "markdown",
   "id": "aec5fe50",
   "metadata": {},
   "source": [
    "## _Preprocessing_\n",
    "*** \n",
    "<br>"
   ]
  },
  {
   "cell_type": "markdown",
   "id": "757d75d0",
   "metadata": {},
   "source": [
    "### Cleaning the text"
   ]
  },
  {
   "cell_type": "code",
   "execution_count": 222,
   "id": "361cbb8d",
   "metadata": {},
   "outputs": [],
   "source": [
    "#Preprocess will split a string of text into individual tokens/shingles based on whitespace.\n",
    "import re\n",
    "def preprocess(text):\n",
    "    text = re.sub(r'[^\\w\\s]','',text)\n",
    "    tokens = text.lower()\n",
    "    tokens = tokens.split()\n",
    "    return tokens"
   ]
  },
  {
   "cell_type": "code",
   "execution_count": 158,
   "id": "60262fa1",
   "metadata": {},
   "outputs": [
    {
     "name": "stdout",
     "output_type": "stream",
     "text": [
      "['the', 'devil', 'went', 'down', 'to', 'georgia']\n"
     ]
    }
   ],
   "source": [
    "text = 'The devil went down to Georgia'\n",
    "print( preprocess(text))"
   ]
  },
  {
   "cell_type": "code",
   "execution_count": 165,
   "id": "f9bb248e",
   "metadata": {},
   "outputs": [],
   "source": [
    "# df_tag[['no.','review']]\n",
    "# df_tag['review'] = df_tag['review'].apply(lambda x : preprocess(x))"
   ]
  },
  {
   "cell_type": "markdown",
   "id": "92ae8113",
   "metadata": {},
   "source": [
    "### CountVectorizer using n-grams"
   ]
  },
  {
   "cell_type": "code",
   "execution_count": 223,
   "id": "56ed19a1",
   "metadata": {},
   "outputs": [],
   "source": [
    "import sklearn\n",
    "from sklearn.feature_extraction.text import CountVectorizer"
   ]
  },
  {
   "cell_type": "code",
   "execution_count": 260,
   "id": "fb46badb",
   "metadata": {},
   "outputs": [],
   "source": [
    "n_gram_vectorizer = CountVectorizer(ngram_range=(3, 3)) # lowest, highets - combo "
   ]
  },
  {
   "cell_type": "code",
   "execution_count": 256,
   "id": "403ce951",
   "metadata": {},
   "outputs": [],
   "source": [
    "lst =df_tag['review'][0:].to_list()"
   ]
  },
  {
   "cell_type": "code",
   "execution_count": 261,
   "id": "1bf44245",
   "metadata": {},
   "outputs": [
    {
     "data": {
      "text/plain": [
       "<1175x93338 sparse matrix of type '<class 'numpy.int64'>'\n",
       "\twith 109406 stored elements in Compressed Sparse Row format>"
      ]
     },
     "execution_count": 261,
     "metadata": {},
     "output_type": "execute_result"
    }
   ],
   "source": [
    "n_gram_vectorizer.fit_transform(lst)"
   ]
  },
  {
   "cell_type": "code",
   "execution_count": 77,
   "id": "c0bda4a8",
   "metadata": {},
   "outputs": [],
   "source": [
    "# from LocalitySensitiveHashing import *\n",
    "# datafile = \"data_for_lsh.csv\"\n",
    "# lsh = LocalitySensitiveHashing(\n",
    "#                    datafile = datafile,\n",
    "#                    dim = 10,\n",
    "#                    r = 50,\n",
    "#                    b = 100,\n",
    "#                    expected_num_of_clusters = 10,\n",
    "#           )\n",
    "# lsh.get_data_from_csv()\n",
    "# lsh.initialize_hash_store()\n",
    "# lsh.hash_all_data()\n",
    "# similarity_groups = lsh.lsh_basic_for_neighborhood_clusters()\n",
    "# coalesced_similarity_groups = lsh.merge_similarity_groups_with_coalescence( similarity_groups )\n",
    "# merged_similarity_groups = lsh.merge_similarity_groups_with_l2norm_sample_based( coalesced_similarity_groups )\n",
    "# lsh.write_clusters_to_file( merged_similarity_groups, \"clusters.txt\" )"
   ]
  },
  {
   "cell_type": "markdown",
   "id": "6243709f",
   "metadata": {},
   "source": [
    "# Testing BERT\n",
    "### (Bidirectional Encoder Representation with Transformers)\n",
    "\n",
    "https://neptune.ai/blog/how-to-code-bert-using-pytorch-tutorial"
   ]
  },
  {
   "cell_type": "code",
   "execution_count": 497,
   "id": "d4e65ecb",
   "metadata": {},
   "outputs": [],
   "source": [
    "import re\n",
    "sentences = re.sub(\"[.,!?\\\\-]\", '', text.lower()).split('\\n')  # filter '.', ',', '?', '!'\n",
    "word_list = list(set(\" \".join(sentences).split()))"
   ]
  },
  {
   "cell_type": "code",
   "execution_count": 502,
   "id": "1639f701",
   "metadata": {},
   "outputs": [
    {
     "name": "stdout",
     "output_type": "stream",
     "text": [
      "['terrible', 'and', 'outside', 'surly', 'the', 'with', 'ξ', 'help', 'one', 'anything']\n"
     ]
    }
   ],
   "source": [
    "print(word_list[0:10])"
   ]
  }
 ],
 "metadata": {
  "interpreter": {
   "hash": "ec416e178d408086291cef0d2e659258e11b5d2ec21a813aa7baae91bbf2fcc7"
  },
  "kernelspec": {
   "display_name": "Python 3",
   "language": "python",
   "name": "python3"
  },
  "language_info": {
   "codemirror_mode": {
    "name": "ipython",
    "version": 3
   },
   "file_extension": ".py",
   "mimetype": "text/x-python",
   "name": "python",
   "nbconvert_exporter": "python",
   "pygments_lexer": "ipython3",
   "version": "3.8.8"
  },
  "varInspector": {
   "cols": {
    "lenName": 16,
    "lenType": 16,
    "lenVar": 40
   },
   "kernels_config": {
    "python": {
     "delete_cmd_postfix": "",
     "delete_cmd_prefix": "del ",
     "library": "var_list.py",
     "varRefreshCmd": "print(var_dic_list())"
    },
    "r": {
     "delete_cmd_postfix": ") ",
     "delete_cmd_prefix": "rm(",
     "library": "var_list.r",
     "varRefreshCmd": "cat(var_dic_list()) "
    }
   },
   "types_to_exclude": [
    "module",
    "function",
    "builtin_function_or_method",
    "instance",
    "_Feature"
   ],
   "window_display": false
  }
 },
 "nbformat": 4,
 "nbformat_minor": 5
}
