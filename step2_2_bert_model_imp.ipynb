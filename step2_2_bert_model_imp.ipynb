{
  "nbformat": 4,
  "nbformat_minor": 0,
  "metadata": {
    "kernelspec": {
      "language": "python",
      "display_name": "Python 3",
      "name": "python3"
    },
    "language_info": {
      "name": "python",
      "version": "3.7.10",
      "mimetype": "text/x-python",
      "codemirror_mode": {
        "name": "ipython",
        "version": 3
      },
      "pygments_lexer": "ipython3",
      "nbconvert_exporter": "python",
      "file_extension": ".py"
    },
    "colab": {
      "name": "Copy of step2-2-bert-model-imp.ipynb",
      "provenance": [],
      "collapsed_sections": [],
      "include_colab_link": true
    },
    "accelerator": "GPU",
    "widgets": {
      "application/vnd.jupyter.widget-state+json": {
        "0b199531881d45118e0d820732190de2": {
          "model_module": "@jupyter-widgets/controls",
          "model_name": "HBoxModel",
          "model_module_version": "1.5.0",
          "state": {
            "_view_name": "HBoxView",
            "_dom_classes": [],
            "_model_name": "HBoxModel",
            "_view_module": "@jupyter-widgets/controls",
            "_model_module_version": "1.5.0",
            "_view_count": null,
            "_view_module_version": "1.5.0",
            "box_style": "",
            "layout": "IPY_MODEL_d937eb14ea7b4f6ab8a6ee841b2c3f3d",
            "_model_module": "@jupyter-widgets/controls",
            "children": [
              "IPY_MODEL_1217f9b1f30d459d950082b97f39ab0f",
              "IPY_MODEL_ee5446bea51c4b0b953eadb2985d733d",
              "IPY_MODEL_0a641defd5a64a57a84d3e940f0d686c"
            ]
          }
        },
        "d937eb14ea7b4f6ab8a6ee841b2c3f3d": {
          "model_module": "@jupyter-widgets/base",
          "model_name": "LayoutModel",
          "model_module_version": "1.2.0",
          "state": {
            "_view_name": "LayoutView",
            "grid_template_rows": null,
            "right": null,
            "justify_content": null,
            "_view_module": "@jupyter-widgets/base",
            "overflow": null,
            "_model_module_version": "1.2.0",
            "_view_count": null,
            "flex_flow": null,
            "width": null,
            "min_width": null,
            "border": null,
            "align_items": null,
            "bottom": null,
            "_model_module": "@jupyter-widgets/base",
            "top": null,
            "grid_column": null,
            "overflow_y": null,
            "overflow_x": null,
            "grid_auto_flow": null,
            "grid_area": null,
            "grid_template_columns": null,
            "flex": null,
            "_model_name": "LayoutModel",
            "justify_items": null,
            "grid_row": null,
            "max_height": null,
            "align_content": null,
            "visibility": null,
            "align_self": null,
            "height": null,
            "min_height": null,
            "padding": null,
            "grid_auto_rows": null,
            "grid_gap": null,
            "max_width": null,
            "order": null,
            "_view_module_version": "1.2.0",
            "grid_template_areas": null,
            "object_position": null,
            "object_fit": null,
            "grid_auto_columns": null,
            "margin": null,
            "display": null,
            "left": null
          }
        },
        "1217f9b1f30d459d950082b97f39ab0f": {
          "model_module": "@jupyter-widgets/controls",
          "model_name": "HTMLModel",
          "model_module_version": "1.5.0",
          "state": {
            "_view_name": "HTMLView",
            "style": "IPY_MODEL_4af84550acff4104887fc076b0a9f738",
            "_dom_classes": [],
            "description": "",
            "_model_name": "HTMLModel",
            "placeholder": "​",
            "_view_module": "@jupyter-widgets/controls",
            "_model_module_version": "1.5.0",
            "value": "Downloading: 100%",
            "_view_count": null,
            "_view_module_version": "1.5.0",
            "description_tooltip": null,
            "_model_module": "@jupyter-widgets/controls",
            "layout": "IPY_MODEL_8aff96b11fca4374a823c3577d6f3917"
          }
        },
        "ee5446bea51c4b0b953eadb2985d733d": {
          "model_module": "@jupyter-widgets/controls",
          "model_name": "FloatProgressModel",
          "model_module_version": "1.5.0",
          "state": {
            "_view_name": "ProgressView",
            "style": "IPY_MODEL_972a9f7d129844a0b11ff720ea4b184b",
            "_dom_classes": [],
            "description": "",
            "_model_name": "FloatProgressModel",
            "bar_style": "success",
            "max": 435779157,
            "_view_module": "@jupyter-widgets/controls",
            "_model_module_version": "1.5.0",
            "value": 435779157,
            "_view_count": null,
            "_view_module_version": "1.5.0",
            "orientation": "horizontal",
            "min": 0,
            "description_tooltip": null,
            "_model_module": "@jupyter-widgets/controls",
            "layout": "IPY_MODEL_54d79d1738cf499d8d65b675d9d36f92"
          }
        },
        "0a641defd5a64a57a84d3e940f0d686c": {
          "model_module": "@jupyter-widgets/controls",
          "model_name": "HTMLModel",
          "model_module_version": "1.5.0",
          "state": {
            "_view_name": "HTMLView",
            "style": "IPY_MODEL_abbc728d38194aeb8e8ef8024533d147",
            "_dom_classes": [],
            "description": "",
            "_model_name": "HTMLModel",
            "placeholder": "​",
            "_view_module": "@jupyter-widgets/controls",
            "_model_module_version": "1.5.0",
            "value": " 416M/416M [00:15&lt;00:00, 28.3MB/s]",
            "_view_count": null,
            "_view_module_version": "1.5.0",
            "description_tooltip": null,
            "_model_module": "@jupyter-widgets/controls",
            "layout": "IPY_MODEL_9a2ab9f0f3e4420f80e0d0881be5e44b"
          }
        },
        "4af84550acff4104887fc076b0a9f738": {
          "model_module": "@jupyter-widgets/controls",
          "model_name": "DescriptionStyleModel",
          "model_module_version": "1.5.0",
          "state": {
            "_view_name": "StyleView",
            "_model_name": "DescriptionStyleModel",
            "description_width": "",
            "_view_module": "@jupyter-widgets/base",
            "_model_module_version": "1.5.0",
            "_view_count": null,
            "_view_module_version": "1.2.0",
            "_model_module": "@jupyter-widgets/controls"
          }
        },
        "8aff96b11fca4374a823c3577d6f3917": {
          "model_module": "@jupyter-widgets/base",
          "model_name": "LayoutModel",
          "model_module_version": "1.2.0",
          "state": {
            "_view_name": "LayoutView",
            "grid_template_rows": null,
            "right": null,
            "justify_content": null,
            "_view_module": "@jupyter-widgets/base",
            "overflow": null,
            "_model_module_version": "1.2.0",
            "_view_count": null,
            "flex_flow": null,
            "width": null,
            "min_width": null,
            "border": null,
            "align_items": null,
            "bottom": null,
            "_model_module": "@jupyter-widgets/base",
            "top": null,
            "grid_column": null,
            "overflow_y": null,
            "overflow_x": null,
            "grid_auto_flow": null,
            "grid_area": null,
            "grid_template_columns": null,
            "flex": null,
            "_model_name": "LayoutModel",
            "justify_items": null,
            "grid_row": null,
            "max_height": null,
            "align_content": null,
            "visibility": null,
            "align_self": null,
            "height": null,
            "min_height": null,
            "padding": null,
            "grid_auto_rows": null,
            "grid_gap": null,
            "max_width": null,
            "order": null,
            "_view_module_version": "1.2.0",
            "grid_template_areas": null,
            "object_position": null,
            "object_fit": null,
            "grid_auto_columns": null,
            "margin": null,
            "display": null,
            "left": null
          }
        },
        "972a9f7d129844a0b11ff720ea4b184b": {
          "model_module": "@jupyter-widgets/controls",
          "model_name": "ProgressStyleModel",
          "model_module_version": "1.5.0",
          "state": {
            "_view_name": "StyleView",
            "_model_name": "ProgressStyleModel",
            "description_width": "",
            "_view_module": "@jupyter-widgets/base",
            "_model_module_version": "1.5.0",
            "_view_count": null,
            "_view_module_version": "1.2.0",
            "bar_color": null,
            "_model_module": "@jupyter-widgets/controls"
          }
        },
        "54d79d1738cf499d8d65b675d9d36f92": {
          "model_module": "@jupyter-widgets/base",
          "model_name": "LayoutModel",
          "model_module_version": "1.2.0",
          "state": {
            "_view_name": "LayoutView",
            "grid_template_rows": null,
            "right": null,
            "justify_content": null,
            "_view_module": "@jupyter-widgets/base",
            "overflow": null,
            "_model_module_version": "1.2.0",
            "_view_count": null,
            "flex_flow": null,
            "width": null,
            "min_width": null,
            "border": null,
            "align_items": null,
            "bottom": null,
            "_model_module": "@jupyter-widgets/base",
            "top": null,
            "grid_column": null,
            "overflow_y": null,
            "overflow_x": null,
            "grid_auto_flow": null,
            "grid_area": null,
            "grid_template_columns": null,
            "flex": null,
            "_model_name": "LayoutModel",
            "justify_items": null,
            "grid_row": null,
            "max_height": null,
            "align_content": null,
            "visibility": null,
            "align_self": null,
            "height": null,
            "min_height": null,
            "padding": null,
            "grid_auto_rows": null,
            "grid_gap": null,
            "max_width": null,
            "order": null,
            "_view_module_version": "1.2.0",
            "grid_template_areas": null,
            "object_position": null,
            "object_fit": null,
            "grid_auto_columns": null,
            "margin": null,
            "display": null,
            "left": null
          }
        },
        "abbc728d38194aeb8e8ef8024533d147": {
          "model_module": "@jupyter-widgets/controls",
          "model_name": "DescriptionStyleModel",
          "model_module_version": "1.5.0",
          "state": {
            "_view_name": "StyleView",
            "_model_name": "DescriptionStyleModel",
            "description_width": "",
            "_view_module": "@jupyter-widgets/base",
            "_model_module_version": "1.5.0",
            "_view_count": null,
            "_view_module_version": "1.2.0",
            "_model_module": "@jupyter-widgets/controls"
          }
        },
        "9a2ab9f0f3e4420f80e0d0881be5e44b": {
          "model_module": "@jupyter-widgets/base",
          "model_name": "LayoutModel",
          "model_module_version": "1.2.0",
          "state": {
            "_view_name": "LayoutView",
            "grid_template_rows": null,
            "right": null,
            "justify_content": null,
            "_view_module": "@jupyter-widgets/base",
            "overflow": null,
            "_model_module_version": "1.2.0",
            "_view_count": null,
            "flex_flow": null,
            "width": null,
            "min_width": null,
            "border": null,
            "align_items": null,
            "bottom": null,
            "_model_module": "@jupyter-widgets/base",
            "top": null,
            "grid_column": null,
            "overflow_y": null,
            "overflow_x": null,
            "grid_auto_flow": null,
            "grid_area": null,
            "grid_template_columns": null,
            "flex": null,
            "_model_name": "LayoutModel",
            "justify_items": null,
            "grid_row": null,
            "max_height": null,
            "align_content": null,
            "visibility": null,
            "align_self": null,
            "height": null,
            "min_height": null,
            "padding": null,
            "grid_auto_rows": null,
            "grid_gap": null,
            "max_width": null,
            "order": null,
            "_view_module_version": "1.2.0",
            "grid_template_areas": null,
            "object_position": null,
            "object_fit": null,
            "grid_auto_columns": null,
            "margin": null,
            "display": null,
            "left": null
          }
        },
        "64280acbebcf4d2e8654659460c44d61": {
          "model_module": "@jupyter-widgets/controls",
          "model_name": "HBoxModel",
          "model_module_version": "1.5.0",
          "state": {
            "_view_name": "HBoxView",
            "_dom_classes": [],
            "_model_name": "HBoxModel",
            "_view_module": "@jupyter-widgets/controls",
            "_model_module_version": "1.5.0",
            "_view_count": null,
            "_view_module_version": "1.5.0",
            "box_style": "",
            "layout": "IPY_MODEL_a69a80f109c94303bd1b936e77701f56",
            "_model_module": "@jupyter-widgets/controls",
            "children": [
              "IPY_MODEL_bac30831b23049dca988363a2e0b784f",
              "IPY_MODEL_ab0d23b5b4444ab481fa85936dd87ceb",
              "IPY_MODEL_5626b783f83047e4b96c6bb30884f4b2"
            ]
          }
        },
        "a69a80f109c94303bd1b936e77701f56": {
          "model_module": "@jupyter-widgets/base",
          "model_name": "LayoutModel",
          "model_module_version": "1.2.0",
          "state": {
            "_view_name": "LayoutView",
            "grid_template_rows": null,
            "right": null,
            "justify_content": null,
            "_view_module": "@jupyter-widgets/base",
            "overflow": null,
            "_model_module_version": "1.2.0",
            "_view_count": null,
            "flex_flow": "row wrap",
            "width": "100%",
            "min_width": null,
            "border": null,
            "align_items": null,
            "bottom": null,
            "_model_module": "@jupyter-widgets/base",
            "top": null,
            "grid_column": null,
            "overflow_y": null,
            "overflow_x": null,
            "grid_auto_flow": null,
            "grid_area": null,
            "grid_template_columns": null,
            "flex": null,
            "_model_name": "LayoutModel",
            "justify_items": null,
            "grid_row": null,
            "max_height": null,
            "align_content": null,
            "visibility": null,
            "align_self": null,
            "height": null,
            "min_height": null,
            "padding": null,
            "grid_auto_rows": null,
            "grid_gap": null,
            "max_width": null,
            "order": null,
            "_view_module_version": "1.2.0",
            "grid_template_areas": null,
            "object_position": null,
            "object_fit": null,
            "grid_auto_columns": null,
            "margin": null,
            "display": "inline-flex",
            "left": null
          }
        },
        "bac30831b23049dca988363a2e0b784f": {
          "model_module": "@jupyter-widgets/controls",
          "model_name": "HTMLModel",
          "model_module_version": "1.5.0",
          "state": {
            "_view_name": "HTMLView",
            "style": "IPY_MODEL_556e994afdf84cb7abe88ba01ada4ff1",
            "_dom_classes": [],
            "description": "",
            "_model_name": "HTMLModel",
            "placeholder": "​",
            "_view_module": "@jupyter-widgets/controls",
            "_model_module_version": "1.5.0",
            "value": "Validation sanity check:   0%",
            "_view_count": null,
            "_view_module_version": "1.5.0",
            "description_tooltip": null,
            "_model_module": "@jupyter-widgets/controls",
            "layout": "IPY_MODEL_bc0f3767141844e8a639f809d5ed389a"
          }
        },
        "ab0d23b5b4444ab481fa85936dd87ceb": {
          "model_module": "@jupyter-widgets/controls",
          "model_name": "FloatProgressModel",
          "model_module_version": "1.5.0",
          "state": {
            "_view_name": "ProgressView",
            "style": "IPY_MODEL_40af19c1507f4fc19f567101e0dc9d9a",
            "_dom_classes": [],
            "description": "",
            "_model_name": "FloatProgressModel",
            "bar_style": "danger",
            "max": 2,
            "_view_module": "@jupyter-widgets/controls",
            "_model_module_version": "1.5.0",
            "value": 0,
            "_view_count": null,
            "_view_module_version": "1.5.0",
            "orientation": "horizontal",
            "min": 0,
            "description_tooltip": null,
            "_model_module": "@jupyter-widgets/controls",
            "layout": "IPY_MODEL_0892e1711e244401b0fef56793cab3ca"
          }
        },
        "5626b783f83047e4b96c6bb30884f4b2": {
          "model_module": "@jupyter-widgets/controls",
          "model_name": "HTMLModel",
          "model_module_version": "1.5.0",
          "state": {
            "_view_name": "HTMLView",
            "style": "IPY_MODEL_ea3bfa3960174c2c9dbf7cd8321315f8",
            "_dom_classes": [],
            "description": "",
            "_model_name": "HTMLModel",
            "placeholder": "​",
            "_view_module": "@jupyter-widgets/controls",
            "_model_module_version": "1.5.0",
            "value": " 0/2 [00:01&lt;?, ?it/s]",
            "_view_count": null,
            "_view_module_version": "1.5.0",
            "description_tooltip": null,
            "_model_module": "@jupyter-widgets/controls",
            "layout": "IPY_MODEL_f6142ccee39d47cd962dac969e0d50c2"
          }
        },
        "556e994afdf84cb7abe88ba01ada4ff1": {
          "model_module": "@jupyter-widgets/controls",
          "model_name": "DescriptionStyleModel",
          "model_module_version": "1.5.0",
          "state": {
            "_view_name": "StyleView",
            "_model_name": "DescriptionStyleModel",
            "description_width": "",
            "_view_module": "@jupyter-widgets/base",
            "_model_module_version": "1.5.0",
            "_view_count": null,
            "_view_module_version": "1.2.0",
            "_model_module": "@jupyter-widgets/controls"
          }
        },
        "bc0f3767141844e8a639f809d5ed389a": {
          "model_module": "@jupyter-widgets/base",
          "model_name": "LayoutModel",
          "model_module_version": "1.2.0",
          "state": {
            "_view_name": "LayoutView",
            "grid_template_rows": null,
            "right": null,
            "justify_content": null,
            "_view_module": "@jupyter-widgets/base",
            "overflow": null,
            "_model_module_version": "1.2.0",
            "_view_count": null,
            "flex_flow": null,
            "width": null,
            "min_width": null,
            "border": null,
            "align_items": null,
            "bottom": null,
            "_model_module": "@jupyter-widgets/base",
            "top": null,
            "grid_column": null,
            "overflow_y": null,
            "overflow_x": null,
            "grid_auto_flow": null,
            "grid_area": null,
            "grid_template_columns": null,
            "flex": null,
            "_model_name": "LayoutModel",
            "justify_items": null,
            "grid_row": null,
            "max_height": null,
            "align_content": null,
            "visibility": null,
            "align_self": null,
            "height": null,
            "min_height": null,
            "padding": null,
            "grid_auto_rows": null,
            "grid_gap": null,
            "max_width": null,
            "order": null,
            "_view_module_version": "1.2.0",
            "grid_template_areas": null,
            "object_position": null,
            "object_fit": null,
            "grid_auto_columns": null,
            "margin": null,
            "display": null,
            "left": null
          }
        },
        "40af19c1507f4fc19f567101e0dc9d9a": {
          "model_module": "@jupyter-widgets/controls",
          "model_name": "ProgressStyleModel",
          "model_module_version": "1.5.0",
          "state": {
            "_view_name": "StyleView",
            "_model_name": "ProgressStyleModel",
            "description_width": "",
            "_view_module": "@jupyter-widgets/base",
            "_model_module_version": "1.5.0",
            "_view_count": null,
            "_view_module_version": "1.2.0",
            "bar_color": null,
            "_model_module": "@jupyter-widgets/controls"
          }
        },
        "0892e1711e244401b0fef56793cab3ca": {
          "model_module": "@jupyter-widgets/base",
          "model_name": "LayoutModel",
          "model_module_version": "1.2.0",
          "state": {
            "_view_name": "LayoutView",
            "grid_template_rows": null,
            "right": null,
            "justify_content": null,
            "_view_module": "@jupyter-widgets/base",
            "overflow": null,
            "_model_module_version": "1.2.0",
            "_view_count": null,
            "flex_flow": null,
            "width": null,
            "min_width": null,
            "border": null,
            "align_items": null,
            "bottom": null,
            "_model_module": "@jupyter-widgets/base",
            "top": null,
            "grid_column": null,
            "overflow_y": null,
            "overflow_x": null,
            "grid_auto_flow": null,
            "grid_area": null,
            "grid_template_columns": null,
            "flex": "2",
            "_model_name": "LayoutModel",
            "justify_items": null,
            "grid_row": null,
            "max_height": null,
            "align_content": null,
            "visibility": null,
            "align_self": null,
            "height": null,
            "min_height": null,
            "padding": null,
            "grid_auto_rows": null,
            "grid_gap": null,
            "max_width": null,
            "order": null,
            "_view_module_version": "1.2.0",
            "grid_template_areas": null,
            "object_position": null,
            "object_fit": null,
            "grid_auto_columns": null,
            "margin": null,
            "display": null,
            "left": null
          }
        },
        "ea3bfa3960174c2c9dbf7cd8321315f8": {
          "model_module": "@jupyter-widgets/controls",
          "model_name": "DescriptionStyleModel",
          "model_module_version": "1.5.0",
          "state": {
            "_view_name": "StyleView",
            "_model_name": "DescriptionStyleModel",
            "description_width": "",
            "_view_module": "@jupyter-widgets/base",
            "_model_module_version": "1.5.0",
            "_view_count": null,
            "_view_module_version": "1.2.0",
            "_model_module": "@jupyter-widgets/controls"
          }
        },
        "f6142ccee39d47cd962dac969e0d50c2": {
          "model_module": "@jupyter-widgets/base",
          "model_name": "LayoutModel",
          "model_module_version": "1.2.0",
          "state": {
            "_view_name": "LayoutView",
            "grid_template_rows": null,
            "right": null,
            "justify_content": null,
            "_view_module": "@jupyter-widgets/base",
            "overflow": null,
            "_model_module_version": "1.2.0",
            "_view_count": null,
            "flex_flow": null,
            "width": null,
            "min_width": null,
            "border": null,
            "align_items": null,
            "bottom": null,
            "_model_module": "@jupyter-widgets/base",
            "top": null,
            "grid_column": null,
            "overflow_y": null,
            "overflow_x": null,
            "grid_auto_flow": null,
            "grid_area": null,
            "grid_template_columns": null,
            "flex": null,
            "_model_name": "LayoutModel",
            "justify_items": null,
            "grid_row": null,
            "max_height": null,
            "align_content": null,
            "visibility": null,
            "align_self": null,
            "height": null,
            "min_height": null,
            "padding": null,
            "grid_auto_rows": null,
            "grid_gap": null,
            "max_width": null,
            "order": null,
            "_view_module_version": "1.2.0",
            "grid_template_areas": null,
            "object_position": null,
            "object_fit": null,
            "grid_auto_columns": null,
            "margin": null,
            "display": null,
            "left": null
          }
        }
      }
    }
  },
  "cells": [
    {
      "cell_type": "markdown",
      "metadata": {
        "id": "view-in-github",
        "colab_type": "text"
      },
      "source": [
        "<a href=\"https://colab.research.google.com/github/eranraz1/DeepLearning/blob/main/step2_2_bert_model_imp.ipynb\" target=\"_parent\"><img src=\"https://colab.research.google.com/assets/colab-badge.svg\" alt=\"Open In Colab\"/></a>"
      ]
    },
    {
      "cell_type": "code",
      "metadata": {
        "_cell_guid": "b1076dfc-b9ad-4769-8c92-a6c4dae69d19",
        "_uuid": "8f2839f25d086af736a60e9eeb907d3b93b6e0e5",
        "execution": {
          "iopub.status.busy": "2021-10-01T17:25:31.001292Z",
          "iopub.execute_input": "2021-10-01T17:25:31.001647Z",
          "iopub.status.idle": "2021-10-01T17:25:31.122206Z",
          "shell.execute_reply.started": "2021-10-01T17:25:31.001552Z",
          "shell.execute_reply": "2021-10-01T17:25:31.121347Z"
        },
        "trusted": true,
        "id": "K59BTkOmIJmQ"
      },
      "source": [
        "# This Python 3 environment comes with many helpful analytics libraries installed\n",
        "# It is defined by the kaggle/python Docker image: https://github.com/kaggle/docker-python\n",
        "# For example, here's several helpful packages to load\n",
        "\n",
        "import numpy as np # linear algebra\n",
        "import pandas as pd # data processing, CSV file I/O (e.g. pd.read_csv)\n",
        "\n",
        "# Input data files are available in the read-only \"../input/\" directory\n",
        "# For example, running this (by clicking run or pressing Shift+Enter) will list all files under the input directory\n",
        "\n",
        "import os\n",
        "for dirname, _, filenames in os.walk('/kaggle/input'):\n",
        "    for filename in filenames:\n",
        "        print(os.path.join(dirname, filename))\n",
        "\n",
        "# You can write up to 20GB to the current directory (/kaggle/working/) that gets preserved as output when you create a version using \"Save & Run All\" \n",
        "# You can also write temporary files to /kaggle/temp/, but they won't be saved outside of the current session"
      ],
      "execution_count": 2,
      "outputs": []
    },
    {
      "cell_type": "code",
      "metadata": {
        "execution": {
          "iopub.status.busy": "2021-10-01T17:25:31.124020Z",
          "iopub.execute_input": "2021-10-01T17:25:31.124364Z",
          "iopub.status.idle": "2021-10-01T17:25:31.132561Z",
          "shell.execute_reply.started": "2021-10-01T17:25:31.124328Z",
          "shell.execute_reply": "2021-10-01T17:25:31.131752Z"
        },
        "trusted": true,
        "id": "GjGgFZM2IJmU",
        "colab": {
          "base_uri": "https://localhost:8080/",
          "height": 35
        },
        "outputId": "6a700a19-4e80-4b02-a27b-66db43130c62"
      },
      "source": [
        "os.getcwd()"
      ],
      "execution_count": 3,
      "outputs": [
        {
          "output_type": "execute_result",
          "data": {
            "application/vnd.google.colaboratory.intrinsic+json": {
              "type": "string"
            },
            "text/plain": [
              "'/content'"
            ]
          },
          "metadata": {},
          "execution_count": 3
        }
      ]
    },
    {
      "cell_type": "code",
      "metadata": {
        "execution": {
          "iopub.status.busy": "2021-10-01T17:25:31.134049Z",
          "iopub.execute_input": "2021-10-01T17:25:31.134605Z",
          "iopub.status.idle": "2021-10-01T17:25:31.144512Z",
          "shell.execute_reply.started": "2021-10-01T17:25:31.134416Z",
          "shell.execute_reply": "2021-10-01T17:25:31.140279Z"
        },
        "trusted": true,
        "id": "WxPA3rFCIJmV"
      },
      "source": [
        "os.environ[\"TOKENIZERS_PARALLELISM\"] = \"false\""
      ],
      "execution_count": 4,
      "outputs": []
    },
    {
      "cell_type": "code",
      "metadata": {
        "execution": {
          "iopub.status.busy": "2021-10-01T17:25:31.146303Z",
          "iopub.execute_input": "2021-10-01T17:25:31.146884Z",
          "iopub.status.idle": "2021-10-01T17:25:31.192729Z",
          "shell.execute_reply.started": "2021-10-01T17:25:31.146850Z",
          "shell.execute_reply": "2021-10-01T17:25:31.192104Z"
        },
        "trusted": true,
        "id": "uBn_7buPIJmV"
      },
      "source": [
        "data_raw = pd.read_csv('/content/sample_data/df_tagB.refine1.csv')\n",
        "#data_raw = pd.read_csv('.//data//df_tagB.csv')\n",
        "#data_raw = data_raw[data_raw.iloc[:,2:8].sum(axis=1)>0]\n",
        "\n",
        "#df_tagB.csv\n",
        "\n"
      ],
      "execution_count": 7,
      "outputs": []
    },
    {
      "cell_type": "code",
      "metadata": {
        "execution": {
          "iopub.status.busy": "2021-10-01T17:25:31.195013Z",
          "iopub.execute_input": "2021-10-01T17:25:31.195429Z",
          "iopub.status.idle": "2021-10-01T17:25:31.228585Z",
          "shell.execute_reply.started": "2021-10-01T17:25:31.195394Z",
          "shell.execute_reply": "2021-10-01T17:25:31.227804Z"
        },
        "trusted": true,
        "id": "JKeIkZyyIJmW",
        "colab": {
          "base_uri": "https://localhost:8080/",
          "height": 397
        },
        "outputId": "e5f93633-f687-44ff-8754-83c7d4b077bc"
      },
      "source": [
        "print(\"Number of rows in data =\",data_raw.shape[0])\n",
        "print(\"Number of columns in data =\",data_raw.shape[1])\n",
        "print(\"\\n\")\n",
        "print(\"**Sample data:**\")\n",
        "data_raw.head()"
      ],
      "execution_count": 8,
      "outputs": [
        {
          "output_type": "stream",
          "name": "stdout",
          "text": [
            "Number of rows in data = 1636\n",
            "Number of columns in data = 10\n",
            "\n",
            "\n",
            "**Sample data:**\n"
          ]
        },
        {
          "output_type": "execute_result",
          "data": {
            "text/html": [
              "<div>\n",
              "<style scoped>\n",
              "    .dataframe tbody tr th:only-of-type {\n",
              "        vertical-align: middle;\n",
              "    }\n",
              "\n",
              "    .dataframe tbody tr th {\n",
              "        vertical-align: top;\n",
              "    }\n",
              "\n",
              "    .dataframe thead th {\n",
              "        text-align: right;\n",
              "    }\n",
              "</style>\n",
              "<table border=\"1\" class=\"dataframe\">\n",
              "  <thead>\n",
              "    <tr style=\"text-align: right;\">\n",
              "      <th></th>\n",
              "      <th>Unnamed: 0</th>\n",
              "      <th>tag</th>\n",
              "      <th>city</th>\n",
              "      <th>review</th>\n",
              "      <th>Filthy</th>\n",
              "      <th>BadFood</th>\n",
              "      <th>ScaryMcDs</th>\n",
              "      <th>Cost</th>\n",
              "      <th>Service</th>\n",
              "      <th>Order_issue</th>\n",
              "    </tr>\n",
              "  </thead>\n",
              "  <tbody>\n",
              "    <tr>\n",
              "      <th>0</th>\n",
              "      <td>0</td>\n",
              "      <td>['SlowService', 'RudeService', 'BadFood']</td>\n",
              "      <td>New York</td>\n",
              "      <td>mcdonalds on bowery has an \"oriental\" design. ...</td>\n",
              "      <td>0.0</td>\n",
              "      <td>1.0</td>\n",
              "      <td>0.0</td>\n",
              "      <td>0.0</td>\n",
              "      <td>1.0</td>\n",
              "      <td>0.0</td>\n",
              "    </tr>\n",
              "    <tr>\n",
              "      <th>1</th>\n",
              "      <td>1</td>\n",
              "      <td>['ScaryMcDs']</td>\n",
              "      <td>Las Vegas</td>\n",
              "      <td>this place is quite sub par, even for a mcdona...</td>\n",
              "      <td>0.0</td>\n",
              "      <td>0.0</td>\n",
              "      <td>1.0</td>\n",
              "      <td>0.0</td>\n",
              "      <td>0.0</td>\n",
              "      <td>0.0</td>\n",
              "    </tr>\n",
              "    <tr>\n",
              "      <th>2</th>\n",
              "      <td>2</td>\n",
              "      <td>['na']</td>\n",
              "      <td>New York</td>\n",
              "      <td>i stopped by here in a hurry to get a quick bi...</td>\n",
              "      <td>0.0</td>\n",
              "      <td>0.0</td>\n",
              "      <td>0.0</td>\n",
              "      <td>0.0</td>\n",
              "      <td>0.0</td>\n",
              "      <td>0.0</td>\n",
              "    </tr>\n",
              "    <tr>\n",
              "      <th>3</th>\n",
              "      <td>3</td>\n",
              "      <td>['na']</td>\n",
              "      <td>Houston</td>\n",
              "      <td>there are good and bad fast food restaurants a...</td>\n",
              "      <td>0.0</td>\n",
              "      <td>0.0</td>\n",
              "      <td>0.0</td>\n",
              "      <td>0.0</td>\n",
              "      <td>0.0</td>\n",
              "      <td>0.0</td>\n",
              "    </tr>\n",
              "    <tr>\n",
              "      <th>4</th>\n",
              "      <td>4</td>\n",
              "      <td>['BadFood']</td>\n",
              "      <td>0Unknown</td>\n",
              "      <td>i live very close, stop this morning at 5:50 a...</td>\n",
              "      <td>0.0</td>\n",
              "      <td>1.0</td>\n",
              "      <td>0.0</td>\n",
              "      <td>0.0</td>\n",
              "      <td>0.0</td>\n",
              "      <td>0.0</td>\n",
              "    </tr>\n",
              "  </tbody>\n",
              "</table>\n",
              "</div>"
            ],
            "text/plain": [
              "   Unnamed: 0                                        tag  ... Service Order_issue\n",
              "0           0  ['SlowService', 'RudeService', 'BadFood']  ...     1.0         0.0\n",
              "1           1                              ['ScaryMcDs']  ...     0.0         0.0\n",
              "2           2                                     ['na']  ...     0.0         0.0\n",
              "3           3                                     ['na']  ...     0.0         0.0\n",
              "4           4                                ['BadFood']  ...     0.0         0.0\n",
              "\n",
              "[5 rows x 10 columns]"
            ]
          },
          "metadata": {},
          "execution_count": 8
        }
      ]
    },
    {
      "cell_type": "code",
      "metadata": {
        "execution": {
          "iopub.status.busy": "2021-10-01T17:25:31.230004Z",
          "iopub.execute_input": "2021-10-01T17:25:31.230272Z",
          "iopub.status.idle": "2021-10-01T17:25:31.251705Z",
          "shell.execute_reply.started": "2021-10-01T17:25:31.230240Z",
          "shell.execute_reply": "2021-10-01T17:25:31.250917Z"
        },
        "trusted": true,
        "id": "T-zX-IcTIJmX",
        "colab": {
          "base_uri": "https://localhost:8080/",
          "height": 206
        },
        "outputId": "cc5f87eb-39d6-46ff-dfcd-8f0e0257d516"
      },
      "source": [
        "data_raw.iloc[:, 3:]\n",
        "data_raw = data_raw.iloc[:, 3:]\n",
        "data_raw.shape\n",
        "data_raw.head()"
      ],
      "execution_count": 11,
      "outputs": [
        {
          "output_type": "execute_result",
          "data": {
            "text/html": [
              "<div>\n",
              "<style scoped>\n",
              "    .dataframe tbody tr th:only-of-type {\n",
              "        vertical-align: middle;\n",
              "    }\n",
              "\n",
              "    .dataframe tbody tr th {\n",
              "        vertical-align: top;\n",
              "    }\n",
              "\n",
              "    .dataframe thead th {\n",
              "        text-align: right;\n",
              "    }\n",
              "</style>\n",
              "<table border=\"1\" class=\"dataframe\">\n",
              "  <thead>\n",
              "    <tr style=\"text-align: right;\">\n",
              "      <th></th>\n",
              "      <th>review</th>\n",
              "      <th>Filthy</th>\n",
              "      <th>BadFood</th>\n",
              "      <th>ScaryMcDs</th>\n",
              "      <th>Cost</th>\n",
              "      <th>Service</th>\n",
              "      <th>Order_issue</th>\n",
              "    </tr>\n",
              "  </thead>\n",
              "  <tbody>\n",
              "    <tr>\n",
              "      <th>0</th>\n",
              "      <td>mcdonalds on bowery has an \"oriental\" design. ...</td>\n",
              "      <td>0.0</td>\n",
              "      <td>1.0</td>\n",
              "      <td>0.0</td>\n",
              "      <td>0.0</td>\n",
              "      <td>1.0</td>\n",
              "      <td>0.0</td>\n",
              "    </tr>\n",
              "    <tr>\n",
              "      <th>1</th>\n",
              "      <td>this place is quite sub par, even for a mcdona...</td>\n",
              "      <td>0.0</td>\n",
              "      <td>0.0</td>\n",
              "      <td>1.0</td>\n",
              "      <td>0.0</td>\n",
              "      <td>0.0</td>\n",
              "      <td>0.0</td>\n",
              "    </tr>\n",
              "    <tr>\n",
              "      <th>2</th>\n",
              "      <td>i stopped by here in a hurry to get a quick bi...</td>\n",
              "      <td>0.0</td>\n",
              "      <td>0.0</td>\n",
              "      <td>0.0</td>\n",
              "      <td>0.0</td>\n",
              "      <td>0.0</td>\n",
              "      <td>0.0</td>\n",
              "    </tr>\n",
              "    <tr>\n",
              "      <th>3</th>\n",
              "      <td>there are good and bad fast food restaurants a...</td>\n",
              "      <td>0.0</td>\n",
              "      <td>0.0</td>\n",
              "      <td>0.0</td>\n",
              "      <td>0.0</td>\n",
              "      <td>0.0</td>\n",
              "      <td>0.0</td>\n",
              "    </tr>\n",
              "    <tr>\n",
              "      <th>4</th>\n",
              "      <td>i live very close, stop this morning at 5:50 a...</td>\n",
              "      <td>0.0</td>\n",
              "      <td>1.0</td>\n",
              "      <td>0.0</td>\n",
              "      <td>0.0</td>\n",
              "      <td>0.0</td>\n",
              "      <td>0.0</td>\n",
              "    </tr>\n",
              "  </tbody>\n",
              "</table>\n",
              "</div>"
            ],
            "text/plain": [
              "                                              review  ...  Order_issue\n",
              "0  mcdonalds on bowery has an \"oriental\" design. ...  ...          0.0\n",
              "1  this place is quite sub par, even for a mcdona...  ...          0.0\n",
              "2  i stopped by here in a hurry to get a quick bi...  ...          0.0\n",
              "3  there are good and bad fast food restaurants a...  ...          0.0\n",
              "4  i live very close, stop this morning at 5:50 a...  ...          0.0\n",
              "\n",
              "[5 rows x 7 columns]"
            ]
          },
          "metadata": {},
          "execution_count": 11
        }
      ]
    },
    {
      "cell_type": "code",
      "metadata": {
        "execution": {
          "iopub.status.busy": "2021-10-01T17:25:31.253122Z",
          "iopub.execute_input": "2021-10-01T17:25:31.253376Z",
          "iopub.status.idle": "2021-10-01T17:25:31.257064Z",
          "shell.execute_reply.started": "2021-10-01T17:25:31.253344Z",
          "shell.execute_reply": "2021-10-01T17:25:31.256211Z"
        },
        "trusted": true,
        "id": "1ehS4WluIJmX"
      },
      "source": [
        "data = data_raw"
      ],
      "execution_count": 12,
      "outputs": []
    },
    {
      "cell_type": "code",
      "metadata": {
        "execution": {
          "iopub.status.busy": "2021-10-01T17:25:31.258763Z",
          "iopub.execute_input": "2021-10-01T17:25:31.259040Z",
          "iopub.status.idle": "2021-10-01T17:25:31.266719Z",
          "shell.execute_reply.started": "2021-10-01T17:25:31.259006Z",
          "shell.execute_reply": "2021-10-01T17:25:31.265970Z"
        },
        "trusted": true,
        "id": "2ZgqOiR8IJmY"
      },
      "source": [
        "# import nltk\n",
        "# from nltk.corpus import stopwords\n",
        "# from nltk.stem.snowball import SnowballStemmer\n",
        "# import re\n",
        "# import sys\n",
        "# import warnings\n",
        "\n",
        "# if not sys.warnoptions:\n",
        "#     warnings.simplefilter(\"ignore\")\n",
        "# def cleanHtml(sentence):\n",
        "#     cleanr = re.compile('<.*?>')\n",
        "#     cleantext = re.sub(cleanr, ' ', str(sentence))\n",
        "#     return cleantext\n",
        "# def cleanPunc(sentence): #function to clean the word of any punctuation or special characters\n",
        "#     cleaned = re.sub(r'[?|!|\\'|\"|#]',r'',sentence)\n",
        "#     cleaned = re.sub(r'[.|,|)|(|\\|/]',r' ',cleaned)\n",
        "#     cleaned = cleaned.strip()\n",
        "#     cleaned = cleaned.replace(\"\\n\",\" \")\n",
        "#     return cleaned\n",
        "# def keepAlpha(sentence):\n",
        "#     alpha_sent = \"\"\n",
        "#     for word in sentence.split():\n",
        "#         alpha_word = re.sub('[^a-z A-Z]+', ' ', word)\n",
        "#         alpha_sent += alpha_word\n",
        "#         alpha_sent += \" \"\n",
        "#     alpha_sent = alpha_sent.strip()\n",
        "#     return alpha_sent\n",
        "# data['review'] = data['review'].str.lower()\n",
        "# data['review'] = data['review'].apply(cleanHtml)\n",
        "# data['review'] = data['review'].apply(cleanPunc)\n",
        "# data['review'] = data['review'].apply(keepAlpha)"
      ],
      "execution_count": 13,
      "outputs": []
    },
    {
      "cell_type": "code",
      "metadata": {
        "execution": {
          "iopub.status.busy": "2021-10-01T17:25:31.268539Z",
          "iopub.execute_input": "2021-10-01T17:25:31.268899Z",
          "iopub.status.idle": "2021-10-01T17:25:31.277517Z",
          "shell.execute_reply.started": "2021-10-01T17:25:31.268788Z",
          "shell.execute_reply": "2021-10-01T17:25:31.276624Z"
        },
        "trusted": true,
        "id": "hOJs2haWIJma"
      },
      "source": [
        "# stemmer = SnowballStemmer(\"english\")\n",
        "# def stemming(sentence):\n",
        "#     stemSentence = \"\"\n",
        "#     for word in sentence.split():\n",
        "#         stem = stemmer.stem(word)\n",
        "#         stemSentence += stem\n",
        "#         stemSentence += \" \"\n",
        "#     stemSentence = stemSentence.strip()\n",
        "#     return stemSentence\n",
        "# data['review'] = data['review'].apply(stemming)"
      ],
      "execution_count": 14,
      "outputs": []
    },
    {
      "cell_type": "code",
      "metadata": {
        "execution": {
          "iopub.status.busy": "2021-10-01T17:25:31.279400Z",
          "iopub.execute_input": "2021-10-01T17:25:31.280060Z",
          "iopub.status.idle": "2021-10-01T17:25:31.285633Z",
          "shell.execute_reply.started": "2021-10-01T17:25:31.280025Z",
          "shell.execute_reply": "2021-10-01T17:25:31.284691Z"
        },
        "trusted": true,
        "id": "GOsD6M71IJmb"
      },
      "source": [
        "# data.head(5)"
      ],
      "execution_count": 15,
      "outputs": []
    },
    {
      "cell_type": "markdown",
      "metadata": {
        "id": "pgq4ihmLIJme"
      },
      "source": [
        "### set TF-IDF "
      ]
    },
    {
      "cell_type": "code",
      "metadata": {
        "execution": {
          "iopub.status.busy": "2021-10-01T17:25:31.287240Z",
          "iopub.execute_input": "2021-10-01T17:25:31.287758Z",
          "iopub.status.idle": "2021-10-01T17:25:31.294576Z",
          "shell.execute_reply.started": "2021-10-01T17:25:31.287721Z",
          "shell.execute_reply": "2021-10-01T17:25:31.293531Z"
        },
        "trusted": true,
        "id": "fKgC04Y2IJmg"
      },
      "source": [
        "# from sklearn.model_selection import train_test_split\n",
        "# train, test = train_test_split(data, random_state=42, test_size=0.30, shuffle=True)\n",
        "# from sklearn.feature_extraction.text import TfidfVectorizer\n",
        "\n",
        "# vectorizer = TfidfVectorizer(strip_accents='unicode', analyzer='word', ngram_range=(2,3), norm='l2')\n",
        "# vectorizer.fit(train.review)\n",
        "# vectorizer.fit(test.review)\n",
        "# x_train = vectorizer.transform(train.review)\n",
        "# y_train = train.drop(labels = ['id','review'], axis=1)\n",
        "# x_test = vectorizer.transform(test.review)\n",
        "# y_test = test.drop(labels = ['id','review'], axis=1)"
      ],
      "execution_count": 16,
      "outputs": []
    },
    {
      "cell_type": "code",
      "metadata": {
        "execution": {
          "iopub.status.busy": "2021-10-01T17:25:31.296285Z",
          "iopub.execute_input": "2021-10-01T17:25:31.296792Z",
          "iopub.status.idle": "2021-10-01T17:25:31.305806Z",
          "shell.execute_reply.started": "2021-10-01T17:25:31.296758Z",
          "shell.execute_reply": "2021-10-01T17:25:31.304805Z"
        },
        "trusted": true,
        "id": "cEiQMMuZIJmh"
      },
      "source": [
        "# from sklearn.linear_model import LogisticRegression\n",
        "# from sklearn.pipeline import Pipeline\n",
        "# from sklearn.metrics import accuracy_score\n",
        "# from sklearn.multiclass import OneVsRestClassifier"
      ],
      "execution_count": 17,
      "outputs": []
    },
    {
      "cell_type": "code",
      "metadata": {
        "execution": {
          "iopub.status.busy": "2021-10-01T17:25:31.307446Z",
          "iopub.execute_input": "2021-10-01T17:25:31.308114Z",
          "iopub.status.idle": "2021-10-01T17:25:31.313649Z",
          "shell.execute_reply.started": "2021-10-01T17:25:31.308009Z",
          "shell.execute_reply": "2021-10-01T17:25:31.312746Z"
        },
        "trusted": true,
        "id": "51p0KH7dIJmi"
      },
      "source": [
        "# # Using pipeline for applying logistic regression and one vs rest classifier\n",
        "# LogReg_pipeline = Pipeline([\n",
        "#                 ('reg_clf', OneVsRestClassifier(LogisticRegression(solver='sag'), n_jobs=-1)),])"
      ],
      "execution_count": 18,
      "outputs": []
    },
    {
      "cell_type": "code",
      "metadata": {
        "execution": {
          "iopub.status.busy": "2021-10-01T17:25:31.319454Z",
          "iopub.execute_input": "2021-10-01T17:25:31.320228Z",
          "iopub.status.idle": "2021-10-01T17:25:31.324300Z",
          "shell.execute_reply.started": "2021-10-01T17:25:31.320192Z",
          "shell.execute_reply": "2021-10-01T17:25:31.323418Z"
        },
        "trusted": true,
        "id": "1tlV0MLLIJmj"
      },
      "source": [
        "# categories = data.columns[2:]"
      ],
      "execution_count": 19,
      "outputs": []
    },
    {
      "cell_type": "code",
      "metadata": {
        "execution": {
          "iopub.status.busy": "2021-10-01T17:25:31.326224Z",
          "iopub.execute_input": "2021-10-01T17:25:31.326832Z",
          "iopub.status.idle": "2021-10-01T17:25:31.333349Z",
          "shell.execute_reply.started": "2021-10-01T17:25:31.326783Z",
          "shell.execute_reply": "2021-10-01T17:25:31.332462Z"
        },
        "trusted": true,
        "id": "SmYFUUFJIJmj"
      },
      "source": [
        "# for category in categories:\n",
        "#     print('**Processing {} comments...**'.format(category))\n",
        "    \n",
        "#     # Training logistic regression model on train data\n",
        "#     LogReg_pipeline.fit(x_train, train[category])\n",
        "    \n",
        "#     # calculating test accuracy\n",
        "#     prediction = LogReg_pipeline.predict(x_test)\n",
        "#     print('Test accuracy is {}'.format(accuracy_score(test[category], prediction)))\n",
        "#     print(\"\\n\")"
      ],
      "execution_count": 20,
      "outputs": []
    },
    {
      "cell_type": "code",
      "metadata": {
        "execution": {
          "iopub.status.busy": "2021-10-01T17:25:31.335429Z",
          "iopub.execute_input": "2021-10-01T17:25:31.336076Z",
          "iopub.status.idle": "2021-10-01T17:25:31.341405Z",
          "shell.execute_reply.started": "2021-10-01T17:25:31.336039Z",
          "shell.execute_reply": "2021-10-01T17:25:31.340547Z"
        },
        "trusted": true,
        "id": "L8PTQhRhIJmj"
      },
      "source": [
        "######################################################################"
      ],
      "execution_count": 21,
      "outputs": []
    },
    {
      "cell_type": "code",
      "metadata": {
        "execution": {
          "iopub.status.busy": "2021-10-01T17:25:31.343342Z",
          "iopub.execute_input": "2021-10-01T17:25:31.344186Z",
          "iopub.status.idle": "2021-10-01T17:25:31.349338Z",
          "shell.execute_reply.started": "2021-10-01T17:25:31.344064Z",
          "shell.execute_reply": "2021-10-01T17:25:31.348510Z"
        },
        "trusted": true,
        "id": "h2NuSXQ8IJmk",
        "colab": {
          "base_uri": "https://localhost:8080/"
        },
        "outputId": "5c5d0362-9d5a-4ec3-ed1f-548c41c4013e"
      },
      "source": [
        "! pip install pytorch-lightning"
      ],
      "execution_count": 22,
      "outputs": [
        {
          "output_type": "stream",
          "name": "stdout",
          "text": [
            "Collecting pytorch-lightning\n",
            "  Downloading pytorch_lightning-1.4.9-py3-none-any.whl (925 kB)\n",
            "\u001b[K     |████████████████████████████████| 925 kB 5.4 MB/s \n",
            "\u001b[?25hCollecting PyYAML>=5.1\n",
            "  Downloading PyYAML-5.4.1-cp37-cp37m-manylinux1_x86_64.whl (636 kB)\n",
            "\u001b[K     |████████████████████████████████| 636 kB 39.6 MB/s \n",
            "\u001b[?25hRequirement already satisfied: typing-extensions in /usr/local/lib/python3.7/dist-packages (from pytorch-lightning) (3.7.4.3)\n",
            "Collecting fsspec[http]!=2021.06.0,>=2021.05.0\n",
            "  Downloading fsspec-2021.10.0-py3-none-any.whl (125 kB)\n",
            "\u001b[K     |████████████████████████████████| 125 kB 45.5 MB/s \n",
            "\u001b[?25hRequirement already satisfied: tensorboard>=2.2.0 in /usr/local/lib/python3.7/dist-packages (from pytorch-lightning) (2.6.0)\n",
            "Requirement already satisfied: tqdm>=4.41.0 in /usr/local/lib/python3.7/dist-packages (from pytorch-lightning) (4.62.3)\n",
            "Collecting pyDeprecate==0.3.1\n",
            "  Downloading pyDeprecate-0.3.1-py3-none-any.whl (10 kB)\n",
            "Requirement already satisfied: numpy>=1.17.2 in /usr/local/lib/python3.7/dist-packages (from pytorch-lightning) (1.19.5)\n",
            "Requirement already satisfied: packaging>=17.0 in /usr/local/lib/python3.7/dist-packages (from pytorch-lightning) (21.0)\n",
            "Collecting future>=0.17.1\n",
            "  Downloading future-0.18.2.tar.gz (829 kB)\n",
            "\u001b[K     |████████████████████████████████| 829 kB 35.3 MB/s \n",
            "\u001b[?25hRequirement already satisfied: torch>=1.6 in /usr/local/lib/python3.7/dist-packages (from pytorch-lightning) (1.9.0+cu111)\n",
            "Collecting torchmetrics>=0.4.0\n",
            "  Downloading torchmetrics-0.5.1-py3-none-any.whl (282 kB)\n",
            "\u001b[K     |████████████████████████████████| 282 kB 45.5 MB/s \n",
            "\u001b[?25hRequirement already satisfied: requests in /usr/local/lib/python3.7/dist-packages (from fsspec[http]!=2021.06.0,>=2021.05.0->pytorch-lightning) (2.23.0)\n",
            "Collecting aiohttp\n",
            "  Downloading aiohttp-3.7.4.post0-cp37-cp37m-manylinux2014_x86_64.whl (1.3 MB)\n",
            "\u001b[K     |████████████████████████████████| 1.3 MB 42.6 MB/s \n",
            "\u001b[?25hRequirement already satisfied: pyparsing>=2.0.2 in /usr/local/lib/python3.7/dist-packages (from packaging>=17.0->pytorch-lightning) (2.4.7)\n",
            "Requirement already satisfied: protobuf>=3.6.0 in /usr/local/lib/python3.7/dist-packages (from tensorboard>=2.2.0->pytorch-lightning) (3.17.3)\n",
            "Requirement already satisfied: tensorboard-plugin-wit>=1.6.0 in /usr/local/lib/python3.7/dist-packages (from tensorboard>=2.2.0->pytorch-lightning) (1.8.0)\n",
            "Requirement already satisfied: setuptools>=41.0.0 in /usr/local/lib/python3.7/dist-packages (from tensorboard>=2.2.0->pytorch-lightning) (57.4.0)\n",
            "Requirement already satisfied: tensorboard-data-server<0.7.0,>=0.6.0 in /usr/local/lib/python3.7/dist-packages (from tensorboard>=2.2.0->pytorch-lightning) (0.6.1)\n",
            "Requirement already satisfied: google-auth-oauthlib<0.5,>=0.4.1 in /usr/local/lib/python3.7/dist-packages (from tensorboard>=2.2.0->pytorch-lightning) (0.4.6)\n",
            "Requirement already satisfied: werkzeug>=0.11.15 in /usr/local/lib/python3.7/dist-packages (from tensorboard>=2.2.0->pytorch-lightning) (1.0.1)\n",
            "Requirement already satisfied: wheel>=0.26 in /usr/local/lib/python3.7/dist-packages (from tensorboard>=2.2.0->pytorch-lightning) (0.37.0)\n",
            "Requirement already satisfied: markdown>=2.6.8 in /usr/local/lib/python3.7/dist-packages (from tensorboard>=2.2.0->pytorch-lightning) (3.3.4)\n",
            "Requirement already satisfied: google-auth<2,>=1.6.3 in /usr/local/lib/python3.7/dist-packages (from tensorboard>=2.2.0->pytorch-lightning) (1.35.0)\n",
            "Requirement already satisfied: absl-py>=0.4 in /usr/local/lib/python3.7/dist-packages (from tensorboard>=2.2.0->pytorch-lightning) (0.12.0)\n",
            "Requirement already satisfied: grpcio>=1.24.3 in /usr/local/lib/python3.7/dist-packages (from tensorboard>=2.2.0->pytorch-lightning) (1.41.0)\n",
            "Requirement already satisfied: six in /usr/local/lib/python3.7/dist-packages (from absl-py>=0.4->tensorboard>=2.2.0->pytorch-lightning) (1.15.0)\n",
            "Requirement already satisfied: rsa<5,>=3.1.4 in /usr/local/lib/python3.7/dist-packages (from google-auth<2,>=1.6.3->tensorboard>=2.2.0->pytorch-lightning) (4.7.2)\n",
            "Requirement already satisfied: pyasn1-modules>=0.2.1 in /usr/local/lib/python3.7/dist-packages (from google-auth<2,>=1.6.3->tensorboard>=2.2.0->pytorch-lightning) (0.2.8)\n",
            "Requirement already satisfied: cachetools<5.0,>=2.0.0 in /usr/local/lib/python3.7/dist-packages (from google-auth<2,>=1.6.3->tensorboard>=2.2.0->pytorch-lightning) (4.2.4)\n",
            "Requirement already satisfied: requests-oauthlib>=0.7.0 in /usr/local/lib/python3.7/dist-packages (from google-auth-oauthlib<0.5,>=0.4.1->tensorboard>=2.2.0->pytorch-lightning) (1.3.0)\n",
            "Requirement already satisfied: importlib-metadata in /usr/local/lib/python3.7/dist-packages (from markdown>=2.6.8->tensorboard>=2.2.0->pytorch-lightning) (4.8.1)\n",
            "Requirement already satisfied: pyasn1<0.5.0,>=0.4.6 in /usr/local/lib/python3.7/dist-packages (from pyasn1-modules>=0.2.1->google-auth<2,>=1.6.3->tensorboard>=2.2.0->pytorch-lightning) (0.4.8)\n",
            "Requirement already satisfied: idna<3,>=2.5 in /usr/local/lib/python3.7/dist-packages (from requests->fsspec[http]!=2021.06.0,>=2021.05.0->pytorch-lightning) (2.10)\n",
            "Requirement already satisfied: chardet<4,>=3.0.2 in /usr/local/lib/python3.7/dist-packages (from requests->fsspec[http]!=2021.06.0,>=2021.05.0->pytorch-lightning) (3.0.4)\n",
            "Requirement already satisfied: urllib3!=1.25.0,!=1.25.1,<1.26,>=1.21.1 in /usr/local/lib/python3.7/dist-packages (from requests->fsspec[http]!=2021.06.0,>=2021.05.0->pytorch-lightning) (1.24.3)\n",
            "Requirement already satisfied: certifi>=2017.4.17 in /usr/local/lib/python3.7/dist-packages (from requests->fsspec[http]!=2021.06.0,>=2021.05.0->pytorch-lightning) (2021.5.30)\n",
            "Requirement already satisfied: oauthlib>=3.0.0 in /usr/local/lib/python3.7/dist-packages (from requests-oauthlib>=0.7.0->google-auth-oauthlib<0.5,>=0.4.1->tensorboard>=2.2.0->pytorch-lightning) (3.1.1)\n",
            "Collecting async-timeout<4.0,>=3.0\n",
            "  Downloading async_timeout-3.0.1-py3-none-any.whl (8.2 kB)\n",
            "Collecting multidict<7.0,>=4.5\n",
            "  Downloading multidict-5.2.0-cp37-cp37m-manylinux_2_5_x86_64.manylinux1_x86_64.manylinux_2_12_x86_64.manylinux2010_x86_64.whl (160 kB)\n",
            "\u001b[K     |████████████████████████████████| 160 kB 46.2 MB/s \n",
            "\u001b[?25hCollecting yarl<2.0,>=1.0\n",
            "  Downloading yarl-1.7.0-cp37-cp37m-manylinux_2_5_x86_64.manylinux1_x86_64.manylinux_2_12_x86_64.manylinux2010_x86_64.whl (271 kB)\n",
            "\u001b[K     |████████████████████████████████| 271 kB 42.9 MB/s \n",
            "\u001b[?25hRequirement already satisfied: attrs>=17.3.0 in /usr/local/lib/python3.7/dist-packages (from aiohttp->fsspec[http]!=2021.06.0,>=2021.05.0->pytorch-lightning) (21.2.0)\n",
            "Requirement already satisfied: zipp>=0.5 in /usr/local/lib/python3.7/dist-packages (from importlib-metadata->markdown>=2.6.8->tensorboard>=2.2.0->pytorch-lightning) (3.6.0)\n",
            "Building wheels for collected packages: future\n",
            "  Building wheel for future (setup.py) ... \u001b[?25l\u001b[?25hdone\n",
            "  Created wheel for future: filename=future-0.18.2-py3-none-any.whl size=491070 sha256=a4ad5f969b1949d0c3785e94672320cca2e8951700ceb37296fe4ecb849f864d\n",
            "  Stored in directory: /root/.cache/pip/wheels/56/b0/fe/4410d17b32f1f0c3cf54cdfb2bc04d7b4b8f4ae377e2229ba0\n",
            "Successfully built future\n",
            "Installing collected packages: multidict, yarl, async-timeout, fsspec, aiohttp, torchmetrics, PyYAML, pyDeprecate, future, pytorch-lightning\n",
            "  Attempting uninstall: PyYAML\n",
            "    Found existing installation: PyYAML 3.13\n",
            "    Uninstalling PyYAML-3.13:\n",
            "      Successfully uninstalled PyYAML-3.13\n",
            "  Attempting uninstall: future\n",
            "    Found existing installation: future 0.16.0\n",
            "    Uninstalling future-0.16.0:\n",
            "      Successfully uninstalled future-0.16.0\n",
            "Successfully installed PyYAML-5.4.1 aiohttp-3.7.4.post0 async-timeout-3.0.1 fsspec-2021.10.0 future-0.18.2 multidict-5.2.0 pyDeprecate-0.3.1 pytorch-lightning-1.4.9 torchmetrics-0.5.1 yarl-1.7.0\n"
          ]
        }
      ]
    },
    {
      "cell_type": "code",
      "metadata": {
        "colab": {
          "base_uri": "https://localhost:8080/"
        },
        "id": "Wj2vJgrQhobR",
        "outputId": "c06661bd-c645-41f0-ec64-7b71ac96b128"
      },
      "source": [
        "! pip install transformers"
      ],
      "execution_count": 23,
      "outputs": [
        {
          "output_type": "stream",
          "name": "stdout",
          "text": [
            "Collecting transformers\n",
            "  Downloading transformers-4.11.3-py3-none-any.whl (2.9 MB)\n",
            "\u001b[K     |████████████████████████████████| 2.9 MB 5.3 MB/s \n",
            "\u001b[?25hRequirement already satisfied: pyyaml>=5.1 in /usr/local/lib/python3.7/dist-packages (from transformers) (5.4.1)\n",
            "Requirement already satisfied: filelock in /usr/local/lib/python3.7/dist-packages (from transformers) (3.3.0)\n",
            "Collecting huggingface-hub>=0.0.17\n",
            "  Downloading huggingface_hub-0.0.19-py3-none-any.whl (56 kB)\n",
            "\u001b[K     |████████████████████████████████| 56 kB 4.4 MB/s \n",
            "\u001b[?25hRequirement already satisfied: numpy>=1.17 in /usr/local/lib/python3.7/dist-packages (from transformers) (1.19.5)\n",
            "Collecting sacremoses\n",
            "  Downloading sacremoses-0.0.46-py3-none-any.whl (895 kB)\n",
            "\u001b[K     |████████████████████████████████| 895 kB 47.5 MB/s \n",
            "\u001b[?25hCollecting tokenizers<0.11,>=0.10.1\n",
            "  Downloading tokenizers-0.10.3-cp37-cp37m-manylinux_2_5_x86_64.manylinux1_x86_64.manylinux_2_12_x86_64.manylinux2010_x86_64.whl (3.3 MB)\n",
            "\u001b[K     |████████████████████████████████| 3.3 MB 38.4 MB/s \n",
            "\u001b[?25hRequirement already satisfied: tqdm>=4.27 in /usr/local/lib/python3.7/dist-packages (from transformers) (4.62.3)\n",
            "Requirement already satisfied: regex!=2019.12.17 in /usr/local/lib/python3.7/dist-packages (from transformers) (2019.12.20)\n",
            "Requirement already satisfied: requests in /usr/local/lib/python3.7/dist-packages (from transformers) (2.23.0)\n",
            "Requirement already satisfied: importlib-metadata in /usr/local/lib/python3.7/dist-packages (from transformers) (4.8.1)\n",
            "Requirement already satisfied: packaging>=20.0 in /usr/local/lib/python3.7/dist-packages (from transformers) (21.0)\n",
            "Requirement already satisfied: typing-extensions in /usr/local/lib/python3.7/dist-packages (from huggingface-hub>=0.0.17->transformers) (3.7.4.3)\n",
            "Requirement already satisfied: pyparsing>=2.0.2 in /usr/local/lib/python3.7/dist-packages (from packaging>=20.0->transformers) (2.4.7)\n",
            "Requirement already satisfied: zipp>=0.5 in /usr/local/lib/python3.7/dist-packages (from importlib-metadata->transformers) (3.6.0)\n",
            "Requirement already satisfied: chardet<4,>=3.0.2 in /usr/local/lib/python3.7/dist-packages (from requests->transformers) (3.0.4)\n",
            "Requirement already satisfied: idna<3,>=2.5 in /usr/local/lib/python3.7/dist-packages (from requests->transformers) (2.10)\n",
            "Requirement already satisfied: certifi>=2017.4.17 in /usr/local/lib/python3.7/dist-packages (from requests->transformers) (2021.5.30)\n",
            "Requirement already satisfied: urllib3!=1.25.0,!=1.25.1,<1.26,>=1.21.1 in /usr/local/lib/python3.7/dist-packages (from requests->transformers) (1.24.3)\n",
            "Requirement already satisfied: click in /usr/local/lib/python3.7/dist-packages (from sacremoses->transformers) (7.1.2)\n",
            "Requirement already satisfied: six in /usr/local/lib/python3.7/dist-packages (from sacremoses->transformers) (1.15.0)\n",
            "Requirement already satisfied: joblib in /usr/local/lib/python3.7/dist-packages (from sacremoses->transformers) (1.0.1)\n",
            "Installing collected packages: tokenizers, sacremoses, huggingface-hub, transformers\n",
            "Successfully installed huggingface-hub-0.0.19 sacremoses-0.0.46 tokenizers-0.10.3 transformers-4.11.3\n"
          ]
        }
      ]
    },
    {
      "cell_type": "code",
      "metadata": {
        "execution": {
          "iopub.status.busy": "2021-10-01T17:25:31.351199Z",
          "iopub.execute_input": "2021-10-01T17:25:31.351926Z",
          "iopub.status.idle": "2021-10-01T17:25:42.080610Z",
          "shell.execute_reply.started": "2021-10-01T17:25:31.351879Z",
          "shell.execute_reply": "2021-10-01T17:25:42.079824Z"
        },
        "trusted": true,
        "id": "CBORnUBCIJmk",
        "colab": {
          "base_uri": "https://localhost:8080/"
        },
        "outputId": "5e2ad2c9-6328-42f4-c1f3-94830410cdb2"
      },
      "source": [
        "import pandas as pd\n",
        "import numpy as np\n",
        "from tqdm.auto import tqdm\n",
        "import torch\n",
        "import torch.nn as nn\n",
        "from torch.utils.data import Dataset, DataLoader\n",
        "from transformers import BertTokenizerFast as BertTokenizer, BertModel, AdamW, get_linear_schedule_with_warmup\n",
        "import pytorch_lightning as pl\n",
        "from pytorch_lightning.metrics.functional import accuracy, f1, auroc\n",
        "from pytorch_lightning.callbacks import ModelCheckpoint, EarlyStopping\n",
        "from pytorch_lightning.loggers import TensorBoardLogger\n",
        "from sklearn.model_selection import train_test_split\n",
        "from sklearn.metrics import classification_report, multilabel_confusion_matrix\n",
        "import seaborn as sns\n",
        "from pylab import rcParams\n",
        "import matplotlib.pyplot as plt\n",
        "from matplotlib import rc\n",
        "%matplotlib inline\n",
        "%config InlineBackend.figure_format='retina'\n",
        "RANDOM_SEED = 42\n",
        "sns.set(style='whitegrid', palette='muted', font_scale=1.2)\n",
        "HAPPY_COLORS_PALETTE = [\"#01BEFE\", \"#FFDD00\", \"#FF7D00\", \"#FF006D\", \"#ADFF02\", \"#8F00FF\"]\n",
        "sns.set_palette(sns.color_palette(HAPPY_COLORS_PALETTE))\n",
        "rcParams['figure.figsize'] = 12, 8\n",
        "pl.seed_everything(RANDOM_SEED)"
      ],
      "execution_count": 24,
      "outputs": [
        {
          "output_type": "stream",
          "name": "stderr",
          "text": [
            "Global seed set to 42\n"
          ]
        },
        {
          "output_type": "execute_result",
          "data": {
            "text/plain": [
              "42"
            ]
          },
          "metadata": {},
          "execution_count": 24
        }
      ]
    },
    {
      "cell_type": "code",
      "metadata": {
        "execution": {
          "iopub.status.busy": "2021-10-01T17:25:42.082435Z",
          "iopub.execute_input": "2021-10-01T17:25:42.083007Z",
          "iopub.status.idle": "2021-10-01T17:25:42.089410Z",
          "shell.execute_reply.started": "2021-10-01T17:25:42.082961Z",
          "shell.execute_reply": "2021-10-01T17:25:42.088600Z"
        },
        "trusted": true,
        "id": "oSIupQxBIJmk",
        "colab": {
          "base_uri": "https://localhost:8080/"
        },
        "outputId": "08b1cd2c-7edb-4ac6-c702-7d9f0141a32c"
      },
      "source": [
        "data.shape"
      ],
      "execution_count": 25,
      "outputs": [
        {
          "output_type": "execute_result",
          "data": {
            "text/plain": [
              "(1636, 7)"
            ]
          },
          "metadata": {},
          "execution_count": 25
        }
      ]
    },
    {
      "cell_type": "code",
      "metadata": {
        "execution": {
          "iopub.status.busy": "2021-10-01T17:25:42.090655Z",
          "iopub.execute_input": "2021-10-01T17:25:42.090916Z",
          "iopub.status.idle": "2021-10-01T17:25:42.100274Z",
          "shell.execute_reply.started": "2021-10-01T17:25:42.090881Z",
          "shell.execute_reply": "2021-10-01T17:25:42.099446Z"
        },
        "trusted": true,
        "id": "lsd09pqyIJml"
      },
      "source": [
        "df = data.copy()"
      ],
      "execution_count": 26,
      "outputs": []
    },
    {
      "cell_type": "code",
      "metadata": {
        "execution": {
          "iopub.status.busy": "2021-10-01T17:25:42.101736Z",
          "iopub.execute_input": "2021-10-01T17:25:42.102003Z",
          "iopub.status.idle": "2021-10-01T17:25:42.135557Z",
          "shell.execute_reply.started": "2021-10-01T17:25:42.101970Z",
          "shell.execute_reply": "2021-10-01T17:25:42.134772Z"
        },
        "trusted": true,
        "id": "lnv6_USbIJml",
        "colab": {
          "base_uri": "https://localhost:8080/",
          "height": 424
        },
        "outputId": "888be2d9-e7e4-428d-c1fa-aaefca8ea0de"
      },
      "source": [
        "df[df.iloc[:,2:8].sum(axis=1) > 0]"
      ],
      "execution_count": 27,
      "outputs": [
        {
          "output_type": "execute_result",
          "data": {
            "text/html": [
              "<div>\n",
              "<style scoped>\n",
              "    .dataframe tbody tr th:only-of-type {\n",
              "        vertical-align: middle;\n",
              "    }\n",
              "\n",
              "    .dataframe tbody tr th {\n",
              "        vertical-align: top;\n",
              "    }\n",
              "\n",
              "    .dataframe thead th {\n",
              "        text-align: right;\n",
              "    }\n",
              "</style>\n",
              "<table border=\"1\" class=\"dataframe\">\n",
              "  <thead>\n",
              "    <tr style=\"text-align: right;\">\n",
              "      <th></th>\n",
              "      <th>review</th>\n",
              "      <th>Filthy</th>\n",
              "      <th>BadFood</th>\n",
              "      <th>ScaryMcDs</th>\n",
              "      <th>Cost</th>\n",
              "      <th>Service</th>\n",
              "      <th>Order_issue</th>\n",
              "    </tr>\n",
              "  </thead>\n",
              "  <tbody>\n",
              "    <tr>\n",
              "      <th>0</th>\n",
              "      <td>mcdonalds on bowery has an \"oriental\" design. ...</td>\n",
              "      <td>0.0</td>\n",
              "      <td>1.0</td>\n",
              "      <td>0.0</td>\n",
              "      <td>0.0</td>\n",
              "      <td>1.0</td>\n",
              "      <td>0.0</td>\n",
              "    </tr>\n",
              "    <tr>\n",
              "      <th>1</th>\n",
              "      <td>this place is quite sub par, even for a mcdona...</td>\n",
              "      <td>0.0</td>\n",
              "      <td>0.0</td>\n",
              "      <td>1.0</td>\n",
              "      <td>0.0</td>\n",
              "      <td>0.0</td>\n",
              "      <td>0.0</td>\n",
              "    </tr>\n",
              "    <tr>\n",
              "      <th>4</th>\n",
              "      <td>i live very close, stop this morning at 5:50 a...</td>\n",
              "      <td>0.0</td>\n",
              "      <td>1.0</td>\n",
              "      <td>0.0</td>\n",
              "      <td>0.0</td>\n",
              "      <td>0.0</td>\n",
              "      <td>0.0</td>\n",
              "    </tr>\n",
              "    <tr>\n",
              "      <th>5</th>\n",
              "      <td>like all other mcdonald is, the service qualit...</td>\n",
              "      <td>0.0</td>\n",
              "      <td>0.0</td>\n",
              "      <td>0.0</td>\n",
              "      <td>0.0</td>\n",
              "      <td>1.0</td>\n",
              "      <td>0.0</td>\n",
              "    </tr>\n",
              "    <tr>\n",
              "      <th>8</th>\n",
              "      <td>with the amount of time it takes to get your o...</td>\n",
              "      <td>1.0</td>\n",
              "      <td>0.0</td>\n",
              "      <td>0.0</td>\n",
              "      <td>0.0</td>\n",
              "      <td>1.0</td>\n",
              "      <td>0.0</td>\n",
              "    </tr>\n",
              "    <tr>\n",
              "      <th>...</th>\n",
              "      <td>...</td>\n",
              "      <td>...</td>\n",
              "      <td>...</td>\n",
              "      <td>...</td>\n",
              "      <td>...</td>\n",
              "      <td>...</td>\n",
              "      <td>...</td>\n",
              "    </tr>\n",
              "    <tr>\n",
              "      <th>1628</th>\n",
              "      <td>the drive thru line is always so long. they on...</td>\n",
              "      <td>0.0</td>\n",
              "      <td>0.0</td>\n",
              "      <td>0.0</td>\n",
              "      <td>0.0</td>\n",
              "      <td>1.0</td>\n",
              "      <td>0.0</td>\n",
              "    </tr>\n",
              "    <tr>\n",
              "      <th>1629</th>\n",
              "      <td>hands down worst mcdonald is we have ever visi...</td>\n",
              "      <td>0.0</td>\n",
              "      <td>1.0</td>\n",
              "      <td>0.0</td>\n",
              "      <td>0.0</td>\n",
              "      <td>1.0</td>\n",
              "      <td>0.0</td>\n",
              "    </tr>\n",
              "    <tr>\n",
              "      <th>1630</th>\n",
              "      <td>this mcdonald is has pretty poor customer serv...</td>\n",
              "      <td>0.0</td>\n",
              "      <td>0.0</td>\n",
              "      <td>0.0</td>\n",
              "      <td>0.0</td>\n",
              "      <td>1.0</td>\n",
              "      <td>0.0</td>\n",
              "    </tr>\n",
              "    <tr>\n",
              "      <th>1631</th>\n",
              "      <td>this has to be the worst mcdonalds within a 3,...</td>\n",
              "      <td>0.0</td>\n",
              "      <td>0.0</td>\n",
              "      <td>0.0</td>\n",
              "      <td>0.0</td>\n",
              "      <td>1.0</td>\n",
              "      <td>0.0</td>\n",
              "    </tr>\n",
              "    <tr>\n",
              "      <th>1634</th>\n",
              "      <td>i wanted to grab breakfast one morning before ...</td>\n",
              "      <td>0.0</td>\n",
              "      <td>0.0</td>\n",
              "      <td>1.0</td>\n",
              "      <td>0.0</td>\n",
              "      <td>1.0</td>\n",
              "      <td>0.0</td>\n",
              "    </tr>\n",
              "  </tbody>\n",
              "</table>\n",
              "<p>1298 rows × 7 columns</p>\n",
              "</div>"
            ],
            "text/plain": [
              "                                                 review  ...  Order_issue\n",
              "0     mcdonalds on bowery has an \"oriental\" design. ...  ...          0.0\n",
              "1     this place is quite sub par, even for a mcdona...  ...          0.0\n",
              "4     i live very close, stop this morning at 5:50 a...  ...          0.0\n",
              "5     like all other mcdonald is, the service qualit...  ...          0.0\n",
              "8     with the amount of time it takes to get your o...  ...          0.0\n",
              "...                                                 ...  ...          ...\n",
              "1628  the drive thru line is always so long. they on...  ...          0.0\n",
              "1629  hands down worst mcdonald is we have ever visi...  ...          0.0\n",
              "1630  this mcdonald is has pretty poor customer serv...  ...          0.0\n",
              "1631  this has to be the worst mcdonalds within a 3,...  ...          0.0\n",
              "1634  i wanted to grab breakfast one morning before ...  ...          0.0\n",
              "\n",
              "[1298 rows x 7 columns]"
            ]
          },
          "metadata": {},
          "execution_count": 27
        }
      ]
    },
    {
      "cell_type": "code",
      "metadata": {
        "execution": {
          "iopub.status.busy": "2021-10-01T17:25:42.136960Z",
          "iopub.execute_input": "2021-10-01T17:25:42.137228Z",
          "iopub.status.idle": "2021-10-01T17:25:42.142397Z",
          "shell.execute_reply.started": "2021-10-01T17:25:42.137196Z",
          "shell.execute_reply": "2021-10-01T17:25:42.141667Z"
        },
        "trusted": true,
        "id": "1WnOpWe4IJml",
        "colab": {
          "base_uri": "https://localhost:8080/"
        },
        "outputId": "9ee2f03e-9cfb-47d5-be0c-a09c91ab8916"
      },
      "source": [
        "df.shape"
      ],
      "execution_count": 28,
      "outputs": [
        {
          "output_type": "execute_result",
          "data": {
            "text/plain": [
              "(1636, 7)"
            ]
          },
          "metadata": {},
          "execution_count": 28
        }
      ]
    },
    {
      "cell_type": "code",
      "metadata": {
        "execution": {
          "iopub.status.busy": "2021-10-01T17:25:42.143791Z",
          "iopub.execute_input": "2021-10-01T17:25:42.144273Z",
          "iopub.status.idle": "2021-10-01T17:25:42.360170Z",
          "shell.execute_reply.started": "2021-10-01T17:25:42.144236Z",
          "shell.execute_reply": "2021-10-01T17:25:42.359262Z"
        },
        "trusted": true,
        "id": "R9499liSIJmm",
        "colab": {
          "base_uri": "https://localhost:8080/"
        },
        "outputId": "d77b337d-ca12-415d-a9b4-247d306ae672"
      },
      "source": [
        "import gc\n",
        "del data\n",
        "gc.collect()"
      ],
      "execution_count": 29,
      "outputs": [
        {
          "output_type": "execute_result",
          "data": {
            "text/plain": [
              "206"
            ]
          },
          "metadata": {},
          "execution_count": 29
        }
      ]
    },
    {
      "cell_type": "code",
      "metadata": {
        "execution": {
          "iopub.status.busy": "2021-10-01T17:25:42.361708Z",
          "iopub.execute_input": "2021-10-01T17:25:42.361985Z",
          "iopub.status.idle": "2021-10-01T17:25:42.374995Z",
          "shell.execute_reply.started": "2021-10-01T17:25:42.361950Z",
          "shell.execute_reply": "2021-10-01T17:25:42.374132Z"
        },
        "trusted": true,
        "id": "xEPuJYzdIJmm",
        "colab": {
          "base_uri": "https://localhost:8080/"
        },
        "outputId": "f237c1ef-4d66-4ffd-b817-00ad6dfbb891"
      },
      "source": [
        "train_df, val_df = train_test_split(df, test_size=0.25)\n",
        "train_df.shape, val_df.shape"
      ],
      "execution_count": 30,
      "outputs": [
        {
          "output_type": "execute_result",
          "data": {
            "text/plain": [
              "((1227, 7), (409, 7))"
            ]
          },
          "metadata": {},
          "execution_count": 30
        }
      ]
    },
    {
      "cell_type": "code",
      "metadata": {
        "execution": {
          "iopub.status.busy": "2021-10-01T17:25:42.376486Z",
          "iopub.execute_input": "2021-10-01T17:25:42.376749Z",
          "iopub.status.idle": "2021-10-01T17:25:42.817432Z",
          "shell.execute_reply.started": "2021-10-01T17:25:42.376714Z",
          "shell.execute_reply": "2021-10-01T17:25:42.816683Z"
        },
        "trusted": true,
        "id": "q8yTccmtIJmm",
        "colab": {
          "base_uri": "https://localhost:8080/",
          "height": 488
        },
        "outputId": "37872357-e4eb-4b00-a307-eac4130d50b3"
      },
      "source": [
        "LABEL_COLUMNS = df.columns.tolist()[1:]\n",
        "df[LABEL_COLUMNS].sum().sort_values().plot(kind=\"barh\");"
      ],
      "execution_count": 31,
      "outputs": [
        {
          "output_type": "display_data",
          "data": {
            "image/png": "[encoded data removed]",
            "text/plain": [
              "<Figure size 864x576 with 1 Axes>"
            ]
          },
          "metadata": {
            "image/png": {
              "width": 771,
              "height": 471
            }
          }
        }
      ]
    },
    {
      "cell_type": "code",
      "metadata": {
        "execution": {
          "iopub.status.busy": "2021-10-01T17:25:42.819027Z",
          "iopub.execute_input": "2021-10-01T17:25:42.819313Z",
          "iopub.status.idle": "2021-10-01T17:25:43.176668Z",
          "shell.execute_reply.started": "2021-10-01T17:25:42.819275Z",
          "shell.execute_reply": "2021-10-01T17:25:43.175810Z"
        },
        "trusted": true,
        "id": "b8rvQ6zpIJmm",
        "colab": {
          "base_uri": "https://localhost:8080/",
          "height": 488
        },
        "outputId": "77b50071-95ca-4d76-885c-b97dc12b8668"
      },
      "source": [
        "train_negative = train_df[train_df[LABEL_COLUMNS].sum(axis=1) > 0]\n",
        "train_positive = train_df[train_df[LABEL_COLUMNS].sum(axis=1) == 0]\n",
        "pd.DataFrame(dict(\n",
        "  negative=[len(train_negative)],\n",
        "  natural=[len(train_positive)]\n",
        ")).plot(kind='barh');"
      ],
      "execution_count": null,
      "outputs": [
        {
          "output_type": "display_data",
          "data": {
            "image/png": "[encoded data removed]",
            "text/plain": [
              "<Figure size 864x576 with 1 Axes>"
            ]
          },
          "metadata": {
            "image/png": {
              "width": 701,
              "height": 471
            }
          }
        }
      ]
    },
    {
      "cell_type": "code",
      "metadata": {
        "execution": {
          "iopub.status.busy": "2021-10-01T17:25:43.177848Z",
          "iopub.execute_input": "2021-10-01T17:25:43.178635Z",
          "iopub.status.idle": "2021-10-01T17:25:43.206274Z",
          "shell.execute_reply.started": "2021-10-01T17:25:43.178595Z",
          "shell.execute_reply": "2021-10-01T17:25:43.205395Z"
        },
        "trusted": true,
        "id": "_RpE-U_7IJmn",
        "colab": {
          "base_uri": "https://localhost:8080/",
          "height": 597
        },
        "outputId": "612ab32a-e382-4928-80d0-fbb6431eb9ee"
      },
      "source": [
        "train_df"
      ],
      "execution_count": null,
      "outputs": [
        {
          "output_type": "execute_result",
          "data": {
            "text/html": [
              "<div>\n",
              "<style scoped>\n",
              "    .dataframe tbody tr th:only-of-type {\n",
              "        vertical-align: middle;\n",
              "    }\n",
              "\n",
              "    .dataframe tbody tr th {\n",
              "        vertical-align: top;\n",
              "    }\n",
              "\n",
              "    .dataframe thead th {\n",
              "        text-align: right;\n",
              "    }\n",
              "</style>\n",
              "<table border=\"1\" class=\"dataframe\">\n",
              "  <thead>\n",
              "    <tr style=\"text-align: right;\">\n",
              "      <th></th>\n",
              "      <th>review</th>\n",
              "      <th>RudeService</th>\n",
              "      <th>OrderProblem</th>\n",
              "      <th>Filthy</th>\n",
              "      <th>SlowService</th>\n",
              "      <th>BadFood</th>\n",
              "      <th>ScaryMcDs</th>\n",
              "      <th>MissingFood</th>\n",
              "      <th>Cost</th>\n",
              "    </tr>\n",
              "  </thead>\n",
              "  <tbody>\n",
              "    <tr>\n",
              "      <th>818</th>\n",
              "      <td>rain go mcdonald drive thru noteworthy point g...</td>\n",
              "      <td>0.0</td>\n",
              "      <td>0.0</td>\n",
              "      <td>0.0</td>\n",
              "      <td>0.0</td>\n",
              "      <td>1.0</td>\n",
              "      <td>0.0</td>\n",
              "      <td>0.0</td>\n",
              "      <td>0.0</td>\n",
              "    </tr>\n",
              "    <tr>\n",
              "      <th>727</th>\n",
              "      <td>quite possibly slow mcdonald ever two drive th...</td>\n",
              "      <td>1.0</td>\n",
              "      <td>0.0</td>\n",
              "      <td>0.0</td>\n",
              "      <td>1.0</td>\n",
              "      <td>0.0</td>\n",
              "      <td>0.0</td>\n",
              "      <td>0.0</td>\n",
              "      <td>0.0</td>\n",
              "    </tr>\n",
              "    <tr>\n",
              "      <th>1083</th>\n",
              "      <td>sorry bother worst customer service ever recei...</td>\n",
              "      <td>1.0</td>\n",
              "      <td>0.0</td>\n",
              "      <td>0.0</td>\n",
              "      <td>0.0</td>\n",
              "      <td>0.0</td>\n",
              "      <td>0.0</td>\n",
              "      <td>0.0</td>\n",
              "      <td>0.0</td>\n",
              "    </tr>\n",
              "    <tr>\n",
              "      <th>596</th>\n",
              "      <td>today break point long ago mcdonald revolution...</td>\n",
              "      <td>1.0</td>\n",
              "      <td>1.0</td>\n",
              "      <td>0.0</td>\n",
              "      <td>1.0</td>\n",
              "      <td>0.0</td>\n",
              "      <td>0.0</td>\n",
              "      <td>0.0</td>\n",
              "      <td>0.0</td>\n",
              "    </tr>\n",
              "    <tr>\n",
              "      <th>453</th>\n",
              "      <td>slow mcdonald earth minutes get happy meals ma...</td>\n",
              "      <td>0.0</td>\n",
              "      <td>0.0</td>\n",
              "      <td>0.0</td>\n",
              "      <td>1.0</td>\n",
              "      <td>0.0</td>\n",
              "      <td>0.0</td>\n",
              "      <td>0.0</td>\n",
              "      <td>0.0</td>\n",
              "    </tr>\n",
              "    <tr>\n",
              "      <th>...</th>\n",
              "      <td>...</td>\n",
              "      <td>...</td>\n",
              "      <td>...</td>\n",
              "      <td>...</td>\n",
              "      <td>...</td>\n",
              "      <td>...</td>\n",
              "      <td>...</td>\n",
              "      <td>...</td>\n",
              "      <td>...</td>\n",
              "    </tr>\n",
              "    <tr>\n",
              "      <th>1044</th>\n",
              "      <td>mcdonalds blows relative already low initial e...</td>\n",
              "      <td>1.0</td>\n",
              "      <td>1.0</td>\n",
              "      <td>0.0</td>\n",
              "      <td>0.0</td>\n",
              "      <td>0.0</td>\n",
              "      <td>0.0</td>\n",
              "      <td>0.0</td>\n",
              "      <td>0.0</td>\n",
              "    </tr>\n",
              "    <tr>\n",
              "      <th>1095</th>\n",
              "      <td>want hour wait minutes mcnuggets get mcheated</td>\n",
              "      <td>1.0</td>\n",
              "      <td>1.0</td>\n",
              "      <td>0.0</td>\n",
              "      <td>1.0</td>\n",
              "      <td>0.0</td>\n",
              "      <td>0.0</td>\n",
              "      <td>0.0</td>\n",
              "      <td>0.0</td>\n",
              "    </tr>\n",
              "    <tr>\n",
              "      <th>1130</th>\n",
              "      <td>time reason park bring order get annoy suck fo...</td>\n",
              "      <td>0.0</td>\n",
              "      <td>0.0</td>\n",
              "      <td>0.0</td>\n",
              "      <td>1.0</td>\n",
              "      <td>0.0</td>\n",
              "      <td>0.0</td>\n",
              "      <td>0.0</td>\n",
              "      <td>0.0</td>\n",
              "    </tr>\n",
              "    <tr>\n",
              "      <th>860</th>\n",
              "      <td>mcdonald friends always go since close apartme...</td>\n",
              "      <td>1.0</td>\n",
              "      <td>0.0</td>\n",
              "      <td>0.0</td>\n",
              "      <td>1.0</td>\n",
              "      <td>0.0</td>\n",
              "      <td>0.0</td>\n",
              "      <td>1.0</td>\n",
              "      <td>1.0</td>\n",
              "    </tr>\n",
              "    <tr>\n",
              "      <th>1126</th>\n",
              "      <td>ice cream available menu first time location u...</td>\n",
              "      <td>0.0</td>\n",
              "      <td>0.0</td>\n",
              "      <td>0.0</td>\n",
              "      <td>0.0</td>\n",
              "      <td>0.0</td>\n",
              "      <td>0.0</td>\n",
              "      <td>1.0</td>\n",
              "      <td>0.0</td>\n",
              "    </tr>\n",
              "  </tbody>\n",
              "</table>\n",
              "<p>881 rows × 9 columns</p>\n",
              "</div>"
            ],
            "text/plain": [
              "                                                 review  ...  Cost\n",
              "818   rain go mcdonald drive thru noteworthy point g...  ...   0.0\n",
              "727   quite possibly slow mcdonald ever two drive th...  ...   0.0\n",
              "1083  sorry bother worst customer service ever recei...  ...   0.0\n",
              "596   today break point long ago mcdonald revolution...  ...   0.0\n",
              "453   slow mcdonald earth minutes get happy meals ma...  ...   0.0\n",
              "...                                                 ...  ...   ...\n",
              "1044  mcdonalds blows relative already low initial e...  ...   0.0\n",
              "1095      want hour wait minutes mcnuggets get mcheated  ...   0.0\n",
              "1130  time reason park bring order get annoy suck fo...  ...   0.0\n",
              "860   mcdonald friends always go since close apartme...  ...   1.0\n",
              "1126  ice cream available menu first time location u...  ...   0.0\n",
              "\n",
              "[881 rows x 9 columns]"
            ]
          },
          "metadata": {},
          "execution_count": 28
        }
      ]
    },
    {
      "cell_type": "code",
      "metadata": {
        "execution": {
          "iopub.status.busy": "2021-10-01T17:25:43.207709Z",
          "iopub.execute_input": "2021-10-01T17:25:43.208188Z",
          "iopub.status.idle": "2021-10-01T17:25:45.080277Z",
          "shell.execute_reply.started": "2021-10-01T17:25:43.208153Z",
          "shell.execute_reply": "2021-10-01T17:25:45.079475Z"
        },
        "trusted": true,
        "id": "LXuv-LWsIJmn",
        "colab": {
          "base_uri": "https://localhost:8080/",
          "height": 145
        },
        "outputId": "6bdea2e5-a4fd-47c3-c219-e59f5123ab7c"
      },
      "source": [
        "BERT_MODEL_NAME = 'bert-base-cased'\n",
        "tokenizer = BertTokenizer.from_pretrained(BERT_MODEL_NAME)"
      ],
      "execution_count": 32,
      "outputs": [
        {
          "output_type": "display_data",
          "data": {
            "application/vnd.jupyter.widget-view+json": {
              "model_id": "41a55787a0e84992a92d0a9d284c4c26",
              "version_minor": 0,
              "version_major": 2
            },
            "text/plain": [
              "Downloading:   0%|          | 0.00/208k [00:00<?, ?B/s]"
            ]
          },
          "metadata": {}
        },
        {
          "output_type": "display_data",
          "data": {
            "application/vnd.jupyter.widget-view+json": {
              "model_id": "fae6c9a5648b4f0f82bc087c602493bc",
              "version_minor": 0,
              "version_major": 2
            },
            "text/plain": [
              "Downloading:   0%|          | 0.00/426k [00:00<?, ?B/s]"
            ]
          },
          "metadata": {}
        },
        {
          "output_type": "display_data",
          "data": {
            "application/vnd.jupyter.widget-view+json": {
              "model_id": "7bb7fc2bc230481bb1cfa80e725eb934",
              "version_minor": 0,
              "version_major": 2
            },
            "text/plain": [
              "Downloading:   0%|          | 0.00/29.0 [00:00<?, ?B/s]"
            ]
          },
          "metadata": {}
        },
        {
          "output_type": "display_data",
          "data": {
            "application/vnd.jupyter.widget-view+json": {
              "model_id": "3a8e7cd4cb074448821bb4ad74b35e06",
              "version_minor": 0,
              "version_major": 2
            },
            "text/plain": [
              "Downloading:   0%|          | 0.00/570 [00:00<?, ?B/s]"
            ]
          },
          "metadata": {}
        }
      ]
    },
    {
      "cell_type": "code",
      "metadata": {
        "execution": {
          "iopub.status.busy": "2021-10-01T17:25:45.081487Z",
          "iopub.execute_input": "2021-10-01T17:25:45.081756Z",
          "iopub.status.idle": "2021-10-01T17:25:45.088289Z",
          "shell.execute_reply.started": "2021-10-01T17:25:45.081724Z",
          "shell.execute_reply": "2021-10-01T17:25:45.087477Z"
        },
        "trusted": true,
        "id": "_hXBgzDdIJmn",
        "colab": {
          "base_uri": "https://localhost:8080/"
        },
        "outputId": "a0254051-646a-4af3-d24a-60d984c96d59"
      },
      "source": [
        "LABEL_COLUMNS"
      ],
      "execution_count": 33,
      "outputs": [
        {
          "output_type": "execute_result",
          "data": {
            "text/plain": [
              "['Filthy', 'BadFood', 'ScaryMcDs', 'Cost', 'Service', 'Order_issue']"
            ]
          },
          "metadata": {},
          "execution_count": 33
        }
      ]
    },
    {
      "cell_type": "code",
      "metadata": {
        "execution": {
          "iopub.status.busy": "2021-10-01T17:25:45.089842Z",
          "iopub.execute_input": "2021-10-01T17:25:45.090124Z",
          "iopub.status.idle": "2021-10-01T17:25:45.100616Z",
          "shell.execute_reply.started": "2021-10-01T17:25:45.090072Z",
          "shell.execute_reply": "2021-10-01T17:25:45.099825Z"
        },
        "trusted": true,
        "id": "AmdnHKvZIJmn",
        "colab": {
          "base_uri": "https://localhost:8080/"
        },
        "outputId": "5a2df9c1-1fa3-4d76-8638-a7caffa75091"
      },
      "source": [
        "sample_row = df.iloc[7]\n",
        "sample_comment = sample_row.review\n",
        "sample_labels = sample_row[LABEL_COLUMNS]\n",
        "print(sample_comment)\n",
        "print()\n",
        "print(sample_labels.to_dict())"
      ],
      "execution_count": 34,
      "outputs": [
        {
          "output_type": "stream",
          "name": "stdout",
          "text": [
            "i do not understand why people have qualms with this mcdonald is. it is a mcdonald is. it is standard. their business model is standardization. ξit is \"a-ok\" just a plain old mcdonald is. never had anything crazy occur to me here!\n",
            "\n",
            "{'Filthy': 0.0, 'BadFood': 0.0, 'ScaryMcDs': 0.0, 'Cost': 0.0, 'Service': 0.0, 'Order_issue': 0.0}\n"
          ]
        }
      ]
    },
    {
      "cell_type": "code",
      "metadata": {
        "execution": {
          "iopub.status.busy": "2021-10-01T17:25:45.102081Z",
          "iopub.execute_input": "2021-10-01T17:25:45.102587Z",
          "iopub.status.idle": "2021-10-01T17:25:45.122080Z",
          "shell.execute_reply.started": "2021-10-01T17:25:45.102551Z",
          "shell.execute_reply": "2021-10-01T17:25:45.121374Z"
        },
        "trusted": true,
        "id": "l7Qkzaw5IJmn",
        "colab": {
          "base_uri": "https://localhost:8080/"
        },
        "outputId": "6d7bb4fb-628a-44e6-e053-35b29464cf8c"
      },
      "source": [
        "encoding = tokenizer.encode_plus(\n",
        "  sample_comment,\n",
        "  add_special_tokens=True,\n",
        "  max_length=512,\n",
        "  return_token_type_ids=False,\n",
        "  padding=\"max_length\",\n",
        "  return_attention_mask=True,\n",
        "  return_tensors='pt',\n",
        ")\n",
        "encoding.keys()"
      ],
      "execution_count": 35,
      "outputs": [
        {
          "output_type": "execute_result",
          "data": {
            "text/plain": [
              "dict_keys(['input_ids', 'attention_mask'])"
            ]
          },
          "metadata": {},
          "execution_count": 35
        }
      ]
    },
    {
      "cell_type": "code",
      "metadata": {
        "execution": {
          "iopub.status.busy": "2021-10-01T17:25:45.123272Z",
          "iopub.execute_input": "2021-10-01T17:25:45.123695Z",
          "iopub.status.idle": "2021-10-01T17:25:45.129619Z",
          "shell.execute_reply.started": "2021-10-01T17:25:45.123661Z",
          "shell.execute_reply": "2021-10-01T17:25:45.128903Z"
        },
        "trusted": true,
        "id": "UMSuUDgMIJmo",
        "colab": {
          "base_uri": "https://localhost:8080/"
        },
        "outputId": "5f7d651a-8851-4501-ad5f-03e9d147ef28"
      },
      "source": [
        "encoding[\"input_ids\"].shape, encoding[\"attention_mask\"].shape"
      ],
      "execution_count": 36,
      "outputs": [
        {
          "output_type": "execute_result",
          "data": {
            "text/plain": [
              "(torch.Size([1, 512]), torch.Size([1, 512]))"
            ]
          },
          "metadata": {},
          "execution_count": 36
        }
      ]
    },
    {
      "cell_type": "code",
      "metadata": {
        "execution": {
          "iopub.status.busy": "2021-10-01T17:25:45.130888Z",
          "iopub.execute_input": "2021-10-01T17:25:45.131398Z",
          "iopub.status.idle": "2021-10-01T17:25:45.155209Z",
          "shell.execute_reply.started": "2021-10-01T17:25:45.131350Z",
          "shell.execute_reply": "2021-10-01T17:25:45.154254Z"
        },
        "trusted": true,
        "id": "aNzHn1oNIJmo",
        "colab": {
          "base_uri": "https://localhost:8080/"
        },
        "outputId": "7496f938-b0d6-4ded-90a1-fc222f727e3e"
      },
      "source": [
        "encoding[\"input_ids\"][0][0:40]"
      ],
      "execution_count": 37,
      "outputs": [
        {
          "output_type": "execute_result",
          "data": {
            "text/plain": [
              "tensor([  101,   178,  1202,  1136,  2437,  1725,  1234,  1138,   186,  4746,\n",
              "         4206,  1114,  1142,   182,  1665,  3842, 18728,  1110,   119,  1122,\n",
              "         1110,   170,   182,  1665,  3842, 18728,  1110,   119,  1122,  1110,\n",
              "         2530,   119,  1147,  1671,  2235,  1110,  2530,  2734,   119,   431])"
            ]
          },
          "metadata": {},
          "execution_count": 37
        }
      ]
    },
    {
      "cell_type": "code",
      "metadata": {
        "execution": {
          "iopub.status.busy": "2021-10-01T17:25:45.156612Z",
          "iopub.execute_input": "2021-10-01T17:25:45.156882Z",
          "iopub.status.idle": "2021-10-01T17:25:45.165984Z",
          "shell.execute_reply.started": "2021-10-01T17:25:45.156833Z",
          "shell.execute_reply": "2021-10-01T17:25:45.165187Z"
        },
        "trusted": true,
        "id": "HERp6jSjIJmo",
        "colab": {
          "base_uri": "https://localhost:8080/"
        },
        "outputId": "e016b612-39f6-4ea7-a471-dc34fc5c6d98"
      },
      "source": [
        "encoding[\"attention_mask\"][0][0:200]"
      ],
      "execution_count": 38,
      "outputs": [
        {
          "output_type": "execute_result",
          "data": {
            "text/plain": [
              "tensor([1, 1, 1, 1, 1, 1, 1, 1, 1, 1, 1, 1, 1, 1, 1, 1, 1, 1, 1, 1, 1, 1, 1, 1,\n",
              "        1, 1, 1, 1, 1, 1, 1, 1, 1, 1, 1, 1, 1, 1, 1, 1, 1, 1, 1, 1, 1, 1, 1, 1,\n",
              "        1, 1, 1, 1, 1, 1, 1, 1, 1, 1, 1, 1, 1, 1, 1, 1, 1, 1, 1, 0, 0, 0, 0, 0,\n",
              "        0, 0, 0, 0, 0, 0, 0, 0, 0, 0, 0, 0, 0, 0, 0, 0, 0, 0, 0, 0, 0, 0, 0, 0,\n",
              "        0, 0, 0, 0, 0, 0, 0, 0, 0, 0, 0, 0, 0, 0, 0, 0, 0, 0, 0, 0, 0, 0, 0, 0,\n",
              "        0, 0, 0, 0, 0, 0, 0, 0, 0, 0, 0, 0, 0, 0, 0, 0, 0, 0, 0, 0, 0, 0, 0, 0,\n",
              "        0, 0, 0, 0, 0, 0, 0, 0, 0, 0, 0, 0, 0, 0, 0, 0, 0, 0, 0, 0, 0, 0, 0, 0,\n",
              "        0, 0, 0, 0, 0, 0, 0, 0, 0, 0, 0, 0, 0, 0, 0, 0, 0, 0, 0, 0, 0, 0, 0, 0,\n",
              "        0, 0, 0, 0, 0, 0, 0, 0])"
            ]
          },
          "metadata": {},
          "execution_count": 38
        }
      ]
    },
    {
      "cell_type": "code",
      "metadata": {
        "execution": {
          "iopub.status.busy": "2021-10-01T17:25:45.167549Z",
          "iopub.execute_input": "2021-10-01T17:25:45.168029Z",
          "iopub.status.idle": "2021-10-01T17:25:45.174951Z",
          "shell.execute_reply.started": "2021-10-01T17:25:45.167996Z",
          "shell.execute_reply": "2021-10-01T17:25:45.174218Z"
        },
        "trusted": true,
        "id": "4MT_9L63IJmo",
        "colab": {
          "base_uri": "https://localhost:8080/"
        },
        "outputId": "45ee1cb6-a4f1-407b-baac-dd2fd95edb9e"
      },
      "source": [
        "encoding[\"input_ids\"].squeeze()[0:40]"
      ],
      "execution_count": 39,
      "outputs": [
        {
          "output_type": "execute_result",
          "data": {
            "text/plain": [
              "tensor([  101,   178,  1202,  1136,  2437,  1725,  1234,  1138,   186,  4746,\n",
              "         4206,  1114,  1142,   182,  1665,  3842, 18728,  1110,   119,  1122,\n",
              "         1110,   170,   182,  1665,  3842, 18728,  1110,   119,  1122,  1110,\n",
              "         2530,   119,  1147,  1671,  2235,  1110,  2530,  2734,   119,   431])"
            ]
          },
          "metadata": {},
          "execution_count": 39
        }
      ]
    },
    {
      "cell_type": "code",
      "metadata": {
        "execution": {
          "iopub.status.busy": "2021-10-01T17:25:45.176499Z",
          "iopub.execute_input": "2021-10-01T17:25:45.177185Z",
          "iopub.status.idle": "2021-10-01T17:25:45.185586Z",
          "shell.execute_reply.started": "2021-10-01T17:25:45.177152Z",
          "shell.execute_reply": "2021-10-01T17:25:45.184643Z"
        },
        "trusted": true,
        "id": "jMyymNq4IJmo",
        "colab": {
          "base_uri": "https://localhost:8080/"
        },
        "outputId": "b1e34290-47c5-4199-ea2e-65ea2fec2e04"
      },
      "source": [
        "#inverse the tokenization and get back (kinda) the words from the token id\n",
        "\n",
        "print(tokenizer.convert_ids_to_tokens(encoding[\"input_ids\"].squeeze())[:40])"
      ],
      "execution_count": 40,
      "outputs": [
        {
          "output_type": "stream",
          "name": "stdout",
          "text": [
            "['[CLS]', 'i', 'do', 'not', 'understand', 'why', 'people', 'have', 'q', '##ual', '##ms', 'with', 'this', 'm', '##c', '##don', '##ald', 'is', '.', 'it', 'is', 'a', 'm', '##c', '##don', '##ald', 'is', '.', 'it', 'is', 'standard', '.', 'their', 'business', 'model', 'is', 'standard', '##ization', '.', 'ξ']\n"
          ]
        }
      ]
    },
    {
      "cell_type": "code",
      "metadata": {
        "id": "9gLSMiqIIJmp"
      },
      "source": [
        ""
      ],
      "execution_count": 40,
      "outputs": []
    },
    {
      "cell_type": "code",
      "metadata": {
        "execution": {
          "iopub.status.busy": "2021-10-01T17:25:45.187074Z",
          "iopub.execute_input": "2021-10-01T17:25:45.187571Z",
          "iopub.status.idle": "2021-10-01T17:25:45.839118Z",
          "shell.execute_reply.started": "2021-10-01T17:25:45.187538Z",
          "shell.execute_reply": "2021-10-01T17:25:45.838416Z"
        },
        "trusted": true,
        "id": "4qvbc1x1IJmp",
        "colab": {
          "base_uri": "https://localhost:8080/",
          "height": 488
        },
        "outputId": "de7af205-6e36-4e91-9325-60963e6dcdac"
      },
      "source": [
        "# We need to specify the maximum number of tokens when encoding (512 is the maximum we can do)\n",
        "\n",
        "token_counts = []\n",
        "for _, row in train_df.iterrows():\n",
        "  token_count = len(tokenizer.encode(\n",
        "    row[\"review\"],\n",
        "    max_length=512,\n",
        "    truncation=True\n",
        "  ))\n",
        "  token_counts.append(token_count)\n",
        "    \n",
        "sns.histplot(token_counts)\n",
        "plt.xlim([0, 512]);"
      ],
      "execution_count": 41,
      "outputs": [
        {
          "output_type": "display_data",
          "data": {
            "image/png": "[encoded data removed]",
            "text/plain": [
              "<Figure size 864x576 with 1 Axes>"
            ]
          },
          "metadata": {
            "image/png": {
              "width": 736,
              "height": 471
            }
          }
        }
      ]
    },
    {
      "cell_type": "code",
      "metadata": {
        "execution": {
          "iopub.status.busy": "2021-10-01T17:25:45.840556Z",
          "iopub.execute_input": "2021-10-01T17:25:45.840808Z",
          "iopub.status.idle": "2021-10-01T17:25:46.083443Z",
          "shell.execute_reply.started": "2021-10-01T17:25:45.840767Z",
          "shell.execute_reply": "2021-10-01T17:25:46.082463Z"
        },
        "trusted": true,
        "id": "WTxKlLChIJmp",
        "colab": {
          "base_uri": "https://localhost:8080/"
        },
        "outputId": "c23630af-72db-4831-944a-75454be931be"
      },
      "source": [
        "del token_counts, encoding\n",
        "gc.collect()"
      ],
      "execution_count": null,
      "outputs": [
        {
          "output_type": "execute_result",
          "data": {
            "text/plain": [
              "10870"
            ]
          },
          "metadata": {},
          "execution_count": 39
        }
      ]
    },
    {
      "cell_type": "code",
      "metadata": {
        "execution": {
          "iopub.status.busy": "2021-10-01T17:25:46.088178Z",
          "iopub.execute_input": "2021-10-01T17:25:46.092055Z",
          "iopub.status.idle": "2021-10-01T17:25:46.096204Z",
          "shell.execute_reply.started": "2021-10-01T17:25:46.092017Z",
          "shell.execute_reply": "2021-10-01T17:25:46.095555Z"
        },
        "trusted": true,
        "id": "YXryuD8CIJmp"
      },
      "source": [
        "# we’ll stick with the limit of 512\n",
        "\n",
        "MAX_TOKEN_COUNT = 350"
      ],
      "execution_count": 42,
      "outputs": []
    },
    {
      "cell_type": "code",
      "metadata": {
        "execution": {
          "iopub.status.busy": "2021-10-01T17:25:46.097748Z",
          "iopub.execute_input": "2021-10-01T17:25:46.098239Z",
          "iopub.status.idle": "2021-10-01T17:25:46.116468Z",
          "shell.execute_reply.started": "2021-10-01T17:25:46.098204Z",
          "shell.execute_reply": "2021-10-01T17:25:46.115856Z"
        },
        "trusted": true,
        "id": "sBo2RajxIJmp"
      },
      "source": [
        "# We’ll wrap the tokenization process in a PyTorch Dataset, along with converting the labels to tensors:\n",
        "\n",
        "class ToxicCommentsDataset(Dataset):\n",
        "  def __init__(self,data: pd.DataFrame,tokenizer: BertTokenizer,max_token_len: int = 128):\n",
        "    self.tokenizer = tokenizer\n",
        "    self.data = data\n",
        "    self.max_token_len = max_token_len\n",
        "  def __len__(self):\n",
        "    return len(self.data)\n",
        "  def __getitem__(self, index: int):\n",
        "    data_row = self.data.iloc[index]\n",
        "    review = data_row.review\n",
        "    labels = data_row[LABEL_COLUMNS]\n",
        "    encoding = self.tokenizer.encode_plus(\n",
        "      review,\n",
        "      add_special_tokens=True,\n",
        "      max_length=self.max_token_len,\n",
        "      return_token_type_ids=False,\n",
        "      padding=\"max_length\",\n",
        "      truncation=True,\n",
        "      return_attention_mask=True,\n",
        "      return_tensors='pt',\n",
        "    )\n",
        "    return dict(\n",
        "      review=review,\n",
        "      input_ids=encoding[\"input_ids\"].flatten(),\n",
        "      attention_mask=encoding[\"attention_mask\"].flatten(),\n",
        "      labels=torch.FloatTensor(labels)\n",
        "    )"
      ],
      "execution_count": 43,
      "outputs": []
    },
    {
      "cell_type": "code",
      "metadata": {
        "execution": {
          "iopub.status.busy": "2021-10-01T17:25:46.126182Z",
          "iopub.execute_input": "2021-10-01T17:25:46.128804Z",
          "iopub.status.idle": "2021-10-01T17:25:46.144349Z",
          "shell.execute_reply.started": "2021-10-01T17:25:46.128769Z",
          "shell.execute_reply": "2021-10-01T17:25:46.143494Z"
        },
        "trusted": true,
        "id": "_wTWZC1GIJmq",
        "colab": {
          "base_uri": "https://localhost:8080/"
        },
        "outputId": "a9dbddec-54e4-4b82-bbb9-dbf8d2f279d3"
      },
      "source": [
        "# Let’s have a look at a sample item from the dataset:\n",
        "train_dataset = ToxicCommentsDataset(\n",
        "  train_df,\n",
        "  tokenizer,\n",
        "  max_token_len=MAX_TOKEN_COUNT\n",
        ")\n",
        "sample_item = train_dataset[0]\n",
        "sample_item.keys()\n"
      ],
      "execution_count": 44,
      "outputs": [
        {
          "output_type": "execute_result",
          "data": {
            "text/plain": [
              "dict_keys(['review', 'input_ids', 'attention_mask', 'labels'])"
            ]
          },
          "metadata": {},
          "execution_count": 44
        }
      ]
    },
    {
      "cell_type": "code",
      "metadata": {
        "execution": {
          "iopub.status.busy": "2021-10-01T17:25:46.148607Z",
          "iopub.execute_input": "2021-10-01T17:25:46.150007Z",
          "iopub.status.idle": "2021-10-01T17:25:46.159801Z",
          "shell.execute_reply.started": "2021-10-01T17:25:46.149969Z",
          "shell.execute_reply": "2021-10-01T17:25:46.159023Z"
        },
        "trusted": true,
        "id": "76-odeNfIJmq",
        "colab": {
          "base_uri": "https://localhost:8080/",
          "height": 87
        },
        "outputId": "5a5eb754-2cbc-4770-c81d-c9660fe732f9"
      },
      "source": [
        "sample_item[\"review\"]"
      ],
      "execution_count": null,
      "outputs": [
        {
          "output_type": "execute_result",
          "data": {
            "application/vnd.google.colaboratory.intrinsic+json": {
              "type": "string"
            },
            "text/plain": [
              "'rain go mcdonald drive thru noteworthy point go thru drive thru rainy weather cover order speaker inadequate coverage order windows well order ten piece nugget combo large fries nuggets gristle several seem undercooked large dr pepper tasteless let syrup run notice drink left overall disappointed fry good though drive thru order taker courteous though give point'"
            ]
          },
          "metadata": {},
          "execution_count": 43
        }
      ]
    },
    {
      "cell_type": "code",
      "metadata": {
        "execution": {
          "iopub.status.busy": "2021-10-01T17:25:46.162734Z",
          "iopub.execute_input": "2021-10-01T17:25:46.163510Z",
          "iopub.status.idle": "2021-10-01T17:25:46.205971Z",
          "shell.execute_reply.started": "2021-10-01T17:25:46.163475Z",
          "shell.execute_reply": "2021-10-01T17:25:46.205290Z"
        },
        "trusted": true,
        "id": "8GaIvTXVIJmq",
        "colab": {
          "base_uri": "https://localhost:8080/"
        },
        "outputId": "8d972b02-8a9d-4e98-bf35-8cc5389b72f6"
      },
      "source": [
        "sample_item[\"labels\"]"
      ],
      "execution_count": null,
      "outputs": [
        {
          "output_type": "execute_result",
          "data": {
            "text/plain": [
              "tensor([0., 0., 0., 0., 1., 0., 0., 0.])"
            ]
          },
          "metadata": {},
          "execution_count": 44
        }
      ]
    },
    {
      "cell_type": "code",
      "metadata": {
        "execution": {
          "iopub.status.busy": "2021-10-01T17:25:46.207313Z",
          "iopub.execute_input": "2021-10-01T17:25:46.207763Z",
          "iopub.status.idle": "2021-10-01T17:25:46.215367Z",
          "shell.execute_reply.started": "2021-10-01T17:25:46.207730Z",
          "shell.execute_reply": "2021-10-01T17:25:46.214669Z"
        },
        "trusted": true,
        "id": "Tnw9FW15IJmq",
        "colab": {
          "base_uri": "https://localhost:8080/"
        },
        "outputId": "c8a7f216-8ccc-44ae-e337-f9db8c86ac44"
      },
      "source": [
        "sample_item[\"input_ids\"].shape"
      ],
      "execution_count": null,
      "outputs": [
        {
          "output_type": "execute_result",
          "data": {
            "text/plain": [
              "torch.Size([512])"
            ]
          },
          "metadata": {},
          "execution_count": 45
        }
      ]
    },
    {
      "cell_type": "code",
      "metadata": {
        "execution": {
          "iopub.status.busy": "2021-10-01T17:25:46.217631Z",
          "iopub.execute_input": "2021-10-01T17:25:46.218565Z",
          "iopub.status.idle": "2021-10-01T17:25:56.841472Z",
          "shell.execute_reply.started": "2021-10-01T17:25:46.218528Z",
          "shell.execute_reply": "2021-10-01T17:25:56.840676Z"
        },
        "trusted": true,
        "id": "1CaikRr_IJmr",
        "colab": {
          "base_uri": "https://localhost:8080/"
        },
        "outputId": "51b41c7f-0a8d-4a69-9c86-7a80a9f44e37"
      },
      "source": [
        "# Let’s load the BERT model and pass a sample of batch data through\n",
        "\n",
        "bert_model = BertModel.from_pretrained(BERT_MODEL_NAME, return_dict=True)\n",
        "sample_batch = next(iter(DataLoader(train_dataset, batch_size=8, num_workers=4, pin_memory= True)))\n",
        "sample_batch[\"input_ids\"].shape, sample_batch[\"attention_mask\"].shape"
      ],
      "execution_count": null,
      "outputs": [
        {
          "output_type": "stream",
          "name": "stderr",
          "text": [
            "Some weights of the model checkpoint at bert-base-cased were not used when initializing BertModel: ['cls.seq_relationship.weight', 'cls.seq_relationship.bias', 'cls.predictions.transform.LayerNorm.weight', 'cls.predictions.decoder.weight', 'cls.predictions.bias', 'cls.predictions.transform.dense.bias', 'cls.predictions.transform.dense.weight', 'cls.predictions.transform.LayerNorm.bias']\n",
            "- This IS expected if you are initializing BertModel from the checkpoint of a model trained on another task or with another architecture (e.g. initializing a BertForSequenceClassification model from a BertForPreTraining model).\n",
            "- This IS NOT expected if you are initializing BertModel from the checkpoint of a model that you expect to be exactly identical (initializing a BertForSequenceClassification model from a BertForSequenceClassification model).\n",
            "/usr/local/lib/python3.7/dist-packages/torch/utils/data/dataloader.py:481: UserWarning: This DataLoader will create 4 worker processes in total. Our suggested max number of worker in current system is 2, which is smaller than what this DataLoader is going to create. Please be aware that excessive worker creation might get DataLoader running slow or even freeze, lower the worker number to avoid potential slowness/freeze if necessary.\n",
            "  cpuset_checked))\n"
          ]
        },
        {
          "output_type": "execute_result",
          "data": {
            "text/plain": [
              "(torch.Size([8, 512]), torch.Size([8, 512]))"
            ]
          },
          "metadata": {},
          "execution_count": 46
        }
      ]
    },
    {
      "cell_type": "code",
      "metadata": {
        "execution": {
          "iopub.status.busy": "2021-10-01T17:25:56.843047Z",
          "iopub.execute_input": "2021-10-01T17:25:56.843435Z",
          "iopub.status.idle": "2021-10-01T17:26:07.647455Z",
          "shell.execute_reply.started": "2021-10-01T17:25:56.843391Z",
          "shell.execute_reply": "2021-10-01T17:26:07.646619Z"
        },
        "trusted": true,
        "id": "YcgPylJbIJmr"
      },
      "source": [
        "output = bert_model(sample_batch[\"input_ids\"], sample_batch[\"attention_mask\"])"
      ],
      "execution_count": null,
      "outputs": []
    },
    {
      "cell_type": "code",
      "metadata": {
        "execution": {
          "iopub.status.busy": "2021-10-01T17:26:07.648931Z",
          "iopub.execute_input": "2021-10-01T17:26:07.649354Z",
          "iopub.status.idle": "2021-10-01T17:26:07.656066Z",
          "shell.execute_reply.started": "2021-10-01T17:26:07.649309Z",
          "shell.execute_reply": "2021-10-01T17:26:07.655266Z"
        },
        "trusted": true,
        "id": "F81ER6bGIJmr",
        "colab": {
          "base_uri": "https://localhost:8080/"
        },
        "outputId": "4047497d-9788-473a-a949-1920eab74cc2"
      },
      "source": [
        "output.last_hidden_state.shape, output.pooler_output.shape"
      ],
      "execution_count": null,
      "outputs": [
        {
          "output_type": "execute_result",
          "data": {
            "text/plain": [
              "(torch.Size([8, 512, 768]), torch.Size([8, 768]))"
            ]
          },
          "metadata": {},
          "execution_count": 48
        }
      ]
    },
    {
      "cell_type": "code",
      "metadata": {
        "execution": {
          "iopub.status.busy": "2021-10-01T17:26:07.657790Z",
          "iopub.execute_input": "2021-10-01T17:26:07.658427Z",
          "iopub.status.idle": "2021-10-01T17:26:07.902568Z",
          "shell.execute_reply.started": "2021-10-01T17:26:07.658388Z",
          "shell.execute_reply": "2021-10-01T17:26:07.901808Z"
        },
        "trusted": true,
        "id": "vN0TR1NAIJmr",
        "colab": {
          "base_uri": "https://localhost:8080/"
        },
        "outputId": "7cf28a4f-947b-494e-d967-ce8800783f41"
      },
      "source": [
        "# Note! - The 768 dimension comes from the BERT hidden size\n",
        "bert_model.config.hidden_size\n",
        "gc.collect()"
      ],
      "execution_count": null,
      "outputs": [
        {
          "output_type": "execute_result",
          "data": {
            "text/plain": [
              "365"
            ]
          },
          "metadata": {},
          "execution_count": 49
        }
      ]
    },
    {
      "cell_type": "code",
      "metadata": {
        "execution": {
          "iopub.status.busy": "2021-10-01T17:26:07.904147Z",
          "iopub.execute_input": "2021-10-01T17:26:07.904470Z",
          "iopub.status.idle": "2021-10-01T17:26:07.915736Z",
          "shell.execute_reply.started": "2021-10-01T17:26:07.904433Z",
          "shell.execute_reply": "2021-10-01T17:26:07.914851Z"
        },
        "trusted": true,
        "id": "CDhg2_inIJmr"
      },
      "source": [
        "# We’ll wrap our custom dataset into a LightningDataModule:\n",
        "# ToxicCommentDataModule - encapsulates all data loading logic and returns the necessary data loaders\n",
        "\n",
        "class ToxicCommentDataModule(pl.LightningDataModule):\n",
        "  def __init__(self, train_df, test_df, tokenizer, batch_size=8, max_token_len=128):\n",
        "    super().__init__()\n",
        "    self.batch_size = batch_size\n",
        "    self.train_df = train_df\n",
        "    self.test_df = test_df\n",
        "    self.tokenizer = tokenizer\n",
        "    self.max_token_len = max_token_len\n",
        "  def setup(self, stage=None):\n",
        "    self.train_dataset = ToxicCommentsDataset(\n",
        "      self.train_df,\n",
        "      self.tokenizer,\n",
        "      self.max_token_len\n",
        "    )\n",
        "    self.test_dataset = ToxicCommentsDataset(\n",
        "      self.test_df,\n",
        "      self.tokenizer,\n",
        "      self.max_token_len\n",
        "    )\n",
        "  def train_dataloader(self):\n",
        "    return DataLoader(\n",
        "      self.train_dataset,\n",
        "      batch_size=self.batch_size,\n",
        "      shuffle=True,\n",
        "      num_workers=4, pin_memory= True\n",
        "    )\n",
        "  def val_dataloader(self):\n",
        "    return DataLoader(\n",
        "      self.test_dataset,\n",
        "      batch_size=self.batch_size,\n",
        "      num_workers=4 ,pin_memory= True\n",
        "    )\n",
        "  def test_dataloader(self):\n",
        "    return DataLoader(\n",
        "      self.test_dataset,\n",
        "      batch_size=self.batch_size,\n",
        "      num_workers=4 , pin_memory= True\n",
        "    )\n"
      ],
      "execution_count": 45,
      "outputs": []
    },
    {
      "cell_type": "code",
      "metadata": {
        "execution": {
          "iopub.status.busy": "2021-10-01T17:26:07.917465Z",
          "iopub.execute_input": "2021-10-01T17:26:07.917771Z",
          "iopub.status.idle": "2021-10-01T17:26:07.930557Z",
          "shell.execute_reply.started": "2021-10-01T17:26:07.917736Z",
          "shell.execute_reply": "2021-10-01T17:26:07.929397Z"
        },
        "trusted": true,
        "id": "HTnf-4dWIJms"
      },
      "source": [
        "# create an instance of our data module\n",
        "\n",
        "N_EPOCHS = 5\n",
        "BATCH_SIZE = 10\n",
        "data_module = ToxicCommentDataModule(\n",
        "  train_df,\n",
        "  val_df,\n",
        "  tokenizer,\n",
        "  batch_size=BATCH_SIZE,\n",
        "  max_token_len=MAX_TOKEN_COUNT\n",
        ")\n"
      ],
      "execution_count": 46,
      "outputs": []
    },
    {
      "cell_type": "code",
      "metadata": {
        "trusted": true,
        "id": "FXPtjg6-IJms"
      },
      "source": [
        ""
      ],
      "execution_count": null,
      "outputs": []
    },
    {
      "cell_type": "markdown",
      "metadata": {
        "id": "AKnlg879IJms"
      },
      "source": [
        "## Model\n",
        "**model** will use a pre-trained BertModel and a linear layer to convert the BERT representation to a classification task.\n",
        "We’ll pack everything in a LightningModule:\n",
        "\n",
        "**points of interest** - are the way we configure the optimizers and calculating the area under ROC"
      ]
    },
    {
      "cell_type": "code",
      "metadata": {
        "execution": {
          "iopub.status.busy": "2021-10-01T17:26:07.932222Z",
          "iopub.execute_input": "2021-10-01T17:26:07.932762Z",
          "iopub.status.idle": "2021-10-01T17:26:07.966789Z",
          "shell.execute_reply.started": "2021-10-01T17:26:07.932695Z",
          "shell.execute_reply": "2021-10-01T17:26:07.966072Z"
        },
        "trusted": true,
        "id": "CeY6kWHYIJms"
      },
      "source": [
        "class ToxicCommentTagger(pl.LightningModule):\n",
        "  def __init__(self, n_classes: int, n_training_steps=None, n_warmup_steps=None):\n",
        "    super().__init__()\n",
        "    self.bert = BertModel.from_pretrained(BERT_MODEL_NAME, return_dict=True)\n",
        "    self.classifier = nn.Linear(self.bert.config.hidden_size, n_classes)\n",
        "    self.n_training_steps = n_training_steps\n",
        "    self.n_warmup_steps = n_warmup_steps\n",
        "    self.criterion = nn.BCELoss()\n",
        "  def forward(self, input_ids, attention_mask, labels=None):\n",
        "    output = self.bert(input_ids, attention_mask=attention_mask)\n",
        "    output = self.classifier(output.pooler_output)\n",
        "    output = torch.sigmoid(output)\n",
        "    loss = 0\n",
        "    if labels is not None:\n",
        "        loss = self.criterion(output, labels)\n",
        "    return loss, output\n",
        "  def training_step(self, batch, batch_idx):\n",
        "    input_ids = batch[\"input_ids\"]\n",
        "    attention_mask = batch[\"attention_mask\"]\n",
        "    labels = batch[\"labels\"]\n",
        "    loss, outputs = self(input_ids, attention_mask, labels)\n",
        "    self.log(\"train_loss\", loss, prog_bar=True, logger=True)\n",
        "    return {\"loss\": loss, \"predictions\": outputs, \"labels\": labels}\n",
        "  def validation_step(self, batch, batch_idx):\n",
        "    input_ids = batch[\"input_ids\"]\n",
        "    attention_mask = batch[\"attention_mask\"]\n",
        "    labels = batch[\"labels\"]\n",
        "    loss, outputs = self(input_ids, attention_mask, labels)\n",
        "    self.log(\"val_loss\", loss, prog_bar=True, logger=True)\n",
        "    return loss\n",
        "  def test_step(self, batch, batch_idx):\n",
        "    input_ids = batch[\"input_ids\"]\n",
        "    attention_mask = batch[\"attention_mask\"]\n",
        "    labels = batch[\"labels\"]\n",
        "    loss, outputs = self(input_ids, attention_mask, labels)\n",
        "    self.log(\"test_loss\", loss, prog_bar=True, logger=True)\n",
        "    return loss\n",
        "  def training_epoch_end(self, outputs):\n",
        "    labels = []\n",
        "    predictions = []\n",
        "    for output in outputs:\n",
        "      for out_labels in output[\"labels\"].detach().cpu():\n",
        "        labels.append(out_labels)\n",
        "      for out_predictions in output[\"predictions\"].detach().cpu():\n",
        "        predictions.append(out_predictions)\n",
        "    labels = torch.stack(labels).int()\n",
        "    predictions = torch.stack(predictions)\n",
        "    for i, name in enumerate(LABEL_COLUMNS):\n",
        "      class_roc_auc = auroc(predictions[:, i], labels[:, i])\n",
        "      self.logger.experiment.add_scalar(f\"{name}_roc_auc/Train\", class_roc_auc, self.current_epoch)\n",
        "  def configure_optimizers(self):\n",
        "    optimizer = AdamW(self.parameters(), lr=2e-5)\n",
        "    scheduler = get_linear_schedule_with_warmup(\n",
        "      optimizer,\n",
        "      num_warmup_steps=self.n_warmup_steps,\n",
        "      num_training_steps=self.n_training_steps\n",
        "    )\n",
        "    return dict(\n",
        "      optimizer=optimizer,\n",
        "      lr_scheduler=dict(\n",
        "        scheduler=scheduler,\n",
        "        interval='step'\n",
        "      )\n",
        "    )"
      ],
      "execution_count": 47,
      "outputs": []
    },
    {
      "cell_type": "markdown",
      "metadata": {
        "id": "WQwDDBI9IJms"
      },
      "source": [
        "**Optimizer schedule**r -The job of a scheduler is to change the learning rate of the optimizer during training. This might lead to better performance of our model. We’ll use the get_linear_schedule_with_warmup."
      ]
    },
    {
      "cell_type": "code",
      "metadata": {
        "execution": {
          "iopub.status.busy": "2021-10-01T17:26:07.970401Z",
          "iopub.execute_input": "2021-10-01T17:26:07.974471Z",
          "iopub.status.idle": "2021-10-01T17:26:08.713857Z",
          "shell.execute_reply.started": "2021-10-01T17:26:07.974437Z",
          "shell.execute_reply": "2021-10-01T17:26:08.713175Z"
        },
        "trusted": true,
        "id": "A0ryT5-wIJmt",
        "colab": {
          "base_uri": "https://localhost:8080/",
          "height": 593
        },
        "outputId": "06e2095a-abe1-417e-f1bb-a15d031c84aa"
      },
      "source": [
        "#  simple example to make things clearer\n",
        "\n",
        "dummy_model = nn.Linear(2, 1)\n",
        "optimizer = AdamW(params=dummy_model.parameters(), lr=0.001)\n",
        "warmup_steps = 20\n",
        "total_training_steps = 100\n",
        "scheduler = get_linear_schedule_with_warmup(\n",
        "  optimizer,\n",
        "  num_warmup_steps=warmup_steps,\n",
        "  num_training_steps=total_training_steps\n",
        ")\n",
        "learning_rate_history = []\n",
        "for step in range(total_training_steps):\n",
        "  optimizer.step()\n",
        "  scheduler.step()\n",
        "  learning_rate_history.append(optimizer.param_groups[0]['lr'])\n",
        "plt.plot(learning_rate_history, label=\"learning rate\")\n",
        "plt.axvline(x=warmup_steps, color=\"red\", linestyle=(0, (5, 10)), label=\"warmup end\")\n",
        "plt.legend()\n",
        "plt.xlabel(\"Step\")\n",
        "plt.ylabel(\"Learning rate\")\n",
        "plt.tight_layout();\n",
        "\n",
        "print('Linear learning rate scheduling over training steps')"
      ],
      "execution_count": 48,
      "outputs": [
        {
          "output_type": "stream",
          "name": "stdout",
          "text": [
            "Linear learning rate scheduling over training steps\n"
          ]
        },
        {
          "output_type": "display_data",
          "data": {
            "image/png": "[encoded data removed]",
            "text/plain": [
              "<Figure size 864x576 with 1 Axes>"
            ]
          },
          "metadata": {
            "image/png": {
              "width": 847,
              "height": 559
            }
          }
        }
      ]
    },
    {
      "cell_type": "markdown",
      "metadata": {
        "id": "SX1QDrV8IJmt"
      },
      "source": [
        "To use the scheduler, we need to calculate the number of training and warm-up steps. The number of training steps per epoch is equal to number of training examples / batch size. The number of total training steps is training steps per epoch * number of epochs\n",
        "\n",
        "We’ll use a fifth of the training steps for a warm-up:"
      ]
    },
    {
      "cell_type": "code",
      "metadata": {
        "execution": {
          "iopub.status.busy": "2021-10-01T17:26:08.715085Z",
          "iopub.execute_input": "2021-10-01T17:26:08.715359Z",
          "iopub.status.idle": "2021-10-01T17:26:08.722755Z",
          "shell.execute_reply.started": "2021-10-01T17:26:08.715322Z",
          "shell.execute_reply": "2021-10-01T17:26:08.721880Z"
        },
        "trusted": true,
        "id": "7TwfHwGZIJmt",
        "colab": {
          "base_uri": "https://localhost:8080/"
        },
        "outputId": "ebc10e32-2c8c-402a-c1ad-8f6135f60fac"
      },
      "source": [
        "steps_per_epoch=len(train_df) // BATCH_SIZE\n",
        "total_training_steps = steps_per_epoch * N_EPOCHS\n",
        "\n",
        "warmup_steps = total_training_steps // 15\n",
        "warmup_steps, total_training_steps"
      ],
      "execution_count": 52,
      "outputs": [
        {
          "output_type": "execute_result",
          "data": {
            "text/plain": [
              "(40, 610)"
            ]
          },
          "metadata": {},
          "execution_count": 52
        }
      ]
    },
    {
      "cell_type": "code",
      "metadata": {
        "id": "UmXpfMZUir81"
      },
      "source": [
        "# steps_per_epoch= steps_per_epoch//2\n"
      ],
      "execution_count": 53,
      "outputs": []
    },
    {
      "cell_type": "code",
      "metadata": {
        "execution": {
          "iopub.status.busy": "2021-10-01T17:26:08.724655Z",
          "iopub.execute_input": "2021-10-01T17:26:08.724981Z",
          "iopub.status.idle": "2021-10-01T17:26:11.925455Z",
          "shell.execute_reply.started": "2021-10-01T17:26:08.724891Z",
          "shell.execute_reply": "2021-10-01T17:26:11.924658Z"
        },
        "trusted": true,
        "id": "b_R_6ajqIJmt",
        "colab": {
          "base_uri": "https://localhost:8080/",
          "height": 121,
          "referenced_widgets": [
            "0b199531881d45118e0d820732190de2",
            "d937eb14ea7b4f6ab8a6ee841b2c3f3d",
            "1217f9b1f30d459d950082b97f39ab0f",
            "ee5446bea51c4b0b953eadb2985d733d",
            "0a641defd5a64a57a84d3e940f0d686c",
            "4af84550acff4104887fc076b0a9f738",
            "8aff96b11fca4374a823c3577d6f3917",
            "972a9f7d129844a0b11ff720ea4b184b",
            "54d79d1738cf499d8d65b675d9d36f92",
            "abbc728d38194aeb8e8ef8024533d147",
            "9a2ab9f0f3e4420f80e0d0881be5e44b"
          ]
        },
        "outputId": "55367a50-93cb-48cf-a7b6-77a1f5ae1c97"
      },
      "source": [
        "# create an instance of the model\n",
        "model = ToxicCommentTagger(\n",
        "  n_classes=len(LABEL_COLUMNS),\n",
        "  n_warmup_steps=warmup_steps,\n",
        "  n_training_steps=total_training_steps\n",
        ")\n"
      ],
      "execution_count": 54,
      "outputs": [
        {
          "output_type": "display_data",
          "data": {
            "application/vnd.jupyter.widget-view+json": {
              "model_id": "0b199531881d45118e0d820732190de2",
              "version_minor": 0,
              "version_major": 2
            },
            "text/plain": [
              "Downloading:   0%|          | 0.00/416M [00:00<?, ?B/s]"
            ]
          },
          "metadata": {}
        },
        {
          "output_type": "stream",
          "name": "stderr",
          "text": [
            "Some weights of the model checkpoint at bert-base-cased were not used when initializing BertModel: ['cls.predictions.transform.dense.bias', 'cls.predictions.transform.LayerNorm.bias', 'cls.seq_relationship.weight', 'cls.predictions.bias', 'cls.seq_relationship.bias', 'cls.predictions.transform.LayerNorm.weight', 'cls.predictions.transform.dense.weight', 'cls.predictions.decoder.weight']\n",
            "- This IS expected if you are initializing BertModel from the checkpoint of a model trained on another task or with another architecture (e.g. initializing a BertForSequenceClassification model from a BertForPreTraining model).\n",
            "- This IS NOT expected if you are initializing BertModel from the checkpoint of a model that you expect to be exactly identical (initializing a BertForSequenceClassification model from a BertForSequenceClassification model).\n"
          ]
        }
      ]
    },
    {
      "cell_type": "markdown",
      "metadata": {
        "id": "NnhnC76uIJmt"
      },
      "source": [
        "### Evaluation\n",
        "We’ll use **Binary Cross Entropy** to measure the error for each label. PyTorch has **BCELoss**, which we’re going to combine with a sigmoid function (as we did in the model implementation)"
      ]
    },
    {
      "cell_type": "code",
      "metadata": {
        "execution": {
          "iopub.status.busy": "2021-10-01T17:26:11.926937Z",
          "iopub.execute_input": "2021-10-01T17:26:11.927200Z",
          "iopub.status.idle": "2021-10-01T17:26:11.936331Z",
          "shell.execute_reply.started": "2021-10-01T17:26:11.927165Z",
          "shell.execute_reply": "2021-10-01T17:26:11.935443Z"
        },
        "trusted": true,
        "id": "401bfI6ZIJmu",
        "colab": {
          "base_uri": "https://localhost:8080/"
        },
        "outputId": "778b8c65-6c3f-4202-a1af-823caeeb3d89"
      },
      "source": [
        "# example - Loss Calc\n",
        "\n",
        "criterion = nn.BCELoss()\n",
        "prediction = torch.FloatTensor([10.95873564, 1.07321467, 1.58524066, 0.03839076, 15.72987556, 1.09513213])\n",
        "\n",
        "labels = torch.FloatTensor([1., 0., 0., 0., 1., 0.])\n",
        "\n",
        "print(torch.sigmoid(prediction))\n",
        "print(criterion(torch.sigmoid(prediction), labels))"
      ],
      "execution_count": 55,
      "outputs": [
        {
          "output_type": "stream",
          "name": "stdout",
          "text": [
            "tensor([1.0000, 0.7452, 0.8299, 0.5096, 1.0000, 0.7493])\n",
            "tensor(0.8725)\n"
          ]
        }
      ]
    },
    {
      "cell_type": "code",
      "metadata": {
        "execution": {
          "iopub.status.busy": "2021-10-01T17:26:11.938137Z",
          "iopub.execute_input": "2021-10-01T17:26:11.938474Z",
          "iopub.status.idle": "2021-10-01T17:26:24.268813Z",
          "shell.execute_reply.started": "2021-10-01T17:26:11.938388Z",
          "shell.execute_reply": "2021-10-01T17:26:24.266699Z"
        },
        "trusted": true,
        "id": "M5JgllnvIJmu"
      },
      "source": [
        "# # calculate the loss of the prediction\n",
        "\n",
        "# _, predictions = model(sample_batch[\"input_ids\"], sample_batch[\"attention_mask\"])\n",
        "# predictions"
      ],
      "execution_count": 56,
      "outputs": []
    },
    {
      "cell_type": "code",
      "metadata": {
        "execution": {
          "iopub.status.busy": "2021-10-01T17:26:24.274271Z",
          "iopub.execute_input": "2021-10-01T17:26:24.278292Z",
          "iopub.status.idle": "2021-10-01T17:26:24.293001Z",
          "shell.execute_reply.started": "2021-10-01T17:26:24.278251Z",
          "shell.execute_reply": "2021-10-01T17:26:24.292054Z"
        },
        "trusted": true,
        "id": "4FkV2DOeIJmu"
      },
      "source": [
        "# criterion(predictions, sample_batch[\"labels\"])"
      ],
      "execution_count": 57,
      "outputs": []
    },
    {
      "cell_type": "code",
      "metadata": {
        "execution": {
          "iopub.status.busy": "2021-10-01T17:26:24.294534Z",
          "iopub.execute_input": "2021-10-01T17:26:24.294887Z",
          "iopub.status.idle": "2021-10-01T17:26:24.618132Z",
          "shell.execute_reply.started": "2021-10-01T17:26:24.294850Z",
          "shell.execute_reply": "2021-10-01T17:26:24.617047Z"
        },
        "trusted": true,
        "id": "lpTGV_VuIJmu",
        "colab": {
          "base_uri": "https://localhost:8080/",
          "height": 183
        },
        "outputId": "0c62bb2a-745c-402d-de4a-bc8c2c301747"
      },
      "source": [
        "del sample_batch\n",
        "gc.collect()"
      ],
      "execution_count": 58,
      "outputs": [
        {
          "output_type": "error",
          "ename": "NameError",
          "evalue": "ignored",
          "traceback": [
            "\u001b[0;31m---------------------------------------------------------------------------\u001b[0m",
            "\u001b[0;31mNameError\u001b[0m                                 Traceback (most recent call last)",
            "\u001b[0;32m<ipython-input-58-0327dc916be3>\u001b[0m in \u001b[0;36m<module>\u001b[0;34m()\u001b[0m\n\u001b[0;32m----> 1\u001b[0;31m \u001b[0;32mdel\u001b[0m \u001b[0msample_batch\u001b[0m\u001b[0;34m\u001b[0m\u001b[0;34m\u001b[0m\u001b[0m\n\u001b[0m\u001b[1;32m      2\u001b[0m \u001b[0mgc\u001b[0m\u001b[0;34m.\u001b[0m\u001b[0mcollect\u001b[0m\u001b[0;34m(\u001b[0m\u001b[0;34m)\u001b[0m\u001b[0;34m\u001b[0m\u001b[0;34m\u001b[0m\u001b[0m\n",
            "\u001b[0;31mNameError\u001b[0m: name 'sample_batch' is not defined"
          ]
        }
      ]
    },
    {
      "cell_type": "markdown",
      "metadata": {
        "id": "BvDor61iIJmu"
      },
      "source": [
        "### ROC Curve\n",
        "The area under the Receiver operating characteristic (ROC) for each tag. ROC is created by plotting the True Positive Rate (TPR) vs False Positive Rate (FPR)\n",
        "\n",
        "![image.png](attachment:2bd8a67f-1611-4932-8b67-af1438a334c8.png)"
      ]
    },
    {
      "cell_type": "code",
      "metadata": {
        "execution": {
          "iopub.status.busy": "2021-10-01T17:26:24.619874Z",
          "iopub.execute_input": "2021-10-01T17:26:24.620211Z",
          "iopub.status.idle": "2021-10-01T17:26:25.012975Z",
          "shell.execute_reply.started": "2021-10-01T17:26:24.620171Z",
          "shell.execute_reply": "2021-10-01T17:26:25.012191Z"
        },
        "trusted": true,
        "id": "_P0BZuzmIJmu",
        "colab": {
          "base_uri": "https://localhost:8080/",
          "height": 540
        },
        "outputId": "74fac680-c5f4-400f-f181-08178af18c42"
      },
      "source": [
        "from sklearn import metrics\n",
        "fpr = [0.        , 0.        , 0.        , 0.02857143, 0.02857143,\n",
        "       0.11428571, 0.11428571, 0.2       , 0.4       , 1.        ]\n",
        "tpr = [0.        , 0.01265823, 0.67202532, 0.76202532, 0.91468354,\n",
        "       0.97468354, 0.98734177, 0.98734177, 1.        , 1.        ]\n",
        "_, ax = plt.subplots()\n",
        "ax.plot(fpr, tpr, label=\"ROC\")\n",
        "ax.plot([0.05, 0.95], [0.05, 0.95], transform=ax.transAxes, label=\"Random classifier\", color=\"red\")\n",
        "ax.legend(loc=4)\n",
        "ax.set_xlabel(\"False positive rate\")\n",
        "ax.set_ylabel(\"True positive rate\")\n",
        "ax.set_title(\"Example ROC curve\")\n",
        "plt.show();\n",
        "\n",
        "print('Example ROC value of a trained classifier vs random classifier')"
      ],
      "execution_count": 59,
      "outputs": [
        {
          "output_type": "display_data",
          "data": {
            "image/png": "[encoded data removed]",
            "text/plain": [
              "<Figure size 864x576 with 1 Axes>"
            ]
          },
          "metadata": {
            "image/png": {
              "width": 732,
              "height": 506
            }
          }
        },
        {
          "output_type": "stream",
          "name": "stdout",
          "text": [
            "Example ROC value of a trained classifier vs random classifier\n"
          ]
        }
      ]
    },
    {
      "cell_type": "markdown",
      "metadata": {
        "id": "O5ovM2ZmIJmv"
      },
      "source": [
        "### Training\n",
        "we'll use at least 3 components - **Checkpointing** that saves the best model (based on validation loss):"
      ]
    },
    {
      "cell_type": "code",
      "metadata": {
        "execution": {
          "iopub.status.busy": "2021-10-01T17:26:25.014454Z",
          "iopub.execute_input": "2021-10-01T17:26:25.015341Z",
          "iopub.status.idle": "2021-10-01T17:26:25.028641Z",
          "shell.execute_reply.started": "2021-10-01T17:26:25.015299Z",
          "shell.execute_reply": "2021-10-01T17:26:25.027712Z"
        },
        "trusted": true,
        "id": "qvLlijgtIJmv"
      },
      "source": [
        "checkpoint_callback = ModelCheckpoint(\n",
        "    dirpath=\"checkpoints\",\n",
        "    filename=\"best-checkpoint\",\n",
        "    save_top_k=1,\n",
        "    verbose=True,\n",
        "    monitor=\"val_loss\",\n",
        "    mode=\"min\")"
      ],
      "execution_count": 60,
      "outputs": []
    },
    {
      "cell_type": "code",
      "metadata": {
        "execution": {
          "iopub.status.busy": "2021-10-01T17:26:25.030236Z",
          "iopub.execute_input": "2021-10-01T17:26:25.030590Z",
          "iopub.status.idle": "2021-10-01T17:26:25.035719Z",
          "shell.execute_reply.started": "2021-10-01T17:26:25.030551Z",
          "shell.execute_reply": "2021-10-01T17:26:25.034487Z"
        },
        "trusted": true,
        "id": "_HyaFWO5IJmv"
      },
      "source": [
        "# Log the progress in TensorBoard:\n",
        "\n",
        "logger = TensorBoardLogger(\"lightning_logs\", name=\"toxic-comments\")"
      ],
      "execution_count": 61,
      "outputs": []
    },
    {
      "cell_type": "code",
      "metadata": {
        "execution": {
          "iopub.status.busy": "2021-10-01T17:26:25.037635Z",
          "iopub.execute_input": "2021-10-01T17:26:25.038361Z",
          "iopub.status.idle": "2021-10-01T17:26:25.044790Z",
          "shell.execute_reply.started": "2021-10-01T17:26:25.038311Z",
          "shell.execute_reply": "2021-10-01T17:26:25.043840Z"
        },
        "trusted": true,
        "id": "-sr6KPF1IJmv"
      },
      "source": [
        "# And early stopping triggers when the loss hasn’t improved for the last 2 epochs \n",
        "#(you might want to remove/reconsider this when training on real-world projects):\n",
        "early_stopping_callback = EarlyStopping(monitor='val_loss', patience=2)\n",
        "\n"
      ],
      "execution_count": 62,
      "outputs": []
    },
    {
      "cell_type": "code",
      "metadata": {
        "execution": {
          "iopub.status.busy": "2021-10-01T17:26:25.046835Z",
          "iopub.execute_input": "2021-10-01T17:26:25.047253Z",
          "iopub.status.idle": "2021-10-01T17:26:25.063435Z",
          "shell.execute_reply.started": "2021-10-01T17:26:25.047197Z",
          "shell.execute_reply": "2021-10-01T17:26:25.062683Z"
        },
        "trusted": true,
        "id": "YZYQbsl8IJmw",
        "colab": {
          "base_uri": "https://localhost:8080/"
        },
        "outputId": "31dd6856-5698-4c31-efb0-9a40685c4632"
      },
      "source": [
        "# start the training process:\n",
        "\n",
        "trainer = pl.Trainer(\n",
        "    logger=logger,\n",
        "    callbacks=[checkpoint_callback, early_stopping_callback],\n",
        "    max_epochs= N_EPOCHS,\n",
        "    gpus=1,\n",
        "    progress_bar_refresh_rate=30)"
      ],
      "execution_count": 63,
      "outputs": [
        {
          "output_type": "stream",
          "name": "stderr",
          "text": [
            "GPU available: True, used: True\n",
            "TPU available: False, using: 0 TPU cores\n",
            "IPU available: False, using: 0 IPUs\n"
          ]
        }
      ]
    },
    {
      "cell_type": "code",
      "metadata": {
        "execution": {
          "iopub.status.busy": "2021-10-01T17:27:31.539941Z",
          "iopub.execute_input": "2021-10-01T17:27:31.540578Z",
          "iopub.status.idle": "2021-10-01T17:27:31.547251Z",
          "shell.execute_reply.started": "2021-10-01T17:27:31.540534Z",
          "shell.execute_reply": "2021-10-01T17:27:31.546378Z"
        },
        "trusted": true,
        "id": "ew9BF2g5IJmw",
        "colab": {
          "base_uri": "https://localhost:8080/"
        },
        "outputId": "79222c99-4078-41d0-f51f-73601022171a"
      },
      "source": [
        "alldfs = [var for var in dir() if isinstance(eval(var), pd.core.frame.DataFrame)]\n",
        "\n",
        "print(alldfs) "
      ],
      "execution_count": null,
      "outputs": [
        {
          "output_type": "stream",
          "name": "stdout",
          "text": [
            "['_22', '_28', '_5', '_6', 'data_raw', 'df', 'train_df', 'train_negative', 'train_positive', 'val_df']\n"
          ]
        }
      ]
    },
    {
      "cell_type": "code",
      "metadata": {
        "execution": {
          "iopub.status.busy": "2021-10-01T17:28:46.403047Z",
          "iopub.execute_input": "2021-10-01T17:28:46.403871Z",
          "iopub.status.idle": "2021-10-01T17:28:47.126264Z",
          "shell.execute_reply.started": "2021-10-01T17:28:46.403829Z",
          "shell.execute_reply": "2021-10-01T17:28:47.125146Z"
        },
        "trusted": true,
        "id": "9cHpNNNxIJmw",
        "colab": {
          "base_uri": "https://localhost:8080/"
        },
        "outputId": "4d03dde7-f214-4858-baaa-e280d0c0c229"
      },
      "source": [
        "del alldfs\n",
        "gc.collect()"
      ],
      "execution_count": null,
      "outputs": [
        {
          "output_type": "execute_result",
          "data": {
            "text/plain": [
              "176"
            ]
          },
          "metadata": {},
          "execution_count": 67
        }
      ]
    },
    {
      "cell_type": "code",
      "metadata": {
        "execution": {
          "iopub.status.busy": "2021-10-01T17:33:19.344840Z",
          "iopub.execute_input": "2021-10-01T17:33:19.345146Z",
          "iopub.status.idle": "2021-10-01T17:33:19.554071Z",
          "shell.execute_reply.started": "2021-10-01T17:33:19.345112Z",
          "shell.execute_reply": "2021-10-01T17:33:19.553337Z"
        },
        "trusted": true,
        "id": "3IO84pomIJmy"
      },
      "source": [
        "# del _33, _34, _35, _43,_56, _57\n",
        "# gc.collect()"
      ],
      "execution_count": null,
      "outputs": []
    },
    {
      "cell_type": "code",
      "metadata": {
        "execution": {
          "iopub.status.busy": "2021-10-01T17:33:34.784485Z",
          "iopub.execute_input": "2021-10-01T17:33:34.784769Z"
        },
        "trusted": true,
        "id": "vZMMshiQIJmz",
        "colab": {
          "base_uri": "https://localhost:8080/",
          "height": 552,
          "referenced_widgets": [
            "64280acbebcf4d2e8654659460c44d61",
            "a69a80f109c94303bd1b936e77701f56",
            "bac30831b23049dca988363a2e0b784f",
            "ab0d23b5b4444ab481fa85936dd87ceb",
            "5626b783f83047e4b96c6bb30884f4b2",
            "556e994afdf84cb7abe88ba01ada4ff1",
            "bc0f3767141844e8a639f809d5ed389a",
            "40af19c1507f4fc19f567101e0dc9d9a",
            "0892e1711e244401b0fef56793cab3ca",
            "ea3bfa3960174c2c9dbf7cd8321315f8",
            "f6142ccee39d47cd962dac969e0d50c2"
          ]
        },
        "outputId": "308d930a-4b66-4b6a-dedb-218af6a1c6cf"
      },
      "source": [
        "trainer.fit(model, data_module)"
      ],
      "execution_count": 64,
      "outputs": [
        {
          "output_type": "stream",
          "name": "stderr",
          "text": [
            "LOCAL_RANK: 0 - CUDA_VISIBLE_DEVICES: [0]\n",
            "\n",
            "  | Name       | Type      | Params\n",
            "-----------------------------------------\n",
            "0 | bert       | BertModel | 108 M \n",
            "1 | classifier | Linear    | 4.6 K \n",
            "2 | criterion  | BCELoss   | 0     \n",
            "-----------------------------------------\n",
            "108 M     Trainable params\n",
            "0         Non-trainable params\n",
            "108 M     Total params\n",
            "433.260   Total estimated model params size (MB)\n"
          ]
        },
        {
          "output_type": "display_data",
          "data": {
            "application/vnd.jupyter.widget-view+json": {
              "model_id": "64280acbebcf4d2e8654659460c44d61",
              "version_minor": 0,
              "version_major": 2
            },
            "text/plain": [
              "Validation sanity check: 0it [00:00, ?it/s]"
            ]
          },
          "metadata": {}
        },
        {
          "output_type": "stream",
          "name": "stderr",
          "text": [
            "/usr/local/lib/python3.7/dist-packages/torch/utils/data/dataloader.py:481: UserWarning: This DataLoader will create 4 worker processes in total. Our suggested max number of worker in current system is 2, which is smaller than what this DataLoader is going to create. Please be aware that excessive worker creation might get DataLoader running slow or even freeze, lower the worker number to avoid potential slowness/freeze if necessary.\n",
            "  cpuset_checked))\n",
            "Global seed set to 42\n"
          ]
        },
        {
          "output_type": "display_data",
          "data": {
            "application/vnd.jupyter.widget-view+json": {
              "model_id": "19e26c587b5f4527941e0853df7d2ee3",
              "version_minor": 0,
              "version_major": 2
            },
            "text/plain": [
              "Training: -1it [00:00, ?it/s]"
            ]
          },
          "metadata": {}
        },
        {
          "output_type": "stream",
          "name": "stderr",
          "text": [
            "/usr/local/lib/python3.7/dist-packages/pytorch_lightning/trainer/connectors/logger_connector/result.py:406: LightningDeprecationWarning: One of the returned values {'predictions', 'labels'} has a `grad_fn`. We will detach it automatically but this behaviour will change in v1.6. Please detach it manually: `return {'loss': ..., 'something': something.detach()}`\n",
            "  f\"One of the returned values {set(extra.keys())} has a `grad_fn`. We will detach it automatically\"\n"
          ]
        },
        {
          "output_type": "display_data",
          "data": {
            "application/vnd.jupyter.widget-view+json": {
              "model_id": "8490c029aeb0483c8b270e2e4f7ddeca",
              "version_minor": 0,
              "version_major": 2
            },
            "text/plain": [
              "Validating: 0it [00:00, ?it/s]"
            ]
          },
          "metadata": {}
        },
        {
          "output_type": "stream",
          "name": "stderr",
          "text": [
            "/usr/local/lib/python3.7/dist-packages/deprecate/deprecation.py:115: LightningDeprecationWarning: The `auroc` was deprecated since v1.3.0 in favor of `torchmetrics.functional.classification.auroc.auroc`. It will be removed in v1.5.0.\n",
            "  stream(template_mgs % msg_args)\n",
            "/usr/local/lib/python3.7/dist-packages/torchmetrics/utilities/prints.py:36: UserWarning: `pos_label` automatically set 1.\n",
            "  warnings.warn(*args, **kwargs)\n",
            "Epoch 0, global step 122: val_loss reached 0.41880 (best 0.41880), saving model to \"/content/checkpoints/best-checkpoint.ckpt\" as top 1\n"
          ]
        },
        {
          "output_type": "display_data",
          "data": {
            "application/vnd.jupyter.widget-view+json": {
              "model_id": "c3254198a91f4dd98083e4ad8c9d0b89",
              "version_minor": 0,
              "version_major": 2
            },
            "text/plain": [
              "Validating: 0it [00:00, ?it/s]"
            ]
          },
          "metadata": {}
        },
        {
          "output_type": "stream",
          "name": "stderr",
          "text": [
            "Epoch 1, global step 245: val_loss reached 0.31136 (best 0.31136), saving model to \"/content/checkpoints/best-checkpoint.ckpt\" as top 1\n"
          ]
        },
        {
          "output_type": "display_data",
          "data": {
            "application/vnd.jupyter.widget-view+json": {
              "model_id": "6b7d55305afa4b0e90a32674a7036193",
              "version_minor": 0,
              "version_major": 2
            },
            "text/plain": [
              "Validating: 0it [00:00, ?it/s]"
            ]
          },
          "metadata": {}
        },
        {
          "output_type": "stream",
          "name": "stderr",
          "text": [
            "Epoch 2, global step 368: val_loss reached 0.25506 (best 0.25506), saving model to \"/content/checkpoints/best-checkpoint.ckpt\" as top 1\n"
          ]
        },
        {
          "output_type": "display_data",
          "data": {
            "application/vnd.jupyter.widget-view+json": {
              "model_id": "5c1b7fb0dc3440ca9380da005a412ada",
              "version_minor": 0,
              "version_major": 2
            },
            "text/plain": [
              "Validating: 0it [00:00, ?it/s]"
            ]
          },
          "metadata": {}
        },
        {
          "output_type": "stream",
          "name": "stderr",
          "text": [
            "Epoch 3, global step 491: val_loss reached 0.23740 (best 0.23740), saving model to \"/content/checkpoints/best-checkpoint.ckpt\" as top 1\n"
          ]
        },
        {
          "output_type": "display_data",
          "data": {
            "application/vnd.jupyter.widget-view+json": {
              "model_id": "8cb32cf4970b463ea1bc31d4123ec727",
              "version_minor": 0,
              "version_major": 2
            },
            "text/plain": [
              "Validating: 0it [00:00, ?it/s]"
            ]
          },
          "metadata": {}
        },
        {
          "output_type": "stream",
          "name": "stderr",
          "text": [
            "Epoch 4, global step 614: val_loss reached 0.23181 (best 0.23181), saving model to \"/content/checkpoints/best-checkpoint.ckpt\" as top 1\n"
          ]
        }
      ]
    },
    {
      "cell_type": "code",
      "metadata": {
        "trusted": true,
        "id": "L3VPhOdNIJmz",
        "colab": {
          "base_uri": "https://localhost:8080/",
          "height": 243
        },
        "outputId": "1345f5a6-75e7-46e5-b36c-224de28c9615"
      },
      "source": [
        "trainer.test()\n",
        "gc.collect()"
      ],
      "execution_count": 65,
      "outputs": [
        {
          "output_type": "stream",
          "name": "stderr",
          "text": [
            "/usr/local/lib/python3.7/dist-packages/pytorch_lightning/core/datamodule.py:424: LightningDeprecationWarning: DataModule.prepare_data has already been called, so it will not be called again. In v1.6 this behavior will change to always call DataModule.prepare_data.\n",
            "  f\"DataModule.{name} has already been called, so it will not be called again. \"\n",
            "LOCAL_RANK: 0 - CUDA_VISIBLE_DEVICES: [0]\n",
            "/usr/local/lib/python3.7/dist-packages/torch/utils/data/dataloader.py:481: UserWarning: This DataLoader will create 4 worker processes in total. Our suggested max number of worker in current system is 2, which is smaller than what this DataLoader is going to create. Please be aware that excessive worker creation might get DataLoader running slow or even freeze, lower the worker number to avoid potential slowness/freeze if necessary.\n",
            "  cpuset_checked))\n"
          ]
        },
        {
          "output_type": "display_data",
          "data": {
            "application/vnd.jupyter.widget-view+json": {
              "model_id": "9dfe2701ebb542d9a0a08cd07c86a962",
              "version_minor": 0,
              "version_major": 2
            },
            "text/plain": [
              "Testing: 0it [00:00, ?it/s]"
            ]
          },
          "metadata": {}
        },
        {
          "output_type": "stream",
          "name": "stdout",
          "text": [
            "--------------------------------------------------------------------------------\n",
            "DATALOADER:0 TEST RESULTS\n",
            "{'test_loss': 0.23180721700191498}\n",
            "--------------------------------------------------------------------------------\n"
          ]
        },
        {
          "output_type": "execute_result",
          "data": {
            "text/plain": [
              "32608"
            ]
          },
          "metadata": {},
          "execution_count": 65
        }
      ]
    },
    {
      "cell_type": "markdown",
      "metadata": {
        "id": "1bxt6s4kIJmz"
      },
      "source": [
        "**Predictions**\n",
        "mall sample of predictions after the training is complete. This builds intuition about the quality of the predictions (qualitative evaluation).\n",
        "\n",
        "Loading the best version (according to the validation loss) of our model:"
      ]
    },
    {
      "cell_type": "code",
      "metadata": {
        "trusted": true,
        "id": "n5Ml0EmMIJmz",
        "colab": {
          "base_uri": "https://localhost:8080/"
        },
        "outputId": "4be88151-596b-4e3b-9143-14562d10f022"
      },
      "source": [
        "trained_model = ToxicCommentTagger.load_from_checkpoint(\n",
        "  trainer.checkpoint_callback.best_model_path,\n",
        "  n_classes=len(LABEL_COLUMNS)\n",
        ")\n",
        "trained_model.eval()\n",
        "trained_model.freeze()"
      ],
      "execution_count": 67,
      "outputs": [
        {
          "output_type": "stream",
          "name": "stderr",
          "text": [
            "Some weights of the model checkpoint at bert-base-cased were not used when initializing BertModel: ['cls.predictions.transform.dense.bias', 'cls.predictions.transform.LayerNorm.bias', 'cls.seq_relationship.weight', 'cls.predictions.bias', 'cls.seq_relationship.bias', 'cls.predictions.transform.LayerNorm.weight', 'cls.predictions.transform.dense.weight', 'cls.predictions.decoder.weight']\n",
            "- This IS expected if you are initializing BertModel from the checkpoint of a model trained on another task or with another architecture (e.g. initializing a BertForSequenceClassification model from a BertForPreTraining model).\n",
            "- This IS NOT expected if you are initializing BertModel from the checkpoint of a model that you expect to be exactly identical (initializing a BertForSequenceClassification model from a BertForSequenceClassification model).\n"
          ]
        }
      ]
    },
    {
      "cell_type": "code",
      "metadata": {
        "trusted": true,
        "id": "uUypqQsqIJmz",
        "colab": {
          "base_uri": "https://localhost:8080/"
        },
        "outputId": "ee803bc5-80f8-418d-9b3a-65030056517d"
      },
      "source": [
        "test_comment = \"very ugly and rude service. mck was very dirty...very very Filthy dirty thru no service\"\n",
        "encoding = tokenizer.encode_plus(\n",
        "  test_comment,\n",
        "  add_special_tokens=True,\n",
        "  max_length=512,\n",
        "  return_token_type_ids=False,\n",
        "  padding=\"max_length\",\n",
        "  return_attention_mask=True,\n",
        "  return_tensors='pt',\n",
        ")\n",
        "_, test_prediction = trained_model(encoding[\"input_ids\"], encoding[\"attention_mask\"])\n",
        "test_prediction = test_prediction.flatten().numpy()\n",
        "for label, prediction in zip(LABEL_COLUMNS, test_prediction):\n",
        "  print(f\"{label}: {prediction}\")"
      ],
      "execution_count": 68,
      "outputs": [
        {
          "output_type": "stream",
          "name": "stdout",
          "text": [
            "Filthy: 0.5499488115310669\n",
            "BadFood: 0.16847604513168335\n",
            "ScaryMcDs: 0.24505358934402466\n",
            "Cost: 0.04900505766272545\n",
            "Service: 0.5264751315116882\n",
            "Order_issue: 0.05282144248485565\n"
          ]
        }
      ]
    },
    {
      "cell_type": "markdown",
      "metadata": {
        "id": "NbNUL7OEIJmz"
      },
      "source": [
        "![image.png](attachment:9a2047f9-f854-4738-84d3-ca269fbe0bc7.png)"
      ]
    },
    {
      "cell_type": "code",
      "metadata": {
        "trusted": true,
        "id": "maDXAtqYIJm0",
        "colab": {
          "base_uri": "https://localhost:8080/"
        },
        "outputId": "857e256f-d4eb-48fe-9e24-12223c650cb5"
      },
      "source": [
        "THRESHOLD = 0.5\n",
        "test_comment = \"You are such a loser! cost alot . very expensive\"\n",
        "encoding = tokenizer.encode_plus(\n",
        "  test_comment,\n",
        "  add_special_tokens=True,\n",
        "  max_length=512,\n",
        "  return_token_type_ids=False,\n",
        "  padding=\"max_length\",\n",
        "  return_attention_mask=True,\n",
        "  return_tensors='pt',\n",
        ")\n",
        "_, test_prediction = trained_model(encoding[\"input_ids\"], encoding[\"attention_mask\"])\n",
        "test_prediction = test_prediction.flatten().numpy()\n",
        "for label, prediction in zip(LABEL_COLUMNS, test_prediction):\n",
        "  if prediction < THRESHOLD:\n",
        "    continue\n",
        "  print(f\"{label}: {prediction}\")"
      ],
      "execution_count": 69,
      "outputs": [
        {
          "output_type": "stream",
          "name": "stdout",
          "text": [
            "Cost: 0.8741320371627808\n"
          ]
        }
      ]
    },
    {
      "cell_type": "markdown",
      "metadata": {
        "id": "YwWohLS9IJm0"
      },
      "source": [
        "### Evaluation"
      ]
    },
    {
      "cell_type": "code",
      "metadata": {
        "trusted": true,
        "id": "6YLku50IIJm0",
        "colab": {
          "base_uri": "https://localhost:8080/",
          "height": 49
        },
        "outputId": "6ea657d7-120e-4c2a-f8c4-ada25c539de9"
      },
      "source": [
        "device = torch.device('cuda' if torch.cuda.is_available() else 'cpu')\n",
        "trained_model = trained_model.to(device)\n",
        "val_dataset = ToxicCommentsDataset(\n",
        "  val_df,\n",
        "  tokenizer,\n",
        "  max_token_len=MAX_TOKEN_COUNT\n",
        ")\n",
        "predictions = []\n",
        "labels = []\n",
        "for item in tqdm(val_dataset):\n",
        "  _, prediction = trained_model(\n",
        "    item[\"input_ids\"].unsqueeze(dim=0).to(device),\n",
        "    item[\"attention_mask\"].unsqueeze(dim=0).to(device)\n",
        "  )\n",
        "  predictions.append(prediction.flatten())\n",
        "  labels.append(item[\"labels\"].int())\n",
        "predictions = torch.stack(predictions).detach().cpu()\n",
        "labels = torch.stack(labels).detach().cpu()"
      ],
      "execution_count": 70,
      "outputs": [
        {
          "output_type": "display_data",
          "data": {
            "application/vnd.jupyter.widget-view+json": {
              "model_id": "78426587dd7f4856bb81357a3013dbc2",
              "version_minor": 0,
              "version_major": 2
            },
            "text/plain": [
              "  0%|          | 0/409 [00:00<?, ?it/s]"
            ]
          },
          "metadata": {}
        }
      ]
    },
    {
      "cell_type": "code",
      "metadata": {
        "trusted": true,
        "id": "MLqt27dnIJm0",
        "colab": {
          "base_uri": "https://localhost:8080/"
        },
        "outputId": "3bc7fb32-f662-4834-af7b-e0c5dbfa4f0f"
      },
      "source": [
        "accuracy(predictions, labels, threshold=THRESHOLD)"
      ],
      "execution_count": 71,
      "outputs": [
        {
          "output_type": "stream",
          "name": "stderr",
          "text": [
            "/usr/local/lib/python3.7/dist-packages/deprecate/deprecation.py:115: LightningDeprecationWarning: The `accuracy` was deprecated since v1.3.0 in favor of `torchmetrics.functional.classification.accuracy.accuracy`. It will be removed in v1.5.0.\n",
            "  stream(template_mgs % msg_args)\n"
          ]
        },
        {
          "output_type": "execute_result",
          "data": {
            "text/plain": [
              "tensor(0.9156)"
            ]
          },
          "metadata": {},
          "execution_count": 71
        }
      ]
    },
    {
      "cell_type": "markdown",
      "metadata": {
        "id": "iXz213tMIJm0"
      },
      "source": [
        "check the **ROC** for each tag\n",
        "\n"
      ]
    },
    {
      "cell_type": "code",
      "metadata": {
        "trusted": true,
        "id": "U3n7P8O8IJm0",
        "colab": {
          "base_uri": "https://localhost:8080/"
        },
        "outputId": "1327963d-54b7-48c5-e366-6cc968181747"
      },
      "source": [
        "print(\"AUROC per tag\")\n",
        "for i, name in enumerate(LABEL_COLUMNS):\n",
        "  tag_auroc = auroc(predictions[:, i], labels[:, i], pos_label=1)\n",
        "  print(f\"{name}: {tag_auroc}\")"
      ],
      "execution_count": 72,
      "outputs": [
        {
          "output_type": "stream",
          "name": "stdout",
          "text": [
            "AUROC per tag\n",
            "Filthy: 0.9371462464332581\n",
            "BadFood: 0.8826379776000977\n",
            "ScaryMcDs: 0.7994555234909058\n",
            "Cost: 0.9970320463180542\n",
            "Service: 0.9259792566299438\n",
            "Order_issue: 0.9359007477760315\n"
          ]
        }
      ]
    },
    {
      "cell_type": "markdown",
      "metadata": {
        "id": "Qk94Ag81IJm1"
      },
      "source": [
        "Check the **classification report** for each class. To make this work, we must apply thresholding to the predictions"
      ]
    },
    {
      "cell_type": "code",
      "metadata": {
        "trusted": true,
        "id": "WVii5VzwIJm1",
        "colab": {
          "base_uri": "https://localhost:8080/"
        },
        "outputId": "630deaa8-63fc-4723-845d-27200565d2db"
      },
      "source": [
        "gc.collect()\n",
        "\n",
        "y_pred = predictions.numpy()\n",
        "y_true = labels.numpy()\n",
        "upper, lower = 1, 0\n",
        "y_pred = np.where(y_pred > THRESHOLD, upper, lower)\n",
        "print(classification_report(\n",
        "  y_true,\n",
        "  y_pred,\n",
        "  target_names=LABEL_COLUMNS,\n",
        "  zero_division=0\n",
        "))"
      ],
      "execution_count": 73,
      "outputs": [
        {
          "output_type": "stream",
          "name": "stdout",
          "text": [
            "              precision    recall  f1-score   support\n",
            "\n",
            "      Filthy       1.00      0.39      0.56        36\n",
            "     BadFood       0.69      0.61      0.65        70\n",
            "   ScaryMcDs       0.50      0.03      0.06        29\n",
            "        Cost       0.96      0.94      0.95        53\n",
            "     Service       0.88      0.81      0.84       217\n",
            " Order_issue       0.84      0.75      0.80       101\n",
            "\n",
            "   micro avg       0.86      0.71      0.78       506\n",
            "   macro avg       0.81      0.59      0.64       506\n",
            "weighted avg       0.84      0.71      0.75       506\n",
            " samples avg       0.65      0.61      0.62       506\n",
            "\n"
          ]
        }
      ]
    },
    {
      "cell_type": "markdown",
      "metadata": {
        "id": "1pLMsOh6IJm1"
      },
      "source": [
        ""
      ]
    },
    {
      "cell_type": "markdown",
      "metadata": {
        "id": "8omB8XD7IJm1"
      },
      "source": [
        "![image.png](attachment:11fbcf9a-34cb-41fa-abca-e489bf49334f.png)"
      ]
    },
    {
      "cell_type": "code",
      "metadata": {
        "trusted": true,
        "id": "Pjq1C1WVIJm1",
        "colab": {
          "base_uri": "https://localhost:8080/"
        },
        "outputId": "0949149f-4ba8-4128-e99b-c0fcb1ab51a3"
      },
      "source": [
        "print('finish')"
      ],
      "execution_count": null,
      "outputs": [
        {
          "output_type": "stream",
          "name": "stdout",
          "text": [
            "finish\n"
          ]
        }
      ]
    },
    {
      "cell_type": "code",
      "metadata": {
        "id": "kCzJaxj7IJm1"
      },
      "source": [
        "device = 'cuda'"
      ],
      "execution_count": null,
      "outputs": []
    },
    {
      "cell_type": "code",
      "metadata": {
        "id": "DI1-j6OlsR08"
      },
      "source": [
        ""
      ],
      "execution_count": null,
      "outputs": []
    }
  ]
}